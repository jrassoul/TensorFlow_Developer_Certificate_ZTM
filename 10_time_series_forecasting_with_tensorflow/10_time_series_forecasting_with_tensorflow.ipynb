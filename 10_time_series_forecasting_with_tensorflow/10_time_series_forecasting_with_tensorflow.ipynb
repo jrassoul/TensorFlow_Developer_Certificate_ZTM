{
  "cells": [
    {
      "cell_type": "markdown",
      "metadata": {
        "id": "IOiF7zXWP_R4"
      },
      "source": [
        "# Time series forcesting fundamentals with TensorFlow + Milestone Project 3 : BitPredict\n",
        "\n",
        "Let's wrtie some TesnroFlow code to predict the price of Bitcoin based on the historical price of Bitcoin.\n",
        "\n",
        "**Note:** This is nont financial advice.\n",
        "\n",
        "links :\n",
        "* All resources: https://github.com/mrdbourke/tensorflow-deep-learning.\n",
        "* Bo ok version of actual code/text : https://dev.mrdbourke.com/tensorflow-deep-learning/10_time_series_forecasting_in_tensorflow/."
      ]
    },
    {
      "cell_type": "markdown",
      "metadata": {
        "id": "i1qRxVCZVBc0"
      },
      "source": [
        "## Get data\n",
        "\n",
        "We're going to be using the historical price data of Bitcoin to try and predict the future price of Bitcoin, we downloaded the data from here :"
      ]
    },
    {
      "cell_type": "code",
      "execution_count": 1,
      "metadata": {
        "colab": {
          "base_uri": "https://localhost:8080/"
        },
        "id": "125qzWL5QX0R",
        "outputId": "d6a814f2-3c22-49a4-87c6-062a60205205"
      },
      "outputs": [
        {
          "output_type": "stream",
          "name": "stdout",
          "text": [
            "--2023-04-07 20:13:58--  https://raw.githubusercontent.com/mrdbourke/tensorflow-deep-learning/main/extras/BTC_USD_2013-10-01_2021-05-18-CoinDesk.csv\n",
            "Resolving raw.githubusercontent.com (raw.githubusercontent.com)... 185.199.110.133, 185.199.108.133, 185.199.109.133, ...\n",
            "Connecting to raw.githubusercontent.com (raw.githubusercontent.com)|185.199.110.133|:443... connected.\n",
            "HTTP request sent, awaiting response... 200 OK\n",
            "Length: 178509 (174K) [text/plain]\n",
            "Saving to: ‘BTC_USD_2013-10-01_2021-05-18-CoinDesk.csv’\n",
            "\n",
            "\r          BTC_USD_2   0%[                    ]       0  --.-KB/s               \rBTC_USD_2013-10-01_ 100%[===================>] 174.33K  --.-KB/s    in 0.02s   \n",
            "\n",
            "2023-04-07 20:13:58 (7.12 MB/s) - ‘BTC_USD_2013-10-01_2021-05-18-CoinDesk.csv’ saved [178509/178509]\n",
            "\n"
          ]
        }
      ],
      "source": [
        "!wget https://raw.githubusercontent.com/mrdbourke/tensorflow-deep-learning/main/extras/BTC_USD_2013-10-01_2021-05-18-CoinDesk.csv"
      ]
    },
    {
      "cell_type": "markdown",
      "metadata": {
        "id": "5pCBF7-DeAeN"
      },
      "source": [
        "### importing time series"
      ]
    },
    {
      "cell_type": "code",
      "execution_count": 2,
      "metadata": {
        "colab": {
          "base_uri": "https://localhost:8080/",
          "height": 0
        },
        "id": "ty1hGC8NVGMS",
        "outputId": "a8fd9bb8-12a9-4cb4-c19a-fac460370236"
      },
      "outputs": [
        {
          "output_type": "execute_result",
          "data": {
            "text/plain": [
              "           Currency  Closing Price (USD)  24h Open (USD)  24h High (USD)  \\\n",
              "Date                                                                       \n",
              "2013-10-01      BTC            123.65499       124.30466       124.75166   \n",
              "2013-10-02      BTC            125.45500       123.65499       125.75850   \n",
              "2013-10-03      BTC            108.58483       125.45500       125.66566   \n",
              "2013-10-04      BTC            118.67466       108.58483       118.67500   \n",
              "2013-10-05      BTC            121.33866       118.67466       121.93633   \n",
              "\n",
              "            24h Low (USD)  \n",
              "Date                       \n",
              "2013-10-01      122.56349  \n",
              "2013-10-02      123.63383  \n",
              "2013-10-03       83.32833  \n",
              "2013-10-04      107.05816  \n",
              "2013-10-05      118.00566  "
            ],
            "text/html": [
              "\n",
              "  <div id=\"df-1d2401d5-23dd-4260-93d5-5c6162252217\">\n",
              "    <div class=\"colab-df-container\">\n",
              "      <div>\n",
              "<style scoped>\n",
              "    .dataframe tbody tr th:only-of-type {\n",
              "        vertical-align: middle;\n",
              "    }\n",
              "\n",
              "    .dataframe tbody tr th {\n",
              "        vertical-align: top;\n",
              "    }\n",
              "\n",
              "    .dataframe thead th {\n",
              "        text-align: right;\n",
              "    }\n",
              "</style>\n",
              "<table border=\"1\" class=\"dataframe\">\n",
              "  <thead>\n",
              "    <tr style=\"text-align: right;\">\n",
              "      <th></th>\n",
              "      <th>Currency</th>\n",
              "      <th>Closing Price (USD)</th>\n",
              "      <th>24h Open (USD)</th>\n",
              "      <th>24h High (USD)</th>\n",
              "      <th>24h Low (USD)</th>\n",
              "    </tr>\n",
              "    <tr>\n",
              "      <th>Date</th>\n",
              "      <th></th>\n",
              "      <th></th>\n",
              "      <th></th>\n",
              "      <th></th>\n",
              "      <th></th>\n",
              "    </tr>\n",
              "  </thead>\n",
              "  <tbody>\n",
              "    <tr>\n",
              "      <th>2013-10-01</th>\n",
              "      <td>BTC</td>\n",
              "      <td>123.65499</td>\n",
              "      <td>124.30466</td>\n",
              "      <td>124.75166</td>\n",
              "      <td>122.56349</td>\n",
              "    </tr>\n",
              "    <tr>\n",
              "      <th>2013-10-02</th>\n",
              "      <td>BTC</td>\n",
              "      <td>125.45500</td>\n",
              "      <td>123.65499</td>\n",
              "      <td>125.75850</td>\n",
              "      <td>123.63383</td>\n",
              "    </tr>\n",
              "    <tr>\n",
              "      <th>2013-10-03</th>\n",
              "      <td>BTC</td>\n",
              "      <td>108.58483</td>\n",
              "      <td>125.45500</td>\n",
              "      <td>125.66566</td>\n",
              "      <td>83.32833</td>\n",
              "    </tr>\n",
              "    <tr>\n",
              "      <th>2013-10-04</th>\n",
              "      <td>BTC</td>\n",
              "      <td>118.67466</td>\n",
              "      <td>108.58483</td>\n",
              "      <td>118.67500</td>\n",
              "      <td>107.05816</td>\n",
              "    </tr>\n",
              "    <tr>\n",
              "      <th>2013-10-05</th>\n",
              "      <td>BTC</td>\n",
              "      <td>121.33866</td>\n",
              "      <td>118.67466</td>\n",
              "      <td>121.93633</td>\n",
              "      <td>118.00566</td>\n",
              "    </tr>\n",
              "  </tbody>\n",
              "</table>\n",
              "</div>\n",
              "      <button class=\"colab-df-convert\" onclick=\"convertToInteractive('df-1d2401d5-23dd-4260-93d5-5c6162252217')\"\n",
              "              title=\"Convert this dataframe to an interactive table.\"\n",
              "              style=\"display:none;\">\n",
              "        \n",
              "  <svg xmlns=\"http://www.w3.org/2000/svg\" height=\"24px\"viewBox=\"0 0 24 24\"\n",
              "       width=\"24px\">\n",
              "    <path d=\"M0 0h24v24H0V0z\" fill=\"none\"/>\n",
              "    <path d=\"M18.56 5.44l.94 2.06.94-2.06 2.06-.94-2.06-.94-.94-2.06-.94 2.06-2.06.94zm-11 1L8.5 8.5l.94-2.06 2.06-.94-2.06-.94L8.5 2.5l-.94 2.06-2.06.94zm10 10l.94 2.06.94-2.06 2.06-.94-2.06-.94-.94-2.06-.94 2.06-2.06.94z\"/><path d=\"M17.41 7.96l-1.37-1.37c-.4-.4-.92-.59-1.43-.59-.52 0-1.04.2-1.43.59L10.3 9.45l-7.72 7.72c-.78.78-.78 2.05 0 2.83L4 21.41c.39.39.9.59 1.41.59.51 0 1.02-.2 1.41-.59l7.78-7.78 2.81-2.81c.8-.78.8-2.07 0-2.86zM5.41 20L4 18.59l7.72-7.72 1.47 1.35L5.41 20z\"/>\n",
              "  </svg>\n",
              "      </button>\n",
              "      \n",
              "  <style>\n",
              "    .colab-df-container {\n",
              "      display:flex;\n",
              "      flex-wrap:wrap;\n",
              "      gap: 12px;\n",
              "    }\n",
              "\n",
              "    .colab-df-convert {\n",
              "      background-color: #E8F0FE;\n",
              "      border: none;\n",
              "      border-radius: 50%;\n",
              "      cursor: pointer;\n",
              "      display: none;\n",
              "      fill: #1967D2;\n",
              "      height: 32px;\n",
              "      padding: 0 0 0 0;\n",
              "      width: 32px;\n",
              "    }\n",
              "\n",
              "    .colab-df-convert:hover {\n",
              "      background-color: #E2EBFA;\n",
              "      box-shadow: 0px 1px 2px rgba(60, 64, 67, 0.3), 0px 1px 3px 1px rgba(60, 64, 67, 0.15);\n",
              "      fill: #174EA6;\n",
              "    }\n",
              "\n",
              "    [theme=dark] .colab-df-convert {\n",
              "      background-color: #3B4455;\n",
              "      fill: #D2E3FC;\n",
              "    }\n",
              "\n",
              "    [theme=dark] .colab-df-convert:hover {\n",
              "      background-color: #434B5C;\n",
              "      box-shadow: 0px 1px 3px 1px rgba(0, 0, 0, 0.15);\n",
              "      filter: drop-shadow(0px 1px 2px rgba(0, 0, 0, 0.3));\n",
              "      fill: #FFFFFF;\n",
              "    }\n",
              "  </style>\n",
              "\n",
              "      <script>\n",
              "        const buttonEl =\n",
              "          document.querySelector('#df-1d2401d5-23dd-4260-93d5-5c6162252217 button.colab-df-convert');\n",
              "        buttonEl.style.display =\n",
              "          google.colab.kernel.accessAllowed ? 'block' : 'none';\n",
              "\n",
              "        async function convertToInteractive(key) {\n",
              "          const element = document.querySelector('#df-1d2401d5-23dd-4260-93d5-5c6162252217');\n",
              "          const dataTable =\n",
              "            await google.colab.kernel.invokeFunction('convertToInteractive',\n",
              "                                                     [key], {});\n",
              "          if (!dataTable) return;\n",
              "\n",
              "          const docLinkHtml = 'Like what you see? Visit the ' +\n",
              "            '<a target=\"_blank\" href=https://colab.research.google.com/notebooks/data_table.ipynb>data table notebook</a>'\n",
              "            + ' to learn more about interactive tables.';\n",
              "          element.innerHTML = '';\n",
              "          dataTable['output_type'] = 'display_data';\n",
              "          await google.colab.output.renderOutput(dataTable, element);\n",
              "          const docLink = document.createElement('div');\n",
              "          docLink.innerHTML = docLinkHtml;\n",
              "          element.appendChild(docLink);\n",
              "        }\n",
              "      </script>\n",
              "    </div>\n",
              "  </div>\n",
              "  "
            ]
          },
          "metadata": {},
          "execution_count": 2
        }
      ],
      "source": [
        "# import with pandas\n",
        "import pandas as pd\n",
        "# Let's read in our Bitcoin data and parse the data\n",
        "df = pd.read_csv('BTC_USD_2013-10-01_2021-05-18-CoinDesk.csv',\n",
        "                        parse_dates = [\"Date\"],\n",
        "                        index_col=[\"Date\"]) # parse the data column and tell pandas column 1 is a datetime\n",
        "df.head()"
      ]
    },
    {
      "cell_type": "code",
      "execution_count": 3,
      "metadata": {
        "colab": {
          "base_uri": "https://localhost:8080/",
          "height": 0
        },
        "id": "aoG1YeV7fB5s",
        "outputId": "13f67c52-7abd-4ac0-fec9-750898582831"
      },
      "outputs": [
        {
          "output_type": "execute_result",
          "data": {
            "text/plain": [
              "           Currency  Closing Price (USD)  24h Open (USD)  24h High (USD)  \\\n",
              "Date                                                                       \n",
              "2021-05-14      BTC         49764.132082    49596.778891    51448.798576   \n",
              "2021-05-15      BTC         50032.693137    49717.354353    51578.312545   \n",
              "2021-05-16      BTC         47885.625255    49926.035067    50690.802950   \n",
              "2021-05-17      BTC         45604.615754    46805.537852    49670.414174   \n",
              "2021-05-18      BTC         43144.471291    46439.336570    46622.853437   \n",
              "\n",
              "            24h Low (USD)  \n",
              "Date                       \n",
              "2021-05-14   46294.720180  \n",
              "2021-05-15   48944.346536  \n",
              "2021-05-16   47005.102292  \n",
              "2021-05-17   43868.638969  \n",
              "2021-05-18   42102.346430  "
            ],
            "text/html": [
              "\n",
              "  <div id=\"df-a6ebe00d-c573-4247-a48c-929c4c6c8801\">\n",
              "    <div class=\"colab-df-container\">\n",
              "      <div>\n",
              "<style scoped>\n",
              "    .dataframe tbody tr th:only-of-type {\n",
              "        vertical-align: middle;\n",
              "    }\n",
              "\n",
              "    .dataframe tbody tr th {\n",
              "        vertical-align: top;\n",
              "    }\n",
              "\n",
              "    .dataframe thead th {\n",
              "        text-align: right;\n",
              "    }\n",
              "</style>\n",
              "<table border=\"1\" class=\"dataframe\">\n",
              "  <thead>\n",
              "    <tr style=\"text-align: right;\">\n",
              "      <th></th>\n",
              "      <th>Currency</th>\n",
              "      <th>Closing Price (USD)</th>\n",
              "      <th>24h Open (USD)</th>\n",
              "      <th>24h High (USD)</th>\n",
              "      <th>24h Low (USD)</th>\n",
              "    </tr>\n",
              "    <tr>\n",
              "      <th>Date</th>\n",
              "      <th></th>\n",
              "      <th></th>\n",
              "      <th></th>\n",
              "      <th></th>\n",
              "      <th></th>\n",
              "    </tr>\n",
              "  </thead>\n",
              "  <tbody>\n",
              "    <tr>\n",
              "      <th>2021-05-14</th>\n",
              "      <td>BTC</td>\n",
              "      <td>49764.132082</td>\n",
              "      <td>49596.778891</td>\n",
              "      <td>51448.798576</td>\n",
              "      <td>46294.720180</td>\n",
              "    </tr>\n",
              "    <tr>\n",
              "      <th>2021-05-15</th>\n",
              "      <td>BTC</td>\n",
              "      <td>50032.693137</td>\n",
              "      <td>49717.354353</td>\n",
              "      <td>51578.312545</td>\n",
              "      <td>48944.346536</td>\n",
              "    </tr>\n",
              "    <tr>\n",
              "      <th>2021-05-16</th>\n",
              "      <td>BTC</td>\n",
              "      <td>47885.625255</td>\n",
              "      <td>49926.035067</td>\n",
              "      <td>50690.802950</td>\n",
              "      <td>47005.102292</td>\n",
              "    </tr>\n",
              "    <tr>\n",
              "      <th>2021-05-17</th>\n",
              "      <td>BTC</td>\n",
              "      <td>45604.615754</td>\n",
              "      <td>46805.537852</td>\n",
              "      <td>49670.414174</td>\n",
              "      <td>43868.638969</td>\n",
              "    </tr>\n",
              "    <tr>\n",
              "      <th>2021-05-18</th>\n",
              "      <td>BTC</td>\n",
              "      <td>43144.471291</td>\n",
              "      <td>46439.336570</td>\n",
              "      <td>46622.853437</td>\n",
              "      <td>42102.346430</td>\n",
              "    </tr>\n",
              "  </tbody>\n",
              "</table>\n",
              "</div>\n",
              "      <button class=\"colab-df-convert\" onclick=\"convertToInteractive('df-a6ebe00d-c573-4247-a48c-929c4c6c8801')\"\n",
              "              title=\"Convert this dataframe to an interactive table.\"\n",
              "              style=\"display:none;\">\n",
              "        \n",
              "  <svg xmlns=\"http://www.w3.org/2000/svg\" height=\"24px\"viewBox=\"0 0 24 24\"\n",
              "       width=\"24px\">\n",
              "    <path d=\"M0 0h24v24H0V0z\" fill=\"none\"/>\n",
              "    <path d=\"M18.56 5.44l.94 2.06.94-2.06 2.06-.94-2.06-.94-.94-2.06-.94 2.06-2.06.94zm-11 1L8.5 8.5l.94-2.06 2.06-.94-2.06-.94L8.5 2.5l-.94 2.06-2.06.94zm10 10l.94 2.06.94-2.06 2.06-.94-2.06-.94-.94-2.06-.94 2.06-2.06.94z\"/><path d=\"M17.41 7.96l-1.37-1.37c-.4-.4-.92-.59-1.43-.59-.52 0-1.04.2-1.43.59L10.3 9.45l-7.72 7.72c-.78.78-.78 2.05 0 2.83L4 21.41c.39.39.9.59 1.41.59.51 0 1.02-.2 1.41-.59l7.78-7.78 2.81-2.81c.8-.78.8-2.07 0-2.86zM5.41 20L4 18.59l7.72-7.72 1.47 1.35L5.41 20z\"/>\n",
              "  </svg>\n",
              "      </button>\n",
              "      \n",
              "  <style>\n",
              "    .colab-df-container {\n",
              "      display:flex;\n",
              "      flex-wrap:wrap;\n",
              "      gap: 12px;\n",
              "    }\n",
              "\n",
              "    .colab-df-convert {\n",
              "      background-color: #E8F0FE;\n",
              "      border: none;\n",
              "      border-radius: 50%;\n",
              "      cursor: pointer;\n",
              "      display: none;\n",
              "      fill: #1967D2;\n",
              "      height: 32px;\n",
              "      padding: 0 0 0 0;\n",
              "      width: 32px;\n",
              "    }\n",
              "\n",
              "    .colab-df-convert:hover {\n",
              "      background-color: #E2EBFA;\n",
              "      box-shadow: 0px 1px 2px rgba(60, 64, 67, 0.3), 0px 1px 3px 1px rgba(60, 64, 67, 0.15);\n",
              "      fill: #174EA6;\n",
              "    }\n",
              "\n",
              "    [theme=dark] .colab-df-convert {\n",
              "      background-color: #3B4455;\n",
              "      fill: #D2E3FC;\n",
              "    }\n",
              "\n",
              "    [theme=dark] .colab-df-convert:hover {\n",
              "      background-color: #434B5C;\n",
              "      box-shadow: 0px 1px 3px 1px rgba(0, 0, 0, 0.15);\n",
              "      filter: drop-shadow(0px 1px 2px rgba(0, 0, 0, 0.3));\n",
              "      fill: #FFFFFF;\n",
              "    }\n",
              "  </style>\n",
              "\n",
              "      <script>\n",
              "        const buttonEl =\n",
              "          document.querySelector('#df-a6ebe00d-c573-4247-a48c-929c4c6c8801 button.colab-df-convert');\n",
              "        buttonEl.style.display =\n",
              "          google.colab.kernel.accessAllowed ? 'block' : 'none';\n",
              "\n",
              "        async function convertToInteractive(key) {\n",
              "          const element = document.querySelector('#df-a6ebe00d-c573-4247-a48c-929c4c6c8801');\n",
              "          const dataTable =\n",
              "            await google.colab.kernel.invokeFunction('convertToInteractive',\n",
              "                                                     [key], {});\n",
              "          if (!dataTable) return;\n",
              "\n",
              "          const docLinkHtml = 'Like what you see? Visit the ' +\n",
              "            '<a target=\"_blank\" href=https://colab.research.google.com/notebooks/data_table.ipynb>data table notebook</a>'\n",
              "            + ' to learn more about interactive tables.';\n",
              "          element.innerHTML = '';\n",
              "          dataTable['output_type'] = 'display_data';\n",
              "          await google.colab.output.renderOutput(dataTable, element);\n",
              "          const docLink = document.createElement('div');\n",
              "          docLink.innerHTML = docLinkHtml;\n",
              "          element.appendChild(docLink);\n",
              "        }\n",
              "      </script>\n",
              "    </div>\n",
              "  </div>\n",
              "  "
            ]
          },
          "metadata": {},
          "execution_count": 3
        }
      ],
      "source": [
        "df.tail()"
      ]
    },
    {
      "cell_type": "code",
      "execution_count": 4,
      "metadata": {
        "colab": {
          "base_uri": "https://localhost:8080/"
        },
        "id": "7piDV8DPVnwQ",
        "outputId": "84349a53-7bf0-4fdc-9f11-2ad400e93577"
      },
      "outputs": [
        {
          "output_type": "stream",
          "name": "stdout",
          "text": [
            "<class 'pandas.core.frame.DataFrame'>\n",
            "DatetimeIndex: 2787 entries, 2013-10-01 to 2021-05-18\n",
            "Data columns (total 5 columns):\n",
            " #   Column               Non-Null Count  Dtype  \n",
            "---  ------               --------------  -----  \n",
            " 0   Currency             2787 non-null   object \n",
            " 1   Closing Price (USD)  2787 non-null   float64\n",
            " 2   24h Open (USD)       2787 non-null   float64\n",
            " 3   24h High (USD)       2787 non-null   float64\n",
            " 4   24h Low (USD)        2787 non-null   float64\n",
            "dtypes: float64(4), object(1)\n",
            "memory usage: 130.6+ KB\n"
          ]
        }
      ],
      "source": [
        "df.info()"
      ]
    },
    {
      "cell_type": "code",
      "execution_count": 5,
      "metadata": {
        "colab": {
          "base_uri": "https://localhost:8080/"
        },
        "id": "oXR18wCYexQR",
        "outputId": "300325da-e5a1-442e-8857-d91530715b4a"
      },
      "outputs": [
        {
          "output_type": "execute_result",
          "data": {
            "text/plain": [
              "2787"
            ]
          },
          "metadata": {},
          "execution_count": 5
        }
      ],
      "source": [
        "# How many samples do we have?\n",
        "len(df)"
      ]
    },
    {
      "cell_type": "markdown",
      "metadata": {
        "id": "sELac-p4hy70"
      },
      "source": [
        "** Note:** The **seasonality** of a time series dataset is referred as the number of samples per year. So for our Bitcoin data, it has a seasonality of daily or value of 365 because we collect one sample per day meaning we'll get 365 samples per year."
      ]
    },
    {
      "cell_type": "code",
      "execution_count": 6,
      "metadata": {
        "colab": {
          "base_uri": "https://localhost:8080/",
          "height": 0
        },
        "id": "DSUqyv15gZmL",
        "outputId": "6f38c677-7971-4578-9ce5-4e4488c2a314"
      },
      "outputs": [
        {
          "output_type": "execute_result",
          "data": {
            "text/plain": [
              "                Price\n",
              "Date                 \n",
              "2013-10-01  123.65499\n",
              "2013-10-02  125.45500\n",
              "2013-10-03  108.58483\n",
              "2013-10-04  118.67466\n",
              "2013-10-05  121.33866"
            ],
            "text/html": [
              "\n",
              "  <div id=\"df-13d170f0-e515-48d7-a0bb-b3bf49c3a1b0\">\n",
              "    <div class=\"colab-df-container\">\n",
              "      <div>\n",
              "<style scoped>\n",
              "    .dataframe tbody tr th:only-of-type {\n",
              "        vertical-align: middle;\n",
              "    }\n",
              "\n",
              "    .dataframe tbody tr th {\n",
              "        vertical-align: top;\n",
              "    }\n",
              "\n",
              "    .dataframe thead th {\n",
              "        text-align: right;\n",
              "    }\n",
              "</style>\n",
              "<table border=\"1\" class=\"dataframe\">\n",
              "  <thead>\n",
              "    <tr style=\"text-align: right;\">\n",
              "      <th></th>\n",
              "      <th>Price</th>\n",
              "    </tr>\n",
              "    <tr>\n",
              "      <th>Date</th>\n",
              "      <th></th>\n",
              "    </tr>\n",
              "  </thead>\n",
              "  <tbody>\n",
              "    <tr>\n",
              "      <th>2013-10-01</th>\n",
              "      <td>123.65499</td>\n",
              "    </tr>\n",
              "    <tr>\n",
              "      <th>2013-10-02</th>\n",
              "      <td>125.45500</td>\n",
              "    </tr>\n",
              "    <tr>\n",
              "      <th>2013-10-03</th>\n",
              "      <td>108.58483</td>\n",
              "    </tr>\n",
              "    <tr>\n",
              "      <th>2013-10-04</th>\n",
              "      <td>118.67466</td>\n",
              "    </tr>\n",
              "    <tr>\n",
              "      <th>2013-10-05</th>\n",
              "      <td>121.33866</td>\n",
              "    </tr>\n",
              "  </tbody>\n",
              "</table>\n",
              "</div>\n",
              "      <button class=\"colab-df-convert\" onclick=\"convertToInteractive('df-13d170f0-e515-48d7-a0bb-b3bf49c3a1b0')\"\n",
              "              title=\"Convert this dataframe to an interactive table.\"\n",
              "              style=\"display:none;\">\n",
              "        \n",
              "  <svg xmlns=\"http://www.w3.org/2000/svg\" height=\"24px\"viewBox=\"0 0 24 24\"\n",
              "       width=\"24px\">\n",
              "    <path d=\"M0 0h24v24H0V0z\" fill=\"none\"/>\n",
              "    <path d=\"M18.56 5.44l.94 2.06.94-2.06 2.06-.94-2.06-.94-.94-2.06-.94 2.06-2.06.94zm-11 1L8.5 8.5l.94-2.06 2.06-.94-2.06-.94L8.5 2.5l-.94 2.06-2.06.94zm10 10l.94 2.06.94-2.06 2.06-.94-2.06-.94-.94-2.06-.94 2.06-2.06.94z\"/><path d=\"M17.41 7.96l-1.37-1.37c-.4-.4-.92-.59-1.43-.59-.52 0-1.04.2-1.43.59L10.3 9.45l-7.72 7.72c-.78.78-.78 2.05 0 2.83L4 21.41c.39.39.9.59 1.41.59.51 0 1.02-.2 1.41-.59l7.78-7.78 2.81-2.81c.8-.78.8-2.07 0-2.86zM5.41 20L4 18.59l7.72-7.72 1.47 1.35L5.41 20z\"/>\n",
              "  </svg>\n",
              "      </button>\n",
              "      \n",
              "  <style>\n",
              "    .colab-df-container {\n",
              "      display:flex;\n",
              "      flex-wrap:wrap;\n",
              "      gap: 12px;\n",
              "    }\n",
              "\n",
              "    .colab-df-convert {\n",
              "      background-color: #E8F0FE;\n",
              "      border: none;\n",
              "      border-radius: 50%;\n",
              "      cursor: pointer;\n",
              "      display: none;\n",
              "      fill: #1967D2;\n",
              "      height: 32px;\n",
              "      padding: 0 0 0 0;\n",
              "      width: 32px;\n",
              "    }\n",
              "\n",
              "    .colab-df-convert:hover {\n",
              "      background-color: #E2EBFA;\n",
              "      box-shadow: 0px 1px 2px rgba(60, 64, 67, 0.3), 0px 1px 3px 1px rgba(60, 64, 67, 0.15);\n",
              "      fill: #174EA6;\n",
              "    }\n",
              "\n",
              "    [theme=dark] .colab-df-convert {\n",
              "      background-color: #3B4455;\n",
              "      fill: #D2E3FC;\n",
              "    }\n",
              "\n",
              "    [theme=dark] .colab-df-convert:hover {\n",
              "      background-color: #434B5C;\n",
              "      box-shadow: 0px 1px 3px 1px rgba(0, 0, 0, 0.15);\n",
              "      filter: drop-shadow(0px 1px 2px rgba(0, 0, 0, 0.3));\n",
              "      fill: #FFFFFF;\n",
              "    }\n",
              "  </style>\n",
              "\n",
              "      <script>\n",
              "        const buttonEl =\n",
              "          document.querySelector('#df-13d170f0-e515-48d7-a0bb-b3bf49c3a1b0 button.colab-df-convert');\n",
              "        buttonEl.style.display =\n",
              "          google.colab.kernel.accessAllowed ? 'block' : 'none';\n",
              "\n",
              "        async function convertToInteractive(key) {\n",
              "          const element = document.querySelector('#df-13d170f0-e515-48d7-a0bb-b3bf49c3a1b0');\n",
              "          const dataTable =\n",
              "            await google.colab.kernel.invokeFunction('convertToInteractive',\n",
              "                                                     [key], {});\n",
              "          if (!dataTable) return;\n",
              "\n",
              "          const docLinkHtml = 'Like what you see? Visit the ' +\n",
              "            '<a target=\"_blank\" href=https://colab.research.google.com/notebooks/data_table.ipynb>data table notebook</a>'\n",
              "            + ' to learn more about interactive tables.';\n",
              "          element.innerHTML = '';\n",
              "          dataTable['output_type'] = 'display_data';\n",
              "          await google.colab.output.renderOutput(dataTable, element);\n",
              "          const docLink = document.createElement('div');\n",
              "          docLink.innerHTML = docLinkHtml;\n",
              "          element.appendChild(docLink);\n",
              "        }\n",
              "      </script>\n",
              "    </div>\n",
              "  </div>\n",
              "  "
            ]
          },
          "metadata": {},
          "execution_count": 6
        }
      ],
      "source": [
        "# Only want closing price for each day \n",
        "bitcoin_prices = pd.DataFrame(df[\"Closing Price (USD)\"]).rename(columns={\"Closing Price (USD)\": \"Price\"})\n",
        "bitcoin_prices.head()"
      ]
    },
    {
      "cell_type": "code",
      "execution_count": 7,
      "metadata": {
        "colab": {
          "base_uri": "https://localhost:8080/",
          "height": 0
        },
        "id": "2eSA1f98k6Xd",
        "outputId": "c5abb395-8ee2-4bad-85f8-c662d5e3781a"
      },
      "outputs": [
        {
          "output_type": "execute_result",
          "data": {
            "text/plain": [
              "<matplotlib.legend.Legend at 0x7f1da3f5f8b0>"
            ]
          },
          "metadata": {},
          "execution_count": 7
        },
        {
          "output_type": "display_data",
          "data": {
            "text/plain": [
              "<Figure size 1000x700 with 1 Axes>"
            ],
            "image/png": "[encoded data removed]"
          },
          "metadata": {}
        }
      ],
      "source": [
        "import matplotlib.pyplot as plt\n",
        "bitcoin_prices.plot(figsize=(10,7))\n",
        "plt.ylabel(\"BTC Price\")\n",
        "plt.title(\"Price of Bitcoin from 1 oct 2013 to 18 may 2021\", fontsize=16)\n",
        "plt.legend(fontsize=14)"
      ]
    },
    {
      "cell_type": "code",
      "execution_count": 7,
      "metadata": {
        "id": "dZB8dYhaor9h"
      },
      "outputs": [],
      "source": []
    },
    {
      "cell_type": "markdown",
      "metadata": {
        "id": "vumu8bjSuR-h"
      },
      "source": [
        "### Importing time series data with Python's CSV module\n"
      ]
    },
    {
      "cell_type": "code",
      "execution_count": 8,
      "metadata": {
        "colab": {
          "base_uri": "https://localhost:8080/"
        },
        "id": "ay_OaD7juSm-",
        "outputId": "56c64585-e278-4be6-8756-289d3b965f59"
      },
      "outputs": [
        {
          "output_type": "execute_result",
          "data": {
            "text/plain": [
              "([datetime.datetime(2013, 10, 1, 0, 0),\n",
              "  datetime.datetime(2013, 10, 2, 0, 0),\n",
              "  datetime.datetime(2013, 10, 3, 0, 0),\n",
              "  datetime.datetime(2013, 10, 4, 0, 0),\n",
              "  datetime.datetime(2013, 10, 5, 0, 0),\n",
              "  datetime.datetime(2013, 10, 6, 0, 0),\n",
              "  datetime.datetime(2013, 10, 7, 0, 0),\n",
              "  datetime.datetime(2013, 10, 8, 0, 0),\n",
              "  datetime.datetime(2013, 10, 9, 0, 0),\n",
              "  datetime.datetime(2013, 10, 10, 0, 0)],\n",
              " [123.65499,\n",
              "  125.455,\n",
              "  108.58483,\n",
              "  118.67466,\n",
              "  121.33866,\n",
              "  120.65533,\n",
              "  121.795,\n",
              "  123.033,\n",
              "  124.049,\n",
              "  125.96116])"
            ]
          },
          "metadata": {},
          "execution_count": 8
        }
      ],
      "source": [
        "# Importing and formatting historical Bitcoin data with Python\n",
        "import csv\n",
        "from datetime import datetime\n",
        "\n",
        "timesteps = []\n",
        "btc_price = []\n",
        "with open(\"/content/BTC_USD_2013-10-01_2021-05-18-CoinDesk.csv\", \"r\") as f:\n",
        "  csv_reader = csv.reader(f, delimiter= \",\")\n",
        "  next(csv_reader) # skip first line (this gets rid of the column titles)\n",
        "  for line in csv_reader:\n",
        "    timesteps.append(datetime.strptime(line[1], \"%Y-%m-%d\")) # get the dates as date (not string)\n",
        "    btc_price.append(float(line[2])) # get the closing price as floa\n",
        "\n",
        "# View first 10 of each\n",
        "timesteps[:10], btc_price[:10]"
      ]
    },
    {
      "cell_type": "code",
      "execution_count": 9,
      "metadata": {
        "colab": {
          "base_uri": "https://localhost:8080/",
          "height": 0
        },
        "id": "H18kNfB2w5ZI",
        "outputId": "15657f26-bd25-45cc-d587-8626d6a641c9"
      },
      "outputs": [
        {
          "output_type": "stream",
          "name": "stderr",
          "text": [
            "WARNING:matplotlib.legend:No artists with labels found to put in legend.  Note that artists whose label start with an underscore are ignored when legend() is called with no argument.\n"
          ]
        },
        {
          "output_type": "execute_result",
          "data": {
            "text/plain": [
              "<matplotlib.legend.Legend at 0x7f1da4358eb0>"
            ]
          },
          "metadata": {},
          "execution_count": 9
        },
        {
          "output_type": "display_data",
          "data": {
            "text/plain": [
              "<Figure size 1000x700 with 1 Axes>"
            ],
            "image/png": "[encoded data removed]"
          },
          "metadata": {}
        }
      ],
      "source": [
        "# Plot from CSV\n",
        "import matplotlib.pyplot as plt\n",
        "import numpy as np\n",
        "plt.figure(figsize=(10,7))\n",
        "plt.plot(timesteps, btc_price)\n",
        "plt.ylabel(\"BTC Price\")\n",
        "plt.title(\"Price of Bitcoin from 1 oct 2013 to 18 may 2021\", fontsize=16)\n",
        "plt.legend(fontsize=14)"
      ]
    },
    {
      "cell_type": "markdown",
      "metadata": {
        "id": "yUk6gywlyqic"
      },
      "source": [
        "## Format data part1: Create train and test sets of our time series data\n"
      ]
    },
    {
      "cell_type": "markdown",
      "metadata": {
        "id": "tX7S39odyr4b"
      },
      "source": [
        "### Creating train and test sets with time series data (the wrong way)"
      ]
    },
    {
      "cell_type": "code",
      "execution_count": 10,
      "metadata": {
        "colab": {
          "base_uri": "https://localhost:8080/",
          "height": 0
        },
        "id": "7aKXlFIszJnn",
        "outputId": "1b9c45aa-58a2-443f-aa93-d9948716a07c"
      },
      "outputs": [
        {
          "output_type": "execute_result",
          "data": {
            "text/plain": [
              "                Price\n",
              "Date                 \n",
              "2013-10-01  123.65499\n",
              "2013-10-02  125.45500\n",
              "2013-10-03  108.58483\n",
              "2013-10-04  118.67466\n",
              "2013-10-05  121.33866"
            ],
            "text/html": [
              "\n",
              "  <div id=\"df-d12421e7-b539-404e-863b-a9aba26fcbf1\">\n",
              "    <div class=\"colab-df-container\">\n",
              "      <div>\n",
              "<style scoped>\n",
              "    .dataframe tbody tr th:only-of-type {\n",
              "        vertical-align: middle;\n",
              "    }\n",
              "\n",
              "    .dataframe tbody tr th {\n",
              "        vertical-align: top;\n",
              "    }\n",
              "\n",
              "    .dataframe thead th {\n",
              "        text-align: right;\n",
              "    }\n",
              "</style>\n",
              "<table border=\"1\" class=\"dataframe\">\n",
              "  <thead>\n",
              "    <tr style=\"text-align: right;\">\n",
              "      <th></th>\n",
              "      <th>Price</th>\n",
              "    </tr>\n",
              "    <tr>\n",
              "      <th>Date</th>\n",
              "      <th></th>\n",
              "    </tr>\n",
              "  </thead>\n",
              "  <tbody>\n",
              "    <tr>\n",
              "      <th>2013-10-01</th>\n",
              "      <td>123.65499</td>\n",
              "    </tr>\n",
              "    <tr>\n",
              "      <th>2013-10-02</th>\n",
              "      <td>125.45500</td>\n",
              "    </tr>\n",
              "    <tr>\n",
              "      <th>2013-10-03</th>\n",
              "      <td>108.58483</td>\n",
              "    </tr>\n",
              "    <tr>\n",
              "      <th>2013-10-04</th>\n",
              "      <td>118.67466</td>\n",
              "    </tr>\n",
              "    <tr>\n",
              "      <th>2013-10-05</th>\n",
              "      <td>121.33866</td>\n",
              "    </tr>\n",
              "  </tbody>\n",
              "</table>\n",
              "</div>\n",
              "      <button class=\"colab-df-convert\" onclick=\"convertToInteractive('df-d12421e7-b539-404e-863b-a9aba26fcbf1')\"\n",
              "              title=\"Convert this dataframe to an interactive table.\"\n",
              "              style=\"display:none;\">\n",
              "        \n",
              "  <svg xmlns=\"http://www.w3.org/2000/svg\" height=\"24px\"viewBox=\"0 0 24 24\"\n",
              "       width=\"24px\">\n",
              "    <path d=\"M0 0h24v24H0V0z\" fill=\"none\"/>\n",
              "    <path d=\"M18.56 5.44l.94 2.06.94-2.06 2.06-.94-2.06-.94-.94-2.06-.94 2.06-2.06.94zm-11 1L8.5 8.5l.94-2.06 2.06-.94-2.06-.94L8.5 2.5l-.94 2.06-2.06.94zm10 10l.94 2.06.94-2.06 2.06-.94-2.06-.94-.94-2.06-.94 2.06-2.06.94z\"/><path d=\"M17.41 7.96l-1.37-1.37c-.4-.4-.92-.59-1.43-.59-.52 0-1.04.2-1.43.59L10.3 9.45l-7.72 7.72c-.78.78-.78 2.05 0 2.83L4 21.41c.39.39.9.59 1.41.59.51 0 1.02-.2 1.41-.59l7.78-7.78 2.81-2.81c.8-.78.8-2.07 0-2.86zM5.41 20L4 18.59l7.72-7.72 1.47 1.35L5.41 20z\"/>\n",
              "  </svg>\n",
              "      </button>\n",
              "      \n",
              "  <style>\n",
              "    .colab-df-container {\n",
              "      display:flex;\n",
              "      flex-wrap:wrap;\n",
              "      gap: 12px;\n",
              "    }\n",
              "\n",
              "    .colab-df-convert {\n",
              "      background-color: #E8F0FE;\n",
              "      border: none;\n",
              "      border-radius: 50%;\n",
              "      cursor: pointer;\n",
              "      display: none;\n",
              "      fill: #1967D2;\n",
              "      height: 32px;\n",
              "      padding: 0 0 0 0;\n",
              "      width: 32px;\n",
              "    }\n",
              "\n",
              "    .colab-df-convert:hover {\n",
              "      background-color: #E2EBFA;\n",
              "      box-shadow: 0px 1px 2px rgba(60, 64, 67, 0.3), 0px 1px 3px 1px rgba(60, 64, 67, 0.15);\n",
              "      fill: #174EA6;\n",
              "    }\n",
              "\n",
              "    [theme=dark] .colab-df-convert {\n",
              "      background-color: #3B4455;\n",
              "      fill: #D2E3FC;\n",
              "    }\n",
              "\n",
              "    [theme=dark] .colab-df-convert:hover {\n",
              "      background-color: #434B5C;\n",
              "      box-shadow: 0px 1px 3px 1px rgba(0, 0, 0, 0.15);\n",
              "      filter: drop-shadow(0px 1px 2px rgba(0, 0, 0, 0.3));\n",
              "      fill: #FFFFFF;\n",
              "    }\n",
              "  </style>\n",
              "\n",
              "      <script>\n",
              "        const buttonEl =\n",
              "          document.querySelector('#df-d12421e7-b539-404e-863b-a9aba26fcbf1 button.colab-df-convert');\n",
              "        buttonEl.style.display =\n",
              "          google.colab.kernel.accessAllowed ? 'block' : 'none';\n",
              "\n",
              "        async function convertToInteractive(key) {\n",
              "          const element = document.querySelector('#df-d12421e7-b539-404e-863b-a9aba26fcbf1');\n",
              "          const dataTable =\n",
              "            await google.colab.kernel.invokeFunction('convertToInteractive',\n",
              "                                                     [key], {});\n",
              "          if (!dataTable) return;\n",
              "\n",
              "          const docLinkHtml = 'Like what you see? Visit the ' +\n",
              "            '<a target=\"_blank\" href=https://colab.research.google.com/notebooks/data_table.ipynb>data table notebook</a>'\n",
              "            + ' to learn more about interactive tables.';\n",
              "          element.innerHTML = '';\n",
              "          dataTable['output_type'] = 'display_data';\n",
              "          await google.colab.output.renderOutput(dataTable, element);\n",
              "          const docLink = document.createElement('div');\n",
              "          docLink.innerHTML = docLinkHtml;\n",
              "          element.appendChild(docLink);\n",
              "        }\n",
              "      </script>\n",
              "    </div>\n",
              "  </div>\n",
              "  "
            ]
          },
          "metadata": {},
          "execution_count": 10
        }
      ],
      "source": [
        "bitcoin_prices[:5]"
      ]
    },
    {
      "cell_type": "code",
      "execution_count": 11,
      "metadata": {
        "colab": {
          "base_uri": "https://localhost:8080/"
        },
        "id": "AWIAaP2Cyrmw",
        "outputId": "fcd9fc8e-a7d0-4d1c-9c83-f1c8d07f77aa"
      },
      "outputs": [
        {
          "output_type": "execute_result",
          "data": {
            "text/plain": [
              "(array(['2013-10-01T00:00:00.000000000', '2013-10-02T00:00:00.000000000',\n",
              "        '2013-10-03T00:00:00.000000000', '2013-10-04T00:00:00.000000000',\n",
              "        '2013-10-05T00:00:00.000000000', '2013-10-06T00:00:00.000000000',\n",
              "        '2013-10-07T00:00:00.000000000', '2013-10-08T00:00:00.000000000',\n",
              "        '2013-10-09T00:00:00.000000000', '2013-10-10T00:00:00.000000000'],\n",
              "       dtype='datetime64[ns]'),\n",
              " array([123.65499, 125.455  , 108.58483, 118.67466, 121.33866, 120.65533,\n",
              "        121.795  , 123.033  , 124.049  , 125.96116]))"
            ]
          },
          "metadata": {},
          "execution_count": 11
        }
      ],
      "source": [
        "# Get bitcoin date array\n",
        "timesteps = bitcoin_prices.index.to_numpy()\n",
        "prices = bitcoin_prices[\"Price\"].to_numpy()\n",
        "\n",
        "timesteps[:10], prices[:10]"
      ]
    },
    {
      "cell_type": "code",
      "execution_count": 12,
      "metadata": {
        "colab": {
          "base_uri": "https://localhost:8080/"
        },
        "id": "4LReuc-vx8rz",
        "outputId": "11d855c9-42c1-46e3-cab9-db3e1a569ab9"
      },
      "outputs": [
        {
          "output_type": "execute_result",
          "data": {
            "text/plain": [
              "((2229,), (558,), (2229,), (558,))"
            ]
          },
          "metadata": {},
          "execution_count": 12
        }
      ],
      "source": [
        "# Wrong way to make train/test sets for time series data\n",
        "from sklearn.model_selection import train_test_split\n",
        "X_train, X_test, y_train, y_test = train_test_split(timesteps, # dates\n",
        "                                                    prices, # BTC prices\n",
        "                                                    test_size=0.2,\n",
        "                                                    random_state=42)\n",
        "X_train.shape, X_test.shape, y_train.shape, y_test.shape"
      ]
    },
    {
      "cell_type": "code",
      "execution_count": 13,
      "metadata": {
        "colab": {
          "base_uri": "https://localhost:8080/",
          "height": 0
        },
        "id": "8q3cVQ6K0Mpp",
        "outputId": "e562f774-e2e9-41ef-ea66-bae83d7cce98"
      },
      "outputs": [
        {
          "output_type": "display_data",
          "data": {
            "text/plain": [
              "<Figure size 1000x700 with 1 Axes>"
            ],
            "image/png": "[encoded data removed]"
          },
          "metadata": {}
        }
      ],
      "source": [
        "# Let's plot wrong train and test splits\n",
        "plt.figure(figsize=(10,7))\n",
        "plt.scatter(X_train, y_train, s=5, label=\"Train data\")\n",
        "plt.scatter(X_test, y_test, s=5, label=\"test data\")\n",
        "plt.xlabel(\"Data\")\n",
        "plt.ylabel(\"BTC Price\")\n",
        "plt.legend(fontsize=14)\n",
        "plt.show();"
      ]
    },
    {
      "cell_type": "markdown",
      "metadata": {
        "id": "B7DWffOWoqeB"
      },
      "source": [
        "### Create train & test sets for time series (the right way)"
      ]
    },
    {
      "cell_type": "code",
      "execution_count": 14,
      "metadata": {
        "colab": {
          "base_uri": "https://localhost:8080/"
        },
        "id": "bd_OlhsS07FH",
        "outputId": "120ecc0d-e842-417a-a654-1b9c96c2096b"
      },
      "outputs": [
        {
          "output_type": "execute_result",
          "data": {
            "text/plain": [
              "(2229, 558, 2229, 558)"
            ]
          },
          "metadata": {},
          "execution_count": 14
        }
      ],
      "source": [
        "# Create train and test splits the right way for time series data\n",
        "split_size = int(0.8*len(prices)) # 80% train, 20% test - you change these values as needed, e.g 90/10, 95/5\n",
        "\n",
        "# Create train data splits (everything before the split)\n",
        "X_train, y_train = timesteps[:split_size], prices[:split_size]\n",
        "\n",
        "# Create test data splits (everything beyind the split)\n",
        "X_test, y_test = timesteps[split_size:], prices[split_size:]\n",
        "\n",
        "len(X_train), len(X_test), len(y_train), len(y_test)"
      ]
    },
    {
      "cell_type": "code",
      "execution_count": 15,
      "metadata": {
        "colab": {
          "base_uri": "https://localhost:8080/",
          "height": 0
        },
        "id": "jK_1xKQSqd8F",
        "outputId": "95cf13d6-7393-4290-be6b-ce56a28bcdc1"
      },
      "outputs": [
        {
          "output_type": "display_data",
          "data": {
            "text/plain": [
              "<Figure size 1000x700 with 1 Axes>"
            ],
            "image/png": "[encoded data removed]"
          },
          "metadata": {}
        }
      ],
      "source": [
        "# Plot correctly made splits\n",
        "plt.figure(figsize=(10,7))\n",
        "plt.scatter(X_train, y_train, s=5, label=\"Train data\")\n",
        "plt.scatter(X_test, y_test, s=5, label=\"test data\")\n",
        "plt.xlabel(\"Data\")\n",
        "plt.ylabel(\"BTC Price\")\n",
        "plt.legend(fontsize=14)\n",
        "plt.show();"
      ]
    },
    {
      "cell_type": "markdown",
      "metadata": {
        "id": "HMfPVrx9rMeu"
      },
      "source": [
        "### Create a plotting function\n",
        "Typing plotting code is tedious, let's functionize it."
      ]
    },
    {
      "cell_type": "code",
      "execution_count": 16,
      "metadata": {
        "id": "HgNgy8eSrMOd"
      },
      "outputs": [],
      "source": [
        "# Create the function to plot time series data\n",
        "def plot_time_series(timesteps, values, format=\".\", start=0, end=None, label=None):\n",
        "  # Plot correctly made splits\n",
        "  \"\"\"\n",
        "  Plot timesteps (a series of points in time) against values (a series of values accros timesteps).\n",
        "\n",
        "  Parameters\n",
        "  ----------\n",
        "  timesteps : array of timestep values\n",
        "  values : array of values across time\n",
        "  format : style of plot, default \".\"\n",
        "  start : where to start the plot (setting a value will index from start of timesteps)\n",
        "  end : where to end the plot (similar to start but for the end)\n",
        "  label : label to show on plot about values, default None\n",
        "  \"\"\"\n",
        "  # Plot the series\n",
        "  #plt.figure(figsize=(10,7))\n",
        "  plt.plot(timesteps[start:end], values[start:end], format, label=label)\n",
        "  plt.xlabel(\"Time\")\n",
        "  plt.ylabel(\"BTC Price\")\n",
        "  if label:\n",
        "    plt.legend(fontsize=14) # make label bigger\n",
        "  plt.grid(True)"
      ]
    },
    {
      "cell_type": "code",
      "execution_count": 17,
      "metadata": {
        "colab": {
          "base_uri": "https://localhost:8080/",
          "height": 0
        },
        "id": "FICTOWvvqsY8",
        "outputId": "85434bd1-da42-43b9-91c9-a777fdcc7575"
      },
      "outputs": [
        {
          "output_type": "display_data",
          "data": {
            "text/plain": [
              "<Figure size 1000x700 with 1 Axes>"
            ],
            "image/png": "[encoded data removed]"
          },
          "metadata": {}
        }
      ],
      "source": [
        "# Test out plotting function\n",
        "plt.figure(figsize=(10,7))\n",
        "plot_time_series(timesteps=X_train, values=y_train, label=\"Train data\")\n",
        "plot_time_series(timesteps=X_test, values=y_test, label=\"test data\")"
      ]
    },
    {
      "cell_type": "markdown",
      "metadata": {
        "id": "wd8iOyH2PRmX"
      },
      "source": [
        "## Modelling Experiments \n",
        "\n",
        "We've got some Bitcoin historical data, to model it, let's run a series of modelling experiments and see which model performs best.\n",
        "\n",
        "Terms to be familiar with: \n",
        "* **Horizon** = number of timesteps into the future we're going to predict\n",
        "* **Window size** = number of timesteps we're going to use to predict horizon  \n",
        "\n",
        "Modelling experiments we're running:\n",
        " \n",
        "* 0\tNaïve model (baseline)\n",
        "* 1\tDense model, horizon = 1, window =1\n",
        "* 2\tSame as 1, horizon = 1, window=\t30\n",
        "* 3\tSame as 1, horizo1 = 7, window =\t30\n",
        "* 4\tConv1D\t1\t7\n",
        "* 5\tLSTM\t1\t7\n",
        "* 6\tSame as 1 (but with multivariate data)\t1\t7\tBlock reward size\n",
        "* 7\tN-BEATs Algorithm\t1\t7\n",
        "* 8\tEnsemble (multiple models optimized on different loss functions)\t1\t7\n",
        "* 9\tFuture prediction model (model to predict future values)\t1\t7\t\n",
        "* 10\tSame as 1 (but with turkey 🦃 data introduced)\t1\t7"
      ]
    },
    {
      "cell_type": "markdown",
      "metadata": {
        "id": "YEqrZd7AWddS"
      },
      "source": [
        "## Model 0: Naive forecast (baseline)\n",
        "\n",
        "The formula looks like this:\n",
        "\n",
        "$$\\hat{y}_{t} = y_{t-1}$$\n",
        "\n",
        "In English:\n",
        "\n",
        "> The prediction at timestep t (y-hat) is equal to the value at timestep t-1 (previous timestep) - this is for a horizon of 1."
      ]
    },
    {
      "cell_type": "code",
      "execution_count": 18,
      "metadata": {
        "colab": {
          "base_uri": "https://localhost:8080/"
        },
        "id": "vUzQG-ZGbYCK",
        "outputId": "6ac81bbd-8350-4a58-e242-edc56105db26"
      },
      "outputs": [
        {
          "output_type": "execute_result",
          "data": {
            "text/plain": [
              "array([58788.20967893, 58102.19142623, 55715.54665129, 56573.5554719 ,\n",
              "       52147.82118698, 49764.1320816 , 50032.69313676, 47885.62525472,\n",
              "       45604.61575361, 43144.47129086])"
            ]
          },
          "metadata": {},
          "execution_count": 18
        }
      ],
      "source": [
        "y_test[-10:]"
      ]
    },
    {
      "cell_type": "code",
      "execution_count": 19,
      "metadata": {
        "colab": {
          "base_uri": "https://localhost:8080/"
        },
        "id": "sOxfwwoKtqww",
        "outputId": "dcdc3835-77e0-4f6b-b36b-bfa56b0a81c4"
      },
      "outputs": [
        {
          "output_type": "execute_result",
          "data": {
            "text/plain": [
              "(array([9226.48582088, 8794.35864452, 8798.04205463, 9081.18687849,\n",
              "        8711.53433917, 8760.89271814, 8749.52059102, 8656.97092235,\n",
              "        8500.64355816, 8469.2608989 ]),\n",
              " array([57107.12067189, 58788.20967893, 58102.19142623, 55715.54665129,\n",
              "        56573.5554719 , 52147.82118698, 49764.1320816 , 50032.69313676,\n",
              "        47885.62525472, 45604.61575361]))"
            ]
          },
          "metadata": {},
          "execution_count": 19
        }
      ],
      "source": [
        "# Create a naive forecast\n",
        "naive_forecast = y_test[:-1]\n",
        "\n",
        "naive_forecast[:10], naive_forecast[-10:]"
      ]
    },
    {
      "cell_type": "code",
      "execution_count": 20,
      "metadata": {
        "colab": {
          "base_uri": "https://localhost:8080/",
          "height": 0
        },
        "id": "cGcqUIWDcSi5",
        "outputId": "132b73e4-3af8-4fb5-ad1b-e644a211e447"
      },
      "outputs": [
        {
          "output_type": "display_data",
          "data": {
            "text/plain": [
              "<Figure size 1000x700 with 1 Axes>"
            ],
            "image/png": "[encoded data removed]"
          },
          "metadata": {}
        }
      ],
      "source": [
        "# Plot naive forecast\n",
        "plt.figure(figsize=(10, 7))\n",
        "#plot_time_series(timesteps=X_train, values=y_train, label=\"train data\")\n",
        "plot_time_series(timesteps=X_test, values=y_test, start=350, format=\"-\", label=\"test data\")\n",
        "plot_time_series(timesteps=X_test[1:], values=naive_forecast, start=350, label=\"naiveforcaset\", format=\"-\")"
      ]
    },
    {
      "cell_type": "markdown",
      "metadata": {
        "id": "6HwaMjWrkMKa"
      },
      "source": [
        "> **Exercice:** Spend 10 minutes reading the simple forcasts chapter of Forcasting: Principles in Practice. ANd have a search to find out why the naive forcast is hard to beat, does the term autoregressive come up ?"
      ]
    },
    {
      "cell_type": "markdown",
      "metadata": {
        "id": "QmTrb4jRsWlM"
      },
      "source": [
        "## Evaluating a time series model \n",
        "\n",
        "Let's look into some evaluation metrics for time series forecasting.\n",
        "\n",
        "What are we doing?\n",
        "\n",
        "We're predicting a number, so that means we have a form of a regression problem.\n",
        "\n",
        "Because we're working on a regression problem, we'll need some regression like metrics.\n",
        "\n",
        "A few common regression metrics (whhich can also be used for time series forecasting):\n",
        "* MAE - mean absolute error.\n",
        "* MSE - mean squared error.\n",
        "* RMSE - root mean square error.\n",
        "* MAPE/sMAPE - (symmetric) mean absolute percentage error.\n",
        "* MASE - mean abslute scaled error.\n",
        "\n",
        "For all of the above metrics, **lower is better** for example, for a model achieves an MAE of 0 that is better than an MAE of 100. \n",
        "\n",
        "The main thing we're evaluating here is : **how do our model's forecasts (y_pred) compare against the actual values (y_true or ground truth values) ?**\n",
        "\n",
        "**Ressource: For a deeper dive on the various kinds of time series forecasting methode see Forecasting :[ Principles and Practice chapter 5.8](https://otexts.com/fpp3/accuracy.html)**\n",
        "https://www.sktime.net/en/latest/api_reference/auto_generated/sktime.performance_metrics.forecasting.mean_absolute_scaled_error.html?highlight=MASE%20output%20is%20on#sktime.performance_metrics.forecasting.mean_absolute_scaled_error"
      ]
    },
    {
      "cell_type": "code",
      "execution_count": 21,
      "metadata": {
        "id": "Lzmen2TZsWVI"
      },
      "outputs": [],
      "source": [
        "import tensorflow as tf "
      ]
    },
    {
      "cell_type": "code",
      "execution_count": 22,
      "metadata": {
        "id": "Tp8P2wAicfbp"
      },
      "outputs": [],
      "source": [
        "# MASE implementation\n",
        "# calculate the mean absolute scaled error\n",
        "# calculate the mean absolute scaled error\n",
        "\n",
        "# scale = tf.reduce_mean(tf.abs(y_true[1:] - y_true[:-1]))\n",
        "# error = tf.reduce_mean(tf.abs(y_pred - y_true))\n",
        "# mase = error / scale"
      ]
    },
    {
      "cell_type": "code",
      "execution_count": 23,
      "metadata": {
        "id": "eidmL4TsgDj2"
      },
      "outputs": [],
      "source": [
        "def mean_absolute_scaled_error(y_true, y_pred):\n",
        "  \"\"\"\n",
        "  Implement MASE (assuming no seasonality data).\n",
        "  \"\"\"\n",
        "  mae = tf.reduce_mean(tf.abs(y_true-y_pred))\n",
        "     \n",
        "  # Find MAE of naive forecast\n",
        "  mae_naive_no_season = tf.reduce_mean(tf.abs(y_true[1:] - y_true[:-1])) # our seasonality is 1 day (hence the shift of 1))\n",
        "     \n",
        "  return mae / mae_naive_no_season"
      ]
    },
    {
      "cell_type": "code",
      "execution_count": 24,
      "metadata": {
        "colab": {
          "base_uri": "https://localhost:8080/"
        },
        "id": "VqUWkNQ-IJ1w",
        "outputId": "61d0af5a-fca3-4968-f001-aec5c3595105"
      },
      "outputs": [
        {
          "output_type": "execute_result",
          "data": {
            "text/plain": [
              "0.9995699939182624"
            ]
          },
          "metadata": {},
          "execution_count": 24
        }
      ],
      "source": [
        "mean_absolute_scaled_error(y_true=y_test[1:], y_pred=naive_forecast).numpy()"
      ]
    },
    {
      "cell_type": "markdown",
      "metadata": {
        "id": "9MyWpMKXCbU-"
      },
      "source": []
    },
    {
      "cell_type": "code",
      "execution_count": 24,
      "metadata": {
        "id": "LnkTFYE2-mjq"
      },
      "outputs": [],
      "source": []
    },
    {
      "cell_type": "code",
      "execution_count": 24,
      "metadata": {
        "id": "OErY-5qABMnS"
      },
      "outputs": [],
      "source": []
    },
    {
      "cell_type": "code",
      "execution_count": 25,
      "metadata": {
        "id": "IsIe1dkFBfQ1"
      },
      "outputs": [],
      "source": [
        "# Create a function to take in model predictions and truth values and return evaluation metrics\n",
        "\n",
        "import tensorflow as tf\n",
        "\n",
        "def evaluate_preds(y_true, y_pred):\n",
        "    \n",
        "    # Make sure float32 datatype (for metric calculations)\n",
        "    y_true = tf.cast(y_true, dtype=tf.float32)\n",
        "    y_pred = tf.cast(y_pred, dtype=tf.float32)\n",
        "\n",
        "    # Vérifier si y_true et y_pred ont la même forme\n",
        "    if len(y_true.shape) > 1 or len(y_pred.shape) > 1:\n",
        "      # Aplatir y_true et y_pred s'ils ont des formes différentes\n",
        "      y_true = tf.reshape(y_true, [-1])\n",
        "      y_pred = tf.reshape(y_pred, [-1])\n",
        "\n",
        "    # Calculate various evaluation metrics \n",
        "    mae = tf.keras.metrics.mean_absolute_error(y_true, y_pred)\n",
        "    mse = tf.keras.metrics.mean_squared_error(y_true, y_pred)\n",
        "    rmse = tf.sqrt(mse)\n",
        "    mape = tf.keras.metrics.mean_absolute_percentage_error(y_true, y_pred)\n",
        "    mase = mean_absolute_scaled_error(y_true, y_pred)\n",
        "\n",
        "    return {\"mae\": mae.numpy(),\n",
        "            \"mape\": mape.numpy(),\n",
        "            \"mase\": mase.numpy(),\n",
        "            \"mse\": mse.numpy(),\n",
        "            \"rmse\": rmse.numpy()}"
      ]
    },
    {
      "cell_type": "code",
      "execution_count": 26,
      "metadata": {
        "colab": {
          "base_uri": "https://localhost:8080/"
        },
        "id": "ZVtcNF_5Eg_x",
        "outputId": "0da00fff-1e06-475b-886f-0bfda2183e0c"
      },
      "outputs": [
        {
          "output_type": "execute_result",
          "data": {
            "text/plain": [
              "{'mae': 567.9802,\n",
              " 'mape': 2.516525,\n",
              " 'mase': 0.99957,\n",
              " 'mse': 1147547.0,\n",
              " 'rmse': 1071.2362}"
            ]
          },
          "metadata": {},
          "execution_count": 26
        }
      ],
      "source": [
        "naive_results = evaluate_preds(y_true=y_test[1:], y_pred=naive_forecast)\n",
        "naive_results"
      ]
    },
    {
      "cell_type": "code",
      "execution_count": 27,
      "metadata": {
        "colab": {
          "base_uri": "https://localhost:8080/"
        },
        "id": "PUb0YQlrJNp7",
        "outputId": "7c73234d-bf73-4140-c1a7-add66db7e5e8"
      },
      "outputs": [
        {
          "output_type": "execute_result",
          "data": {
            "text/plain": [
              "array([57107.12067189, 58788.20967893, 58102.19142623, 55715.54665129,\n",
              "       56573.5554719 , 52147.82118698, 49764.1320816 , 50032.69313676,\n",
              "       47885.62525472, 45604.61575361])"
            ]
          },
          "metadata": {},
          "execution_count": 27
        }
      ],
      "source": [
        "naive_forecast[-10:]"
      ]
    },
    {
      "cell_type": "code",
      "execution_count": 28,
      "metadata": {
        "colab": {
          "base_uri": "https://localhost:8080/"
        },
        "id": "tgovF5fCF_V8",
        "outputId": "2990d452-5135-4176-d9c9-0cf9d23d0243"
      },
      "outputs": [
        {
          "output_type": "execute_result",
          "data": {
            "text/plain": [
              "<tf.Tensor: shape=(), dtype=float64, numpy=20056.632963737222>"
            ]
          },
          "metadata": {},
          "execution_count": 28
        }
      ],
      "source": [
        "tf.reduce_mean(y_test)"
      ]
    },
    {
      "cell_type": "code",
      "execution_count": 29,
      "metadata": {
        "colab": {
          "base_uri": "https://localhost:8080/"
        },
        "id": "x1SOOJEfGIAu",
        "outputId": "ad85ef30-2ec0-4c04-d840-a8d9776295d8"
      },
      "outputs": [
        {
          "output_type": "execute_result",
          "data": {
            "text/plain": [
              "(<tf.Tensor: shape=(), dtype=float64, numpy=4944.7023359837>,\n",
              " <tf.Tensor: shape=(), dtype=float64, numpy=63346.7890351052>)"
            ]
          },
          "metadata": {},
          "execution_count": 29
        }
      ],
      "source": [
        "tf.reduce_min(y_test), tf.reduce_max(y_test)"
      ]
    },
    {
      "cell_type": "markdown",
      "metadata": {
        "id": "hj1f6fxZCK2y"
      },
      "source": [
        "## Other models you can use for baselines and for actual forecasts\n",
        "\n",
        "In this notebook, we're focused on TensorFlow and deep learning models.\n",
        "\n",
        "However therer are plenty of other styles of time series forecasting models you may want to experiment with: https://dev.mrdbourke.com/tensorflow-deep-learning/10_time_series_forecasting_in_tensorflow/#other-kinds-of-time-series-forecasting-models-which-can-be-used-for-baselines-and-actual-forecasts"
      ]
    },
    {
      "cell_type": "markdown",
      "metadata": {
        "id": "irvs8l6AGea4"
      },
      "source": [
        "## Format Data Part 2: Windowing our dataset\n",
        "\n",
        "Why do we window ?\n",
        "\n",
        "We window our time series dataset to turn oue data into a supervised learning problem.\n",
        "\n",
        "```\n",
        "Windowing for one week\n",
        "[0, 1, 2, 3, 4, 5, 6] -> [7]\n",
        "[1, 2, 3, 4, 5, 6, 7] -> [8]\n",
        "[2, 3, 4, 5, 6, 7, 8] -> [9]\n",
        "```"
      ]
    },
    {
      "cell_type": "code",
      "execution_count": 30,
      "metadata": {
        "colab": {
          "base_uri": "https://localhost:8080/"
        },
        "id": "0rMe7g9HGMwl",
        "outputId": "32397038-1bc8-4d41-b107-8cd57866341a"
      },
      "outputs": [
        {
          "output_type": "execute_result",
          "data": {
            "text/plain": [
              "2229"
            ]
          },
          "metadata": {},
          "execution_count": 30
        }
      ],
      "source": [
        "len(y_train)"
      ]
    },
    {
      "cell_type": "code",
      "execution_count": 31,
      "metadata": {
        "colab": {
          "base_uri": "https://localhost:8080/"
        },
        "id": "4ge3FS6tGcei",
        "outputId": "c13bd49d-7f74-41d3-a576-ce5833e6a5c6"
      },
      "outputs": [
        {
          "output_type": "stream",
          "name": "stdout",
          "text": [
            "We want to use: [123.65499, 125.455, 108.58483, 118.67466, 121.33866, 120.65533, 121.795]  to predict this: 123.033\n"
          ]
        }
      ],
      "source": [
        "# What we want to do with our Bitcoin data\n",
        "print(f\"We want to use: {btc_price[:7]}  to predict this: {btc_price[7]}\")"
      ]
    },
    {
      "cell_type": "code",
      "execution_count": 32,
      "metadata": {
        "id": "5Wa5XJCKGmtx"
      },
      "outputs": [],
      "source": [
        "# Let's setup global variables for window and horizon size\n",
        "HORIZON = 1 # predict next 1 day\n",
        "WINDOW_SIZE = 7 # use the past week of Bitcoin data to make the prediction"
      ]
    },
    {
      "cell_type": "code",
      "execution_count": 33,
      "metadata": {
        "id": "ukWZp04UHmvo"
      },
      "outputs": [],
      "source": [
        "# Create function to label windowed data\n",
        "def get_labelled_window(x, horizon=HORIZON):\n",
        "  \"\"\"\n",
        "  Creates labels for windowed dataset.\n",
        "\n",
        "  E.g. if horizon=1\n",
        "  input: [0,1,2,3,4,5,6,7] -> Output: ([0,1,2,3,4,5,6], [7])\n",
        "  \"\"\"\n",
        "  return x[:, :-horizon], x[:, -horizon:]"
      ]
    },
    {
      "cell_type": "code",
      "execution_count": 34,
      "metadata": {
        "colab": {
          "base_uri": "https://localhost:8080/"
        },
        "id": "JjlGqOENbQAZ",
        "outputId": "4b2bf74e-4b0b-4a75-cd90-ddd89212081c"
      },
      "outputs": [
        {
          "output_type": "stream",
          "name": "stdout",
          "text": [
            "Window: [0 1 2 3 4 5 6]-> Label: 7\n"
          ]
        }
      ],
      "source": [
        "# Test out the window labelling function\n",
        "test_window, test_label = get_labelled_window(tf.expand_dims(tf.range(8), axis=0))\n",
        "print(f\"Window: {tf.squeeze(test_window).numpy()}-> Label: {tf.squeeze(test_label.numpy())}\")"
      ]
    },
    {
      "cell_type": "markdown",
      "metadata": {
        "id": "Puy1DKV46Mge"
      },
      "source": [
        "We've got a way to label our windowed data.\n",
        "\n",
        "However, this only works on a small scale.\n",
        "\n",
        "We need a way to do the above across our entire time series.\n",
        "\n",
        "We could do this with Python for loops, however, for large time series, that'd be quite slow.\n",
        "\n",
        "To speed things up, we'll leverage NumPy's array indexing - https://numpy.org/doc/stable/reference/arrays.indexing.html\n",
        "\n",
        "Our function will:\n",
        "1. Create a window step of specific window size (e.g. [0,1,2,3,4,5,6])\n",
        "\n",
        "2. Use NumPy indexing to create a 2D array of multiple window steps, for example:\n",
        "```\n",
        "[[0,1,2,3,4,5,6],\n",
        "[0,1,2,3,4,5,6],\n",
        "[0,1,2,3,4,5,6]]\n",
        "```\n",
        "3. Use the 2D array of multiple window steps (from 2. ) to index on a target series (e.g. historical price of Bitcoin)\n",
        "4. Use our `get_labelled_windows()` function we created above to rurn the window steps into the window steps into windows with a specified horizon.\n",
        "\n",
        "> **Resource:** The function we're about to create has been adapted from the following article : https://towardsdatascience.com/fast-and-robust-sliding-window-vectorization-with-numpy-3ad950ed62f5"
      ]
    },
    {
      "cell_type": "code",
      "execution_count": 35,
      "metadata": {
        "id": "OUSKMrjCeoHi"
      },
      "outputs": [],
      "source": [
        "# Create function to view NumPy arrays as windows \n",
        "\n",
        "def make_windows(x, window_size= WINDOW_SIZE, horizon=HORIZON):\n",
        "  \"\"\"\n",
        "  Turns a 1D array into a 2D array of sequential labelled windows of window_size with horizon size labels.\n",
        "  \"\"\"\n",
        "  # 1. Create a window of specific window_size (add the horizon on the end for labelling later)\n",
        "  window_step = np.expand_dims(np.arange(window_size+horizon), axis=0)\n",
        "\n",
        "  # 2. Create a 2D array of multiple window steps (minus 1 to account for 0 indexing)\n",
        "  window_indexes = window_step + np.expand_dims(np.arange(len(x)-(window_size+horizon-1)), axis=0).T # create 2D array of windows of size window_size \n",
        "\n",
        "  #print(f\"Window indexes: \\n{window_indexes, window_indexes.shape}\")\n",
        "\n",
        "  # 3. Index on the target array (a time series) with 2D array of multiple window steps\n",
        "  windowed_array = x[window_indexes]\n",
        "  # print(windowed_array)\n",
        "\n",
        "  # 4. Get the labelled windows\n",
        "  windows, labels = get_labelled_window(windowed_array, horizon=horizon)\n",
        "\n",
        "  return windows, labels"
      ]
    },
    {
      "cell_type": "code",
      "execution_count": 36,
      "metadata": {
        "colab": {
          "base_uri": "https://localhost:8080/"
        },
        "id": "znT-DFQYfZ7U",
        "outputId": "b9f630bd-d6b8-4e6a-d41d-8c31d7c85443"
      },
      "outputs": [
        {
          "output_type": "execute_result",
          "data": {
            "text/plain": [
              "(2780, 2780)"
            ]
          },
          "metadata": {},
          "execution_count": 36
        }
      ],
      "source": [
        "full_windows, full_labels = make_windows(prices, window_size=WINDOW_SIZE, horizon=HORIZON)\n",
        "len(full_windows), len(full_labels)"
      ]
    },
    {
      "cell_type": "code",
      "execution_count": 37,
      "metadata": {
        "colab": {
          "base_uri": "https://localhost:8080/"
        },
        "id": "ap1r9KA3_dAx",
        "outputId": "6f0b8af5-1f35-4126-8d25-a155514cf52c"
      },
      "outputs": [
        {
          "output_type": "stream",
          "name": "stdout",
          "text": [
            "Window: [123.65499 125.455   108.58483 118.67466 121.33866 120.65533 121.795  ] -> Label: [123.033]\n",
            "Window: [125.455   108.58483 118.67466 121.33866 120.65533 121.795   123.033  ] -> Label: [124.049]\n",
            "Window: [108.58483 118.67466 121.33866 120.65533 121.795   123.033   124.049  ] -> Label: [125.96116]\n"
          ]
        }
      ],
      "source": [
        "# View the firs 3 windows/labels\n",
        "for i in range(3):\n",
        "  print(f\"Window: {full_windows[i]} -> Label: {full_labels[i]}\")"
      ]
    },
    {
      "cell_type": "code",
      "execution_count": 38,
      "metadata": {
        "colab": {
          "base_uri": "https://localhost:8080/"
        },
        "id": "0IRytSHzAcEZ",
        "outputId": "74518540-27ce-42cf-f5a0-dd488faacd8d"
      },
      "outputs": [
        {
          "output_type": "stream",
          "name": "stdout",
          "text": [
            "Window: [58788.20967893 58102.19142623 55715.54665129 56573.5554719\n",
            " 52147.82118698 49764.1320816  50032.69313676] -> Label: [47885.62525472]\n",
            "Window: [58102.19142623 55715.54665129 56573.5554719  52147.82118698\n",
            " 49764.1320816  50032.69313676 47885.62525472] -> Label: [45604.61575361]\n",
            "Window: [55715.54665129 56573.5554719  52147.82118698 49764.1320816\n",
            " 50032.69313676 47885.62525472 45604.61575361] -> Label: [43144.47129086]\n"
          ]
        }
      ],
      "source": [
        "# View the last 3 windows/labels\n",
        "for i in range(3):\n",
        "  print(f\"Window: {full_windows[i-3]} -> Label: {full_labels[i-3]}\")"
      ]
    },
    {
      "cell_type": "code",
      "execution_count": 39,
      "metadata": {
        "colab": {
          "base_uri": "https://localhost:8080/"
        },
        "id": "yVYh3m_kFQPB",
        "outputId": "204b8910-ca08-4c4d-ecda-f31c0a64b1f6"
      },
      "outputs": [
        {
          "output_type": "execute_result",
          "data": {
            "text/plain": [
              "43144.4712908603"
            ]
          },
          "metadata": {},
          "execution_count": 39
        }
      ],
      "source": [
        "prices[-1]"
      ]
    },
    {
      "cell_type": "markdown",
      "metadata": {
        "id": "4S2BlIvcHBb1"
      },
      "source": [
        "**Note:** You can find a function which achieves similar results to the ones we implemented above at [tf.keras.preprocessing.timeseries_dataset_from_array() ](https://www.tensorflow.org/api_docs/python/tf/keras/utils/timeseries_dataset_from_array). Just like ours, it takes in an array and returns a windowed dataset. It has the benefit of returning data in the form of a tf.data.Dataset instance (we'll see how to do this with our own data later)."
      ]
    },
    {
      "cell_type": "markdown",
      "metadata": {
        "id": "2okEd5o4Yh8c"
      },
      "source": [
        "## Turning windows into training and test sets"
      ]
    },
    {
      "cell_type": "code",
      "execution_count": 40,
      "metadata": {
        "id": "QN5OBkV3Y7pl"
      },
      "outputs": [],
      "source": [
        "#full_windows : c'est la separation du dataset sous forme listes de liste x c'est le nombre de windows pour ensuite determiné l horizon qui est windows +1, la valeur qui suit le window (ex 7 pour window et le 8eme  c'est l'horizon )"
      ]
    },
    {
      "cell_type": "code",
      "execution_count": 41,
      "metadata": {
        "colab": {
          "base_uri": "https://localhost:8080/"
        },
        "id": "JOBdHbYOY7ku",
        "outputId": "d1817238-08f0-417c-8cb7-23393543f402"
      },
      "outputs": [
        {
          "output_type": "execute_result",
          "data": {
            "text/plain": [
              "(array([125.455  , 108.58483, 118.67466, 121.33866, 120.65533, 121.795  ,\n",
              "        123.033  ]),\n",
              " array([124.049]))"
            ]
          },
          "metadata": {},
          "execution_count": 41
        }
      ],
      "source": [
        "full_windows[1], full_labels[1]\n"
      ]
    },
    {
      "cell_type": "code",
      "execution_count": 42,
      "metadata": {
        "id": "VdxRneKcG0xq"
      },
      "outputs": [],
      "source": [
        "# Make the train/test splits\n",
        "def make_train_test_splits(windows, labels, test_split=0.2):\n",
        "  \"\"\"\n",
        "  Splits matching pairs of windows and labels into train and test splits.\n",
        "  \"\"\"\n",
        "  split_size = int(len(windows) * (1-test_split)) # this will default to 80% train/20% test\n",
        "  train_windows = windows[:split_size]\n",
        "  train_labels = labels[:split_size]\n",
        "  test_windows = windows[split_size:]\n",
        "  test_labels = labels[split_size:]\n",
        "  return train_windows, test_windows, train_labels, test_labels"
      ]
    },
    {
      "cell_type": "code",
      "execution_count": 43,
      "metadata": {
        "colab": {
          "base_uri": "https://localhost:8080/"
        },
        "id": "LLmkHU9fZQMN",
        "outputId": "24acc8b5-b6fd-4a87-d2b1-e49e9e8a596f"
      },
      "outputs": [
        {
          "output_type": "execute_result",
          "data": {
            "text/plain": [
              "(2224, 556, 2224, 556)"
            ]
          },
          "metadata": {},
          "execution_count": 43
        }
      ],
      "source": [
        "# Create train and test windows\n",
        "train_windows, test_windows, train_labels, test_labels = make_train_test_splits(full_windows, full_labels)\n",
        "len(train_windows), len(test_windows), len(train_labels), len(test_labels)"
      ]
    },
    {
      "cell_type": "code",
      "execution_count": 44,
      "metadata": {
        "colab": {
          "base_uri": "https://localhost:8080/"
        },
        "id": "RGohxRBNa5t2",
        "outputId": "b64810a7-6778-4d1b-c5dc-82972c598b0a"
      },
      "outputs": [
        {
          "output_type": "execute_result",
          "data": {
            "text/plain": [
              "(array([[123.65499, 125.455  , 108.58483, 118.67466, 121.33866, 120.65533,\n",
              "         121.795  ],\n",
              "        [125.455  , 108.58483, 118.67466, 121.33866, 120.65533, 121.795  ,\n",
              "         123.033  ],\n",
              "        [108.58483, 118.67466, 121.33866, 120.65533, 121.795  , 123.033  ,\n",
              "         124.049  ],\n",
              "        [118.67466, 121.33866, 120.65533, 121.795  , 123.033  , 124.049  ,\n",
              "         125.96116],\n",
              "        [121.33866, 120.65533, 121.795  , 123.033  , 124.049  , 125.96116,\n",
              "         125.27966]]),\n",
              " array([[123.033  ],\n",
              "        [124.049  ],\n",
              "        [125.96116],\n",
              "        [125.27966],\n",
              "        [125.9275 ]]))"
            ]
          },
          "metadata": {},
          "execution_count": 44
        }
      ],
      "source": [
        "train_windows[:5], train_labels[:5]"
      ]
    },
    {
      "cell_type": "code",
      "execution_count": 45,
      "metadata": {
        "colab": {
          "base_uri": "https://localhost:8080/"
        },
        "id": "7uwpgGfva7n1",
        "outputId": "7093db27-ca88-458f-b9c3-ed58fb96d20b"
      },
      "outputs": [
        {
          "output_type": "execute_result",
          "data": {
            "text/plain": [
              "(array([[9290.89660239, 9202.41545055, 9369.62808116, 9326.59962378,\n",
              "         9335.75240233, 9226.48582088, 8794.35864452],\n",
              "        [9202.41545055, 9369.62808116, 9326.59962378, 9335.75240233,\n",
              "         9226.48582088, 8794.35864452, 8798.04205463],\n",
              "        [9369.62808116, 9326.59962378, 9335.75240233, 9226.48582088,\n",
              "         8794.35864452, 8798.04205463, 9081.18687849],\n",
              "        [9326.59962378, 9335.75240233, 9226.48582088, 8794.35864452,\n",
              "         8798.04205463, 9081.18687849, 8711.53433917],\n",
              "        [9335.75240233, 9226.48582088, 8794.35864452, 8798.04205463,\n",
              "         9081.18687849, 8711.53433917, 8760.89271814]]),\n",
              " array([[8798.04205463],\n",
              "        [9081.18687849],\n",
              "        [8711.53433917],\n",
              "        [8760.89271814],\n",
              "        [8749.52059102]]))"
            ]
          },
          "metadata": {},
          "execution_count": 45
        }
      ],
      "source": [
        "test_windows[:5], test_labels[:5]"
      ]
    },
    {
      "cell_type": "code",
      "execution_count": 46,
      "metadata": {
        "colab": {
          "base_uri": "https://localhost:8080/"
        },
        "id": "h3G9penqbClW",
        "outputId": "b2ef42d0-28d8-4f70-9a89-f8731d8dd031"
      },
      "outputs": [
        {
          "output_type": "execute_result",
          "data": {
            "text/plain": [
              "True"
            ]
          },
          "metadata": {},
          "execution_count": 46
        }
      ],
      "source": [
        "# check to see if train labels are the same (before and after window split )\n",
        "np.array_equal(np.squeeze(train_labels[:-HORIZON-1]), y_train[WINDOW_SIZE:]) "
      ]
    },
    {
      "cell_type": "markdown",
      "metadata": {
        "id": "sK0r1SoypMt6"
      },
      "source": [
        "## Make a modelling checkpoint callback\n",
        "\n",
        "Because our model's performance will fluctuate from experiment to experiment, we're goind to write a model checkpoint so we can compare apples to appeles.\n",
        "\n",
        "More specifically, we want to compare each of our model's best performances against the other model's best performances.\n",
        "\n",
        "For example f our model performs the best on epoch 55 (but we're training for 100 epochs), we want to lead and evaluate the model saved on epoch 55. \n",
        "\n",
        "We can create a modelling checkpoint callback using this following : https://www.tensorflow.org/api_docs/python/tf/keras/callbacks/ModelCheckpoint "
      ]
    },
    {
      "cell_type": "code",
      "execution_count": 47,
      "metadata": {
        "id": "Z83-VCkdbJsd"
      },
      "outputs": [],
      "source": [
        "import os\n",
        "\n",
        "# Create a function to implement a ModelCheckpoint callback with a specific filename\n",
        "def create_model_checkpoint(model_name, save_path=\"model_experiments\"):\n",
        "  return tf.keras.callbacks.ModelCheckpoint(\n",
        "      filepath=os.path.join(save_path, model_name),\n",
        "      verbose=0, # only output a limited amount of text\n",
        "      #monitor='val_loss',  # monitor validation loss\n",
        "      #mode='min',  # minimize validation loss\n",
        "      save_best_only=True  # save only the best model\n",
        "      )"
      ]
    },
    {
      "cell_type": "markdown",
      "metadata": {
        "id": "_TQRYvxDrvcE"
      },
      "source": [
        "## Model 1 : Dense model (window = 7, horizon = 1)\n",
        "\n",
        "Our first deep model is going to be a simple dense model:\n",
        "* A single dense layer with 128 hidden units and ReLU\n",
        "* An output layer with linear activation (no activation)\n",
        "* Adam optimization and MAE loss function\n",
        "* Batch size of 128 (previously we've used 32)\n",
        "* 100 epochs \n",
        "\n",
        "Why these values?\n",
        "\n",
        "I picked them out of experimentation.\n",
        "\n",
        "*  **Hyperparameters** = values a machine learning practitioner (you!) can adjust themselves.\n",
        "* **Parameters** = values a model learns on its own."
      ]
    },
    {
      "cell_type": "code",
      "execution_count": 48,
      "metadata": {
        "colab": {
          "base_uri": "https://localhost:8080/"
        },
        "id": "i7640zXUbk1_",
        "outputId": "6be81243-83f8-47de-cb32-cec83f8ce978"
      },
      "outputs": [
        {
          "output_type": "stream",
          "name": "stdout",
          "text": [
            "Epoch 1/100\n",
            "13/18 [====================>.........] - ETA: 0s - loss: 1519.1647 - mae: 1519.1647 - mse: 6514629.5000   "
          ]
        },
        {
          "output_type": "stream",
          "name": "stderr",
          "text": [
            "WARNING:absl:Found untraced functions such as _update_step_xla while saving (showing 1 of 1). These functions will not be directly callable after loading.\n"
          ]
        },
        {
          "output_type": "stream",
          "name": "stdout",
          "text": [
            "\b\b\b\b\b\b\b\b\b\b\b\b\b\b\b\b\b\b\b\b\b\b\b\b\b\b\b\b\b\b\b\b\b\b\b\b\b\b\b\b\b\b\b\b\b\b\b\b\b\b\b\b\b\b\b\b\b\b\b\b\b\b\b\b\b\b\b\b\b\b\b\b\b\b\b\b\b\b\b\b\b\b\b\b\b\b\b\b\b\b\b\b\b\b\b\b\b\b\b\b\b\b\b\r18/18 [==============================] - 9s 88ms/step - loss: 1206.2688 - mae: 1206.2688 - mse: 4937139.0000 - val_loss: 1832.2561 - val_mae: 1832.2561 - val_mse: 8868791.0000\n",
            "Epoch 2/100\n",
            "14/18 [======================>.......] - ETA: 0s - loss: 336.5897 - mae: 336.5897 - mse: 454286.5312"
          ]
        },
        {
          "output_type": "stream",
          "name": "stderr",
          "text": [
            "WARNING:absl:Found untraced functions such as _update_step_xla while saving (showing 1 of 1). These functions will not be directly callable after loading.\n"
          ]
        },
        {
          "output_type": "stream",
          "name": "stdout",
          "text": [
            "\b\b\b\b\b\b\b\b\b\b\b\b\b\b\b\b\b\b\b\b\b\b\b\b\b\b\b\b\b\b\b\b\b\b\b\b\b\b\b\b\b\b\b\b\b\b\b\b\b\b\b\b\b\b\b\b\b\b\b\b\b\b\b\b\b\b\b\b\b\b\b\b\b\b\b\b\b\b\b\b\b\b\b\b\b\b\b\b\b\b\b\b\b\b\b\b\b\b\b\b\r18/18 [==============================] - 1s 77ms/step - loss: 317.8890 - mae: 317.8890 - mse: 409782.3438 - val_loss: 1646.6035 - val_mae: 1646.6035 - val_mse: 6440725.0000\n",
            "Epoch 3/100\n",
            "11/18 [=================>............] - ETA: 0s - loss: 206.4925 - mae: 206.4925 - mse: 212015.3594"
          ]
        },
        {
          "output_type": "stream",
          "name": "stderr",
          "text": [
            "WARNING:absl:Found untraced functions such as _update_step_xla while saving (showing 1 of 1). These functions will not be directly callable after loading.\n"
          ]
        },
        {
          "output_type": "stream",
          "name": "stdout",
          "text": [
            "\b\b\b\b\b\b\b\b\b\b\b\b\b\b\b\b\b\b\b\b\b\b\b\b\b\b\b\b\b\b\b\b\b\b\b\b\b\b\b\b\b\b\b\b\b\b\b\b\b\b\b\b\b\b\b\b\b\b\b\b\b\b\b\b\b\b\b\b\b\b\b\b\b\b\b\b\b\b\b\b\b\b\b\b\b\b\b\b\b\b\b\b\b\b\b\b\b\b\b\b\r18/18 [==============================] - 2s 89ms/step - loss: 197.8393 - mae: 197.8393 - mse: 195947.5938 - val_loss: 1222.9452 - val_mae: 1222.9452 - val_mse: 3914440.2500\n",
            "Epoch 4/100\n",
            "12/18 [===================>..........] - ETA: 0s - loss: 180.8428 - mae: 180.8428 - mse: 171119.0156"
          ]
        },
        {
          "output_type": "stream",
          "name": "stderr",
          "text": [
            "WARNING:absl:Found untraced functions such as _update_step_xla while saving (showing 1 of 1). These functions will not be directly callable after loading.\n"
          ]
        },
        {
          "output_type": "stream",
          "name": "stdout",
          "text": [
            "\b\b\b\b\b\b\b\b\b\b\b\b\b\b\b\b\b\b\b\b\b\b\b\b\b\b\b\b\b\b\b\b\b\b\b\b\b\b\b\b\b\b\b\b\b\b\b\b\b\b\b\b\b\b\b\b\b\b\b\b\b\b\b\b\b\b\b\b\b\b\b\b\b\b\b\b\b\b\b\b\b\b\b\b\b\b\b\b\b\b\b\b\b\b\b\b\b\b\b\b\r18/18 [==============================] - 1s 47ms/step - loss: 169.1470 - mae: 169.1470 - mse: 151738.5000 - val_loss: 900.8088 - val_mae: 900.8088 - val_mse: 2580723.0000\n",
            "Epoch 5/100\n",
            "13/18 [====================>.........] - ETA: 0s - loss: 157.1946 - mae: 157.1946 - mse: 137836.9062"
          ]
        },
        {
          "output_type": "stream",
          "name": "stderr",
          "text": [
            "WARNING:absl:Found untraced functions such as _update_step_xla while saving (showing 1 of 1). These functions will not be directly callable after loading.\n"
          ]
        },
        {
          "output_type": "stream",
          "name": "stdout",
          "text": [
            "\b\b\b\b\b\b\b\b\b\b\b\b\b\b\b\b\b\b\b\b\b\b\b\b\b\b\b\b\b\b\b\b\b\b\b\b\b\b\b\b\b\b\b\b\b\b\b\b\b\b\b\b\b\b\b\b\b\b\b\b\b\b\b\b\b\b\b\b\b\b\b\b\b\b\b\b\b\b\b\b\b\b\b\b\b\b\b\b\b\b\b\b\b\b\b\b\b\b\b\b\r18/18 [==============================] - 1s 46ms/step - loss: 154.2900 - mae: 154.2900 - mse: 133035.3750 - val_loss: 853.9014 - val_mae: 853.9014 - val_mse: 2363633.2500\n",
            "Epoch 6/100\n",
            "18/18 [==============================] - ETA: 0s - loss: 154.0572 - mae: 154.0572 - mse: 128574.3594"
          ]
        },
        {
          "output_type": "stream",
          "name": "stderr",
          "text": [
            "WARNING:absl:Found untraced functions such as _update_step_xla while saving (showing 1 of 1). These functions will not be directly callable after loading.\n"
          ]
        },
        {
          "output_type": "stream",
          "name": "stdout",
          "text": [
            "\b\b\b\b\b\b\b\b\b\b\b\b\b\b\b\b\b\b\b\b\b\b\b\b\b\b\b\b\b\b\b\b\b\b\b\b\b\b\b\b\b\b\b\b\b\b\b\b\b\b\b\b\b\b\b\b\b\b\b\b\b\b\b\b\b\b\b\b\b\b\b\b\b\b\b\b\b\b\b\b\b\b\b\b\b\b\b\b\b\b\b\b\b\b\b\b\b\b\b\b\r18/18 [==============================] - 1s 32ms/step - loss: 154.0572 - mae: 154.0572 - mse: 128574.3594 - val_loss: 836.9243 - val_mae: 836.9243 - val_mse: 2264642.7500\n",
            "Epoch 7/100\n",
            " 1/18 [>.............................] - ETA: 0s - loss: 179.3254 - mae: 179.3254 - mse: 248277.6875"
          ]
        },
        {
          "output_type": "stream",
          "name": "stderr",
          "text": [
            "WARNING:absl:Found untraced functions such as _update_step_xla while saving (showing 1 of 1). These functions will not be directly callable after loading.\n"
          ]
        },
        {
          "output_type": "stream",
          "name": "stdout",
          "text": [
            "\b\b\b\b\b\b\b\b\b\b\b\b\b\b\b\b\b\b\b\b\b\b\b\b\b\b\b\b\b\b\b\b\b\b\b\b\b\b\b\b\b\b\b\b\b\b\b\b\b\b\b\b\b\b\b\b\b\b\b\b\b\b\b\b\b\b\b\b\b\b\b\b\b\b\b\b\b\b\b\b\b\b\b\b\b\b\b\b\b\b\b\b\b\b\b\b\b\b\b\b\r18/18 [==============================] - 1s 33ms/step - loss: 148.8440 - mae: 148.8440 - mse: 123068.1875 - val_loss: 809.2236 - val_mae: 809.2236 - val_mse: 2178715.0000\n",
            "Epoch 8/100\n",
            " 1/18 [>.............................] - ETA: 0s - loss: 114.0480 - mae: 114.0480 - mse: 52370.2891"
          ]
        },
        {
          "output_type": "stream",
          "name": "stderr",
          "text": [
            "WARNING:absl:Found untraced functions such as _update_step_xla while saving (showing 1 of 1). These functions will not be directly callable after loading.\n"
          ]
        },
        {
          "output_type": "stream",
          "name": "stdout",
          "text": [
            "\b\b\b\b\b\b\b\b\b\b\b\b\b\b\b\b\b\b\b\b\b\b\b\b\b\b\b\b\b\b\b\b\b\b\b\b\b\b\b\b\b\b\b\b\b\b\b\b\b\b\b\b\b\b\b\b\b\b\b\b\b\b\b\b\b\b\b\b\b\b\b\b\b\b\b\b\b\b\b\b\b\b\b\b\b\b\b\b\b\b\b\b\b\b\b\b\b\b\b\r18/18 [==============================] - 1s 32ms/step - loss: 146.0932 - mae: 146.0932 - mse: 118887.8281 - val_loss: 794.4409 - val_mae: 794.4409 - val_mse: 2113978.0000\n",
            "Epoch 9/100\n",
            "18/18 [==============================] - 0s 5ms/step - loss: 144.5257 - mae: 144.5257 - mse: 117729.5938 - val_loss: 807.1361 - val_mae: 807.1361 - val_mse: 2050472.5000\n",
            "Epoch 10/100\n",
            " 1/18 [>.............................] - ETA: 0s - loss: 148.9323 - mae: 148.9323 - mse: 155375.3438"
          ]
        },
        {
          "output_type": "stream",
          "name": "stderr",
          "text": [
            "WARNING:absl:Found untraced functions such as _update_step_xla while saving (showing 1 of 1). These functions will not be directly callable after loading.\n"
          ]
        },
        {
          "output_type": "stream",
          "name": "stdout",
          "text": [
            "\b\b\b\b\b\b\b\b\b\b\b\b\b\b\b\b\b\b\b\b\b\b\b\b\b\b\b\b\b\b\b\b\b\b\b\b\b\b\b\b\b\b\b\b\b\b\b\b\b\b\b\b\b\b\b\b\b\b\b\b\b\b\b\b\b\b\b\b\b\b\b\b\b\b\b\b\b\b\b\b\b\b\b\b\b\b\b\b\b\b\b\b\b\b\b\b\b\b\b\b\r18/18 [==============================] - 1s 45ms/step - loss: 142.0942 - mae: 142.0942 - mse: 115241.2344 - val_loss: 770.6260 - val_mae: 770.6260 - val_mse: 1938317.8750\n",
            "Epoch 11/100\n",
            " 1/18 [>.............................] - ETA: 0s - loss: 138.1103 - mae: 138.1103 - mse: 88405.3594"
          ]
        },
        {
          "output_type": "stream",
          "name": "stderr",
          "text": [
            "WARNING:absl:Found untraced functions such as _update_step_xla while saving (showing 1 of 1). These functions will not be directly callable after loading.\n"
          ]
        },
        {
          "output_type": "stream",
          "name": "stdout",
          "text": [
            "\b\b\b\b\b\b\b\b\b\b\b\b\b\b\b\b\b\b\b\b\b\b\b\b\b\b\b\b\b\b\b\b\b\b\b\b\b\b\b\b\b\b\b\b\b\b\b\b\b\b\b\b\b\b\b\b\b\b\b\b\b\b\b\b\b\b\b\b\b\b\b\b\b\b\b\b\b\b\b\b\b\b\b\b\b\b\b\b\b\b\b\b\b\b\b\b\b\b\b\r18/18 [==============================] - 1s 32ms/step - loss: 137.0685 - mae: 137.0685 - mse: 107640.9375 - val_loss: 757.6882 - val_mae: 757.6882 - val_mse: 1873014.7500\n",
            "Epoch 12/100\n",
            "18/18 [==============================] - 0s 5ms/step - loss: 134.5237 - mae: 134.5237 - mse: 104780.6484 - val_loss: 803.8682 - val_mae: 803.8682 - val_mse: 1966645.8750\n",
            "Epoch 13/100\n",
            "18/18 [==============================] - 0s 5ms/step - loss: 138.2426 - mae: 138.2426 - mse: 106127.0156 - val_loss: 787.2611 - val_mae: 787.2611 - val_mse: 1901944.1250\n",
            "Epoch 14/100\n",
            " 1/18 [>.............................] - ETA: 0s - loss: 134.6852 - mae: 134.6852 - mse: 73177.4453"
          ]
        },
        {
          "output_type": "stream",
          "name": "stderr",
          "text": [
            "WARNING:absl:Found untraced functions such as _update_step_xla while saving (showing 1 of 1). These functions will not be directly callable after loading.\n"
          ]
        },
        {
          "output_type": "stream",
          "name": "stdout",
          "text": [
            "\b\b\b\b\b\b\b\b\b\b\b\b\b\b\b\b\b\b\b\b\b\b\b\b\b\b\b\b\b\b\b\b\b\b\b\b\b\b\b\b\b\b\b\b\b\b\b\b\b\b\b\b\b\b\b\b\b\b\b\b\b\b\b\b\b\b\b\b\b\b\b\b\b\b\b\b\b\b\b\b\b\b\b\b\b\b\b\b\b\b\b\b\b\b\b\b\b\b\b\r18/18 [==============================] - 1s 33ms/step - loss: 132.0100 - mae: 132.0100 - mse: 100478.4922 - val_loss: 740.6252 - val_mae: 740.6252 - val_mse: 1760536.5000\n",
            "Epoch 15/100\n",
            " 1/18 [>.............................] - ETA: 0s - loss: 137.5359 - mae: 137.5359 - mse: 76940.7812"
          ]
        },
        {
          "output_type": "stream",
          "name": "stderr",
          "text": [
            "WARNING:absl:Found untraced functions such as _update_step_xla while saving (showing 1 of 1). These functions will not be directly callable after loading.\n"
          ]
        },
        {
          "output_type": "stream",
          "name": "stdout",
          "text": [
            "\b\b\b\b\b\b\b\b\b\b\b\b\b\b\b\b\b\b\b\b\b\b\b\b\b\b\b\b\b\b\b\b\b\b\b\b\b\b\b\b\b\b\b\b\b\b\b\b\b\b\b\b\b\b\b\b\b\b\b\b\b\b\b\b\b\b\b\b\b\b\b\b\b\b\b\b\b\b\b\b\b\b\b\b\b\b\b\b\b\b\b\b\b\b\b\b\b\b\b\r18/18 [==============================] - 1s 33ms/step - loss: 131.0655 - mae: 131.0655 - mse: 98804.3125 - val_loss: 712.3582 - val_mae: 712.3582 - val_mse: 1714989.3750\n",
            "Epoch 16/100\n",
            "18/18 [==============================] - 0s 5ms/step - loss: 128.2449 - mae: 128.2449 - mse: 95662.1875 - val_loss: 714.0490 - val_mae: 714.0490 - val_mse: 1669402.7500\n",
            "Epoch 17/100\n",
            " 1/18 [>.............................] - ETA: 0s - loss: 113.0628 - mae: 113.0628 - mse: 57285.4297"
          ]
        },
        {
          "output_type": "stream",
          "name": "stderr",
          "text": [
            "WARNING:absl:Found untraced functions such as _update_step_xla while saving (showing 1 of 1). These functions will not be directly callable after loading.\n"
          ]
        },
        {
          "output_type": "stream",
          "name": "stdout",
          "text": [
            "\b\b\b\b\b\b\b\b\b\b\b\b\b\b\b\b\b\b\b\b\b\b\b\b\b\b\b\b\b\b\b\b\b\b\b\b\b\b\b\b\b\b\b\b\b\b\b\b\b\b\b\b\b\b\b\b\b\b\b\b\b\b\b\b\b\b\b\b\b\b\b\b\b\b\b\b\b\b\b\b\b\b\b\b\b\b\b\b\b\b\b\b\b\b\b\b\b\b\b\r18/18 [==============================] - 1s 34ms/step - loss: 126.2453 - mae: 126.2453 - mse: 94163.6094 - val_loss: 698.8453 - val_mae: 698.8453 - val_mse: 1625055.5000\n",
            "Epoch 18/100\n",
            "18/18 [==============================] - ETA: 0s - loss: 125.8494 - mae: 125.8494 - mse: 93293.4062 "
          ]
        },
        {
          "output_type": "stream",
          "name": "stderr",
          "text": [
            "WARNING:absl:Found untraced functions such as _update_step_xla while saving (showing 1 of 1). These functions will not be directly callable after loading.\n"
          ]
        },
        {
          "output_type": "stream",
          "name": "stdout",
          "text": [
            "\b\b\b\b\b\b\b\b\b\b\b\b\b\b\b\b\b\b\b\b\b\b\b\b\b\b\b\b\b\b\b\b\b\b\b\b\b\b\b\b\b\b\b\b\b\b\b\b\b\b\b\b\b\b\b\b\b\b\b\b\b\b\b\b\b\b\b\b\b\b\b\b\b\b\b\b\b\b\b\b\b\b\b\b\b\b\b\b\b\b\b\b\b\b\b\b\b\b\b\r18/18 [==============================] - 1s 32ms/step - loss: 125.8494 - mae: 125.8494 - mse: 93293.4062 - val_loss: 687.3313 - val_mae: 687.3313 - val_mse: 1609069.5000\n",
            "Epoch 19/100\n",
            "17/18 [===========================>..] - ETA: 0s - loss: 126.6987 - mae: 126.6987 - mse: 93554.8750"
          ]
        },
        {
          "output_type": "stream",
          "name": "stderr",
          "text": [
            "WARNING:absl:Found untraced functions such as _update_step_xla while saving (showing 1 of 1). These functions will not be directly callable after loading.\n"
          ]
        },
        {
          "output_type": "stream",
          "name": "stdout",
          "text": [
            "\b\b\b\b\b\b\b\b\b\b\b\b\b\b\b\b\b\b\b\b\b\b\b\b\b\b\b\b\b\b\b\b\b\b\b\b\b\b\b\b\b\b\b\b\b\b\b\b\b\b\b\b\b\b\b\b\b\b\b\b\b\b\b\b\b\b\b\b\b\b\b\b\b\b\b\b\b\b\b\b\b\b\b\b\b\b\b\b\b\b\b\b\b\b\b\b\b\b\b\r18/18 [==============================] - 1s 33ms/step - loss: 125.9651 - mae: 125.9651 - mse: 93064.3203 - val_loss: 682.1840 - val_mae: 682.1840 - val_mse: 1567509.6250\n",
            "Epoch 20/100\n",
            "18/18 [==============================] - ETA: 0s - loss: 128.7786 - mae: 128.7786 - mse: 95843.5469 "
          ]
        },
        {
          "output_type": "stream",
          "name": "stderr",
          "text": [
            "WARNING:absl:Found untraced functions such as _update_step_xla while saving (showing 1 of 1). These functions will not be directly callable after loading.\n"
          ]
        },
        {
          "output_type": "stream",
          "name": "stdout",
          "text": [
            "\b\b\b\b\b\b\b\b\b\b\b\b\b\b\b\b\b\b\b\b\b\b\b\b\b\b\b\b\b\b\b\b\b\b\b\b\b\b\b\b\b\b\b\b\b\b\b\b\b\b\b\b\b\b\b\b\b\b\b\b\b\b\b\b\b\b\b\b\b\b\b\b\b\b\b\b\b\b\b\b\b\b\b\b\b\b\b\b\b\b\b\b\b\b\b\b\b\b\b\r18/18 [==============================] - 1s 32ms/step - loss: 128.7786 - mae: 128.7786 - mse: 95843.5469 - val_loss: 673.4001 - val_mae: 673.4001 - val_mse: 1549663.0000\n",
            "Epoch 21/100\n",
            " 1/18 [>.............................] - ETA: 0s - loss: 133.8351 - mae: 133.8351 - mse: 85099.4766"
          ]
        },
        {
          "output_type": "stream",
          "name": "stderr",
          "text": [
            "WARNING:absl:Found untraced functions such as _update_step_xla while saving (showing 1 of 1). These functions will not be directly callable after loading.\n"
          ]
        },
        {
          "output_type": "stream",
          "name": "stdout",
          "text": [
            "\b\b\b\b\b\b\b\b\b\b\b\b\b\b\b\b\b\b\b\b\b\b\b\b\b\b\b\b\b\b\b\b\b\b\b\b\b\b\b\b\b\b\b\b\b\b\b\b\b\b\b\b\b\b\b\b\b\b\b\b\b\b\b\b\b\b\b\b\b\b\b\b\b\b\b\b\b\b\b\b\b\b\b\b\b\b\b\b\b\b\b\b\b\b\b\b\b\b\b\r18/18 [==============================] - 1s 33ms/step - loss: 128.9927 - mae: 128.9927 - mse: 95455.4453 - val_loss: 671.7314 - val_mae: 671.7314 - val_mse: 1526893.6250\n",
            "Epoch 22/100\n",
            "18/18 [==============================] - 0s 6ms/step - loss: 122.5208 - mae: 122.5208 - mse: 89120.4141 - val_loss: 678.3829 - val_mae: 678.3829 - val_mse: 1527475.1250\n",
            "Epoch 23/100\n",
            " 1/18 [>.............................] - ETA: 0s - loss: 119.0550 - mae: 119.0550 - mse: 65898.7031"
          ]
        },
        {
          "output_type": "stream",
          "name": "stderr",
          "text": [
            "WARNING:absl:Found untraced functions such as _update_step_xla while saving (showing 1 of 1). These functions will not be directly callable after loading.\n"
          ]
        },
        {
          "output_type": "stream",
          "name": "stdout",
          "text": [
            "\b\b\b\b\b\b\b\b\b\b\b\b\b\b\b\b\b\b\b\b\b\b\b\b\b\b\b\b\b\b\b\b\b\b\b\b\b\b\b\b\b\b\b\b\b\b\b\b\b\b\b\b\b\b\b\b\b\b\b\b\b\b\b\b\b\b\b\b\b\b\b\b\b\b\b\b\b\b\b\b\b\b\b\b\b\b\b\b\b\b\b\b\b\b\b\b\b\b\b\r18/18 [==============================] - 1s 35ms/step - loss: 122.2848 - mae: 122.2848 - mse: 88153.4531 - val_loss: 658.8479 - val_mae: 658.8479 - val_mse: 1492597.2500\n",
            "Epoch 24/100\n",
            "17/18 [===========================>..] - ETA: 0s - loss: 122.5356 - mae: 122.5356 - mse: 90222.9922"
          ]
        },
        {
          "output_type": "stream",
          "name": "stderr",
          "text": [
            "WARNING:absl:Found untraced functions such as _update_step_xla while saving (showing 1 of 1). These functions will not be directly callable after loading.\n"
          ]
        },
        {
          "output_type": "stream",
          "name": "stdout",
          "text": [
            "\b\b\b\b\b\b\b\b\b\b\b\b\b\b\b\b\b\b\b\b\b\b\b\b\b\b\b\b\b\b\b\b\b\b\b\b\b\b\b\b\b\b\b\b\b\b\b\b\b\b\b\b\b\b\b\b\b\b\b\b\b\b\b\b\b\b\b\b\b\b\b\b\b\b\b\b\b\b\b\b\b\b\b\b\b\b\b\b\b\b\b\b\b\b\b\b\b\b\b\r18/18 [==============================] - 1s 33ms/step - loss: 121.1963 - mae: 121.1963 - mse: 88630.5703 - val_loss: 658.5352 - val_mae: 658.5352 - val_mse: 1498952.0000\n",
            "Epoch 25/100\n",
            "18/18 [==============================] - 0s 6ms/step - loss: 121.1551 - mae: 121.1551 - mse: 86462.3750 - val_loss: 683.0964 - val_mae: 683.0964 - val_mse: 1589182.1250\n",
            "Epoch 26/100\n",
            "18/18 [==============================] - 0s 6ms/step - loss: 124.3804 - mae: 124.3804 - mse: 88132.8906 - val_loss: 665.6218 - val_mae: 665.6218 - val_mse: 1524323.3750\n",
            "Epoch 27/100\n",
            "18/18 [==============================] - 0s 5ms/step - loss: 127.8911 - mae: 127.8911 - mse: 90520.2500 - val_loss: 716.5787 - val_mae: 716.5787 - val_mse: 1692533.1250\n",
            "Epoch 28/100\n",
            " 1/18 [>.............................] - ETA: 0s - loss: 129.3860 - mae: 129.3860 - mse: 76716.4062"
          ]
        },
        {
          "output_type": "stream",
          "name": "stderr",
          "text": [
            "WARNING:absl:Found untraced functions such as _update_step_xla while saving (showing 1 of 1). These functions will not be directly callable after loading.\n"
          ]
        },
        {
          "output_type": "stream",
          "name": "stdout",
          "text": [
            "\b\b\b\b\b\b\b\b\b\b\b\b\b\b\b\b\b\b\b\b\b\b\b\b\b\b\b\b\b\b\b\b\b\b\b\b\b\b\b\b\b\b\b\b\b\b\b\b\b\b\b\b\b\b\b\b\b\b\b\b\b\b\b\b\b\b\b\b\b\b\b\b\b\b\b\b\b\b\b\b\b\b\b\b\b\b\b\b\b\b\b\b\b\b\b\b\b\b\b\r18/18 [==============================] - 1s 32ms/step - loss: 123.9295 - mae: 123.9295 - mse: 87870.5078 - val_loss: 641.2488 - val_mae: 641.2488 - val_mse: 1422189.8750\n",
            "Epoch 29/100\n",
            "18/18 [==============================] - 0s 5ms/step - loss: 123.1765 - mae: 123.1765 - mse: 88537.8281 - val_loss: 727.3802 - val_mae: 727.3802 - val_mse: 1597407.5000\n",
            "Epoch 30/100\n",
            "18/18 [==============================] - 0s 5ms/step - loss: 126.9947 - mae: 126.9947 - mse: 90098.9609 - val_loss: 765.7922 - val_mae: 765.7922 - val_mse: 1698760.2500\n",
            "Epoch 31/100\n",
            "18/18 [==============================] - 0s 6ms/step - loss: 131.7972 - mae: 131.7972 - mse: 92857.9688 - val_loss: 899.9452 - val_mae: 899.9452 - val_mse: 2138000.5000\n",
            "Epoch 32/100\n",
            "12/18 [===================>..........] - ETA: 0s - loss: 141.5164 - mae: 141.5164 - mse: 99062.9766"
          ]
        },
        {
          "output_type": "stream",
          "name": "stderr",
          "text": [
            "WARNING:absl:Found untraced functions such as _update_step_xla while saving (showing 1 of 1). These functions will not be directly callable after loading.\n"
          ]
        },
        {
          "output_type": "stream",
          "name": "stdout",
          "text": [
            "\b\b\b\b\b\b\b\b\b\b\b\b\b\b\b\b\b\b\b\b\b\b\b\b\b\b\b\b\b\b\b\b\b\b\b\b\b\b\b\b\b\b\b\b\b\b\b\b\b\b\b\b\b\b\b\b\b\b\b\b\b\b\b\b\b\b\b\b\b\b\b\b\b\b\b\b\b\b\b\b\b\b\b\b\b\b\b\b\b\b\b\b\b\b\b\b\b\b\b\r18/18 [==============================] - 1s 48ms/step - loss: 134.5973 - mae: 134.5973 - mse: 91202.6562 - val_loss: 637.7230 - val_mae: 637.7230 - val_mse: 1411767.1250\n",
            "Epoch 33/100\n",
            "18/18 [==============================] - 0s 8ms/step - loss: 123.5158 - mae: 123.5158 - mse: 82533.6406 - val_loss: 681.6792 - val_mae: 681.6792 - val_mse: 1559193.7500\n",
            "Epoch 34/100\n",
            "18/18 [==============================] - 0s 11ms/step - loss: 120.0266 - mae: 120.0266 - mse: 83578.2578 - val_loss: 651.6891 - val_mae: 651.6891 - val_mse: 1459634.1250\n",
            "Epoch 35/100\n",
            "18/18 [==============================] - 0s 8ms/step - loss: 116.8193 - mae: 116.8193 - mse: 82743.7812 - val_loss: 649.4055 - val_mae: 649.4055 - val_mse: 1395944.1250\n",
            "Epoch 36/100\n",
            "18/18 [==============================] - 0s 8ms/step - loss: 124.4575 - mae: 124.4575 - mse: 85136.3281 - val_loss: 733.2405 - val_mae: 733.2405 - val_mse: 1588125.8750\n",
            "Epoch 37/100\n",
            "18/18 [==============================] - 0s 7ms/step - loss: 118.1179 - mae: 118.1179 - mse: 80568.6484 - val_loss: 649.1840 - val_mae: 649.1840 - val_mse: 1389155.6250\n",
            "Epoch 38/100\n",
            "13/18 [====================>.........] - ETA: 0s - loss: 118.4239 - mae: 118.4239 - mse: 81692.8594"
          ]
        },
        {
          "output_type": "stream",
          "name": "stderr",
          "text": [
            "WARNING:absl:Found untraced functions such as _update_step_xla while saving (showing 1 of 1). These functions will not be directly callable after loading.\n"
          ]
        },
        {
          "output_type": "stream",
          "name": "stdout",
          "text": [
            "\b\b\b\b\b\b\b\b\b\b\b\b\b\b\b\b\b\b\b\b\b\b\b\b\b\b\b\b\b\b\b\b\b\b\b\b\b\b\b\b\b\b\b\b\b\b\b\b\b\b\b\b\b\b\b\b\b\b\b\b\b\b\b\b\b\b\b\b\b\b\b\b\b\b\b\b\b\b\b\b\b\b\b\b\b\b\b\b\b\b\b\b\b\b\b\b\b\b\b\r18/18 [==============================] - 1s 46ms/step - loss: 116.0689 - mae: 116.0689 - mse: 80426.7812 - val_loss: 624.0852 - val_mae: 624.0852 - val_mse: 1348902.6250\n",
            "Epoch 39/100\n",
            "18/18 [==============================] - 0s 6ms/step - loss: 116.5321 - mae: 116.5321 - mse: 81089.3516 - val_loss: 689.0135 - val_mae: 689.0135 - val_mse: 1566704.7500\n",
            "Epoch 40/100\n",
            "18/18 [==============================] - 0s 5ms/step - loss: 116.1901 - mae: 116.1901 - mse: 80237.7422 - val_loss: 627.1149 - val_mae: 627.1149 - val_mse: 1369369.6250\n",
            "Epoch 41/100\n",
            "18/18 [==============================] - 0s 6ms/step - loss: 114.0870 - mae: 114.0870 - mse: 79147.2969 - val_loss: 634.8112 - val_mae: 634.8112 - val_mse: 1393360.5000\n",
            "Epoch 42/100\n",
            " 1/18 [>.............................] - ETA: 0s - loss: 105.0178 - mae: 105.0178 - mse: 54282.2891"
          ]
        },
        {
          "output_type": "stream",
          "name": "stderr",
          "text": [
            "WARNING:absl:Found untraced functions such as _update_step_xla while saving (showing 1 of 1). These functions will not be directly callable after loading.\n"
          ]
        },
        {
          "output_type": "stream",
          "name": "stdout",
          "text": [
            "\b\b\b\b\b\b\b\b\b\b\b\b\b\b\b\b\b\b\b\b\b\b\b\b\b\b\b\b\b\b\b\b\b\b\b\b\b\b\b\b\b\b\b\b\b\b\b\b\b\b\b\b\b\b\b\b\b\b\b\b\b\b\b\b\b\b\b\b\b\b\b\b\b\b\b\b\b\b\b\b\b\b\b\b\b\b\b\b\b\b\b\b\b\b\b\b\b\b\b\r18/18 [==============================] - 1s 32ms/step - loss: 116.9801 - mae: 116.9801 - mse: 81503.1094 - val_loss: 619.4053 - val_mae: 619.4053 - val_mse: 1343800.2500\n",
            "Epoch 43/100\n",
            "18/18 [==============================] - 0s 5ms/step - loss: 112.9940 - mae: 112.9940 - mse: 78090.2422 - val_loss: 625.1286 - val_mae: 625.1286 - val_mse: 1360986.5000\n",
            "Epoch 44/100\n",
            "18/18 [==============================] - 0s 6ms/step - loss: 114.9108 - mae: 114.9108 - mse: 79050.5312 - val_loss: 647.9320 - val_mae: 647.9320 - val_mse: 1426170.8750\n",
            "Epoch 45/100\n",
            " 1/18 [>.............................] - ETA: 0s - loss: 81.4555 - mae: 81.4555 - mse: 37791.8125"
          ]
        },
        {
          "output_type": "stream",
          "name": "stderr",
          "text": [
            "WARNING:absl:Found untraced functions such as _update_step_xla while saving (showing 1 of 1). These functions will not be directly callable after loading.\n"
          ]
        },
        {
          "output_type": "stream",
          "name": "stdout",
          "text": [
            "\b\b\b\b\b\b\b\b\b\b\b\b\b\b\b\b\b\b\b\b\b\b\b\b\b\b\b\b\b\b\b\b\b\b\b\b\b\b\b\b\b\b\b\b\b\b\b\b\b\b\b\b\b\b\b\b\b\b\b\b\b\b\b\b\b\b\b\b\b\b\b\b\b\b\b\b\b\b\b\b\b\b\b\b\b\b\b\b\b\b\b\b\b\b\b\b\b\r18/18 [==============================] - 1s 31ms/step - loss: 113.6821 - mae: 113.6821 - mse: 79483.7656 - val_loss: 619.2510 - val_mae: 619.2510 - val_mse: 1319304.0000\n",
            "Epoch 46/100\n",
            "18/18 [==============================] - 0s 6ms/step - loss: 113.5628 - mae: 113.5628 - mse: 77982.4531 - val_loss: 622.5877 - val_mae: 622.5877 - val_mse: 1349762.1250\n",
            "Epoch 47/100\n",
            "18/18 [==============================] - 0s 6ms/step - loss: 115.3781 - mae: 115.3781 - mse: 80721.8359 - val_loss: 661.5549 - val_mae: 661.5549 - val_mse: 1390428.6250\n",
            "Epoch 48/100\n",
            "18/18 [==============================] - 0s 5ms/step - loss: 116.1275 - mae: 116.1275 - mse: 78306.9297 - val_loss: 701.8964 - val_mae: 701.8964 - val_mse: 1484716.7500\n",
            "Epoch 49/100\n",
            "17/18 [===========================>..] - ETA: 0s - loss: 117.7659 - mae: 117.7659 - mse: 79981.9766 "
          ]
        },
        {
          "output_type": "stream",
          "name": "stderr",
          "text": [
            "WARNING:absl:Found untraced functions such as _update_step_xla while saving (showing 1 of 1). These functions will not be directly callable after loading.\n"
          ]
        },
        {
          "output_type": "stream",
          "name": "stdout",
          "text": [
            "\b\b\b\b\b\b\b\b\b\b\b\b\b\b\b\b\b\b\b\b\b\b\b\b\b\b\b\b\b\b\b\b\b\b\b\b\b\b\b\b\b\b\b\b\b\b\b\b\b\b\b\b\b\b\b\b\b\b\b\b\b\b\b\b\b\b\b\b\b\b\b\b\b\b\b\b\b\b\b\b\b\b\b\b\b\b\b\b\b\b\b\b\b\b\b\b\b\b\b\r18/18 [==============================] - 1s 49ms/step - loss: 116.9342 - mae: 116.9342 - mse: 79116.7812 - val_loss: 614.1285 - val_mae: 614.1285 - val_mse: 1305049.1250\n",
            "Epoch 50/100\n",
            "18/18 [==============================] - 0s 6ms/step - loss: 112.2180 - mae: 112.2180 - mse: 77648.2422 - val_loss: 651.7577 - val_mae: 651.7577 - val_mse: 1429343.3750\n",
            "Epoch 51/100\n",
            "18/18 [==============================] - ETA: 0s - loss: 113.4538 - mae: 113.4538 - mse: 77428.6641"
          ]
        },
        {
          "output_type": "stream",
          "name": "stderr",
          "text": [
            "WARNING:absl:Found untraced functions such as _update_step_xla while saving (showing 1 of 1). These functions will not be directly callable after loading.\n"
          ]
        },
        {
          "output_type": "stream",
          "name": "stdout",
          "text": [
            "\b\b\b\b\b\b\b\b\b\b\b\b\b\b\b\b\b\b\b\b\b\b\b\b\b\b\b\b\b\b\b\b\b\b\b\b\b\b\b\b\b\b\b\b\b\b\b\b\b\b\b\b\b\b\b\b\b\b\b\b\b\b\b\b\b\b\b\b\b\b\b\b\b\b\b\b\b\b\b\b\b\b\b\b\b\b\b\b\b\b\b\b\b\b\b\b\b\b\b\r18/18 [==============================] - 1s 32ms/step - loss: 113.4538 - mae: 113.4538 - mse: 77428.6641 - val_loss: 610.8882 - val_mae: 610.8882 - val_mse: 1296927.2500\n",
            "Epoch 52/100\n",
            "17/18 [===========================>..] - ETA: 0s - loss: 112.1264 - mae: 112.1264 - mse: 78117.8984"
          ]
        },
        {
          "output_type": "stream",
          "name": "stderr",
          "text": [
            "WARNING:absl:Found untraced functions such as _update_step_xla while saving (showing 1 of 1). These functions will not be directly callable after loading.\n"
          ]
        },
        {
          "output_type": "stream",
          "name": "stdout",
          "text": [
            "\b\b\b\b\b\b\b\b\b\b\b\b\b\b\b\b\b\b\b\b\b\b\b\b\b\b\b\b\b\b\b\b\b\b\b\b\b\b\b\b\b\b\b\b\b\b\b\b\b\b\b\b\b\b\b\b\b\b\b\b\b\b\b\b\b\b\b\b\b\b\b\b\b\b\b\b\b\b\b\b\b\b\b\b\b\b\b\b\b\b\b\b\b\b\b\b\b\b\b\r18/18 [==============================] - 1s 33ms/step - loss: 111.5265 - mae: 111.5265 - mse: 77127.2500 - val_loss: 606.5596 - val_mae: 606.5596 - val_mse: 1295850.3750\n",
            "Epoch 53/100\n",
            "18/18 [==============================] - 0s 5ms/step - loss: 112.4250 - mae: 112.4250 - mse: 77064.8203 - val_loss: 621.1268 - val_mae: 621.1268 - val_mse: 1305567.2500\n",
            "Epoch 54/100\n",
            "18/18 [==============================] - 0s 5ms/step - loss: 112.1616 - mae: 112.1616 - mse: 76277.2344 - val_loss: 615.9910 - val_mae: 615.9910 - val_mse: 1296925.7500\n",
            "Epoch 55/100\n",
            "18/18 [==============================] - 0s 5ms/step - loss: 114.3170 - mae: 114.3170 - mse: 79006.5547 - val_loss: 625.1951 - val_mae: 625.1951 - val_mse: 1347897.0000\n",
            "Epoch 56/100\n",
            "18/18 [==============================] - 0s 6ms/step - loss: 115.4661 - mae: 115.4661 - mse: 78468.8906 - val_loss: 819.2067 - val_mae: 819.2067 - val_mse: 1964445.0000\n",
            "Epoch 57/100\n",
            "18/18 [==============================] - 0s 6ms/step - loss: 126.6688 - mae: 126.6688 - mse: 88476.2500 - val_loss: 677.7728 - val_mae: 677.7728 - val_mse: 1498578.0000\n",
            "Epoch 58/100\n",
            "18/18 [==============================] - 0s 5ms/step - loss: 118.1892 - mae: 118.1892 - mse: 78809.2812 - val_loss: 682.9730 - val_mae: 682.9730 - val_mse: 1512575.5000\n",
            "Epoch 59/100\n",
            "18/18 [==============================] - 0s 6ms/step - loss: 112.8688 - mae: 112.8688 - mse: 76367.2969 - val_loss: 646.5300 - val_mae: 646.5300 - val_mse: 1403830.5000\n",
            "Epoch 60/100\n",
            "18/18 [==============================] - 0s 5ms/step - loss: 114.2101 - mae: 114.2101 - mse: 77839.9141 - val_loss: 639.9563 - val_mae: 639.9563 - val_mse: 1331386.1250\n",
            "Epoch 61/100\n",
            "18/18 [==============================] - 0s 5ms/step - loss: 113.0870 - mae: 113.0870 - mse: 77792.7031 - val_loss: 630.7159 - val_mae: 630.7159 - val_mse: 1312157.2500\n",
            "Epoch 62/100\n",
            " 1/18 [>.............................] - ETA: 0s - loss: 73.6287 - mae: 73.6287 - mse: 33733.5234"
          ]
        },
        {
          "output_type": "stream",
          "name": "stderr",
          "text": [
            "WARNING:absl:Found untraced functions such as _update_step_xla while saving (showing 1 of 1). These functions will not be directly callable after loading.\n"
          ]
        },
        {
          "output_type": "stream",
          "name": "stdout",
          "text": [
            "\b\b\b\b\b\b\b\b\b\b\b\b\b\b\b\b\b\b\b\b\b\b\b\b\b\b\b\b\b\b\b\b\b\b\b\b\b\b\b\b\b\b\b\b\b\b\b\b\b\b\b\b\b\b\b\b\b\b\b\b\b\b\b\b\b\b\b\b\b\b\b\b\b\b\b\b\b\b\b\b\b\b\b\b\b\b\b\b\b\b\b\b\b\b\b\b\b\r18/18 [==============================] - 1s 32ms/step - loss: 111.8054 - mae: 111.8054 - mse: 75155.7344 - val_loss: 599.3212 - val_mae: 599.3212 - val_mse: 1269478.0000\n",
            "Epoch 63/100\n",
            "18/18 [==============================] - 0s 6ms/step - loss: 109.4202 - mae: 109.4202 - mse: 74506.5938 - val_loss: 603.2553 - val_mae: 603.2553 - val_mse: 1267387.3750\n",
            "Epoch 64/100\n",
            "18/18 [==============================] - 0s 7ms/step - loss: 109.4142 - mae: 109.4142 - mse: 74245.2266 - val_loss: 609.7460 - val_mae: 609.7460 - val_mse: 1276277.6250\n",
            "Epoch 65/100\n",
            "18/18 [==============================] - 0s 5ms/step - loss: 110.6757 - mae: 110.6757 - mse: 75594.9531 - val_loss: 605.3328 - val_mae: 605.3328 - val_mse: 1267009.6250\n",
            "Epoch 66/100\n",
            "18/18 [==============================] - 0s 5ms/step - loss: 109.4200 - mae: 109.4200 - mse: 74388.7578 - val_loss: 602.8679 - val_mae: 602.8679 - val_mse: 1262548.5000\n",
            "Epoch 67/100\n",
            "18/18 [==============================] - 0s 5ms/step - loss: 110.1453 - mae: 110.1453 - mse: 74506.8047 - val_loss: 631.4946 - val_mae: 631.4946 - val_mse: 1353919.7500\n",
            "Epoch 68/100\n",
            "18/18 [==============================] - 0s 5ms/step - loss: 116.5945 - mae: 116.5945 - mse: 75038.1328 - val_loss: 679.0311 - val_mae: 679.0311 - val_mse: 1488437.6250\n",
            "Epoch 69/100\n",
            "18/18 [==============================] - 0s 6ms/step - loss: 127.9895 - mae: 127.9895 - mse: 85222.6172 - val_loss: 671.1195 - val_mae: 671.1195 - val_mse: 1460801.6250\n",
            "Epoch 70/100\n",
            "18/18 [==============================] - 0s 5ms/step - loss: 120.6378 - mae: 120.6378 - mse: 80867.6875 - val_loss: 601.5712 - val_mae: 601.5712 - val_mse: 1274923.3750\n",
            "Epoch 71/100\n",
            "18/18 [==============================] - 0s 6ms/step - loss: 112.7347 - mae: 112.7347 - mse: 75317.9766 - val_loss: 630.7968 - val_mae: 630.7968 - val_mse: 1304250.8750\n",
            "Epoch 72/100\n",
            "18/18 [==============================] - ETA: 0s - loss: 109.9032 - mae: 109.9032 - mse: 74504.5781"
          ]
        },
        {
          "output_type": "stream",
          "name": "stderr",
          "text": [
            "WARNING:absl:Found untraced functions such as _update_step_xla while saving (showing 1 of 1). These functions will not be directly callable after loading.\n"
          ]
        },
        {
          "output_type": "stream",
          "name": "stdout",
          "text": [
            "\b\b\b\b\b\b\b\b\b\b\b\b\b\b\b\b\b\b\b\b\b\b\b\b\b\b\b\b\b\b\b\b\b\b\b\b\b\b\b\b\b\b\b\b\b\b\b\b\b\b\b\b\b\b\b\b\b\b\b\b\b\b\b\b\b\b\b\b\b\b\b\b\b\b\b\b\b\b\b\b\b\b\b\b\b\b\b\b\b\b\b\b\b\b\b\b\b\b\b\r18/18 [==============================] - 1s 33ms/step - loss: 109.9032 - mae: 109.9032 - mse: 74504.5781 - val_loss: 592.5312 - val_mae: 592.5312 - val_mse: 1244930.1250\n",
            "Epoch 73/100\n",
            "18/18 [==============================] - 0s 5ms/step - loss: 109.2581 - mae: 109.2581 - mse: 73558.8672 - val_loss: 593.3640 - val_mae: 593.3640 - val_mse: 1247963.7500\n",
            "Epoch 74/100\n",
            " 1/18 [>.............................] - ETA: 0s - loss: 161.6329 - mae: 161.6329 - mse: 182841.2500"
          ]
        },
        {
          "output_type": "stream",
          "name": "stderr",
          "text": [
            "WARNING:absl:Found untraced functions such as _update_step_xla while saving (showing 1 of 1). These functions will not be directly callable after loading.\n"
          ]
        },
        {
          "output_type": "stream",
          "name": "stdout",
          "text": [
            "\b\b\b\b\b\b\b\b\b\b\b\b\b\b\b\b\b\b\b\b\b\b\b\b\b\b\b\b\b\b\b\b\b\b\b\b\b\b\b\b\b\b\b\b\b\b\b\b\b\b\b\b\b\b\b\b\b\b\b\b\b\b\b\b\b\b\b\b\b\b\b\b\b\b\b\b\b\b\b\b\b\b\b\b\b\b\b\b\b\b\b\b\b\b\b\b\b\b\b\b\r18/18 [==============================] - 1s 31ms/step - loss: 109.1219 - mae: 109.1219 - mse: 74145.6797 - val_loss: 592.2712 - val_mae: 592.2712 - val_mse: 1243165.6250\n",
            "Epoch 75/100\n",
            "18/18 [==============================] - 0s 7ms/step - loss: 109.9578 - mae: 109.9578 - mse: 73263.4531 - val_loss: 610.4846 - val_mae: 610.4846 - val_mse: 1265159.3750\n",
            "Epoch 76/100\n",
            "18/18 [==============================] - 0s 6ms/step - loss: 112.6662 - mae: 112.6662 - mse: 75679.3828 - val_loss: 605.6509 - val_mae: 605.6509 - val_mse: 1279789.1250\n",
            "Epoch 77/100\n",
            "18/18 [==============================] - 0s 5ms/step - loss: 111.2583 - mae: 111.2583 - mse: 74077.6172 - val_loss: 595.0720 - val_mae: 595.0720 - val_mse: 1251215.2500\n",
            "Epoch 78/100\n",
            "18/18 [==============================] - 0s 5ms/step - loss: 110.8883 - mae: 110.8883 - mse: 73752.0312 - val_loss: 593.4440 - val_mae: 593.4440 - val_mse: 1239319.0000\n",
            "Epoch 79/100\n",
            "18/18 [==============================] - 0s 6ms/step - loss: 110.7638 - mae: 110.7638 - mse: 75863.5469 - val_loss: 634.5938 - val_mae: 634.5938 - val_mse: 1352240.5000\n",
            "Epoch 80/100\n",
            "16/18 [=========================>....] - ETA: 0s - loss: 113.6374 - mae: 113.6374 - mse: 76895.6797 "
          ]
        },
        {
          "output_type": "stream",
          "name": "stderr",
          "text": [
            "WARNING:absl:Found untraced functions such as _update_step_xla while saving (showing 1 of 1). These functions will not be directly callable after loading.\n"
          ]
        },
        {
          "output_type": "stream",
          "name": "stdout",
          "text": [
            "\b\b\b\b\b\b\b\b\b\b\b\b\b\b\b\b\b\b\b\b\b\b\b\b\b\b\b\b\b\b\b\b\b\b\b\b\b\b\b\b\b\b\b\b\b\b\b\b\b\b\b\b\b\b\b\b\b\b\b\b\b\b\b\b\b\b\b\b\b\b\b\b\b\b\b\b\b\b\b\b\b\b\b\b\b\b\b\b\b\b\b\b\b\b\b\b\b\b\b\r18/18 [==============================] - 1s 33ms/step - loss: 112.7918 - mae: 112.7918 - mse: 75409.0078 - val_loss: 591.8241 - val_mae: 591.8241 - val_mse: 1241125.2500\n",
            "Epoch 81/100\n",
            "17/18 [===========================>..] - ETA: 0s - loss: 107.5908 - mae: 107.5908 - mse: 72819.0234"
          ]
        },
        {
          "output_type": "stream",
          "name": "stderr",
          "text": [
            "WARNING:absl:Found untraced functions such as _update_step_xla while saving (showing 1 of 1). These functions will not be directly callable after loading.\n"
          ]
        },
        {
          "output_type": "stream",
          "name": "stdout",
          "text": [
            "\b\b\b\b\b\b\b\b\b\b\b\b\b\b\b\b\b\b\b\b\b\b\b\b\b\b\b\b\b\b\b\b\b\b\b\b\b\b\b\b\b\b\b\b\b\b\b\b\b\b\b\b\b\b\b\b\b\b\b\b\b\b\b\b\b\b\b\b\b\b\b\b\b\b\b\b\b\b\b\b\b\b\b\b\b\b\b\b\b\b\b\b\b\b\b\b\b\b\b\r18/18 [==============================] - 1s 32ms/step - loss: 107.9726 - mae: 107.9726 - mse: 73011.0312 - val_loss: 589.4822 - val_mae: 589.4822 - val_mse: 1232064.7500\n",
            "Epoch 82/100\n",
            "18/18 [==============================] - 0s 6ms/step - loss: 117.2668 - mae: 117.2668 - mse: 79291.7734 - val_loss: 619.7283 - val_mae: 619.7283 - val_mse: 1315171.6250\n",
            "Epoch 83/100\n",
            "18/18 [==============================] - 0s 5ms/step - loss: 109.6933 - mae: 109.6933 - mse: 73527.5312 - val_loss: 631.2482 - val_mae: 631.2482 - val_mse: 1341609.2500\n",
            "Epoch 84/100\n",
            "18/18 [==============================] - 0s 6ms/step - loss: 110.4625 - mae: 110.4625 - mse: 74158.9062 - val_loss: 591.8276 - val_mae: 591.8276 - val_mse: 1231856.1250\n",
            "Epoch 85/100\n",
            "18/18 [==============================] - 0s 6ms/step - loss: 108.0488 - mae: 108.0488 - mse: 72780.9219 - val_loss: 590.3043 - val_mae: 590.3043 - val_mse: 1227456.7500\n",
            "Epoch 86/100\n",
            "18/18 [==============================] - 0s 8ms/step - loss: 109.7585 - mae: 109.7585 - mse: 72595.8047 - val_loss: 647.2775 - val_mae: 647.2775 - val_mse: 1330069.8750\n",
            "Epoch 87/100\n",
            "18/18 [==============================] - 0s 8ms/step - loss: 109.1624 - mae: 109.1624 - mse: 70811.8672 - val_loss: 597.3862 - val_mae: 597.3862 - val_mse: 1251962.2500\n",
            "Epoch 88/100\n",
            "14/18 [======================>.......] - ETA: 0s - loss: 113.4028 - mae: 113.4028 - mse: 81036.8281 "
          ]
        },
        {
          "output_type": "stream",
          "name": "stderr",
          "text": [
            "WARNING:absl:Found untraced functions such as _update_step_xla while saving (showing 1 of 1). These functions will not be directly callable after loading.\n"
          ]
        },
        {
          "output_type": "stream",
          "name": "stdout",
          "text": [
            "\b\b\b\b\b\b\b\b\b\b\b\b\b\b\b\b\b\b\b\b\b\b\b\b\b\b\b\b\b\b\b\b\b\b\b\b\b\b\b\b\b\b\b\b\b\b\b\b\b\b\b\b\b\b\b\b\b\b\b\b\b\b\b\b\b\b\b\b\b\b\b\b\b\b\b\b\b\b\b\b\b\b\b\b\b\b\b\b\b\b\b\b\b\b\b\b\b\b\b\r18/18 [==============================] - 1s 48ms/step - loss: 108.6464 - mae: 108.6464 - mse: 73452.2734 - val_loss: 589.4691 - val_mae: 589.4691 - val_mse: 1230418.3750\n",
            "Epoch 89/100\n",
            "18/18 [==============================] - 0s 8ms/step - loss: 107.4610 - mae: 107.4610 - mse: 70890.7109 - val_loss: 601.0914 - val_mae: 601.0914 - val_mse: 1239957.0000\n",
            "Epoch 90/100\n",
            "18/18 [==============================] - 0s 8ms/step - loss: 109.0336 - mae: 109.0336 - mse: 69742.7656 - val_loss: 631.8412 - val_mae: 631.8412 - val_mse: 1297089.5000\n",
            "Epoch 91/100\n",
            "18/18 [==============================] - 0s 8ms/step - loss: 113.3943 - mae: 113.3943 - mse: 74861.7812 - val_loss: 611.2676 - val_mae: 611.2676 - val_mse: 1285794.1250\n",
            "Epoch 92/100\n",
            "18/18 [==============================] - 0s 7ms/step - loss: 108.6997 - mae: 108.6997 - mse: 73050.4688 - val_loss: 599.2733 - val_mae: 599.2733 - val_mse: 1255913.2500\n",
            "Epoch 93/100\n",
            "18/18 [==============================] - 0s 8ms/step - loss: 114.1265 - mae: 114.1265 - mse: 74429.5000 - val_loss: 638.7281 - val_mae: 638.7281 - val_mse: 1354834.7500\n",
            "Epoch 94/100\n",
            "18/18 [==============================] - 0s 11ms/step - loss: 110.2547 - mae: 110.2547 - mse: 73871.2422 - val_loss: 610.7518 - val_mae: 610.7518 - val_mse: 1254009.5000\n",
            "Epoch 95/100\n",
            "18/18 [==============================] - 0s 8ms/step - loss: 109.4657 - mae: 109.4657 - mse: 72109.6172 - val_loss: 629.4194 - val_mae: 629.4194 - val_mse: 1290083.2500\n",
            "Epoch 96/100\n",
            "18/18 [==============================] - 0s 8ms/step - loss: 114.1098 - mae: 114.1098 - mse: 75375.9141 - val_loss: 620.5283 - val_mae: 620.5283 - val_mse: 1309484.8750\n",
            "Epoch 97/100\n",
            "18/18 [==============================] - 0s 6ms/step - loss: 110.3636 - mae: 110.3636 - mse: 73963.5859 - val_loss: 629.9871 - val_mae: 629.9871 - val_mse: 1333369.8750\n",
            "Epoch 98/100\n",
            "17/18 [===========================>..] - ETA: 0s - loss: 114.3293 - mae: 114.3293 - mse: 75239.4062"
          ]
        },
        {
          "output_type": "stream",
          "name": "stderr",
          "text": [
            "WARNING:absl:Found untraced functions such as _update_step_xla while saving (showing 1 of 1). These functions will not be directly callable after loading.\n"
          ]
        },
        {
          "output_type": "stream",
          "name": "stdout",
          "text": [
            "\b\b\b\b\b\b\b\b\b\b\b\b\b\b\b\b\b\b\b\b\b\b\b\b\b\b\b\b\b\b\b\b\b\b\b\b\b\b\b\b\b\b\b\b\b\b\b\b\b\b\b\b\b\b\b\b\b\b\b\b\b\b\b\b\b\b\b\b\b\b\b\b\b\b\b\b\b\b\b\b\b\b\b\b\b\b\b\b\b\b\b\b\b\b\b\b\b\b\b\r18/18 [==============================] - 1s 33ms/step - loss: 113.7558 - mae: 113.7558 - mse: 74473.3672 - val_loss: 584.4866 - val_mae: 584.4866 - val_mse: 1211322.2500\n",
            "Epoch 99/100\n",
            "18/18 [==============================] - 0s 5ms/step - loss: 110.4151 - mae: 110.4151 - mse: 73126.6562 - val_loss: 587.9186 - val_mae: 587.9186 - val_mse: 1214441.8750\n",
            "Epoch 100/100\n",
            "18/18 [==============================] - 0s 5ms/step - loss: 111.0226 - mae: 111.0226 - mse: 71640.1797 - val_loss: 653.8588 - val_mae: 653.8588 - val_mse: 1343211.0000\n"
          ]
        }
      ],
      "source": [
        "import tensorflow as tf\n",
        "\n",
        "# Set random seed for as reproducible results as possible\n",
        "tf.random.set_seed(42)\n",
        "\n",
        "# Construct model\n",
        "model_1 = tf.keras.Sequential([\n",
        "    tf.keras.layers.Dense(128, activation=\"relu\"),\n",
        "    tf.keras.layers.Dense(HORIZON, activation=\"linear\"), # linear activation is the same as having no activation\n",
        "], name=\"model_1_dense\") # name our model so we can save it \n",
        "\n",
        "# 2. Compile the model\n",
        "model_1.compile(loss=\"mae\",\n",
        "                optimizer=tf.keras.optimizers.Adam(),\n",
        "                metrics=[\"mae\", \"mse\"])\n",
        "# 3. Fit the model\n",
        "history_model_1 = model_1.fit(train_windows,\n",
        "                              train_labels,\n",
        "                              epochs=100,\n",
        "                              verbose=1,\n",
        "                              batch_size=128,\n",
        "                              validation_data=(test_windows,test_labels),\n",
        "                              callbacks=[create_model_checkpoint(model_name=model_1.name)])"
      ]
    },
    {
      "cell_type": "code",
      "execution_count": 49,
      "metadata": {
        "id": "KNsnC6KCbpeV",
        "colab": {
          "base_uri": "https://localhost:8080/"
        },
        "outputId": "cef3fe35-1c6c-495f-c024-c280661e742c"
      },
      "outputs": [
        {
          "output_type": "execute_result",
          "data": {
            "text/plain": [
              "{'mae': 567.9802,\n",
              " 'mape': 2.516525,\n",
              " 'mase': 0.99957,\n",
              " 'mse': 1147547.0,\n",
              " 'rmse': 1071.2362}"
            ]
          },
          "metadata": {},
          "execution_count": 49
        }
      ],
      "source": [
        "naive_results"
      ]
    },
    {
      "cell_type": "code",
      "execution_count": 50,
      "metadata": {
        "id": "ha-7P1Vze4c1",
        "colab": {
          "base_uri": "https://localhost:8080/"
        },
        "outputId": "ba9aad6b-3643-4766-9d92-d0c3d1f54f78"
      },
      "outputs": [
        {
          "output_type": "stream",
          "name": "stdout",
          "text": [
            "18/18 [==============================] - 0s 3ms/step - loss: 653.8586 - mae: 653.8586 - mse: 1343210.8750\n"
          ]
        },
        {
          "output_type": "execute_result",
          "data": {
            "text/plain": [
              "[653.8585815429688, 653.8585815429688, 1343210.875]"
            ]
          },
          "metadata": {},
          "execution_count": 50
        }
      ],
      "source": [
        "# Evaluate model on test data\n",
        "model_1.evaluate(test_windows, test_labels)"
      ]
    },
    {
      "cell_type": "code",
      "execution_count": 51,
      "metadata": {
        "id": "hN_F3w6UhZeT",
        "colab": {
          "base_uri": "https://localhost:8080/"
        },
        "outputId": "7e052693-adad-4be5-fec7-db9dd3ff3db8"
      },
      "outputs": [
        {
          "output_type": "stream",
          "name": "stdout",
          "text": [
            "18/18 [==============================] - 0s 3ms/step - loss: 584.4866 - mae: 584.4866 - mse: 1211322.3750\n"
          ]
        },
        {
          "output_type": "execute_result",
          "data": {
            "text/plain": [
              "[584.486572265625, 584.486572265625, 1211322.375]"
            ]
          },
          "metadata": {},
          "execution_count": 51
        }
      ],
      "source": [
        "# Load in saved performing model_1 and evaluate it on test data\n",
        "model_1 = tf.keras.models.load_model(\"model_experiments/model_1_dense/\")\n",
        "model_1.evaluate(test_windows, test_labels)"
      ]
    },
    {
      "cell_type": "code",
      "execution_count": 52,
      "metadata": {
        "id": "QHbLT6nbETWU",
        "colab": {
          "base_uri": "https://localhost:8080/"
        },
        "outputId": "b1a7d95c-402e-4d90-b53e-2da6b3e7371c"
      },
      "outputs": [
        {
          "output_type": "execute_result",
          "data": {
            "text/plain": [
              "{'mae': 567.9802,\n",
              " 'mape': 2.516525,\n",
              " 'mase': 0.99957,\n",
              " 'mse': 1147547.0,\n",
              " 'rmse': 1071.2362}"
            ]
          },
          "metadata": {},
          "execution_count": 52
        }
      ],
      "source": [
        " naive_results"
      ]
    },
    {
      "cell_type": "markdown",
      "metadata": {
        "id": "u1okaFekE3cb"
      },
      "source": [
        "## Making forecssts with a model (on the test dataset)\n",
        "\n",
        "To make \"forecasts\" on the test dataset (note: these won't be actual forecasts, they're only psuedo forecasts because actual forecasts are into the future), let's write a function to:\n",
        "\n",
        "1. Take in a train model\n",
        "2. Takes in some input data (same kind of data the model was trained on)\n",
        "3. Passes the input data to the model's `predict()`\n",
        "4. Returns the predictions.\n",
        " \n"
      ]
    },
    {
      "cell_type": "code",
      "execution_count": 53,
      "metadata": {
        "id": "ITSC1DZxEnbE"
      },
      "outputs": [],
      "source": [
        "def make_preds(model, input_data):\n",
        "  \"\"\"\n",
        "  Uses model to make predictions input_data\n",
        "  \"\"\"\n",
        "  forecast = model.predict(input_data)\n",
        "  return tf.squeeze(forecast) # return 1D array of predictions"
      ]
    },
    {
      "cell_type": "code",
      "execution_count": 54,
      "metadata": {
        "id": "AWcluD1AVL3A",
        "colab": {
          "base_uri": "https://localhost:8080/"
        },
        "outputId": "75a04e8d-58d1-4bd9-b6d6-6860b0fe26a3"
      },
      "outputs": [
        {
          "output_type": "stream",
          "name": "stdout",
          "text": [
            "18/18 [==============================] - 0s 2ms/step\n"
          ]
        },
        {
          "output_type": "execute_result",
          "data": {
            "text/plain": [
              "(556,\n",
              " <tf.Tensor: shape=(10,), dtype=float32, numpy=\n",
              " array([8875.737 , 8717.185 , 8983.6455, 8814.531 , 8689.901 , 8711.839 ,\n",
              "        8710.521 , 8464.416 , 8445.258 , 8498.699 ], dtype=float32)>)"
            ]
          },
          "metadata": {},
          "execution_count": 54
        }
      ],
      "source": [
        "# Make predictions using model_1 on the test dataset and view results\n",
        "model_1_preds = make_preds(model_1, test_windows)\n",
        "len(model_1_preds), model_1_preds[:10]"
      ]
    },
    {
      "cell_type": "code",
      "execution_count": 55,
      "metadata": {
        "id": "L3-StThES5SC",
        "colab": {
          "base_uri": "https://localhost:8080/"
        },
        "outputId": "2882ec05-86b6-43a3-bfc8-a4aebdbaf42b"
      },
      "outputs": [
        {
          "output_type": "execute_result",
          "data": {
            "text/plain": [
              "(TensorShape([556]), TensorShape([556]))"
            ]
          },
          "metadata": {},
          "execution_count": 55
        }
      ],
      "source": [
        "model_1_preds.shape, tf.squeeze(test_labels).shape"
      ]
    },
    {
      "cell_type": "code",
      "execution_count": 56,
      "metadata": {
        "id": "-eK0tgIcMeHJ",
        "colab": {
          "base_uri": "https://localhost:8080/"
        },
        "outputId": "7c495fad-6a87-4053-922f-162e9ca0ebcb"
      },
      "outputs": [
        {
          "output_type": "execute_result",
          "data": {
            "text/plain": [
              "{'mae': 584.4866,\n",
              " 'mape': 2.6362236,\n",
              " 'mase': 1.026781,\n",
              " 'mse': 1211322.4,\n",
              " 'rmse': 1100.6008}"
            ]
          },
          "metadata": {},
          "execution_count": 56
        }
      ],
      "source": [
        "# Evaluate preds\n",
        "model_1_results = evaluate_preds(y_true = tf.squeeze(test_labels),\n",
        "                                 y_pred = model_1_preds)\n",
        "model_1_results"
      ]
    },
    {
      "cell_type": "markdown",
      "metadata": {
        "id": "QvOtJ4OyGGmT"
      },
      "source": [
        "## Model 2 : Dense (window = 30, horizon = 1)"
      ]
    },
    {
      "cell_type": "code",
      "execution_count": 57,
      "metadata": {
        "id": "cfN_Mfp3Q9Mr"
      },
      "outputs": [],
      "source": [
        "HORIZON = 1 # predict one step at a time (one day of Bitcoin prices)\n",
        "WINDOW_SIZE = 30 # use 30 timesteps in past "
      ]
    },
    {
      "cell_type": "code",
      "execution_count": 58,
      "metadata": {
        "id": "XhxBIz9DRMwc",
        "colab": {
          "base_uri": "https://localhost:8080/"
        },
        "outputId": "1ec3d4ec-2f76-4307-d7c9-554f6096a6d6"
      },
      "outputs": [
        {
          "output_type": "execute_result",
          "data": {
            "text/plain": [
              "(2757, 2757)"
            ]
          },
          "metadata": {},
          "execution_count": 58
        }
      ],
      "source": [
        "# Make windowe data with appropriate horizon and window sizes\n",
        "full_windows, full_labels = make_windows(prices, window_size = WINDOW_SIZE, horizon = HORIZON)\n",
        "len(full_windows), len(full_labels)"
      ]
    },
    {
      "cell_type": "code",
      "execution_count": 59,
      "metadata": {
        "id": "252oGHfURVFz",
        "colab": {
          "base_uri": "https://localhost:8080/"
        },
        "outputId": "328e1c96-0be6-4672-a507-4f4ae307f53d"
      },
      "outputs": [
        {
          "output_type": "execute_result",
          "data": {
            "text/plain": [
              "(2205, 552, 2205, 552)"
            ]
          },
          "metadata": {},
          "execution_count": 59
        }
      ],
      "source": [
        "# Make train and testing windows\n",
        "train_windows, test_windows, train_labels, test_labels = make_train_test_splits(windows=full_windows,\n",
        "                                                                               labels=full_labels,\n",
        "                                                                               test_split=0.2)\n",
        "len(train_windows), len(test_windows), len(train_labels), len(test_labels)"
      ]
    },
    {
      "cell_type": "code",
      "execution_count": 60,
      "metadata": {
        "id": "kmHT5dkUWsHP",
        "colab": {
          "base_uri": "https://localhost:8080/"
        },
        "outputId": "98d35b77-de3e-48f2-d310-15204df7e507"
      },
      "outputs": [
        {
          "output_type": "execute_result",
          "data": {
            "text/plain": [
              "(array([123.65499, 125.455  , 108.58483, 118.67466, 121.33866, 120.65533,\n",
              "        121.795  , 123.033  , 124.049  , 125.96116, 125.27966, 125.9275 ,\n",
              "        126.38333, 135.24199, 133.20333, 142.76333, 137.92333, 142.95166,\n",
              "        152.55183, 160.33883, 164.31499, 177.63333, 188.29716, 200.70166,\n",
              "        180.355  , 175.03166, 177.6965 , 187.15983, 192.75666, 197.4    ]),\n",
              " array([196.02499]))"
            ]
          },
          "metadata": {},
          "execution_count": 60
        }
      ],
      "source": [
        "train_windows[0], train_labels[0]"
      ]
    },
    {
      "cell_type": "code",
      "execution_count": null,
      "metadata": {
        "colab": {
          "background_save": true,
          "base_uri": "https://localhost:8080/"
        },
        "id": "VU_haadsWz26",
        "outputId": "e88e96a2-dfb4-4de7-f3e6-fc01b7efd7d1"
      },
      "outputs": [
        {
          "output_type": "stream",
          "name": "stdout",
          "text": [
            "Epoch 1/100\n",
            " 1/18 [>.............................] - ETA: 16s - loss: 3242.1387 - mae: 3242.1387 - mse: 25991964.0000"
          ]
        },
        {
          "output_type": "stream",
          "name": "stderr",
          "text": [
            "WARNING:absl:Found untraced functions such as _update_step_xla while saving (showing 1 of 1). These functions will not be directly callable after loading.\n"
          ]
        },
        {
          "output_type": "stream",
          "name": "stdout",
          "text": [
            "\b\b\b\b\b\b\b\b\b\b\b\b\b\b\b\b\b\b\b\b\b\b\b\b\b\b\b\b\b\b\b\b\b\b\b\b\b\b\b\b\b\b\b\b\b\b\b\b\b\b\b\b\b\b\b\b\b\b\b\b\b\b\b\b\b\b\b\b\b\b\b\b\b\b\b\b\b\b\b\b\b\b\b\b\b\b\b\b\b\b\b\b\b\b\b\b\b\b\b\b\b\b\b\b\b\r18/18 [==============================] - 2s 42ms/step - loss: 1144.5331 - mae: 1144.5331 - mse: 5416632.5000 - val_loss: 4443.9019 - val_mae: 4443.9019 - val_mse: 40248716.0000\n",
            "Epoch 2/100\n",
            " 1/18 [>.............................] - ETA: 0s - loss: 615.3298 - mae: 615.3298 - mse: 1348919.2500"
          ]
        },
        {
          "output_type": "stream",
          "name": "stderr",
          "text": [
            "WARNING:absl:Found untraced functions such as _update_step_xla while saving (showing 1 of 1). These functions will not be directly callable after loading.\n"
          ]
        },
        {
          "output_type": "stream",
          "name": "stdout",
          "text": [
            "\b\b\b\b\b\b\b\b\b\b\b\b\b\b\b\b\b\b\b\b\b\b\b\b\b\b\b\b\b\b\b\b\b\b\b\b\b\b\b\b\b\b\b\b\b\b\b\b\b\b\b\b\b\b\b\b\b\b\b\b\b\b\b\b\b\b\b\b\b\b\b\b\b\b\b\b\b\b\b\b\b\b\b\b\b\b\b\b\b\b\b\b\b\b\b\b\b\b\b\b\b\r18/18 [==============================] - 1s 32ms/step - loss: 398.6689 - mae: 398.6689 - mse: 673779.3750 - val_loss: 1484.7433 - val_mae: 1484.7433 - val_mse: 6404866.0000\n",
            "Epoch 3/100\n",
            "18/18 [==============================] - ETA: 0s - loss: 270.3725 - mae: 270.3725 - mse: 333718.2188"
          ]
        },
        {
          "output_type": "stream",
          "name": "stderr",
          "text": [
            "WARNING:absl:Found untraced functions such as _update_step_xla while saving (showing 1 of 1). These functions will not be directly callable after loading.\n"
          ]
        },
        {
          "output_type": "stream",
          "name": "stdout",
          "text": [
            "\b\b\b\b\b\b\b\b\b\b\b\b\b\b\b\b\b\b\b\b\b\b\b\b\b\b\b\b\b\b\b\b\b\b\b\b\b\b\b\b\b\b\b\b\b\b\b\b\b\b\b\b\b\b\b\b\b\b\b\b\b\b\b\b\b\b\b\b\b\b\b\b\b\b\b\b\b\b\b\b\b\b\b\b\b\b\b\b\b\b\b\b\b\b\b\b\b\b\b\b\r18/18 [==============================] - 1s 47ms/step - loss: 270.3725 - mae: 270.3725 - mse: 333718.2188 - val_loss: 1290.0532 - val_mae: 1290.0532 - val_mse: 5263854.5000\n",
            "Epoch 4/100\n",
            "17/18 [===========================>..] - ETA: 0s - loss: 223.1742 - mae: 223.1742 - mse: 239559.8125"
          ]
        },
        {
          "output_type": "stream",
          "name": "stderr",
          "text": [
            "WARNING:absl:Found untraced functions such as _update_step_xla while saving (showing 1 of 1). These functions will not be directly callable after loading.\n"
          ]
        },
        {
          "output_type": "stream",
          "name": "stdout",
          "text": [
            "\b\b\b\b\b\b\b\b\b\b\b\b\b\b\b\b\b\b\b\b\b\b\b\b\b\b\b\b\b\b\b\b\b\b\b\b\b\b\b\b\b\b\b\b\b\b\b\b\b\b\b\b\b\b\b\b\b\b\b\b\b\b\b\b\b\b\b\b\b\b\b\b\b\b\b\b\b\b\b\b\b\b\b\b\b\b\b\b\b\b\b\b\b\b\b\b\b\b\b\b\r18/18 [==============================] - 1s 34ms/step - loss: 225.1535 - mae: 225.1535 - mse: 241742.2031 - val_loss: 1117.9425 - val_mae: 1117.9425 - val_mse: 4171441.5000\n",
            "Epoch 5/100\n",
            "18/18 [==============================] - 0s 5ms/step - loss: 205.0658 - mae: 205.0658 - mse: 197964.8438 - val_loss: 1145.0308 - val_mae: 1145.0308 - val_mse: 3949069.0000\n",
            "Epoch 6/100\n",
            "18/18 [==============================] - 0s 5ms/step - loss: 195.3552 - mae: 195.3552 - mse: 183030.7969 - val_loss: 1208.3147 - val_mae: 1208.3147 - val_mse: 4613112.0000\n",
            "Epoch 7/100\n",
            "17/18 [===========================>..] - ETA: 0s - loss: 184.8701 - mae: 184.8701 - mse: 168686.4219"
          ]
        },
        {
          "output_type": "stream",
          "name": "stderr",
          "text": [
            "WARNING:absl:Found untraced functions such as _update_step_xla while saving (showing 1 of 1). These functions will not be directly callable after loading.\n"
          ]
        },
        {
          "output_type": "stream",
          "name": "stdout",
          "text": [
            "\b\b\b\b\b\b\b\b\b\b\b\b\b\b\b\b\b\b\b\b\b\b\b\b\b\b\b\b\b\b\b\b\b\b\b\b\b\b\b\b\b\b\b\b\b\b\b\b\b\b\b\b\b\b\b\b\b\b\b\b\b\b\b\b\b\b\b\b\b\b\b\b\b\b\b\b\b\b\b\b\b\b\b\b\b\b\b\b\b\b\b\b\b\b\b\b\b\b\b\b\r18/18 [==============================] - 1s 33ms/step - loss: 184.8935 - mae: 184.8935 - mse: 168030.5625 - val_loss: 973.6316 - val_mae: 973.6316 - val_mse: 3049765.0000\n",
            "Epoch 8/100\n",
            " 1/18 [>.............................] - ETA: 0s - loss: 186.4015 - mae: 186.4015 - mse: 166726.5000"
          ]
        },
        {
          "output_type": "stream",
          "name": "stderr",
          "text": [
            "WARNING:absl:Found untraced functions such as _update_step_xla while saving (showing 1 of 1). These functions will not be directly callable after loading.\n"
          ]
        },
        {
          "output_type": "stream",
          "name": "stdout",
          "text": [
            "\b\b\b\b\b\b\b\b\b\b\b\b\b\b\b\b\b\b\b\b\b\b\b\b\b\b\b\b\b\b\b\b\b\b\b\b\b\b\b\b\b\b\b\b\b\b\b\b\b\b\b\b\b\b\b\b\b\b\b\b\b\b\b\b\b\b\b\b\b\b\b\b\b\b\b\b\b\b\b\b\b\b\b\b\b\b\b\b\b\b\b\b\b\b\b\b\b\b\b\b\r18/18 [==============================] - 1s 38ms/step - loss: 174.4400 - mae: 174.4400 - mse: 153024.4219 - val_loss: 944.2672 - val_mae: 944.2672 - val_mse: 2883633.2500\n",
            "Epoch 9/100\n",
            "13/18 [====================>.........] - ETA: 0s - loss: 170.3389 - mae: 170.3389 - mse: 145513.0312"
          ]
        },
        {
          "output_type": "stream",
          "name": "stderr",
          "text": [
            "WARNING:absl:Found untraced functions such as _update_step_xla while saving (showing 1 of 1). These functions will not be directly callable after loading.\n"
          ]
        },
        {
          "output_type": "stream",
          "name": "stdout",
          "text": [
            "\b\b\b\b\b\b\b\b\b\b\b\b\b\b\b\b\b\b\b\b\b\b\b\b\b\b\b\b\b\b\b\b\b\b\b\b\b\b\b\b\b\b\b\b\b\b\b\b\b\b\b\b\b\b\b\b\b\b\b\b\b\b\b\b\b\b\b\b\b\b\b\b\b\b\b\b\b\b\b\b\b\b\b\b\b\b\b\b\b\b\b\b\b\b\b\b\b\b\b\b\r18/18 [==============================] - 1s 48ms/step - loss: 166.2209 - mae: 166.2209 - mse: 140445.7812 - val_loss: 923.4551 - val_mae: 923.4551 - val_mse: 2764947.7500\n",
            "Epoch 10/100\n",
            "18/18 [==============================] - 0s 8ms/step - loss: 165.7033 - mae: 165.7033 - mse: 138241.7344 - val_loss: 1098.8431 - val_mae: 1098.8431 - val_mse: 3355698.7500\n",
            "Epoch 11/100\n",
            "18/18 [==============================] - 0s 8ms/step - loss: 174.1816 - mae: 174.1816 - mse: 145183.7031 - val_loss: 1298.6830 - val_mae: 1298.6830 - val_mse: 4295320.0000\n",
            "Epoch 12/100\n",
            "14/18 [======================>.......] - ETA: 0s - loss: 194.2039 - mae: 194.2039 - mse: 172764.8906"
          ]
        },
        {
          "output_type": "stream",
          "name": "stderr",
          "text": [
            "WARNING:absl:Found untraced functions such as _update_step_xla while saving (showing 1 of 1). These functions will not be directly callable after loading.\n"
          ]
        },
        {
          "output_type": "stream",
          "name": "stdout",
          "text": [
            "\b\b\b\b\b\b\b\b\b\b\b\b\b\b\b\b\b\b\b\b\b\b\b\b\b\b\b\b\b\b\b\b\b\b\b\b\b\b\b\b\b\b\b\b\b\b\b\b\b\b\b\b\b\b\b\b\b\b\b\b\b\b\b\b\b\b\b\b\b\b\b\b\b\b\b\b\b\b\b\b\b\b\b\b\b\b\b\b\b\b\b\b\b\b\b\b\b\b\b\b\r18/18 [==============================] - 1s 47ms/step - loss: 191.4504 - mae: 191.4504 - mse: 166068.7969 - val_loss: 886.9489 - val_mae: 886.9489 - val_mse: 2711822.5000\n",
            "Epoch 13/100\n",
            "18/18 [==============================] - 0s 5ms/step - loss: 156.5251 - mae: 156.5251 - mse: 125147.1797 - val_loss: 1080.9723 - val_mae: 1080.9723 - val_mse: 3644439.7500\n",
            "Epoch 14/100\n",
            " 1/18 [>.............................] - ETA: 0s - loss: 236.2110 - mae: 236.2110 - mse: 235150.8906"
          ]
        },
        {
          "output_type": "stream",
          "name": "stderr",
          "text": [
            "WARNING:absl:Found untraced functions such as _update_step_xla while saving (showing 1 of 1). These functions will not be directly callable after loading.\n"
          ]
        },
        {
          "output_type": "stream",
          "name": "stdout",
          "text": [
            "\b\b\b\b\b\b\b\b\b\b\b\b\b\b\b\b\b\b\b\b\b\b\b\b\b\b\b\b\b\b\b\b\b\b\b\b\b\b\b\b\b\b\b\b\b\b\b\b\b\b\b\b\b\b\b\b\b\b\b\b\b\b\b\b\b\b\b\b\b\b\b\b\b\b\b\b\b\b\b\b\b\b\b\b\b\b\b\b\b\b\b\b\b\b\b\b\b\b\b\b\r18/18 [==============================] - 1s 30ms/step - loss: 158.6351 - mae: 158.6351 - mse: 127958.9844 - val_loss: 849.5274 - val_mae: 849.5274 - val_mse: 2511429.0000\n",
            "Epoch 15/100\n",
            " 1/18 [>.............................] - ETA: 0s - loss: 203.8365 - mae: 203.8365 - mse: 186321.8594"
          ]
        },
        {
          "output_type": "stream",
          "name": "stderr",
          "text": [
            "WARNING:absl:Found untraced functions such as _update_step_xla while saving (showing 1 of 1). These functions will not be directly callable after loading.\n"
          ]
        },
        {
          "output_type": "stream",
          "name": "stdout",
          "text": [
            "\b\b\b\b\b\b\b\b\b\b\b\b\b\b\b\b\b\b\b\b\b\b\b\b\b\b\b\b\b\b\b\b\b\b\b\b\b\b\b\b\b\b\b\b\b\b\b\b\b\b\b\b\b\b\b\b\b\b\b\b\b\b\b\b\b\b\b\b\b\b\b\b\b\b\b\b\b\b\b\b\b\b\b\b\b\b\b\b\b\b\b\b\b\b\b\b\b\b\b\b\r18/18 [==============================] - 1s 33ms/step - loss: 151.3535 - mae: 151.3535 - mse: 114493.2109 - val_loss: 811.6240 - val_mae: 811.6240 - val_mse: 2300425.2500\n",
            "Epoch 16/100\n",
            "17/18 [===========================>..] - ETA: 0s - loss: 152.5971 - mae: 152.5971 - mse: 109965.6562"
          ]
        },
        {
          "output_type": "stream",
          "name": "stderr",
          "text": [
            "WARNING:absl:Found untraced functions such as _update_step_xla while saving (showing 1 of 1). These functions will not be directly callable after loading.\n"
          ]
        },
        {
          "output_type": "stream",
          "name": "stdout",
          "text": [
            "\b\b\b\b\b\b\b\b\b\b\b\b\b\b\b\b\b\b\b\b\b\b\b\b\b\b\b\b\b\b\b\b\b\b\b\b\b\b\b\b\b\b\b\b\b\b\b\b\b\b\b\b\b\b\b\b\b\b\b\b\b\b\b\b\b\b\b\b\b\b\b\b\b\b\b\b\b\b\b\b\b\b\b\b\b\b\b\b\b\b\b\b\b\b\b\b\b\b\b\b\r18/18 [==============================] - 1s 31ms/step - loss: 154.4397 - mae: 154.4397 - mse: 115805.5703 - val_loss: 794.7521 - val_mae: 794.7521 - val_mse: 2145285.5000\n",
            "Epoch 17/100\n",
            "18/18 [==============================] - 0s 6ms/step - loss: 143.9076 - mae: 143.9076 - mse: 108465.8672 - val_loss: 1099.4202 - val_mae: 1099.4202 - val_mse: 3203111.7500\n",
            "Epoch 18/100\n",
            "18/18 [==============================] - 0s 5ms/step - loss: 166.5357 - mae: 166.5357 - mse: 131285.7969 - val_loss: 1060.3939 - val_mae: 1060.3939 - val_mse: 3046216.2500\n",
            "Epoch 19/100\n",
            "18/18 [==============================] - 0s 5ms/step - loss: 152.9602 - mae: 152.9602 - mse: 113513.5391 - val_loss: 1172.6708 - val_mae: 1172.6708 - val_mse: 3871148.0000\n",
            "Epoch 20/100\n",
            "18/18 [==============================] - 0s 5ms/step - loss: 157.9129 - mae: 157.9129 - mse: 116768.2109 - val_loss: 986.7590 - val_mae: 986.7590 - val_mse: 2964300.0000\n",
            "Epoch 21/100\n",
            "18/18 [==============================] - 0s 5ms/step - loss: 173.6733 - mae: 173.6733 - mse: 136654.4062 - val_loss: 923.8046 - val_mae: 923.8046 - val_mse: 2656775.0000\n",
            "Epoch 22/100\n",
            "18/18 [==============================] - 0s 5ms/step - loss: 150.2817 - mae: 150.2817 - mse: 106454.2109 - val_loss: 803.7801 - val_mae: 803.7801 - val_mse: 2036811.8750\n",
            "Epoch 23/100\n",
            "18/18 [==============================] - 0s 6ms/step - loss: 142.3292 - mae: 142.3292 - mse: 102412.3047 - val_loss: 1060.8444 - val_mae: 1060.8444 - val_mse: 2976289.0000\n",
            "Epoch 24/100\n",
            "18/18 [==============================] - ETA: 0s - loss: 140.5037 - mae: 140.5037 - mse: 99098.7188 "
          ]
        },
        {
          "output_type": "stream",
          "name": "stderr",
          "text": [
            "WARNING:absl:Found untraced functions such as _update_step_xla while saving (showing 1 of 1). These functions will not be directly callable after loading.\n"
          ]
        },
        {
          "output_type": "stream",
          "name": "stdout",
          "text": [
            "\b\b\b\b\b\b\b\b\b\b\b\b\b\b\b\b\b\b\b\b\b\b\b\b\b\b\b\b\b\b\b\b\b\b\b\b\b\b\b\b\b\b\b\b\b\b\b\b\b\b\b\b\b\b\b\b\b\b\b\b\b\b\b\b\b\b\b\b\b\b\b\b\b\b\b\b\b\b\b\b\b\b\b\b\b\b\b\b\b\b\b\b\b\b\b\b\b\b\b\r18/18 [==============================] - 1s 32ms/step - loss: 140.5037 - mae: 140.5037 - mse: 99098.7188 - val_loss: 758.6520 - val_mae: 758.6520 - val_mse: 2000488.1250\n",
            "Epoch 25/100\n",
            "18/18 [==============================] - 0s 5ms/step - loss: 133.8021 - mae: 133.8021 - mse: 93782.1953 - val_loss: 837.0074 - val_mae: 837.0074 - val_mse: 2112284.0000\n",
            "Epoch 26/100\n",
            "18/18 [==============================] - 0s 6ms/step - loss: 147.6285 - mae: 147.6285 - mse: 106067.3516 - val_loss: 852.7363 - val_mae: 852.7363 - val_mse: 2310720.5000\n",
            "Epoch 27/100\n",
            "18/18 [==============================] - 0s 5ms/step - loss: 157.1842 - mae: 157.1842 - mse: 113998.8438 - val_loss: 859.1715 - val_mae: 859.1715 - val_mse: 2318595.2500\n",
            "Epoch 28/100\n",
            "18/18 [==============================] - 0s 6ms/step - loss: 142.3060 - mae: 142.3060 - mse: 98460.2734 - val_loss: 847.6819 - val_mae: 847.6819 - val_mse: 2258483.0000\n",
            "Epoch 29/100\n",
            "18/18 [==============================] - 0s 5ms/step - loss: 135.3672 - mae: 135.3672 - mse: 92567.9609 - val_loss: 1323.8856 - val_mae: 1323.8856 - val_mse: 4114445.5000\n",
            "Epoch 30/100\n",
            "18/18 [==============================] - 0s 5ms/step - loss: 165.1731 - mae: 165.1731 - mse: 120170.5391 - val_loss: 965.4149 - val_mae: 965.4149 - val_mse: 2536618.0000\n",
            "Epoch 31/100\n",
            "18/18 [==============================] - ETA: 0s - loss: 131.3834 - mae: 131.3834 - mse: 92356.8047 "
          ]
        },
        {
          "output_type": "stream",
          "name": "stderr",
          "text": [
            "WARNING:absl:Found untraced functions such as _update_step_xla while saving (showing 1 of 1). These functions will not be directly callable after loading.\n"
          ]
        },
        {
          "output_type": "stream",
          "name": "stdout",
          "text": [
            "\b\b\b\b\b\b\b\b\b\b\b\b\b\b\b\b\b\b\b\b\b\b\b\b\b\b\b\b\b\b\b\b\b\b\b\b\b\b\b\b\b\b\b\b\b\b\b\b\b\b\b\b\b\b\b\b\b\b\b\b\b\b\b\b\b\b\b\b\b\b\b\b\b\b\b\b\b\b\b\b\b\b\b\b\b\b\b\b\b\b\b\b\b\b\b\b\b\b\b\r18/18 [==============================] - 1s 32ms/step - loss: 131.3834 - mae: 131.3834 - mse: 92356.8047 - val_loss: 676.2963 - val_mae: 676.2963 - val_mse: 1629888.7500\n",
            "Epoch 32/100\n",
            "18/18 [==============================] - 0s 5ms/step - loss: 139.4251 - mae: 139.4251 - mse: 95108.1250 - val_loss: 904.9388 - val_mae: 904.9388 - val_mse: 2313263.7500\n",
            "Epoch 33/100\n",
            "18/18 [==============================] - 0s 5ms/step - loss: 131.0297 - mae: 131.0297 - mse: 89479.1406 - val_loss: 729.5441 - val_mae: 729.5441 - val_mse: 1810764.0000\n",
            "Epoch 34/100\n",
            "18/18 [==============================] - 0s 5ms/step - loss: 127.4559 - mae: 127.4559 - mse: 85267.6328 - val_loss: 792.6720 - val_mae: 792.6720 - val_mse: 2010480.8750\n",
            "Epoch 35/100\n",
            " 1/18 [>.............................] - ETA: 0s - loss: 154.7157 - mae: 154.7157 - mse: 169512.5312"
          ]
        },
        {
          "output_type": "stream",
          "name": "stderr",
          "text": [
            "WARNING:absl:Found untraced functions such as _update_step_xla while saving (showing 1 of 1). These functions will not be directly callable after loading.\n"
          ]
        },
        {
          "output_type": "stream",
          "name": "stdout",
          "text": [
            "\b\b\b\b\b\b\b\b\b\b\b\b\b\b\b\b\b\b\b\b\b\b\b\b\b\b\b\b\b\b\b\b\b\b\b\b\b\b\b\b\b\b\b\b\b\b\b\b\b\b\b\b\b\b\b\b\b\b\b\b\b\b\b\b\b\b\b\b\b\b\b\b\b\b\b\b\b\b\b\b\b\b\b\b\b\b\b\b\b\b\b\b\b\b\b\b\b\b\b\b\r18/18 [==============================] - 1s 32ms/step - loss: 130.2289 - mae: 130.2289 - mse: 88111.3516 - val_loss: 665.6931 - val_mae: 665.6931 - val_mse: 1591798.7500\n",
            "Epoch 36/100\n",
            "18/18 [==============================] - 0s 5ms/step - loss: 133.0433 - mae: 133.0433 - mse: 89828.3281 - val_loss: 956.5930 - val_mae: 956.5930 - val_mse: 2486790.0000\n",
            "Epoch 37/100\n",
            "18/18 [==============================] - 0s 6ms/step - loss: 147.9597 - mae: 147.9597 - mse: 97767.1250 - val_loss: 1176.7362 - val_mae: 1176.7362 - val_mse: 3376314.0000\n",
            "Epoch 38/100\n",
            "18/18 [==============================] - 0s 5ms/step - loss: 209.4333 - mae: 209.4333 - mse: 170301.2188 - val_loss: 1913.5625 - val_mae: 1913.5625 - val_mse: 8080530.5000\n",
            "Epoch 39/100\n",
            "18/18 [==============================] - 0s 6ms/step - loss: 179.6119 - mae: 179.6119 - mse: 124211.5938 - val_loss: 915.6252 - val_mae: 915.6252 - val_mse: 2322568.7500\n",
            "Epoch 40/100\n",
            "18/18 [==============================] - 0s 6ms/step - loss: 167.6301 - mae: 167.6301 - mse: 113628.6562 - val_loss: 870.1498 - val_mae: 870.1498 - val_mse: 2158894.7500\n",
            "Epoch 41/100\n",
            "18/18 [==============================] - 0s 5ms/step - loss: 146.3030 - mae: 146.3030 - mse: 95692.6172 - val_loss: 790.0082 - val_mae: 790.0082 - val_mse: 1898040.6250\n",
            "Epoch 42/100\n",
            "18/18 [==============================] - 0s 6ms/step - loss: 140.4499 - mae: 140.4499 - mse: 100355.5000 - val_loss: 711.4273 - val_mae: 711.4273 - val_mse: 1673866.6250\n",
            "Epoch 43/100\n",
            "18/18 [==============================] - 0s 6ms/step - loss: 123.0578 - mae: 123.0578 - mse: 82673.1250 - val_loss: 909.1161 - val_mae: 909.1161 - val_mse: 2410379.7500\n",
            "Epoch 44/100\n",
            " 1/18 [>.............................] - ETA: 0s - loss: 184.1678 - mae: 184.1678 - mse: 136711.0938"
          ]
        },
        {
          "output_type": "stream",
          "name": "stderr",
          "text": [
            "WARNING:absl:Found untraced functions such as _update_step_xla while saving (showing 1 of 1). These functions will not be directly callable after loading.\n"
          ]
        },
        {
          "output_type": "stream",
          "name": "stdout",
          "text": [
            "\b\b\b\b\b\b\b\b\b\b\b\b\b\b\b\b\b\b\b\b\b\b\b\b\b\b\b\b\b\b\b\b\b\b\b\b\b\b\b\b\b\b\b\b\b\b\b\b\b\b\b\b\b\b\b\b\b\b\b\b\b\b\b\b\b\b\b\b\b\b\b\b\b\b\b\b\b\b\b\b\b\b\b\b\b\b\b\b\b\b\b\b\b\b\b\b\b\b\b\b\r18/18 [==============================] - 1s 32ms/step - loss: 135.0867 - mae: 135.0867 - mse: 91005.6016 - val_loss: 650.1887 - val_mae: 650.1887 - val_mse: 1504466.5000\n",
            "Epoch 45/100\n",
            "18/18 [==============================] - 0s 5ms/step - loss: 119.9167 - mae: 119.9167 - mse: 79527.7656 - val_loss: 655.9410 - val_mae: 655.9410 - val_mse: 1516390.5000\n",
            "Epoch 46/100\n",
            "18/18 [==============================] - 0s 5ms/step - loss: 120.5986 - mae: 120.5986 - mse: 80786.1875 - val_loss: 693.8529 - val_mae: 693.8529 - val_mse: 1629271.6250\n",
            "Epoch 47/100\n",
            "18/18 [==============================] - 0s 5ms/step - loss: 122.9918 - mae: 122.9918 - mse: 83830.9219 - val_loss: 654.4362 - val_mae: 654.4362 - val_mse: 1497966.2500\n",
            "Epoch 48/100\n",
            "14/18 [======================>.......] - ETA: 0s - loss: 116.9745 - mae: 116.9745 - mse: 75128.1016"
          ]
        },
        {
          "output_type": "stream",
          "name": "stderr",
          "text": [
            "WARNING:absl:Found untraced functions such as _update_step_xla while saving (showing 1 of 1). These functions will not be directly callable after loading.\n"
          ]
        },
        {
          "output_type": "stream",
          "name": "stdout",
          "text": [
            "\b\b\b\b\b\b\b\b\b\b\b\b\b\b\b\b\b\b\b\b\b\b\b\b\b\b\b\b\b\b\b\b\b\b\b\b\b\b\b\b\b\b\b\b\b\b\b\b\b\b\b\b\b\b\b\b\b\b\b\b\b\b\b\b\b\b\b\b\b\b\b\b\b\b\b\b\b\b\b\b\b\b\b\b\b\b\b\b\b\b\b\b\b\b\b\b\b\b\b\r18/18 [==============================] - 1s 32ms/step - loss: 120.7035 - mae: 120.7035 - mse: 79691.6094 - val_loss: 644.6110 - val_mae: 644.6110 - val_mse: 1489108.6250\n",
            "Epoch 49/100\n",
            " 1/18 [>.............................] - ETA: 0s - loss: 119.4258 - mae: 119.4258 - mse: 99969.7656"
          ]
        },
        {
          "output_type": "stream",
          "name": "stderr",
          "text": [
            "WARNING:absl:Found untraced functions such as _update_step_xla while saving (showing 1 of 1). These functions will not be directly callable after loading.\n"
          ]
        },
        {
          "output_type": "stream",
          "name": "stdout",
          "text": [
            "\b\b\b\b\b\b\b\b\b\b\b\b\b\b\b\b\b\b\b\b\b\b\b\b\b\b\b\b\b\b\b\b\b\b\b\b\b\b\b\b\b\b\b\b\b\b\b\b\b\b\b\b\b\b\b\b\b\b\b\b\b\b\b\b\b\b\b\b\b\b\b\b\b\b\b\b\b\b\b\b\b\b\b\b\b\b\b\b\b\b\b\b\b\b\b\b\b\b\b\r18/18 [==============================] - 1s 32ms/step - loss: 125.2779 - mae: 125.2779 - mse: 83081.9766 - val_loss: 640.4874 - val_mae: 640.4874 - val_mse: 1469910.7500\n",
            "Epoch 50/100\n",
            "18/18 [==============================] - 0s 6ms/step - loss: 135.2540 - mae: 135.2540 - mse: 88977.3281 - val_loss: 1074.6531 - val_mae: 1074.6531 - val_mse: 3075052.5000\n",
            "Epoch 51/100\n",
            "18/18 [==============================] - 0s 5ms/step - loss: 138.6842 - mae: 138.6842 - mse: 88097.4922 - val_loss: 1059.4506 - val_mae: 1059.4506 - val_mse: 3004354.7500\n",
            "Epoch 52/100\n",
            "18/18 [==============================] - 0s 6ms/step - loss: 136.3585 - mae: 136.3585 - mse: 94872.7656 - val_loss: 690.5956 - val_mae: 690.5956 - val_mse: 1566000.8750\n",
            "Epoch 53/100\n",
            "18/18 [==============================] - 0s 5ms/step - loss: 122.1942 - mae: 122.1942 - mse: 80698.9844 - val_loss: 1261.9399 - val_mae: 1261.9399 - val_mse: 3976647.5000\n",
            "Epoch 54/100\n",
            "16/18 [=========================>....] - ETA: 0s - loss: 160.7087 - mae: 160.7087 - mse: 107100.1094"
          ]
        },
        {
          "output_type": "stream",
          "name": "stderr",
          "text": [
            "WARNING:absl:Found untraced functions such as _update_step_xla while saving (showing 1 of 1). These functions will not be directly callable after loading.\n"
          ]
        },
        {
          "output_type": "stream",
          "name": "stdout",
          "text": [
            "\b\b\b\b\b\b\b\b\b\b\b\b\b\b\b\b\b\b\b\b\b\b\b\b\b\b\b\b\b\b\b\b\b\b\b\b\b\b\b\b\b\b\b\b\b\b\b\b\b\b\b\b\b\b\b\b\b\b\b\b\b\b\b\b\b\b\b\b\b\b\b\b\b\b\b\b\b\b\b\b\b\b\b\b\b\b\b\b\b\b\b\b\b\b\b\b\b\b\b\b\r18/18 [==============================] - 1s 49ms/step - loss: 157.8019 - mae: 157.8019 - mse: 105248.0859 - val_loss: 628.5205 - val_mae: 628.5205 - val_mse: 1413773.8750\n",
            "Epoch 55/100\n",
            "18/18 [==============================] - 0s 6ms/step - loss: 132.4771 - mae: 132.4771 - mse: 87254.8359 - val_loss: 862.9534 - val_mae: 862.9534 - val_mse: 2104038.0000\n",
            "Epoch 56/100\n",
            "18/18 [==============================] - 0s 6ms/step - loss: 122.6482 - mae: 122.6482 - mse: 80991.2500 - val_loss: 651.9097 - val_mae: 651.9097 - val_mse: 1457592.8750\n",
            "Epoch 57/100\n",
            "18/18 [==============================] - 0s 5ms/step - loss: 118.1030 - mae: 118.1030 - mse: 76520.5469 - val_loss: 962.4784 - val_mae: 962.4784 - val_mse: 2447948.0000\n",
            "Epoch 58/100\n",
            "18/18 [==============================] - 0s 6ms/step - loss: 141.3980 - mae: 141.3980 - mse: 96181.4609 - val_loss: 743.5741 - val_mae: 743.5741 - val_mse: 1767512.6250\n",
            "Epoch 59/100\n",
            "18/18 [==============================] - ETA: 0s - loss: 157.4003 - mae: 157.4003 - mse: 107591.8203"
          ]
        },
        {
          "output_type": "stream",
          "name": "stderr",
          "text": [
            "WARNING:absl:Found untraced functions such as _update_step_xla while saving (showing 1 of 1). These functions will not be directly callable after loading.\n"
          ]
        },
        {
          "output_type": "stream",
          "name": "stdout",
          "text": [
            "\b\b\b\b\b\b\b\b\b\b\b\b\b\b\b\b\b\b\b\b\b\b\b\b\b\b\b\b\b\b\b\b\b\b\b\b\b\b\b\b\b\b\b\b\b\b\b\b\b\b\b\b\b\b\b\b\b\b\b\b\b\b\b\b\b\b\b\b\b\b\b\b\b\b\b\b\b\b\b\b\b\b\b\b\b\b\b\b\b\b\b\b\b\b\b\b\b\b\b\b\r18/18 [==============================] - 1s 40ms/step - loss: 157.4003 - mae: 157.4003 - mse: 107591.8203 - val_loss: 628.0470 - val_mae: 628.0470 - val_mse: 1417744.6250\n",
            "Epoch 60/100\n",
            "18/18 [==============================] - 0s 8ms/step - loss: 119.4195 - mae: 119.4195 - mse: 75364.1094 - val_loss: 696.7064 - val_mae: 696.7064 - val_mse: 1558205.6250\n",
            "Epoch 61/100\n",
            "18/18 [==============================] - 0s 10ms/step - loss: 122.7396 - mae: 122.7396 - mse: 79970.9375 - val_loss: 703.5565 - val_mae: 703.5565 - val_mse: 1635440.8750\n",
            "Epoch 62/100\n",
            "18/18 [==============================] - 0s 8ms/step - loss: 123.6272 - mae: 123.6272 - mse: 80825.9688 - val_loss: 847.6324 - val_mae: 847.6324 - val_mse: 2119932.0000\n",
            "Epoch 63/100\n",
            "18/18 [==============================] - 0s 9ms/step - loss: 127.5352 - mae: 127.5352 - mse: 84733.8984 - val_loss: 739.5958 - val_mae: 739.5958 - val_mse: 1679987.5000\n",
            "Epoch 64/100\n",
            "18/18 [==============================] - 0s 9ms/step - loss: 115.9597 - mae: 115.9597 - mse: 75736.1016 - val_loss: 668.7384 - val_mae: 668.7384 - val_mse: 1477965.6250\n",
            "Epoch 65/100\n",
            "18/18 [==============================] - 0s 7ms/step - loss: 120.6566 - mae: 120.6566 - mse: 80033.9141 - val_loss: 680.9379 - val_mae: 680.9379 - val_mse: 1546379.6250\n",
            "Epoch 66/100\n",
            "13/18 [====================>.........] - ETA: 0s - loss: 120.1414 - mae: 120.1414 - mse: 79445.5625 "
          ]
        },
        {
          "output_type": "stream",
          "name": "stderr",
          "text": [
            "WARNING:absl:Found untraced functions such as _update_step_xla while saving (showing 1 of 1). These functions will not be directly callable after loading.\n"
          ]
        },
        {
          "output_type": "stream",
          "name": "stdout",
          "text": [
            "\b\b\b\b\b\b\b\b\b\b\b\b\b\b\b\b\b\b\b\b\b\b\b\b\b\b\b\b\b\b\b\b\b\b\b\b\b\b\b\b\b\b\b\b\b\b\b\b\b\b\b\b\b\b\b\b\b\b\b\b\b\b\b\b\b\b\b\b\b\b\b\b\b\b\b\b\b\b\b\b\b\b\b\b\b\b\b\b\b\b\b\b\b\b\b\b\b\b\b\r18/18 [==============================] - 1s 47ms/step - loss: 117.9797 - mae: 117.9797 - mse: 77842.8828 - val_loss: 611.8149 - val_mae: 611.8149 - val_mse: 1351105.8750\n",
            "Epoch 67/100\n",
            "18/18 [==============================] - 0s 8ms/step - loss: 128.7001 - mae: 128.7001 - mse: 84926.8125 - val_loss: 645.8168 - val_mae: 645.8168 - val_mse: 1455035.3750\n",
            "Epoch 68/100\n",
            "18/18 [==============================] - 0s 6ms/step - loss: 123.1831 - mae: 123.1831 - mse: 81884.3203 - val_loss: 646.9930 - val_mae: 646.9930 - val_mse: 1416804.7500\n",
            "Epoch 69/100\n",
            "18/18 [==============================] - 0s 5ms/step - loss: 117.6357 - mae: 117.6357 - mse: 77976.9062 - val_loss: 923.5154 - val_mae: 923.5154 - val_mse: 2291297.5000\n",
            "Epoch 70/100\n",
            "18/18 [==============================] - 0s 5ms/step - loss: 133.4335 - mae: 133.4335 - mse: 88543.9062 - val_loss: 640.8051 - val_mae: 640.8051 - val_mse: 1402262.8750\n",
            "Epoch 71/100\n",
            "18/18 [==============================] - 0s 6ms/step - loss: 128.3693 - mae: 128.3693 - mse: 83835.0781 - val_loss: 873.6496 - val_mae: 873.6496 - val_mse: 2175924.2500\n",
            "Epoch 72/100\n",
            "18/18 [==============================] - 0s 6ms/step - loss: 135.2204 - mae: 135.2204 - mse: 90985.4062 - val_loss: 720.2848 - val_mae: 720.2848 - val_mse: 1608674.1250\n",
            "Epoch 73/100\n",
            "18/18 [==============================] - 0s 6ms/step - loss: 116.0587 - mae: 116.0587 - mse: 74380.1719 - val_loss: 694.0682 - val_mae: 694.0682 - val_mse: 1533802.0000\n",
            "Epoch 74/100\n",
            "18/18 [==============================] - 0s 6ms/step - loss: 128.3104 - mae: 128.3104 - mse: 83625.4141 - val_loss: 786.2767 - val_mae: 786.2767 - val_mse: 1874372.5000\n",
            "Epoch 75/100\n",
            "18/18 [==============================] - 0s 6ms/step - loss: 144.7267 - mae: 144.7267 - mse: 97364.0469 - val_loss: 779.9410 - val_mae: 779.9410 - val_mse: 1849688.6250\n",
            "Epoch 76/100\n",
            "18/18 [==============================] - 0s 5ms/step - loss: 135.7915 - mae: 135.7915 - mse: 86078.2812 - val_loss: 646.6002 - val_mae: 646.6002 - val_mse: 1399595.6250\n",
            "Epoch 77/100\n",
            "18/18 [==============================] - 0s 5ms/step - loss: 122.1284 - mae: 122.1284 - mse: 76741.5625 - val_loss: 870.6195 - val_mae: 870.6195 - val_mse: 2095351.0000\n",
            "Epoch 78/100\n",
            "18/18 [==============================] - 0s 6ms/step - loss: 144.9148 - mae: 144.9148 - mse: 93545.0234 - val_loss: 634.3035 - val_mae: 634.3035 - val_mse: 1404788.1250\n",
            "Epoch 79/100\n",
            "18/18 [==============================] - 0s 5ms/step - loss: 130.6533 - mae: 130.6533 - mse: 82419.1406 - val_loss: 714.6356 - val_mae: 714.6356 - val_mse: 1588955.8750\n",
            "Epoch 80/100\n",
            "18/18 [==============================] - 0s 5ms/step - loss: 117.8699 - mae: 117.8699 - mse: 77951.3438 - val_loss: 620.3123 - val_mae: 620.3123 - val_mse: 1346784.5000\n",
            "Epoch 81/100\n",
            "18/18 [==============================] - 0s 5ms/step - loss: 113.8130 - mae: 113.8130 - mse: 74505.1172 - val_loss: 627.5648 - val_mae: 627.5648 - val_mse: 1359364.5000\n",
            "Epoch 82/100\n",
            "18/18 [==============================] - 0s 5ms/step - loss: 120.3921 - mae: 120.3921 - mse: 80334.7969 - val_loss: 624.7229 - val_mae: 624.7229 - val_mse: 1351700.7500\n",
            "Epoch 83/100\n",
            "18/18 [==============================] - 0s 6ms/step - loss: 115.4438 - mae: 115.4438 - mse: 75197.2500 - val_loss: 795.8848 - val_mae: 795.8848 - val_mse: 1850014.8750\n",
            "Epoch 84/100\n",
            "18/18 [==============================] - 0s 6ms/step - loss: 121.2794 - mae: 121.2794 - mse: 77535.2266 - val_loss: 663.0909 - val_mae: 663.0909 - val_mse: 1440602.8750\n",
            "Epoch 85/100\n",
            "18/18 [==============================] - 0s 6ms/step - loss: 114.6299 - mae: 114.6299 - mse: 75452.7969 - val_loss: 669.1446 - val_mae: 669.1446 - val_mse: 1450595.2500\n",
            "Epoch 86/100\n",
            "18/18 [==============================] - 0s 5ms/step - loss: 123.7110 - mae: 123.7110 - mse: 79922.2969 - val_loss: 677.3833 - val_mae: 677.3833 - val_mse: 1507101.6250\n",
            "Epoch 87/100\n",
            "18/18 [==============================] - 0s 5ms/step - loss: 133.0713 - mae: 133.0713 - mse: 85899.1172 - val_loss: 649.5146 - val_mae: 649.5146 - val_mse: 1435547.1250\n",
            "Epoch 88/100\n",
            "18/18 [==============================] - 0s 5ms/step - loss: 129.5082 - mae: 129.5082 - mse: 82996.6719 - val_loss: 962.6080 - val_mae: 962.6080 - val_mse: 2408375.2500\n",
            "Epoch 89/100\n",
            "18/18 [==============================] - 0s 5ms/step - loss: 137.0041 - mae: 137.0041 - mse: 91546.5312 - val_loss: 653.5054 - val_mae: 653.5054 - val_mse: 1411607.2500\n",
            "Epoch 90/100\n",
            "18/18 [==============================] - 0s 6ms/step - loss: 127.8785 - mae: 127.8785 - mse: 79994.3516 - val_loss: 732.5480 - val_mae: 732.5480 - val_mse: 1686107.1250\n",
            "Epoch 91/100\n",
            "18/18 [==============================] - 0s 5ms/step - loss: 125.1566 - mae: 125.1566 - mse: 82412.8516 - val_loss: 766.4600 - val_mae: 766.4600 - val_mse: 1782195.1250\n",
            "Epoch 92/100\n",
            "18/18 [==============================] - 0s 5ms/step - loss: 140.7486 - mae: 140.7486 - mse: 97306.7656 - val_loss: 782.5085 - val_mae: 782.5084 - val_mse: 1838877.8750\n",
            "Epoch 93/100\n",
            "18/18 [==============================] - 0s 6ms/step - loss: 143.2333 - mae: 143.2333 - mse: 94648.6094 - val_loss: 1029.1052 - val_mae: 1029.1052 - val_mse: 2668509.0000\n",
            "Epoch 94/100\n",
            "18/18 [==============================] - 0s 5ms/step - loss: 176.5096 - mae: 176.5096 - mse: 125040.7031 - val_loss: 706.7707 - val_mae: 706.7707 - val_mse: 1601999.2500\n",
            "Epoch 95/100\n",
            "18/18 [==============================] - 0s 6ms/step - loss: 122.3145 - mae: 122.3145 - mse: 78401.5000 - val_loss: 737.0323 - val_mae: 737.0323 - val_mse: 1690816.5000\n",
            "Epoch 96/100\n",
            "18/18 [==============================] - 0s 5ms/step - loss: 120.3885 - mae: 120.3885 - mse: 78475.4141 - val_loss: 654.3887 - val_mae: 654.3887 - val_mse: 1407341.8750\n",
            "Epoch 97/100\n",
            " 1/18 [>.............................] - ETA: 0s - loss: 124.1638 - mae: 124.1638 - mse: 84504.3906"
          ]
        },
        {
          "output_type": "stream",
          "name": "stderr",
          "text": [
            "WARNING:absl:Found untraced functions such as _update_step_xla while saving (showing 1 of 1). These functions will not be directly callable after loading.\n"
          ]
        },
        {
          "output_type": "stream",
          "name": "stdout",
          "text": [
            "\b\b\b\b\b\b\b\b\b\b\b\b\b\b\b\b\b\b\b\b\b\b\b\b\b\b\b\b\b\b\b\b\b\b\b\b\b\b\b\b\b\b\b\b\b\b\b\b\b\b\b\b\b\b\b\b\b\b\b\b\b\b\b\b\b\b\b\b\b\b\b\b\b\b\b\b\b\b\b\b\b\b\b\b\b\b\b\b\b\b\b\b\b\b\b\b\b\b\b\r18/18 [==============================] - 1s 31ms/step - loss: 118.0137 - mae: 118.0137 - mse: 76565.5859 - val_loss: 604.0706 - val_mae: 604.0706 - val_mse: 1313583.7500\n",
            "Epoch 98/100\n",
            "18/18 [==============================] - 0s 6ms/step - loss: 115.8939 - mae: 115.8939 - mse: 76540.0469 - val_loss: 684.9688 - val_mae: 684.9688 - val_mse: 1522829.5000\n",
            "Epoch 99/100\n",
            "18/18 [==============================] - 0s 6ms/step - loss: 114.8036 - mae: 114.8036 - mse: 73989.3047 - val_loss: 625.6550 - val_mae: 625.6550 - val_mse: 1370219.6250\n",
            "Epoch 100/100\n",
            "18/18 [==============================] - 0s 5ms/step - loss: 119.8859 - mae: 119.8859 - mse: 76237.8984 - val_loss: 707.9983 - val_mae: 707.9983 - val_mse: 1593868.3750\n"
          ]
        }
      ],
      "source": [
        "import tensorflow as tf\n",
        "\n",
        "# Set random seed for as reproducible results as possible\n",
        "tf.random.set_seed(42)\n",
        "\n",
        "# Construct model\n",
        "model_2 = tf.keras.Sequential([\n",
        "    tf.keras.layers.Dense(128, activation=\"relu\"),\n",
        "    tf.keras.layers.Dense(HORIZON, activation=\"linear\"), # linear activation is the same as having no activation\n",
        "], name=\"model_2\") # name our model so we can save it \n",
        "\n",
        "# 2. Compile the model\n",
        "model_2.compile(loss=\"mae\",\n",
        "                optimizer=tf.keras.optimizers.Adam(),\n",
        "                metrics=[\"mae\", \"mse\"])\n",
        "# 3. Fit the model\n",
        "history_model_2 = model_2.fit(train_windows,\n",
        "                              train_labels,\n",
        "                              epochs=100,\n",
        "                              verbose=1,\n",
        "                              batch_size=128,\n",
        "                              validation_data=(test_windows,test_labels),\n",
        "                              callbacks=[create_model_checkpoint(model_name=model_2.name)])"
      ]
    },
    {
      "cell_type": "code",
      "execution_count": null,
      "metadata": {
        "colab": {
          "background_save": true
        },
        "id": "DbX3KQlfX2Vn"
      },
      "outputs": [],
      "source": []
    },
    {
      "cell_type": "code",
      "execution_count": null,
      "metadata": {
        "colab": {
          "background_save": true
        },
        "id": "LoWJfTE3XAGr"
      },
      "outputs": [],
      "source": [
        "model_2.evaluate(test_windows, test_labels)"
      ]
    },
    {
      "cell_type": "code",
      "execution_count": null,
      "metadata": {
        "colab": {
          "background_save": true
        },
        "id": "9X1ofLj1Xl78"
      },
      "outputs": [],
      "source": [
        "mmodel_2 = tf.keras.models.load_model(\"model_experiments/model_2/\")\n",
        "model_2.evaluate(test_windows, test_labels)"
      ]
    },
    {
      "cell_type": "code",
      "execution_count": null,
      "metadata": {
        "colab": {
          "background_save": true
        },
        "id": "IwYm0f9Obg69"
      },
      "outputs": [],
      "source": [
        "model_2_preds = make_preds(model_2,input_data=test_windows)"
      ]
    },
    {
      "cell_type": "code",
      "execution_count": null,
      "metadata": {
        "colab": {
          "background_save": true
        },
        "id": "4hgIbCGWYSZN"
      },
      "outputs": [],
      "source": [
        "tf.squeeze(test_labels).shape, model_2_preds.shape"
      ]
    },
    {
      "cell_type": "code",
      "execution_count": null,
      "metadata": {
        "colab": {
          "background_save": true
        },
        "id": "ZTUjQuiNbYFN"
      },
      "outputs": [],
      "source": [
        "model_2_results = evaluate_preds(y_true=tf.squeeze(test_labels),y_pred=model_2_preds)\n",
        "model_2_results"
      ]
    },
    {
      "cell_type": "code",
      "execution_count": null,
      "metadata": {
        "colab": {
          "background_save": true
        },
        "id": "-B592xOySIZb"
      },
      "outputs": [],
      "source": [
        "model_1_results"
      ]
    },
    {
      "cell_type": "code",
      "execution_count": null,
      "metadata": {
        "colab": {
          "background_save": true
        },
        "id": "7OgPGwC7SQFW"
      },
      "outputs": [],
      "source": [
        "offset = 300\n",
        "plt.figure(figsize=(10,7))\n",
        "# Account for test_window offset when plotting\n",
        "plot_time_series(timesteps=X_test[-len(test_windows):], values = test_labels[:,0], start=offset, label=\"test data\")\n",
        "plot_time_series(timesteps=X_test[-len(test_windows):], values = model_2_preds, start=offset, format=\"-\", label=\"pred data\")"
      ]
    },
    {
      "cell_type": "markdown",
      "metadata": {
        "id": "YjgGbFGaaSCS"
      },
      "source": [
        "## model 3: Dense (window = 30, horizon=7)"
      ]
    },
    {
      "cell_type": "code",
      "execution_count": null,
      "metadata": {
        "colab": {
          "background_save": true
        },
        "id": "H2-kjkAjaN0T"
      },
      "outputs": [],
      "source": [
        "HORIZON = 7\n",
        "WINDOW_SIZE = 30\n",
        "\n",
        "# Make windowe data with appropriate horizon and window sizes\n",
        "full_windows, full_labels = make_windows(prices, window_size = WINDOW_SIZE, horizon = HORIZON)\n",
        "len(full_windows), len(full_labels)\n",
        "\n",
        "# Make train and testing windows\n",
        "train_windows, test_windows, train_labels, test_labels = make_train_test_splits(windows=full_windows,\n",
        "                                                                               labels=full_labels,\n",
        "                                                                               test_split=0.2)\n",
        "len(train_windows), len(test_windows), len(train_labels), len(test_labels)\n"
      ]
    },
    {
      "cell_type": "code",
      "execution_count": 70,
      "metadata": {
        "id": "xSHCIggvcFKd",
        "colab": {
          "base_uri": "https://localhost:8080/"
        },
        "outputId": "06cc2593-260f-4cd9-8806-e58585270c02"
      },
      "outputs": [
        {
          "output_type": "stream",
          "name": "stdout",
          "text": [
            "\b\b\b\b\b\b\b\b\b\b\b\b\b\b\b\b\b\b\b\b\b\b\b\b\b\b\b\b\b\b\b\b\b\b\b\b\b\b\b\b\b\b\b\b\b\b\b\b\b\b\b\b\b\b\b\b\b\b\b\b\b\b\b\b\b\b\b\b\b\b\b\b\b\b\b\b\b\b\b\b\b\b\b\b\b\b\b\b\b\b\b\b\b\b\b\b\b\b\b\b\r18/18 [==============================] - 0s 8ms/step - loss: 227.0743 - mae: 227.0743 - mse: 275887.3438 - val_loss: 1282.9995 - val_mae: 1282.9995 - val_mse: 5526214.5000\n",
            "Epoch 82/100\n",
            "18/18 [==============================] - 0s 8ms/step - loss: 227.8257 - mae: 227.8257 - mse: 275985.1250 - val_loss: 1307.8398 - val_mae: 1307.8398 - val_mse: 5586823.0000\n",
            "Epoch 83/100\n",
            "18/18 [==============================] - 0s 8ms/step - loss: 226.7182 - mae: 226.7182 - mse: 276026.7188 - val_loss: 1310.5709 - val_mae: 1310.5709 - val_mse: 5694480.0000\n",
            "Epoch 84/100\n",
            "18/18 [==============================] - 0s 8ms/step - loss: 224.0846 - mae: 224.0846 - mse: 273585.4375 - val_loss: 1265.5718 - val_mae: 1265.5718 - val_mse: 5374226.0000\n",
            "Epoch 85/100\n",
            "18/18 [==============================] - 0s 7ms/step - loss: 224.9678 - mae: 224.9678 - mse: 272719.8750 - val_loss: 1251.0790 - val_mae: 1251.0790 - val_mse: 5340227.0000\n",
            "Epoch 86/100\n",
            "18/18 [==============================] - 0s 8ms/step - loss: 226.1646 - mae: 226.1646 - mse: 273025.4688 - val_loss: 1296.5724 - val_mae: 1296.5724 - val_mse: 5621150.5000\n",
            "Epoch 87/100\n",
            "18/18 [==============================] - 0s 10ms/step - loss: 233.8490 - mae: 233.8490 - mse: 281313.8125 - val_loss: 1347.7156 - val_mae: 1347.7156 - val_mse: 5745877.0000\n",
            "Epoch 88/100\n",
            "18/18 [==============================] - 0s 8ms/step - loss: 234.1422 - mae: 234.1422 - mse: 282277.1250 - val_loss: 1483.9254 - val_mae: 1483.9254 - val_mse: 6460812.5000\n",
            "Epoch 89/100\n",
            "18/18 [==============================] - 0s 7ms/step - loss: 231.6107 - mae: 231.6107 - mse: 276664.5000 - val_loss: 1348.6627 - val_mae: 1348.6627 - val_mse: 5797578.5000\n",
            "Epoch 90/100\n",
            "18/18 [==============================] - 0s 7ms/step - loss: 233.5127 - mae: 233.5127 - mse: 280844.4375 - val_loss: 1401.5920 - val_mae: 1401.5920 - val_mse: 5878300.0000\n",
            "Epoch 91/100\n",
            "18/18 [==============================] - 0s 8ms/step - loss: 235.2383 - mae: 235.2383 - mse: 283399.3750 - val_loss: 1276.2810 - val_mae: 1276.2810 - val_mse: 5417355.5000\n",
            "Epoch 92/100\n",
            "18/18 [==============================] - 0s 8ms/step - loss: 225.1346 - mae: 225.1346 - mse: 271334.5312 - val_loss: 1243.7572 - val_mae: 1243.7572 - val_mse: 5521137.5000\n",
            "Epoch 93/100\n",
            "18/18 [==============================] - 0s 8ms/step - loss: 228.7713 - mae: 228.7713 - mse: 276322.0625 - val_loss: 1345.5863 - val_mae: 1345.5863 - val_mse: 5724623.5000\n",
            "Epoch 94/100\n",
            "18/18 [==============================] - 0s 7ms/step - loss: 229.1388 - mae: 229.1388 - mse: 275384.0938 - val_loss: 1327.3394 - val_mae: 1327.3394 - val_mse: 5645321.5000\n",
            "Epoch 95/100\n",
            "18/18 [==============================] - 0s 5ms/step - loss: 227.7394 - mae: 227.7394 - mse: 272620.5938 - val_loss: 1298.3206 - val_mae: 1298.3206 - val_mse: 5619957.0000\n",
            "Epoch 96/100\n",
            "18/18 [==============================] - 0s 5ms/step - loss: 230.6823 - mae: 230.6823 - mse: 281774.2188 - val_loss: 1318.5497 - val_mae: 1318.5497 - val_mse: 5615524.0000\n",
            "Epoch 97/100\n",
            "18/18 [==============================] - 0s 5ms/step - loss: 230.6425 - mae: 230.6425 - mse: 277129.2188 - val_loss: 1347.6584 - val_mae: 1347.6584 - val_mse: 5804662.5000\n",
            "Epoch 98/100\n",
            "18/18 [==============================] - 0s 5ms/step - loss: 229.3834 - mae: 229.3834 - mse: 277308.9062 - val_loss: 1271.4379 - val_mae: 1271.4379 - val_mse: 5408284.0000\n",
            "Epoch 99/100\n",
            "18/18 [==============================] - 0s 6ms/step - loss: 225.4229 - mae: 225.4229 - mse: 275371.2188 - val_loss: 1252.6741 - val_mae: 1252.6741 - val_mse: 5328133.5000\n",
            "Epoch 100/100\n",
            "18/18 [==============================] - 0s 6ms/step - loss: 222.8658 - mae: 222.8658 - mse: 269706.9375 - val_loss: 1412.6027 - val_mae: 1412.6027 - val_mse: 6165892.5000\n"
          ]
        }
      ],
      "source": [
        "\n",
        "import tensorflow as tf\n",
        "\n",
        "# Set random seed for as reproducible results as possible\n",
        "tf.random.set_seed(42)\n",
        "\n",
        "# Construct model\n",
        "model_3 = tf.keras.Sequential([\n",
        "    tf.keras.layers.Dense(128, activation=\"relu\"),\n",
        "    tf.keras.layers.Dense(HORIZON), # linear activation is the same as having no activation\n",
        "], name=\"model_3\") # name our model so we can save it \n",
        "\n",
        "# 2. Compile the model\n",
        "model_3.compile(loss=\"mae\",\n",
        "                optimizer=tf.keras.optimizers.Adam(),\n",
        "                metrics=[\"mae\", \"mse\"])\n",
        "# 3. Fit the model\n",
        "history_model_3 = model_3.fit(train_windows,\n",
        "                              train_labels,\n",
        "                              epochs=100,\n",
        "                              verbose=1,\n",
        "                              batch_size=128,\n",
        "                              validation_data=(test_windows,test_labels),\n",
        "                              callbacks=[create_model_checkpoint(model_name=model_3.name)])"
      ]
    },
    {
      "cell_type": "code",
      "execution_count": 71,
      "metadata": {
        "id": "DMcXpGNMbCjZ",
        "colab": {
          "base_uri": "https://localhost:8080/"
        },
        "outputId": "3d72b863-428d-4fa8-a524-5496abd096e6"
      },
      "outputs": [
        {
          "output_type": "stream",
          "name": "stdout",
          "text": [
            "18/18 [==============================] - 0s 2ms/step - loss: 1412.6027 - mae: 1412.6027 - mse: 6165892.0000\n"
          ]
        },
        {
          "output_type": "execute_result",
          "data": {
            "text/plain": [
              "[1412.6026611328125, 1412.6026611328125, 6165892.0]"
            ]
          },
          "metadata": {},
          "execution_count": 71
        }
      ],
      "source": [
        "model_3.evaluate(test_windows, test_labels)"
      ]
    },
    {
      "cell_type": "code",
      "execution_count": 72,
      "metadata": {
        "id": "5YkEsY4YbDqb",
        "colab": {
          "base_uri": "https://localhost:8080/"
        },
        "outputId": "eb7623de-f4fe-433d-bdd4-d0258e8b2e9e"
      },
      "outputs": [
        {
          "output_type": "stream",
          "name": "stdout",
          "text": [
            "18/18 [==============================] - 0s 2ms/step - loss: 1412.6027 - mae: 1412.6027 - mse: 6165892.0000\n"
          ]
        },
        {
          "output_type": "execute_result",
          "data": {
            "text/plain": [
              "[1412.6026611328125, 1412.6026611328125, 6165892.0]"
            ]
          },
          "metadata": {},
          "execution_count": 72
        }
      ],
      "source": [
        "mmodel_3 = tf.keras.models.load_model(\"model_experiments/model_3/\")\n",
        "model_3.evaluate(test_windows, test_labels)\n"
      ]
    },
    {
      "cell_type": "code",
      "execution_count": 73,
      "metadata": {
        "id": "FMyzTB4lctnO",
        "colab": {
          "base_uri": "https://localhost:8080/"
        },
        "outputId": "2e2ffd49-e0de-4462-ec32-6f32015216ae"
      },
      "outputs": [
        {
          "output_type": "stream",
          "name": "stdout",
          "text": [
            "18/18 [==============================] - 0s 2ms/step\n"
          ]
        }
      ],
      "source": [
        "model_3_preds = make_preds(model_3,input_data=test_windows)"
      ]
    },
    {
      "cell_type": "markdown",
      "metadata": {
        "id": "mTcDI6ZmeY3b"
      },
      "source": [
        "Make our evaluation function  work for larger horizons"
      ]
    },
    {
      "cell_type": "code",
      "execution_count": 74,
      "metadata": {
        "id": "fwaIejyxbDlg",
        "colab": {
          "base_uri": "https://localhost:8080/"
        },
        "outputId": "2a5228cd-8f9a-4938-a795-302ff3a18db1"
      },
      "outputs": [
        {
          "output_type": "execute_result",
          "data": {
            "text/plain": [
              "{'mae': 1412.6027,\n",
              " 'mape': 6.367997,\n",
              " 'mase': 2.0580616,\n",
              " 'mse': 6165892.5,\n",
              " 'rmse': 2483.1216}"
            ]
          },
          "metadata": {},
          "execution_count": 74
        }
      ],
      "source": [
        "model_3_results = evaluate_preds(y_true=tf.squeeze(test_labels),y_pred=model_3_preds)\n",
        "model_3_results"
      ]
    },
    {
      "cell_type": "code",
      "execution_count": 75,
      "metadata": {
        "id": "MrfuAJX3bDje",
        "colab": {
          "base_uri": "https://localhost:8080/"
        },
        "outputId": "8e2131d3-123d-4d7c-c247-3c2cfd86d259"
      },
      "outputs": [
        {
          "output_type": "execute_result",
          "data": {
            "text/plain": [
              "({'mae': 1412.6027,\n",
              "  'mape': 6.367997,\n",
              "  'mase': 2.0580616,\n",
              "  'mse': 6165892.5,\n",
              "  'rmse': 2483.1216},\n",
              " {'mae': 707.99817,\n",
              "  'mape': 3.3305554,\n",
              "  'mase': 1.2375878,\n",
              "  'mse': 1593867.9,\n",
              "  'rmse': 1262.4847},\n",
              " {'mae': 567.9802,\n",
              "  'mape': 2.516525,\n",
              "  'mase': 0.99957,\n",
              "  'mse': 1147547.0,\n",
              "  'rmse': 1071.2362})"
            ]
          },
          "metadata": {},
          "execution_count": 75
        }
      ],
      "source": [
        " model_3_results, model_2_results, naive_results"
      ]
    },
    {
      "cell_type": "code",
      "execution_count": 76,
      "metadata": {
        "id": "QyWmoarKnli-",
        "colab": {
          "base_uri": "https://localhost:8080/"
        },
        "outputId": "61f2ddad-9546-4703-8d61-2daed5379093"
      },
      "outputs": [
        {
          "output_type": "execute_result",
          "data": {
            "text/plain": [
              "(TensorShape([551, 7]), (551,))"
            ]
          },
          "metadata": {},
          "execution_count": 76
        }
      ],
      "source": [
        "model_3_preds.shape, test_labels[:,0].shape"
      ]
    },
    {
      "cell_type": "markdown",
      "metadata": {
        "id": "c8JiaD3ctA_Y"
      },
      "source": [
        "We've made and evaluated prediction with model_3, let's visualize, visualize, visualize!"
      ]
    },
    {
      "cell_type": "code",
      "execution_count": 77,
      "metadata": {
        "id": "VCzzuJETtAv_",
        "colab": {
          "base_uri": "https://localhost:8080/",
          "height": 0
        },
        "outputId": "23d821d8-b0b5-4d70-a104-bfd759e0a154"
      },
      "outputs": [
        {
          "output_type": "display_data",
          "data": {
            "text/plain": [
              "<Figure size 1000x700 with 1 Axes>"
            ],
            "image/png": "[encoded data removed]"
          },
          "metadata": {}
        }
      ],
      "source": [
        "offset = 300\n",
        "plt.figure(figsize=(10,7))\n",
        "# Account for test_window offset when plotting\n",
        "plot_time_series(timesteps=X_test[-len(test_windows):], values = test_labels[:,0],format=\"-\", start=offset, label=\"test data\")\n",
        "plot_time_series(timesteps=X_test[-len(test_windows):], values = model_3_preds, start=offset, label=\"model_3_preds\")"
      ]
    },
    {
      "cell_type": "code",
      "execution_count": 78,
      "metadata": {
        "id": "G-0FULcYy526",
        "colab": {
          "base_uri": "https://localhost:8080/"
        },
        "outputId": "98d78969-60ea-48eb-9474-0db3672d4036"
      },
      "outputs": [
        {
          "output_type": "execute_result",
          "data": {
            "text/plain": [
              "<tf.Tensor: shape=(7,), dtype=float32, numpy=\n",
              "array([9161.679 , 9312.1045, 9165.387 , 9146.365 , 9091.256 , 8994.304 ,\n",
              "       9216.758 ], dtype=float32)>"
            ]
          },
          "metadata": {},
          "execution_count": 78
        }
      ],
      "source": [
        "model_3_preds[0]"
      ]
    },
    {
      "cell_type": "code",
      "execution_count": 79,
      "metadata": {
        "id": "AucVQePNy_aq",
        "colab": {
          "base_uri": "https://localhost:8080/"
        },
        "outputId": "22a472e1-cd1f-4e22-e917-6e8e6093f63d"
      },
      "outputs": [
        {
          "output_type": "execute_result",
          "data": {
            "text/plain": [
              "<tf.Tensor: shape=(), dtype=float32, numpy=9155.407>"
            ]
          },
          "metadata": {},
          "execution_count": 79
        }
      ],
      "source": [
        "tf.reduce_mean(model_3_preds[0])"
      ]
    },
    {
      "cell_type": "code",
      "execution_count": 80,
      "metadata": {
        "id": "aMvH9ytrx7No",
        "colab": {
          "base_uri": "https://localhost:8080/",
          "height": 0
        },
        "outputId": "7e405d2f-88f5-4d6b-f840-fd73fe2c25aa"
      },
      "outputs": [
        {
          "output_type": "display_data",
          "data": {
            "text/plain": [
              "<Figure size 1000x700 with 1 Axes>"
            ],
            "image/png": "[encoded data removed]"
          },
          "metadata": {}
        }
      ],
      "source": [
        "offset = 300\n",
        "plt.figure(figsize=(10,7))\n",
        "# Account for test_window offset when plotting\n",
        "plot_time_series(timesteps=X_test[-len(test_windows):], values = test_labels[:,0], start=offset, label=\"test data\")\n",
        "plot_time_series(timesteps=X_test[-len(test_windows):], values = tf.reduce_mean(model_3_preds, axis=1), format=\"-\", start=offset, label=\"model_3_preds\")"
      ]
    },
    {
      "cell_type": "markdown",
      "metadata": {
        "id": "JmQbsw4Szhcb"
      },
      "source": []
    },
    {
      "cell_type": "code",
      "execution_count": 81,
      "metadata": {
        "id": "wB9F8b8u0LQc",
        "colab": {
          "base_uri": "https://localhost:8080/"
        },
        "outputId": "14eed9d1-b573-426b-9c67-e114d2e2863b"
      },
      "outputs": [
        {
          "output_type": "execute_result",
          "data": {
            "text/plain": [
              "dict_values([567.9802, 2.516525, 0.99957, 1147547.0, 1071.2362])"
            ]
          },
          "metadata": {},
          "execution_count": 81
        }
      ],
      "source": [
        "naive_results.values()"
      ]
    },
    {
      "cell_type": "markdown",
      "metadata": {
        "id": "6mC_Mkj01zZO"
      },
      "source": [
        "## Which of our models is performing the best so far?\n",
        "So we've trained a few models, now let's compare them and see how they've gone..."
      ]
    },
    {
      "cell_type": "code",
      "execution_count": 82,
      "metadata": {
        "id": "6VEaC45y2KlK",
        "colab": {
          "base_uri": "https://localhost:8080/",
          "height": 0
        },
        "outputId": "62a36ce9-7141-4019-8603-a1ea8831da0d"
      },
      "outputs": [
        {
          "output_type": "execute_result",
          "data": {
            "text/plain": [
              "<Axes: >"
            ]
          },
          "metadata": {},
          "execution_count": 82
        },
        {
          "output_type": "display_data",
          "data": {
            "text/plain": [
              "<Figure size 1000x700 with 1 Axes>"
            ],
            "image/png": "[encoded data removed]"
          },
          "metadata": {}
        }
      ],
      "source": [
        "pd.DataFrame({\"naive\": naive_results[\"mae\"],\n",
        "              \"horizon_1_window_7\": model_1_results[\"mae\"],\n",
        "              \"horizon_1_window_30\": model_2_results[\"mae\"],\n",
        "              \"horizon_7_window_30\": model_3_results[\"mae\"]}, index=[\"mae\"]).plot(figsize=(10,7), kind=\"bar\")"
      ]
    },
    {
      "cell_type": "code",
      "execution_count": 83,
      "metadata": {
        "id": "m09ruwZxyBiY"
      },
      "outputs": [],
      "source": [
        "\n",
        "# import matplotlib.pyplot as plt\n",
        "\n",
        "# plt.plot(list(naive_results.keys()), list(naive_results.values()), marker='o', label='naive_results')\n",
        "# plt.plot(list(model_2_results.keys()), list(model_2_results.values()), marker='o', label='model_2_results')\n",
        "# plt.plot(list(model_3_results.keys()), list(model_3_results.values()), marker='o', label='model_3_results')\n",
        "\n",
        "# plt.legend()\n",
        "# plt.show()\n"
      ]
    },
    {
      "cell_type": "markdown",
      "metadata": {
        "id": "E_C1EO1UuZsP"
      },
      "source": [
        "Note: You might be wondering, why are the naïve results so good? One of the reasons could be due the presence of autocorrelation in the data. If a time series has autocorrelation it means the value at t+1 (the next timestep) is typically close to the value at t (the current\n",
        "timestep). In other words, today's value is probably pretty close to yesterday's value. Of course,\n",
        "this isn't always the case but when it is, a naïve model will often get fairly good results.\n",
        "\n",
        "**Resource:** For more on how autocorrelation influences a model's predictions, see the article[How (not) to use Machine Learning for time series forecasting: avoiding the pitfalls by Vegard Flovik.](https://towardsdatascience.com/how-not-to-use-machine-learning-for-time-series-forecasting-avoiding-the-pitfalls-19f9d7adf424)"
      ]
    },
    {
      "cell_type": "markdown",
      "metadata": {
        "id": "HipxABprlFJN"
      },
      "source": [
        "## Model 4 : Conv1D \n"
      ]
    },
    {
      "cell_type": "code",
      "execution_count": 84,
      "metadata": {
        "id": "-CJbSMqjRn-s",
        "colab": {
          "base_uri": "https://localhost:8080/"
        },
        "outputId": "d89ec47e-7b04-4472-af6c-221a4355b68c"
      },
      "outputs": [
        {
          "output_type": "execute_result",
          "data": {
            "text/plain": [
              "(2780, 2780, 2224, 556, 2224, 556)"
            ]
          },
          "metadata": {},
          "execution_count": 84
        }
      ],
      "source": [
        "HORIZON = 1\n",
        "WINDOW_SIZE = 7\n",
        "\n",
        "# Make windowe data with appropriate horizon and window sizes\n",
        "full_windows, full_labels = make_windows(prices, window_size = WINDOW_SIZE, horizon = HORIZON)\n",
        "\n",
        "\n",
        "# Make train and testing windows\n",
        "train_windows, test_windows, train_labels, test_labels = make_train_test_splits(windows=full_windows,\n",
        "                                                                               labels=full_labels,\n",
        "                                                                               test_split=0.2)\n",
        "len(full_windows), len(full_labels), len(train_windows), len(test_windows), len(train_labels), len(test_labels)"
      ]
    },
    {
      "cell_type": "markdown",
      "metadata": {
        "id": "pTwgdHT99ULq"
      },
      "source": [
        "To use the Conv1D layer, we need an input shape of : `batch, timesteps, input_dim`...\n",
        "\n",
        "However our data isn't in that shape yet"
      ]
    },
    {
      "cell_type": "code",
      "execution_count": 85,
      "metadata": {
        "id": "Fa8xDqrE9m7I",
        "colab": {
          "base_uri": "https://localhost:8080/"
        },
        "outputId": "0767d223-f2b8-4702-ea86-d2b4365007c9"
      },
      "outputs": [
        {
          "output_type": "execute_result",
          "data": {
            "text/plain": [
              "(7,)"
            ]
          },
          "metadata": {},
          "execution_count": 85
        }
      ],
      "source": [
        "# Check data input shape\n",
        "train_windows[0].shape"
      ]
    },
    {
      "cell_type": "code",
      "execution_count": 86,
      "metadata": {
        "id": "LR9prKZI9-2v",
        "colab": {
          "base_uri": "https://localhost:8080/"
        },
        "outputId": "d9fd7290-4ee7-4a18-91a3-cd0a7199d3b3"
      },
      "outputs": [
        {
          "output_type": "execute_result",
          "data": {
            "text/plain": [
              "<tf.Tensor: shape=(7,), dtype=float64, numpy=\n",
              "array([123.65499, 125.455  , 108.58483, 118.67466, 121.33866, 120.65533,\n",
              "       121.795  ])>"
            ]
          },
          "metadata": {},
          "execution_count": 86
        }
      ],
      "source": [
        "# Before we pass our data to the Conv1D layer, we have to reshape it in order to make sure it works\n",
        "x = tf.constant(train_windows[0])\n",
        "x "
      ]
    },
    {
      "cell_type": "code",
      "execution_count": 87,
      "metadata": {
        "id": "CEp3wMhxAMxb"
      },
      "outputs": [],
      "source": [
        "expand_dims_layer = tf.keras.layers.Lambda(lambda x: tf.expand_dims(x, axis=-1)) # add an extra dimension for `input_dim` in the end of the tensor  with -1 and on position 1 with axis=1"
      ]
    },
    {
      "cell_type": "code",
      "execution_count": 88,
      "metadata": {
        "id": "DEZWbMS0CPMD",
        "colab": {
          "base_uri": "https://localhost:8080/"
        },
        "outputId": "8c78ce1a-d17f-48eb-dfa5-137684a7be81"
      },
      "outputs": [
        {
          "output_type": "stream",
          "name": "stdout",
          "text": [
            "original shape: (7,)\n",
            "expanded shape: (7, 1)\n",
            "Original values with expanded shape:\n",
            " [[123.65499]\n",
            " [125.455  ]\n",
            " [108.58483]\n",
            " [118.67466]\n",
            " [121.33866]\n",
            " [120.65533]\n",
            " [121.795  ]]\n"
          ]
        }
      ],
      "source": [
        "# Test out our lambda layer\n",
        "print(f\"original shape: {x.shape}\") # (WINDOW_SIZE)\n",
        "print(f\"expanded shape: {expand_dims_layer(x).shape}\") # (WINDOW_SIZE)\n",
        "print(f\"Original values with expanded shape:\\n {expand_dims_layer(x)}\")"
      ]
    },
    {
      "cell_type": "code",
      "execution_count": 89,
      "metadata": {
        "colab": {
          "base_uri": "https://localhost:8080/"
        },
        "id": "W6FCDgBLRn7G",
        "outputId": "b2f0d711-0711-4421-f95f-053315dc74d3"
      },
      "outputs": [
        {
          "output_type": "stream",
          "name": "stderr",
          "text": [
            "WARNING:absl:Found untraced functions such as _jit_compiled_convolution_op, _update_step_xla while saving (showing 2 of 2). These functions will not be directly callable after loading.\n",
            "WARNING:absl:Found untraced functions such as _jit_compiled_convolution_op, _update_step_xla while saving (showing 2 of 2). These functions will not be directly callable after loading.\n",
            "WARNING:absl:Found untraced functions such as _jit_compiled_convolution_op, _update_step_xla while saving (showing 2 of 2). These functions will not be directly callable after loading.\n",
            "WARNING:absl:Found untraced functions such as _jit_compiled_convolution_op, _update_step_xla while saving (showing 2 of 2). These functions will not be directly callable after loading.\n",
            "WARNING:absl:Found untraced functions such as _jit_compiled_convolution_op, _update_step_xla while saving (showing 2 of 2). These functions will not be directly callable after loading.\n",
            "WARNING:absl:Found untraced functions such as _jit_compiled_convolution_op, _update_step_xla while saving (showing 2 of 2). These functions will not be directly callable after loading.\n",
            "WARNING:absl:Found untraced functions such as _jit_compiled_convolution_op, _update_step_xla while saving (showing 2 of 2). These functions will not be directly callable after loading.\n",
            "WARNING:absl:Found untraced functions such as _jit_compiled_convolution_op, _update_step_xla while saving (showing 2 of 2). These functions will not be directly callable after loading.\n",
            "WARNING:absl:Found untraced functions such as _jit_compiled_convolution_op, _update_step_xla while saving (showing 2 of 2). These functions will not be directly callable after loading.\n",
            "WARNING:absl:Found untraced functions such as _jit_compiled_convolution_op, _update_step_xla while saving (showing 2 of 2). These functions will not be directly callable after loading.\n",
            "WARNING:absl:Found untraced functions such as _jit_compiled_convolution_op, _update_step_xla while saving (showing 2 of 2). These functions will not be directly callable after loading.\n",
            "WARNING:absl:Found untraced functions such as _jit_compiled_convolution_op, _update_step_xla while saving (showing 2 of 2). These functions will not be directly callable after loading.\n",
            "WARNING:absl:Found untraced functions such as _jit_compiled_convolution_op, _update_step_xla while saving (showing 2 of 2). These functions will not be directly callable after loading.\n",
            "WARNING:absl:Found untraced functions such as _jit_compiled_convolution_op, _update_step_xla while saving (showing 2 of 2). These functions will not be directly callable after loading.\n",
            "WARNING:absl:Found untraced functions such as _jit_compiled_convolution_op, _update_step_xla while saving (showing 2 of 2). These functions will not be directly callable after loading.\n",
            "WARNING:absl:Found untraced functions such as _jit_compiled_convolution_op, _update_step_xla while saving (showing 2 of 2). These functions will not be directly callable after loading.\n",
            "WARNING:absl:Found untraced functions such as _jit_compiled_convolution_op, _update_step_xla while saving (showing 2 of 2). These functions will not be directly callable after loading.\n",
            "WARNING:absl:Found untraced functions such as _jit_compiled_convolution_op, _update_step_xla while saving (showing 2 of 2). These functions will not be directly callable after loading.\n",
            "WARNING:absl:Found untraced functions such as _jit_compiled_convolution_op, _update_step_xla while saving (showing 2 of 2). These functions will not be directly callable after loading.\n",
            "WARNING:absl:Found untraced functions such as _jit_compiled_convolution_op, _update_step_xla while saving (showing 2 of 2). These functions will not be directly callable after loading.\n",
            "WARNING:absl:Found untraced functions such as _jit_compiled_convolution_op, _update_step_xla while saving (showing 2 of 2). These functions will not be directly callable after loading.\n",
            "WARNING:absl:Found untraced functions such as _jit_compiled_convolution_op, _update_step_xla while saving (showing 2 of 2). These functions will not be directly callable after loading.\n",
            "WARNING:absl:Found untraced functions such as _jit_compiled_convolution_op, _update_step_xla while saving (showing 2 of 2). These functions will not be directly callable after loading.\n",
            "WARNING:absl:Found untraced functions such as _jit_compiled_convolution_op, _update_step_xla while saving (showing 2 of 2). These functions will not be directly callable after loading.\n",
            "WARNING:absl:Found untraced functions such as _jit_compiled_convolution_op, _update_step_xla while saving (showing 2 of 2). These functions will not be directly callable after loading.\n",
            "WARNING:absl:Found untraced functions such as _jit_compiled_convolution_op, _update_step_xla while saving (showing 2 of 2). These functions will not be directly callable after loading.\n",
            "WARNING:absl:Found untraced functions such as _jit_compiled_convolution_op, _update_step_xla while saving (showing 2 of 2). These functions will not be directly callable after loading.\n",
            "WARNING:absl:Found untraced functions such as _jit_compiled_convolution_op, _update_step_xla while saving (showing 2 of 2). These functions will not be directly callable after loading.\n",
            "WARNING:absl:Found untraced functions such as _jit_compiled_convolution_op, _update_step_xla while saving (showing 2 of 2). These functions will not be directly callable after loading.\n",
            "WARNING:absl:Found untraced functions such as _jit_compiled_convolution_op, _update_step_xla while saving (showing 2 of 2). These functions will not be directly callable after loading.\n",
            "WARNING:absl:Found untraced functions such as _jit_compiled_convolution_op, _update_step_xla while saving (showing 2 of 2). These functions will not be directly callable after loading.\n",
            "WARNING:absl:Found untraced functions such as _jit_compiled_convolution_op, _update_step_xla while saving (showing 2 of 2). These functions will not be directly callable after loading.\n",
            "WARNING:absl:Found untraced functions such as _jit_compiled_convolution_op, _update_step_xla while saving (showing 2 of 2). These functions will not be directly callable after loading.\n",
            "WARNING:absl:Found untraced functions such as _jit_compiled_convolution_op, _update_step_xla while saving (showing 2 of 2). These functions will not be directly callable after loading.\n",
            "WARNING:absl:Found untraced functions such as _jit_compiled_convolution_op, _update_step_xla while saving (showing 2 of 2). These functions will not be directly callable after loading.\n",
            "WARNING:absl:Found untraced functions such as _jit_compiled_convolution_op, _update_step_xla while saving (showing 2 of 2). These functions will not be directly callable after loading.\n",
            "WARNING:absl:Found untraced functions such as _jit_compiled_convolution_op, _update_step_xla while saving (showing 2 of 2). These functions will not be directly callable after loading.\n",
            "WARNING:absl:Found untraced functions such as _jit_compiled_convolution_op, _update_step_xla while saving (showing 2 of 2). These functions will not be directly callable after loading.\n",
            "WARNING:absl:Found untraced functions such as _jit_compiled_convolution_op, _update_step_xla while saving (showing 2 of 2). These functions will not be directly callable after loading.\n",
            "WARNING:absl:Found untraced functions such as _jit_compiled_convolution_op, _update_step_xla while saving (showing 2 of 2). These functions will not be directly callable after loading.\n",
            "WARNING:absl:Found untraced functions such as _jit_compiled_convolution_op, _update_step_xla while saving (showing 2 of 2). These functions will not be directly callable after loading.\n",
            "WARNING:absl:Found untraced functions such as _jit_compiled_convolution_op, _update_step_xla while saving (showing 2 of 2). These functions will not be directly callable after loading.\n",
            "WARNING:absl:Found untraced functions such as _jit_compiled_convolution_op, _update_step_xla while saving (showing 2 of 2). These functions will not be directly callable after loading.\n",
            "WARNING:absl:Found untraced functions such as _jit_compiled_convolution_op, _update_step_xla while saving (showing 2 of 2). These functions will not be directly callable after loading.\n"
          ]
        }
      ],
      "source": [
        "import tensorflow as tf\n",
        "\n",
        "# Set random seed for as reproducible results as possible\n",
        "tf.random.set_seed(42)\n",
        "input_shape = train_windows.shape[1:]\n",
        "\n",
        "model_4 = tf.keras.Sequential([\n",
        "    tf.keras.layers.Lambda(lambda x: tf.expand_dims(x, axis=1)),\n",
        "    tf.keras.layers.Conv1D(128, kernel_size=5, strides=1, padding=\"causal\", activation=\"relu\"), # Add a Flatten layer to collapse the spatial dimensions\n",
        "    tf.keras.layers.Dense(HORIZON) # linear activation is the same as having no activation\n",
        "], name=\"model_4\") # name our model so we can save it \n",
        "\n",
        "# 2. Compile the model\n",
        "model_4.compile(loss=\"mae\",\n",
        "                optimizer=tf.keras.optimizers.Adam()) \n",
        "# 3. Fit the model\n",
        "history_model_4 = model_4.fit(train_windows,\n",
        "                              train_labels,\n",
        "                              epochs=100,\n",
        "                              verbose=0,\n",
        "                              batch_size=128,\n",
        "                              validation_data=(test_windows,test_labels),\n",
        "                              callbacks=[create_model_checkpoint(model_name=model_4.name)]);"
      ]
    },
    {
      "cell_type": "code",
      "execution_count": 90,
      "metadata": {
        "colab": {
          "base_uri": "https://localhost:8080/"
        },
        "id": "1IfKKrC2-kOY",
        "outputId": "84a453c2-9c82-40e7-bbd9-6c9949ec3533"
      },
      "outputs": [
        {
          "output_type": "stream",
          "name": "stdout",
          "text": [
            "Model: \"model_4\"\n",
            "_________________________________________________________________\n",
            " Layer (type)                Output Shape              Param #   \n",
            "=================================================================\n",
            " lambda_1 (Lambda)           (None, 1, 7)              0         \n",
            "                                                                 \n",
            " conv1d (Conv1D)             (None, 1, 128)            4608      \n",
            "                                                                 \n",
            " dense_6 (Dense)             (None, 1, 1)              129       \n",
            "                                                                 \n",
            "=================================================================\n",
            "Total params: 4,737\n",
            "Trainable params: 4,737\n",
            "Non-trainable params: 0\n",
            "_________________________________________________________________\n"
          ]
        }
      ],
      "source": [
        "model_4.summary()"
      ]
    },
    {
      "cell_type": "code",
      "execution_count": 91,
      "metadata": {
        "colab": {
          "base_uri": "https://localhost:8080/"
        },
        "id": "pHi9-wJ7Sztc",
        "outputId": "4ab150fb-acae-47f3-9f01-9fd6152a275b"
      },
      "outputs": [
        {
          "output_type": "stream",
          "name": "stdout",
          "text": [
            "18/18 [==============================] - 0s 4ms/step - loss: 571.1932\n"
          ]
        },
        {
          "output_type": "execute_result",
          "data": {
            "text/plain": [
              "571.1932373046875"
            ]
          },
          "metadata": {},
          "execution_count": 91
        }
      ],
      "source": [
        "model_4 = tf.keras.models.load_model(\"model_experiments/model_4/\")\n",
        "model_4.evaluate(test_windows, test_labels)"
      ]
    },
    {
      "cell_type": "code",
      "execution_count": 92,
      "metadata": {
        "colab": {
          "base_uri": "https://localhost:8080/"
        },
        "id": "KXRTKlDA_LMJ",
        "outputId": "3d2551c0-abf2-42f2-9a7b-a52f8a89c733"
      },
      "outputs": [
        {
          "output_type": "stream",
          "name": "stdout",
          "text": [
            "18/18 [==============================] - 0s 2ms/step - loss: 571.1932\n"
          ]
        },
        {
          "output_type": "execute_result",
          "data": {
            "text/plain": [
              "571.1932373046875"
            ]
          },
          "metadata": {},
          "execution_count": 92
        }
      ],
      "source": [
        "model_4.evaluate(test_windows, test_labels)"
      ]
    },
    {
      "cell_type": "code",
      "execution_count": 93,
      "metadata": {
        "id": "1qh1S5VmR3VX",
        "colab": {
          "base_uri": "https://localhost:8080/"
        },
        "outputId": "260b9003-1fd3-483c-9958-b0104d7ee71a"
      },
      "outputs": [
        {
          "output_type": "stream",
          "name": "stdout",
          "text": [
            "18/18 [==============================] - 0s 2ms/step\n"
          ]
        },
        {
          "output_type": "execute_result",
          "data": {
            "text/plain": [
              "TensorShape([556])"
            ]
          },
          "metadata": {},
          "execution_count": 93
        }
      ],
      "source": [
        "model_4_preds = make_preds(model_4,test_windows)\n",
        "model_4_preds.shape"
      ]
    },
    {
      "cell_type": "code",
      "execution_count": 94,
      "metadata": {
        "id": "pGT97z_WSS7n",
        "colab": {
          "base_uri": "https://localhost:8080/"
        },
        "outputId": "71b20247-8f73-4cb8-939f-c10b48e5d470"
      },
      "outputs": [
        {
          "output_type": "execute_result",
          "data": {
            "text/plain": [
              "{'mae': 571.1933,\n",
              " 'mape': 2.5608814,\n",
              " 'mase': 1.0034285,\n",
              " 'mse': 1180815.8,\n",
              " 'rmse': 1086.6534}"
            ]
          },
          "metadata": {},
          "execution_count": 94
        }
      ],
      "source": [
        "model_4_results = evaluate_preds(tf.squeeze(test_labels), model_4_preds)\n",
        "model_4_results"
      ]
    },
    {
      "cell_type": "code",
      "execution_count": 95,
      "metadata": {
        "id": "svx0SSs3ScQY",
        "colab": {
          "base_uri": "https://localhost:8080/",
          "height": 0
        },
        "outputId": "42547818-8b1b-49c1-93f4-97e488a1af3e"
      },
      "outputs": [
        {
          "output_type": "execute_result",
          "data": {
            "text/plain": [
              "<Axes: >"
            ]
          },
          "metadata": {},
          "execution_count": 95
        },
        {
          "output_type": "display_data",
          "data": {
            "text/plain": [
              "<Figure size 1000x700 with 1 Axes>"
            ],
            "image/png": "[encoded data removed]"
          },
          "metadata": {}
        }
      ],
      "source": [
        "pd.DataFrame({\"naive\": naive_results[\"mae\"],\n",
        "              \"horizon_1_window_7\": model_1_results[\"mae\"],\n",
        "              \"horizon_1_window_30\": model_2_results[\"mae\"],\n",
        "              \"horizon_7_window_30\": model_3_results[\"mae\"],\n",
        "              \"horizon_7_window_30_conv1D\": model_4_results[\"mae\"]}, index=[\"mae\"]).plot(figsize=(10,7), kind=\"bar\")"
      ]
    },
    {
      "cell_type": "markdown",
      "metadata": {
        "id": "9gjad_OcZ4MX"
      },
      "source": [
        "## model 4 :  Conv1D With using KERAS TUNER "
      ]
    },
    {
      "cell_type": "code",
      "execution_count": 96,
      "metadata": {
        "id": "cW5AwotsZ9-T"
      },
      "outputs": [],
      "source": [
        "#!pip install keras-tuner==1.0.4"
      ]
    },
    {
      "cell_type": "code",
      "execution_count": 97,
      "metadata": {
        "id": "b8MhTTRIa21g"
      },
      "outputs": [],
      "source": [
        "# # function \n",
        "# import tensorflow as tf\n",
        "# from kerastuner import RandomSearch\n",
        "\n",
        "# def build_model_4_op(hp):\n",
        "#     model_4_op = tf.keras.Sequential([\n",
        "#         tf.keras.layers.Lambda(lambda x: tf.expand_dims(x, axis=1)),\n",
        "#         tf.keras.layers.Conv1D(\n",
        "#             filters=hp.Int('filters', min_value=32, max_value=256, step=32),\n",
        "#             kernel_size=hp.Choice('kernel_size', values=[3, 5]),\n",
        "#             strides=1,\n",
        "#             padding=\"causal\",\n",
        "#             activation=\"relu\"\n",
        "#         ),\n",
        "#         tf.keras.layers.Flatten(),\n",
        "#         tf.keras.layers.Dense(HORIZON)\n",
        "#     ], name=\"model_4_op\")\n",
        "\n",
        "#     model_4_op.compile(loss=\"mae\",\n",
        "#                        optimizer=tf.keras.optimizers.Adam(\n",
        "#                            hp.Choice('learning_rate', values=[1e-2, 1e-3, 1e-4])\n",
        "#                            ),\n",
        "#                        metrics=[\"mae\", \"mse\"])\n",
        "\n",
        "#     return model_4_op\n",
        "\n",
        "# tuner = RandomSearch(\n",
        "#     build_model_4_op,\n",
        "#     objective='mae',\n",
        "#     max_trials=20,\n",
        "#     executions_per_trial=3,\n",
        "#     directory='my_dir',\n",
        "#     project_name='build_model_4_op')\n",
        "\n",
        "# tuner.search_space_summary()"
      ]
    },
    {
      "cell_type": "code",
      "execution_count": 97,
      "metadata": {
        "id": "Vt4R3xf3bBTt"
      },
      "outputs": [],
      "source": []
    },
    {
      "cell_type": "code",
      "execution_count": 98,
      "metadata": {
        "id": "BXeZUq7abMZX"
      },
      "outputs": [],
      "source": [
        "# tuner.search(train_windows, train_labels, epochs=100, verbose=1, batch_size=128, validation_data=(test_windows, test_labels))"
      ]
    },
    {
      "cell_type": "code",
      "execution_count": 99,
      "metadata": {
        "id": "7RUsFhwUbP5x"
      },
      "outputs": [],
      "source": [
        "# best_hp = tuner.get_best_hyperparameters(num_trials=1)[0]\n",
        "# final_model_4_op = build_model_4_op(best_hp)"
      ]
    },
    {
      "cell_type": "code",
      "execution_count": 100,
      "metadata": {
        "id": "553U1Ej7gb-o"
      },
      "outputs": [],
      "source": [
        "# #input_shape = (train_windows.shape[1])\n",
        "# final_model_4_op.build(train_windows.shape)\n",
        "# final_model_4_op.summary()"
      ]
    },
    {
      "cell_type": "code",
      "execution_count": 100,
      "metadata": {
        "id": "9hrq55baiFBY"
      },
      "outputs": [],
      "source": []
    },
    {
      "cell_type": "code",
      "execution_count": 101,
      "metadata": {
        "id": "umt4c3sIbU9Y"
      },
      "outputs": [],
      "source": [
        "# history_model_4_op = final_model_4_op.fit(train_windows,\n",
        "#                                           train_labels,\n",
        "#                                           epochs=100,\n",
        "#                                           verbose=0,\n",
        "#                                           batch_size=128,\n",
        "#                                           validation_data=(test_windows, test_labels),\n",
        "#                                           callbacks=[create_model_checkpoint(model_name=final_model_4_op.name)])"
      ]
    },
    {
      "cell_type": "code",
      "execution_count": 102,
      "metadata": {
        "id": "az0KSIlmbWCQ"
      },
      "outputs": [],
      "source": [
        "# final_model_4_op.evaluate(test_windows, test_labels)"
      ]
    },
    {
      "cell_type": "code",
      "execution_count": 103,
      "metadata": {
        "id": "gRZFIUx15lZc"
      },
      "outputs": [],
      "source": [
        "# # function\n",
        "# # Import pandas\n",
        "# import pandas as pd\n",
        "\n",
        "# # Obtenir les meilleurs modèles\n",
        "# best_models = tuner.get_best_models(num_models=20)  # Vous pouvez modifier num_models pour récupérer le nombre de meilleurs modèles que vous souhaitez\n",
        "\n",
        "# # Créer une liste vide pour stocker les paramètres et les scores\n",
        "# hyperparameters_scores_list = []\n",
        "\n",
        "# # Parcourir les trials et ajouter les hyperparamètres et les scores correspondants à la liste\n",
        "# for trial in tuner.oracle.trials.values():\n",
        "#     hyperparameters = trial.hyperparameters.values\n",
        "#     val_loss_mae = trial.score\n",
        "#     mae = trial.metrics.metrics[\"loss\"].get_best_value()\n",
        "\n",
        "#     hyperparameters_scores = {\n",
        "#         'filters': hyperparameters['filters'],\n",
        "#         'kernel_size': hyperparameters['kernel_size'],\n",
        "#         'learning_rate': hyperparameters['learning_rate'],\n",
        "#         'val_loss': val_loss_mae,\n",
        "#         'mae': mae\n",
        "#     }\n",
        "#     hyperparameters_scores_list.append(hyperparameters_scores)\n",
        "\n",
        "# # Convertir la liste en DataFrame pandas\n",
        "# hyperparameters_scores_df = pd.DataFrame(hyperparameters_scores_list)\n",
        "\n",
        "# # Trier le DataFrame en fonction de val_loss et sélectionner les meilleurs modèles\n",
        "# hyperparameters_scores_df = hyperparameters_scores_df.sort_values(by='mae', ascending=False).head(len(best_models));\n",
        "\n",
        "# # Réinitialiser l'index du DataFrame\n",
        "# hyperparameters_scores_df.reset_index(drop=True, inplace=True);"
      ]
    },
    {
      "cell_type": "code",
      "execution_count": 104,
      "metadata": {
        "id": "b9Ln0ieDbXoJ"
      },
      "outputs": [],
      "source": [
        "# hyperparameters_scores_df"
      ]
    },
    {
      "cell_type": "code",
      "execution_count": 105,
      "metadata": {
        "id": "n8J_QbsPkHBh"
      },
      "outputs": [],
      "source": [
        "# model_4_op_preds = make_preds(final_model_4_op,test_windows)"
      ]
    },
    {
      "cell_type": "code",
      "execution_count": 106,
      "metadata": {
        "id": "lgXeJQxrl8Gh"
      },
      "outputs": [],
      "source": [
        "# model_4_op_results = evaluate_preds(test_labels,model_4_op_preds)\n",
        "# model_4_op_results"
      ]
    },
    {
      "cell_type": "markdown",
      "metadata": {
        "id": "0Kii-zCOeoZD"
      },
      "source": [
        "## Model 5 : RNN (LSTM)"
      ]
    },
    {
      "cell_type": "code",
      "execution_count": 107,
      "metadata": {
        "id": "-2JNM2Vk2D6t",
        "colab": {
          "base_uri": "https://localhost:8080/"
        },
        "outputId": "c85d34a5-db61-4fb2-8208-be23411773cc"
      },
      "outputs": [
        {
          "output_type": "execute_result",
          "data": {
            "text/plain": [
              "(2780, 2780, 2224, 556, 2224, 556)"
            ]
          },
          "metadata": {},
          "execution_count": 107
        }
      ],
      "source": [
        "HORIZON = 1\n",
        "WINDOW_SIZE = 7\n",
        "\n",
        "# Make windowe data with appropriate horizon and window sizes\n",
        "full_windows, full_labels = make_windows(prices, window_size = WINDOW_SIZE, horizon = HORIZON)\n",
        "\n",
        "# Make train and testing windows\n",
        "train_windows, test_windows, train_labels, test_labels = make_train_test_splits(windows=full_windows,\n",
        "                                                                               labels=full_labels,\n",
        "                                                                               test_split=0.2)\n",
        "len(full_windows), len(full_labels), len(train_windows), len(test_windows), len(train_labels), len(test_labels)"
      ]
    },
    {
      "cell_type": "code",
      "execution_count": 108,
      "metadata": {
        "colab": {
          "base_uri": "https://localhost:8080/"
        },
        "id": "H0ND4bZ-3EoZ",
        "outputId": "c318648f-d971-455e-d048-71e5da392e51"
      },
      "outputs": [
        {
          "output_type": "stream",
          "name": "stderr",
          "text": [
            "WARNING:tensorflow:Layer lstm will not use cuDNN kernels since it doesn't meet the criteria. It will use a generic GPU kernel as fallback when running on GPU.\n"
          ]
        },
        {
          "output_type": "stream",
          "name": "stdout",
          "text": [
            "Epoch 1/100\n",
            "11/18 [=================>............] - ETA: 0s - loss: 2741.3408 "
          ]
        },
        {
          "output_type": "stream",
          "name": "stderr",
          "text": [
            "WARNING:absl:Found untraced functions such as _update_step_xla while saving (showing 1 of 1). These functions will not be directly callable after loading.\n"
          ]
        },
        {
          "output_type": "stream",
          "name": "stdout",
          "text": [
            "\b\b\b\b\b\b\b\b\b\b\b\b\b\b\b\b\b\b\b\b\b\b\b\b\b\b\b\b\b\b\b\b\b\b\b\b\b\b\b\b\b\b\b\b\b\b\b\b\b\b\b\b\b\b\b\b\b\b\b\b\b\b\b\b\b\b\r18/18 [==============================] - 4s 120ms/step - loss: 2436.6958 - val_loss: 10299.6611\n",
            "Epoch 2/100\n",
            "12/18 [===================>..........] - ETA: 0s - loss: 1177.5031"
          ]
        },
        {
          "output_type": "stream",
          "name": "stderr",
          "text": [
            "WARNING:absl:Found untraced functions such as _update_step_xla while saving (showing 1 of 1). These functions will not be directly callable after loading.\n"
          ]
        },
        {
          "output_type": "stream",
          "name": "stdout",
          "text": [
            "\b\b\b\b\b\b\b\b\b\b\b\b\b\b\b\b\b\b\b\b\b\b\b\b\b\b\b\b\b\b\b\b\b\b\b\b\b\b\b\b\b\b\b\b\b\b\b\b\b\b\b\b\b\b\b\b\b\b\b\b\b\b\b\b\b\b\r18/18 [==============================] - 2s 144ms/step - loss: 943.2368 - val_loss: 1141.7281\n",
            "Epoch 3/100\n",
            "11/18 [=================>............] - ETA: 0s - loss: 253.1778"
          ]
        },
        {
          "output_type": "stream",
          "name": "stderr",
          "text": [
            "WARNING:absl:Found untraced functions such as _update_step_xla while saving (showing 1 of 1). These functions will not be directly callable after loading.\n"
          ]
        },
        {
          "output_type": "stream",
          "name": "stdout",
          "text": [
            "\b\b\b\b\b\b\b\b\b\b\b\b\b\b\b\b\b\b\b\b\b\b\b\b\b\b\b\b\b\b\b\b\b\b\b\b\b\b\b\b\b\b\b\b\b\b\b\b\b\b\b\b\b\b\b\b\b\b\b\b\b\b\b\b\b\r18/18 [==============================] - 2s 106ms/step - loss: 248.3358 - val_loss: 1031.8146\n",
            "Epoch 4/100\n",
            "11/18 [=================>............] - ETA: 0s - loss: 208.7439"
          ]
        },
        {
          "output_type": "stream",
          "name": "stderr",
          "text": [
            "WARNING:absl:Found untraced functions such as _update_step_xla while saving (showing 1 of 1). These functions will not be directly callable after loading.\n"
          ]
        },
        {
          "output_type": "stream",
          "name": "stdout",
          "text": [
            "\b\b\b\b\b\b\b\b\b\b\b\b\b\b\b\b\b\b\b\b\b\b\b\b\b\b\b\b\b\b\b\b\b\b\b\b\b\b\b\b\b\b\b\b\b\b\b\b\b\b\b\b\b\b\b\b\b\b\b\b\b\b\b\b\b\r18/18 [==============================] - 2s 104ms/step - loss: 189.8342 - val_loss: 987.0438\n",
            "Epoch 5/100\n",
            "18/18 [==============================] - 0s 7ms/step - loss: 178.3853 - val_loss: 1003.5928\n",
            "Epoch 6/100\n",
            "12/18 [===================>..........] - ETA: 0s - loss: 170.6135"
          ]
        },
        {
          "output_type": "stream",
          "name": "stderr",
          "text": [
            "WARNING:absl:Found untraced functions such as _update_step_xla while saving (showing 1 of 1). These functions will not be directly callable after loading.\n"
          ]
        },
        {
          "output_type": "stream",
          "name": "stdout",
          "text": [
            "\b\b\b\b\b\b\b\b\b\b\b\b\b\b\b\b\b\b\b\b\b\b\b\b\b\b\b\b\b\b\b\b\b\b\b\b\b\b\b\b\b\b\b\b\b\b\b\b\b\b\b\b\b\b\b\b\b\b\b\b\b\b\b\b\b\r18/18 [==============================] - 2s 127ms/step - loss: 173.7645 - val_loss: 966.0167\n",
            "Epoch 7/100\n",
            "18/18 [==============================] - 0s 7ms/step - loss: 170.9351 - val_loss: 972.1013\n",
            "Epoch 8/100\n",
            "18/18 [==============================] - 0s 7ms/step - loss: 169.3442 - val_loss: 978.4374\n",
            "Epoch 9/100\n",
            "18/18 [==============================] - 0s 7ms/step - loss: 167.4520 - val_loss: 967.3169\n",
            "Epoch 10/100\n",
            "10/18 [===============>..............] - ETA: 0s - loss: 161.5041"
          ]
        },
        {
          "output_type": "stream",
          "name": "stderr",
          "text": [
            "WARNING:absl:Found untraced functions such as _update_step_xla while saving (showing 1 of 1). These functions will not be directly callable after loading.\n"
          ]
        },
        {
          "output_type": "stream",
          "name": "stdout",
          "text": [
            "\b\b\b\b\b\b\b\b\b\b\b\b\b\b\b\b\b\b\b\b\b\b\b\b\b\b\b\b\b\b\b\b\b\b\b\b\b\b\b\b\b\b\b\b\b\b\b\b\b\b\b\b\b\b\b\b\b\b\b\b\b\b\b\b\b\r18/18 [==============================] - 2s 107ms/step - loss: 166.5611 - val_loss: 944.8724\n",
            "Epoch 11/100\n",
            "11/18 [=================>............] - ETA: 0s - loss: 172.7660"
          ]
        },
        {
          "output_type": "stream",
          "name": "stderr",
          "text": [
            "WARNING:absl:Found untraced functions such as _update_step_xla while saving (showing 1 of 1). These functions will not be directly callable after loading.\n"
          ]
        },
        {
          "output_type": "stream",
          "name": "stdout",
          "text": [
            "\b\b\b\b\b\b\b\b\b\b\b\b\b\b\b\b\b\b\b\b\b\b\b\b\b\b\b\b\b\b\b\b\b\b\b\b\b\b\b\b\b\b\b\b\b\b\b\b\b\b\b\b\b\b\b\b\b\b\b\b\b\b\b\b\b\r18/18 [==============================] - 2s 114ms/step - loss: 166.4047 - val_loss: 933.0206\n",
            "Epoch 12/100\n",
            "18/18 [==============================] - ETA: 0s - loss: 165.6391"
          ]
        },
        {
          "output_type": "stream",
          "name": "stderr",
          "text": [
            "WARNING:absl:Found untraced functions such as _update_step_xla while saving (showing 1 of 1). These functions will not be directly callable after loading.\n"
          ]
        },
        {
          "output_type": "stream",
          "name": "stdout",
          "text": [
            "\b\b\b\b\b\b\b\b\b\b\b\b\b\b\b\b\b\b\b\b\b\b\b\b\b\b\b\b\b\b\b\b\b\b\b\b\b\b\b\b\b\b\b\b\b\b\b\b\b\b\b\b\b\b\b\b\b\b\b\b\b\b\b\b\b\r18/18 [==============================] - 2s 138ms/step - loss: 165.6391 - val_loss: 932.5103\n",
            "Epoch 13/100\n",
            "11/18 [=================>............] - ETA: 0s - loss: 156.3614"
          ]
        },
        {
          "output_type": "stream",
          "name": "stderr",
          "text": [
            "WARNING:absl:Found untraced functions such as _update_step_xla while saving (showing 1 of 1). These functions will not be directly callable after loading.\n"
          ]
        },
        {
          "output_type": "stream",
          "name": "stdout",
          "text": [
            "\b\b\b\b\b\b\b\b\b\b\b\b\b\b\b\b\b\b\b\b\b\b\b\b\b\b\b\b\b\b\b\b\b\b\b\b\b\b\b\b\b\b\b\b\b\b\b\b\b\b\b\b\b\b\b\b\b\b\b\b\b\b\b\b\b\r18/18 [==============================] - 2s 125ms/step - loss: 163.5048 - val_loss: 924.2678\n",
            "Epoch 14/100\n",
            "18/18 [==============================] - 0s 8ms/step - loss: 162.1196 - val_loss: 934.0795\n",
            "Epoch 15/100\n",
            "11/18 [=================>............] - ETA: 0s - loss: 157.8944"
          ]
        },
        {
          "output_type": "stream",
          "name": "stderr",
          "text": [
            "WARNING:absl:Found untraced functions such as _update_step_xla while saving (showing 1 of 1). These functions will not be directly callable after loading.\n"
          ]
        },
        {
          "output_type": "stream",
          "name": "stdout",
          "text": [
            "\b\b\b\b\b\b\b\b\b\b\b\b\b\b\b\b\b\b\b\b\b\b\b\b\b\b\b\b\b\b\b\b\b\b\b\b\b\b\b\b\b\b\b\b\b\b\b\b\b\b\b\b\b\b\b\b\b\b\b\b\b\b\b\b\b\r18/18 [==============================] - 2s 103ms/step - loss: 161.6058 - val_loss: 922.3973\n",
            "Epoch 16/100\n",
            "11/18 [=================>............] - ETA: 0s - loss: 160.9672"
          ]
        },
        {
          "output_type": "stream",
          "name": "stderr",
          "text": [
            "WARNING:absl:Found untraced functions such as _update_step_xla while saving (showing 1 of 1). These functions will not be directly callable after loading.\n"
          ]
        },
        {
          "output_type": "stream",
          "name": "stdout",
          "text": [
            "\b\b\b\b\b\b\b\b\b\b\b\b\b\b\b\b\b\b\b\b\b\b\b\b\b\b\b\b\b\b\b\b\b\b\b\b\b\b\b\b\b\b\b\b\b\b\b\b\b\b\b\b\b\b\b\b\b\b\b\b\b\b\b\b\b\r18/18 [==============================] - 2s 103ms/step - loss: 159.9810 - val_loss: 892.9736\n",
            "Epoch 17/100\n",
            "18/18 [==============================] - 0s 6ms/step - loss: 158.3092 - val_loss: 949.9897\n",
            "Epoch 18/100\n",
            "18/18 [==============================] - 0s 7ms/step - loss: 158.5103 - val_loss: 927.3006\n",
            "Epoch 19/100\n",
            "18/18 [==============================] - 0s 7ms/step - loss: 156.1277 - val_loss: 905.2780\n",
            "Epoch 20/100\n",
            "11/18 [=================>............] - ETA: 0s - loss: 159.8655"
          ]
        },
        {
          "output_type": "stream",
          "name": "stderr",
          "text": [
            "WARNING:absl:Found untraced functions such as _update_step_xla while saving (showing 1 of 1). These functions will not be directly callable after loading.\n"
          ]
        },
        {
          "output_type": "stream",
          "name": "stdout",
          "text": [
            "\b\b\b\b\b\b\b\b\b\b\b\b\b\b\b\b\b\b\b\b\b\b\b\b\b\b\b\b\b\b\b\b\b\b\b\b\b\b\b\b\b\b\b\b\b\b\b\b\b\b\b\b\b\b\b\b\b\b\b\b\b\b\b\b\b\r18/18 [==============================] - 2s 102ms/step - loss: 155.8975 - val_loss: 867.3505\n",
            "Epoch 21/100\n",
            "18/18 [==============================] - 0s 7ms/step - loss: 154.1140 - val_loss: 870.6364\n",
            "Epoch 22/100\n",
            "18/18 [==============================] - 0s 8ms/step - loss: 152.8381 - val_loss: 868.7656\n",
            "Epoch 23/100\n",
            "18/18 [==============================] - 0s 7ms/step - loss: 152.9283 - val_loss: 893.5807\n",
            "Epoch 24/100\n",
            "11/18 [=================>............] - ETA: 0s - loss: 147.3863"
          ]
        },
        {
          "output_type": "stream",
          "name": "stderr",
          "text": [
            "WARNING:absl:Found untraced functions such as _update_step_xla while saving (showing 1 of 1). These functions will not be directly callable after loading.\n"
          ]
        },
        {
          "output_type": "stream",
          "name": "stdout",
          "text": [
            "\b\b\b\b\b\b\b\b\b\b\b\b\b\b\b\b\b\b\b\b\b\b\b\b\b\b\b\b\b\b\b\b\b\b\b\b\b\b\b\b\b\b\b\b\b\b\b\b\b\b\b\b\b\b\b\b\b\b\b\b\b\b\b\b\b\r18/18 [==============================] - 2s 116ms/step - loss: 150.6642 - val_loss: 860.1043\n",
            "Epoch 25/100\n",
            "18/18 [==============================] - ETA: 0s - loss: 149.8051"
          ]
        },
        {
          "output_type": "stream",
          "name": "stderr",
          "text": [
            "WARNING:absl:Found untraced functions such as _update_step_xla while saving (showing 1 of 1). These functions will not be directly callable after loading.\n"
          ]
        },
        {
          "output_type": "stream",
          "name": "stdout",
          "text": [
            "\b\b\b\b\b\b\b\b\b\b\b\b\b\b\b\b\b\b\b\b\b\b\b\b\b\b\b\b\b\b\b\b\b\b\b\b\b\b\b\b\b\b\b\b\b\b\b\b\b\b\b\b\b\b\b\b\b\b\b\b\b\b\b\b\b\r18/18 [==============================] - 3s 157ms/step - loss: 149.8051 - val_loss: 834.0153\n",
            "Epoch 26/100\n",
            "18/18 [==============================] - 0s 7ms/step - loss: 148.1711 - val_loss: 834.4788\n",
            "Epoch 27/100\n",
            "18/18 [==============================] - 0s 8ms/step - loss: 147.1716 - val_loss: 836.8213\n",
            "Epoch 28/100\n",
            "12/18 [===================>..........] - ETA: 0s - loss: 146.1957"
          ]
        },
        {
          "output_type": "stream",
          "name": "stderr",
          "text": [
            "WARNING:absl:Found untraced functions such as _update_step_xla while saving (showing 1 of 1). These functions will not be directly callable after loading.\n"
          ]
        },
        {
          "output_type": "stream",
          "name": "stdout",
          "text": [
            "\b\b\b\b\b\b\b\b\b\b\b\b\b\b\b\b\b\b\b\b\b\b\b\b\b\b\b\b\b\b\b\b\b\b\b\b\b\b\b\b\b\b\b\b\b\b\b\b\b\b\b\b\b\b\b\b\b\b\b\b\b\b\b\b\b\r18/18 [==============================] - 2s 103ms/step - loss: 146.1674 - val_loss: 816.3342\n",
            "Epoch 29/100\n",
            "18/18 [==============================] - 0s 7ms/step - loss: 145.3006 - val_loss: 825.9964\n",
            "Epoch 30/100\n",
            "18/18 [==============================] - 0s 7ms/step - loss: 144.3898 - val_loss: 826.2110\n",
            "Epoch 31/100\n",
            "12/18 [===================>..........] - ETA: 0s - loss: 144.2548"
          ]
        },
        {
          "output_type": "stream",
          "name": "stderr",
          "text": [
            "WARNING:absl:Found untraced functions such as _update_step_xla while saving (showing 1 of 1). These functions will not be directly callable after loading.\n"
          ]
        },
        {
          "output_type": "stream",
          "name": "stdout",
          "text": [
            "\b\b\b\b\b\b\b\b\b\b\b\b\b\b\b\b\b\b\b\b\b\b\b\b\b\b\b\b\b\b\b\b\b\b\b\b\b\b\b\b\b\b\b\b\b\b\b\b\b\b\b\b\b\b\b\b\b\b\b\b\b\b\b\b\b\r18/18 [==============================] - 2s 102ms/step - loss: 142.4343 - val_loss: 791.5873\n",
            "Epoch 32/100\n",
            "18/18 [==============================] - 0s 7ms/step - loss: 141.7398 - val_loss: 797.3683\n",
            "Epoch 33/100\n",
            "18/18 [==============================] - 0s 7ms/step - loss: 141.8856 - val_loss: 816.5865\n",
            "Epoch 34/100\n",
            "11/18 [=================>............] - ETA: 0s - loss: 147.8523"
          ]
        },
        {
          "output_type": "stream",
          "name": "stderr",
          "text": [
            "WARNING:absl:Found untraced functions such as _update_step_xla while saving (showing 1 of 1). These functions will not be directly callable after loading.\n"
          ]
        },
        {
          "output_type": "stream",
          "name": "stdout",
          "text": [
            "\b\b\b\b\b\b\b\b\b\b\b\b\b\b\b\b\b\b\b\b\b\b\b\b\b\b\b\b\b\b\b\b\b\b\b\b\b\b\b\b\b\b\b\b\b\b\b\b\b\b\b\b\b\b\b\b\b\b\b\b\b\b\b\b\b\r18/18 [==============================] - 2s 102ms/step - loss: 141.5631 - val_loss: 772.9247\n",
            "Epoch 35/100\n",
            "18/18 [==============================] - 0s 8ms/step - loss: 138.6180 - val_loss: 777.2314\n",
            "Epoch 36/100\n",
            "12/18 [===================>..........] - ETA: 0s - loss: 137.0145"
          ]
        },
        {
          "output_type": "stream",
          "name": "stderr",
          "text": [
            "WARNING:absl:Found untraced functions such as _update_step_xla while saving (showing 1 of 1). These functions will not be directly callable after loading.\n"
          ]
        },
        {
          "output_type": "stream",
          "name": "stdout",
          "text": [
            "\b\b\b\b\b\b\b\b\b\b\b\b\b\b\b\b\b\b\b\b\b\b\b\b\b\b\b\b\b\b\b\b\b\b\b\b\b\b\b\b\b\b\b\b\b\b\b\b\b\b\b\b\b\b\b\b\b\b\b\b\b\b\b\b\b\r18/18 [==============================] - 2s 101ms/step - loss: 139.1287 - val_loss: 769.1703\n",
            "Epoch 37/100\n",
            "18/18 [==============================] - 0s 7ms/step - loss: 137.1999 - val_loss: 778.2695\n",
            "Epoch 38/100\n",
            "12/18 [===================>..........] - ETA: 0s - loss: 139.7649"
          ]
        },
        {
          "output_type": "stream",
          "name": "stderr",
          "text": [
            "WARNING:absl:Found untraced functions such as _update_step_xla while saving (showing 1 of 1). These functions will not be directly callable after loading.\n"
          ]
        },
        {
          "output_type": "stream",
          "name": "stdout",
          "text": [
            "\b\b\b\b\b\b\b\b\b\b\b\b\b\b\b\b\b\b\b\b\b\b\b\b\b\b\b\b\b\b\b\b\b\b\b\b\b\b\b\b\b\b\b\b\b\b\b\b\b\b\b\b\b\b\b\b\b\b\b\b\b\b\b\b\b\r18/18 [==============================] - 3s 160ms/step - loss: 135.5581 - val_loss: 748.8343\n",
            "Epoch 39/100\n",
            "13/18 [====================>.........] - ETA: 0s - loss: 135.9957"
          ]
        },
        {
          "output_type": "stream",
          "name": "stderr",
          "text": [
            "WARNING:absl:Found untraced functions such as _update_step_xla while saving (showing 1 of 1). These functions will not be directly callable after loading.\n"
          ]
        },
        {
          "output_type": "stream",
          "name": "stdout",
          "text": [
            "\b\b\b\b\b\b\b\b\b\b\b\b\b\b\b\b\b\b\b\b\b\b\b\b\b\b\b\b\b\b\b\b\b\b\b\b\b\b\b\b\b\b\b\b\b\b\b\b\b\b\b\b\b\b\b\b\b\b\b\b\b\b\b\b\b\r18/18 [==============================] - 2s 107ms/step - loss: 135.4411 - val_loss: 745.6943\n",
            "Epoch 40/100\n",
            "18/18 [==============================] - 0s 7ms/step - loss: 135.9212 - val_loss: 748.2592\n",
            "Epoch 41/100\n",
            "12/18 [===================>..........] - ETA: 0s - loss: 136.5630"
          ]
        },
        {
          "output_type": "stream",
          "name": "stderr",
          "text": [
            "WARNING:absl:Found untraced functions such as _update_step_xla while saving (showing 1 of 1). These functions will not be directly callable after loading.\n"
          ]
        },
        {
          "output_type": "stream",
          "name": "stdout",
          "text": [
            "\b\b\b\b\b\b\b\b\b\b\b\b\b\b\b\b\b\b\b\b\b\b\b\b\b\b\b\b\b\b\b\b\b\b\b\b\b\b\b\b\b\b\b\b\b\b\b\b\b\b\b\b\b\b\b\b\b\b\b\b\b\b\b\b\b\r18/18 [==============================] - 2s 105ms/step - loss: 133.3045 - val_loss: 733.4156\n",
            "Epoch 42/100\n",
            "11/18 [=================>............] - ETA: 0s - loss: 133.2528"
          ]
        },
        {
          "output_type": "stream",
          "name": "stderr",
          "text": [
            "WARNING:absl:Found untraced functions such as _update_step_xla while saving (showing 1 of 1). These functions will not be directly callable after loading.\n"
          ]
        },
        {
          "output_type": "stream",
          "name": "stdout",
          "text": [
            "\b\b\b\b\b\b\b\b\b\b\b\b\b\b\b\b\b\b\b\b\b\b\b\b\b\b\b\b\b\b\b\b\b\b\b\b\b\b\b\b\b\b\b\b\b\b\b\b\b\b\b\b\b\b\b\b\b\b\b\b\b\b\b\b\b\r18/18 [==============================] - 2s 104ms/step - loss: 132.0513 - val_loss: 730.6359\n",
            "Epoch 43/100\n",
            "18/18 [==============================] - 0s 7ms/step - loss: 131.7247 - val_loss: 738.5305\n",
            "Epoch 44/100\n",
            "12/18 [===================>..........] - ETA: 0s - loss: 128.9715"
          ]
        },
        {
          "output_type": "stream",
          "name": "stderr",
          "text": [
            "WARNING:absl:Found untraced functions such as _update_step_xla while saving (showing 1 of 1). These functions will not be directly callable after loading.\n"
          ]
        },
        {
          "output_type": "stream",
          "name": "stdout",
          "text": [
            "\b\b\b\b\b\b\b\b\b\b\b\b\b\b\b\b\b\b\b\b\b\b\b\b\b\b\b\b\b\b\b\b\b\b\b\b\b\b\b\b\b\b\b\b\b\b\b\b\b\b\b\b\b\b\b\b\b\b\b\b\b\b\b\b\b\r18/18 [==============================] - 2s 99ms/step - loss: 129.4458 - val_loss: 719.7532\n",
            "Epoch 45/100\n",
            "12/18 [===================>..........] - ETA: 0s - loss: 125.2189"
          ]
        },
        {
          "output_type": "stream",
          "name": "stderr",
          "text": [
            "WARNING:absl:Found untraced functions such as _update_step_xla while saving (showing 1 of 1). These functions will not be directly callable after loading.\n"
          ]
        },
        {
          "output_type": "stream",
          "name": "stdout",
          "text": [
            "\b\b\b\b\b\b\b\b\b\b\b\b\b\b\b\b\b\b\b\b\b\b\b\b\b\b\b\b\b\b\b\b\b\b\b\b\b\b\b\b\b\b\b\b\b\b\b\b\b\b\b\b\b\b\b\b\b\b\b\b\b\b\b\b\b\r18/18 [==============================] - 2s 126ms/step - loss: 129.3851 - val_loss: 714.4617\n",
            "Epoch 46/100\n",
            "18/18 [==============================] - 0s 7ms/step - loss: 129.3975 - val_loss: 717.6426\n",
            "Epoch 47/100\n",
            "11/18 [=================>............] - ETA: 0s - loss: 116.8015"
          ]
        },
        {
          "output_type": "stream",
          "name": "stderr",
          "text": [
            "WARNING:absl:Found untraced functions such as _update_step_xla while saving (showing 1 of 1). These functions will not be directly callable after loading.\n"
          ]
        },
        {
          "output_type": "stream",
          "name": "stdout",
          "text": [
            "\b\b\b\b\b\b\b\b\b\b\b\b\b\b\b\b\b\b\b\b\b\b\b\b\b\b\b\b\b\b\b\b\b\b\b\b\b\b\b\b\b\b\b\b\b\b\b\b\b\b\b\b\b\b\b\b\b\b\b\b\b\b\b\b\b\r18/18 [==============================] - 2s 134ms/step - loss: 129.3473 - val_loss: 712.6060\n",
            "Epoch 48/100\n",
            "18/18 [==============================] - 0s 13ms/step - loss: 127.4889 - val_loss: 714.3976\n",
            "Epoch 49/100\n",
            "18/18 [==============================] - ETA: 0s - loss: 127.1737"
          ]
        },
        {
          "output_type": "stream",
          "name": "stderr",
          "text": [
            "WARNING:absl:Found untraced functions such as _update_step_xla while saving (showing 1 of 1). These functions will not be directly callable after loading.\n"
          ]
        },
        {
          "output_type": "stream",
          "name": "stdout",
          "text": [
            "\b\b\b\b\b\b\b\b\b\b\b\b\b\b\b\b\b\b\b\b\b\b\b\b\b\b\b\b\b\b\b\b\b\b\b\b\b\b\b\b\b\b\b\b\b\b\b\b\b\b\b\b\b\b\b\b\b\b\b\b\b\b\b\b\b\r18/18 [==============================] - 2s 108ms/step - loss: 127.1737 - val_loss: 709.7305\n",
            "Epoch 50/100\n",
            "18/18 [==============================] - 0s 7ms/step - loss: 130.1110 - val_loss: 719.9988\n",
            "Epoch 51/100\n",
            "18/18 [==============================] - 0s 7ms/step - loss: 129.9921 - val_loss: 764.1669\n",
            "Epoch 52/100\n",
            "11/18 [=================>............] - ETA: 0s - loss: 139.0661"
          ]
        },
        {
          "output_type": "stream",
          "name": "stderr",
          "text": [
            "WARNING:absl:Found untraced functions such as _update_step_xla while saving (showing 1 of 1). These functions will not be directly callable after loading.\n"
          ]
        },
        {
          "output_type": "stream",
          "name": "stdout",
          "text": [
            "\b\b\b\b\b\b\b\b\b\b\b\b\b\b\b\b\b\b\b\b\b\b\b\b\b\b\b\b\b\b\b\b\b\b\b\b\b\b\b\b\b\b\b\b\b\b\b\b\b\b\b\b\b\b\b\b\b\b\b\b\b\b\b\b\b\r18/18 [==============================] - 2s 102ms/step - loss: 131.6829 - val_loss: 687.9050\n",
            "Epoch 53/100\n",
            "18/18 [==============================] - 0s 8ms/step - loss: 126.7283 - val_loss: 689.1398\n",
            "Epoch 54/100\n",
            "18/18 [==============================] - 0s 7ms/step - loss: 126.1947 - val_loss: 687.9907\n",
            "Epoch 55/100\n",
            "12/18 [===================>..........] - ETA: 0s - loss: 129.6427"
          ]
        },
        {
          "output_type": "stream",
          "name": "stderr",
          "text": [
            "WARNING:absl:Found untraced functions such as _update_step_xla while saving (showing 1 of 1). These functions will not be directly callable after loading.\n"
          ]
        },
        {
          "output_type": "stream",
          "name": "stdout",
          "text": [
            "\b\b\b\b\b\b\b\b\b\b\b\b\b\b\b\b\b\b\b\b\b\b\b\b\b\b\b\b\b\b\b\b\b\b\b\b\b\b\b\b\b\b\b\b\b\b\b\b\b\b\b\b\b\b\b\b\b\b\b\b\b\b\b\b\b\r18/18 [==============================] - 2s 125ms/step - loss: 123.6202 - val_loss: 676.0713\n",
            "Epoch 56/100\n",
            "18/18 [==============================] - 0s 7ms/step - loss: 125.8382 - val_loss: 680.6954\n",
            "Epoch 57/100\n",
            "18/18 [==============================] - 0s 8ms/step - loss: 125.1330 - val_loss: 677.7387\n",
            "Epoch 58/100\n",
            "11/18 [=================>............] - ETA: 0s - loss: 123.7306"
          ]
        },
        {
          "output_type": "stream",
          "name": "stderr",
          "text": [
            "WARNING:absl:Found untraced functions such as _update_step_xla while saving (showing 1 of 1). These functions will not be directly callable after loading.\n"
          ]
        },
        {
          "output_type": "stream",
          "name": "stdout",
          "text": [
            "\b\b\b\b\b\b\b\b\b\b\b\b\b\b\b\b\b\b\b\b\b\b\b\b\b\b\b\b\b\b\b\b\b\b\b\b\b\b\b\b\b\b\b\b\b\b\b\b\b\b\b\b\b\b\b\b\b\b\b\b\b\b\b\b\b\r18/18 [==============================] - 2s 104ms/step - loss: 122.0310 - val_loss: 665.0159\n",
            "Epoch 59/100\n",
            "12/18 [===================>..........] - ETA: 0s - loss: 117.5344"
          ]
        },
        {
          "output_type": "stream",
          "name": "stderr",
          "text": [
            "WARNING:absl:Found untraced functions such as _update_step_xla while saving (showing 1 of 1). These functions will not be directly callable after loading.\n"
          ]
        },
        {
          "output_type": "stream",
          "name": "stdout",
          "text": [
            "\b\b\b\b\b\b\b\b\b\b\b\b\b\b\b\b\b\b\b\b\b\b\b\b\b\b\b\b\b\b\b\b\b\b\b\b\b\b\b\b\b\b\b\b\b\b\b\b\b\b\b\b\b\b\b\b\b\b\b\b\b\b\b\b\b\r18/18 [==============================] - 2s 100ms/step - loss: 121.1983 - val_loss: 663.2057\n",
            "Epoch 60/100\n",
            "18/18 [==============================] - 0s 8ms/step - loss: 122.4098 - val_loss: 669.4966\n",
            "Epoch 61/100\n",
            "18/18 [==============================] - 0s 8ms/step - loss: 123.6662 - val_loss: 711.8303\n",
            "Epoch 62/100\n",
            "18/18 [==============================] - 0s 14ms/step - loss: 128.1718 - val_loss: 735.2288\n",
            "Epoch 63/100\n",
            "18/18 [==============================] - ETA: 0s - loss: 124.5211"
          ]
        },
        {
          "output_type": "stream",
          "name": "stderr",
          "text": [
            "WARNING:absl:Found untraced functions such as _update_step_xla while saving (showing 1 of 1). These functions will not be directly callable after loading.\n"
          ]
        },
        {
          "output_type": "stream",
          "name": "stdout",
          "text": [
            "\b\b\b\b\b\b\b\b\b\b\b\b\b\b\b\b\b\b\b\b\b\b\b\b\b\b\b\b\b\b\b\b\b\b\b\b\b\b\b\b\b\b\b\b\b\b\b\b\b\b\b\b\b\b\b\b\b\b\b\b\b\b\b\b\b\r18/18 [==============================] - 2s 137ms/step - loss: 124.5211 - val_loss: 661.3270\n",
            "Epoch 64/100\n",
            "11/18 [=================>............] - ETA: 0s - loss: 125.0121"
          ]
        },
        {
          "output_type": "stream",
          "name": "stderr",
          "text": [
            "WARNING:absl:Found untraced functions such as _update_step_xla while saving (showing 1 of 1). These functions will not be directly callable after loading.\n"
          ]
        },
        {
          "output_type": "stream",
          "name": "stdout",
          "text": [
            "\b\b\b\b\b\b\b\b\b\b\b\b\b\b\b\b\b\b\b\b\b\b\b\b\b\b\b\b\b\b\b\b\b\b\b\b\b\b\b\b\b\b\b\b\b\b\b\b\b\b\b\b\b\b\b\b\b\b\b\b\b\b\b\b\b\r18/18 [==============================] - 2s 102ms/step - loss: 119.8988 - val_loss: 654.4646\n",
            "Epoch 65/100\n",
            "12/18 [===================>..........] - ETA: 0s - loss: 120.4632"
          ]
        },
        {
          "output_type": "stream",
          "name": "stderr",
          "text": [
            "WARNING:absl:Found untraced functions such as _update_step_xla while saving (showing 1 of 1). These functions will not be directly callable after loading.\n"
          ]
        },
        {
          "output_type": "stream",
          "name": "stdout",
          "text": [
            "\b\b\b\b\b\b\b\b\b\b\b\b\b\b\b\b\b\b\b\b\b\b\b\b\b\b\b\b\b\b\b\b\b\b\b\b\b\b\b\b\b\b\b\b\b\b\b\b\b\b\b\b\b\b\b\b\b\b\b\b\b\b\b\b\b\r18/18 [==============================] - 3s 154ms/step - loss: 119.5788 - val_loss: 646.8475\n",
            "Epoch 66/100\n",
            "18/18 [==============================] - 0s 7ms/step - loss: 119.1905 - val_loss: 673.5015\n",
            "Epoch 67/100\n",
            "12/18 [===================>..........] - ETA: 0s - loss: 115.9102"
          ]
        },
        {
          "output_type": "stream",
          "name": "stderr",
          "text": [
            "WARNING:absl:Found untraced functions such as _update_step_xla while saving (showing 1 of 1). These functions will not be directly callable after loading.\n"
          ]
        },
        {
          "output_type": "stream",
          "name": "stdout",
          "text": [
            "\b\b\b\b\b\b\b\b\b\b\b\b\b\b\b\b\b\b\b\b\b\b\b\b\b\b\b\b\b\b\b\b\b\b\b\b\b\b\b\b\b\b\b\b\b\b\b\b\b\b\b\b\b\b\b\b\b\b\b\b\b\b\b\b\b\r18/18 [==============================] - 2s 99ms/step - loss: 119.2351 - val_loss: 642.1541\n",
            "Epoch 68/100\n",
            "12/18 [===================>..........] - ETA: 0s - loss: 117.6225"
          ]
        },
        {
          "output_type": "stream",
          "name": "stderr",
          "text": [
            "WARNING:absl:Found untraced functions such as _update_step_xla while saving (showing 1 of 1). These functions will not be directly callable after loading.\n"
          ]
        },
        {
          "output_type": "stream",
          "name": "stdout",
          "text": [
            "\b\b\b\b\b\b\b\b\b\b\b\b\b\b\b\b\b\b\b\b\b\b\b\b\b\b\b\b\b\b\b\b\b\b\b\b\b\b\b\b\b\b\b\b\b\b\b\b\b\b\b\b\b\b\b\b\b\b\b\b\b\b\b\b\b\r18/18 [==============================] - 2s 104ms/step - loss: 118.7088 - val_loss: 641.2856\n",
            "Epoch 69/100\n",
            "18/18 [==============================] - 0s 7ms/step - loss: 121.5524 - val_loss: 641.8895\n",
            "Epoch 70/100\n",
            "11/18 [=================>............] - ETA: 0s - loss: 116.3074"
          ]
        },
        {
          "output_type": "stream",
          "name": "stderr",
          "text": [
            "WARNING:absl:Found untraced functions such as _update_step_xla while saving (showing 1 of 1). These functions will not be directly callable after loading.\n"
          ]
        },
        {
          "output_type": "stream",
          "name": "stdout",
          "text": [
            "\b\b\b\b\b\b\b\b\b\b\b\b\b\b\b\b\b\b\b\b\b\b\b\b\b\b\b\b\b\b\b\b\b\b\b\b\b\b\b\b\b\b\b\b\b\b\b\b\b\b\b\b\b\b\b\b\b\b\b\b\b\b\b\b\b\r18/18 [==============================] - 2s 113ms/step - loss: 118.1925 - val_loss: 636.0145\n",
            "Epoch 71/100\n",
            "18/18 [==============================] - 0s 13ms/step - loss: 118.9861 - val_loss: 662.1577\n",
            "Epoch 72/100\n",
            "18/18 [==============================] - 0s 12ms/step - loss: 121.9147 - val_loss: 651.3831\n",
            "Epoch 73/100\n",
            "13/18 [====================>.........] - ETA: 0s - loss: 120.0535"
          ]
        },
        {
          "output_type": "stream",
          "name": "stderr",
          "text": [
            "WARNING:absl:Found untraced functions such as _update_step_xla while saving (showing 1 of 1). These functions will not be directly callable after loading.\n"
          ]
        },
        {
          "output_type": "stream",
          "name": "stdout",
          "text": [
            "\b\b\b\b\b\b\b\b\b\b\b\b\b\b\b\b\b\b\b\b\b\b\b\b\b\b\b\b\b\b\b\b\b\b\b\b\b\b\b\b\b\b\b\b\b\b\b\b\b\b\b\b\b\b\b\b\b\b\b\b\b\b\b\b\b\r18/18 [==============================] - 3s 153ms/step - loss: 119.5121 - val_loss: 630.5443\n",
            "Epoch 74/100\n",
            "18/18 [==============================] - 0s 7ms/step - loss: 117.5335 - val_loss: 642.1320\n",
            "Epoch 75/100\n",
            "18/18 [==============================] - 0s 7ms/step - loss: 117.9908 - val_loss: 635.6016\n",
            "Epoch 76/100\n",
            "18/18 [==============================] - 0s 7ms/step - loss: 116.7758 - val_loss: 632.8015\n",
            "Epoch 77/100\n",
            "18/18 [==============================] - 0s 8ms/step - loss: 118.8199 - val_loss: 680.3945\n",
            "Epoch 78/100\n",
            "12/18 [===================>..........] - ETA: 0s - loss: 118.9545"
          ]
        },
        {
          "output_type": "stream",
          "name": "stderr",
          "text": [
            "WARNING:absl:Found untraced functions such as _update_step_xla while saving (showing 1 of 1). These functions will not be directly callable after loading.\n"
          ]
        },
        {
          "output_type": "stream",
          "name": "stdout",
          "text": [
            "\b\b\b\b\b\b\b\b\b\b\b\b\b\b\b\b\b\b\b\b\b\b\b\b\b\b\b\b\b\b\b\b\b\b\b\b\b\b\b\b\b\b\b\b\b\b\b\b\b\b\b\b\b\b\b\b\b\b\b\b\b\b\b\b\b\r18/18 [==============================] - 2s 103ms/step - loss: 121.2617 - val_loss: 622.3727\n",
            "Epoch 79/100\n",
            "10/18 [===============>..............] - ETA: 0s - loss: 113.7214"
          ]
        },
        {
          "output_type": "stream",
          "name": "stderr",
          "text": [
            "WARNING:absl:Found untraced functions such as _update_step_xla while saving (showing 1 of 1). These functions will not be directly callable after loading.\n"
          ]
        },
        {
          "output_type": "stream",
          "name": "stdout",
          "text": [
            "\b\b\b\b\b\b\b\b\b\b\b\b\b\b\b\b\b\b\b\b\b\b\b\b\b\b\b\b\b\b\b\b\b\b\b\b\b\b\b\b\b\b\b\b\b\b\b\b\b\b\b\b\b\b\b\b\b\b\b\b\b\b\b\b\b\r18/18 [==============================] - 2s 108ms/step - loss: 115.7009 - val_loss: 620.4692\n",
            "Epoch 80/100\n",
            "18/18 [==============================] - 0s 7ms/step - loss: 116.1461 - val_loss: 638.1569\n",
            "Epoch 81/100\n",
            "18/18 [==============================] - 0s 7ms/step - loss: 115.6073 - val_loss: 641.5999\n",
            "Epoch 82/100\n",
            "18/18 [==============================] - 0s 7ms/step - loss: 117.9180 - val_loss: 621.8279\n",
            "Epoch 83/100\n",
            "18/18 [==============================] - 0s 8ms/step - loss: 115.2693 - val_loss: 662.5227\n",
            "Epoch 84/100\n",
            "18/18 [==============================] - 0s 7ms/step - loss: 116.9871 - val_loss: 621.3153\n",
            "Epoch 85/100\n",
            "18/18 [==============================] - 0s 8ms/step - loss: 115.5821 - val_loss: 643.8943\n",
            "Epoch 86/100\n",
            "11/18 [=================>............] - ETA: 0s - loss: 111.2137"
          ]
        },
        {
          "output_type": "stream",
          "name": "stderr",
          "text": [
            "WARNING:absl:Found untraced functions such as _update_step_xla while saving (showing 1 of 1). These functions will not be directly callable after loading.\n"
          ]
        },
        {
          "output_type": "stream",
          "name": "stdout",
          "text": [
            "\b\b\b\b\b\b\b\b\b\b\b\b\b\b\b\b\b\b\b\b\b\b\b\b\b\b\b\b\b\b\b\b\b\b\b\b\b\b\b\b\b\b\b\b\b\b\b\b\b\b\b\b\b\b\b\b\b\b\b\b\b\b\b\b\b\r18/18 [==============================] - 2s 102ms/step - loss: 117.0419 - val_loss: 615.8555\n",
            "Epoch 87/100\n",
            "11/18 [=================>............] - ETA: 0s - loss: 119.6797"
          ]
        },
        {
          "output_type": "stream",
          "name": "stderr",
          "text": [
            "WARNING:absl:Found untraced functions such as _update_step_xla while saving (showing 1 of 1). These functions will not be directly callable after loading.\n"
          ]
        },
        {
          "output_type": "stream",
          "name": "stdout",
          "text": [
            "\b\b\b\b\b\b\b\b\b\b\b\b\b\b\b\b\b\b\b\b\b\b\b\b\b\b\b\b\b\b\b\b\b\b\b\b\b\b\b\b\b\b\b\b\b\b\b\b\b\b\b\b\b\b\b\b\b\b\b\b\b\b\b\b\b\r18/18 [==============================] - 2s 104ms/step - loss: 114.9123 - val_loss: 613.0197\n",
            "Epoch 88/100\n",
            "18/18 [==============================] - 0s 8ms/step - loss: 115.8127 - val_loss: 635.3489\n",
            "Epoch 89/100\n",
            "18/18 [==============================] - 0s 14ms/step - loss: 114.1683 - val_loss: 652.2548\n",
            "Epoch 90/100\n",
            "18/18 [==============================] - 0s 13ms/step - loss: 119.5686 - val_loss: 635.6202\n",
            "Epoch 91/100\n",
            "18/18 [==============================] - 0s 12ms/step - loss: 115.9260 - val_loss: 649.8973\n",
            "Epoch 92/100\n",
            "14/18 [======================>.......] - ETA: 0s - loss: 115.7049"
          ]
        },
        {
          "output_type": "stream",
          "name": "stderr",
          "text": [
            "WARNING:absl:Found untraced functions such as _update_step_xla while saving (showing 1 of 1). These functions will not be directly callable after loading.\n"
          ]
        },
        {
          "output_type": "stream",
          "name": "stdout",
          "text": [
            "\b\b\b\b\b\b\b\b\b\b\b\b\b\b\b\b\b\b\b\b\b\b\b\b\b\b\b\b\b\b\b\b\b\b\b\b\b\b\b\b\b\b\b\b\b\b\b\b\b\b\b\b\b\b\b\b\b\b\b\b\b\b\b\b\b\r18/18 [==============================] - 3s 159ms/step - loss: 114.4404 - val_loss: 607.1630\n",
            "Epoch 93/100\n",
            "18/18 [==============================] - 0s 7ms/step - loss: 114.2319 - val_loss: 618.5035\n",
            "Epoch 94/100\n",
            "11/18 [=================>............] - ETA: 0s - loss: 111.1556"
          ]
        },
        {
          "output_type": "stream",
          "name": "stderr",
          "text": [
            "WARNING:absl:Found untraced functions such as _update_step_xla while saving (showing 1 of 1). These functions will not be directly callable after loading.\n"
          ]
        },
        {
          "output_type": "stream",
          "name": "stdout",
          "text": [
            "\b\b\b\b\b\b\b\b\b\b\b\b\b\b\b\b\b\b\b\b\b\b\b\b\b\b\b\b\b\b\b\b\b\b\b\b\b\b\b\b\b\b\b\b\b\b\b\b\b\b\b\b\b\b\b\b\b\b\b\b\b\b\b\b\b\r18/18 [==============================] - 2s 103ms/step - loss: 113.5395 - val_loss: 606.3448\n",
            "Epoch 95/100\n",
            "11/18 [=================>............] - ETA: 0s - loss: 109.2587"
          ]
        },
        {
          "output_type": "stream",
          "name": "stderr",
          "text": [
            "WARNING:absl:Found untraced functions such as _update_step_xla while saving (showing 1 of 1). These functions will not be directly callable after loading.\n"
          ]
        },
        {
          "output_type": "stream",
          "name": "stdout",
          "text": [
            "\b\b\b\b\b\b\b\b\b\b\b\b\b\b\b\b\b\b\b\b\b\b\b\b\b\b\b\b\b\b\b\b\b\b\b\b\b\b\b\b\b\b\b\b\b\b\b\b\b\b\b\b\b\b\b\b\b\b\b\b\b\b\b\b\b\r18/18 [==============================] - 2s 101ms/step - loss: 113.2133 - val_loss: 604.6370\n",
            "Epoch 96/100\n",
            "18/18 [==============================] - 0s 8ms/step - loss: 114.2690 - val_loss: 619.5621\n",
            "Epoch 97/100\n",
            "18/18 [==============================] - 0s 7ms/step - loss: 116.4625 - val_loss: 653.1241\n",
            "Epoch 98/100\n",
            "11/18 [=================>............] - ETA: 0s - loss: 116.3197"
          ]
        },
        {
          "output_type": "stream",
          "name": "stderr",
          "text": [
            "WARNING:absl:Found untraced functions such as _update_step_xla while saving (showing 1 of 1). These functions will not be directly callable after loading.\n"
          ]
        },
        {
          "output_type": "stream",
          "name": "stdout",
          "text": [
            "\b\b\b\b\b\b\b\b\b\b\b\b\b\b\b\b\b\b\b\b\b\b\b\b\b\b\b\b\b\b\b\b\b\b\b\b\b\b\b\b\b\b\b\b\b\b\b\b\b\b\b\b\b\b\b\b\b\b\b\b\b\b\b\b\b\r18/18 [==============================] - 2s 101ms/step - loss: 114.9793 - val_loss: 600.2180\n",
            "Epoch 99/100\n",
            "18/18 [==============================] - 0s 8ms/step - loss: 112.2892 - val_loss: 600.8914\n",
            "Epoch 100/100\n",
            "11/18 [=================>............] - ETA: 0s - loss: 121.1774"
          ]
        },
        {
          "output_type": "stream",
          "name": "stderr",
          "text": [
            "WARNING:absl:Found untraced functions such as _update_step_xla while saving (showing 1 of 1). These functions will not be directly callable after loading.\n"
          ]
        },
        {
          "output_type": "stream",
          "name": "stdout",
          "text": [
            "\b\b\b\b\b\b\b\b\b\b\b\b\b\b\b\b\b\b\b\b\b\b\b\b\b\b\b\b\b\b\b\b\b\b\b\b\b\b\b\b\b\b\b\b\b\b\b\b\b\b\b\b\b\b\b\b\b\b\b\b\b\b\b\b\b\r18/18 [==============================] - 2s 102ms/step - loss: 113.6267 - val_loss: 598.1963\n"
          ]
        }
      ],
      "source": [
        "import tensorflow as tf\n",
        "\n",
        "# Set random seed for as reproducible results as possible\n",
        "tf.random.set_seed(42)\n",
        "input_shape = train_windows.shape[1:]\n",
        "\n",
        "model_5 = tf.keras.Sequential([\n",
        "    # Vous pouvez ajuster le nombre d'unités LSTM et le retour de séquences en fonction de votre modèle.\n",
        "    tf.keras.layers.Lambda(lambda x: tf.expand_dims(x, axis=1)), # add an extra dimension for `input_dim` in the end of the tensor  with -1 and on position 1 with axis=1\n",
        "    # tf.keras.layers.LSTM(128, return_sequences=True),\n",
        "    tf.keras.layers.LSTM(128, activation=\"relu\"),\n",
        "    # tf.keras.layers.LSTM(32, activation=\"relu\"),\n",
        "    tf.keras.layers.Dense(HORIZON) # linear activation is the same as having no activation\n",
        "], name=\"model_5_LSTM\") # name our model so we can save it \n",
        "\n",
        "# 2. Compile the model\n",
        "model_5.compile(loss=\"mae\",\n",
        "                optimizer=tf.keras.optimizers.Adam()) \n",
        "# 3. Fit the model\n",
        "history_model_5 = model_5.fit(train_windows,\n",
        "                              train_labels,\n",
        "                              epochs=100,\n",
        "                              verbose=1,\n",
        "                              batch_size=128,\n",
        "                              validation_data=(test_windows,test_labels),\n",
        "                              callbacks=[create_model_checkpoint(model_name=model_5.name)]);"
      ]
    },
    {
      "cell_type": "code",
      "execution_count": 109,
      "metadata": {
        "colab": {
          "base_uri": "https://localhost:8080/"
        },
        "id": "J8eutz2vnus8",
        "outputId": "15987e8f-b44b-4937-9440-c1507ba7b92d"
      },
      "outputs": [
        {
          "output_type": "stream",
          "name": "stderr",
          "text": [
            "WARNING:tensorflow:Layer lstm will not use cuDNN kernels since it doesn't meet the criteria. It will use a generic GPU kernel as fallback when running on GPU.\n"
          ]
        },
        {
          "output_type": "stream",
          "name": "stdout",
          "text": [
            "18/18 [==============================] - 0s 2ms/step - loss: 598.1963\n"
          ]
        },
        {
          "output_type": "execute_result",
          "data": {
            "text/plain": [
              "598.1962890625"
            ]
          },
          "metadata": {},
          "execution_count": 109
        }
      ],
      "source": [
        "# Load in best version of model 5 and evaluate on the test data\n",
        "model_5 = tf.keras.models.load_model(\"model_experiments/model_5_LSTM/\")\n",
        "model_5.evaluate(test_windows, test_labels)"
      ]
    },
    {
      "cell_type": "code",
      "execution_count": 110,
      "metadata": {
        "colab": {
          "base_uri": "https://localhost:8080/"
        },
        "id": "4q65vsMKZXBJ",
        "outputId": "bbc8f6c4-3368-4667-c6f3-81ee18e2181a"
      },
      "outputs": [
        {
          "output_type": "stream",
          "name": "stdout",
          "text": [
            "18/18 [==============================] - 0s 2ms/step\n"
          ]
        }
      ],
      "source": [
        "# Make prediction our LSTM model\n",
        "model_5_preds = make_preds(model_5, test_windows)"
      ]
    },
    {
      "cell_type": "code",
      "execution_count": 111,
      "metadata": {
        "id": "NjPIlfsIcht9"
      },
      "outputs": [],
      "source": [
        "model_5_results = evaluate_preds(test_labels, model_5_preds)"
      ]
    },
    {
      "cell_type": "code",
      "execution_count": 112,
      "metadata": {
        "colab": {
          "base_uri": "https://localhost:8080/",
          "height": 0
        },
        "id": "CwB35vt8nPt9",
        "outputId": "e675c5cc-d089-49e9-d8aa-010b9ae1bd7f"
      },
      "outputs": [
        {
          "output_type": "execute_result",
          "data": {
            "text/plain": [
              "<Axes: >"
            ]
          },
          "metadata": {},
          "execution_count": 112
        },
        {
          "output_type": "display_data",
          "data": {
            "text/plain": [
              "<Figure size 1000x700 with 1 Axes>"
            ],
            "image/png": "[encoded data removed]"
          },
          "metadata": {}
        }
      ],
      "source": [
        "pd.DataFrame({\"naive\": naive_results[\"mae\"],\n",
        "              \"horizon_1_window_7\": model_1_results[\"mae\"],\n",
        "              \"horizon_1_window_1_Dense\": model_2_results[\"mae\"],\n",
        "              \"horizon_7_window_30_Dense\": model_3_results[\"mae\"],\n",
        "              \"horizon_1_window_7_conv1D\": model_4_results[\"mae\"],\n",
        "              \"horizon_1_window_7_LSTM\":model_5_results[\"mae\"]}, index=[\"mae\"]).plot(figsize=(10,7), kind=\"bar\")"
      ]
    },
    {
      "cell_type": "markdown",
      "metadata": {
        "id": "CB-H5TksToJw"
      },
      "source": [
        "**Note:** Because neural networks are such powerful algorithms, they can be used for almost any problem, however, that doesn't mean they'll achieve performant or usable results. You're probably starting to clue into this now."
      ]
    },
    {
      "cell_type": "markdown",
      "metadata": {
        "id": "NUXOOsF37Qlo"
      },
      "source": [
        "## Model 5 : RNN (LSTM)  with using KERAS TUNER"
      ]
    },
    {
      "cell_type": "code",
      "execution_count": 113,
      "metadata": {
        "id": "BrvTe67l7R2N"
      },
      "outputs": [],
      "source": [
        "# import tensorflow as tf\n",
        "# from kerastuner import RandomSearch\n",
        "\n",
        "# # Set random seed for as reproducible results as possible\n",
        "# tf.random.set_seed(42)\n",
        "# input_shape = train_windows.shape[1:]\n",
        "# # Define the model building function\n",
        "# def build_model(hp):\n",
        "#     model = tf.keras.Sequential([\n",
        "#         tf.keras.layers.Lambda(lambda x: tf.expand_dims(x, axis=-1), input_shape=input_shape),\n",
        "#         tf.keras.layers.LSTM(hp.Int('units_1', min_value=64, max_value=256, step=32), return_sequences=True),\n",
        "#         tf.keras.layers.LSTM(hp.Int('units_2', min_value=64, max_value=256, step=32)),\n",
        "#         tf.keras.layers.Dense(hp.Int('units_3', min_value=16, max_value=128, step=16), activation=\"relu\"),\n",
        "#         tf.keras.layers.Dense(HORIZON)\n",
        "#     ])\n",
        "\n",
        "#     model.compile(loss=\"mae\",\n",
        "#                   optimizer=tf.keras.optimizers.Adam(\n",
        "#                       hp.Choice('learning_rate', values=[1e-2, 1e-3, 1e-4])\n",
        "#                   ))\n",
        "#     return model\n",
        "\n",
        "# # Configure the tuner\n",
        "# tuner = RandomSearch(\n",
        "#     build_model,\n",
        "#     objective='val_loss',\n",
        "#     max_trials=30,\n",
        "#     executions_per_trial=1,\n",
        "#     directory='my_dir',\n",
        "#     project_name='model_5_LSTM'\n",
        "# )\n"
      ]
    },
    {
      "cell_type": "code",
      "execution_count": 114,
      "metadata": {
        "id": "gFAnJOvd7SX0"
      },
      "outputs": [],
      "source": [
        "# # Search for the best hyperparameters\n",
        "# tuner.search(train_windows, train_labels,\n",
        "#              epochs=100,\n",
        "#              verbose=1,\n",
        "#              batch_size=128,\n",
        "#              validation_data=(test_windows, test_labels),\n",
        "#              callbacks=[create_model_checkpoint(model_name='model_5_LSTM')])"
      ]
    },
    {
      "cell_type": "code",
      "execution_count": 115,
      "metadata": {
        "id": "IruWQ7x674g6"
      },
      "outputs": [],
      "source": [
        "\n",
        "# # Get the best hyperparameters\n",
        "# best_hp = tuner.get_best_hyperparameters(num_trials=1)[0]\n",
        "\n",
        "# # Build the best model\n",
        "# best_model = build_model(best_hp)\n",
        "\n",
        "# # Fit the best model\n",
        "# history_best_model = best_model.fit(train_windows,\n",
        "#                                     train_labels,\n",
        "#                                     epochs=100,\n",
        "#                                     verbose=1,\n",
        "#                                     batch_size=128,\n",
        "#                                     validation_data=(test_windows, test_labels),\n",
        "#                                     callbacks=[create_model_checkpoint(model_name='best_model')])"
      ]
    },
    {
      "cell_type": "markdown",
      "metadata": {
        "id": "mMEnzBKfThHm"
      },
      "source": [
        "## Make a multivariate time series time series dataset\n",
        "\n",
        "Before we add a feature to our time series, what is a feature we can use?\n",
        "\n",
        "One feature we could add is whether or not Daniel Bourke tweeted o that day...\n",
        "\n",
        "* day 1 - 0\n",
        "* day 2 - 1\n",
        "* day 3 - 0\n",
        "\n",
        "what's a better feature to use?\n",
        "\n",
        "How about the bitcoin halving events ?\n",
        "https://www.cmcmarkets.com/en/learn-cryptocurrencies/bitcoin-halving\n",
        "\n",
        "on rajoute les date d'evenement qui ont influencé le cours et les meme date a venir pour que notre model les prenent en compte"
      ]
    },
    {
      "cell_type": "code",
      "execution_count": 153,
      "metadata": {
        "colab": {
          "base_uri": "https://localhost:8080/",
          "height": 237
        },
        "id": "_786dLUxTjh6",
        "outputId": "8635a193-3481-4a6b-cd9b-269565823dd4"
      },
      "outputs": [
        {
          "output_type": "execute_result",
          "data": {
            "text/plain": [
              "                Price block_reward\n",
              "Date                              \n",
              "2013-10-01  123.65499         None\n",
              "2013-10-02  125.45500         None\n",
              "2013-10-03  108.58483         None\n",
              "2013-10-04  118.67466         None\n",
              "2013-10-05  121.33866         None"
            ],
            "text/html": [
              "\n",
              "  <div id=\"df-b59f8459-b0d7-453d-b000-cbf8a613d3e2\">\n",
              "    <div class=\"colab-df-container\">\n",
              "      <div>\n",
              "<style scoped>\n",
              "    .dataframe tbody tr th:only-of-type {\n",
              "        vertical-align: middle;\n",
              "    }\n",
              "\n",
              "    .dataframe tbody tr th {\n",
              "        vertical-align: top;\n",
              "    }\n",
              "\n",
              "    .dataframe thead th {\n",
              "        text-align: right;\n",
              "    }\n",
              "</style>\n",
              "<table border=\"1\" class=\"dataframe\">\n",
              "  <thead>\n",
              "    <tr style=\"text-align: right;\">\n",
              "      <th></th>\n",
              "      <th>Price</th>\n",
              "      <th>block_reward</th>\n",
              "    </tr>\n",
              "    <tr>\n",
              "      <th>Date</th>\n",
              "      <th></th>\n",
              "      <th></th>\n",
              "    </tr>\n",
              "  </thead>\n",
              "  <tbody>\n",
              "    <tr>\n",
              "      <th>2013-10-01</th>\n",
              "      <td>123.65499</td>\n",
              "      <td>None</td>\n",
              "    </tr>\n",
              "    <tr>\n",
              "      <th>2013-10-02</th>\n",
              "      <td>125.45500</td>\n",
              "      <td>None</td>\n",
              "    </tr>\n",
              "    <tr>\n",
              "      <th>2013-10-03</th>\n",
              "      <td>108.58483</td>\n",
              "      <td>None</td>\n",
              "    </tr>\n",
              "    <tr>\n",
              "      <th>2013-10-04</th>\n",
              "      <td>118.67466</td>\n",
              "      <td>None</td>\n",
              "    </tr>\n",
              "    <tr>\n",
              "      <th>2013-10-05</th>\n",
              "      <td>121.33866</td>\n",
              "      <td>None</td>\n",
              "    </tr>\n",
              "  </tbody>\n",
              "</table>\n",
              "</div>\n",
              "      <button class=\"colab-df-convert\" onclick=\"convertToInteractive('df-b59f8459-b0d7-453d-b000-cbf8a613d3e2')\"\n",
              "              title=\"Convert this dataframe to an interactive table.\"\n",
              "              style=\"display:none;\">\n",
              "        \n",
              "  <svg xmlns=\"http://www.w3.org/2000/svg\" height=\"24px\"viewBox=\"0 0 24 24\"\n",
              "       width=\"24px\">\n",
              "    <path d=\"M0 0h24v24H0V0z\" fill=\"none\"/>\n",
              "    <path d=\"M18.56 5.44l.94 2.06.94-2.06 2.06-.94-2.06-.94-.94-2.06-.94 2.06-2.06.94zm-11 1L8.5 8.5l.94-2.06 2.06-.94-2.06-.94L8.5 2.5l-.94 2.06-2.06.94zm10 10l.94 2.06.94-2.06 2.06-.94-2.06-.94-.94-2.06-.94 2.06-2.06.94z\"/><path d=\"M17.41 7.96l-1.37-1.37c-.4-.4-.92-.59-1.43-.59-.52 0-1.04.2-1.43.59L10.3 9.45l-7.72 7.72c-.78.78-.78 2.05 0 2.83L4 21.41c.39.39.9.59 1.41.59.51 0 1.02-.2 1.41-.59l7.78-7.78 2.81-2.81c.8-.78.8-2.07 0-2.86zM5.41 20L4 18.59l7.72-7.72 1.47 1.35L5.41 20z\"/>\n",
              "  </svg>\n",
              "      </button>\n",
              "      \n",
              "  <style>\n",
              "    .colab-df-container {\n",
              "      display:flex;\n",
              "      flex-wrap:wrap;\n",
              "      gap: 12px;\n",
              "    }\n",
              "\n",
              "    .colab-df-convert {\n",
              "      background-color: #E8F0FE;\n",
              "      border: none;\n",
              "      border-radius: 50%;\n",
              "      cursor: pointer;\n",
              "      display: none;\n",
              "      fill: #1967D2;\n",
              "      height: 32px;\n",
              "      padding: 0 0 0 0;\n",
              "      width: 32px;\n",
              "    }\n",
              "\n",
              "    .colab-df-convert:hover {\n",
              "      background-color: #E2EBFA;\n",
              "      box-shadow: 0px 1px 2px rgba(60, 64, 67, 0.3), 0px 1px 3px 1px rgba(60, 64, 67, 0.15);\n",
              "      fill: #174EA6;\n",
              "    }\n",
              "\n",
              "    [theme=dark] .colab-df-convert {\n",
              "      background-color: #3B4455;\n",
              "      fill: #D2E3FC;\n",
              "    }\n",
              "\n",
              "    [theme=dark] .colab-df-convert:hover {\n",
              "      background-color: #434B5C;\n",
              "      box-shadow: 0px 1px 3px 1px rgba(0, 0, 0, 0.15);\n",
              "      filter: drop-shadow(0px 1px 2px rgba(0, 0, 0, 0.3));\n",
              "      fill: #FFFFFF;\n",
              "    }\n",
              "  </style>\n",
              "\n",
              "      <script>\n",
              "        const buttonEl =\n",
              "          document.querySelector('#df-b59f8459-b0d7-453d-b000-cbf8a613d3e2 button.colab-df-convert');\n",
              "        buttonEl.style.display =\n",
              "          google.colab.kernel.accessAllowed ? 'block' : 'none';\n",
              "\n",
              "        async function convertToInteractive(key) {\n",
              "          const element = document.querySelector('#df-b59f8459-b0d7-453d-b000-cbf8a613d3e2');\n",
              "          const dataTable =\n",
              "            await google.colab.kernel.invokeFunction('convertToInteractive',\n",
              "                                                     [key], {});\n",
              "          if (!dataTable) return;\n",
              "\n",
              "          const docLinkHtml = 'Like what you see? Visit the ' +\n",
              "            '<a target=\"_blank\" href=https://colab.research.google.com/notebooks/data_table.ipynb>data table notebook</a>'\n",
              "            + ' to learn more about interactive tables.';\n",
              "          element.innerHTML = '';\n",
              "          dataTable['output_type'] = 'display_data';\n",
              "          await google.colab.output.renderOutput(dataTable, element);\n",
              "          const docLink = document.createElement('div');\n",
              "          docLink.innerHTML = docLinkHtml;\n",
              "          element.appendChild(docLink);\n",
              "        }\n",
              "      </script>\n",
              "    </div>\n",
              "  </div>\n",
              "  "
            ]
          },
          "metadata": {},
          "execution_count": 153
        }
      ],
      "source": [
        "# Let's make a multivariate time series\n",
        "bitcoin_prices.head()"
      ]
    },
    {
      "cell_type": "code",
      "execution_count": 116,
      "metadata": {
        "id": "IZV-EYqHcrod"
      },
      "outputs": [],
      "source": [
        " "
      ]
    },
    {
      "cell_type": "code",
      "execution_count": 117,
      "metadata": {
        "id": "iL5HWA7VXwZm"
      },
      "outputs": [],
      "source": [
        "# Let's add the bitcoin halving events to our dataset\n",
        "block_reward_1 = 50 # 3 January 2009 - this block reward isn't in our dataset (our data it starts from 01 October 2013)\n",
        "black_reward_2 = 25 # 8 november 2012\n",
        "black_reward_3 = 12.5 # 9 July 2016\n",
        "block_reward_4 = 6.25 # 18 May 2020\n",
        "\n",
        "# Black reward dates\n",
        "block_reward_2_datetime = np.datetime64(\"2012-11-28\")\n",
        "block_reward_3_datetime = np.datetime64(\"2016-07-09\")\n",
        "block_reward_4_datetime = np.datetime64(\"2020-05-18\")"
      ]
    },
    {
      "cell_type": "code",
      "source": [
        "black_reward_2, block_reward_2_datetime"
      ],
      "metadata": {
        "colab": {
          "base_uri": "https://localhost:8080/"
        },
        "id": "qXvThUVMWdBP",
        "outputId": "8f46e7a7-c560-4ab6-8fdb-89ddad5bb623"
      },
      "execution_count": 118,
      "outputs": [
        {
          "output_type": "execute_result",
          "data": {
            "text/plain": [
              "(25, numpy.datetime64('2012-11-28'))"
            ]
          },
          "metadata": {},
          "execution_count": 118
        }
      ]
    },
    {
      "cell_type": "code",
      "source": [
        "# Create date ranges of where specific block_reward values should be"
      ],
      "metadata": {
        "id": "fxw2EFG2Wd0C"
      },
      "execution_count": 119,
      "outputs": []
    },
    {
      "cell_type": "code",
      "source": [
        "# Add in block_reward values as a feature to our dataframe"
      ],
      "metadata": {
        "id": "MxX30zU3Wdug"
      },
      "execution_count": 120,
      "outputs": []
    },
    {
      "cell_type": "code",
      "source": [
        "# # Créer un dictionnaire contenant les dates et les récompenses de chaque événement de halving\n",
        "# halving_events = {\n",
        "#     pd.Timestamp(\"2012-11-28\"): 25,\n",
        "#     pd.Timestamp(\"2016-07-09\"): 12.5,\n",
        "#     pd.Timestamp(\"2020-05-18\"): 6.25\n",
        "# }\n",
        "\n",
        "# # Itérer sur le dictionnaire et ajouter chaque valeur au DataFrame\n",
        "# for date, reward in halving_events.items():\n",
        "#     bitcoin_prices.loc[date, 'block_reward'] = reward\n",
        "# # Remplacer les valeurs manquantes par 'None' dans la colonne 'block_reward'\n",
        "# bitcoin_prices['block_reward'].fillna('None', inplace=True)"
      ],
      "metadata": {
        "id": "JoJPTF8FWdrw"
      },
      "execution_count": 151,
      "outputs": []
    },
    {
      "cell_type": "code",
      "source": [
        "bitcoin_prices[\"block_reward\"].dropna()"
      ],
      "metadata": {
        "colab": {
          "base_uri": "https://localhost:8080/"
        },
        "id": "QY5lMq3LWhSQ",
        "outputId": "a58d84b9-1e7f-4a30-9be6-63dbb66909a8"
      },
      "execution_count": 152,
      "outputs": [
        {
          "output_type": "execute_result",
          "data": {
            "text/plain": [
              "Date\n",
              "2013-10-01    None\n",
              "2013-10-02    None\n",
              "2013-10-03    None\n",
              "2013-10-04    None\n",
              "2013-10-05    None\n",
              "              ... \n",
              "2021-05-15    None\n",
              "2021-05-16    None\n",
              "2021-05-17    None\n",
              "2021-05-18    None\n",
              "2012-11-28      25\n",
              "Name: block_reward, Length: 2788, dtype: object"
            ]
          },
          "metadata": {},
          "execution_count": 152
        }
      ]
    },
    {
      "cell_type": "code",
      "source": [],
      "metadata": {
        "id": "WTv7RlIjZPad"
      },
      "execution_count": 160,
      "outputs": []
    },
    {
      "cell_type": "code",
      "source": [],
      "metadata": {
        "id": "rz1gIWu3Wiln"
      },
      "execution_count": 160,
      "outputs": []
    },
    {
      "cell_type": "code",
      "source": [],
      "metadata": {
        "id": "eKDah2ORZMt2"
      },
      "execution_count": 160,
      "outputs": []
    },
    {
      "cell_type": "code",
      "source": [],
      "metadata": {
        "id": "m-I6X_ySas3c"
      },
      "execution_count": 160,
      "outputs": []
    },
    {
      "cell_type": "code",
      "source": [],
      "metadata": {
        "id": "j-qEDL9QdPok"
      },
      "execution_count": 160,
      "outputs": []
    }
  ],
  "metadata": {
    "accelerator": "GPU",
    "colab": {
      "collapsed_sections": [
        "i1qRxVCZVBc0",
        "yUk6gywlyqic",
        "tX7S39odyr4b",
        "HMfPVrx9rMeu",
        "wd8iOyH2PRmX",
        "YEqrZd7AWddS",
        "QmTrb4jRsWlM",
        "hj1f6fxZCK2y",
        "2okEd5o4Yh8c",
        "sK0r1SoypMt6",
        "_TQRYvxDrvcE",
        "u1okaFekE3cb",
        "QvOtJ4OyGGmT",
        "YjgGbFGaaSCS",
        "6mC_Mkj01zZO",
        "HipxABprlFJN",
        "9gjad_OcZ4MX",
        "0Kii-zCOeoZD",
        "NUXOOsF37Qlo"
      ],
      "provenance": [],
      "authorship_tag": "ABX9TyOH86MplpTB+iDTuYQ2ki/Q"
    },
    "gpuClass": "standard",
    "kernelspec": {
      "display_name": "Python 3",
      "name": "python3"
    },
    "language_info": {
      "name": "python"
    }
  },
  "nbformat": 4,
  "nbformat_minor": 0
}