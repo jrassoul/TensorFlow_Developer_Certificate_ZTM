{
  "cells": [
    {
      "cell_type": "markdown",
      "metadata": {
        "id": "IOiF7zXWP_R4"
      },
      "source": [
        "# Time series forcesting fundamentals with TensorFlow + Milestone Project 3 : BitPredict\n",
        "\n",
        "Let's wrtie some TesnroFlow code to predict the price of Bitcoin based on the historical price of Bitcoin.\n",
        "\n",
        "**Note:** This is nont financial advice.\n",
        "\n",
        "links :\n",
        "* All resources: https://github.com/mrdbourke/tensorflow-deep-learning.\n",
        "* Bo ok version of actual code/text : https://dev.mrdbourke.com/tensorflow-deep-learning/10_time_series_forecasting_in_tensorflow/."
      ]
    },
    {
      "cell_type": "markdown",
      "metadata": {
        "id": "i1qRxVCZVBc0"
      },
      "source": [
        "## Get data\n",
        "\n",
        "We're going to be using the historical price data of Bitcoin to try and predict the future price of Bitcoin, we downloaded the data from here :"
      ]
    },
    {
      "cell_type": "code",
      "execution_count": 117,
      "metadata": {
        "colab": {
          "base_uri": "https://localhost:8080/"
        },
        "id": "125qzWL5QX0R",
        "outputId": "2d9b4de0-b6da-4ef8-ab4d-a907222621e3"
      },
      "outputs": [
        {
          "output_type": "stream",
          "name": "stdout",
          "text": [
            "--2023-04-06 19:46:41--  https://raw.githubusercontent.com/mrdbourke/tensorflow-deep-learning/main/extras/BTC_USD_2013-10-01_2021-05-18-CoinDesk.csv\n",
            "Resolving raw.githubusercontent.com (raw.githubusercontent.com)... 185.199.108.133, 185.199.109.133, 185.199.110.133, ...\n",
            "Connecting to raw.githubusercontent.com (raw.githubusercontent.com)|185.199.108.133|:443... connected.\n",
            "HTTP request sent, awaiting response... 200 OK\n",
            "Length: 178509 (174K) [text/plain]\n",
            "Saving to: ‘BTC_USD_2013-10-01_2021-05-18-CoinDesk.csv.1’\n",
            "\n",
            "\r          BTC_USD_2   0%[                    ]       0  --.-KB/s               \rBTC_USD_2013-10-01_ 100%[===================>] 174.33K  --.-KB/s    in 0.01s   \n",
            "\n",
            "2023-04-06 19:46:41 (13.6 MB/s) - ‘BTC_USD_2013-10-01_2021-05-18-CoinDesk.csv.1’ saved [178509/178509]\n",
            "\n"
          ]
        }
      ],
      "source": [
        "!wget https://raw.githubusercontent.com/mrdbourke/tensorflow-deep-learning/main/extras/BTC_USD_2013-10-01_2021-05-18-CoinDesk.csv"
      ]
    },
    {
      "cell_type": "markdown",
      "metadata": {
        "id": "5pCBF7-DeAeN"
      },
      "source": [
        "### importing time series"
      ]
    },
    {
      "cell_type": "code",
      "execution_count": 118,
      "metadata": {
        "colab": {
          "base_uri": "https://localhost:8080/",
          "height": 0
        },
        "id": "ty1hGC8NVGMS",
        "outputId": "bdbe50f8-7ef7-420d-f799-b4a2ae9a128a"
      },
      "outputs": [
        {
          "output_type": "execute_result",
          "data": {
            "text/plain": [
              "           Currency  Closing Price (USD)  24h Open (USD)  24h High (USD)  \\\n",
              "Date                                                                       \n",
              "2013-10-01      BTC            123.65499       124.30466       124.75166   \n",
              "2013-10-02      BTC            125.45500       123.65499       125.75850   \n",
              "2013-10-03      BTC            108.58483       125.45500       125.66566   \n",
              "2013-10-04      BTC            118.67466       108.58483       118.67500   \n",
              "2013-10-05      BTC            121.33866       118.67466       121.93633   \n",
              "\n",
              "            24h Low (USD)  \n",
              "Date                       \n",
              "2013-10-01      122.56349  \n",
              "2013-10-02      123.63383  \n",
              "2013-10-03       83.32833  \n",
              "2013-10-04      107.05816  \n",
              "2013-10-05      118.00566  "
            ],
            "text/html": [
              "\n",
              "  <div id=\"df-097d6e36-acd6-487f-ab29-ca01b464ef3a\">\n",
              "    <div class=\"colab-df-container\">\n",
              "      <div>\n",
              "<style scoped>\n",
              "    .dataframe tbody tr th:only-of-type {\n",
              "        vertical-align: middle;\n",
              "    }\n",
              "\n",
              "    .dataframe tbody tr th {\n",
              "        vertical-align: top;\n",
              "    }\n",
              "\n",
              "    .dataframe thead th {\n",
              "        text-align: right;\n",
              "    }\n",
              "</style>\n",
              "<table border=\"1\" class=\"dataframe\">\n",
              "  <thead>\n",
              "    <tr style=\"text-align: right;\">\n",
              "      <th></th>\n",
              "      <th>Currency</th>\n",
              "      <th>Closing Price (USD)</th>\n",
              "      <th>24h Open (USD)</th>\n",
              "      <th>24h High (USD)</th>\n",
              "      <th>24h Low (USD)</th>\n",
              "    </tr>\n",
              "    <tr>\n",
              "      <th>Date</th>\n",
              "      <th></th>\n",
              "      <th></th>\n",
              "      <th></th>\n",
              "      <th></th>\n",
              "      <th></th>\n",
              "    </tr>\n",
              "  </thead>\n",
              "  <tbody>\n",
              "    <tr>\n",
              "      <th>2013-10-01</th>\n",
              "      <td>BTC</td>\n",
              "      <td>123.65499</td>\n",
              "      <td>124.30466</td>\n",
              "      <td>124.75166</td>\n",
              "      <td>122.56349</td>\n",
              "    </tr>\n",
              "    <tr>\n",
              "      <th>2013-10-02</th>\n",
              "      <td>BTC</td>\n",
              "      <td>125.45500</td>\n",
              "      <td>123.65499</td>\n",
              "      <td>125.75850</td>\n",
              "      <td>123.63383</td>\n",
              "    </tr>\n",
              "    <tr>\n",
              "      <th>2013-10-03</th>\n",
              "      <td>BTC</td>\n",
              "      <td>108.58483</td>\n",
              "      <td>125.45500</td>\n",
              "      <td>125.66566</td>\n",
              "      <td>83.32833</td>\n",
              "    </tr>\n",
              "    <tr>\n",
              "      <th>2013-10-04</th>\n",
              "      <td>BTC</td>\n",
              "      <td>118.67466</td>\n",
              "      <td>108.58483</td>\n",
              "      <td>118.67500</td>\n",
              "      <td>107.05816</td>\n",
              "    </tr>\n",
              "    <tr>\n",
              "      <th>2013-10-05</th>\n",
              "      <td>BTC</td>\n",
              "      <td>121.33866</td>\n",
              "      <td>118.67466</td>\n",
              "      <td>121.93633</td>\n",
              "      <td>118.00566</td>\n",
              "    </tr>\n",
              "  </tbody>\n",
              "</table>\n",
              "</div>\n",
              "      <button class=\"colab-df-convert\" onclick=\"convertToInteractive('df-097d6e36-acd6-487f-ab29-ca01b464ef3a')\"\n",
              "              title=\"Convert this dataframe to an interactive table.\"\n",
              "              style=\"display:none;\">\n",
              "        \n",
              "  <svg xmlns=\"http://www.w3.org/2000/svg\" height=\"24px\"viewBox=\"0 0 24 24\"\n",
              "       width=\"24px\">\n",
              "    <path d=\"M0 0h24v24H0V0z\" fill=\"none\"/>\n",
              "    <path d=\"M18.56 5.44l.94 2.06.94-2.06 2.06-.94-2.06-.94-.94-2.06-.94 2.06-2.06.94zm-11 1L8.5 8.5l.94-2.06 2.06-.94-2.06-.94L8.5 2.5l-.94 2.06-2.06.94zm10 10l.94 2.06.94-2.06 2.06-.94-2.06-.94-.94-2.06-.94 2.06-2.06.94z\"/><path d=\"M17.41 7.96l-1.37-1.37c-.4-.4-.92-.59-1.43-.59-.52 0-1.04.2-1.43.59L10.3 9.45l-7.72 7.72c-.78.78-.78 2.05 0 2.83L4 21.41c.39.39.9.59 1.41.59.51 0 1.02-.2 1.41-.59l7.78-7.78 2.81-2.81c.8-.78.8-2.07 0-2.86zM5.41 20L4 18.59l7.72-7.72 1.47 1.35L5.41 20z\"/>\n",
              "  </svg>\n",
              "      </button>\n",
              "      \n",
              "  <style>\n",
              "    .colab-df-container {\n",
              "      display:flex;\n",
              "      flex-wrap:wrap;\n",
              "      gap: 12px;\n",
              "    }\n",
              "\n",
              "    .colab-df-convert {\n",
              "      background-color: #E8F0FE;\n",
              "      border: none;\n",
              "      border-radius: 50%;\n",
              "      cursor: pointer;\n",
              "      display: none;\n",
              "      fill: #1967D2;\n",
              "      height: 32px;\n",
              "      padding: 0 0 0 0;\n",
              "      width: 32px;\n",
              "    }\n",
              "\n",
              "    .colab-df-convert:hover {\n",
              "      background-color: #E2EBFA;\n",
              "      box-shadow: 0px 1px 2px rgba(60, 64, 67, 0.3), 0px 1px 3px 1px rgba(60, 64, 67, 0.15);\n",
              "      fill: #174EA6;\n",
              "    }\n",
              "\n",
              "    [theme=dark] .colab-df-convert {\n",
              "      background-color: #3B4455;\n",
              "      fill: #D2E3FC;\n",
              "    }\n",
              "\n",
              "    [theme=dark] .colab-df-convert:hover {\n",
              "      background-color: #434B5C;\n",
              "      box-shadow: 0px 1px 3px 1px rgba(0, 0, 0, 0.15);\n",
              "      filter: drop-shadow(0px 1px 2px rgba(0, 0, 0, 0.3));\n",
              "      fill: #FFFFFF;\n",
              "    }\n",
              "  </style>\n",
              "\n",
              "      <script>\n",
              "        const buttonEl =\n",
              "          document.querySelector('#df-097d6e36-acd6-487f-ab29-ca01b464ef3a button.colab-df-convert');\n",
              "        buttonEl.style.display =\n",
              "          google.colab.kernel.accessAllowed ? 'block' : 'none';\n",
              "\n",
              "        async function convertToInteractive(key) {\n",
              "          const element = document.querySelector('#df-097d6e36-acd6-487f-ab29-ca01b464ef3a');\n",
              "          const dataTable =\n",
              "            await google.colab.kernel.invokeFunction('convertToInteractive',\n",
              "                                                     [key], {});\n",
              "          if (!dataTable) return;\n",
              "\n",
              "          const docLinkHtml = 'Like what you see? Visit the ' +\n",
              "            '<a target=\"_blank\" href=https://colab.research.google.com/notebooks/data_table.ipynb>data table notebook</a>'\n",
              "            + ' to learn more about interactive tables.';\n",
              "          element.innerHTML = '';\n",
              "          dataTable['output_type'] = 'display_data';\n",
              "          await google.colab.output.renderOutput(dataTable, element);\n",
              "          const docLink = document.createElement('div');\n",
              "          docLink.innerHTML = docLinkHtml;\n",
              "          element.appendChild(docLink);\n",
              "        }\n",
              "      </script>\n",
              "    </div>\n",
              "  </div>\n",
              "  "
            ]
          },
          "metadata": {},
          "execution_count": 118
        }
      ],
      "source": [
        "# import with pandas\n",
        "import pandas as pd\n",
        "# Let's read in our Bitcoin data and parse the data\n",
        "df = pd.read_csv('BTC_USD_2013-10-01_2021-05-18-CoinDesk.csv',\n",
        "                        parse_dates = [\"Date\"],\n",
        "                        index_col=[\"Date\"]) # parse the data column and tell pandas column 1 is a datetime\n",
        "df.head()"
      ]
    },
    {
      "cell_type": "code",
      "execution_count": 119,
      "metadata": {
        "colab": {
          "base_uri": "https://localhost:8080/",
          "height": 0
        },
        "id": "aoG1YeV7fB5s",
        "outputId": "8fe34912-3219-4921-f96f-3256192b30b6"
      },
      "outputs": [
        {
          "output_type": "execute_result",
          "data": {
            "text/plain": [
              "           Currency  Closing Price (USD)  24h Open (USD)  24h High (USD)  \\\n",
              "Date                                                                       \n",
              "2021-05-14      BTC         49764.132082    49596.778891    51448.798576   \n",
              "2021-05-15      BTC         50032.693137    49717.354353    51578.312545   \n",
              "2021-05-16      BTC         47885.625255    49926.035067    50690.802950   \n",
              "2021-05-17      BTC         45604.615754    46805.537852    49670.414174   \n",
              "2021-05-18      BTC         43144.471291    46439.336570    46622.853437   \n",
              "\n",
              "            24h Low (USD)  \n",
              "Date                       \n",
              "2021-05-14   46294.720180  \n",
              "2021-05-15   48944.346536  \n",
              "2021-05-16   47005.102292  \n",
              "2021-05-17   43868.638969  \n",
              "2021-05-18   42102.346430  "
            ],
            "text/html": [
              "\n",
              "  <div id=\"df-d009ca6b-dc49-405a-9a5d-2dc511cb6b54\">\n",
              "    <div class=\"colab-df-container\">\n",
              "      <div>\n",
              "<style scoped>\n",
              "    .dataframe tbody tr th:only-of-type {\n",
              "        vertical-align: middle;\n",
              "    }\n",
              "\n",
              "    .dataframe tbody tr th {\n",
              "        vertical-align: top;\n",
              "    }\n",
              "\n",
              "    .dataframe thead th {\n",
              "        text-align: right;\n",
              "    }\n",
              "</style>\n",
              "<table border=\"1\" class=\"dataframe\">\n",
              "  <thead>\n",
              "    <tr style=\"text-align: right;\">\n",
              "      <th></th>\n",
              "      <th>Currency</th>\n",
              "      <th>Closing Price (USD)</th>\n",
              "      <th>24h Open (USD)</th>\n",
              "      <th>24h High (USD)</th>\n",
              "      <th>24h Low (USD)</th>\n",
              "    </tr>\n",
              "    <tr>\n",
              "      <th>Date</th>\n",
              "      <th></th>\n",
              "      <th></th>\n",
              "      <th></th>\n",
              "      <th></th>\n",
              "      <th></th>\n",
              "    </tr>\n",
              "  </thead>\n",
              "  <tbody>\n",
              "    <tr>\n",
              "      <th>2021-05-14</th>\n",
              "      <td>BTC</td>\n",
              "      <td>49764.132082</td>\n",
              "      <td>49596.778891</td>\n",
              "      <td>51448.798576</td>\n",
              "      <td>46294.720180</td>\n",
              "    </tr>\n",
              "    <tr>\n",
              "      <th>2021-05-15</th>\n",
              "      <td>BTC</td>\n",
              "      <td>50032.693137</td>\n",
              "      <td>49717.354353</td>\n",
              "      <td>51578.312545</td>\n",
              "      <td>48944.346536</td>\n",
              "    </tr>\n",
              "    <tr>\n",
              "      <th>2021-05-16</th>\n",
              "      <td>BTC</td>\n",
              "      <td>47885.625255</td>\n",
              "      <td>49926.035067</td>\n",
              "      <td>50690.802950</td>\n",
              "      <td>47005.102292</td>\n",
              "    </tr>\n",
              "    <tr>\n",
              "      <th>2021-05-17</th>\n",
              "      <td>BTC</td>\n",
              "      <td>45604.615754</td>\n",
              "      <td>46805.537852</td>\n",
              "      <td>49670.414174</td>\n",
              "      <td>43868.638969</td>\n",
              "    </tr>\n",
              "    <tr>\n",
              "      <th>2021-05-18</th>\n",
              "      <td>BTC</td>\n",
              "      <td>43144.471291</td>\n",
              "      <td>46439.336570</td>\n",
              "      <td>46622.853437</td>\n",
              "      <td>42102.346430</td>\n",
              "    </tr>\n",
              "  </tbody>\n",
              "</table>\n",
              "</div>\n",
              "      <button class=\"colab-df-convert\" onclick=\"convertToInteractive('df-d009ca6b-dc49-405a-9a5d-2dc511cb6b54')\"\n",
              "              title=\"Convert this dataframe to an interactive table.\"\n",
              "              style=\"display:none;\">\n",
              "        \n",
              "  <svg xmlns=\"http://www.w3.org/2000/svg\" height=\"24px\"viewBox=\"0 0 24 24\"\n",
              "       width=\"24px\">\n",
              "    <path d=\"M0 0h24v24H0V0z\" fill=\"none\"/>\n",
              "    <path d=\"M18.56 5.44l.94 2.06.94-2.06 2.06-.94-2.06-.94-.94-2.06-.94 2.06-2.06.94zm-11 1L8.5 8.5l.94-2.06 2.06-.94-2.06-.94L8.5 2.5l-.94 2.06-2.06.94zm10 10l.94 2.06.94-2.06 2.06-.94-2.06-.94-.94-2.06-.94 2.06-2.06.94z\"/><path d=\"M17.41 7.96l-1.37-1.37c-.4-.4-.92-.59-1.43-.59-.52 0-1.04.2-1.43.59L10.3 9.45l-7.72 7.72c-.78.78-.78 2.05 0 2.83L4 21.41c.39.39.9.59 1.41.59.51 0 1.02-.2 1.41-.59l7.78-7.78 2.81-2.81c.8-.78.8-2.07 0-2.86zM5.41 20L4 18.59l7.72-7.72 1.47 1.35L5.41 20z\"/>\n",
              "  </svg>\n",
              "      </button>\n",
              "      \n",
              "  <style>\n",
              "    .colab-df-container {\n",
              "      display:flex;\n",
              "      flex-wrap:wrap;\n",
              "      gap: 12px;\n",
              "    }\n",
              "\n",
              "    .colab-df-convert {\n",
              "      background-color: #E8F0FE;\n",
              "      border: none;\n",
              "      border-radius: 50%;\n",
              "      cursor: pointer;\n",
              "      display: none;\n",
              "      fill: #1967D2;\n",
              "      height: 32px;\n",
              "      padding: 0 0 0 0;\n",
              "      width: 32px;\n",
              "    }\n",
              "\n",
              "    .colab-df-convert:hover {\n",
              "      background-color: #E2EBFA;\n",
              "      box-shadow: 0px 1px 2px rgba(60, 64, 67, 0.3), 0px 1px 3px 1px rgba(60, 64, 67, 0.15);\n",
              "      fill: #174EA6;\n",
              "    }\n",
              "\n",
              "    [theme=dark] .colab-df-convert {\n",
              "      background-color: #3B4455;\n",
              "      fill: #D2E3FC;\n",
              "    }\n",
              "\n",
              "    [theme=dark] .colab-df-convert:hover {\n",
              "      background-color: #434B5C;\n",
              "      box-shadow: 0px 1px 3px 1px rgba(0, 0, 0, 0.15);\n",
              "      filter: drop-shadow(0px 1px 2px rgba(0, 0, 0, 0.3));\n",
              "      fill: #FFFFFF;\n",
              "    }\n",
              "  </style>\n",
              "\n",
              "      <script>\n",
              "        const buttonEl =\n",
              "          document.querySelector('#df-d009ca6b-dc49-405a-9a5d-2dc511cb6b54 button.colab-df-convert');\n",
              "        buttonEl.style.display =\n",
              "          google.colab.kernel.accessAllowed ? 'block' : 'none';\n",
              "\n",
              "        async function convertToInteractive(key) {\n",
              "          const element = document.querySelector('#df-d009ca6b-dc49-405a-9a5d-2dc511cb6b54');\n",
              "          const dataTable =\n",
              "            await google.colab.kernel.invokeFunction('convertToInteractive',\n",
              "                                                     [key], {});\n",
              "          if (!dataTable) return;\n",
              "\n",
              "          const docLinkHtml = 'Like what you see? Visit the ' +\n",
              "            '<a target=\"_blank\" href=https://colab.research.google.com/notebooks/data_table.ipynb>data table notebook</a>'\n",
              "            + ' to learn more about interactive tables.';\n",
              "          element.innerHTML = '';\n",
              "          dataTable['output_type'] = 'display_data';\n",
              "          await google.colab.output.renderOutput(dataTable, element);\n",
              "          const docLink = document.createElement('div');\n",
              "          docLink.innerHTML = docLinkHtml;\n",
              "          element.appendChild(docLink);\n",
              "        }\n",
              "      </script>\n",
              "    </div>\n",
              "  </div>\n",
              "  "
            ]
          },
          "metadata": {},
          "execution_count": 119
        }
      ],
      "source": [
        "df.tail()"
      ]
    },
    {
      "cell_type": "code",
      "execution_count": 120,
      "metadata": {
        "colab": {
          "base_uri": "https://localhost:8080/"
        },
        "id": "7piDV8DPVnwQ",
        "outputId": "89c3491d-78d0-4b54-c9be-82a15d702fa0"
      },
      "outputs": [
        {
          "output_type": "stream",
          "name": "stdout",
          "text": [
            "<class 'pandas.core.frame.DataFrame'>\n",
            "DatetimeIndex: 2787 entries, 2013-10-01 to 2021-05-18\n",
            "Data columns (total 5 columns):\n",
            " #   Column               Non-Null Count  Dtype  \n",
            "---  ------               --------------  -----  \n",
            " 0   Currency             2787 non-null   object \n",
            " 1   Closing Price (USD)  2787 non-null   float64\n",
            " 2   24h Open (USD)       2787 non-null   float64\n",
            " 3   24h High (USD)       2787 non-null   float64\n",
            " 4   24h Low (USD)        2787 non-null   float64\n",
            "dtypes: float64(4), object(1)\n",
            "memory usage: 130.6+ KB\n"
          ]
        }
      ],
      "source": [
        "df.info()"
      ]
    },
    {
      "cell_type": "code",
      "execution_count": 121,
      "metadata": {
        "colab": {
          "base_uri": "https://localhost:8080/"
        },
        "id": "oXR18wCYexQR",
        "outputId": "71bcc821-a9a4-4909-9aaa-3a0ac07803e2"
      },
      "outputs": [
        {
          "output_type": "execute_result",
          "data": {
            "text/plain": [
              "2787"
            ]
          },
          "metadata": {},
          "execution_count": 121
        }
      ],
      "source": [
        "# How many samples do we have?\n",
        "len(df)"
      ]
    },
    {
      "cell_type": "markdown",
      "metadata": {
        "id": "sELac-p4hy70"
      },
      "source": [
        "** Note:** The **seasonality** of a time series dataset is referred as the number of samples per year. So for our Bitcoin data, it has a seasonality of daily or value of 365 because we collect one sample per day meaning we'll get 365 samples per year."
      ]
    },
    {
      "cell_type": "code",
      "execution_count": 122,
      "metadata": {
        "colab": {
          "base_uri": "https://localhost:8080/",
          "height": 0
        },
        "id": "DSUqyv15gZmL",
        "outputId": "b9f70ef7-8017-493a-acb3-f3c7519b1f79"
      },
      "outputs": [
        {
          "output_type": "execute_result",
          "data": {
            "text/plain": [
              "                Price\n",
              "Date                 \n",
              "2013-10-01  123.65499\n",
              "2013-10-02  125.45500\n",
              "2013-10-03  108.58483\n",
              "2013-10-04  118.67466\n",
              "2013-10-05  121.33866"
            ],
            "text/html": [
              "\n",
              "  <div id=\"df-822cf743-e882-42f7-9fa5-8a3da78bbef4\">\n",
              "    <div class=\"colab-df-container\">\n",
              "      <div>\n",
              "<style scoped>\n",
              "    .dataframe tbody tr th:only-of-type {\n",
              "        vertical-align: middle;\n",
              "    }\n",
              "\n",
              "    .dataframe tbody tr th {\n",
              "        vertical-align: top;\n",
              "    }\n",
              "\n",
              "    .dataframe thead th {\n",
              "        text-align: right;\n",
              "    }\n",
              "</style>\n",
              "<table border=\"1\" class=\"dataframe\">\n",
              "  <thead>\n",
              "    <tr style=\"text-align: right;\">\n",
              "      <th></th>\n",
              "      <th>Price</th>\n",
              "    </tr>\n",
              "    <tr>\n",
              "      <th>Date</th>\n",
              "      <th></th>\n",
              "    </tr>\n",
              "  </thead>\n",
              "  <tbody>\n",
              "    <tr>\n",
              "      <th>2013-10-01</th>\n",
              "      <td>123.65499</td>\n",
              "    </tr>\n",
              "    <tr>\n",
              "      <th>2013-10-02</th>\n",
              "      <td>125.45500</td>\n",
              "    </tr>\n",
              "    <tr>\n",
              "      <th>2013-10-03</th>\n",
              "      <td>108.58483</td>\n",
              "    </tr>\n",
              "    <tr>\n",
              "      <th>2013-10-04</th>\n",
              "      <td>118.67466</td>\n",
              "    </tr>\n",
              "    <tr>\n",
              "      <th>2013-10-05</th>\n",
              "      <td>121.33866</td>\n",
              "    </tr>\n",
              "  </tbody>\n",
              "</table>\n",
              "</div>\n",
              "      <button class=\"colab-df-convert\" onclick=\"convertToInteractive('df-822cf743-e882-42f7-9fa5-8a3da78bbef4')\"\n",
              "              title=\"Convert this dataframe to an interactive table.\"\n",
              "              style=\"display:none;\">\n",
              "        \n",
              "  <svg xmlns=\"http://www.w3.org/2000/svg\" height=\"24px\"viewBox=\"0 0 24 24\"\n",
              "       width=\"24px\">\n",
              "    <path d=\"M0 0h24v24H0V0z\" fill=\"none\"/>\n",
              "    <path d=\"M18.56 5.44l.94 2.06.94-2.06 2.06-.94-2.06-.94-.94-2.06-.94 2.06-2.06.94zm-11 1L8.5 8.5l.94-2.06 2.06-.94-2.06-.94L8.5 2.5l-.94 2.06-2.06.94zm10 10l.94 2.06.94-2.06 2.06-.94-2.06-.94-.94-2.06-.94 2.06-2.06.94z\"/><path d=\"M17.41 7.96l-1.37-1.37c-.4-.4-.92-.59-1.43-.59-.52 0-1.04.2-1.43.59L10.3 9.45l-7.72 7.72c-.78.78-.78 2.05 0 2.83L4 21.41c.39.39.9.59 1.41.59.51 0 1.02-.2 1.41-.59l7.78-7.78 2.81-2.81c.8-.78.8-2.07 0-2.86zM5.41 20L4 18.59l7.72-7.72 1.47 1.35L5.41 20z\"/>\n",
              "  </svg>\n",
              "      </button>\n",
              "      \n",
              "  <style>\n",
              "    .colab-df-container {\n",
              "      display:flex;\n",
              "      flex-wrap:wrap;\n",
              "      gap: 12px;\n",
              "    }\n",
              "\n",
              "    .colab-df-convert {\n",
              "      background-color: #E8F0FE;\n",
              "      border: none;\n",
              "      border-radius: 50%;\n",
              "      cursor: pointer;\n",
              "      display: none;\n",
              "      fill: #1967D2;\n",
              "      height: 32px;\n",
              "      padding: 0 0 0 0;\n",
              "      width: 32px;\n",
              "    }\n",
              "\n",
              "    .colab-df-convert:hover {\n",
              "      background-color: #E2EBFA;\n",
              "      box-shadow: 0px 1px 2px rgba(60, 64, 67, 0.3), 0px 1px 3px 1px rgba(60, 64, 67, 0.15);\n",
              "      fill: #174EA6;\n",
              "    }\n",
              "\n",
              "    [theme=dark] .colab-df-convert {\n",
              "      background-color: #3B4455;\n",
              "      fill: #D2E3FC;\n",
              "    }\n",
              "\n",
              "    [theme=dark] .colab-df-convert:hover {\n",
              "      background-color: #434B5C;\n",
              "      box-shadow: 0px 1px 3px 1px rgba(0, 0, 0, 0.15);\n",
              "      filter: drop-shadow(0px 1px 2px rgba(0, 0, 0, 0.3));\n",
              "      fill: #FFFFFF;\n",
              "    }\n",
              "  </style>\n",
              "\n",
              "      <script>\n",
              "        const buttonEl =\n",
              "          document.querySelector('#df-822cf743-e882-42f7-9fa5-8a3da78bbef4 button.colab-df-convert');\n",
              "        buttonEl.style.display =\n",
              "          google.colab.kernel.accessAllowed ? 'block' : 'none';\n",
              "\n",
              "        async function convertToInteractive(key) {\n",
              "          const element = document.querySelector('#df-822cf743-e882-42f7-9fa5-8a3da78bbef4');\n",
              "          const dataTable =\n",
              "            await google.colab.kernel.invokeFunction('convertToInteractive',\n",
              "                                                     [key], {});\n",
              "          if (!dataTable) return;\n",
              "\n",
              "          const docLinkHtml = 'Like what you see? Visit the ' +\n",
              "            '<a target=\"_blank\" href=https://colab.research.google.com/notebooks/data_table.ipynb>data table notebook</a>'\n",
              "            + ' to learn more about interactive tables.';\n",
              "          element.innerHTML = '';\n",
              "          dataTable['output_type'] = 'display_data';\n",
              "          await google.colab.output.renderOutput(dataTable, element);\n",
              "          const docLink = document.createElement('div');\n",
              "          docLink.innerHTML = docLinkHtml;\n",
              "          element.appendChild(docLink);\n",
              "        }\n",
              "      </script>\n",
              "    </div>\n",
              "  </div>\n",
              "  "
            ]
          },
          "metadata": {},
          "execution_count": 122
        }
      ],
      "source": [
        "# Only want closing price for each day \n",
        "bitcoin_prices = pd.DataFrame(df[\"Closing Price (USD)\"]).rename(columns={\"Closing Price (USD)\": \"Price\"})\n",
        "bitcoin_prices.head()"
      ]
    },
    {
      "cell_type": "code",
      "execution_count": 123,
      "metadata": {
        "colab": {
          "base_uri": "https://localhost:8080/",
          "height": 0
        },
        "id": "2eSA1f98k6Xd",
        "outputId": "c2a3e57c-0769-4589-dd15-6f3d96654ccc"
      },
      "outputs": [
        {
          "output_type": "execute_result",
          "data": {
            "text/plain": [
              "<matplotlib.legend.Legend at 0x7fd082108220>"
            ]
          },
          "metadata": {},
          "execution_count": 123
        },
        {
          "output_type": "display_data",
          "data": {
            "text/plain": [
              "<Figure size 1000x700 with 1 Axes>"
            ],
            "image/png": "[encoded data removed]"
          },
          "metadata": {}
        }
      ],
      "source": [
        "import matplotlib.pyplot as plt\n",
        "bitcoin_prices.plot(figsize=(10,7))\n",
        "plt.ylabel(\"BTC Price\")\n",
        "plt.title(\"Price of Bitcoin from 1 oct 2013 to 18 may 2021\", fontsize=16)\n",
        "plt.legend(fontsize=14)"
      ]
    },
    {
      "cell_type": "code",
      "execution_count": 123,
      "metadata": {
        "id": "dZB8dYhaor9h"
      },
      "outputs": [],
      "source": []
    },
    {
      "cell_type": "markdown",
      "metadata": {
        "id": "vumu8bjSuR-h"
      },
      "source": [
        "### Importing time series data with Python's CSV module\n"
      ]
    },
    {
      "cell_type": "code",
      "execution_count": 124,
      "metadata": {
        "colab": {
          "base_uri": "https://localhost:8080/"
        },
        "id": "ay_OaD7juSm-",
        "outputId": "edadeaef-080f-42bb-9c7f-f6cd58687838"
      },
      "outputs": [
        {
          "output_type": "execute_result",
          "data": {
            "text/plain": [
              "([datetime.datetime(2013, 10, 1, 0, 0),\n",
              "  datetime.datetime(2013, 10, 2, 0, 0),\n",
              "  datetime.datetime(2013, 10, 3, 0, 0),\n",
              "  datetime.datetime(2013, 10, 4, 0, 0),\n",
              "  datetime.datetime(2013, 10, 5, 0, 0),\n",
              "  datetime.datetime(2013, 10, 6, 0, 0),\n",
              "  datetime.datetime(2013, 10, 7, 0, 0),\n",
              "  datetime.datetime(2013, 10, 8, 0, 0),\n",
              "  datetime.datetime(2013, 10, 9, 0, 0),\n",
              "  datetime.datetime(2013, 10, 10, 0, 0)],\n",
              " [123.65499,\n",
              "  125.455,\n",
              "  108.58483,\n",
              "  118.67466,\n",
              "  121.33866,\n",
              "  120.65533,\n",
              "  121.795,\n",
              "  123.033,\n",
              "  124.049,\n",
              "  125.96116])"
            ]
          },
          "metadata": {},
          "execution_count": 124
        }
      ],
      "source": [
        "# Importing and formatting historical Bitcoin data with Python\n",
        "import csv\n",
        "from datetime import datetime\n",
        "\n",
        "timesteps = []\n",
        "btc_price = []\n",
        "with open(\"/content/BTC_USD_2013-10-01_2021-05-18-CoinDesk.csv\", \"r\") as f:\n",
        "  csv_reader = csv.reader(f, delimiter= \",\")\n",
        "  next(csv_reader) # skip first line (this gets rid of the column titles)\n",
        "  for line in csv_reader:\n",
        "    timesteps.append(datetime.strptime(line[1], \"%Y-%m-%d\")) # get the dates as date (not string)\n",
        "    btc_price.append(float(line[2])) # get the closing price as floa\n",
        "\n",
        "# View first 10 of each\n",
        "timesteps[:10], btc_price[:10]"
      ]
    },
    {
      "cell_type": "code",
      "execution_count": 125,
      "metadata": {
        "colab": {
          "base_uri": "https://localhost:8080/",
          "height": 0
        },
        "id": "H18kNfB2w5ZI",
        "outputId": "6a9df384-8b29-45e2-89af-6fc3875060fe"
      },
      "outputs": [
        {
          "output_type": "stream",
          "name": "stderr",
          "text": [
            "WARNING:matplotlib.legend:No artists with labels found to put in legend.  Note that artists whose label start with an underscore are ignored when legend() is called with no argument.\n"
          ]
        },
        {
          "output_type": "execute_result",
          "data": {
            "text/plain": [
              "<matplotlib.legend.Legend at 0x7fd16ce79bb0>"
            ]
          },
          "metadata": {},
          "execution_count": 125
        },
        {
          "output_type": "display_data",
          "data": {
            "text/plain": [
              "<Figure size 1000x700 with 1 Axes>"
            ],
            "image/png": "[encoded data removed]"
          },
          "metadata": {}
        }
      ],
      "source": [
        "# Plot from CSV\n",
        "import matplotlib.pyplot as plt\n",
        "import numpy as np\n",
        "plt.figure(figsize=(10,7))\n",
        "plt.plot(timesteps, btc_price)\n",
        "plt.ylabel(\"BTC Price\")\n",
        "plt.title(\"Price of Bitcoin from 1 oct 2013 to 18 may 2021\", fontsize=16)\n",
        "plt.legend(fontsize=14)"
      ]
    },
    {
      "cell_type": "markdown",
      "metadata": {
        "id": "yUk6gywlyqic"
      },
      "source": [
        "## Format data part1: Create train and test sets of our time series data\n"
      ]
    },
    {
      "cell_type": "markdown",
      "metadata": {
        "id": "tX7S39odyr4b"
      },
      "source": [
        "### Creating train and test sets with time series data (the wrong way)"
      ]
    },
    {
      "cell_type": "code",
      "execution_count": 126,
      "metadata": {
        "colab": {
          "base_uri": "https://localhost:8080/",
          "height": 0
        },
        "id": "7aKXlFIszJnn",
        "outputId": "04684e3a-248c-4c1c-d535-e15a1aa9d7a9"
      },
      "outputs": [
        {
          "output_type": "execute_result",
          "data": {
            "text/plain": [
              "                Price\n",
              "Date                 \n",
              "2013-10-01  123.65499\n",
              "2013-10-02  125.45500\n",
              "2013-10-03  108.58483\n",
              "2013-10-04  118.67466\n",
              "2013-10-05  121.33866"
            ],
            "text/html": [
              "\n",
              "  <div id=\"df-17989d6a-84dd-48d6-9305-26d0db709cea\">\n",
              "    <div class=\"colab-df-container\">\n",
              "      <div>\n",
              "<style scoped>\n",
              "    .dataframe tbody tr th:only-of-type {\n",
              "        vertical-align: middle;\n",
              "    }\n",
              "\n",
              "    .dataframe tbody tr th {\n",
              "        vertical-align: top;\n",
              "    }\n",
              "\n",
              "    .dataframe thead th {\n",
              "        text-align: right;\n",
              "    }\n",
              "</style>\n",
              "<table border=\"1\" class=\"dataframe\">\n",
              "  <thead>\n",
              "    <tr style=\"text-align: right;\">\n",
              "      <th></th>\n",
              "      <th>Price</th>\n",
              "    </tr>\n",
              "    <tr>\n",
              "      <th>Date</th>\n",
              "      <th></th>\n",
              "    </tr>\n",
              "  </thead>\n",
              "  <tbody>\n",
              "    <tr>\n",
              "      <th>2013-10-01</th>\n",
              "      <td>123.65499</td>\n",
              "    </tr>\n",
              "    <tr>\n",
              "      <th>2013-10-02</th>\n",
              "      <td>125.45500</td>\n",
              "    </tr>\n",
              "    <tr>\n",
              "      <th>2013-10-03</th>\n",
              "      <td>108.58483</td>\n",
              "    </tr>\n",
              "    <tr>\n",
              "      <th>2013-10-04</th>\n",
              "      <td>118.67466</td>\n",
              "    </tr>\n",
              "    <tr>\n",
              "      <th>2013-10-05</th>\n",
              "      <td>121.33866</td>\n",
              "    </tr>\n",
              "  </tbody>\n",
              "</table>\n",
              "</div>\n",
              "      <button class=\"colab-df-convert\" onclick=\"convertToInteractive('df-17989d6a-84dd-48d6-9305-26d0db709cea')\"\n",
              "              title=\"Convert this dataframe to an interactive table.\"\n",
              "              style=\"display:none;\">\n",
              "        \n",
              "  <svg xmlns=\"http://www.w3.org/2000/svg\" height=\"24px\"viewBox=\"0 0 24 24\"\n",
              "       width=\"24px\">\n",
              "    <path d=\"M0 0h24v24H0V0z\" fill=\"none\"/>\n",
              "    <path d=\"M18.56 5.44l.94 2.06.94-2.06 2.06-.94-2.06-.94-.94-2.06-.94 2.06-2.06.94zm-11 1L8.5 8.5l.94-2.06 2.06-.94-2.06-.94L8.5 2.5l-.94 2.06-2.06.94zm10 10l.94 2.06.94-2.06 2.06-.94-2.06-.94-.94-2.06-.94 2.06-2.06.94z\"/><path d=\"M17.41 7.96l-1.37-1.37c-.4-.4-.92-.59-1.43-.59-.52 0-1.04.2-1.43.59L10.3 9.45l-7.72 7.72c-.78.78-.78 2.05 0 2.83L4 21.41c.39.39.9.59 1.41.59.51 0 1.02-.2 1.41-.59l7.78-7.78 2.81-2.81c.8-.78.8-2.07 0-2.86zM5.41 20L4 18.59l7.72-7.72 1.47 1.35L5.41 20z\"/>\n",
              "  </svg>\n",
              "      </button>\n",
              "      \n",
              "  <style>\n",
              "    .colab-df-container {\n",
              "      display:flex;\n",
              "      flex-wrap:wrap;\n",
              "      gap: 12px;\n",
              "    }\n",
              "\n",
              "    .colab-df-convert {\n",
              "      background-color: #E8F0FE;\n",
              "      border: none;\n",
              "      border-radius: 50%;\n",
              "      cursor: pointer;\n",
              "      display: none;\n",
              "      fill: #1967D2;\n",
              "      height: 32px;\n",
              "      padding: 0 0 0 0;\n",
              "      width: 32px;\n",
              "    }\n",
              "\n",
              "    .colab-df-convert:hover {\n",
              "      background-color: #E2EBFA;\n",
              "      box-shadow: 0px 1px 2px rgba(60, 64, 67, 0.3), 0px 1px 3px 1px rgba(60, 64, 67, 0.15);\n",
              "      fill: #174EA6;\n",
              "    }\n",
              "\n",
              "    [theme=dark] .colab-df-convert {\n",
              "      background-color: #3B4455;\n",
              "      fill: #D2E3FC;\n",
              "    }\n",
              "\n",
              "    [theme=dark] .colab-df-convert:hover {\n",
              "      background-color: #434B5C;\n",
              "      box-shadow: 0px 1px 3px 1px rgba(0, 0, 0, 0.15);\n",
              "      filter: drop-shadow(0px 1px 2px rgba(0, 0, 0, 0.3));\n",
              "      fill: #FFFFFF;\n",
              "    }\n",
              "  </style>\n",
              "\n",
              "      <script>\n",
              "        const buttonEl =\n",
              "          document.querySelector('#df-17989d6a-84dd-48d6-9305-26d0db709cea button.colab-df-convert');\n",
              "        buttonEl.style.display =\n",
              "          google.colab.kernel.accessAllowed ? 'block' : 'none';\n",
              "\n",
              "        async function convertToInteractive(key) {\n",
              "          const element = document.querySelector('#df-17989d6a-84dd-48d6-9305-26d0db709cea');\n",
              "          const dataTable =\n",
              "            await google.colab.kernel.invokeFunction('convertToInteractive',\n",
              "                                                     [key], {});\n",
              "          if (!dataTable) return;\n",
              "\n",
              "          const docLinkHtml = 'Like what you see? Visit the ' +\n",
              "            '<a target=\"_blank\" href=https://colab.research.google.com/notebooks/data_table.ipynb>data table notebook</a>'\n",
              "            + ' to learn more about interactive tables.';\n",
              "          element.innerHTML = '';\n",
              "          dataTable['output_type'] = 'display_data';\n",
              "          await google.colab.output.renderOutput(dataTable, element);\n",
              "          const docLink = document.createElement('div');\n",
              "          docLink.innerHTML = docLinkHtml;\n",
              "          element.appendChild(docLink);\n",
              "        }\n",
              "      </script>\n",
              "    </div>\n",
              "  </div>\n",
              "  "
            ]
          },
          "metadata": {},
          "execution_count": 126
        }
      ],
      "source": [
        "bitcoin_prices[:5]"
      ]
    },
    {
      "cell_type": "code",
      "execution_count": 127,
      "metadata": {
        "colab": {
          "base_uri": "https://localhost:8080/"
        },
        "id": "AWIAaP2Cyrmw",
        "outputId": "71c3c290-21d1-4f31-e2f3-df00739b39f2"
      },
      "outputs": [
        {
          "output_type": "execute_result",
          "data": {
            "text/plain": [
              "(array(['2013-10-01T00:00:00.000000000', '2013-10-02T00:00:00.000000000',\n",
              "        '2013-10-03T00:00:00.000000000', '2013-10-04T00:00:00.000000000',\n",
              "        '2013-10-05T00:00:00.000000000', '2013-10-06T00:00:00.000000000',\n",
              "        '2013-10-07T00:00:00.000000000', '2013-10-08T00:00:00.000000000',\n",
              "        '2013-10-09T00:00:00.000000000', '2013-10-10T00:00:00.000000000'],\n",
              "       dtype='datetime64[ns]'),\n",
              " array([123.65499, 125.455  , 108.58483, 118.67466, 121.33866, 120.65533,\n",
              "        121.795  , 123.033  , 124.049  , 125.96116]))"
            ]
          },
          "metadata": {},
          "execution_count": 127
        }
      ],
      "source": [
        "# Get bitcoin date array\n",
        "timesteps = bitcoin_prices.index.to_numpy()\n",
        "prices = bitcoin_prices[\"Price\"].to_numpy()\n",
        "\n",
        "timesteps[:10], prices[:10]"
      ]
    },
    {
      "cell_type": "code",
      "execution_count": 128,
      "metadata": {
        "colab": {
          "base_uri": "https://localhost:8080/"
        },
        "id": "4LReuc-vx8rz",
        "outputId": "f010f8a0-e60d-462a-91bb-bcef1e88f0fc"
      },
      "outputs": [
        {
          "output_type": "execute_result",
          "data": {
            "text/plain": [
              "((2229,), (558,), (2229,), (558,))"
            ]
          },
          "metadata": {},
          "execution_count": 128
        }
      ],
      "source": [
        "# Wrong way to make train/test sets for time series data\n",
        "from sklearn.model_selection import train_test_split\n",
        "X_train, X_test, y_train, y_test = train_test_split(timesteps, # dates\n",
        "                                                    prices, # BTC prices\n",
        "                                                    test_size=0.2,\n",
        "                                                    random_state=42)\n",
        "X_train.shape, X_test.shape, y_train.shape, y_test.shape"
      ]
    },
    {
      "cell_type": "code",
      "execution_count": 129,
      "metadata": {
        "colab": {
          "base_uri": "https://localhost:8080/",
          "height": 0
        },
        "id": "8q3cVQ6K0Mpp",
        "outputId": "94bb1bd2-eaf0-4889-d6a5-bf37304fd221"
      },
      "outputs": [
        {
          "output_type": "display_data",
          "data": {
            "text/plain": [
              "<Figure size 1000x700 with 1 Axes>"
            ],
            "image/png": "[encoded data removed]"
          },
          "metadata": {}
        }
      ],
      "source": [
        "# Let's plot wrong train and test splits\n",
        "plt.figure(figsize=(10,7))\n",
        "plt.scatter(X_train, y_train, s=5, label=\"Train data\")\n",
        "plt.scatter(X_test, y_test, s=5, label=\"test data\")\n",
        "plt.xlabel(\"Data\")\n",
        "plt.ylabel(\"BTC Price\")\n",
        "plt.legend(fontsize=14)\n",
        "plt.show();"
      ]
    },
    {
      "cell_type": "markdown",
      "metadata": {
        "id": "B7DWffOWoqeB"
      },
      "source": [
        "### Create train & test sets for time series (the right way)"
      ]
    },
    {
      "cell_type": "code",
      "execution_count": 130,
      "metadata": {
        "colab": {
          "base_uri": "https://localhost:8080/"
        },
        "id": "bd_OlhsS07FH",
        "outputId": "669259e1-3ac5-4d77-a440-0e526db1d7d1"
      },
      "outputs": [
        {
          "output_type": "execute_result",
          "data": {
            "text/plain": [
              "(2229, 558, 2229, 558)"
            ]
          },
          "metadata": {},
          "execution_count": 130
        }
      ],
      "source": [
        "# Create train and test splits the right way for time series data\n",
        "split_size = int(0.8*len(prices)) # 80% train, 20% test - you change these values as needed, e.g 90/10, 95/5\n",
        "\n",
        "# Create train data splits (everything before the split)\n",
        "X_train, y_train = timesteps[:split_size], prices[:split_size]\n",
        "\n",
        "# Create test data splits (everything beyind the split)\n",
        "X_test, y_test = timesteps[split_size:], prices[split_size:]\n",
        "\n",
        "len(X_train), len(X_test), len(y_train), len(y_test)"
      ]
    },
    {
      "cell_type": "code",
      "execution_count": 131,
      "metadata": {
        "colab": {
          "base_uri": "https://localhost:8080/",
          "height": 619
        },
        "id": "jK_1xKQSqd8F",
        "outputId": "a6c02381-7eb2-4e3c-f61b-58caaa6af855"
      },
      "outputs": [
        {
          "output_type": "display_data",
          "data": {
            "text/plain": [
              "<Figure size 1000x700 with 1 Axes>"
            ],
            "image/png": "[encoded data removed]"
          },
          "metadata": {}
        }
      ],
      "source": [
        "# Plot correctly made splits\n",
        "plt.figure(figsize=(10,7))\n",
        "plt.scatter(X_train, y_train, s=5, label=\"Train data\")\n",
        "plt.scatter(X_test, y_test, s=5, label=\"test data\")\n",
        "plt.xlabel(\"Data\")\n",
        "plt.ylabel(\"BTC Price\")\n",
        "plt.legend(fontsize=14)\n",
        "plt.show();"
      ]
    },
    {
      "cell_type": "markdown",
      "metadata": {
        "id": "HMfPVrx9rMeu"
      },
      "source": [
        "### Create a plotting function\n",
        "Typing plotting code is tedious, let's functionize it."
      ]
    },
    {
      "cell_type": "code",
      "execution_count": 132,
      "metadata": {
        "id": "HgNgy8eSrMOd"
      },
      "outputs": [],
      "source": [
        "# Create the function to plot time series data\n",
        "def plot_time_series(timesteps, values, format=\".\", start=0, end=None, label=None):\n",
        "  # Plot correctly made splits\n",
        "  \"\"\"\n",
        "  Plot timesteps (a series of points in time) against values (a series of values accros timesteps).\n",
        "\n",
        "  Parameters\n",
        "  ----------\n",
        "  timesteps : array of timestep values\n",
        "  values : array of values across time\n",
        "  format : style of plot, default \".\"\n",
        "  start : where to start the plot (setting a value will index from start of timesteps)\n",
        "  end : where to end the plot (similar to start but for the end)\n",
        "  label : label to show on plot about values, default None\n",
        "  \"\"\"\n",
        "  # Plot the series\n",
        "  #plt.figure(figsize=(10,7))\n",
        "  plt.plot(timesteps[start:end], values[start:end], format, label=label)\n",
        "  plt.xlabel(\"Time\")\n",
        "  plt.ylabel(\"BTC Price\")\n",
        "  if label:\n",
        "    plt.legend(fontsize=14) # make label bigger\n",
        "  plt.grid(True)"
      ]
    },
    {
      "cell_type": "code",
      "execution_count": 133,
      "metadata": {
        "colab": {
          "base_uri": "https://localhost:8080/",
          "height": 0
        },
        "id": "FICTOWvvqsY8",
        "outputId": "2c8bd595-622e-49da-b316-a051ad6a1f83"
      },
      "outputs": [
        {
          "output_type": "display_data",
          "data": {
            "text/plain": [
              "<Figure size 1000x700 with 1 Axes>"
            ],
            "image/png": "[encoded data removed]"
          },
          "metadata": {}
        }
      ],
      "source": [
        "# Test out plotting function\n",
        "plt.figure(figsize=(10,7))\n",
        "plot_time_series(timesteps=X_train, values=y_train, label=\"Train data\")\n",
        "plot_time_series(timesteps=X_test, values=y_test, label=\"test data\")"
      ]
    },
    {
      "cell_type": "markdown",
      "metadata": {
        "id": "wd8iOyH2PRmX"
      },
      "source": [
        "## Modelling Experiments \n",
        "\n",
        "We've got some Bitcoin historical data, to model it, let's run a series of modelling experiments and see which model performs best.\n",
        "\n",
        "Terms to be familiar with: \n",
        "* **Horizon** = number of timesteps into the future we're going to predict\n",
        "* **Window size** = number of timesteps we're going to use to predict horizon  \n",
        "\n",
        "Modelling experiments we're running:\n",
        " \n",
        "* 0\tNaïve model (baseline)\n",
        "* 1\tDense model, horizon = 1, window =1\n",
        "* 2\tSame as 1, horizon = 1, window=\t30\n",
        "* 3\tSame as 1, horizo1 = 7, window =\t30\n",
        "* 4\tConv1D\t1\t7\n",
        "* 5\tLSTM\t1\t7\n",
        "* 6\tSame as 1 (but with multivariate data)\t1\t7\tBlock reward size\n",
        "* 7\tN-BEATs Algorithm\t1\t7\n",
        "* 8\tEnsemble (multiple models optimized on different loss functions)\t1\t7\n",
        "* 9\tFuture prediction model (model to predict future values)\t1\t7\t\n",
        "* 10\tSame as 1 (but with turkey 🦃 data introduced)\t1\t7"
      ]
    },
    {
      "cell_type": "markdown",
      "metadata": {
        "id": "YEqrZd7AWddS"
      },
      "source": [
        "## Model 0: Naive forecast (baseline)\n",
        "\n",
        "The formula looks like this:\n",
        "\n",
        "$$\\hat{y}_{t} = y_{t-1}$$\n",
        "\n",
        "In English:\n",
        "\n",
        "> The prediction at timestep t (y-hat) is equal to the value at timestep t-1 (previous timestep) - this is for a horizon of 1."
      ]
    },
    {
      "cell_type": "code",
      "execution_count": 134,
      "metadata": {
        "colab": {
          "base_uri": "https://localhost:8080/"
        },
        "id": "vUzQG-ZGbYCK",
        "outputId": "b341e87e-e09e-4b01-b169-0ee30955ab9e"
      },
      "outputs": [
        {
          "output_type": "execute_result",
          "data": {
            "text/plain": [
              "array([58788.20967893, 58102.19142623, 55715.54665129, 56573.5554719 ,\n",
              "       52147.82118698, 49764.1320816 , 50032.69313676, 47885.62525472,\n",
              "       45604.61575361, 43144.47129086])"
            ]
          },
          "metadata": {},
          "execution_count": 134
        }
      ],
      "source": [
        "y_test[-10:]"
      ]
    },
    {
      "cell_type": "code",
      "execution_count": 135,
      "metadata": {
        "colab": {
          "base_uri": "https://localhost:8080/"
        },
        "id": "sOxfwwoKtqww",
        "outputId": "35aa2881-e967-4fa8-b60a-a4f54d375763"
      },
      "outputs": [
        {
          "output_type": "execute_result",
          "data": {
            "text/plain": [
              "(array([9226.48582088, 8794.35864452, 8798.04205463, 9081.18687849,\n",
              "        8711.53433917, 8760.89271814, 8749.52059102, 8656.97092235,\n",
              "        8500.64355816, 8469.2608989 ]),\n",
              " array([57107.12067189, 58788.20967893, 58102.19142623, 55715.54665129,\n",
              "        56573.5554719 , 52147.82118698, 49764.1320816 , 50032.69313676,\n",
              "        47885.62525472, 45604.61575361]))"
            ]
          },
          "metadata": {},
          "execution_count": 135
        }
      ],
      "source": [
        "# Create a naive forecast\n",
        "naive_forecast = y_test[:-1]\n",
        "\n",
        "naive_forecast[:10], naive_forecast[-10:]"
      ]
    },
    {
      "cell_type": "code",
      "execution_count": 136,
      "metadata": {
        "colab": {
          "base_uri": "https://localhost:8080/",
          "height": 0
        },
        "id": "cGcqUIWDcSi5",
        "outputId": "1be4b490-e9ab-4c5b-b9dc-283bf27d2d3d"
      },
      "outputs": [
        {
          "output_type": "display_data",
          "data": {
            "text/plain": [
              "<Figure size 1000x700 with 1 Axes>"
            ],
            "image/png": "[encoded data removed]"
          },
          "metadata": {}
        }
      ],
      "source": [
        "# Plot naive forecast\n",
        "plt.figure(figsize=(10, 7))\n",
        "#plot_time_series(timesteps=X_train, values=y_train, label=\"train data\")\n",
        "plot_time_series(timesteps=X_test, values=y_test, start=350, format=\"-\", label=\"test data\")\n",
        "plot_time_series(timesteps=X_test[1:], values=naive_forecast, start=350, label=\"naiveforcaset\", format=\"-\")"
      ]
    },
    {
      "cell_type": "markdown",
      "metadata": {
        "id": "6HwaMjWrkMKa"
      },
      "source": [
        "> **Exercice:** Spend 10 minutes reading the simple forcasts chapter of Forcasting: Principles in Practice. ANd have a search to find out why the naive forcast is hard to beat, does the term autoregressive come up ?"
      ]
    },
    {
      "cell_type": "markdown",
      "metadata": {
        "id": "QmTrb4jRsWlM"
      },
      "source": [
        "## Evaluating a time series model \n",
        "\n",
        "Let's look into some evaluation metrics for time series forecasting.\n",
        "\n",
        "What are we doing?\n",
        "\n",
        "We're predicting a number, so that means we have a form of a regression problem.\n",
        "\n",
        "Because we're working on a regression problem, we'll need some regression like metrics.\n",
        "\n",
        "A few common regression metrics (whhich can also be used for time series forecasting):\n",
        "* MAE - mean absolute error.\n",
        "* MSE - mean squared error.\n",
        "* RMSE - root mean square error.\n",
        "* MAPE/sMAPE - (symmetric) mean absolute percentage error.\n",
        "* MASE - mean abslute scaled error.\n",
        "\n",
        "For all of the above metrics, **lower is better** for example, for a model achieves an MAE of 0 that is better than an MAE of 100. \n",
        "\n",
        "The main thing we're evaluating here is : **how do our model's forecasts (y_pred) compare against the actual values (y_true or ground truth values) ?**\n",
        "\n",
        "**Ressource: For a deeper dive on the various kinds of time series forecasting methode see Forecasting :[ Principles and Practice chapter 5.8](https://otexts.com/fpp3/accuracy.html)**\n",
        "https://www.sktime.net/en/latest/api_reference/auto_generated/sktime.performance_metrics.forecasting.mean_absolute_scaled_error.html?highlight=MASE%20output%20is%20on#sktime.performance_metrics.forecasting.mean_absolute_scaled_error"
      ]
    },
    {
      "cell_type": "code",
      "execution_count": 137,
      "metadata": {
        "id": "Lzmen2TZsWVI"
      },
      "outputs": [],
      "source": [
        "import tensorflow as tf "
      ]
    },
    {
      "cell_type": "code",
      "execution_count": 138,
      "metadata": {
        "id": "Tp8P2wAicfbp"
      },
      "outputs": [],
      "source": [
        "# MASE implementation\n",
        "# calculate the mean absolute scaled error\n",
        "# calculate the mean absolute scaled error\n",
        "\n",
        "# scale = tf.reduce_mean(tf.abs(y_true[1:] - y_true[:-1]))\n",
        "# error = tf.reduce_mean(tf.abs(y_pred - y_true))\n",
        "# mase = error / scale"
      ]
    },
    {
      "cell_type": "code",
      "execution_count": 139,
      "metadata": {
        "id": "eidmL4TsgDj2"
      },
      "outputs": [],
      "source": [
        "def mean_absolute_scaled_error(y_true, y_pred):\n",
        "  \"\"\"\n",
        "  Implement MASE (assuming no seasonality data).\n",
        "  \"\"\"\n",
        "  mae = tf.reduce_mean(tf.abs(y_true-y_pred))\n",
        "     \n",
        "  # Find MAE of naive forecast\n",
        "  mae_naive_no_season = tf.reduce_mean(tf.abs(y_true[1:] - y_true[:-1])) # our seasonality is 1 day (hence the shift of 1))\n",
        "     \n",
        "  return mae / mae_naive_no_season"
      ]
    },
    {
      "cell_type": "code",
      "execution_count": 140,
      "metadata": {
        "colab": {
          "base_uri": "https://localhost:8080/"
        },
        "id": "VqUWkNQ-IJ1w",
        "outputId": "16eeef41-2d23-4ed8-80b8-f38ed1cf1217"
      },
      "outputs": [
        {
          "output_type": "execute_result",
          "data": {
            "text/plain": [
              "0.9995699939182624"
            ]
          },
          "metadata": {},
          "execution_count": 140
        }
      ],
      "source": [
        "mean_absolute_scaled_error(y_true=y_test[1:], y_pred=naive_forecast).numpy()"
      ]
    },
    {
      "cell_type": "markdown",
      "metadata": {
        "id": "9MyWpMKXCbU-"
      },
      "source": []
    },
    {
      "cell_type": "code",
      "execution_count": 140,
      "metadata": {
        "id": "LnkTFYE2-mjq"
      },
      "outputs": [],
      "source": []
    },
    {
      "cell_type": "code",
      "execution_count": 140,
      "metadata": {
        "id": "OErY-5qABMnS"
      },
      "outputs": [],
      "source": []
    },
    {
      "cell_type": "code",
      "execution_count": 141,
      "metadata": {
        "id": "IsIe1dkFBfQ1"
      },
      "outputs": [],
      "source": [
        "# Create a function to take in model predictions and truth values and return evaluation metrics\n",
        "\n",
        "import tensorflow as tf\n",
        "\n",
        "def evaluate_preds(y_true, y_pred):\n",
        "    \n",
        "    # Make sure float32 datatype (for metric calculations)\n",
        "    y_true = tf.cast(y_true, dtype=tf.float32)\n",
        "    y_pred = tf.cast(y_pred, dtype=tf.float32)\n",
        "\n",
        "    # Vérifier si y_true et y_pred ont la même forme\n",
        "    if len(y_true.shape) > 1 or len(y_pred.shape) > 1:\n",
        "      # Aplatir y_true et y_pred s'ils ont des formes différentes\n",
        "      y_true = tf.reshape(y_true, [-1])\n",
        "      y_pred = tf.reshape(y_pred, [-1])\n",
        "\n",
        "    # Calculate various evaluation metrics \n",
        "    mae = tf.keras.metrics.mean_absolute_error(y_true, y_pred)\n",
        "    mse = tf.keras.metrics.mean_squared_error(y_true, y_pred)\n",
        "    rmse = tf.sqrt(mse)\n",
        "    mape = tf.keras.metrics.mean_absolute_percentage_error(y_true, y_pred)\n",
        "    mase = mean_absolute_scaled_error(y_true, y_pred)\n",
        "\n",
        "    return {\"mae\": mae.numpy(),\n",
        "            \"mape\": mape.numpy(),\n",
        "            \"mase\": mase.numpy(),\n",
        "            \"mse\": mse.numpy(),\n",
        "            \"rmse\": rmse.numpy()}"
      ]
    },
    {
      "cell_type": "code",
      "execution_count": 142,
      "metadata": {
        "colab": {
          "base_uri": "https://localhost:8080/"
        },
        "id": "ZVtcNF_5Eg_x",
        "outputId": "429f650c-994e-4343-9f6a-519285b1a183"
      },
      "outputs": [
        {
          "output_type": "execute_result",
          "data": {
            "text/plain": [
              "{'mae': 567.9802,\n",
              " 'mape': 2.516525,\n",
              " 'mase': 0.99957,\n",
              " 'mse': 1147547.0,\n",
              " 'rmse': 1071.2362}"
            ]
          },
          "metadata": {},
          "execution_count": 142
        }
      ],
      "source": [
        "naive_results = evaluate_preds(y_true=y_test[1:], y_pred=naive_forecast)\n",
        "naive_results"
      ]
    },
    {
      "cell_type": "code",
      "execution_count": 143,
      "metadata": {
        "colab": {
          "base_uri": "https://localhost:8080/"
        },
        "id": "PUb0YQlrJNp7",
        "outputId": "1f6223a8-8804-4f51-c6c9-78acb87b56d8"
      },
      "outputs": [
        {
          "output_type": "execute_result",
          "data": {
            "text/plain": [
              "array([57107.12067189, 58788.20967893, 58102.19142623, 55715.54665129,\n",
              "       56573.5554719 , 52147.82118698, 49764.1320816 , 50032.69313676,\n",
              "       47885.62525472, 45604.61575361])"
            ]
          },
          "metadata": {},
          "execution_count": 143
        }
      ],
      "source": [
        "naive_forecast[-10:]"
      ]
    },
    {
      "cell_type": "code",
      "execution_count": 144,
      "metadata": {
        "colab": {
          "base_uri": "https://localhost:8080/"
        },
        "id": "tgovF5fCF_V8",
        "outputId": "6e832b04-99ac-4f71-b512-d7e1bd2e85cf"
      },
      "outputs": [
        {
          "output_type": "execute_result",
          "data": {
            "text/plain": [
              "<tf.Tensor: shape=(), dtype=float64, numpy=20056.632963737222>"
            ]
          },
          "metadata": {},
          "execution_count": 144
        }
      ],
      "source": [
        "tf.reduce_mean(y_test)"
      ]
    },
    {
      "cell_type": "code",
      "execution_count": 145,
      "metadata": {
        "colab": {
          "base_uri": "https://localhost:8080/"
        },
        "id": "x1SOOJEfGIAu",
        "outputId": "50b64a5b-9320-4cc5-a9cf-60cadba3e6e9"
      },
      "outputs": [
        {
          "output_type": "execute_result",
          "data": {
            "text/plain": [
              "(<tf.Tensor: shape=(), dtype=float64, numpy=4944.7023359837>,\n",
              " <tf.Tensor: shape=(), dtype=float64, numpy=63346.7890351052>)"
            ]
          },
          "metadata": {},
          "execution_count": 145
        }
      ],
      "source": [
        "tf.reduce_min(y_test), tf.reduce_max(y_test)"
      ]
    },
    {
      "cell_type": "markdown",
      "metadata": {
        "id": "hj1f6fxZCK2y"
      },
      "source": [
        "## Other models you can use for baselines and for actual forecasts\n",
        "\n",
        "In this notebook, we're focused on TensorFlow and deep learning models.\n",
        "\n",
        "However therer are plenty of other styles of time series forecasting models you may want to experiment with: https://dev.mrdbourke.com/tensorflow-deep-learning/10_time_series_forecasting_in_tensorflow/#other-kinds-of-time-series-forecasting-models-which-can-be-used-for-baselines-and-actual-forecasts"
      ]
    },
    {
      "cell_type": "markdown",
      "metadata": {
        "id": "irvs8l6AGea4"
      },
      "source": [
        "## Format Data Part 2: Windowing our dataset\n",
        "\n",
        "Why do we window ?\n",
        "\n",
        "We window our time series dataset to turn oue data into a supervised learning problem.\n",
        "\n",
        "```\n",
        "Windowing for one week\n",
        "[0, 1, 2, 3, 4, 5, 6] -> [7]\n",
        "[1, 2, 3, 4, 5, 6, 7] -> [8]\n",
        "[2, 3, 4, 5, 6, 7, 8] -> [9]\n",
        "```"
      ]
    },
    {
      "cell_type": "code",
      "execution_count": 146,
      "metadata": {
        "colab": {
          "base_uri": "https://localhost:8080/"
        },
        "id": "0rMe7g9HGMwl",
        "outputId": "3b3f2157-b413-479e-fc64-ba153baae01b"
      },
      "outputs": [
        {
          "output_type": "execute_result",
          "data": {
            "text/plain": [
              "2229"
            ]
          },
          "metadata": {},
          "execution_count": 146
        }
      ],
      "source": [
        "len(y_train)"
      ]
    },
    {
      "cell_type": "code",
      "execution_count": 147,
      "metadata": {
        "colab": {
          "base_uri": "https://localhost:8080/"
        },
        "id": "4ge3FS6tGcei",
        "outputId": "1818277c-fb06-4c34-8ad6-3a76db7fe907"
      },
      "outputs": [
        {
          "output_type": "stream",
          "name": "stdout",
          "text": [
            "We want to use: [123.65499, 125.455, 108.58483, 118.67466, 121.33866, 120.65533, 121.795]  to predict this: 123.033\n"
          ]
        }
      ],
      "source": [
        "# What we want to do with our Bitcoin data\n",
        "print(f\"We want to use: {btc_price[:7]}  to predict this: {btc_price[7]}\")"
      ]
    },
    {
      "cell_type": "code",
      "execution_count": 148,
      "metadata": {
        "id": "5Wa5XJCKGmtx"
      },
      "outputs": [],
      "source": [
        "# Let's setup global variables for window and horizon size\n",
        "HORIZON = 1 # predict next 1 day\n",
        "WINDOW_SIZE = 7 # use the past week of Bitcoin data to make the prediction"
      ]
    },
    {
      "cell_type": "code",
      "execution_count": 149,
      "metadata": {
        "id": "ukWZp04UHmvo"
      },
      "outputs": [],
      "source": [
        "# Create function to label windowed data\n",
        "def get_labelled_window(x, horizon=HORIZON):\n",
        "  \"\"\"\n",
        "  Creates labels for windowed dataset.\n",
        "\n",
        "  E.g. if horizon=1\n",
        "  input: [0,1,2,3,4,5,6,7] -> Output: ([0,1,2,3,4,5,6], [7])\n",
        "  \"\"\"\n",
        "  return x[:, :-horizon], x[:, -horizon:]"
      ]
    },
    {
      "cell_type": "code",
      "execution_count": 150,
      "metadata": {
        "colab": {
          "base_uri": "https://localhost:8080/"
        },
        "id": "JjlGqOENbQAZ",
        "outputId": "0ed4a300-d074-4613-ae65-6c7dbdceb8c3"
      },
      "outputs": [
        {
          "output_type": "stream",
          "name": "stdout",
          "text": [
            "Window: [0 1 2 3 4 5 6]-> Label: 7\n"
          ]
        }
      ],
      "source": [
        "# Test out the window labelling function\n",
        "test_window, test_label = get_labelled_window(tf.expand_dims(tf.range(8), axis=0))\n",
        "print(f\"Window: {tf.squeeze(test_window).numpy()}-> Label: {tf.squeeze(test_label.numpy())}\")"
      ]
    },
    {
      "cell_type": "markdown",
      "metadata": {
        "id": "Puy1DKV46Mge"
      },
      "source": [
        "We've got a way to label our windowed data.\n",
        "\n",
        "However, this only works on a small scale.\n",
        "\n",
        "We need a way to do the above across our entire time series.\n",
        "\n",
        "We could do this with Python for loops, however, for large time series, that'd be quite slow.\n",
        "\n",
        "To speed things up, we'll leverage NumPy's array indexing - https://numpy.org/doc/stable/reference/arrays.indexing.html\n",
        "\n",
        "Our function will:\n",
        "1. Create a window step of specific window size (e.g. [0,1,2,3,4,5,6])\n",
        "\n",
        "2. Use NumPy indexing to create a 2D array of multiple window steps, for example:\n",
        "```\n",
        "[[0,1,2,3,4,5,6],\n",
        "[0,1,2,3,4,5,6],\n",
        "[0,1,2,3,4,5,6]]\n",
        "```\n",
        "3. Use the 2D array of multiple window steps (from 2. ) to index on a target series (e.g. historical price of Bitcoin)\n",
        "4. Use our `get_labelled_windows()` function we created above to rurn the window steps into the window steps into windows with a specified horizon.\n",
        "\n",
        "> **Resource:** The function we're about to create has been adapted from the following article : https://towardsdatascience.com/fast-and-robust-sliding-window-vectorization-with-numpy-3ad950ed62f5"
      ]
    },
    {
      "cell_type": "code",
      "execution_count": 151,
      "metadata": {
        "id": "OUSKMrjCeoHi"
      },
      "outputs": [],
      "source": [
        "# Create function to view NumPy arrays as windows \n",
        "\n",
        "def make_windows(x, window_size= WINDOW_SIZE, horizon=HORIZON):\n",
        "  \"\"\"\n",
        "  Turns a 1D array into a 2D array of sequential labelled windows of window_size with horizon size labels.\n",
        "  \"\"\"\n",
        "  # 1. Create a window of specific window_size (add the horizon on the end for labelling later)\n",
        "  window_step = np.expand_dims(np.arange(window_size+horizon), axis=0)\n",
        "\n",
        "  # 2. Create a 2D array of multiple window steps (minus 1 to account for 0 indexing)\n",
        "  window_indexes = window_step + np.expand_dims(np.arange(len(x)-(window_size+horizon-1)), axis=0).T # create 2D array of windows of size window_size \n",
        "\n",
        "  #print(f\"Window indexes: \\n{window_indexes, window_indexes.shape}\")\n",
        "\n",
        "  # 3. Index on the target array (a time series) with 2D array of multiple window steps\n",
        "  windowed_array = x[window_indexes]\n",
        "  # print(windowed_array)\n",
        "\n",
        "  # 4. Get the labelled windows\n",
        "  windows, labels = get_labelled_window(windowed_array, horizon=horizon)\n",
        "\n",
        "  return windows, labels"
      ]
    },
    {
      "cell_type": "code",
      "execution_count": 152,
      "metadata": {
        "colab": {
          "base_uri": "https://localhost:8080/"
        },
        "id": "znT-DFQYfZ7U",
        "outputId": "8e513db1-7290-4a2b-e61f-a6392fc280c0"
      },
      "outputs": [
        {
          "output_type": "execute_result",
          "data": {
            "text/plain": [
              "(2780, 2780)"
            ]
          },
          "metadata": {},
          "execution_count": 152
        }
      ],
      "source": [
        "full_windows, full_labels = make_windows(prices, window_size=WINDOW_SIZE, horizon=HORIZON)\n",
        "len(full_windows), len(full_labels)"
      ]
    },
    {
      "cell_type": "code",
      "execution_count": 153,
      "metadata": {
        "colab": {
          "base_uri": "https://localhost:8080/"
        },
        "id": "ap1r9KA3_dAx",
        "outputId": "6e97abdc-6fbb-4ab9-cb5f-cbb14605f5bb"
      },
      "outputs": [
        {
          "output_type": "stream",
          "name": "stdout",
          "text": [
            "Window: [123.65499 125.455   108.58483 118.67466 121.33866 120.65533 121.795  ] -> Label: [123.033]\n",
            "Window: [125.455   108.58483 118.67466 121.33866 120.65533 121.795   123.033  ] -> Label: [124.049]\n",
            "Window: [108.58483 118.67466 121.33866 120.65533 121.795   123.033   124.049  ] -> Label: [125.96116]\n"
          ]
        }
      ],
      "source": [
        "# View the firs 3 windows/labels\n",
        "for i in range(3):\n",
        "  print(f\"Window: {full_windows[i]} -> Label: {full_labels[i]}\")"
      ]
    },
    {
      "cell_type": "code",
      "execution_count": 154,
      "metadata": {
        "colab": {
          "base_uri": "https://localhost:8080/"
        },
        "id": "0IRytSHzAcEZ",
        "outputId": "654d9ed7-badc-4608-94ba-ffde942d9169"
      },
      "outputs": [
        {
          "output_type": "stream",
          "name": "stdout",
          "text": [
            "Window: [58788.20967893 58102.19142623 55715.54665129 56573.5554719\n",
            " 52147.82118698 49764.1320816  50032.69313676] -> Label: [47885.62525472]\n",
            "Window: [58102.19142623 55715.54665129 56573.5554719  52147.82118698\n",
            " 49764.1320816  50032.69313676 47885.62525472] -> Label: [45604.61575361]\n",
            "Window: [55715.54665129 56573.5554719  52147.82118698 49764.1320816\n",
            " 50032.69313676 47885.62525472 45604.61575361] -> Label: [43144.47129086]\n"
          ]
        }
      ],
      "source": [
        "# View the last 3 windows/labels\n",
        "for i in range(3):\n",
        "  print(f\"Window: {full_windows[i-3]} -> Label: {full_labels[i-3]}\")"
      ]
    },
    {
      "cell_type": "code",
      "execution_count": 155,
      "metadata": {
        "colab": {
          "base_uri": "https://localhost:8080/"
        },
        "id": "yVYh3m_kFQPB",
        "outputId": "be8da79e-f387-4e07-b090-c2e7e4301d84"
      },
      "outputs": [
        {
          "output_type": "execute_result",
          "data": {
            "text/plain": [
              "43144.4712908603"
            ]
          },
          "metadata": {},
          "execution_count": 155
        }
      ],
      "source": [
        "prices[-1]"
      ]
    },
    {
      "cell_type": "markdown",
      "metadata": {
        "id": "4S2BlIvcHBb1"
      },
      "source": [
        "**Note:** You can find a function which achieves similar results to the ones we implemented above at [tf.keras.preprocessing.timeseries_dataset_from_array() ](https://www.tensorflow.org/api_docs/python/tf/keras/utils/timeseries_dataset_from_array). Just like ours, it takes in an array and returns a windowed dataset. It has the benefit of returning data in the form of a tf.data.Dataset instance (we'll see how to do this with our own data later)."
      ]
    },
    {
      "cell_type": "markdown",
      "metadata": {
        "id": "2okEd5o4Yh8c"
      },
      "source": [
        "## Turning windows into training and test sets"
      ]
    },
    {
      "cell_type": "code",
      "execution_count": 156,
      "metadata": {
        "id": "QN5OBkV3Y7pl"
      },
      "outputs": [],
      "source": [
        "#full_windows : c'est la separation du dataset sous forme listes de liste x c'est le nombre de windows pour ensuite determiné l horizon qui est windows +1, la valeur qui suit le window (ex 7 pour window et le 8eme  c'est l'horizon )"
      ]
    },
    {
      "cell_type": "code",
      "execution_count": 157,
      "metadata": {
        "colab": {
          "base_uri": "https://localhost:8080/"
        },
        "id": "JOBdHbYOY7ku",
        "outputId": "4a914fdf-a37d-4d01-b340-c8554d814b47"
      },
      "outputs": [
        {
          "output_type": "execute_result",
          "data": {
            "text/plain": [
              "(array([125.455  , 108.58483, 118.67466, 121.33866, 120.65533, 121.795  ,\n",
              "        123.033  ]),\n",
              " array([124.049]))"
            ]
          },
          "metadata": {},
          "execution_count": 157
        }
      ],
      "source": [
        "full_windows[1], full_labels[1]\n"
      ]
    },
    {
      "cell_type": "code",
      "execution_count": 158,
      "metadata": {
        "id": "VdxRneKcG0xq"
      },
      "outputs": [],
      "source": [
        "# Make the train/test splits\n",
        "def make_train_test_splits(windows, labels, test_split=0.2):\n",
        "  \"\"\"\n",
        "  Splits matching pairs of windows and labels into train and test splits.\n",
        "  \"\"\"\n",
        "  split_size = int(len(windows) * (1-test_split)) # this will default to 80% train/20% test\n",
        "  train_windows = windows[:split_size]\n",
        "  train_labels = labels[:split_size]\n",
        "  test_windows = windows[split_size:]\n",
        "  test_labels = labels[split_size:]\n",
        "  return train_windows, test_windows, train_labels, test_labels"
      ]
    },
    {
      "cell_type": "code",
      "execution_count": 159,
      "metadata": {
        "colab": {
          "base_uri": "https://localhost:8080/"
        },
        "id": "LLmkHU9fZQMN",
        "outputId": "f10d2179-3f85-47c2-dac2-99f854ca653d"
      },
      "outputs": [
        {
          "output_type": "execute_result",
          "data": {
            "text/plain": [
              "(2224, 556, 2224, 556)"
            ]
          },
          "metadata": {},
          "execution_count": 159
        }
      ],
      "source": [
        "# Create train and test windows\n",
        "train_windows, test_windows, train_labels, test_labels = make_train_test_splits(full_windows, full_labels)\n",
        "len(train_windows), len(test_windows), len(train_labels), len(test_labels)"
      ]
    },
    {
      "cell_type": "code",
      "execution_count": 160,
      "metadata": {
        "colab": {
          "base_uri": "https://localhost:8080/"
        },
        "id": "RGohxRBNa5t2",
        "outputId": "5781d5f6-8812-41bf-d4f2-f07e7908cc1e"
      },
      "outputs": [
        {
          "output_type": "execute_result",
          "data": {
            "text/plain": [
              "(array([[123.65499, 125.455  , 108.58483, 118.67466, 121.33866, 120.65533,\n",
              "         121.795  ],\n",
              "        [125.455  , 108.58483, 118.67466, 121.33866, 120.65533, 121.795  ,\n",
              "         123.033  ],\n",
              "        [108.58483, 118.67466, 121.33866, 120.65533, 121.795  , 123.033  ,\n",
              "         124.049  ],\n",
              "        [118.67466, 121.33866, 120.65533, 121.795  , 123.033  , 124.049  ,\n",
              "         125.96116],\n",
              "        [121.33866, 120.65533, 121.795  , 123.033  , 124.049  , 125.96116,\n",
              "         125.27966]]),\n",
              " array([[123.033  ],\n",
              "        [124.049  ],\n",
              "        [125.96116],\n",
              "        [125.27966],\n",
              "        [125.9275 ]]))"
            ]
          },
          "metadata": {},
          "execution_count": 160
        }
      ],
      "source": [
        "train_windows[:5], train_labels[:5]"
      ]
    },
    {
      "cell_type": "code",
      "execution_count": 161,
      "metadata": {
        "colab": {
          "base_uri": "https://localhost:8080/"
        },
        "id": "7uwpgGfva7n1",
        "outputId": "c1ea9682-991a-4898-ec36-73b694504a32"
      },
      "outputs": [
        {
          "output_type": "execute_result",
          "data": {
            "text/plain": [
              "(array([[9290.89660239, 9202.41545055, 9369.62808116, 9326.59962378,\n",
              "         9335.75240233, 9226.48582088, 8794.35864452],\n",
              "        [9202.41545055, 9369.62808116, 9326.59962378, 9335.75240233,\n",
              "         9226.48582088, 8794.35864452, 8798.04205463],\n",
              "        [9369.62808116, 9326.59962378, 9335.75240233, 9226.48582088,\n",
              "         8794.35864452, 8798.04205463, 9081.18687849],\n",
              "        [9326.59962378, 9335.75240233, 9226.48582088, 8794.35864452,\n",
              "         8798.04205463, 9081.18687849, 8711.53433917],\n",
              "        [9335.75240233, 9226.48582088, 8794.35864452, 8798.04205463,\n",
              "         9081.18687849, 8711.53433917, 8760.89271814]]),\n",
              " array([[8798.04205463],\n",
              "        [9081.18687849],\n",
              "        [8711.53433917],\n",
              "        [8760.89271814],\n",
              "        [8749.52059102]]))"
            ]
          },
          "metadata": {},
          "execution_count": 161
        }
      ],
      "source": [
        "test_windows[:5], test_labels[:5]"
      ]
    },
    {
      "cell_type": "code",
      "execution_count": 162,
      "metadata": {
        "colab": {
          "base_uri": "https://localhost:8080/"
        },
        "id": "h3G9penqbClW",
        "outputId": "5e31b78a-816a-44c8-c134-f05c17978771"
      },
      "outputs": [
        {
          "output_type": "execute_result",
          "data": {
            "text/plain": [
              "True"
            ]
          },
          "metadata": {},
          "execution_count": 162
        }
      ],
      "source": [
        "# check to see if train labels are the same (before and after window split )\n",
        "np.array_equal(np.squeeze(train_labels[:-HORIZON-1]), y_train[WINDOW_SIZE:]) "
      ]
    },
    {
      "cell_type": "markdown",
      "metadata": {
        "id": "sK0r1SoypMt6"
      },
      "source": [
        "## Make a modelling checkpoint callback\n",
        "\n",
        "Because our model's performance will fluctuate from experiment to experiment, we're goind to write a model checkpoint so we can compare apples to appeles.\n",
        "\n",
        "More specifically, we want to compare each of our model's best performances against the other model's best performances.\n",
        "\n",
        "For example f our model performs the best on epoch 55 (but we're training for 100 epochs), we want to lead and evaluate the model saved on epoch 55. \n",
        "\n",
        "We can create a modelling checkpoint callback using this following : https://www.tensorflow.org/api_docs/python/tf/keras/callbacks/ModelCheckpoint "
      ]
    },
    {
      "cell_type": "code",
      "execution_count": 163,
      "metadata": {
        "id": "Z83-VCkdbJsd"
      },
      "outputs": [],
      "source": [
        "import os\n",
        "\n",
        "# Create a function to implement a ModelCheckpoint callback with a specific filename\n",
        "def create_model_checkpoint(model_name, save_path=\"model_experiments\"):\n",
        "  return tf.keras.callbacks.ModelCheckpoint(\n",
        "      filepath=os.path.join(save_path, model_name),\n",
        "      verbose=0, # only output a limited amount of text\n",
        "      #monitor='val_loss',  # monitor validation loss\n",
        "      #mode='min',  # minimize validation loss\n",
        "      save_best_only=True  # save only the best model\n",
        "      )"
      ]
    },
    {
      "cell_type": "markdown",
      "metadata": {
        "id": "_TQRYvxDrvcE"
      },
      "source": [
        "## Model 1 : Dense model (window = 7, horizon = 1)\n",
        "\n",
        "Our first deep model is going to be a simple dense model:\n",
        "* A single dense layer with 128 hidden units and ReLU\n",
        "* An output layer with linear activation (no activation)\n",
        "* Adam optimization and MAE loss function\n",
        "* Batch size of 128 (previously we've used 32)\n",
        "* 100 epochs \n",
        "\n",
        "Why these values?\n",
        "\n",
        "I picked them out of experimentation.\n",
        "\n",
        "*  **Hyperparameters** = values a machine learning practitioner (you!) can adjust themselves.\n",
        "* **Parameters** = values a model learns on its own."
      ]
    },
    {
      "cell_type": "code",
      "execution_count": 164,
      "metadata": {
        "colab": {
          "base_uri": "https://localhost:8080/"
        },
        "id": "i7640zXUbk1_",
        "outputId": "a974b969-83a0-4682-c2e3-1d12d881e195"
      },
      "outputs": [
        {
          "output_type": "stream",
          "name": "stdout",
          "text": [
            "Epoch 1/100\n",
            " 1/18 [>.............................] - ETA: 14s - loss: 1922.5315 - mae: 1922.5315 - mse: 7700265.0000"
          ]
        },
        {
          "output_type": "stream",
          "name": "stderr",
          "text": [
            "WARNING:absl:Found untraced functions such as _update_step_xla while saving (showing 1 of 1). These functions will not be directly callable after loading.\n"
          ]
        },
        {
          "output_type": "stream",
          "name": "stdout",
          "text": [
            "\b\b\b\b\b\b\b\b\b\b\b\b\b\b\b\b\b\b\b\b\b\b\b\b\b\b\b\b\b\b\b\b\b\b\b\b\b\b\b\b\b\b\b\b\b\b\b\b\b\b\b\b\b\b\b\b\b\b\b\b\b\b\b\b\b\b\b\b\b\b\b\b\b\b\b\b\b\b\b\b\b\b\b\b\b\b\b\b\b\b\b\b\b\b\b\b\b\b\b\b\b\b\b\b\r18/18 [==============================] - 2s 41ms/step - loss: 688.7632 - mae: 688.7632 - mse: 1823346.0000 - val_loss: 1535.3036 - val_mae: 1535.3035 - val_mse: 6549891.5000\n",
            "Epoch 2/100\n",
            "17/18 [===========================>..] - ETA: 0s - loss: 216.6014 - mae: 216.6014 - mse: 217281.9531"
          ]
        },
        {
          "output_type": "stream",
          "name": "stderr",
          "text": [
            "WARNING:absl:Found untraced functions such as _update_step_xla while saving (showing 1 of 1). These functions will not be directly callable after loading.\n"
          ]
        },
        {
          "output_type": "stream",
          "name": "stdout",
          "text": [
            "\b\b\b\b\b\b\b\b\b\b\b\b\b\b\b\b\b\b\b\b\b\b\b\b\b\b\b\b\b\b\b\b\b\b\b\b\b\b\b\b\b\b\b\b\b\b\b\b\b\b\b\b\b\b\b\b\b\b\b\b\b\b\b\b\b\b\b\b\b\b\b\b\b\b\b\b\b\b\b\b\b\b\b\b\b\b\b\b\b\b\b\b\b\b\b\b\b\b\b\b\r18/18 [==============================] - 1s 31ms/step - loss: 215.2311 - mae: 215.2311 - mse: 214451.4375 - val_loss: 1069.5143 - val_mae: 1069.5143 - val_mse: 3708566.2500\n",
            "Epoch 3/100\n",
            " 1/18 [>.............................] - ETA: 0s - loss: 148.2821 - mae: 148.2821 - mse: 85225.6094"
          ]
        },
        {
          "output_type": "stream",
          "name": "stderr",
          "text": [
            "WARNING:absl:Found untraced functions such as _update_step_xla while saving (showing 1 of 1). These functions will not be directly callable after loading.\n"
          ]
        },
        {
          "output_type": "stream",
          "name": "stdout",
          "text": [
            "\b\b\b\b\b\b\b\b\b\b\b\b\b\b\b\b\b\b\b\b\b\b\b\b\b\b\b\b\b\b\b\b\b\b\b\b\b\b\b\b\b\b\b\b\b\b\b\b\b\b\b\b\b\b\b\b\b\b\b\b\b\b\b\b\b\b\b\b\b\b\b\b\b\b\b\b\b\b\b\b\b\b\b\b\b\b\b\b\b\b\b\b\b\b\b\b\b\b\b\r18/18 [==============================] - 1s 32ms/step - loss: 172.4422 - mae: 172.4422 - mse: 150955.5000 - val_loss: 912.2550 - val_mae: 912.2550 - val_mse: 2727888.5000\n",
            "Epoch 4/100\n",
            "14/18 [======================>.......] - ETA: 0s - loss: 160.0669 - mae: 160.0669 - mse: 141064.3594"
          ]
        },
        {
          "output_type": "stream",
          "name": "stderr",
          "text": [
            "WARNING:absl:Found untraced functions such as _update_step_xla while saving (showing 1 of 1). These functions will not be directly callable after loading.\n"
          ]
        },
        {
          "output_type": "stream",
          "name": "stdout",
          "text": [
            "\b\b\b\b\b\b\b\b\b\b\b\b\b\b\b\b\b\b\b\b\b\b\b\b\b\b\b\b\b\b\b\b\b\b\b\b\b\b\b\b\b\b\b\b\b\b\b\b\b\b\b\b\b\b\b\b\b\b\b\b\b\b\b\b\b\b\b\b\b\b\b\b\b\b\b\b\b\b\b\b\b\b\b\b\b\b\b\b\b\b\b\b\b\b\b\b\b\b\b\b\r18/18 [==============================] - 1s 32ms/step - loss: 154.5325 - mae: 154.5325 - mse: 130484.0312 - val_loss: 843.2134 - val_mae: 843.2134 - val_mse: 2280326.0000\n",
            "Epoch 5/100\n",
            " 1/18 [>.............................] - ETA: 0s - loss: 137.3572 - mae: 137.3572 - mse: 63238.0664"
          ]
        },
        {
          "output_type": "stream",
          "name": "stderr",
          "text": [
            "WARNING:absl:Found untraced functions such as _update_step_xla while saving (showing 1 of 1). These functions will not be directly callable after loading.\n"
          ]
        },
        {
          "output_type": "stream",
          "name": "stdout",
          "text": [
            "\b\b\b\b\b\b\b\b\b\b\b\b\b\b\b\b\b\b\b\b\b\b\b\b\b\b\b\b\b\b\b\b\b\b\b\b\b\b\b\b\b\b\b\b\b\b\b\b\b\b\b\b\b\b\b\b\b\b\b\b\b\b\b\b\b\b\b\b\b\b\b\b\b\b\b\b\b\b\b\b\b\b\b\b\b\b\b\b\b\b\b\b\b\b\b\b\b\b\b\r18/18 [==============================] - 1s 56ms/step - loss: 144.3753 - mae: 144.3753 - mse: 114166.1797 - val_loss: 787.8150 - val_mae: 787.8150 - val_mse: 2105199.2500\n",
            "Epoch 6/100\n",
            "18/18 [==============================] - 0s 10ms/step - loss: 143.3707 - mae: 143.3707 - mse: 109117.5000 - val_loss: 814.2489 - val_mae: 814.2489 - val_mse: 2010359.7500\n",
            "Epoch 7/100\n",
            "14/18 [======================>.......] - ETA: 0s - loss: 141.9059 - mae: 141.9059 - mse: 113389.1719"
          ]
        },
        {
          "output_type": "stream",
          "name": "stderr",
          "text": [
            "WARNING:absl:Found untraced functions such as _update_step_xla while saving (showing 1 of 1). These functions will not be directly callable after loading.\n"
          ]
        },
        {
          "output_type": "stream",
          "name": "stdout",
          "text": [
            "\b\b\b\b\b\b\b\b\b\b\b\b\b\b\b\b\b\b\b\b\b\b\b\b\b\b\b\b\b\b\b\b\b\b\b\b\b\b\b\b\b\b\b\b\b\b\b\b\b\b\b\b\b\b\b\b\b\b\b\b\b\b\b\b\b\b\b\b\b\b\b\b\b\b\b\b\b\b\b\b\b\b\b\b\b\b\b\b\b\b\b\b\b\b\b\b\b\b\b\b\r18/18 [==============================] - 1s 58ms/step - loss: 137.7748 - mae: 137.7748 - mse: 104654.3047 - val_loss: 717.0343 - val_mae: 717.0343 - val_mse: 1753902.7500\n",
            "Epoch 8/100\n",
            "15/18 [========================>.....] - ETA: 0s - loss: 128.6019 - mae: 128.6019 - mse: 94677.6641"
          ]
        },
        {
          "output_type": "stream",
          "name": "stderr",
          "text": [
            "WARNING:absl:Found untraced functions such as _update_step_xla while saving (showing 1 of 1). These functions will not be directly callable after loading.\n"
          ]
        },
        {
          "output_type": "stream",
          "name": "stdout",
          "text": [
            "\b\b\b\b\b\b\b\b\b\b\b\b\b\b\b\b\b\b\b\b\b\b\b\b\b\b\b\b\b\b\b\b\b\b\b\b\b\b\b\b\b\b\b\b\b\b\b\b\b\b\b\b\b\b\b\b\b\b\b\b\b\b\b\b\b\b\b\b\b\b\b\b\b\b\b\b\b\b\b\b\b\b\b\b\b\b\b\b\b\b\b\b\b\b\b\b\b\b\b\r18/18 [==============================] - 1s 81ms/step - loss: 128.3840 - mae: 128.3840 - mse: 94021.8906 - val_loss: 708.5474 - val_mae: 708.5474 - val_mse: 1707125.2500\n",
            "Epoch 9/100\n",
            "16/18 [=========================>....] - ETA: 0s - loss: 130.8546 - mae: 130.8546 - mse: 97849.0938"
          ]
        },
        {
          "output_type": "stream",
          "name": "stderr",
          "text": [
            "WARNING:absl:Found untraced functions such as _update_step_xla while saving (showing 1 of 1). These functions will not be directly callable after loading.\n"
          ]
        },
        {
          "output_type": "stream",
          "name": "stdout",
          "text": [
            "\b\b\b\b\b\b\b\b\b\b\b\b\b\b\b\b\b\b\b\b\b\b\b\b\b\b\b\b\b\b\b\b\b\b\b\b\b\b\b\b\b\b\b\b\b\b\b\b\b\b\b\b\b\b\b\b\b\b\b\b\b\b\b\b\b\b\b\b\b\b\b\b\b\b\b\b\b\b\b\b\b\b\b\b\b\b\b\b\b\b\b\b\b\b\b\b\b\b\b\r18/18 [==============================] - 2s 102ms/step - loss: 128.6409 - mae: 128.6409 - mse: 94334.1250 - val_loss: 688.1868 - val_mae: 688.1868 - val_mse: 1585054.5000\n",
            "Epoch 10/100\n",
            "18/18 [==============================] - ETA: 0s - loss: 125.8111 - mae: 125.8111 - mse: 91866.5000"
          ]
        },
        {
          "output_type": "stream",
          "name": "stderr",
          "text": [
            "WARNING:absl:Found untraced functions such as _update_step_xla while saving (showing 1 of 1). These functions will not be directly callable after loading.\n"
          ]
        },
        {
          "output_type": "stream",
          "name": "stdout",
          "text": [
            "\b\b\b\b\b\b\b\b\b\b\b\b\b\b\b\b\b\b\b\b\b\b\b\b\b\b\b\b\b\b\b\b\b\b\b\b\b\b\b\b\b\b\b\b\b\b\b\b\b\b\b\b\b\b\b\b\b\b\b\b\b\b\b\b\b\b\b\b\b\b\b\b\b\b\b\b\b\b\b\b\b\b\b\b\b\b\b\b\b\b\b\b\b\b\b\b\b\b\b\r18/18 [==============================] - 2s 101ms/step - loss: 125.8111 - mae: 125.8111 - mse: 91866.5000 - val_loss: 674.7724 - val_mae: 674.7724 - val_mse: 1522367.7500\n",
            "Epoch 11/100\n",
            "15/18 [========================>.....] - ETA: 0s - loss: 120.6711 - mae: 120.6711 - mse: 86064.7656"
          ]
        },
        {
          "output_type": "stream",
          "name": "stderr",
          "text": [
            "WARNING:absl:Found untraced functions such as _update_step_xla while saving (showing 1 of 1). These functions will not be directly callable after loading.\n"
          ]
        },
        {
          "output_type": "stream",
          "name": "stdout",
          "text": [
            "\b\b\b\b\b\b\b\b\b\b\b\b\b\b\b\b\b\b\b\b\b\b\b\b\b\b\b\b\b\b\b\b\b\b\b\b\b\b\b\b\b\b\b\b\b\b\b\b\b\b\b\b\b\b\b\b\b\b\b\b\b\b\b\b\b\b\b\b\b\b\b\b\b\b\b\b\b\b\b\b\b\b\b\b\b\b\b\b\b\b\b\b\b\b\b\b\b\b\b\r18/18 [==============================] - 1s 63ms/step - loss: 119.4791 - mae: 119.4791 - mse: 84631.5312 - val_loss: 672.9097 - val_mae: 672.9097 - val_mse: 1490053.2500\n",
            "Epoch 12/100\n",
            "18/18 [==============================] - 0s 11ms/step - loss: 120.0208 - mae: 120.0208 - mse: 84913.5000 - val_loss: 739.6692 - val_mae: 739.6692 - val_mse: 1646794.3750\n",
            "Epoch 13/100\n",
            "18/18 [==============================] - 0s 12ms/step - loss: 123.5663 - mae: 123.5663 - mse: 85950.3672 - val_loss: 688.3594 - val_mae: 688.3594 - val_mse: 1500570.0000\n",
            "Epoch 14/100\n",
            "12/18 [===================>..........] - ETA: 0s - loss: 113.2700 - mae: 113.2700 - mse: 77160.5625"
          ]
        },
        {
          "output_type": "stream",
          "name": "stderr",
          "text": [
            "WARNING:absl:Found untraced functions such as _update_step_xla while saving (showing 1 of 1). These functions will not be directly callable after loading.\n"
          ]
        },
        {
          "output_type": "stream",
          "name": "stdout",
          "text": [
            "\b\b\b\b\b\b\b\b\b\b\b\b\b\b\b\b\b\b\b\b\b\b\b\b\b\b\b\b\b\b\b\b\b\b\b\b\b\b\b\b\b\b\b\b\b\b\b\b\b\b\b\b\b\b\b\b\b\b\b\b\b\b\b\b\b\b\b\b\b\b\b\b\b\b\b\b\b\b\b\b\b\b\b\b\b\b\b\b\b\b\b\b\b\b\b\b\b\b\b\r18/18 [==============================] - 1s 65ms/step - loss: 115.5488 - mae: 115.5488 - mse: 80621.5078 - val_loss: 635.0330 - val_mae: 635.0330 - val_mse: 1373272.0000\n",
            "Epoch 15/100\n",
            "18/18 [==============================] - 0s 14ms/step - loss: 117.8513 - mae: 117.8513 - mse: 80977.6641 - val_loss: 665.2726 - val_mae: 665.2726 - val_mse: 1471954.8750\n",
            "Epoch 16/100\n",
            " 9/18 [==============>...............] - ETA: 0s - loss: 109.5777 - mae: 109.5777 - mse: 68022.7891"
          ]
        },
        {
          "output_type": "stream",
          "name": "stderr",
          "text": [
            "WARNING:absl:Found untraced functions such as _update_step_xla while saving (showing 1 of 1). These functions will not be directly callable after loading.\n"
          ]
        },
        {
          "output_type": "stream",
          "name": "stdout",
          "text": [
            "\b\b\b\b\b\b\b\b\b\b\b\b\b\b\b\b\b\b\b\b\b\b\b\b\b\b\b\b\b\b\b\b\b\b\b\b\b\b\b\b\b\b\b\b\b\b\b\b\b\b\b\b\b\b\b\b\b\b\b\b\b\b\b\b\b\b\b\b\b\b\b\b\b\b\b\b\b\b\b\b\b\b\b\b\b\b\b\b\b\b\b\b\b\b\b\b\b\b\b\r18/18 [==============================] - 1s 75ms/step - loss: 114.5506 - mae: 114.5506 - mse: 77842.3359 - val_loss: 632.5179 - val_mae: 632.5179 - val_mse: 1349993.2500\n",
            "Epoch 17/100\n",
            "13/18 [====================>.........] - ETA: 0s - loss: 113.8948 - mae: 113.8948 - mse: 76735.3203"
          ]
        },
        {
          "output_type": "stream",
          "name": "stderr",
          "text": [
            "WARNING:absl:Found untraced functions such as _update_step_xla while saving (showing 1 of 1). These functions will not be directly callable after loading.\n"
          ]
        },
        {
          "output_type": "stream",
          "name": "stdout",
          "text": [
            "\b\b\b\b\b\b\b\b\b\b\b\b\b\b\b\b\b\b\b\b\b\b\b\b\b\b\b\b\b\b\b\b\b\b\b\b\b\b\b\b\b\b\b\b\b\b\b\b\b\b\b\b\b\b\b\b\b\b\b\b\b\b\b\b\b\b\b\b\b\b\b\b\b\b\b\b\b\b\b\b\b\b\b\b\b\b\b\b\b\b\b\b\b\b\b\b\b\b\b\r18/18 [==============================] - 1s 62ms/step - loss: 112.7502 - mae: 112.7502 - mse: 77529.6172 - val_loss: 630.5754 - val_mae: 630.5754 - val_mse: 1339617.8750\n",
            "Epoch 18/100\n",
            " 8/18 [============>.................] - ETA: 0s - loss: 124.8416 - mae: 124.8416 - mse: 89909.6328"
          ]
        },
        {
          "output_type": "stream",
          "name": "stderr",
          "text": [
            "WARNING:absl:Found untraced functions such as _update_step_xla while saving (showing 1 of 1). These functions will not be directly callable after loading.\n"
          ]
        },
        {
          "output_type": "stream",
          "name": "stdout",
          "text": [
            "\b\b\b\b\b\b\b\b\b\b\b\b\b\b\b\b\b\b\b\b\b\b\b\b\b\b\b\b\b\b\b\b\b\b\b\b\b\b\b\b\b\b\b\b\b\b\b\b\b\b\b\b\b\b\b\b\b\b\b\b\b\b\b\b\b\b\b\b\b\b\b\b\b\b\b\b\b\b\b\b\b\b\b\b\b\b\b\b\b\b\b\b\b\b\b\b\b\b\b\r18/18 [==============================] - 1s 70ms/step - loss: 112.7760 - mae: 112.7760 - mse: 76918.6719 - val_loss: 610.7894 - val_mae: 610.7894 - val_mse: 1313389.6250\n",
            "Epoch 19/100\n",
            "18/18 [==============================] - 0s 10ms/step - loss: 115.2709 - mae: 115.2709 - mse: 78347.3203 - val_loss: 698.2288 - val_mae: 698.2288 - val_mse: 1484541.8750\n",
            "Epoch 20/100\n",
            "18/18 [==============================] - 0s 12ms/step - loss: 115.7367 - mae: 115.7367 - mse: 77696.4688 - val_loss: 642.7921 - val_mae: 642.7921 - val_mse: 1353295.5000\n",
            "Epoch 21/100\n",
            "12/18 [===================>..........] - ETA: 0s - loss: 115.2388 - mae: 115.2388 - mse: 73820.0703"
          ]
        },
        {
          "output_type": "stream",
          "name": "stderr",
          "text": [
            "WARNING:absl:Found untraced functions such as _update_step_xla while saving (showing 1 of 1). These functions will not be directly callable after loading.\n"
          ]
        },
        {
          "output_type": "stream",
          "name": "stdout",
          "text": [
            "\b\b\b\b\b\b\b\b\b\b\b\b\b\b\b\b\b\b\b\b\b\b\b\b\b\b\b\b\b\b\b\b\b\b\b\b\b\b\b\b\b\b\b\b\b\b\b\b\b\b\b\b\b\b\b\b\b\b\b\b\b\b\b\b\b\b\b\b\b\b\b\b\b\b\b\b\b\b\b\b\b\b\b\b\b\b\b\b\b\b\b\b\b\b\b\b\b\b\b\r18/18 [==============================] - 1s 53ms/step - loss: 115.2879 - mae: 115.2879 - mse: 77505.5859 - val_loss: 608.0733 - val_mae: 608.0733 - val_mse: 1300807.1250\n",
            "Epoch 22/100\n",
            "12/18 [===================>..........] - ETA: 0s - loss: 125.1365 - mae: 125.1365 - mse: 94631.7578 "
          ]
        },
        {
          "output_type": "stream",
          "name": "stderr",
          "text": [
            "WARNING:absl:Found untraced functions such as _update_step_xla while saving (showing 1 of 1). These functions will not be directly callable after loading.\n"
          ]
        },
        {
          "output_type": "stream",
          "name": "stdout",
          "text": [
            "\b\b\b\b\b\b\b\b\b\b\b\b\b\b\b\b\b\b\b\b\b\b\b\b\b\b\b\b\b\b\b\b\b\b\b\b\b\b\b\b\b\b\b\b\b\b\b\b\b\b\b\b\b\b\b\b\b\b\b\b\b\b\b\b\b\b\b\b\b\b\b\b\b\b\b\b\b\b\b\b\b\b\b\b\b\b\b\b\b\b\b\b\b\b\b\b\b\b\b\r18/18 [==============================] - 1s 82ms/step - loss: 113.7568 - mae: 113.7568 - mse: 77783.5234 - val_loss: 598.3557 - val_mae: 598.3557 - val_mse: 1268372.5000\n",
            "Epoch 23/100\n",
            "15/18 [========================>.....] - ETA: 0s - loss: 113.0364 - mae: 113.0364 - mse: 74355.3359"
          ]
        },
        {
          "output_type": "stream",
          "name": "stderr",
          "text": [
            "WARNING:absl:Found untraced functions such as _update_step_xla while saving (showing 1 of 1). These functions will not be directly callable after loading.\n"
          ]
        },
        {
          "output_type": "stream",
          "name": "stdout",
          "text": [
            "\b\b\b\b\b\b\b\b\b\b\b\b\b\b\b\b\b\b\b\b\b\b\b\b\b\b\b\b\b\b\b\b\b\b\b\b\b\b\b\b\b\b\b\b\b\b\b\b\b\b\b\b\b\b\b\b\b\b\b\b\b\b\b\b\b\b\b\b\b\b\b\b\b\b\b\b\b\b\b\b\b\b\b\b\b\b\b\b\b\b\b\b\b\b\b\b\b\b\b\r18/18 [==============================] - 2s 114ms/step - loss: 112.3136 - mae: 112.3136 - mse: 75928.0625 - val_loss: 595.5321 - val_mae: 595.5321 - val_mse: 1264776.0000\n",
            "Epoch 24/100\n",
            "11/18 [=================>............] - ETA: 0s - loss: 111.8378 - mae: 111.8378 - mse: 83889.3828"
          ]
        },
        {
          "output_type": "stream",
          "name": "stderr",
          "text": [
            "WARNING:absl:Found untraced functions such as _update_step_xla while saving (showing 1 of 1). These functions will not be directly callable after loading.\n"
          ]
        },
        {
          "output_type": "stream",
          "name": "stdout",
          "text": [
            "\b\b\b\b\b\b\b\b\b\b\b\b\b\b\b\b\b\b\b\b\b\b\b\b\b\b\b\b\b\b\b\b\b\b\b\b\b\b\b\b\b\b\b\b\b\b\b\b\b\b\b\b\b\b\b\b\b\b\b\b\b\b\b\b\b\b\b\b\b\b\b\b\b\b\b\b\b\b\b\b\b\b\b\b\b\b\b\b\b\b\b\b\b\b\b\b\b\b\b\r18/18 [==============================] - 2s 91ms/step - loss: 110.8432 - mae: 110.8432 - mse: 76264.7500 - val_loss: 594.5700 - val_mae: 594.5700 - val_mse: 1262731.7500\n",
            "Epoch 25/100\n",
            "13/18 [====================>.........] - ETA: 0s - loss: 112.4644 - mae: 112.4644 - mse: 73010.2812"
          ]
        },
        {
          "output_type": "stream",
          "name": "stderr",
          "text": [
            "WARNING:absl:Found untraced functions such as _update_step_xla while saving (showing 1 of 1). These functions will not be directly callable after loading.\n"
          ]
        },
        {
          "output_type": "stream",
          "name": "stdout",
          "text": [
            "\b\b\b\b\b\b\b\b\b\b\b\b\b\b\b\b\b\b\b\b\b\b\b\b\b\b\b\b\b\b\b\b\b\b\b\b\b\b\b\b\b\b\b\b\b\b\b\b\b\b\b\b\b\b\b\b\b\b\b\b\b\b\b\b\b\b\b\b\b\b\b\b\b\b\b\b\b\b\b\b\b\b\b\b\b\b\b\b\b\b\b\b\b\b\b\b\b\b\b\r18/18 [==============================] - 1s 58ms/step - loss: 110.5233 - mae: 110.5233 - mse: 74475.5547 - val_loss: 593.0004 - val_mae: 593.0004 - val_mse: 1256225.1250\n",
            "Epoch 26/100\n",
            "15/18 [========================>.....] - ETA: 0s - loss: 114.7998 - mae: 114.7998 - mse: 74111.4219"
          ]
        },
        {
          "output_type": "stream",
          "name": "stderr",
          "text": [
            "WARNING:absl:Found untraced functions such as _update_step_xla while saving (showing 1 of 1). These functions will not be directly callable after loading.\n"
          ]
        },
        {
          "output_type": "stream",
          "name": "stdout",
          "text": [
            "\b\b\b\b\b\b\b\b\b\b\b\b\b\b\b\b\b\b\b\b\b\b\b\b\b\b\b\b\b\b\b\b\b\b\b\b\b\b\b\b\b\b\b\b\b\b\b\b\b\b\b\b\b\b\b\b\b\b\b\b\b\b\b\b\b\b\b\b\b\b\b\b\b\b\b\b\b\b\b\b\b\b\b\b\b\b\b\b\b\b\b\b\b\b\b\b\b\b\b\r18/18 [==============================] - 1s 60ms/step - loss: 111.6838 - mae: 111.6838 - mse: 74186.4766 - val_loss: 590.5019 - val_mae: 590.5019 - val_mse: 1252656.3750\n",
            "Epoch 27/100\n",
            "18/18 [==============================] - 0s 7ms/step - loss: 112.6348 - mae: 112.6348 - mse: 74955.5312 - val_loss: 593.5573 - val_mae: 593.5573 - val_mse: 1246151.1250\n",
            "Epoch 28/100\n",
            "18/18 [==============================] - 0s 11ms/step - loss: 110.2046 - mae: 110.2046 - mse: 73443.9531 - val_loss: 618.6509 - val_mae: 618.6509 - val_mse: 1312758.7500\n",
            "Epoch 29/100\n",
            "18/18 [==============================] - 0s 9ms/step - loss: 109.3323 - mae: 109.3323 - mse: 74077.5703 - val_loss: 619.2061 - val_mae: 619.2061 - val_mse: 1281985.2500\n",
            "Epoch 30/100\n",
            "18/18 [==============================] - 0s 10ms/step - loss: 114.1778 - mae: 114.1778 - mse: 76591.0859 - val_loss: 607.7883 - val_mae: 607.7883 - val_mse: 1260724.0000\n",
            "Epoch 31/100\n",
            "18/18 [==============================] - 0s 12ms/step - loss: 115.8737 - mae: 115.8737 - mse: 74827.4922 - val_loss: 780.8789 - val_mae: 780.8789 - val_mse: 1705259.3750\n",
            "Epoch 32/100\n",
            "18/18 [==============================] - 0s 20ms/step - loss: 115.4135 - mae: 115.4135 - mse: 78895.0469 - val_loss: 592.6931 - val_mae: 592.6931 - val_mse: 1239034.5000\n",
            "Epoch 33/100\n",
            "18/18 [==============================] - 0s 12ms/step - loss: 109.9924 - mae: 109.9924 - mse: 72803.3359 - val_loss: 609.6461 - val_mae: 609.6461 - val_mse: 1261157.2500\n",
            "Epoch 34/100\n",
            "18/18 [==============================] - 0s 13ms/step - loss: 109.3740 - mae: 109.3740 - mse: 73665.5000 - val_loss: 591.2583 - val_mae: 591.2583 - val_mse: 1253471.1250\n",
            "Epoch 35/100\n",
            " 9/18 [==============>...............] - ETA: 0s - loss: 103.9663 - mae: 103.9663 - mse: 61244.2930"
          ]
        },
        {
          "output_type": "stream",
          "name": "stderr",
          "text": [
            "WARNING:absl:Found untraced functions such as _update_step_xla while saving (showing 1 of 1). These functions will not be directly callable after loading.\n"
          ]
        },
        {
          "output_type": "stream",
          "name": "stdout",
          "text": [
            "\b\b\b\b\b\b\b\b\b\b\b\b\b\b\b\b\b\b\b\b\b\b\b\b\b\b\b\b\b\b\b\b\b\b\b\b\b\b\b\b\b\b\b\b\b\b\b\b\b\b\b\b\b\b\b\b\b\b\b\b\b\b\b\b\b\b\b\b\b\b\b\b\b\b\b\b\b\b\b\b\b\b\b\b\b\b\b\b\b\b\b\b\b\b\b\b\b\b\b\r18/18 [==============================] - 1s 34ms/step - loss: 109.0111 - mae: 109.0111 - mse: 72670.1172 - val_loss: 586.9911 - val_mae: 586.9911 - val_mse: 1228381.5000\n",
            "Epoch 36/100\n",
            "18/18 [==============================] - 0s 5ms/step - loss: 117.4923 - mae: 117.4923 - mse: 76436.8281 - val_loss: 628.4163 - val_mae: 628.4163 - val_mse: 1292717.1250\n",
            "Epoch 37/100\n",
            "18/18 [==============================] - ETA: 0s - loss: 109.3958 - mae: 109.3958 - mse: 73246.2266 "
          ]
        },
        {
          "output_type": "stream",
          "name": "stderr",
          "text": [
            "WARNING:absl:Found untraced functions such as _update_step_xla while saving (showing 1 of 1). These functions will not be directly callable after loading.\n"
          ]
        },
        {
          "output_type": "stream",
          "name": "stdout",
          "text": [
            "\b\b\b\b\b\b\b\b\b\b\b\b\b\b\b\b\b\b\b\b\b\b\b\b\b\b\b\b\b\b\b\b\b\b\b\b\b\b\b\b\b\b\b\b\b\b\b\b\b\b\b\b\b\b\b\b\b\b\b\b\b\b\b\b\b\b\b\b\b\b\b\b\b\b\b\b\b\b\b\b\b\b\b\b\b\b\b\b\b\b\b\b\b\b\b\b\b\b\b\r18/18 [==============================] - 1s 31ms/step - loss: 109.3958 - mae: 109.3958 - mse: 73246.2266 - val_loss: 583.3046 - val_mae: 583.3046 - val_mse: 1223295.3750\n",
            "Epoch 38/100\n",
            "18/18 [==============================] - 0s 5ms/step - loss: 110.4312 - mae: 110.4312 - mse: 72926.2812 - val_loss: 607.6599 - val_mae: 607.6599 - val_mse: 1279806.6250\n",
            "Epoch 39/100\n",
            "18/18 [==============================] - 0s 5ms/step - loss: 112.4257 - mae: 112.4257 - mse: 72821.7188 - val_loss: 634.0790 - val_mae: 634.0790 - val_mse: 1341453.3750\n",
            "Epoch 40/100\n",
            "18/18 [==============================] - 0s 6ms/step - loss: 108.0761 - mae: 108.0761 - mse: 72578.6406 - val_loss: 589.1459 - val_mae: 589.1459 - val_mse: 1236287.7500\n",
            "Epoch 41/100\n",
            "18/18 [==============================] - 0s 5ms/step - loss: 108.5860 - mae: 108.5860 - mse: 71620.7500 - val_loss: 615.2939 - val_mae: 615.2939 - val_mse: 1296568.2500\n",
            "Epoch 42/100\n",
            "18/18 [==============================] - 0s 5ms/step - loss: 112.4457 - mae: 112.4457 - mse: 75474.4453 - val_loss: 597.6519 - val_mae: 597.6519 - val_mse: 1231992.0000\n",
            "Epoch 43/100\n",
            "18/18 [==============================] - 0s 5ms/step - loss: 109.2408 - mae: 109.2408 - mse: 70946.0000 - val_loss: 607.5882 - val_mae: 607.5882 - val_mse: 1276979.3750\n",
            "Epoch 44/100\n",
            "18/18 [==============================] - 0s 5ms/step - loss: 112.2878 - mae: 112.2878 - mse: 73376.6719 - val_loss: 598.0231 - val_mae: 598.0231 - val_mse: 1254213.6250\n",
            "Epoch 45/100\n",
            "18/18 [==============================] - 0s 5ms/step - loss: 107.3007 - mae: 107.3007 - mse: 71774.2734 - val_loss: 583.7324 - val_mae: 583.7324 - val_mse: 1224655.7500\n",
            "Epoch 46/100\n",
            "16/18 [=========================>....] - ETA: 0s - loss: 109.3402 - mae: 109.3402 - mse: 72138.0156"
          ]
        },
        {
          "output_type": "stream",
          "name": "stderr",
          "text": [
            "WARNING:absl:Found untraced functions such as _update_step_xla while saving (showing 1 of 1). These functions will not be directly callable after loading.\n"
          ]
        },
        {
          "output_type": "stream",
          "name": "stdout",
          "text": [
            "\b\b\b\b\b\b\b\b\b\b\b\b\b\b\b\b\b\b\b\b\b\b\b\b\b\b\b\b\b\b\b\b\b\b\b\b\b\b\b\b\b\b\b\b\b\b\b\b\b\b\b\b\b\b\b\b\b\b\b\b\b\b\b\b\b\b\b\b\b\b\b\b\b\b\b\b\b\b\b\b\b\b\b\b\b\b\b\b\b\b\b\b\b\b\b\b\b\b\b\r18/18 [==============================] - 1s 32ms/step - loss: 109.0007 - mae: 109.0007 - mse: 70836.9141 - val_loss: 578.6936 - val_mae: 578.6936 - val_mse: 1206875.1250\n",
            "Epoch 47/100\n",
            "18/18 [==============================] - 0s 5ms/step - loss: 108.8887 - mae: 108.8887 - mse: 72754.4922 - val_loss: 627.2955 - val_mae: 627.2955 - val_mse: 1284259.1250\n",
            "Epoch 48/100\n",
            "18/18 [==============================] - 0s 5ms/step - loss: 107.8933 - mae: 107.8933 - mse: 71647.1016 - val_loss: 603.5769 - val_mae: 603.5769 - val_mse: 1238094.5000\n",
            "Epoch 49/100\n",
            "18/18 [==============================] - 0s 5ms/step - loss: 108.7344 - mae: 108.7344 - mse: 71681.8359 - val_loss: 585.3381 - val_mae: 585.3381 - val_mse: 1214356.0000\n",
            "Epoch 50/100\n",
            "18/18 [==============================] - 0s 6ms/step - loss: 108.7867 - mae: 108.7867 - mse: 71992.5000 - val_loss: 682.7349 - val_mae: 682.7349 - val_mse: 1463248.7500\n",
            "Epoch 51/100\n",
            "18/18 [==============================] - 0s 5ms/step - loss: 112.4395 - mae: 112.4395 - mse: 74266.0469 - val_loss: 589.6617 - val_mae: 589.6617 - val_mse: 1213766.0000\n",
            "Epoch 52/100\n",
            "18/18 [==============================] - 0s 5ms/step - loss: 110.1801 - mae: 110.1801 - mse: 73964.2031 - val_loss: 580.6093 - val_mae: 580.6093 - val_mse: 1212490.1250\n",
            "Epoch 53/100\n",
            "18/18 [==============================] - 0s 5ms/step - loss: 109.1942 - mae: 109.1942 - mse: 71895.2266 - val_loss: 628.2880 - val_mae: 628.2880 - val_mse: 1287141.1250\n",
            "Epoch 54/100\n",
            "18/18 [==============================] - ETA: 0s - loss: 110.5490 - mae: 110.5490 - mse: 71434.0625"
          ]
        },
        {
          "output_type": "stream",
          "name": "stderr",
          "text": [
            "WARNING:absl:Found untraced functions such as _update_step_xla while saving (showing 1 of 1). These functions will not be directly callable after loading.\n"
          ]
        },
        {
          "output_type": "stream",
          "name": "stdout",
          "text": [
            "\b\b\b\b\b\b\b\b\b\b\b\b\b\b\b\b\b\b\b\b\b\b\b\b\b\b\b\b\b\b\b\b\b\b\b\b\b\b\b\b\b\b\b\b\b\b\b\b\b\b\b\b\b\b\b\b\b\b\b\b\b\b\b\b\b\b\b\b\b\b\b\b\b\b\b\b\b\b\b\b\b\b\b\b\b\b\b\b\b\b\b\b\b\b\b\b\b\b\b\r18/18 [==============================] - 1s 31ms/step - loss: 110.5490 - mae: 110.5490 - mse: 71434.0625 - val_loss: 576.1277 - val_mae: 576.1277 - val_mse: 1195463.3750\n",
            "Epoch 55/100\n",
            "18/18 [==============================] - 0s 5ms/step - loss: 110.6571 - mae: 110.6571 - mse: 74623.7344 - val_loss: 576.2167 - val_mae: 576.2167 - val_mse: 1199795.7500\n",
            "Epoch 56/100\n",
            "18/18 [==============================] - 0s 5ms/step - loss: 107.2650 - mae: 107.2650 - mse: 70487.2812 - val_loss: 727.8017 - val_mae: 727.8017 - val_mse: 1598796.1250\n",
            "Epoch 57/100\n",
            "18/18 [==============================] - 0s 5ms/step - loss: 117.7116 - mae: 117.7116 - mse: 78018.1250 - val_loss: 607.5604 - val_mae: 607.5604 - val_mse: 1268898.7500\n",
            "Epoch 58/100\n",
            "18/18 [==============================] - 0s 5ms/step - loss: 114.2203 - mae: 114.2203 - mse: 73411.1094 - val_loss: 578.9034 - val_mae: 578.9034 - val_mse: 1198637.3750\n",
            "Epoch 59/100\n",
            "18/18 [==============================] - 0s 5ms/step - loss: 107.8774 - mae: 107.8774 - mse: 71132.8203 - val_loss: 595.7808 - val_mae: 595.7808 - val_mse: 1248016.3750\n",
            "Epoch 60/100\n",
            "18/18 [==============================] - 0s 7ms/step - loss: 107.6210 - mae: 107.6210 - mse: 71932.8672 - val_loss: 593.3375 - val_mae: 593.3375 - val_mse: 1218251.3750\n",
            "Epoch 61/100\n",
            "18/18 [==============================] - 0s 8ms/step - loss: 107.4931 - mae: 107.4931 - mse: 71290.7031 - val_loss: 578.1563 - val_mae: 578.1563 - val_mse: 1204871.7500\n",
            "Epoch 62/100\n",
            "14/18 [======================>.......] - ETA: 0s - loss: 106.1203 - mae: 106.1203 - mse: 72051.5547"
          ]
        },
        {
          "output_type": "stream",
          "name": "stderr",
          "text": [
            "WARNING:absl:Found untraced functions such as _update_step_xla while saving (showing 1 of 1). These functions will not be directly callable after loading.\n"
          ]
        },
        {
          "output_type": "stream",
          "name": "stdout",
          "text": [
            "\b\b\b\b\b\b\b\b\b\b\b\b\b\b\b\b\b\b\b\b\b\b\b\b\b\b\b\b\b\b\b\b\b\b\b\b\b\b\b\b\b\b\b\b\b\b\b\b\b\b\b\b\b\b\b\b\b\b\b\b\b\b\b\b\b\b\b\b\b\b\b\b\b\b\b\b\b\b\b\b\b\b\b\b\b\b\b\b\b\b\b\b\b\b\b\b\b\b\b\r18/18 [==============================] - 1s 67ms/step - loss: 105.9443 - mae: 105.9443 - mse: 69471.6406 - val_loss: 575.3679 - val_mae: 575.3679 - val_mse: 1193716.1250\n",
            "Epoch 63/100\n",
            "18/18 [==============================] - 0s 8ms/step - loss: 108.0595 - mae: 108.0595 - mse: 70371.0391 - val_loss: 617.0234 - val_mae: 617.0234 - val_mse: 1259959.1250\n",
            "Epoch 64/100\n",
            "18/18 [==============================] - 0s 7ms/step - loss: 108.8090 - mae: 108.8090 - mse: 70860.4297 - val_loss: 575.9211 - val_mae: 575.9211 - val_mse: 1193845.1250\n",
            "Epoch 65/100\n",
            "18/18 [==============================] - 0s 8ms/step - loss: 106.5096 - mae: 106.5096 - mse: 70102.8516 - val_loss: 577.0303 - val_mae: 577.0303 - val_mse: 1191692.3750\n",
            "Epoch 66/100\n",
            "18/18 [==============================] - 0s 7ms/step - loss: 107.0782 - mae: 107.0782 - mse: 70299.6406 - val_loss: 597.7145 - val_mae: 597.7145 - val_mse: 1221879.3750\n",
            "Epoch 67/100\n",
            "18/18 [==============================] - 0s 7ms/step - loss: 108.2270 - mae: 108.2270 - mse: 70777.8906 - val_loss: 640.1340 - val_mae: 640.1340 - val_mse: 1347392.2500\n",
            "Epoch 68/100\n",
            "18/18 [==============================] - 0s 8ms/step - loss: 112.6278 - mae: 112.6278 - mse: 69852.4062 - val_loss: 691.3105 - val_mae: 691.3105 - val_mse: 1490184.5000\n",
            "Epoch 69/100\n",
            "18/18 [==============================] - 0s 6ms/step - loss: 123.5157 - mae: 123.5157 - mse: 80346.6641 - val_loss: 668.4460 - val_mae: 668.4460 - val_mse: 1417971.3750\n",
            "Epoch 70/100\n",
            "18/18 [==============================] - 0s 6ms/step - loss: 125.6633 - mae: 125.6633 - mse: 83265.1797 - val_loss: 592.4165 - val_mae: 592.4165 - val_mse: 1233857.3750\n",
            "Epoch 71/100\n",
            "18/18 [==============================] - 0s 6ms/step - loss: 109.9184 - mae: 109.9184 - mse: 71729.8125 - val_loss: 594.1063 - val_mae: 594.1063 - val_mse: 1215103.2500\n",
            "Epoch 72/100\n",
            "18/18 [==============================] - 0s 6ms/step - loss: 108.6512 - mae: 108.6512 - mse: 71526.5234 - val_loss: 593.0007 - val_mae: 593.0007 - val_mse: 1212468.8750\n",
            "Epoch 73/100\n",
            "18/18 [==============================] - 0s 6ms/step - loss: 108.2390 - mae: 108.2390 - mse: 70814.3516 - val_loss: 591.0947 - val_mae: 591.0947 - val_mse: 1231442.8750\n",
            "Epoch 74/100\n",
            "18/18 [==============================] - 0s 6ms/step - loss: 106.6172 - mae: 106.6172 - mse: 70771.7734 - val_loss: 576.8957 - val_mae: 576.8957 - val_mse: 1197516.2500\n",
            "Epoch 75/100\n",
            "18/18 [==============================] - 0s 5ms/step - loss: 107.6555 - mae: 107.6555 - mse: 70291.9219 - val_loss: 582.2416 - val_mae: 582.2416 - val_mse: 1193660.8750\n",
            "Epoch 76/100\n",
            "18/18 [==============================] - 0s 5ms/step - loss: 108.8600 - mae: 108.8600 - mse: 71433.8672 - val_loss: 578.9293 - val_mae: 578.9293 - val_mse: 1202892.2500\n",
            "Epoch 77/100\n",
            "18/18 [==============================] - 0s 5ms/step - loss: 106.6866 - mae: 106.6866 - mse: 69803.2578 - val_loss: 578.1420 - val_mae: 578.1420 - val_mse: 1202949.1250\n",
            "Epoch 78/100\n",
            "18/18 [==============================] - 0s 5ms/step - loss: 108.1085 - mae: 108.1085 - mse: 70551.6406 - val_loss: 580.1184 - val_mae: 580.1184 - val_mse: 1205116.5000\n",
            "Epoch 79/100\n",
            "18/18 [==============================] - 0s 5ms/step - loss: 108.4803 - mae: 108.4803 - mse: 73028.4844 - val_loss: 584.3609 - val_mae: 584.3609 - val_mse: 1213466.7500\n",
            "Epoch 80/100\n",
            "18/18 [==============================] - ETA: 0s - loss: 107.0845 - mae: 107.0845 - mse: 70580.5000 "
          ]
        },
        {
          "output_type": "stream",
          "name": "stderr",
          "text": [
            "WARNING:absl:Found untraced functions such as _update_step_xla while saving (showing 1 of 1). These functions will not be directly callable after loading.\n"
          ]
        },
        {
          "output_type": "stream",
          "name": "stdout",
          "text": [
            "\b\b\b\b\b\b\b\b\b\b\b\b\b\b\b\b\b\b\b\b\b\b\b\b\b\b\b\b\b\b\b\b\b\b\b\b\b\b\b\b\b\b\b\b\b\b\b\b\b\b\b\b\b\b\b\b\b\b\b\b\b\b\b\b\b\b\b\b\b\b\b\b\b\b\b\b\b\b\b\b\b\b\b\b\b\b\b\b\b\b\b\b\b\b\b\b\b\b\b\r18/18 [==============================] - 1s 32ms/step - loss: 107.0845 - mae: 107.0845 - mse: 70580.5000 - val_loss: 570.3488 - val_mae: 570.3488 - val_mse: 1177342.2500\n",
            "Epoch 81/100\n",
            "18/18 [==============================] - 0s 5ms/step - loss: 105.7006 - mae: 105.7006 - mse: 69399.8750 - val_loss: 573.6623 - val_mae: 573.6623 - val_mse: 1190526.7500\n",
            "Epoch 82/100\n",
            "18/18 [==============================] - 0s 5ms/step - loss: 115.4731 - mae: 115.4731 - mse: 76460.8984 - val_loss: 578.1786 - val_mae: 578.1786 - val_mse: 1200100.6250\n",
            "Epoch 83/100\n",
            "18/18 [==============================] - 0s 6ms/step - loss: 109.8769 - mae: 109.8769 - mse: 71719.6250 - val_loss: 685.6648 - val_mae: 685.6648 - val_mse: 1465009.0000\n",
            "Epoch 84/100\n",
            "18/18 [==============================] - 0s 6ms/step - loss: 112.4557 - mae: 112.4557 - mse: 73124.2969 - val_loss: 579.7074 - val_mae: 579.7074 - val_mse: 1203030.3750\n",
            "Epoch 85/100\n",
            "18/18 [==============================] - 0s 5ms/step - loss: 107.1312 - mae: 107.1312 - mse: 69843.6484 - val_loss: 574.5740 - val_mae: 574.5740 - val_mse: 1179418.1250\n",
            "Epoch 86/100\n",
            "18/18 [==============================] - 0s 5ms/step - loss: 106.6865 - mae: 106.6865 - mse: 68747.4297 - val_loss: 582.2106 - val_mae: 582.2106 - val_mse: 1191120.3750\n",
            "Epoch 87/100\n",
            "18/18 [==============================] - 0s 6ms/step - loss: 106.0365 - mae: 106.0365 - mse: 68011.0000 - val_loss: 586.1983 - val_mae: 586.1983 - val_mse: 1213676.8750\n",
            "Epoch 88/100\n",
            "18/18 [==============================] - 0s 5ms/step - loss: 106.9180 - mae: 106.9180 - mse: 70861.0781 - val_loss: 589.9869 - val_mae: 589.9869 - val_mse: 1228842.7500\n",
            "Epoch 89/100\n",
            "18/18 [==============================] - 0s 5ms/step - loss: 106.0764 - mae: 106.0764 - mse: 69116.2266 - val_loss: 585.3168 - val_mae: 585.3168 - val_mse: 1196121.5000\n",
            "Epoch 90/100\n",
            "18/18 [==============================] - 0s 5ms/step - loss: 109.1609 - mae: 109.1609 - mse: 68100.8750 - val_loss: 675.0049 - val_mae: 675.0049 - val_mse: 1380167.3750\n",
            "Epoch 91/100\n",
            "18/18 [==============================] - 0s 6ms/step - loss: 111.2338 - mae: 111.2338 - mse: 71923.1328 - val_loss: 617.6490 - val_mae: 617.6490 - val_mse: 1287228.7500\n",
            "Epoch 92/100\n",
            "18/18 [==============================] - 0s 5ms/step - loss: 107.5620 - mae: 107.5620 - mse: 70262.8984 - val_loss: 583.6226 - val_mae: 583.6226 - val_mse: 1217619.0000\n",
            "Epoch 93/100\n",
            "18/18 [==============================] - 0s 5ms/step - loss: 116.9643 - mae: 116.9643 - mse: 74882.7812 - val_loss: 684.1219 - val_mae: 684.1219 - val_mse: 1457304.5000\n",
            "Epoch 94/100\n",
            "18/18 [==============================] - 0s 5ms/step - loss: 114.5028 - mae: 114.5028 - mse: 75555.4062 - val_loss: 575.3135 - val_mae: 575.3135 - val_mse: 1178678.1250\n",
            "Epoch 95/100\n",
            "18/18 [==============================] - 0s 6ms/step - loss: 108.0238 - mae: 108.0238 - mse: 70480.8125 - val_loss: 611.0034 - val_mae: 611.0034 - val_mse: 1242808.7500\n",
            "Epoch 96/100\n",
            "18/18 [==============================] - 0s 5ms/step - loss: 114.1350 - mae: 114.1350 - mse: 73811.3281 - val_loss: 616.0417 - val_mae: 616.0417 - val_mse: 1278711.5000\n",
            "Epoch 97/100\n",
            "18/18 [==============================] - 0s 6ms/step - loss: 108.4531 - mae: 108.4531 - mse: 71315.8672 - val_loss: 594.6152 - val_mae: 594.6152 - val_mse: 1233153.0000\n",
            "Epoch 98/100\n",
            "18/18 [==============================] - 0s 5ms/step - loss: 110.6671 - mae: 110.6671 - mse: 71458.6328 - val_loss: 601.7177 - val_mae: 601.7177 - val_mse: 1225027.0000\n",
            "Epoch 99/100\n",
            "18/18 [==============================] - 0s 6ms/step - loss: 111.2680 - mae: 111.2680 - mse: 71626.9766 - val_loss: 571.2116 - val_mae: 571.2116 - val_mse: 1170609.5000\n",
            "Epoch 100/100\n",
            "18/18 [==============================] - 0s 5ms/step - loss: 107.5093 - mae: 107.5093 - mse: 68592.5703 - val_loss: 627.4482 - val_mae: 627.4482 - val_mse: 1273717.8750\n"
          ]
        }
      ],
      "source": [
        "import tensorflow as tf\n",
        "\n",
        "# Set random seed for as reproducible results as possible\n",
        "tf.random.set_seed(42)\n",
        "\n",
        "# Construct model\n",
        "model_1 = tf.keras.Sequential([\n",
        "    tf.keras.layers.Dense(128, activation=\"relu\"),\n",
        "    tf.keras.layers.Dense(HORIZON, activation=\"linear\"), # linear activation is the same as having no activation\n",
        "], name=\"model_1_dense\") # name our model so we can save it \n",
        "\n",
        "# 2. Compile the model\n",
        "model_1.compile(loss=\"mae\",\n",
        "                optimizer=tf.keras.optimizers.Adam(),\n",
        "                metrics=[\"mae\", \"mse\"])\n",
        "# 3. Fit the model\n",
        "history_model_1 = model_1.fit(train_windows,\n",
        "                              train_labels,\n",
        "                              epochs=100,\n",
        "                              verbose=1,\n",
        "                              batch_size=128,\n",
        "                              validation_data=(test_windows,test_labels),\n",
        "                              callbacks=[create_model_checkpoint(model_name=model_1.name)])"
      ]
    },
    {
      "cell_type": "code",
      "execution_count": 165,
      "metadata": {
        "colab": {
          "base_uri": "https://localhost:8080/"
        },
        "id": "KNsnC6KCbpeV",
        "outputId": "ce29add6-7317-437f-8235-d70e7ca98261"
      },
      "outputs": [
        {
          "output_type": "execute_result",
          "data": {
            "text/plain": [
              "{'mae': 567.9802,\n",
              " 'mape': 2.516525,\n",
              " 'mase': 0.99957,\n",
              " 'mse': 1147547.0,\n",
              " 'rmse': 1071.2362}"
            ]
          },
          "metadata": {},
          "execution_count": 165
        }
      ],
      "source": [
        "naive_results"
      ]
    },
    {
      "cell_type": "code",
      "execution_count": 166,
      "metadata": {
        "colab": {
          "base_uri": "https://localhost:8080/"
        },
        "id": "ha-7P1Vze4c1",
        "outputId": "abc57684-da48-4e54-cb1c-d739c604291d"
      },
      "outputs": [
        {
          "output_type": "stream",
          "name": "stdout",
          "text": [
            "18/18 [==============================] - 0s 2ms/step - loss: 627.4482 - mae: 627.4482 - mse: 1273717.6250\n"
          ]
        },
        {
          "output_type": "execute_result",
          "data": {
            "text/plain": [
              "[627.4481811523438, 627.4481811523438, 1273717.625]"
            ]
          },
          "metadata": {},
          "execution_count": 166
        }
      ],
      "source": [
        "# Evaluate model on test data\n",
        "model_1.evaluate(test_windows, test_labels)"
      ]
    },
    {
      "cell_type": "code",
      "execution_count": 167,
      "metadata": {
        "colab": {
          "base_uri": "https://localhost:8080/"
        },
        "id": "hN_F3w6UhZeT",
        "outputId": "d10d320e-b1e7-42ca-aba4-496a880a1242"
      },
      "outputs": [
        {
          "output_type": "stream",
          "name": "stdout",
          "text": [
            "18/18 [==============================] - 0s 2ms/step - loss: 570.3491 - mae: 570.3491 - mse: 1177342.8750\n"
          ]
        },
        {
          "output_type": "execute_result",
          "data": {
            "text/plain": [
              "[570.3490600585938, 570.3490600585938, 1177342.875]"
            ]
          },
          "metadata": {},
          "execution_count": 167
        }
      ],
      "source": [
        "# Load in saved performing model_1 and evaluate it on test data\n",
        "model_1 = tf.keras.models.load_model(\"model_experiments/model_1_dense/\")\n",
        "model_1.evaluate(test_windows, test_labels)"
      ]
    },
    {
      "cell_type": "code",
      "execution_count": 168,
      "metadata": {
        "colab": {
          "base_uri": "https://localhost:8080/"
        },
        "id": "QHbLT6nbETWU",
        "outputId": "02728270-8c35-42d0-f066-1b2e057797ab"
      },
      "outputs": [
        {
          "output_type": "execute_result",
          "data": {
            "text/plain": [
              "{'mae': 567.9802,\n",
              " 'mape': 2.516525,\n",
              " 'mase': 0.99957,\n",
              " 'mse': 1147547.0,\n",
              " 'rmse': 1071.2362}"
            ]
          },
          "metadata": {},
          "execution_count": 168
        }
      ],
      "source": [
        " naive_results"
      ]
    },
    {
      "cell_type": "markdown",
      "metadata": {
        "id": "u1okaFekE3cb"
      },
      "source": [
        "## Making forecssts with a model (on the test dataset)\n",
        "\n",
        "To make \"forecasts\" on the test dataset (note: these won't be actual forecasts, they're only psuedo forecasts because actual forecasts are into the future), let's write a function to:\n",
        "\n",
        "1. Take in a train model\n",
        "2. Takes in some input data (same kind of data the model was trained on)\n",
        "3. Passes the input data to the model's `predict()`\n",
        "4. Returns the predictions.\n",
        " \n"
      ]
    },
    {
      "cell_type": "code",
      "execution_count": 169,
      "metadata": {
        "id": "ITSC1DZxEnbE"
      },
      "outputs": [],
      "source": [
        "def make_preds(model, input_data):\n",
        "  \"\"\"\n",
        "  Uses model to make predictions input_data\n",
        "  \"\"\"\n",
        "  forecast = model.predict(input_data)\n",
        "  return tf.squeeze(forecast) # return 1D array of predictions"
      ]
    },
    {
      "cell_type": "code",
      "execution_count": 170,
      "metadata": {
        "colab": {
          "base_uri": "https://localhost:8080/"
        },
        "id": "AWcluD1AVL3A",
        "outputId": "5226da1f-9124-4dee-ef46-e24ac9374335"
      },
      "outputs": [
        {
          "output_type": "stream",
          "name": "stdout",
          "text": [
            "18/18 [==============================] - 0s 2ms/step\n"
          ]
        },
        {
          "output_type": "execute_result",
          "data": {
            "text/plain": [
              "(556,\n",
              " <tf.Tensor: shape=(10,), dtype=float32, numpy=\n",
              " array([8850.663, 8731.138, 8977.773, 8769.626, 8705.366, 8716.674,\n",
              "        8664.964, 8494.742, 8434.046, 8494.745], dtype=float32)>)"
            ]
          },
          "metadata": {},
          "execution_count": 170
        }
      ],
      "source": [
        "# Make predictions using model_1 on the test dataset and view results\n",
        "model_1_preds = make_preds(model_1, test_windows)\n",
        "len(model_1_preds), model_1_preds[:10]"
      ]
    },
    {
      "cell_type": "code",
      "execution_count": 171,
      "metadata": {
        "colab": {
          "base_uri": "https://localhost:8080/"
        },
        "id": "L3-StThES5SC",
        "outputId": "479d30d9-90dd-4fd4-e81d-877963d5903b"
      },
      "outputs": [
        {
          "output_type": "execute_result",
          "data": {
            "text/plain": [
              "(TensorShape([556]), TensorShape([556]))"
            ]
          },
          "metadata": {},
          "execution_count": 171
        }
      ],
      "source": [
        "model_1_preds.shape, tf.squeeze(test_labels).shape"
      ]
    },
    {
      "cell_type": "code",
      "execution_count": 172,
      "metadata": {
        "colab": {
          "base_uri": "https://localhost:8080/"
        },
        "id": "-eK0tgIcMeHJ",
        "outputId": "d0518969-5324-4279-a415-f13a8e03c500"
      },
      "outputs": [
        {
          "output_type": "execute_result",
          "data": {
            "text/plain": [
              "{'mae': 570.34906,\n",
              " 'mape': 2.57956,\n",
              " 'mase': 1.0019454,\n",
              " 'mse': 1177342.8,\n",
              " 'rmse': 1085.0542}"
            ]
          },
          "metadata": {},
          "execution_count": 172
        }
      ],
      "source": [
        "# Evaluate preds\n",
        "model_1_results = evaluate_preds(y_true = tf.squeeze(test_labels),\n",
        "                                 y_pred = model_1_preds)\n",
        "model_1_results"
      ]
    },
    {
      "cell_type": "markdown",
      "metadata": {
        "id": "QvOtJ4OyGGmT"
      },
      "source": [
        "## Model 2 : Dense (window = 30, horizon = 1)"
      ]
    },
    {
      "cell_type": "code",
      "execution_count": 173,
      "metadata": {
        "id": "cfN_Mfp3Q9Mr"
      },
      "outputs": [],
      "source": [
        "HORIZON = 1 # predict one step at a time (one day of Bitcoin prices)\n",
        "WINDOW_SIZE = 30 # use 30 timesteps in past "
      ]
    },
    {
      "cell_type": "code",
      "execution_count": 174,
      "metadata": {
        "colab": {
          "base_uri": "https://localhost:8080/"
        },
        "id": "XhxBIz9DRMwc",
        "outputId": "45ffdff4-c53e-4e39-e216-d887777f90f3"
      },
      "outputs": [
        {
          "output_type": "execute_result",
          "data": {
            "text/plain": [
              "(2757, 2757)"
            ]
          },
          "metadata": {},
          "execution_count": 174
        }
      ],
      "source": [
        "# Make windowe data with appropriate horizon and window sizes\n",
        "full_windows, full_labels = make_windows(prices, window_size = WINDOW_SIZE, horizon = HORIZON)\n",
        "len(full_windows), len(full_labels)"
      ]
    },
    {
      "cell_type": "code",
      "execution_count": 175,
      "metadata": {
        "colab": {
          "base_uri": "https://localhost:8080/"
        },
        "id": "252oGHfURVFz",
        "outputId": "4004093d-8531-4465-9344-a053061ae32d"
      },
      "outputs": [
        {
          "output_type": "execute_result",
          "data": {
            "text/plain": [
              "(2205, 552, 2205, 552)"
            ]
          },
          "metadata": {},
          "execution_count": 175
        }
      ],
      "source": [
        "# Make train and testing windows\n",
        "train_windows, test_windows, train_labels, test_labels = make_train_test_splits(windows=full_windows,\n",
        "                                                                               labels=full_labels,\n",
        "                                                                               test_split=0.2)\n",
        "len(train_windows), len(test_windows), len(train_labels), len(test_labels)"
      ]
    },
    {
      "cell_type": "code",
      "execution_count": 176,
      "metadata": {
        "colab": {
          "base_uri": "https://localhost:8080/"
        },
        "id": "kmHT5dkUWsHP",
        "outputId": "a94c592e-d5a8-49e9-ba47-96a35854513b"
      },
      "outputs": [
        {
          "output_type": "execute_result",
          "data": {
            "text/plain": [
              "(array([123.65499, 125.455  , 108.58483, 118.67466, 121.33866, 120.65533,\n",
              "        121.795  , 123.033  , 124.049  , 125.96116, 125.27966, 125.9275 ,\n",
              "        126.38333, 135.24199, 133.20333, 142.76333, 137.92333, 142.95166,\n",
              "        152.55183, 160.33883, 164.31499, 177.63333, 188.29716, 200.70166,\n",
              "        180.355  , 175.03166, 177.6965 , 187.15983, 192.75666, 197.4    ]),\n",
              " array([196.02499]))"
            ]
          },
          "metadata": {},
          "execution_count": 176
        }
      ],
      "source": [
        "train_windows[0], train_labels[0]"
      ]
    },
    {
      "cell_type": "code",
      "execution_count": 177,
      "metadata": {
        "colab": {
          "base_uri": "https://localhost:8080/"
        },
        "id": "VU_haadsWz26",
        "outputId": "ac09e701-f955-4785-8152-c45566568e11"
      },
      "outputs": [
        {
          "output_type": "stream",
          "name": "stdout",
          "text": [
            "Epoch 1/100\n",
            " 1/18 [>.............................] - ETA: 15s - loss: 4274.5161 - mae: 4274.5161 - mse: 44723308.0000"
          ]
        },
        {
          "output_type": "stream",
          "name": "stderr",
          "text": [
            "WARNING:absl:Found untraced functions such as _update_step_xla while saving (showing 1 of 1). These functions will not be directly callable after loading.\n"
          ]
        },
        {
          "output_type": "stream",
          "name": "stdout",
          "text": [
            "\b\b\b\b\b\b\b\b\b\b\b\b\b\b\b\b\b\b\b\b\b\b\b\b\b\b\b\b\b\b\b\b\b\b\b\b\b\b\b\b\b\b\b\b\b\b\b\b\b\b\b\b\b\b\b\b\b\b\b\b\b\b\b\b\b\b\b\b\b\b\b\b\b\b\b\b\b\b\b\b\b\b\b\b\b\b\b\b\b\b\b\b\b\b\b\b\b\b\b\b\b\b\b\b\b\r18/18 [==============================] - 2s 52ms/step - loss: 1472.0616 - mae: 1472.0616 - mse: 8942337.0000 - val_loss: 5662.6411 - val_mae: 5662.6411 - val_mse: 60982860.0000\n",
            "Epoch 2/100\n",
            "14/18 [======================>.......] - ETA: 0s - loss: 477.9362 - mae: 477.9362 - mse: 905047.6875 "
          ]
        },
        {
          "output_type": "stream",
          "name": "stderr",
          "text": [
            "WARNING:absl:Found untraced functions such as _update_step_xla while saving (showing 1 of 1). These functions will not be directly callable after loading.\n"
          ]
        },
        {
          "output_type": "stream",
          "name": "stdout",
          "text": [
            "\b\b\b\b\b\b\b\b\b\b\b\b\b\b\b\b\b\b\b\b\b\b\b\b\b\b\b\b\b\b\b\b\b\b\b\b\b\b\b\b\b\b\b\b\b\b\b\b\b\b\b\b\b\b\b\b\b\b\b\b\b\b\b\b\b\b\b\b\b\b\b\b\b\b\b\b\b\b\b\b\b\b\b\b\b\b\b\b\b\b\b\b\b\b\b\b\b\b\b\b\r18/18 [==============================] - 1s 46ms/step - loss: 458.0721 - mae: 458.0721 - mse: 850472.0625 - val_loss: 1512.2306 - val_mae: 1512.2306 - val_mse: 6213526.5000\n",
            "Epoch 3/100\n",
            "13/18 [====================>.........] - ETA: 0s - loss: 297.1401 - mae: 297.1401 - mse: 415902.7812"
          ]
        },
        {
          "output_type": "stream",
          "name": "stderr",
          "text": [
            "WARNING:absl:Found untraced functions such as _update_step_xla while saving (showing 1 of 1). These functions will not be directly callable after loading.\n"
          ]
        },
        {
          "output_type": "stream",
          "name": "stdout",
          "text": [
            "\b\b\b\b\b\b\b\b\b\b\b\b\b\b\b\b\b\b\b\b\b\b\b\b\b\b\b\b\b\b\b\b\b\b\b\b\b\b\b\b\b\b\b\b\b\b\b\b\b\b\b\b\b\b\b\b\b\b\b\b\b\b\b\b\b\b\b\b\b\b\b\b\b\b\b\b\b\b\b\b\b\b\b\b\b\b\b\b\b\b\b\b\b\b\b\b\b\b\b\b\r18/18 [==============================] - 1s 46ms/step - loss: 280.4345 - mae: 280.4345 - mse: 371676.3750 - val_loss: 1184.3882 - val_mae: 1184.3882 - val_mse: 4337541.5000\n",
            "Epoch 4/100\n",
            "17/18 [===========================>..] - ETA: 0s - loss: 216.4108 - mae: 216.4108 - mse: 231927.5000"
          ]
        },
        {
          "output_type": "stream",
          "name": "stderr",
          "text": [
            "WARNING:absl:Found untraced functions such as _update_step_xla while saving (showing 1 of 1). These functions will not be directly callable after loading.\n"
          ]
        },
        {
          "output_type": "stream",
          "name": "stdout",
          "text": [
            "\b\b\b\b\b\b\b\b\b\b\b\b\b\b\b\b\b\b\b\b\b\b\b\b\b\b\b\b\b\b\b\b\b\b\b\b\b\b\b\b\b\b\b\b\b\b\b\b\b\b\b\b\b\b\b\b\b\b\b\b\b\b\b\b\b\b\b\b\b\b\b\b\b\b\b\b\b\b\b\b\b\b\b\b\b\b\b\b\b\b\b\b\b\b\b\b\b\b\b\b\r18/18 [==============================] - 1s 34ms/step - loss: 218.8038 - mae: 218.8038 - mse: 236287.3438 - val_loss: 1074.3618 - val_mae: 1074.3618 - val_mse: 3690734.0000\n",
            "Epoch 5/100\n",
            " 1/18 [>.............................] - ETA: 0s - loss: 141.8535 - mae: 141.8535 - mse: 83345.7500"
          ]
        },
        {
          "output_type": "stream",
          "name": "stderr",
          "text": [
            "WARNING:absl:Found untraced functions such as _update_step_xla while saving (showing 1 of 1). These functions will not be directly callable after loading.\n"
          ]
        },
        {
          "output_type": "stream",
          "name": "stdout",
          "text": [
            "\b\b\b\b\b\b\b\b\b\b\b\b\b\b\b\b\b\b\b\b\b\b\b\b\b\b\b\b\b\b\b\b\b\b\b\b\b\b\b\b\b\b\b\b\b\b\b\b\b\b\b\b\b\b\b\b\b\b\b\b\b\b\b\b\b\b\b\b\b\b\b\b\b\b\b\b\b\b\b\b\b\b\b\b\b\b\b\b\b\b\b\b\b\b\b\b\b\b\b\r18/18 [==============================] - 1s 30ms/step - loss: 187.3678 - mae: 187.3678 - mse: 190757.9844 - val_loss: 1054.7173 - val_mae: 1054.7173 - val_mse: 3510104.2500\n",
            "Epoch 6/100\n",
            "18/18 [==============================] - 0s 6ms/step - loss: 190.8876 - mae: 190.8876 - mse: 191206.4219 - val_loss: 1122.9268 - val_mae: 1122.9268 - val_mse: 4189053.2500\n",
            "Epoch 7/100\n",
            "18/18 [==============================] - 0s 5ms/step - loss: 196.2326 - mae: 196.2326 - mse: 192532.1094 - val_loss: 1128.5696 - val_mae: 1128.5696 - val_mse: 4130384.2500\n",
            "Epoch 8/100\n",
            " 1/18 [>.............................] - ETA: 0s - loss: 196.6661 - mae: 196.6661 - mse: 194246.1562"
          ]
        },
        {
          "output_type": "stream",
          "name": "stderr",
          "text": [
            "WARNING:absl:Found untraced functions such as _update_step_xla while saving (showing 1 of 1). These functions will not be directly callable after loading.\n"
          ]
        },
        {
          "output_type": "stream",
          "name": "stdout",
          "text": [
            "\b\b\b\b\b\b\b\b\b\b\b\b\b\b\b\b\b\b\b\b\b\b\b\b\b\b\b\b\b\b\b\b\b\b\b\b\b\b\b\b\b\b\b\b\b\b\b\b\b\b\b\b\b\b\b\b\b\b\b\b\b\b\b\b\b\b\b\b\b\b\b\b\b\b\b\b\b\b\b\b\b\b\b\b\b\b\b\b\b\b\b\b\b\b\b\b\b\b\b\b\r18/18 [==============================] - 1s 30ms/step - loss: 203.9961 - mae: 203.9961 - mse: 202623.2031 - val_loss: 1018.4996 - val_mae: 1018.4996 - val_mse: 3145541.0000\n",
            "Epoch 9/100\n",
            " 1/18 [>.............................] - ETA: 0s - loss: 179.9315 - mae: 179.9315 - mse: 269259.5625"
          ]
        },
        {
          "output_type": "stream",
          "name": "stderr",
          "text": [
            "WARNING:absl:Found untraced functions such as _update_step_xla while saving (showing 1 of 1). These functions will not be directly callable after loading.\n"
          ]
        },
        {
          "output_type": "stream",
          "name": "stdout",
          "text": [
            "\b\b\b\b\b\b\b\b\b\b\b\b\b\b\b\b\b\b\b\b\b\b\b\b\b\b\b\b\b\b\b\b\b\b\b\b\b\b\b\b\b\b\b\b\b\b\b\b\b\b\b\b\b\b\b\b\b\b\b\b\b\b\b\b\b\b\b\b\b\b\b\b\b\b\b\b\b\b\b\b\b\b\b\b\b\b\b\b\b\b\b\b\b\b\b\b\b\b\b\b\r18/18 [==============================] - 1s 30ms/step - loss: 175.6682 - mae: 175.6682 - mse: 163896.1094 - val_loss: 939.0114 - val_mae: 939.0114 - val_mse: 2939678.2500\n",
            "Epoch 10/100\n",
            "18/18 [==============================] - 0s 5ms/step - loss: 172.1824 - mae: 172.1824 - mse: 152373.8750 - val_loss: 987.6262 - val_mae: 987.6262 - val_mse: 3229691.7500\n",
            "Epoch 11/100\n",
            "18/18 [==============================] - 0s 4ms/step - loss: 167.2297 - mae: 167.2297 - mse: 148033.7812 - val_loss: 946.6090 - val_mae: 946.6090 - val_mse: 2746960.7500\n",
            "Epoch 12/100\n",
            "15/18 [========================>.....] - ETA: 0s - loss: 168.2320 - mae: 168.2320 - mse: 150287.3281"
          ]
        },
        {
          "output_type": "stream",
          "name": "stderr",
          "text": [
            "WARNING:absl:Found untraced functions such as _update_step_xla while saving (showing 1 of 1). These functions will not be directly callable after loading.\n"
          ]
        },
        {
          "output_type": "stream",
          "name": "stdout",
          "text": [
            "\b\b\b\b\b\b\b\b\b\b\b\b\b\b\b\b\b\b\b\b\b\b\b\b\b\b\b\b\b\b\b\b\b\b\b\b\b\b\b\b\b\b\b\b\b\b\b\b\b\b\b\b\b\b\b\b\b\b\b\b\b\b\b\b\b\b\b\b\b\b\b\b\b\b\b\b\b\b\b\b\b\b\b\b\b\b\b\b\b\b\b\b\b\b\b\b\b\b\b\b\r18/18 [==============================] - 1s 32ms/step - loss: 165.1398 - mae: 165.1398 - mse: 143639.6562 - val_loss: 876.8379 - val_mae: 876.8379 - val_mse: 2500427.5000\n",
            "Epoch 13/100\n",
            "18/18 [==============================] - 0s 6ms/step - loss: 164.6950 - mae: 164.6950 - mse: 139493.2031 - val_loss: 1359.8790 - val_mae: 1359.8790 - val_mse: 5173437.0000\n",
            "Epoch 14/100\n",
            "17/18 [===========================>..] - ETA: 0s - loss: 169.2843 - mae: 169.2843 - mse: 139530.9688"
          ]
        },
        {
          "output_type": "stream",
          "name": "stderr",
          "text": [
            "WARNING:absl:Found untraced functions such as _update_step_xla while saving (showing 1 of 1). These functions will not be directly callable after loading.\n"
          ]
        },
        {
          "output_type": "stream",
          "name": "stdout",
          "text": [
            "\b\b\b\b\b\b\b\b\b\b\b\b\b\b\b\b\b\b\b\b\b\b\b\b\b\b\b\b\b\b\b\b\b\b\b\b\b\b\b\b\b\b\b\b\b\b\b\b\b\b\b\b\b\b\b\b\b\b\b\b\b\b\b\b\b\b\b\b\b\b\b\b\b\b\b\b\b\b\b\b\b\b\b\b\b\b\b\b\b\b\b\b\b\b\b\b\b\b\b\b\r18/18 [==============================] - 1s 32ms/step - loss: 171.0864 - mae: 171.0864 - mse: 151109.9531 - val_loss: 846.0151 - val_mae: 846.0151 - val_mse: 2362299.2500\n",
            "Epoch 15/100\n",
            "18/18 [==============================] - 0s 5ms/step - loss: 166.5650 - mae: 166.5650 - mse: 137913.8750 - val_loss: 851.9576 - val_mae: 851.9576 - val_mse: 2453154.2500\n",
            "Epoch 16/100\n",
            "18/18 [==============================] - 0s 5ms/step - loss: 165.4876 - mae: 165.4876 - mse: 137114.2031 - val_loss: 849.4267 - val_mae: 849.4267 - val_mse: 2299670.2500\n",
            "Epoch 17/100\n",
            "18/18 [==============================] - 0s 5ms/step - loss: 154.5232 - mae: 154.5232 - mse: 124286.8672 - val_loss: 1244.0392 - val_mae: 1244.0392 - val_mse: 3889936.2500\n",
            "Epoch 18/100\n",
            "18/18 [==============================] - 0s 5ms/step - loss: 170.8825 - mae: 170.8825 - mse: 139278.5156 - val_loss: 1055.2391 - val_mae: 1055.2391 - val_mse: 3029216.5000\n",
            "Epoch 19/100\n",
            "18/18 [==============================] - 0s 5ms/step - loss: 166.1042 - mae: 166.1042 - mse: 133479.8906 - val_loss: 1266.8103 - val_mae: 1266.8103 - val_mse: 4489319.0000\n",
            "Epoch 20/100\n",
            " 1/18 [>.............................] - ETA: 0s - loss: 219.3460 - mae: 219.3460 - mse: 218737.7188"
          ]
        },
        {
          "output_type": "stream",
          "name": "stderr",
          "text": [
            "WARNING:absl:Found untraced functions such as _update_step_xla while saving (showing 1 of 1). These functions will not be directly callable after loading.\n"
          ]
        },
        {
          "output_type": "stream",
          "name": "stdout",
          "text": [
            "\b\b\b\b\b\b\b\b\b\b\b\b\b\b\b\b\b\b\b\b\b\b\b\b\b\b\b\b\b\b\b\b\b\b\b\b\b\b\b\b\b\b\b\b\b\b\b\b\b\b\b\b\b\b\b\b\b\b\b\b\b\b\b\b\b\b\b\b\b\b\b\b\b\b\b\b\b\b\b\b\b\b\b\b\b\b\b\b\b\b\b\b\b\b\b\b\b\b\b\b\r18/18 [==============================] - 1s 30ms/step - loss: 162.9903 - mae: 162.9903 - mse: 135062.8906 - val_loss: 799.5203 - val_mae: 799.5203 - val_mse: 2185647.0000\n",
            "Epoch 21/100\n",
            "18/18 [==============================] - 0s 5ms/step - loss: 170.3146 - mae: 170.3146 - mse: 142740.3438 - val_loss: 935.3900 - val_mae: 935.3900 - val_mse: 2494724.0000\n",
            "Epoch 22/100\n",
            " 1/18 [>.............................] - ETA: 0s - loss: 134.4684 - mae: 134.4684 - mse: 81282.9844"
          ]
        },
        {
          "output_type": "stream",
          "name": "stderr",
          "text": [
            "WARNING:absl:Found untraced functions such as _update_step_xla while saving (showing 1 of 1). These functions will not be directly callable after loading.\n"
          ]
        },
        {
          "output_type": "stream",
          "name": "stdout",
          "text": [
            "\b\b\b\b\b\b\b\b\b\b\b\b\b\b\b\b\b\b\b\b\b\b\b\b\b\b\b\b\b\b\b\b\b\b\b\b\b\b\b\b\b\b\b\b\b\b\b\b\b\b\b\b\b\b\b\b\b\b\b\b\b\b\b\b\b\b\b\b\b\b\b\b\b\b\b\b\b\b\b\b\b\b\b\b\b\b\b\b\b\b\b\b\b\b\b\b\b\b\b\r18/18 [==============================] - 1s 31ms/step - loss: 190.2410 - mae: 190.2410 - mse: 153985.2031 - val_loss: 772.1879 - val_mae: 772.1879 - val_mse: 1926653.3750\n",
            "Epoch 23/100\n",
            "18/18 [==============================] - 0s 6ms/step - loss: 150.4992 - mae: 150.4992 - mse: 116111.7344 - val_loss: 1028.5645 - val_mae: 1028.5645 - val_mse: 2821688.2500\n",
            "Epoch 24/100\n",
            "18/18 [==============================] - 0s 5ms/step - loss: 143.9188 - mae: 143.9188 - mse: 111054.8203 - val_loss: 857.0674 - val_mae: 857.0674 - val_mse: 2464393.2500\n",
            "Epoch 25/100\n",
            "18/18 [==============================] - 0s 4ms/step - loss: 147.4840 - mae: 147.4840 - mse: 113044.9297 - val_loss: 1173.9081 - val_mae: 1173.9081 - val_mse: 3410016.2500\n",
            "Epoch 26/100\n",
            "18/18 [==============================] - 0s 5ms/step - loss: 155.3625 - mae: 155.3625 - mse: 121707.4141 - val_loss: 808.5809 - val_mae: 808.5809 - val_mse: 2214628.5000\n",
            "Epoch 27/100\n",
            "18/18 [==============================] - 0s 5ms/step - loss: 153.0891 - mae: 153.0891 - mse: 115354.0000 - val_loss: 821.1995 - val_mae: 821.1995 - val_mse: 2282630.7500\n",
            "Epoch 28/100\n",
            "18/18 [==============================] - 0s 5ms/step - loss: 139.3310 - mae: 139.3310 - mse: 101489.9453 - val_loss: 772.4767 - val_mae: 772.4767 - val_mse: 2067172.1250\n",
            "Epoch 29/100\n",
            "18/18 [==============================] - 0s 5ms/step - loss: 151.7835 - mae: 151.7835 - mse: 117526.4609 - val_loss: 954.5640 - val_mae: 954.5640 - val_mse: 2477754.5000\n",
            "Epoch 30/100\n",
            "18/18 [==============================] - 0s 5ms/step - loss: 153.6710 - mae: 153.6710 - mse: 114734.8047 - val_loss: 939.8868 - val_mae: 939.8868 - val_mse: 2411657.7500\n",
            "Epoch 31/100\n",
            "18/18 [==============================] - 0s 6ms/step - loss: 148.1691 - mae: 148.1691 - mse: 108131.1016 - val_loss: 843.8922 - val_mae: 843.8922 - val_mse: 2326557.0000\n",
            "Epoch 32/100\n",
            "18/18 [==============================] - 0s 5ms/step - loss: 146.7751 - mae: 146.7751 - mse: 112721.5625 - val_loss: 866.3571 - val_mae: 866.3571 - val_mse: 2139466.2500\n",
            "Epoch 33/100\n",
            "18/18 [==============================] - 0s 6ms/step - loss: 138.8199 - mae: 138.8199 - mse: 102730.0156 - val_loss: 826.9742 - val_mae: 826.9742 - val_mse: 2226097.5000\n",
            "Epoch 34/100\n",
            " 1/18 [>.............................] - ETA: 0s - loss: 159.5470 - mae: 159.5470 - mse: 97846.9375"
          ]
        },
        {
          "output_type": "stream",
          "name": "stderr",
          "text": [
            "WARNING:absl:Found untraced functions such as _update_step_xla while saving (showing 1 of 1). These functions will not be directly callable after loading.\n"
          ]
        },
        {
          "output_type": "stream",
          "name": "stdout",
          "text": [
            "\b\b\b\b\b\b\b\b\b\b\b\b\b\b\b\b\b\b\b\b\b\b\b\b\b\b\b\b\b\b\b\b\b\b\b\b\b\b\b\b\b\b\b\b\b\b\b\b\b\b\b\b\b\b\b\b\b\b\b\b\b\b\b\b\b\b\b\b\b\b\b\b\b\b\b\b\b\b\b\b\b\b\b\b\b\b\b\b\b\b\b\b\b\b\b\b\b\b\b\r18/18 [==============================] - 1s 32ms/step - loss: 131.3091 - mae: 131.3091 - mse: 96301.9531 - val_loss: 726.6912 - val_mae: 726.6912 - val_mse: 1828762.1250\n",
            "Epoch 35/100\n",
            "18/18 [==============================] - 0s 5ms/step - loss: 144.4513 - mae: 144.4513 - mse: 106878.7266 - val_loss: 730.3605 - val_mae: 730.3605 - val_mse: 1857754.8750\n",
            "Epoch 36/100\n",
            "18/18 [==============================] - 0s 5ms/step - loss: 140.3170 - mae: 140.3170 - mse: 103455.2656 - val_loss: 836.3433 - val_mae: 836.3433 - val_mse: 2001816.7500\n",
            "Epoch 37/100\n",
            "18/18 [==============================] - 0s 5ms/step - loss: 172.6162 - mae: 172.6162 - mse: 133964.1094 - val_loss: 1320.9070 - val_mae: 1320.9070 - val_mse: 4050815.5000\n",
            "Epoch 38/100\n",
            "18/18 [==============================] - 0s 5ms/step - loss: 239.6861 - mae: 239.6861 - mse: 218499.0312 - val_loss: 2414.6182 - val_mae: 2414.6182 - val_mse: 12216154.0000\n",
            "Epoch 39/100\n",
            " 1/18 [>.............................] - ETA: 0s - loss: 406.9064 - mae: 406.9064 - mse: 464007.6250"
          ]
        },
        {
          "output_type": "stream",
          "name": "stderr",
          "text": [
            "WARNING:absl:Found untraced functions such as _update_step_xla while saving (showing 1 of 1). These functions will not be directly callable after loading.\n"
          ]
        },
        {
          "output_type": "stream",
          "name": "stdout",
          "text": [
            "\b\b\b\b\b\b\b\b\b\b\b\b\b\b\b\b\b\b\b\b\b\b\b\b\b\b\b\b\b\b\b\b\b\b\b\b\b\b\b\b\b\b\b\b\b\b\b\b\b\b\b\b\b\b\b\b\b\b\b\b\b\b\b\b\b\b\b\b\b\b\b\b\b\b\b\b\b\b\b\b\b\b\b\b\b\b\b\b\b\b\b\b\b\b\b\b\b\b\b\b\r18/18 [==============================] - 1s 51ms/step - loss: 196.0323 - mae: 196.0323 - mse: 151513.3125 - val_loss: 705.5762 - val_mae: 705.5762 - val_mse: 1613061.5000\n",
            "Epoch 40/100\n",
            " 1/18 [>.............................] - ETA: 0s - loss: 87.0034 - mae: 87.0034 - mse: 29472.1758"
          ]
        },
        {
          "output_type": "stream",
          "name": "stderr",
          "text": [
            "WARNING:absl:Found untraced functions such as _update_step_xla while saving (showing 1 of 1). These functions will not be directly callable after loading.\n"
          ]
        },
        {
          "output_type": "stream",
          "name": "stdout",
          "text": [
            "\b\b\b\b\b\b\b\b\b\b\b\b\b\b\b\b\b\b\b\b\b\b\b\b\b\b\b\b\b\b\b\b\b\b\b\b\b\b\b\b\b\b\b\b\b\b\b\b\b\b\b\b\b\b\b\b\b\b\b\b\b\b\b\b\b\b\b\b\b\b\b\b\b\b\b\b\b\b\b\b\b\b\b\b\b\b\b\b\b\b\b\b\b\b\b\b\b\r18/18 [==============================] - 1s 32ms/step - loss: 147.9822 - mae: 147.9822 - mse: 98401.0625 - val_loss: 698.2596 - val_mae: 698.2596 - val_mse: 1633576.1250\n",
            "Epoch 41/100\n",
            "18/18 [==============================] - 0s 5ms/step - loss: 129.0821 - mae: 129.0821 - mse: 91007.2109 - val_loss: 771.3718 - val_mae: 771.3718 - val_mse: 1776621.0000\n",
            "Epoch 42/100\n",
            "18/18 [==============================] - 0s 5ms/step - loss: 145.5546 - mae: 145.5546 - mse: 106092.2656 - val_loss: 750.0593 - val_mae: 750.0593 - val_mse: 1724907.0000\n",
            "Epoch 43/100\n",
            "18/18 [==============================] - 0s 5ms/step - loss: 170.8030 - mae: 170.8030 - mse: 128911.9766 - val_loss: 1004.5903 - val_mae: 1004.5903 - val_mse: 2565076.2500\n",
            "Epoch 44/100\n",
            "18/18 [==============================] - 0s 6ms/step - loss: 148.7168 - mae: 148.7168 - mse: 104626.6562 - val_loss: 698.5744 - val_mae: 698.5744 - val_mse: 1569069.6250\n",
            "Epoch 45/100\n",
            "18/18 [==============================] - 0s 5ms/step - loss: 138.1220 - mae: 138.1220 - mse: 95606.4375 - val_loss: 803.1240 - val_mae: 803.1240 - val_mse: 2114632.0000\n",
            "Epoch 46/100\n",
            " 1/18 [>.............................] - ETA: 0s - loss: 109.8167 - mae: 109.8167 - mse: 56963.1602"
          ]
        },
        {
          "output_type": "stream",
          "name": "stderr",
          "text": [
            "WARNING:absl:Found untraced functions such as _update_step_xla while saving (showing 1 of 1). These functions will not be directly callable after loading.\n"
          ]
        },
        {
          "output_type": "stream",
          "name": "stdout",
          "text": [
            "\b\b\b\b\b\b\b\b\b\b\b\b\b\b\b\b\b\b\b\b\b\b\b\b\b\b\b\b\b\b\b\b\b\b\b\b\b\b\b\b\b\b\b\b\b\b\b\b\b\b\b\b\b\b\b\b\b\b\b\b\b\b\b\b\b\b\b\b\b\b\b\b\b\b\b\b\b\b\b\b\b\b\b\b\b\b\b\b\b\b\b\b\b\b\b\b\b\b\b\r18/18 [==============================] - 1s 30ms/step - loss: 136.5238 - mae: 136.5238 - mse: 94676.6719 - val_loss: 695.4044 - val_mae: 695.4044 - val_mse: 1534634.3750\n",
            "Epoch 47/100\n",
            "18/18 [==============================] - 0s 5ms/step - loss: 139.8162 - mae: 139.8162 - mse: 98577.7109 - val_loss: 968.8273 - val_mae: 968.8273 - val_mse: 2431553.7500\n",
            "Epoch 48/100\n",
            "18/18 [==============================] - 0s 6ms/step - loss: 145.1098 - mae: 145.1098 - mse: 107248.0156 - val_loss: 917.6476 - val_mae: 917.6476 - val_mse: 2249297.5000\n",
            "Epoch 49/100\n",
            "13/18 [====================>.........] - ETA: 0s - loss: 129.5298 - mae: 129.5298 - mse: 92432.5547 "
          ]
        },
        {
          "output_type": "stream",
          "name": "stderr",
          "text": [
            "WARNING:absl:Found untraced functions such as _update_step_xla while saving (showing 1 of 1). These functions will not be directly callable after loading.\n"
          ]
        },
        {
          "output_type": "stream",
          "name": "stdout",
          "text": [
            "\b\b\b\b\b\b\b\b\b\b\b\b\b\b\b\b\b\b\b\b\b\b\b\b\b\b\b\b\b\b\b\b\b\b\b\b\b\b\b\b\b\b\b\b\b\b\b\b\b\b\b\b\b\b\b\b\b\b\b\b\b\b\b\b\b\b\b\b\b\b\b\b\b\b\b\b\b\b\b\b\b\b\b\b\b\b\b\b\b\b\b\b\b\b\b\b\b\b\b\r18/18 [==============================] - 1s 47ms/step - loss: 132.5250 - mae: 132.5250 - mse: 92749.8438 - val_loss: 675.2822 - val_mae: 675.2822 - val_mse: 1605101.3750\n",
            "Epoch 50/100\n",
            "18/18 [==============================] - 0s 6ms/step - loss: 132.5543 - mae: 132.5543 - mse: 89021.8281 - val_loss: 863.9326 - val_mae: 863.9326 - val_mse: 2285193.5000\n",
            "Epoch 51/100\n",
            "16/18 [=========================>....] - ETA: 0s - loss: 123.1867 - mae: 123.1867 - mse: 82659.9219"
          ]
        },
        {
          "output_type": "stream",
          "name": "stderr",
          "text": [
            "WARNING:absl:Found untraced functions such as _update_step_xla while saving (showing 1 of 1). These functions will not be directly callable after loading.\n"
          ]
        },
        {
          "output_type": "stream",
          "name": "stdout",
          "text": [
            "\b\b\b\b\b\b\b\b\b\b\b\b\b\b\b\b\b\b\b\b\b\b\b\b\b\b\b\b\b\b\b\b\b\b\b\b\b\b\b\b\b\b\b\b\b\b\b\b\b\b\b\b\b\b\b\b\b\b\b\b\b\b\b\b\b\b\b\b\b\b\b\b\b\b\b\b\b\b\b\b\b\b\b\b\b\b\b\b\b\b\b\b\b\b\b\b\b\b\b\r18/18 [==============================] - 1s 46ms/step - loss: 124.7024 - mae: 124.7024 - mse: 86579.9844 - val_loss: 666.6410 - val_mae: 666.6410 - val_mse: 1551169.6250\n",
            "Epoch 52/100\n",
            "18/18 [==============================] - 0s 8ms/step - loss: 121.1579 - mae: 121.1579 - mse: 87230.0547 - val_loss: 684.7266 - val_mae: 684.7266 - val_mse: 1632937.2500\n",
            "Epoch 53/100\n",
            "18/18 [==============================] - 0s 7ms/step - loss: 126.8971 - mae: 126.8971 - mse: 88012.1172 - val_loss: 1077.0902 - val_mae: 1077.0902 - val_mse: 3141206.2500\n",
            "Epoch 54/100\n",
            "18/18 [==============================] - 0s 7ms/step - loss: 139.5369 - mae: 139.5369 - mse: 98368.6562 - val_loss: 1201.9758 - val_mae: 1201.9758 - val_mse: 3407213.2500\n",
            "Epoch 55/100\n",
            "18/18 [==============================] - 0s 7ms/step - loss: 179.4618 - mae: 179.4618 - mse: 133629.6250 - val_loss: 720.1849 - val_mae: 720.1849 - val_mse: 1750407.1250\n",
            "Epoch 56/100\n",
            "18/18 [==============================] - 0s 6ms/step - loss: 158.4355 - mae: 158.4355 - mse: 112883.4297 - val_loss: 770.5173 - val_mae: 770.5173 - val_mse: 1743543.1250\n",
            "Epoch 57/100\n",
            "18/18 [==============================] - 0s 5ms/step - loss: 126.9013 - mae: 126.9013 - mse: 86645.0625 - val_loss: 798.1744 - val_mae: 798.1744 - val_mse: 1823722.8750\n",
            "Epoch 58/100\n",
            " 1/18 [>.............................] - ETA: 0s - loss: 138.2971 - mae: 138.2971 - mse: 58763.9844"
          ]
        },
        {
          "output_type": "stream",
          "name": "stderr",
          "text": [
            "WARNING:absl:Found untraced functions such as _update_step_xla while saving (showing 1 of 1). These functions will not be directly callable after loading.\n"
          ]
        },
        {
          "output_type": "stream",
          "name": "stdout",
          "text": [
            "\b\b\b\b\b\b\b\b\b\b\b\b\b\b\b\b\b\b\b\b\b\b\b\b\b\b\b\b\b\b\b\b\b\b\b\b\b\b\b\b\b\b\b\b\b\b\b\b\b\b\b\b\b\b\b\b\b\b\b\b\b\b\b\b\b\b\b\b\b\b\b\b\b\b\b\b\b\b\b\b\b\b\b\b\b\b\b\b\b\b\b\b\b\b\b\b\b\b\b\r18/18 [==============================] - 1s 31ms/step - loss: 141.9509 - mae: 141.9509 - mse: 99483.4688 - val_loss: 655.1031 - val_mae: 655.1031 - val_mse: 1437294.6250\n",
            "Epoch 59/100\n",
            "18/18 [==============================] - 0s 5ms/step - loss: 153.9661 - mae: 153.9661 - mse: 112690.6484 - val_loss: 714.4392 - val_mae: 714.4392 - val_mse: 1691813.6250\n",
            "Epoch 60/100\n",
            " 1/18 [>.............................] - ETA: 0s - loss: 128.7359 - mae: 128.7359 - mse: 72572.6328"
          ]
        },
        {
          "output_type": "stream",
          "name": "stderr",
          "text": [
            "WARNING:absl:Found untraced functions such as _update_step_xla while saving (showing 1 of 1). These functions will not be directly callable after loading.\n"
          ]
        },
        {
          "output_type": "stream",
          "name": "stdout",
          "text": [
            "\b\b\b\b\b\b\b\b\b\b\b\b\b\b\b\b\b\b\b\b\b\b\b\b\b\b\b\b\b\b\b\b\b\b\b\b\b\b\b\b\b\b\b\b\b\b\b\b\b\b\b\b\b\b\b\b\b\b\b\b\b\b\b\b\b\b\b\b\b\b\b\b\b\b\b\b\b\b\b\b\b\b\b\b\b\b\b\b\b\b\b\b\b\b\b\b\b\b\b\r18/18 [==============================] - 1s 31ms/step - loss: 119.5844 - mae: 119.5844 - mse: 80474.2656 - val_loss: 644.7630 - val_mae: 644.7630 - val_mse: 1420901.3750\n",
            "Epoch 61/100\n",
            "18/18 [==============================] - 0s 5ms/step - loss: 120.4740 - mae: 120.4740 - mse: 82901.5703 - val_loss: 657.6957 - val_mae: 657.6957 - val_mse: 1497156.1250\n",
            "Epoch 62/100\n",
            "18/18 [==============================] - 0s 6ms/step - loss: 134.2778 - mae: 134.2778 - mse: 89584.9688 - val_loss: 768.1161 - val_mae: 768.1161 - val_mse: 1869286.7500\n",
            "Epoch 63/100\n",
            "18/18 [==============================] - 0s 5ms/step - loss: 134.0859 - mae: 134.0859 - mse: 91896.3203 - val_loss: 1014.3198 - val_mae: 1014.3198 - val_mse: 2571844.2500\n",
            "Epoch 64/100\n",
            "18/18 [==============================] - 0s 5ms/step - loss: 141.4873 - mae: 141.4873 - mse: 93214.3516 - val_loss: 676.4676 - val_mae: 676.4676 - val_mse: 1456160.2500\n",
            "Epoch 65/100\n",
            "18/18 [==============================] - 0s 6ms/step - loss: 128.2339 - mae: 128.2339 - mse: 85550.9844 - val_loss: 666.3709 - val_mae: 666.3709 - val_mse: 1536140.8750\n",
            "Epoch 66/100\n",
            "18/18 [==============================] - 0s 6ms/step - loss: 117.3481 - mae: 117.3481 - mse: 80567.8906 - val_loss: 687.7188 - val_mae: 687.7188 - val_mse: 1483233.8750\n",
            "Epoch 67/100\n",
            "18/18 [==============================] - 0s 5ms/step - loss: 127.1279 - mae: 127.1279 - mse: 86684.3906 - val_loss: 659.3457 - val_mae: 659.3457 - val_mse: 1525184.0000\n",
            "Epoch 68/100\n",
            "18/18 [==============================] - 0s 5ms/step - loss: 120.6209 - mae: 120.6209 - mse: 83126.9297 - val_loss: 825.2881 - val_mae: 825.2881 - val_mse: 1902416.7500\n",
            "Epoch 69/100\n",
            "18/18 [==============================] - 0s 4ms/step - loss: 123.3934 - mae: 123.3934 - mse: 84269.3594 - val_loss: 857.6487 - val_mae: 857.6487 - val_mse: 2015469.8750\n",
            "Epoch 70/100\n",
            "18/18 [==============================] - 0s 6ms/step - loss: 125.1642 - mae: 125.1642 - mse: 86350.7109 - val_loss: 763.5548 - val_mae: 763.5548 - val_mse: 1696173.2500\n",
            "Epoch 71/100\n",
            "18/18 [==============================] - 0s 5ms/step - loss: 120.4521 - mae: 120.4521 - mse: 82002.0938 - val_loss: 720.4583 - val_mae: 720.4583 - val_mse: 1699872.2500\n",
            "Epoch 72/100\n",
            "18/18 [==============================] - 0s 5ms/step - loss: 124.0854 - mae: 124.0854 - mse: 83575.1719 - val_loss: 670.1977 - val_mae: 670.1977 - val_mse: 1532847.1250\n",
            "Epoch 73/100\n",
            "18/18 [==============================] - 0s 5ms/step - loss: 123.7032 - mae: 123.7032 - mse: 84094.8984 - val_loss: 659.6042 - val_mae: 659.6042 - val_mse: 1400865.3750\n",
            "Epoch 74/100\n",
            "18/18 [==============================] - ETA: 0s - loss: 124.1180 - mae: 124.1180 - mse: 82898.7891"
          ]
        },
        {
          "output_type": "stream",
          "name": "stderr",
          "text": [
            "WARNING:absl:Found untraced functions such as _update_step_xla while saving (showing 1 of 1). These functions will not be directly callable after loading.\n"
          ]
        },
        {
          "output_type": "stream",
          "name": "stdout",
          "text": [
            "\b\b\b\b\b\b\b\b\b\b\b\b\b\b\b\b\b\b\b\b\b\b\b\b\b\b\b\b\b\b\b\b\b\b\b\b\b\b\b\b\b\b\b\b\b\b\b\b\b\b\b\b\b\b\b\b\b\b\b\b\b\b\b\b\b\b\b\b\b\b\b\b\b\b\b\b\b\b\b\b\b\b\b\b\b\b\b\b\b\b\b\b\b\b\b\b\b\b\b\r18/18 [==============================] - 1s 32ms/step - loss: 124.1180 - mae: 124.1180 - mse: 82898.7891 - val_loss: 639.4883 - val_mae: 639.4883 - val_mse: 1431095.7500\n",
            "Epoch 75/100\n",
            "18/18 [==============================] - 0s 5ms/step - loss: 143.5184 - mae: 143.5184 - mse: 96541.0078 - val_loss: 1010.0007 - val_mae: 1010.0007 - val_mse: 2553239.2500\n",
            "Epoch 76/100\n",
            "18/18 [==============================] - 0s 6ms/step - loss: 151.1789 - mae: 151.1789 - mse: 102490.8594 - val_loss: 953.0650 - val_mae: 953.0650 - val_mse: 2331619.7500\n",
            "Epoch 77/100\n",
            "18/18 [==============================] - 0s 5ms/step - loss: 141.6053 - mae: 141.6053 - mse: 93543.5547 - val_loss: 881.7277 - val_mae: 881.7277 - val_mse: 2076569.2500\n",
            "Epoch 78/100\n",
            " 1/18 [>.............................] - ETA: 0s - loss: 142.9040 - mae: 142.9040 - mse: 79040.4375"
          ]
        },
        {
          "output_type": "stream",
          "name": "stderr",
          "text": [
            "WARNING:absl:Found untraced functions such as _update_step_xla while saving (showing 1 of 1). These functions will not be directly callable after loading.\n"
          ]
        },
        {
          "output_type": "stream",
          "name": "stdout",
          "text": [
            "\b\b\b\b\b\b\b\b\b\b\b\b\b\b\b\b\b\b\b\b\b\b\b\b\b\b\b\b\b\b\b\b\b\b\b\b\b\b\b\b\b\b\b\b\b\b\b\b\b\b\b\b\b\b\b\b\b\b\b\b\b\b\b\b\b\b\b\b\b\b\b\b\b\b\b\b\b\b\b\b\b\b\b\b\b\b\b\b\b\b\b\b\b\b\b\b\b\b\b\r18/18 [==============================] - 1s 31ms/step - loss: 119.0632 - mae: 119.0632 - mse: 81457.5781 - val_loss: 623.7086 - val_mae: 623.7086 - val_mse: 1380252.5000\n",
            "Epoch 79/100\n",
            "18/18 [==============================] - 0s 5ms/step - loss: 117.2940 - mae: 117.2940 - mse: 78987.9062 - val_loss: 647.7382 - val_mae: 647.7382 - val_mse: 1436698.7500\n",
            "Epoch 80/100\n",
            "18/18 [==============================] - 0s 5ms/step - loss: 131.0021 - mae: 131.0021 - mse: 88445.3438 - val_loss: 929.0020 - val_mae: 929.0020 - val_mse: 2251333.0000\n",
            "Epoch 81/100\n",
            "18/18 [==============================] - 0s 5ms/step - loss: 126.4541 - mae: 126.4541 - mse: 85538.3984 - val_loss: 651.5294 - val_mae: 651.5294 - val_mse: 1477641.5000\n",
            "Epoch 82/100\n",
            "18/18 [==============================] - 0s 4ms/step - loss: 121.8925 - mae: 121.8925 - mse: 80414.4453 - val_loss: 980.1055 - val_mae: 980.1055 - val_mse: 2411883.2500\n",
            "Epoch 83/100\n",
            "18/18 [==============================] - 0s 5ms/step - loss: 131.7027 - mae: 131.7027 - mse: 87028.9453 - val_loss: 629.5603 - val_mae: 629.5603 - val_mse: 1377836.0000\n",
            "Epoch 84/100\n",
            "18/18 [==============================] - 0s 5ms/step - loss: 137.9764 - mae: 137.9764 - mse: 90342.2891 - val_loss: 913.2484 - val_mae: 913.2484 - val_mse: 2173319.5000\n",
            "Epoch 85/100\n",
            "18/18 [==============================] - 0s 5ms/step - loss: 134.9620 - mae: 134.9620 - mse: 90781.5000 - val_loss: 973.4344 - val_mae: 973.4344 - val_mse: 2375443.7500\n",
            "Epoch 86/100\n",
            "18/18 [==============================] - 0s 5ms/step - loss: 142.8050 - mae: 142.8050 - mse: 93345.0000 - val_loss: 717.0531 - val_mae: 717.0531 - val_mse: 1546904.3750\n",
            "Epoch 87/100\n",
            " 1/18 [>.............................] - ETA: 0s - loss: 138.7966 - mae: 138.7966 - mse: 141390.3594"
          ]
        },
        {
          "output_type": "stream",
          "name": "stderr",
          "text": [
            "WARNING:absl:Found untraced functions such as _update_step_xla while saving (showing 1 of 1). These functions will not be directly callable after loading.\n"
          ]
        },
        {
          "output_type": "stream",
          "name": "stdout",
          "text": [
            "\b\b\b\b\b\b\b\b\b\b\b\b\b\b\b\b\b\b\b\b\b\b\b\b\b\b\b\b\b\b\b\b\b\b\b\b\b\b\b\b\b\b\b\b\b\b\b\b\b\b\b\b\b\b\b\b\b\b\b\b\b\b\b\b\b\b\b\b\b\b\b\b\b\b\b\b\b\b\b\b\b\b\b\b\b\b\b\b\b\b\b\b\b\b\b\b\b\b\b\b\r18/18 [==============================] - 1s 31ms/step - loss: 135.0956 - mae: 135.0956 - mse: 91898.0156 - val_loss: 614.9319 - val_mae: 614.9319 - val_mse: 1325648.7500\n",
            "Epoch 88/100\n",
            " 1/18 [>.............................] - ETA: 0s - loss: 116.6489 - mae: 116.6489 - mse: 74076.8828"
          ]
        },
        {
          "output_type": "stream",
          "name": "stderr",
          "text": [
            "WARNING:absl:Found untraced functions such as _update_step_xla while saving (showing 1 of 1). These functions will not be directly callable after loading.\n"
          ]
        },
        {
          "output_type": "stream",
          "name": "stdout",
          "text": [
            "\b\b\b\b\b\b\b\b\b\b\b\b\b\b\b\b\b\b\b\b\b\b\b\b\b\b\b\b\b\b\b\b\b\b\b\b\b\b\b\b\b\b\b\b\b\b\b\b\b\b\b\b\b\b\b\b\b\b\b\b\b\b\b\b\b\b\b\b\b\b\b\b\b\b\b\b\b\b\b\b\b\b\b\b\b\b\b\b\b\b\b\b\b\b\b\b\b\b\b\r18/18 [==============================] - 1s 31ms/step - loss: 114.9421 - mae: 114.9421 - mse: 77967.0000 - val_loss: 611.3671 - val_mae: 611.3671 - val_mse: 1310763.6250\n",
            "Epoch 89/100\n",
            "18/18 [==============================] - 0s 5ms/step - loss: 116.6547 - mae: 116.6547 - mse: 78133.1094 - val_loss: 1083.4550 - val_mae: 1083.4550 - val_mse: 2832367.7500\n",
            "Epoch 90/100\n",
            "18/18 [==============================] - 0s 6ms/step - loss: 150.0244 - mae: 150.0244 - mse: 101500.8359 - val_loss: 639.7157 - val_mae: 639.7157 - val_mse: 1422810.6250\n",
            "Epoch 91/100\n",
            "18/18 [==============================] - 0s 5ms/step - loss: 124.3738 - mae: 124.3738 - mse: 84987.9531 - val_loss: 692.8974 - val_mae: 692.8974 - val_mse: 1471815.7500\n",
            "Epoch 92/100\n",
            "18/18 [==============================] - 0s 5ms/step - loss: 123.7567 - mae: 123.7567 - mse: 82808.4453 - val_loss: 836.4402 - val_mae: 836.4402 - val_mse: 1910815.7500\n",
            "Epoch 93/100\n",
            "18/18 [==============================] - 0s 5ms/step - loss: 165.4297 - mae: 165.4297 - mse: 115939.9375 - val_loss: 885.7441 - val_mae: 885.7441 - val_mse: 2077121.3750\n",
            "Epoch 94/100\n",
            "18/18 [==============================] - 0s 5ms/step - loss: 146.2518 - mae: 146.2518 - mse: 98522.7031 - val_loss: 759.5981 - val_mae: 759.5981 - val_mse: 1666151.6250\n",
            "Epoch 95/100\n",
            "18/18 [==============================] - 0s 5ms/step - loss: 133.2811 - mae: 133.2811 - mse: 91324.0234 - val_loss: 620.6503 - val_mae: 620.6503 - val_mse: 1334237.3750\n",
            "Epoch 96/100\n",
            "18/18 [==============================] - 0s 5ms/step - loss: 129.4956 - mae: 129.4956 - mse: 88752.9609 - val_loss: 646.7310 - val_mae: 646.7310 - val_mse: 1350016.7500\n",
            "Epoch 97/100\n",
            "18/18 [==============================] - 0s 5ms/step - loss: 122.7753 - mae: 122.7753 - mse: 81221.4141 - val_loss: 654.0894 - val_mae: 654.0894 - val_mse: 1445166.3750\n",
            "Epoch 98/100\n",
            "18/18 [==============================] - 0s 5ms/step - loss: 113.4205 - mae: 113.4205 - mse: 75643.1250 - val_loss: 642.0084 - val_mae: 642.0084 - val_mse: 1350392.3750\n",
            "Epoch 99/100\n",
            "18/18 [==============================] - 0s 6ms/step - loss: 113.4053 - mae: 113.4053 - mse: 75552.0078 - val_loss: 657.0223 - val_mae: 657.0223 - val_mse: 1380521.5000\n",
            "Epoch 100/100\n",
            "18/18 [==============================] - 0s 5ms/step - loss: 128.5152 - mae: 128.5152 - mse: 82288.3438 - val_loss: 661.8653 - val_mae: 661.8653 - val_mse: 1461949.6250\n"
          ]
        }
      ],
      "source": [
        "import tensorflow as tf\n",
        "\n",
        "# Set random seed for as reproducible results as possible\n",
        "tf.random.set_seed(42)\n",
        "\n",
        "# Construct model\n",
        "model_2 = tf.keras.Sequential([\n",
        "    tf.keras.layers.Dense(128, activation=\"relu\"),\n",
        "    tf.keras.layers.Dense(HORIZON, activation=\"linear\"), # linear activation is the same as having no activation\n",
        "], name=\"model_2\") # name our model so we can save it \n",
        "\n",
        "# 2. Compile the model\n",
        "model_2.compile(loss=\"mae\",\n",
        "                optimizer=tf.keras.optimizers.Adam(),\n",
        "                metrics=[\"mae\", \"mse\"])\n",
        "# 3. Fit the model\n",
        "history_model_2 = model_2.fit(train_windows,\n",
        "                              train_labels,\n",
        "                              epochs=100,\n",
        "                              verbose=1,\n",
        "                              batch_size=128,\n",
        "                              validation_data=(test_windows,test_labels),\n",
        "                              callbacks=[create_model_checkpoint(model_name=model_2.name)])"
      ]
    },
    {
      "cell_type": "code",
      "execution_count": 177,
      "metadata": {
        "id": "DbX3KQlfX2Vn"
      },
      "outputs": [],
      "source": []
    },
    {
      "cell_type": "code",
      "execution_count": 178,
      "metadata": {
        "colab": {
          "base_uri": "https://localhost:8080/"
        },
        "id": "LoWJfTE3XAGr",
        "outputId": "65f62150-5906-463e-c744-d6e38d17637d"
      },
      "outputs": [
        {
          "output_type": "stream",
          "name": "stdout",
          "text": [
            "18/18 [==============================] - 0s 2ms/step - loss: 661.8653 - mae: 661.8653 - mse: 1461949.6250\n"
          ]
        },
        {
          "output_type": "execute_result",
          "data": {
            "text/plain": [
              "[661.8652954101562, 661.8652954101562, 1461949.625]"
            ]
          },
          "metadata": {},
          "execution_count": 178
        }
      ],
      "source": [
        "model_2.evaluate(test_windows, test_labels)"
      ]
    },
    {
      "cell_type": "code",
      "execution_count": 179,
      "metadata": {
        "colab": {
          "base_uri": "https://localhost:8080/"
        },
        "id": "9X1ofLj1Xl78",
        "outputId": "0cb77fb3-064d-42ef-edf0-1cebce124491"
      },
      "outputs": [
        {
          "output_type": "stream",
          "name": "stdout",
          "text": [
            "18/18 [==============================] - 0s 2ms/step - loss: 661.8653 - mae: 661.8653 - mse: 1461949.6250\n"
          ]
        },
        {
          "output_type": "execute_result",
          "data": {
            "text/plain": [
              "[661.8652954101562, 661.8652954101562, 1461949.625]"
            ]
          },
          "metadata": {},
          "execution_count": 179
        }
      ],
      "source": [
        "mmodel_2 = tf.keras.models.load_model(\"model_experiments/model_2/\")\n",
        "model_2.evaluate(test_windows, test_labels)"
      ]
    },
    {
      "cell_type": "code",
      "execution_count": 180,
      "metadata": {
        "colab": {
          "base_uri": "https://localhost:8080/"
        },
        "id": "IwYm0f9Obg69",
        "outputId": "5f7dcb62-c95e-47c2-8e9e-e78fccb4c1b4"
      },
      "outputs": [
        {
          "output_type": "stream",
          "name": "stdout",
          "text": [
            "18/18 [==============================] - 0s 2ms/step\n"
          ]
        }
      ],
      "source": [
        "model_2_preds = make_preds(model_2,input_data=test_windows)"
      ]
    },
    {
      "cell_type": "code",
      "execution_count": 181,
      "metadata": {
        "colab": {
          "base_uri": "https://localhost:8080/"
        },
        "id": "4hgIbCGWYSZN",
        "outputId": "68984ec4-c369-47a5-910d-ea4d55a4e664"
      },
      "outputs": [
        {
          "output_type": "execute_result",
          "data": {
            "text/plain": [
              "(TensorShape([552]), TensorShape([552]))"
            ]
          },
          "metadata": {},
          "execution_count": 181
        }
      ],
      "source": [
        "tf.squeeze(test_labels).shape, model_2_preds.shape"
      ]
    },
    {
      "cell_type": "code",
      "execution_count": 182,
      "metadata": {
        "colab": {
          "base_uri": "https://localhost:8080/"
        },
        "id": "ZTUjQuiNbYFN",
        "outputId": "d8b66c91-d944-4fb0-b16a-61d3b9c611cc"
      },
      "outputs": [
        {
          "output_type": "execute_result",
          "data": {
            "text/plain": [
              "{'mae': 661.86536,\n",
              " 'mape': 3.106012,\n",
              " 'mase': 1.1569471,\n",
              " 'mse': 1461949.6,\n",
              " 'rmse': 1209.1111}"
            ]
          },
          "metadata": {},
          "execution_count": 182
        }
      ],
      "source": [
        "model_2_results = evaluate_preds(y_true=tf.squeeze(test_labels),y_pred=model_2_preds)\n",
        "model_2_results"
      ]
    },
    {
      "cell_type": "code",
      "execution_count": 183,
      "metadata": {
        "colab": {
          "base_uri": "https://localhost:8080/"
        },
        "id": "-B592xOySIZb",
        "outputId": "cac9493e-7426-45cf-c1f8-172e64a95327"
      },
      "outputs": [
        {
          "output_type": "execute_result",
          "data": {
            "text/plain": [
              "{'mae': 570.34906,\n",
              " 'mape': 2.57956,\n",
              " 'mase': 1.0019454,\n",
              " 'mse': 1177342.8,\n",
              " 'rmse': 1085.0542}"
            ]
          },
          "metadata": {},
          "execution_count": 183
        }
      ],
      "source": [
        "model_1_results"
      ]
    },
    {
      "cell_type": "code",
      "execution_count": 184,
      "metadata": {
        "colab": {
          "base_uri": "https://localhost:8080/",
          "height": 619
        },
        "id": "7OgPGwC7SQFW",
        "outputId": "c01344c0-5a31-4c43-9429-d682f956b4b8"
      },
      "outputs": [
        {
          "output_type": "display_data",
          "data": {
            "text/plain": [
              "<Figure size 1000x700 with 1 Axes>"
            ],
            "image/png": "[encoded data removed]"
          },
          "metadata": {}
        }
      ],
      "source": [
        "offset = 300\n",
        "plt.figure(figsize=(10,7))\n",
        "# Account for test_window offset when plotting\n",
        "plot_time_series(timesteps=X_test[-len(test_windows):], values = test_labels[:,0], start=offset, label=\"test data\")\n",
        "plot_time_series(timesteps=X_test[-len(test_windows):], values = model_2_preds, start=offset, format=\"-\", label=\"pred data\")"
      ]
    },
    {
      "cell_type": "markdown",
      "source": [
        "## model 3: Dense (window = 30, horizon=7)"
      ],
      "metadata": {
        "id": "YjgGbFGaaSCS"
      }
    },
    {
      "cell_type": "code",
      "source": [
        "HORIZON = 7\n",
        "WINDOW_SIZE = 30\n",
        "\n",
        "# Make windowe data with appropriate horizon and window sizes\n",
        "full_windows, full_labels = make_windows(prices, window_size = WINDOW_SIZE, horizon = HORIZON)\n",
        "len(full_windows), len(full_labels)\n",
        "\n",
        "# Make train and testing windows\n",
        "train_windows, test_windows, train_labels, test_labels = make_train_test_splits(windows=full_windows,\n",
        "                                                                               labels=full_labels,\n",
        "                                                                               test_split=0.2)\n",
        "len(train_windows), len(test_windows), len(train_labels), len(test_labels)\n"
      ],
      "metadata": {
        "colab": {
          "base_uri": "https://localhost:8080/"
        },
        "id": "H2-kjkAjaN0T",
        "outputId": "d75581c4-e613-4a65-a17d-b7650914a0e8"
      },
      "execution_count": 185,
      "outputs": [
        {
          "output_type": "execute_result",
          "data": {
            "text/plain": [
              "(2200, 551, 2200, 551)"
            ]
          },
          "metadata": {},
          "execution_count": 185
        }
      ]
    },
    {
      "cell_type": "code",
      "source": [
        "\n",
        "import tensorflow as tf\n",
        "\n",
        "# Set random seed for as reproducible results as possible\n",
        "tf.random.set_seed(42)\n",
        "\n",
        "# Construct model\n",
        "model_3 = tf.keras.Sequential([\n",
        "    tf.keras.layers.Dense(128, activation=\"relu\"),\n",
        "    tf.keras.layers.Dense(HORIZON), # linear activation is the same as having no activation\n",
        "], name=\"model_3\") # name our model so we can save it \n",
        "\n",
        "# 2. Compile the model\n",
        "model_3.compile(loss=\"mae\",\n",
        "                optimizer=tf.keras.optimizers.Adam(),\n",
        "                metrics=[\"mae\", \"mse\"])\n",
        "# 3. Fit the model\n",
        "history_model_3 = model_3.fit(train_windows,\n",
        "                              train_labels,\n",
        "                              epochs=100,\n",
        "                              verbose=1,\n",
        "                              batch_size=128,\n",
        "                              validation_data=(test_windows,test_labels),\n",
        "                              callbacks=[create_model_checkpoint(model_name=model_3.name)])"
      ],
      "metadata": {
        "colab": {
          "base_uri": "https://localhost:8080/"
        },
        "id": "xSHCIggvcFKd",
        "outputId": "a91a15c0-3de6-4137-a4ad-de87f0f739d9"
      },
      "execution_count": 186,
      "outputs": [
        {
          "output_type": "stream",
          "name": "stdout",
          "text": [
            "Epoch 1/100\n",
            "11/18 [=================>............] - ETA: 0s - loss: 1642.3116 - mae: 1642.3116 - mse: 12126353.0000 "
          ]
        },
        {
          "output_type": "stream",
          "name": "stderr",
          "text": [
            "WARNING:absl:Found untraced functions such as _update_step_xla while saving (showing 1 of 1). These functions will not be directly callable after loading.\n"
          ]
        },
        {
          "output_type": "stream",
          "name": "stdout",
          "text": [
            "\b\b\b\b\b\b\b\b\b\b\b\b\b\b\b\b\b\b\b\b\b\b\b\b\b\b\b\b\b\b\b\b\b\b\b\b\b\b\b\b\b\b\b\b\b\b\b\b\b\b\b\b\b\b\b\b\b\b\b\b\b\b\b\b\b\b\b\b\b\b\b\b\b\b\b\b\b\b\b\b\b\b\b\b\b\b\b\b\b\b\b\b\b\b\b\b\b\b\b\b\b\b\b\b\r18/18 [==============================] - 2s 42ms/step - loss: 1283.6884 - mae: 1283.6884 - mse: 8426314.0000 - val_loss: 3281.6682 - val_mae: 3281.6682 - val_mse: 30608210.0000\n",
            "Epoch 2/100\n",
            " 1/18 [>.............................] - ETA: 0s - loss: 514.3608 - mae: 514.3608 - mse: 1248016.5000"
          ]
        },
        {
          "output_type": "stream",
          "name": "stderr",
          "text": [
            "WARNING:absl:Found untraced functions such as _update_step_xla while saving (showing 1 of 1). These functions will not be directly callable after loading.\n"
          ]
        },
        {
          "output_type": "stream",
          "name": "stdout",
          "text": [
            "\b\b\b\b\b\b\b\b\b\b\b\b\b\b\b\b\b\b\b\b\b\b\b\b\b\b\b\b\b\b\b\b\b\b\b\b\b\b\b\b\b\b\b\b\b\b\b\b\b\b\b\b\b\b\b\b\b\b\b\b\b\b\b\b\b\b\b\b\b\b\b\b\b\b\b\b\b\b\b\b\b\b\b\b\b\b\b\b\b\b\b\b\b\b\b\b\b\b\b\b\b\r18/18 [==============================] - 1s 39ms/step - loss: 520.6813 - mae: 520.6813 - mse: 1251899.8750 - val_loss: 2372.7715 - val_mae: 2372.7715 - val_mse: 16765627.0000\n",
            "Epoch 3/100\n",
            "12/18 [===================>..........] - ETA: 0s - loss: 423.7466 - mae: 423.7466 - mse: 826799.3125"
          ]
        },
        {
          "output_type": "stream",
          "name": "stderr",
          "text": [
            "WARNING:absl:Found untraced functions such as _update_step_xla while saving (showing 1 of 1). These functions will not be directly callable after loading.\n"
          ]
        },
        {
          "output_type": "stream",
          "name": "stdout",
          "text": [
            "\b\b\b\b\b\b\b\b\b\b\b\b\b\b\b\b\b\b\b\b\b\b\b\b\b\b\b\b\b\b\b\b\b\b\b\b\b\b\b\b\b\b\b\b\b\b\b\b\b\b\b\b\b\b\b\b\b\b\b\b\b\b\b\b\b\b\b\b\b\b\b\b\b\b\b\b\b\b\b\b\b\b\b\b\b\b\b\b\b\b\b\b\b\b\b\b\b\b\b\b\r18/18 [==============================] - 1s 44ms/step - loss: 415.4422 - mae: 415.4422 - mse: 827260.3125 - val_loss: 2202.6428 - val_mae: 2202.6428 - val_mse: 14497179.0000\n",
            "Epoch 4/100\n",
            "15/18 [========================>.....] - ETA: 0s - loss: 377.6763 - mae: 377.6763 - mse: 701228.6875"
          ]
        },
        {
          "output_type": "stream",
          "name": "stderr",
          "text": [
            "WARNING:absl:Found untraced functions such as _update_step_xla while saving (showing 1 of 1). These functions will not be directly callable after loading.\n"
          ]
        },
        {
          "output_type": "stream",
          "name": "stdout",
          "text": [
            "\b\b\b\b\b\b\b\b\b\b\b\b\b\b\b\b\b\b\b\b\b\b\b\b\b\b\b\b\b\b\b\b\b\b\b\b\b\b\b\b\b\b\b\b\b\b\b\b\b\b\b\b\b\b\b\b\b\b\b\b\b\b\b\b\b\b\b\b\b\b\b\b\b\b\b\b\b\b\b\b\b\b\b\b\b\b\b\b\b\b\b\b\b\b\b\b\b\b\b\b\r18/18 [==============================] - 1s 47ms/step - loss: 376.9423 - mae: 376.9423 - mse: 695541.0625 - val_loss: 1915.8156 - val_mae: 1915.8156 - val_mse: 11305071.0000\n",
            "Epoch 5/100\n",
            "14/18 [======================>.......] - ETA: 0s - loss: 344.7623 - mae: 344.7623 - mse: 586113.1875"
          ]
        },
        {
          "output_type": "stream",
          "name": "stderr",
          "text": [
            "WARNING:absl:Found untraced functions such as _update_step_xla while saving (showing 1 of 1). These functions will not be directly callable after loading.\n"
          ]
        },
        {
          "output_type": "stream",
          "name": "stdout",
          "text": [
            "\b\b\b\b\b\b\b\b\b\b\b\b\b\b\b\b\b\b\b\b\b\b\b\b\b\b\b\b\b\b\b\b\b\b\b\b\b\b\b\b\b\b\b\b\b\b\b\b\b\b\b\b\b\b\b\b\b\b\b\b\b\b\b\b\b\b\b\b\b\b\b\b\b\b\b\b\b\b\b\b\b\b\b\b\b\b\b\b\b\b\b\b\b\b\b\b\b\b\b\b\r18/18 [==============================] - 1s 38ms/step - loss: 345.6749 - mae: 345.6749 - mse: 584359.3125 - val_loss: 1896.3601 - val_mae: 1896.3601 - val_mse: 10884302.0000\n",
            "Epoch 6/100\n",
            " 1/18 [>.............................] - ETA: 0s - loss: 280.7844 - mae: 280.7844 - mse: 332466.8125"
          ]
        },
        {
          "output_type": "stream",
          "name": "stderr",
          "text": [
            "WARNING:absl:Found untraced functions such as _update_step_xla while saving (showing 1 of 1). These functions will not be directly callable after loading.\n"
          ]
        },
        {
          "output_type": "stream",
          "name": "stdout",
          "text": [
            "\b\b\b\b\b\b\b\b\b\b\b\b\b\b\b\b\b\b\b\b\b\b\b\b\b\b\b\b\b\b\b\b\b\b\b\b\b\b\b\b\b\b\b\b\b\b\b\b\b\b\b\b\b\b\b\b\b\b\b\b\b\b\b\b\b\b\b\b\b\b\b\b\b\b\b\b\b\b\b\b\b\b\b\b\b\b\b\b\b\b\b\b\b\b\b\b\b\b\b\b\r18/18 [==============================] - 1s 51ms/step - loss: 325.0765 - mae: 325.0765 - mse: 512844.4062 - val_loss: 1860.3877 - val_mae: 1860.3877 - val_mse: 10330134.0000\n",
            "Epoch 7/100\n",
            " 1/18 [>.............................] - ETA: 0s - loss: 292.1211 - mae: 292.1211 - mse: 428199.3750"
          ]
        },
        {
          "output_type": "stream",
          "name": "stderr",
          "text": [
            "WARNING:absl:Found untraced functions such as _update_step_xla while saving (showing 1 of 1). These functions will not be directly callable after loading.\n"
          ]
        },
        {
          "output_type": "stream",
          "name": "stdout",
          "text": [
            "\b\b\b\b\b\b\b\b\b\b\b\b\b\b\b\b\b\b\b\b\b\b\b\b\b\b\b\b\b\b\b\b\b\b\b\b\b\b\b\b\b\b\b\b\b\b\b\b\b\b\b\b\b\b\b\b\b\b\b\b\b\b\b\b\b\b\b\b\b\b\b\b\b\b\b\b\b\b\b\b\b\b\b\b\b\b\b\b\b\b\b\b\b\b\b\b\b\b\b\b\r18/18 [==============================] - 1s 31ms/step - loss: 310.4941 - mae: 310.4941 - mse: 479405.2500 - val_loss: 1706.3157 - val_mae: 1706.3157 - val_mse: 8933501.0000\n",
            "Epoch 8/100\n",
            " 1/18 [>.............................] - ETA: 0s - loss: 280.8302 - mae: 280.8302 - mse: 374692.6875"
          ]
        },
        {
          "output_type": "stream",
          "name": "stderr",
          "text": [
            "WARNING:absl:Found untraced functions such as _update_step_xla while saving (showing 1 of 1). These functions will not be directly callable after loading.\n"
          ]
        },
        {
          "output_type": "stream",
          "name": "stdout",
          "text": [
            "\b\b\b\b\b\b\b\b\b\b\b\b\b\b\b\b\b\b\b\b\b\b\b\b\b\b\b\b\b\b\b\b\b\b\b\b\b\b\b\b\b\b\b\b\b\b\b\b\b\b\b\b\b\b\b\b\b\b\b\b\b\b\b\b\b\b\b\b\b\b\b\b\b\b\b\b\b\b\b\b\b\b\b\b\b\b\b\b\b\b\b\b\b\b\b\b\b\b\b\b\r18/18 [==============================] - 1s 32ms/step - loss: 299.5992 - mae: 299.5992 - mse: 444965.2500 - val_loss: 1640.8026 - val_mae: 1640.8026 - val_mse: 8504829.0000\n",
            "Epoch 9/100\n",
            "18/18 [==============================] - 0s 5ms/step - loss: 294.1226 - mae: 294.1226 - mse: 428345.1875 - val_loss: 1815.4014 - val_mae: 1815.4014 - val_mse: 9599060.0000\n",
            "Epoch 10/100\n",
            "17/18 [===========================>..] - ETA: 0s - loss: 301.7764 - mae: 301.7764 - mse: 431008.0625"
          ]
        },
        {
          "output_type": "stream",
          "name": "stderr",
          "text": [
            "WARNING:absl:Found untraced functions such as _update_step_xla while saving (showing 1 of 1). These functions will not be directly callable after loading.\n"
          ]
        },
        {
          "output_type": "stream",
          "name": "stdout",
          "text": [
            "\b\b\b\b\b\b\b\b\b\b\b\b\b\b\b\b\b\b\b\b\b\b\b\b\b\b\b\b\b\b\b\b\b\b\b\b\b\b\b\b\b\b\b\b\b\b\b\b\b\b\b\b\b\b\b\b\b\b\b\b\b\b\b\b\b\b\b\b\b\b\b\b\b\b\b\b\b\b\b\b\b\b\b\b\b\b\b\b\b\b\b\b\b\b\b\b\b\b\b\b\r18/18 [==============================] - 1s 33ms/step - loss: 303.7041 - mae: 303.7041 - mse: 438419.2188 - val_loss: 1628.3206 - val_mae: 1628.3206 - val_mse: 8340892.5000\n",
            "Epoch 11/100\n",
            " 1/18 [>.............................] - ETA: 0s - loss: 296.3434 - mae: 296.3434 - mse: 433351.5625"
          ]
        },
        {
          "output_type": "stream",
          "name": "stderr",
          "text": [
            "WARNING:absl:Found untraced functions such as _update_step_xla while saving (showing 1 of 1). These functions will not be directly callable after loading.\n"
          ]
        },
        {
          "output_type": "stream",
          "name": "stdout",
          "text": [
            "\b\b\b\b\b\b\b\b\b\b\b\b\b\b\b\b\b\b\b\b\b\b\b\b\b\b\b\b\b\b\b\b\b\b\b\b\b\b\b\b\b\b\b\b\b\b\b\b\b\b\b\b\b\b\b\b\b\b\b\b\b\b\b\b\b\b\b\b\b\b\b\b\b\b\b\b\b\b\b\b\b\b\b\b\b\b\b\b\b\b\b\b\b\b\b\b\b\b\b\b\r18/18 [==============================] - 1s 31ms/step - loss: 281.9954 - mae: 281.9954 - mse: 399331.6562 - val_loss: 1542.6947 - val_mae: 1542.6947 - val_mse: 7636160.5000\n",
            "Epoch 12/100\n",
            "18/18 [==============================] - 0s 5ms/step - loss: 277.1881 - mae: 277.1881 - mse: 391159.3750 - val_loss: 1615.5569 - val_mae: 1615.5569 - val_mse: 8085736.5000\n",
            "Epoch 13/100\n",
            " 1/18 [>.............................] - ETA: 0s - loss: 242.4966 - mae: 242.4966 - mse: 330101.1250"
          ]
        },
        {
          "output_type": "stream",
          "name": "stderr",
          "text": [
            "WARNING:absl:Found untraced functions such as _update_step_xla while saving (showing 1 of 1). These functions will not be directly callable after loading.\n"
          ]
        },
        {
          "output_type": "stream",
          "name": "stdout",
          "text": [
            "\b\b\b\b\b\b\b\b\b\b\b\b\b\b\b\b\b\b\b\b\b\b\b\b\b\b\b\b\b\b\b\b\b\b\b\b\b\b\b\b\b\b\b\b\b\b\b\b\b\b\b\b\b\b\b\b\b\b\b\b\b\b\b\b\b\b\b\b\b\b\b\b\b\b\b\b\b\b\b\b\b\b\b\b\b\b\b\b\b\b\b\b\b\b\b\b\b\b\b\b\r18/18 [==============================] - 1s 33ms/step - loss: 274.4194 - mae: 274.4194 - mse: 382307.2188 - val_loss: 1464.4301 - val_mae: 1464.4301 - val_mse: 7166533.0000\n",
            "Epoch 14/100\n",
            " 1/18 [>.............................] - ETA: 0s - loss: 258.1790 - mae: 258.1790 - mse: 292376.8125"
          ]
        },
        {
          "output_type": "stream",
          "name": "stderr",
          "text": [
            "WARNING:absl:Found untraced functions such as _update_step_xla while saving (showing 1 of 1). These functions will not be directly callable after loading.\n"
          ]
        },
        {
          "output_type": "stream",
          "name": "stdout",
          "text": [
            "\b\b\b\b\b\b\b\b\b\b\b\b\b\b\b\b\b\b\b\b\b\b\b\b\b\b\b\b\b\b\b\b\b\b\b\b\b\b\b\b\b\b\b\b\b\b\b\b\b\b\b\b\b\b\b\b\b\b\b\b\b\b\b\b\b\b\b\b\b\b\b\b\b\b\b\b\b\b\b\b\b\b\b\b\b\b\b\b\b\b\b\b\b\b\b\b\b\b\b\b\r18/18 [==============================] - 1s 30ms/step - loss: 278.5890 - mae: 278.5890 - mse: 386945.9688 - val_loss: 1464.1523 - val_mae: 1464.1523 - val_mse: 7115302.5000\n",
            "Epoch 15/100\n",
            "18/18 [==============================] - 0s 5ms/step - loss: 270.2077 - mae: 270.2077 - mse: 371099.1875 - val_loss: 1575.6014 - val_mae: 1575.6014 - val_mse: 7675940.0000\n",
            "Epoch 16/100\n",
            "18/18 [==============================] - 0s 5ms/step - loss: 265.9354 - mae: 265.9354 - mse: 360355.6562 - val_loss: 1519.3619 - val_mae: 1519.3619 - val_mse: 7237193.5000\n",
            "Epoch 17/100\n",
            "18/18 [==============================] - 0s 7ms/step - loss: 266.8181 - mae: 266.8181 - mse: 362520.8125 - val_loss: 1681.2804 - val_mae: 1681.2804 - val_mse: 8477500.0000\n",
            "Epoch 18/100\n",
            "18/18 [==============================] - 0s 5ms/step - loss: 268.0031 - mae: 268.0031 - mse: 361698.7500 - val_loss: 1657.3424 - val_mae: 1657.3424 - val_mse: 8349103.0000\n",
            "Epoch 19/100\n",
            "18/18 [==============================] - 0s 5ms/step - loss: 263.2806 - mae: 263.2806 - mse: 353442.8750 - val_loss: 1747.8695 - val_mae: 1747.8695 - val_mse: 9106221.0000\n",
            "Epoch 20/100\n",
            "18/18 [==============================] - 0s 5ms/step - loss: 269.1300 - mae: 269.1300 - mse: 356276.8438 - val_loss: 1559.5150 - val_mae: 1559.5150 - val_mse: 7598805.0000\n",
            "Epoch 21/100\n",
            "18/18 [==============================] - 0s 5ms/step - loss: 261.2920 - mae: 261.2920 - mse: 344916.3438 - val_loss: 1576.6116 - val_mae: 1576.6116 - val_mse: 7651918.5000\n",
            "Epoch 22/100\n",
            "18/18 [==============================] - 0s 5ms/step - loss: 261.1102 - mae: 261.1102 - mse: 341351.4375 - val_loss: 1491.3153 - val_mae: 1491.3153 - val_mse: 7047302.5000\n",
            "Epoch 23/100\n",
            "18/18 [==============================] - ETA: 0s - loss: 264.6147 - mae: 264.6147 - mse: 347088.8438"
          ]
        },
        {
          "output_type": "stream",
          "name": "stderr",
          "text": [
            "WARNING:absl:Found untraced functions such as _update_step_xla while saving (showing 1 of 1). These functions will not be directly callable after loading.\n"
          ]
        },
        {
          "output_type": "stream",
          "name": "stdout",
          "text": [
            "\b\b\b\b\b\b\b\b\b\b\b\b\b\b\b\b\b\b\b\b\b\b\b\b\b\b\b\b\b\b\b\b\b\b\b\b\b\b\b\b\b\b\b\b\b\b\b\b\b\b\b\b\b\b\b\b\b\b\b\b\b\b\b\b\b\b\b\b\b\b\b\b\b\b\b\b\b\b\b\b\b\b\b\b\b\b\b\b\b\b\b\b\b\b\b\b\b\b\b\b\r18/18 [==============================] - 1s 34ms/step - loss: 264.6147 - mae: 264.6147 - mse: 347088.8438 - val_loss: 1403.6510 - val_mae: 1403.6510 - val_mse: 6682069.0000\n",
            "Epoch 24/100\n",
            "17/18 [===========================>..] - ETA: 0s - loss: 282.2634 - mae: 282.2634 - mse: 380387.6250"
          ]
        },
        {
          "output_type": "stream",
          "name": "stderr",
          "text": [
            "WARNING:absl:Found untraced functions such as _update_step_xla while saving (showing 1 of 1). These functions will not be directly callable after loading.\n"
          ]
        },
        {
          "output_type": "stream",
          "name": "stdout",
          "text": [
            "\b\b\b\b\b\b\b\b\b\b\b\b\b\b\b\b\b\b\b\b\b\b\b\b\b\b\b\b\b\b\b\b\b\b\b\b\b\b\b\b\b\b\b\b\b\b\b\b\b\b\b\b\b\b\b\b\b\b\b\b\b\b\b\b\b\b\b\b\b\b\b\b\b\b\b\b\b\b\b\b\b\b\b\b\b\b\b\b\b\b\b\b\b\b\b\b\b\b\b\b\r18/18 [==============================] - 1s 32ms/step - loss: 281.0328 - mae: 281.0328 - mse: 377379.8750 - val_loss: 1379.7509 - val_mae: 1379.7509 - val_mse: 6492994.0000\n",
            "Epoch 25/100\n",
            "18/18 [==============================] - 0s 5ms/step - loss: 267.3364 - mae: 267.3364 - mse: 350883.7500 - val_loss: 1745.3566 - val_mae: 1745.3566 - val_mse: 8711901.0000\n",
            "Epoch 26/100\n",
            "18/18 [==============================] - 0s 5ms/step - loss: 259.6049 - mae: 259.6049 - mse: 335778.7188 - val_loss: 1474.3566 - val_mae: 1474.3566 - val_mse: 6902285.0000\n",
            "Epoch 27/100\n",
            "18/18 [==============================] - 0s 5ms/step - loss: 249.9019 - mae: 249.9019 - mse: 324983.3438 - val_loss: 1438.6149 - val_mae: 1438.6149 - val_mse: 6638632.5000\n",
            "Epoch 28/100\n",
            " 1/18 [>.............................] - ETA: 0s - loss: 230.0865 - mae: 230.0865 - mse: 252318.1406"
          ]
        },
        {
          "output_type": "stream",
          "name": "stderr",
          "text": [
            "WARNING:absl:Found untraced functions such as _update_step_xla while saving (showing 1 of 1). These functions will not be directly callable after loading.\n"
          ]
        },
        {
          "output_type": "stream",
          "name": "stdout",
          "text": [
            "\b\b\b\b\b\b\b\b\b\b\b\b\b\b\b\b\b\b\b\b\b\b\b\b\b\b\b\b\b\b\b\b\b\b\b\b\b\b\b\b\b\b\b\b\b\b\b\b\b\b\b\b\b\b\b\b\b\b\b\b\b\b\b\b\b\b\b\b\b\b\b\b\b\b\b\b\b\b\b\b\b\b\b\b\b\b\b\b\b\b\b\b\b\b\b\b\b\b\b\b\r18/18 [==============================] - 1s 32ms/step - loss: 250.3929 - mae: 250.3929 - mse: 321707.7812 - val_loss: 1375.5016 - val_mae: 1375.5016 - val_mse: 6292242.5000\n",
            "Epoch 29/100\n",
            "18/18 [==============================] - 0s 5ms/step - loss: 245.9437 - mae: 245.9437 - mse: 317567.1875 - val_loss: 1449.8295 - val_mae: 1449.8295 - val_mse: 6675781.0000\n",
            "Epoch 30/100\n",
            "18/18 [==============================] - 0s 5ms/step - loss: 248.7410 - mae: 248.7410 - mse: 323386.1250 - val_loss: 1418.1016 - val_mae: 1418.1016 - val_mse: 6619467.5000\n",
            "Epoch 31/100\n",
            "18/18 [==============================] - 0s 5ms/step - loss: 246.3797 - mae: 246.3797 - mse: 313446.2500 - val_loss: 1392.2174 - val_mae: 1392.2174 - val_mse: 6468438.0000\n",
            "Epoch 32/100\n",
            " 1/18 [>.............................] - ETA: 0s - loss: 245.0534 - mae: 245.0534 - mse: 261117.0625"
          ]
        },
        {
          "output_type": "stream",
          "name": "stderr",
          "text": [
            "WARNING:absl:Found untraced functions such as _update_step_xla while saving (showing 1 of 1). These functions will not be directly callable after loading.\n"
          ]
        },
        {
          "output_type": "stream",
          "name": "stdout",
          "text": [
            "\b\b\b\b\b\b\b\b\b\b\b\b\b\b\b\b\b\b\b\b\b\b\b\b\b\b\b\b\b\b\b\b\b\b\b\b\b\b\b\b\b\b\b\b\b\b\b\b\b\b\b\b\b\b\b\b\b\b\b\b\b\b\b\b\b\b\b\b\b\b\b\b\b\b\b\b\b\b\b\b\b\b\b\b\b\b\b\b\b\b\b\b\b\b\b\b\b\b\b\b\r18/18 [==============================] - 1s 32ms/step - loss: 246.9694 - mae: 246.9694 - mse: 316400.2500 - val_loss: 1330.6733 - val_mae: 1330.6733 - val_mse: 6098390.0000\n",
            "Epoch 33/100\n",
            "18/18 [==============================] - 0s 6ms/step - loss: 248.2285 - mae: 248.2285 - mse: 316751.8750 - val_loss: 1405.1150 - val_mae: 1405.1150 - val_mse: 6474704.0000\n",
            "Epoch 34/100\n",
            "18/18 [==============================] - 0s 5ms/step - loss: 246.9636 - mae: 246.9636 - mse: 314500.2188 - val_loss: 1396.5737 - val_mae: 1396.5737 - val_mse: 6378707.0000\n",
            "Epoch 35/100\n",
            "18/18 [==============================] - 0s 5ms/step - loss: 245.7788 - mae: 245.7788 - mse: 311557.0938 - val_loss: 1378.5409 - val_mae: 1378.5409 - val_mse: 6282276.0000\n",
            "Epoch 36/100\n",
            "18/18 [==============================] - 0s 5ms/step - loss: 245.3481 - mae: 245.3481 - mse: 315447.1562 - val_loss: 1398.6744 - val_mae: 1398.6744 - val_mse: 6604962.5000\n",
            "Epoch 37/100\n",
            "18/18 [==============================] - 0s 6ms/step - loss: 263.4244 - mae: 263.4244 - mse: 341831.2188 - val_loss: 1430.2365 - val_mae: 1430.2365 - val_mse: 6541268.0000\n",
            "Epoch 38/100\n",
            "18/18 [==============================] - 0s 4ms/step - loss: 246.6499 - mae: 246.6499 - mse: 309948.5625 - val_loss: 1390.4551 - val_mae: 1390.4551 - val_mse: 6349284.5000\n",
            "Epoch 39/100\n",
            "18/18 [==============================] - 0s 5ms/step - loss: 246.6230 - mae: 246.6230 - mse: 311450.7500 - val_loss: 1420.9651 - val_mae: 1420.9651 - val_mse: 6589814.5000\n",
            "Epoch 40/100\n",
            "18/18 [==============================] - 0s 6ms/step - loss: 245.0633 - mae: 245.0633 - mse: 309555.0312 - val_loss: 1611.0745 - val_mae: 1611.0745 - val_mse: 7446849.0000\n",
            "Epoch 41/100\n",
            "18/18 [==============================] - 0s 5ms/step - loss: 245.8405 - mae: 245.8405 - mse: 308986.3750 - val_loss: 1558.8982 - val_mae: 1558.8982 - val_mse: 7375032.0000\n",
            "Epoch 42/100\n",
            "18/18 [==============================] - 0s 5ms/step - loss: 251.0252 - mae: 251.0252 - mse: 322414.6250 - val_loss: 1418.1226 - val_mae: 1418.1226 - val_mse: 6465768.5000\n",
            "Epoch 43/100\n",
            " 1/18 [>.............................] - ETA: 0s - loss: 270.4401 - mae: 270.4401 - mse: 390551.9375"
          ]
        },
        {
          "output_type": "stream",
          "name": "stderr",
          "text": [
            "WARNING:absl:Found untraced functions such as _update_step_xla while saving (showing 1 of 1). These functions will not be directly callable after loading.\n"
          ]
        },
        {
          "output_type": "stream",
          "name": "stdout",
          "text": [
            "\b\b\b\b\b\b\b\b\b\b\b\b\b\b\b\b\b\b\b\b\b\b\b\b\b\b\b\b\b\b\b\b\b\b\b\b\b\b\b\b\b\b\b\b\b\b\b\b\b\b\b\b\b\b\b\b\b\b\b\b\b\b\b\b\b\b\b\b\b\b\b\b\b\b\b\b\b\b\b\b\b\b\b\b\b\b\b\b\b\b\b\b\b\b\b\b\b\b\b\b\r18/18 [==============================] - 1s 29ms/step - loss: 237.1774 - mae: 237.1774 - mse: 294918.9375 - val_loss: 1303.5377 - val_mae: 1303.5377 - val_mse: 5874043.5000\n",
            "Epoch 44/100\n",
            "18/18 [==============================] - 0s 5ms/step - loss: 245.1877 - mae: 245.1877 - mse: 305037.7188 - val_loss: 1327.3090 - val_mae: 1327.3090 - val_mse: 6002371.0000\n",
            "Epoch 45/100\n",
            "18/18 [==============================] - 0s 5ms/step - loss: 239.7920 - mae: 239.7920 - mse: 298418.1875 - val_loss: 1438.8046 - val_mae: 1438.8046 - val_mse: 6426850.0000\n",
            "Epoch 46/100\n",
            "14/18 [======================>.......] - ETA: 0s - loss: 244.5009 - mae: 244.5009 - mse: 314613.0625"
          ]
        },
        {
          "output_type": "stream",
          "name": "stderr",
          "text": [
            "WARNING:absl:Found untraced functions such as _update_step_xla while saving (showing 1 of 1). These functions will not be directly callable after loading.\n"
          ]
        },
        {
          "output_type": "stream",
          "name": "stdout",
          "text": [
            "\b\b\b\b\b\b\b\b\b\b\b\b\b\b\b\b\b\b\b\b\b\b\b\b\b\b\b\b\b\b\b\b\b\b\b\b\b\b\b\b\b\b\b\b\b\b\b\b\b\b\b\b\b\b\b\b\b\b\b\b\b\b\b\b\b\b\b\b\b\b\b\b\b\b\b\b\b\b\b\b\b\b\b\b\b\b\b\b\b\b\b\b\b\b\b\b\b\b\b\b\r18/18 [==============================] - 1s 45ms/step - loss: 240.1674 - mae: 240.1674 - mse: 298627.5938 - val_loss: 1296.6959 - val_mae: 1296.6959 - val_mse: 5808128.0000\n",
            "Epoch 47/100\n",
            "18/18 [==============================] - 0s 7ms/step - loss: 237.8260 - mae: 237.8260 - mse: 299797.4375 - val_loss: 1369.7866 - val_mae: 1369.7866 - val_mse: 6090240.0000\n",
            "Epoch 48/100\n",
            "18/18 [==============================] - 0s 7ms/step - loss: 235.0157 - mae: 235.0157 - mse: 292987.7188 - val_loss: 1302.3910 - val_mae: 1302.3910 - val_mse: 5843425.5000\n",
            "Epoch 49/100\n",
            "18/18 [==============================] - 0s 8ms/step - loss: 248.0302 - mae: 248.0302 - mse: 305301.5312 - val_loss: 1400.7405 - val_mae: 1400.7405 - val_mse: 6674682.5000\n",
            "Epoch 50/100\n",
            "13/18 [====================>.........] - ETA: 0s - loss: 245.5332 - mae: 245.5332 - mse: 309208.4375"
          ]
        },
        {
          "output_type": "stream",
          "name": "stderr",
          "text": [
            "WARNING:absl:Found untraced functions such as _update_step_xla while saving (showing 1 of 1). These functions will not be directly callable after loading.\n"
          ]
        },
        {
          "output_type": "stream",
          "name": "stdout",
          "text": [
            "\b\b\b\b\b\b\b\b\b\b\b\b\b\b\b\b\b\b\b\b\b\b\b\b\b\b\b\b\b\b\b\b\b\b\b\b\b\b\b\b\b\b\b\b\b\b\b\b\b\b\b\b\b\b\b\b\b\b\b\b\b\b\b\b\b\b\b\b\b\b\b\b\b\b\b\b\b\b\b\b\b\b\b\b\b\b\b\b\b\b\b\b\b\b\b\b\b\b\b\b\r18/18 [==============================] - 1s 44ms/step - loss: 244.4364 - mae: 244.4364 - mse: 305969.4062 - val_loss: 1289.8929 - val_mae: 1289.8929 - val_mse: 5752320.0000\n",
            "Epoch 51/100\n",
            "18/18 [==============================] - 0s 7ms/step - loss: 243.2256 - mae: 243.2256 - mse: 298016.2500 - val_loss: 1431.4648 - val_mae: 1431.4648 - val_mse: 6329275.0000\n",
            "Epoch 52/100\n",
            "18/18 [==============================] - 0s 8ms/step - loss: 235.8403 - mae: 235.8403 - mse: 289640.7188 - val_loss: 1329.8451 - val_mae: 1329.8451 - val_mse: 5894982.0000\n",
            "Epoch 53/100\n",
            "18/18 [==============================] - 0s 7ms/step - loss: 234.2713 - mae: 234.2713 - mse: 290215.9062 - val_loss: 1291.0553 - val_mae: 1291.0553 - val_mse: 5763405.0000\n",
            "Epoch 54/100\n",
            "18/18 [==============================] - 0s 5ms/step - loss: 236.2077 - mae: 236.2077 - mse: 293859.7812 - val_loss: 1301.4011 - val_mae: 1301.4011 - val_mse: 5881713.5000\n",
            "Epoch 55/100\n",
            " 1/18 [>.............................] - ETA: 0s - loss: 306.7165 - mae: 306.7165 - mse: 357001.6875"
          ]
        },
        {
          "output_type": "stream",
          "name": "stderr",
          "text": [
            "WARNING:absl:Found untraced functions such as _update_step_xla while saving (showing 1 of 1). These functions will not be directly callable after loading.\n"
          ]
        },
        {
          "output_type": "stream",
          "name": "stdout",
          "text": [
            "\b\b\b\b\b\b\b\b\b\b\b\b\b\b\b\b\b\b\b\b\b\b\b\b\b\b\b\b\b\b\b\b\b\b\b\b\b\b\b\b\b\b\b\b\b\b\b\b\b\b\b\b\b\b\b\b\b\b\b\b\b\b\b\b\b\b\b\b\b\b\b\b\b\b\b\b\b\b\b\b\b\b\b\b\b\b\b\b\b\b\b\b\b\b\b\b\b\b\b\b\r18/18 [==============================] - 1s 31ms/step - loss: 236.8084 - mae: 236.8084 - mse: 287877.4375 - val_loss: 1278.0005 - val_mae: 1278.0005 - val_mse: 5626251.0000\n",
            "Epoch 56/100\n",
            "18/18 [==============================] - 0s 5ms/step - loss: 234.1268 - mae: 234.1268 - mse: 289722.3750 - val_loss: 1362.3510 - val_mae: 1362.3510 - val_mse: 6022243.5000\n",
            "Epoch 57/100\n",
            "18/18 [==============================] - 0s 6ms/step - loss: 239.3488 - mae: 239.3488 - mse: 298634.2812 - val_loss: 1318.5938 - val_mae: 1318.5938 - val_mse: 5800283.0000\n",
            "Epoch 58/100\n",
            "18/18 [==============================] - 0s 5ms/step - loss: 235.9048 - mae: 235.9048 - mse: 287119.5938 - val_loss: 1334.4568 - val_mae: 1334.4568 - val_mse: 5895643.0000\n",
            "Epoch 59/100\n",
            "18/18 [==============================] - 0s 5ms/step - loss: 232.2183 - mae: 232.2183 - mse: 285586.9375 - val_loss: 1280.9070 - val_mae: 1280.9070 - val_mse: 5717358.0000\n",
            "Epoch 60/100\n",
            "18/18 [==============================] - 0s 5ms/step - loss: 235.4993 - mae: 235.4993 - mse: 290445.8750 - val_loss: 1288.9977 - val_mae: 1288.9977 - val_mse: 5730599.5000\n",
            "Epoch 61/100\n",
            "18/18 [==============================] - 0s 5ms/step - loss: 231.1843 - mae: 231.1843 - mse: 285087.1562 - val_loss: 1374.5494 - val_mae: 1374.5494 - val_mse: 6024135.5000\n",
            "Epoch 62/100\n",
            "18/18 [==============================] - 0s 5ms/step - loss: 234.0023 - mae: 234.0023 - mse: 285027.1875 - val_loss: 1311.5619 - val_mae: 1311.5619 - val_mse: 6018280.0000\n",
            "Epoch 63/100\n",
            "18/18 [==============================] - 0s 5ms/step - loss: 235.8741 - mae: 235.8741 - mse: 291417.8750 - val_loss: 1380.2034 - val_mae: 1380.2034 - val_mse: 6263357.5000\n",
            "Epoch 64/100\n",
            " 1/18 [>.............................] - ETA: 0s - loss: 259.3679 - mae: 259.3679 - mse: 271460.8750"
          ]
        },
        {
          "output_type": "stream",
          "name": "stderr",
          "text": [
            "WARNING:absl:Found untraced functions such as _update_step_xla while saving (showing 1 of 1). These functions will not be directly callable after loading.\n"
          ]
        },
        {
          "output_type": "stream",
          "name": "stdout",
          "text": [
            "\b\b\b\b\b\b\b\b\b\b\b\b\b\b\b\b\b\b\b\b\b\b\b\b\b\b\b\b\b\b\b\b\b\b\b\b\b\b\b\b\b\b\b\b\b\b\b\b\b\b\b\b\b\b\b\b\b\b\b\b\b\b\b\b\b\b\b\b\b\b\b\b\b\b\b\b\b\b\b\b\b\b\b\b\b\b\b\b\b\b\b\b\b\b\b\b\b\b\b\b\r18/18 [==============================] - 1s 31ms/step - loss: 233.2109 - mae: 233.2109 - mse: 286956.0000 - val_loss: 1273.2216 - val_mae: 1273.2216 - val_mse: 5605392.5000\n",
            "Epoch 65/100\n",
            "18/18 [==============================] - 0s 5ms/step - loss: 232.3080 - mae: 232.3080 - mse: 288166.5938 - val_loss: 1375.0168 - val_mae: 1375.0168 - val_mse: 6046532.5000\n",
            "Epoch 66/100\n",
            "18/18 [==============================] - 0s 5ms/step - loss: 234.0215 - mae: 234.0215 - mse: 288204.2188 - val_loss: 1598.7418 - val_mae: 1598.7418 - val_mse: 7464547.5000\n",
            "Epoch 67/100\n",
            "18/18 [==============================] - 0s 4ms/step - loss: 245.1862 - mae: 245.1862 - mse: 301519.7188 - val_loss: 1311.1403 - val_mae: 1311.1403 - val_mse: 5702847.5000\n",
            "Epoch 68/100\n",
            "18/18 [==============================] - 0s 4ms/step - loss: 236.3420 - mae: 236.3420 - mse: 288985.4688 - val_loss: 1345.3470 - val_mae: 1345.3470 - val_mse: 5818097.5000\n",
            "Epoch 69/100\n",
            "18/18 [==============================] - 0s 5ms/step - loss: 230.5056 - mae: 230.5056 - mse: 275565.0938 - val_loss: 1582.5819 - val_mae: 1582.5819 - val_mse: 7406759.5000\n",
            "Epoch 70/100\n",
            "18/18 [==============================] - 0s 5ms/step - loss: 236.6934 - mae: 236.6934 - mse: 293602.7500 - val_loss: 1293.5466 - val_mae: 1293.5466 - val_mse: 5651116.5000\n",
            "Epoch 71/100\n",
            " 1/18 [>.............................] - ETA: 0s - loss: 198.0916 - mae: 198.0916 - mse: 175416.5156"
          ]
        },
        {
          "output_type": "stream",
          "name": "stderr",
          "text": [
            "WARNING:absl:Found untraced functions such as _update_step_xla while saving (showing 1 of 1). These functions will not be directly callable after loading.\n"
          ]
        },
        {
          "output_type": "stream",
          "name": "stdout",
          "text": [
            "\b\b\b\b\b\b\b\b\b\b\b\b\b\b\b\b\b\b\b\b\b\b\b\b\b\b\b\b\b\b\b\b\b\b\b\b\b\b\b\b\b\b\b\b\b\b\b\b\b\b\b\b\b\b\b\b\b\b\b\b\b\b\b\b\b\b\b\b\b\b\b\b\b\b\b\b\b\b\b\b\b\b\b\b\b\b\b\b\b\b\b\b\b\b\b\b\b\b\b\b\r18/18 [==============================] - 1s 31ms/step - loss: 230.1976 - mae: 230.1976 - mse: 284709.7812 - val_loss: 1254.7311 - val_mae: 1254.7311 - val_mse: 5485656.0000\n",
            "Epoch 72/100\n",
            " 1/18 [>.............................] - ETA: 0s - loss: 274.1070 - mae: 274.1070 - mse: 442978.6250"
          ]
        },
        {
          "output_type": "stream",
          "name": "stderr",
          "text": [
            "WARNING:absl:Found untraced functions such as _update_step_xla while saving (showing 1 of 1). These functions will not be directly callable after loading.\n"
          ]
        },
        {
          "output_type": "stream",
          "name": "stdout",
          "text": [
            "\b\b\b\b\b\b\b\b\b\b\b\b\b\b\b\b\b\b\b\b\b\b\b\b\b\b\b\b\b\b\b\b\b\b\b\b\b\b\b\b\b\b\b\b\b\b\b\b\b\b\b\b\b\b\b\b\b\b\b\b\b\b\b\b\b\b\b\b\b\b\b\b\b\b\b\b\b\b\b\b\b\b\b\b\b\b\b\b\b\b\b\b\b\b\b\b\b\b\b\b\r18/18 [==============================] - 1s 30ms/step - loss: 229.5098 - mae: 229.5098 - mse: 276796.6875 - val_loss: 1251.4795 - val_mae: 1251.4795 - val_mse: 5473449.0000\n",
            "Epoch 73/100\n",
            "18/18 [==============================] - 0s 5ms/step - loss: 227.5029 - mae: 227.5029 - mse: 276842.4375 - val_loss: 1260.2506 - val_mae: 1260.2506 - val_mse: 5509568.5000\n",
            "Epoch 74/100\n",
            "18/18 [==============================] - 0s 5ms/step - loss: 227.1224 - mae: 227.1224 - mse: 278465.5312 - val_loss: 1357.6158 - val_mae: 1357.6158 - val_mse: 5891725.0000\n",
            "Epoch 75/100\n",
            "18/18 [==============================] - 0s 6ms/step - loss: 229.8398 - mae: 229.8398 - mse: 279925.4688 - val_loss: 1395.9688 - val_mae: 1395.9688 - val_mse: 6218482.5000\n",
            "Epoch 76/100\n",
            "18/18 [==============================] - 0s 5ms/step - loss: 230.6599 - mae: 230.6599 - mse: 281220.4062 - val_loss: 1257.2947 - val_mae: 1257.2947 - val_mse: 5506507.5000\n",
            "Epoch 77/100\n",
            "18/18 [==============================] - 0s 4ms/step - loss: 232.0459 - mae: 232.0459 - mse: 284419.1250 - val_loss: 1276.8777 - val_mae: 1276.8777 - val_mse: 5539689.5000\n",
            "Epoch 78/100\n",
            "18/18 [==============================] - 0s 4ms/step - loss: 228.6800 - mae: 228.6800 - mse: 276354.0625 - val_loss: 1257.5626 - val_mae: 1257.5626 - val_mse: 5507910.0000\n",
            "Epoch 79/100\n",
            "18/18 [==============================] - 0s 5ms/step - loss: 230.1031 - mae: 230.1031 - mse: 277879.1875 - val_loss: 1295.9623 - val_mae: 1295.9623 - val_mse: 5606620.0000\n",
            "Epoch 80/100\n",
            "18/18 [==============================] - 0s 4ms/step - loss: 225.4517 - mae: 225.4517 - mse: 271699.1875 - val_loss: 1358.7540 - val_mae: 1358.7540 - val_mse: 6014910.0000\n",
            "Epoch 81/100\n",
            "18/18 [==============================] - 0s 5ms/step - loss: 231.0034 - mae: 231.0034 - mse: 283499.0312 - val_loss: 1263.2922 - val_mae: 1263.2922 - val_mse: 5567222.0000\n",
            "Epoch 82/100\n",
            "18/18 [==============================] - 0s 4ms/step - loss: 225.3728 - mae: 225.3728 - mse: 274838.2188 - val_loss: 1274.1025 - val_mae: 1274.1025 - val_mse: 5503054.0000\n",
            "Epoch 83/100\n",
            "18/18 [==============================] - 0s 5ms/step - loss: 232.0164 - mae: 232.0164 - mse: 283571.9062 - val_loss: 1294.3539 - val_mae: 1294.3539 - val_mse: 5687086.0000\n",
            "Epoch 84/100\n",
            "18/18 [==============================] - 0s 5ms/step - loss: 227.5255 - mae: 227.5255 - mse: 277687.9062 - val_loss: 1267.6317 - val_mae: 1267.6317 - val_mse: 5571849.0000\n",
            "Epoch 85/100\n",
            "18/18 [==============================] - 0s 5ms/step - loss: 229.4171 - mae: 229.4171 - mse: 279902.7812 - val_loss: 1268.6713 - val_mae: 1268.6713 - val_mse: 5477764.0000\n",
            "Epoch 86/100\n",
            "18/18 [==============================] - 0s 6ms/step - loss: 224.6446 - mae: 224.6446 - mse: 274441.0625 - val_loss: 1310.8311 - val_mae: 1310.8311 - val_mse: 5651707.5000\n",
            "Epoch 87/100\n",
            "18/18 [==============================] - 0s 5ms/step - loss: 231.1391 - mae: 231.1391 - mse: 279175.8438 - val_loss: 1344.9496 - val_mae: 1344.9496 - val_mse: 5890011.5000\n",
            "Epoch 88/100\n",
            "18/18 [==============================] - 0s 6ms/step - loss: 227.8713 - mae: 227.8713 - mse: 276328.2500 - val_loss: 1551.7793 - val_mae: 1551.7793 - val_mse: 6974712.0000\n",
            "Epoch 89/100\n",
            "18/18 [==============================] - 0s 5ms/step - loss: 233.9037 - mae: 233.9037 - mse: 280729.0312 - val_loss: 1362.7556 - val_mae: 1362.7556 - val_mse: 5943939.0000\n",
            "Epoch 90/100\n",
            "18/18 [==============================] - 0s 5ms/step - loss: 234.4537 - mae: 234.4537 - mse: 282817.8438 - val_loss: 1368.1013 - val_mae: 1368.1013 - val_mse: 5868454.0000\n",
            "Epoch 91/100\n",
            "18/18 [==============================] - 0s 5ms/step - loss: 227.9381 - mae: 227.9381 - mse: 274910.8125 - val_loss: 1308.6742 - val_mae: 1308.6742 - val_mse: 5609635.5000\n",
            "Epoch 92/100\n",
            " 1/18 [>.............................] - ETA: 0s - loss: 229.1217 - mae: 229.1217 - mse: 212089.3438"
          ]
        },
        {
          "output_type": "stream",
          "name": "stderr",
          "text": [
            "WARNING:absl:Found untraced functions such as _update_step_xla while saving (showing 1 of 1). These functions will not be directly callable after loading.\n"
          ]
        },
        {
          "output_type": "stream",
          "name": "stdout",
          "text": [
            "\b\b\b\b\b\b\b\b\b\b\b\b\b\b\b\b\b\b\b\b\b\b\b\b\b\b\b\b\b\b\b\b\b\b\b\b\b\b\b\b\b\b\b\b\b\b\b\b\b\b\b\b\b\b\b\b\b\b\b\b\b\b\b\b\b\b\b\b\b\b\b\b\b\b\b\b\b\b\b\b\b\b\b\b\b\b\b\b\b\b\b\b\b\b\b\b\b\b\b\b\r18/18 [==============================] - 1s 32ms/step - loss: 227.9503 - mae: 227.9503 - mse: 275590.4062 - val_loss: 1240.8328 - val_mae: 1240.8328 - val_mse: 5572315.0000\n",
            "Epoch 93/100\n",
            "18/18 [==============================] - 0s 5ms/step - loss: 232.0030 - mae: 232.0030 - mse: 277426.4062 - val_loss: 1486.8599 - val_mae: 1486.8599 - val_mse: 6568566.0000\n",
            "Epoch 94/100\n",
            " 1/18 [>.............................] - ETA: 0s - loss: 273.4993 - mae: 273.4993 - mse: 296677.3125"
          ]
        },
        {
          "output_type": "stream",
          "name": "stderr",
          "text": [
            "WARNING:absl:Found untraced functions such as _update_step_xla while saving (showing 1 of 1). These functions will not be directly callable after loading.\n"
          ]
        },
        {
          "output_type": "stream",
          "name": "stdout",
          "text": [
            "\b\b\b\b\b\b\b\b\b\b\b\b\b\b\b\b\b\b\b\b\b\b\b\b\b\b\b\b\b\b\b\b\b\b\b\b\b\b\b\b\b\b\b\b\b\b\b\b\b\b\b\b\b\b\b\b\b\b\b\b\b\b\b\b\b\b\b\b\b\b\b\b\b\b\b\b\b\b\b\b\b\b\b\b\b\b\b\b\b\b\b\b\b\b\b\b\b\b\b\b\r18/18 [==============================] - 1s 29ms/step - loss: 237.1079 - mae: 237.1079 - mse: 285245.4688 - val_loss: 1236.9578 - val_mae: 1236.9578 - val_mse: 5310694.5000\n",
            "Epoch 95/100\n",
            "18/18 [==============================] - 0s 5ms/step - loss: 224.5074 - mae: 224.5074 - mse: 270015.8750 - val_loss: 1258.1063 - val_mae: 1258.1063 - val_mse: 5436014.5000\n",
            "Epoch 96/100\n",
            "18/18 [==============================] - 0s 5ms/step - loss: 229.7267 - mae: 229.7267 - mse: 277819.6250 - val_loss: 1419.0909 - val_mae: 1419.0909 - val_mse: 6291538.5000\n",
            "Epoch 97/100\n",
            "18/18 [==============================] - 0s 6ms/step - loss: 237.5098 - mae: 237.5098 - mse: 286630.8125 - val_loss: 1368.2672 - val_mae: 1368.2672 - val_mse: 5952673.5000\n",
            "Epoch 98/100\n",
            "18/18 [==============================] - 0s 5ms/step - loss: 234.0816 - mae: 234.0816 - mse: 282198.9375 - val_loss: 1357.4259 - val_mae: 1357.4259 - val_mse: 5855010.0000\n",
            "Epoch 99/100\n",
            "18/18 [==============================] - 0s 5ms/step - loss: 230.1817 - mae: 230.1817 - mse: 280785.4062 - val_loss: 1289.6798 - val_mae: 1289.6798 - val_mse: 5575148.0000\n",
            "Epoch 100/100\n",
            "18/18 [==============================] - 0s 5ms/step - loss: 227.3803 - mae: 227.3803 - mse: 276833.1250 - val_loss: 1377.1836 - val_mae: 1377.1836 - val_mse: 5992680.5000\n"
          ]
        }
      ]
    },
    {
      "cell_type": "code",
      "source": [
        "model_3.evaluate(test_windows, test_labels)"
      ],
      "metadata": {
        "colab": {
          "base_uri": "https://localhost:8080/"
        },
        "id": "DMcXpGNMbCjZ",
        "outputId": "75bcffae-ea37-45dc-d1d4-db2333031523"
      },
      "execution_count": 187,
      "outputs": [
        {
          "output_type": "stream",
          "name": "stdout",
          "text": [
            "18/18 [==============================] - 0s 2ms/step - loss: 1377.1835 - mae: 1377.1835 - mse: 5992680.5000\n"
          ]
        },
        {
          "output_type": "execute_result",
          "data": {
            "text/plain": [
              "[1377.1834716796875, 1377.1834716796875, 5992680.5]"
            ]
          },
          "metadata": {},
          "execution_count": 187
        }
      ]
    },
    {
      "cell_type": "code",
      "source": [
        "mmodel_3 = tf.keras.models.load_model(\"model_experiments/model_3/\")\n",
        "model_3.evaluate(test_windows, test_labels)\n"
      ],
      "metadata": {
        "colab": {
          "base_uri": "https://localhost:8080/"
        },
        "id": "5YkEsY4YbDqb",
        "outputId": "4c5bc65c-6c5f-4f6a-ebb2-f353650e30be"
      },
      "execution_count": 188,
      "outputs": [
        {
          "output_type": "stream",
          "name": "stdout",
          "text": [
            "18/18 [==============================] - 0s 3ms/step - loss: 1377.1835 - mae: 1377.1835 - mse: 5992680.5000\n"
          ]
        },
        {
          "output_type": "execute_result",
          "data": {
            "text/plain": [
              "[1377.1834716796875, 1377.1834716796875, 5992680.5]"
            ]
          },
          "metadata": {},
          "execution_count": 188
        }
      ]
    },
    {
      "cell_type": "code",
      "source": [
        "model_3_preds = make_preds(model_3,input_data=test_windows)"
      ],
      "metadata": {
        "colab": {
          "base_uri": "https://localhost:8080/"
        },
        "id": "FMyzTB4lctnO",
        "outputId": "fc7a3524-e13d-4a9b-a088-109007c70f9b"
      },
      "execution_count": 189,
      "outputs": [
        {
          "output_type": "stream",
          "name": "stdout",
          "text": [
            "18/18 [==============================] - 0s 2ms/step\n"
          ]
        }
      ]
    },
    {
      "cell_type": "markdown",
      "source": [
        "Make our evaluation function  work for larger horizons"
      ],
      "metadata": {
        "id": "mTcDI6ZmeY3b"
      }
    },
    {
      "cell_type": "code",
      "source": [
        "model_3_results = evaluate_preds(y_true=tf.squeeze(test_labels),y_pred=model_3_preds)\n",
        "model_3_results"
      ],
      "metadata": {
        "colab": {
          "base_uri": "https://localhost:8080/"
        },
        "id": "fwaIejyxbDlg",
        "outputId": "2c29b526-db65-46ff-c8a2-2c84114b6a90"
      },
      "execution_count": 190,
      "outputs": [
        {
          "output_type": "execute_result",
          "data": {
            "text/plain": [
              "{'mae': 1377.1836,\n",
              " 'mape': 6.1086483,\n",
              " 'mase': 2.0064585,\n",
              " 'mse': 5992680.0,\n",
              " 'rmse': 2447.995}"
            ]
          },
          "metadata": {},
          "execution_count": 190
        }
      ]
    },
    {
      "cell_type": "code",
      "source": [
        " model_3_results, model_2_results, naive_results"
      ],
      "metadata": {
        "colab": {
          "base_uri": "https://localhost:8080/"
        },
        "id": "MrfuAJX3bDje",
        "outputId": "dc6128da-7560-4531-a59a-eb7dec16d655"
      },
      "execution_count": 191,
      "outputs": [
        {
          "output_type": "execute_result",
          "data": {
            "text/plain": [
              "({'mae': 1377.1836,\n",
              "  'mape': 6.1086483,\n",
              "  'mase': 2.0064585,\n",
              "  'mse': 5992680.0,\n",
              "  'rmse': 2447.995},\n",
              " {'mae': 661.86536,\n",
              "  'mape': 3.106012,\n",
              "  'mase': 1.1569471,\n",
              "  'mse': 1461949.6,\n",
              "  'rmse': 1209.1111},\n",
              " {'mae': 567.9802,\n",
              "  'mape': 2.516525,\n",
              "  'mase': 0.99957,\n",
              "  'mse': 1147547.0,\n",
              "  'rmse': 1071.2362})"
            ]
          },
          "metadata": {},
          "execution_count": 191
        }
      ]
    },
    {
      "cell_type": "code",
      "source": [
        "model_3_preds.shape, test_labels[:,0].shape"
      ],
      "metadata": {
        "colab": {
          "base_uri": "https://localhost:8080/"
        },
        "id": "QyWmoarKnli-",
        "outputId": "4aed800f-cf06-4d50-8cdc-7bd5a8a266b1"
      },
      "execution_count": 192,
      "outputs": [
        {
          "output_type": "execute_result",
          "data": {
            "text/plain": [
              "(TensorShape([551, 7]), (551,))"
            ]
          },
          "metadata": {},
          "execution_count": 192
        }
      ]
    },
    {
      "cell_type": "markdown",
      "source": [
        "We've made and evaluated prediction with model_3, let's visualize, visualize, visualize!"
      ],
      "metadata": {
        "id": "c8JiaD3ctA_Y"
      }
    },
    {
      "cell_type": "code",
      "source": [
        "offset = 300\n",
        "plt.figure(figsize=(10,7))\n",
        "# Account for test_window offset when plotting\n",
        "plot_time_series(timesteps=X_test[-len(test_windows):], values = test_labels[:,0],format=\"-\", start=offset, label=\"test data\")\n",
        "plot_time_series(timesteps=X_test[-len(test_windows):], values = model_3_preds, start=offset, label=\"model_3_preds\")"
      ],
      "metadata": {
        "colab": {
          "base_uri": "https://localhost:8080/",
          "height": 0
        },
        "id": "VCzzuJETtAv_",
        "outputId": "730fe8ce-9248-431b-f651-6adf9c73586a"
      },
      "execution_count": 193,
      "outputs": [
        {
          "output_type": "display_data",
          "data": {
            "text/plain": [
              "<Figure size 1000x700 with 1 Axes>"
            ],
            "image/png": "[encoded data removed]"
          },
          "metadata": {}
        }
      ]
    },
    {
      "cell_type": "code",
      "source": [
        "model_3_preds[0]"
      ],
      "metadata": {
        "colab": {
          "base_uri": "https://localhost:8080/"
        },
        "id": "G-0FULcYy526",
        "outputId": "9499cd4e-2b3b-4871-87c9-c0162bcd6474"
      },
      "execution_count": 194,
      "outputs": [
        {
          "output_type": "execute_result",
          "data": {
            "text/plain": [
              "<tf.Tensor: shape=(7,), dtype=float32, numpy=\n",
              "array([9131.846, 9051.68 , 9266.802, 9085.605, 9098.709, 9058.755,\n",
              "       9153.127], dtype=float32)>"
            ]
          },
          "metadata": {},
          "execution_count": 194
        }
      ]
    },
    {
      "cell_type": "code",
      "source": [
        "tf.reduce_mean(model_3_preds[0])"
      ],
      "metadata": {
        "colab": {
          "base_uri": "https://localhost:8080/"
        },
        "id": "AucVQePNy_aq",
        "outputId": "70544e9a-9ba9-47ba-9bd4-e7bdeb88b8e9"
      },
      "execution_count": 195,
      "outputs": [
        {
          "output_type": "execute_result",
          "data": {
            "text/plain": [
              "<tf.Tensor: shape=(), dtype=float32, numpy=9120.932>"
            ]
          },
          "metadata": {},
          "execution_count": 195
        }
      ]
    },
    {
      "cell_type": "code",
      "source": [
        "offset = 300\n",
        "plt.figure(figsize=(10,7))\n",
        "# Account for test_window offset when plotting\n",
        "plot_time_series(timesteps=X_test[-len(test_windows):], values = test_labels[:,0], start=offset, label=\"test data\")\n",
        "plot_time_series(timesteps=X_test[-len(test_windows):], values = tf.reduce_mean(model_3_preds, axis=1), format=\"-\", start=offset, label=\"model_3_preds\")"
      ],
      "metadata": {
        "colab": {
          "base_uri": "https://localhost:8080/",
          "height": 0
        },
        "id": "aMvH9ytrx7No",
        "outputId": "5385197f-df41-4458-c47a-2cf31b98bfc7"
      },
      "execution_count": 196,
      "outputs": [
        {
          "output_type": "display_data",
          "data": {
            "text/plain": [
              "<Figure size 1000x700 with 1 Axes>"
            ],
            "image/png": "[encoded data removed]"
          },
          "metadata": {}
        }
      ]
    },
    {
      "cell_type": "markdown",
      "source": [],
      "metadata": {
        "id": "JmQbsw4Szhcb"
      }
    },
    {
      "cell_type": "code",
      "source": [
        "naive_results.values()"
      ],
      "metadata": {
        "colab": {
          "base_uri": "https://localhost:8080/"
        },
        "id": "wB9F8b8u0LQc",
        "outputId": "8a0fc535-c38a-4be1-d1bd-da7f577cf9d2"
      },
      "execution_count": 197,
      "outputs": [
        {
          "output_type": "execute_result",
          "data": {
            "text/plain": [
              "dict_values([567.9802, 2.516525, 0.99957, 1147547.0, 1071.2362])"
            ]
          },
          "metadata": {},
          "execution_count": 197
        }
      ]
    },
    {
      "cell_type": "markdown",
      "source": [
        "## Which of our models is performing the best so far?\n",
        "So we've trained a few models, now let's compare them and see how they've gone..."
      ],
      "metadata": {
        "id": "6mC_Mkj01zZO"
      }
    },
    {
      "cell_type": "code",
      "source": [
        "pd.DataFrame({\"naive\": naive_results[\"mae\"],\n",
        "              \"horizon_1_window_7\": model_1_results[\"mae\"],\n",
        "              \"horizon_1_window_30\": model_2_results[\"mae\"],\n",
        "              \"horizon_7_window_30\": model_3_results[\"mae\"]}, index=[\"mae\"]).plot(figsize=(10,7), kind=\"bar\")"
      ],
      "metadata": {
        "colab": {
          "base_uri": "https://localhost:8080/",
          "height": 0
        },
        "id": "6VEaC45y2KlK",
        "outputId": "6648fc96-af29-4163-a3a7-64af595c61e2"
      },
      "execution_count": 198,
      "outputs": [
        {
          "output_type": "execute_result",
          "data": {
            "text/plain": [
              "<Axes: >"
            ]
          },
          "metadata": {},
          "execution_count": 198
        },
        {
          "output_type": "display_data",
          "data": {
            "text/plain": [
              "<Figure size 1000x700 with 1 Axes>"
            ],
            "image/png": "[encoded data removed]"
          },
          "metadata": {}
        }
      ]
    },
    {
      "cell_type": "code",
      "source": [
        "\n",
        "# import matplotlib.pyplot as plt\n",
        "\n",
        "# plt.plot(list(naive_results.keys()), list(naive_results.values()), marker='o', label='naive_results')\n",
        "# plt.plot(list(model_2_results.keys()), list(model_2_results.values()), marker='o', label='model_2_results')\n",
        "# plt.plot(list(model_3_results.keys()), list(model_3_results.values()), marker='o', label='model_3_results')\n",
        "\n",
        "# plt.legend()\n",
        "# plt.show()\n"
      ],
      "metadata": {
        "id": "m09ruwZxyBiY"
      },
      "execution_count": 199,
      "outputs": []
    },
    {
      "cell_type": "markdown",
      "source": [
        "Note: You might be wondering, why are the naïve results so good? One of the reasons could be due the presence of autocorrelation in the data. If a time series has autocorrelation it means the value at t+1 (the next timestep) is typically close to the value at t (the current\n",
        "timestep). In other words, today's value is probably pretty close to yesterday's value. Of course,\n",
        "this isn't always the case but when it is, a naïve model will often get fairly good results.\n",
        "\n",
        "**Resource:** For more on how autocorrelation influences a model's predictions, see the article[How (not) to use Machine Learning for time series forecasting: avoiding the pitfalls by Vegard Flovik.](https://towardsdatascience.com/how-not-to-use-machine-learning-for-time-series-forecasting-avoiding-the-pitfalls-19f9d7adf424)"
      ],
      "metadata": {
        "id": "E_C1EO1UuZsP"
      }
    },
    {
      "cell_type": "markdown",
      "source": [
        "## Model 4 : Conv1D \n"
      ],
      "metadata": {
        "id": "HipxABprlFJN"
      }
    },
    {
      "cell_type": "code",
      "source": [
        "HORIZON = 1\n",
        "WINDOW_SIZE = 7\n",
        "\n",
        "# Make windowe data with appropriate horizon and window sizes\n",
        "full_windows, full_labels = make_windows(prices, window_size = WINDOW_SIZE, horizon = HORIZON)\n",
        "\n",
        "\n",
        "# Make train and testing windows\n",
        "train_windows, test_windows, train_labels, test_labels = make_train_test_splits(windows=full_windows,\n",
        "                                                                               labels=full_labels,\n",
        "                                                                               test_split=0.2)\n",
        "len(full_windows), len(full_labels), len(train_windows), len(test_windows), len(train_labels), len(test_labels)"
      ],
      "metadata": {
        "colab": {
          "base_uri": "https://localhost:8080/"
        },
        "id": "-CJbSMqjRn-s",
        "outputId": "6ccc24bf-a20c-4600-f6b8-4ba39a1bf0fe"
      },
      "execution_count": 200,
      "outputs": [
        {
          "output_type": "execute_result",
          "data": {
            "text/plain": [
              "(2780, 2780, 2224, 556, 2224, 556)"
            ]
          },
          "metadata": {},
          "execution_count": 200
        }
      ]
    },
    {
      "cell_type": "markdown",
      "source": [
        "To use the Conv1D layer, we need an input shape of : `batch, timesteps, input_dim`...\n",
        "\n",
        "However our data isn't in that shape yet"
      ],
      "metadata": {
        "id": "pTwgdHT99ULq"
      }
    },
    {
      "cell_type": "code",
      "source": [
        "# Check data input shape\n",
        "train_windows[0].shape"
      ],
      "metadata": {
        "colab": {
          "base_uri": "https://localhost:8080/"
        },
        "id": "Fa8xDqrE9m7I",
        "outputId": "b7eca7a9-7457-41e8-82fe-c183ecd59239"
      },
      "execution_count": 201,
      "outputs": [
        {
          "output_type": "execute_result",
          "data": {
            "text/plain": [
              "(7,)"
            ]
          },
          "metadata": {},
          "execution_count": 201
        }
      ]
    },
    {
      "cell_type": "code",
      "source": [
        "# Before we pass our data to the Conv1D layer, we have to reshape it in order to make sure it works\n",
        "x = tf.constant(train_windows[0])\n",
        "x "
      ],
      "metadata": {
        "colab": {
          "base_uri": "https://localhost:8080/"
        },
        "id": "LR9prKZI9-2v",
        "outputId": "8ad78493-0538-42f2-9181-d6cc1db33a68"
      },
      "execution_count": 202,
      "outputs": [
        {
          "output_type": "execute_result",
          "data": {
            "text/plain": [
              "<tf.Tensor: shape=(7,), dtype=float64, numpy=\n",
              "array([123.65499, 125.455  , 108.58483, 118.67466, 121.33866, 120.65533,\n",
              "       121.795  ])>"
            ]
          },
          "metadata": {},
          "execution_count": 202
        }
      ]
    },
    {
      "cell_type": "code",
      "source": [
        "expand_dims_layer = tf.keras.layers.Lambda(lambda x: tf.expand_dims(x, axis=-1)) # add an extra dimension for `input_dim` in the end of the tensor  with -1 and on position 1 with axis=1"
      ],
      "metadata": {
        "id": "CEp3wMhxAMxb"
      },
      "execution_count": 203,
      "outputs": []
    },
    {
      "cell_type": "code",
      "source": [
        "# Test out our lambda layer\n",
        "print(f\"original shape: {x.shape}\") # (WINDOW_SIZE)\n",
        "print(f\"expanded shape: {expand_dims_layer(x).shape}\") # (WINDOW_SIZE)\n",
        "print(f\"Original values with expanded shape:\\n {expand_dims_layer(x)}\")"
      ],
      "metadata": {
        "colab": {
          "base_uri": "https://localhost:8080/"
        },
        "id": "DEZWbMS0CPMD",
        "outputId": "c769b312-4594-41da-ff34-4e1d2f5255b7"
      },
      "execution_count": 204,
      "outputs": [
        {
          "output_type": "stream",
          "name": "stdout",
          "text": [
            "original shape: (7,)\n",
            "expanded shape: (7, 1)\n",
            "Original values with expanded shape:\n",
            " [[123.65499]\n",
            " [125.455  ]\n",
            " [108.58483]\n",
            " [118.67466]\n",
            " [121.33866]\n",
            " [120.65533]\n",
            " [121.795  ]]\n"
          ]
        }
      ]
    },
    {
      "cell_type": "code",
      "source": [
        "import tensorflow as tf\n",
        "\n",
        "# Set random seed for as reproducible results as possible\n",
        "tf.random.set_seed(42)\n",
        "input_shape = train_windows.shape[1:]\n",
        "\n",
        "model_4 = tf.keras.Sequential([\n",
        "    tf.keras.layers.Lambda(lambda x: tf.expand_dims(x, axis=1)),\n",
        "    tf.keras.layers.Conv1D(128, kernel_size=5, strides=1, padding=\"causal\", activation=\"relu\"), # Add a Flatten layer to collapse the spatial dimensions\n",
        "    tf.keras.layers.Dense(HORIZON) # linear activation is the same as having no activation\n",
        "], name=\"model_4\") # name our model so we can save it \n",
        "\n",
        "# 2. Compile the model\n",
        "model_4.compile(loss=\"mae\",\n",
        "                optimizer=tf.keras.optimizers.Adam()) \n",
        "# 3. Fit the model\n",
        "history_model_4 = model_4.fit(train_windows,\n",
        "                              train_labels,\n",
        "                              epochs=100,\n",
        "                              verbose=0,\n",
        "                              batch_size=128,\n",
        "                              validation_data=(test_windows,test_labels),\n",
        "                              callbacks=[create_model_checkpoint(model_name=model_4.name)]);"
      ],
      "metadata": {
        "colab": {
          "base_uri": "https://localhost:8080/"
        },
        "id": "W6FCDgBLRn7G",
        "outputId": "b29f7ef3-5de0-4640-bf59-8ea6c65af9f6"
      },
      "execution_count": 205,
      "outputs": [
        {
          "output_type": "stream",
          "name": "stderr",
          "text": [
            "WARNING:absl:Found untraced functions such as _jit_compiled_convolution_op, _update_step_xla while saving (showing 2 of 2). These functions will not be directly callable after loading.\n",
            "WARNING:absl:Found untraced functions such as _jit_compiled_convolution_op, _update_step_xla while saving (showing 2 of 2). These functions will not be directly callable after loading.\n",
            "WARNING:absl:Found untraced functions such as _jit_compiled_convolution_op, _update_step_xla while saving (showing 2 of 2). These functions will not be directly callable after loading.\n",
            "WARNING:absl:Found untraced functions such as _jit_compiled_convolution_op, _update_step_xla while saving (showing 2 of 2). These functions will not be directly callable after loading.\n",
            "WARNING:absl:Found untraced functions such as _jit_compiled_convolution_op, _update_step_xla while saving (showing 2 of 2). These functions will not be directly callable after loading.\n",
            "WARNING:absl:Found untraced functions such as _jit_compiled_convolution_op, _update_step_xla while saving (showing 2 of 2). These functions will not be directly callable after loading.\n",
            "WARNING:absl:Found untraced functions such as _jit_compiled_convolution_op, _update_step_xla while saving (showing 2 of 2). These functions will not be directly callable after loading.\n",
            "WARNING:absl:Found untraced functions such as _jit_compiled_convolution_op, _update_step_xla while saving (showing 2 of 2). These functions will not be directly callable after loading.\n",
            "WARNING:absl:Found untraced functions such as _jit_compiled_convolution_op, _update_step_xla while saving (showing 2 of 2). These functions will not be directly callable after loading.\n",
            "WARNING:absl:Found untraced functions such as _jit_compiled_convolution_op, _update_step_xla while saving (showing 2 of 2). These functions will not be directly callable after loading.\n",
            "WARNING:absl:Found untraced functions such as _jit_compiled_convolution_op, _update_step_xla while saving (showing 2 of 2). These functions will not be directly callable after loading.\n",
            "WARNING:absl:Found untraced functions such as _jit_compiled_convolution_op, _update_step_xla while saving (showing 2 of 2). These functions will not be directly callable after loading.\n",
            "WARNING:absl:Found untraced functions such as _jit_compiled_convolution_op, _update_step_xla while saving (showing 2 of 2). These functions will not be directly callable after loading.\n",
            "WARNING:absl:Found untraced functions such as _jit_compiled_convolution_op, _update_step_xla while saving (showing 2 of 2). These functions will not be directly callable after loading.\n",
            "WARNING:absl:Found untraced functions such as _jit_compiled_convolution_op, _update_step_xla while saving (showing 2 of 2). These functions will not be directly callable after loading.\n",
            "WARNING:absl:Found untraced functions such as _jit_compiled_convolution_op, _update_step_xla while saving (showing 2 of 2). These functions will not be directly callable after loading.\n",
            "WARNING:absl:Found untraced functions such as _jit_compiled_convolution_op, _update_step_xla while saving (showing 2 of 2). These functions will not be directly callable after loading.\n",
            "WARNING:absl:Found untraced functions such as _jit_compiled_convolution_op, _update_step_xla while saving (showing 2 of 2). These functions will not be directly callable after loading.\n",
            "WARNING:absl:Found untraced functions such as _jit_compiled_convolution_op, _update_step_xla while saving (showing 2 of 2). These functions will not be directly callable after loading.\n",
            "WARNING:absl:Found untraced functions such as _jit_compiled_convolution_op, _update_step_xla while saving (showing 2 of 2). These functions will not be directly callable after loading.\n",
            "WARNING:absl:Found untraced functions such as _jit_compiled_convolution_op, _update_step_xla while saving (showing 2 of 2). These functions will not be directly callable after loading.\n",
            "WARNING:absl:Found untraced functions such as _jit_compiled_convolution_op, _update_step_xla while saving (showing 2 of 2). These functions will not be directly callable after loading.\n",
            "WARNING:absl:Found untraced functions such as _jit_compiled_convolution_op, _update_step_xla while saving (showing 2 of 2). These functions will not be directly callable after loading.\n",
            "WARNING:absl:Found untraced functions such as _jit_compiled_convolution_op, _update_step_xla while saving (showing 2 of 2). These functions will not be directly callable after loading.\n",
            "WARNING:absl:Found untraced functions such as _jit_compiled_convolution_op, _update_step_xla while saving (showing 2 of 2). These functions will not be directly callable after loading.\n",
            "WARNING:absl:Found untraced functions such as _jit_compiled_convolution_op, _update_step_xla while saving (showing 2 of 2). These functions will not be directly callable after loading.\n",
            "WARNING:absl:Found untraced functions such as _jit_compiled_convolution_op, _update_step_xla while saving (showing 2 of 2). These functions will not be directly callable after loading.\n",
            "WARNING:absl:Found untraced functions such as _jit_compiled_convolution_op, _update_step_xla while saving (showing 2 of 2). These functions will not be directly callable after loading.\n",
            "WARNING:absl:Found untraced functions such as _jit_compiled_convolution_op, _update_step_xla while saving (showing 2 of 2). These functions will not be directly callable after loading.\n",
            "WARNING:absl:Found untraced functions such as _jit_compiled_convolution_op, _update_step_xla while saving (showing 2 of 2). These functions will not be directly callable after loading.\n",
            "WARNING:absl:Found untraced functions such as _jit_compiled_convolution_op, _update_step_xla while saving (showing 2 of 2). These functions will not be directly callable after loading.\n",
            "WARNING:absl:Found untraced functions such as _jit_compiled_convolution_op, _update_step_xla while saving (showing 2 of 2). These functions will not be directly callable after loading.\n",
            "WARNING:absl:Found untraced functions such as _jit_compiled_convolution_op, _update_step_xla while saving (showing 2 of 2). These functions will not be directly callable after loading.\n",
            "WARNING:absl:Found untraced functions such as _jit_compiled_convolution_op, _update_step_xla while saving (showing 2 of 2). These functions will not be directly callable after loading.\n",
            "WARNING:absl:Found untraced functions such as _jit_compiled_convolution_op, _update_step_xla while saving (showing 2 of 2). These functions will not be directly callable after loading.\n",
            "WARNING:absl:Found untraced functions such as _jit_compiled_convolution_op, _update_step_xla while saving (showing 2 of 2). These functions will not be directly callable after loading.\n",
            "WARNING:absl:Found untraced functions such as _jit_compiled_convolution_op, _update_step_xla while saving (showing 2 of 2). These functions will not be directly callable after loading.\n",
            "WARNING:absl:Found untraced functions such as _jit_compiled_convolution_op, _update_step_xla while saving (showing 2 of 2). These functions will not be directly callable after loading.\n",
            "WARNING:absl:Found untraced functions such as _jit_compiled_convolution_op, _update_step_xla while saving (showing 2 of 2). These functions will not be directly callable after loading.\n",
            "WARNING:absl:Found untraced functions such as _jit_compiled_convolution_op, _update_step_xla while saving (showing 2 of 2). These functions will not be directly callable after loading.\n",
            "WARNING:absl:Found untraced functions such as _jit_compiled_convolution_op, _update_step_xla while saving (showing 2 of 2). These functions will not be directly callable after loading.\n"
          ]
        }
      ]
    },
    {
      "cell_type": "code",
      "source": [
        "model_4.summary()"
      ],
      "metadata": {
        "colab": {
          "base_uri": "https://localhost:8080/"
        },
        "id": "1IfKKrC2-kOY",
        "outputId": "d79148e1-e370-483e-c467-3ab6811bdb4b"
      },
      "execution_count": 206,
      "outputs": [
        {
          "output_type": "stream",
          "name": "stdout",
          "text": [
            "Model: \"model_4\"\n",
            "_________________________________________________________________\n",
            " Layer (type)                Output Shape              Param #   \n",
            "=================================================================\n",
            " lambda_3 (Lambda)           (None, 1, 7)              0         \n",
            "                                                                 \n",
            " conv1d_1 (Conv1D)           (None, 1, 128)            4608      \n",
            "                                                                 \n",
            " dense_13 (Dense)            (None, 1, 1)              129       \n",
            "                                                                 \n",
            "=================================================================\n",
            "Total params: 4,737\n",
            "Trainable params: 4,737\n",
            "Non-trainable params: 0\n",
            "_________________________________________________________________\n"
          ]
        }
      ]
    },
    {
      "cell_type": "code",
      "source": [
        "model_4 = tf.keras.models.load_model(\"model_experiments/model_4/\")\n",
        "model_4.evaluate(test_windows, test_labels)"
      ],
      "metadata": {
        "colab": {
          "base_uri": "https://localhost:8080/"
        },
        "id": "pHi9-wJ7Sztc",
        "outputId": "c623411a-7d05-4e86-c5fc-f79e703aabce"
      },
      "execution_count": 207,
      "outputs": [
        {
          "output_type": "stream",
          "name": "stdout",
          "text": [
            "18/18 [==============================] - 0s 2ms/step - loss: 565.3797\n"
          ]
        },
        {
          "output_type": "execute_result",
          "data": {
            "text/plain": [
              "565.3796997070312"
            ]
          },
          "metadata": {},
          "execution_count": 207
        }
      ]
    },
    {
      "cell_type": "code",
      "source": [
        "model_4.evaluate(test_windows, test_labels)"
      ],
      "metadata": {
        "colab": {
          "base_uri": "https://localhost:8080/"
        },
        "id": "KXRTKlDA_LMJ",
        "outputId": "dfa72bf2-2c61-479d-e51d-1c151fc7f8ab"
      },
      "execution_count": 208,
      "outputs": [
        {
          "output_type": "stream",
          "name": "stdout",
          "text": [
            "18/18 [==============================] - 0s 2ms/step - loss: 565.3797\n"
          ]
        },
        {
          "output_type": "execute_result",
          "data": {
            "text/plain": [
              "565.3796997070312"
            ]
          },
          "metadata": {},
          "execution_count": 208
        }
      ]
    },
    {
      "cell_type": "code",
      "source": [
        "model_4_preds = make_preds(model_4,test_windows)\n",
        "model_4_preds.shape"
      ],
      "metadata": {
        "colab": {
          "base_uri": "https://localhost:8080/"
        },
        "id": "1qh1S5VmR3VX",
        "outputId": "dfe8bb80-b6a2-4eb9-a41d-5cadb4a94138"
      },
      "execution_count": 209,
      "outputs": [
        {
          "output_type": "stream",
          "name": "stdout",
          "text": [
            "18/18 [==============================] - 0s 2ms/step\n"
          ]
        },
        {
          "output_type": "execute_result",
          "data": {
            "text/plain": [
              "TensorShape([556])"
            ]
          },
          "metadata": {},
          "execution_count": 209
        }
      ]
    },
    {
      "cell_type": "code",
      "source": [
        "model_4_results = evaluate_preds(tf.squeeze(test_labels), model_4_preds)\n",
        "model_4_results"
      ],
      "metadata": {
        "colab": {
          "base_uri": "https://localhost:8080/"
        },
        "id": "pGT97z_WSS7n",
        "outputId": "27585ef1-405b-4e48-b1d4-fbbe141e4635"
      },
      "execution_count": 210,
      "outputs": [
        {
          "output_type": "execute_result",
          "data": {
            "text/plain": [
              "{'mae': 565.37976,\n",
              " 'mape': 2.5328474,\n",
              " 'mase': 0.9932156,\n",
              " 'mse': 1166312.0,\n",
              " 'rmse': 1079.9592}"
            ]
          },
          "metadata": {},
          "execution_count": 210
        }
      ]
    },
    {
      "cell_type": "code",
      "source": [
        "pd.DataFrame({\"naive\": naive_results[\"mae\"],\n",
        "              \"horizon_1_window_7\": model_1_results[\"mae\"],\n",
        "              \"horizon_1_window_30\": model_2_results[\"mae\"],\n",
        "              \"horizon_7_window_30\": model_3_results[\"mae\"],\n",
        "              \"horizon_7_window_30_conv1D\": model_4_results[\"mae\"]}, index=[\"mae\"]).plot(figsize=(10,7), kind=\"bar\")"
      ],
      "metadata": {
        "colab": {
          "base_uri": "https://localhost:8080/",
          "height": 0
        },
        "id": "svx0SSs3ScQY",
        "outputId": "9817be63-b4a5-4898-f0dd-57c4ef87c288"
      },
      "execution_count": 211,
      "outputs": [
        {
          "output_type": "execute_result",
          "data": {
            "text/plain": [
              "<Axes: >"
            ]
          },
          "metadata": {},
          "execution_count": 211
        },
        {
          "output_type": "display_data",
          "data": {
            "text/plain": [
              "<Figure size 1000x700 with 1 Axes>"
            ],
            "image/png": "[encoded data removed]"
          },
          "metadata": {}
        }
      ]
    },
    {
      "cell_type": "markdown",
      "source": [
        "## model 4 :  Conv1D With using KERAS TUNER "
      ],
      "metadata": {
        "id": "9gjad_OcZ4MX"
      }
    },
    {
      "cell_type": "code",
      "source": [
        "#!pip install keras-tuner==1.0.4"
      ],
      "metadata": {
        "id": "cW5AwotsZ9-T"
      },
      "execution_count": 212,
      "outputs": []
    },
    {
      "cell_type": "code",
      "source": [
        "# # function \n",
        "# import tensorflow as tf\n",
        "# from kerastuner import RandomSearch\n",
        "\n",
        "# def build_model_4_op(hp):\n",
        "#     model_4_op = tf.keras.Sequential([\n",
        "#         tf.keras.layers.Lambda(lambda x: tf.expand_dims(x, axis=1)),\n",
        "#         tf.keras.layers.Conv1D(\n",
        "#             filters=hp.Int('filters', min_value=32, max_value=256, step=32),\n",
        "#             kernel_size=hp.Choice('kernel_size', values=[3, 5]),\n",
        "#             strides=1,\n",
        "#             padding=\"causal\",\n",
        "#             activation=\"relu\"\n",
        "#         ),\n",
        "#         tf.keras.layers.Flatten(),\n",
        "#         tf.keras.layers.Dense(HORIZON)\n",
        "#     ], name=\"model_4_op\")\n",
        "\n",
        "#     model_4_op.compile(loss=\"mae\",\n",
        "#                        optimizer=tf.keras.optimizers.Adam(\n",
        "#                            hp.Choice('learning_rate', values=[1e-2, 1e-3, 1e-4])\n",
        "#                            ),\n",
        "#                        metrics=[\"mae\", \"mse\"])\n",
        "\n",
        "#     return model_4_op\n",
        "\n",
        "# tuner = RandomSearch(\n",
        "#     build_model_4_op,\n",
        "#     objective='mae',\n",
        "#     max_trials=20,\n",
        "#     executions_per_trial=3,\n",
        "#     directory='my_dir',\n",
        "#     project_name='build_model_4_op')\n",
        "\n",
        "# tuner.search_space_summary()"
      ],
      "metadata": {
        "id": "b8MhTTRIa21g"
      },
      "execution_count": 213,
      "outputs": []
    },
    {
      "cell_type": "code",
      "source": [],
      "metadata": {
        "id": "Vt4R3xf3bBTt"
      },
      "execution_count": 213,
      "outputs": []
    },
    {
      "cell_type": "code",
      "source": [
        "# tuner.search(train_windows, train_labels, epochs=100, verbose=1, batch_size=128, validation_data=(test_windows, test_labels))"
      ],
      "metadata": {
        "id": "BXeZUq7abMZX"
      },
      "execution_count": 214,
      "outputs": []
    },
    {
      "cell_type": "code",
      "source": [
        "# best_hp = tuner.get_best_hyperparameters(num_trials=1)[0]\n",
        "# final_model_4_op = build_model_4_op(best_hp)"
      ],
      "metadata": {
        "id": "7RUsFhwUbP5x"
      },
      "execution_count": 215,
      "outputs": []
    },
    {
      "cell_type": "code",
      "source": [
        "# #input_shape = (train_windows.shape[1])\n",
        "# final_model_4_op.build(train_windows.shape)\n",
        "# final_model_4_op.summary()"
      ],
      "metadata": {
        "id": "553U1Ej7gb-o"
      },
      "execution_count": 216,
      "outputs": []
    },
    {
      "cell_type": "code",
      "source": [],
      "metadata": {
        "id": "9hrq55baiFBY"
      },
      "execution_count": 216,
      "outputs": []
    },
    {
      "cell_type": "code",
      "source": [
        "# history_model_4_op = final_model_4_op.fit(train_windows,\n",
        "#                                           train_labels,\n",
        "#                                           epochs=100,\n",
        "#                                           verbose=0,\n",
        "#                                           batch_size=128,\n",
        "#                                           validation_data=(test_windows, test_labels),\n",
        "#                                           callbacks=[create_model_checkpoint(model_name=final_model_4_op.name)])"
      ],
      "metadata": {
        "id": "umt4c3sIbU9Y"
      },
      "execution_count": 217,
      "outputs": []
    },
    {
      "cell_type": "code",
      "source": [
        "# final_model_4_op.evaluate(test_windows, test_labels)"
      ],
      "metadata": {
        "id": "az0KSIlmbWCQ"
      },
      "execution_count": 218,
      "outputs": []
    },
    {
      "cell_type": "code",
      "source": [
        "# # function\n",
        "# # Import pandas\n",
        "# import pandas as pd\n",
        "\n",
        "# # Obtenir les meilleurs modèles\n",
        "# best_models = tuner.get_best_models(num_models=20)  # Vous pouvez modifier num_models pour récupérer le nombre de meilleurs modèles que vous souhaitez\n",
        "\n",
        "# # Créer une liste vide pour stocker les paramètres et les scores\n",
        "# hyperparameters_scores_list = []\n",
        "\n",
        "# # Parcourir les trials et ajouter les hyperparamètres et les scores correspondants à la liste\n",
        "# for trial in tuner.oracle.trials.values():\n",
        "#     hyperparameters = trial.hyperparameters.values\n",
        "#     val_loss_mae = trial.score\n",
        "#     mae = trial.metrics.metrics[\"loss\"].get_best_value()\n",
        "\n",
        "#     hyperparameters_scores = {\n",
        "#         'filters': hyperparameters['filters'],\n",
        "#         'kernel_size': hyperparameters['kernel_size'],\n",
        "#         'learning_rate': hyperparameters['learning_rate'],\n",
        "#         'val_loss': val_loss_mae,\n",
        "#         'mae': mae\n",
        "#     }\n",
        "#     hyperparameters_scores_list.append(hyperparameters_scores)\n",
        "\n",
        "# # Convertir la liste en DataFrame pandas\n",
        "# hyperparameters_scores_df = pd.DataFrame(hyperparameters_scores_list)\n",
        "\n",
        "# # Trier le DataFrame en fonction de val_loss et sélectionner les meilleurs modèles\n",
        "# hyperparameters_scores_df = hyperparameters_scores_df.sort_values(by='mae', ascending=False).head(len(best_models));\n",
        "\n",
        "# # Réinitialiser l'index du DataFrame\n",
        "# hyperparameters_scores_df.reset_index(drop=True, inplace=True);"
      ],
      "metadata": {
        "id": "gRZFIUx15lZc"
      },
      "execution_count": 219,
      "outputs": []
    },
    {
      "cell_type": "code",
      "source": [
        "# hyperparameters_scores_df"
      ],
      "metadata": {
        "id": "b9Ln0ieDbXoJ"
      },
      "execution_count": 220,
      "outputs": []
    },
    {
      "cell_type": "code",
      "source": [
        "# model_4_op_preds = make_preds(final_model_4_op,test_windows)"
      ],
      "metadata": {
        "id": "n8J_QbsPkHBh"
      },
      "execution_count": 221,
      "outputs": []
    },
    {
      "cell_type": "code",
      "source": [
        "# model_4_op_results = evaluate_preds(test_labels,model_4_op_preds)\n",
        "# model_4_op_results"
      ],
      "metadata": {
        "id": "lgXeJQxrl8Gh"
      },
      "execution_count": 222,
      "outputs": []
    },
    {
      "cell_type": "markdown",
      "source": [
        "## Model 5 : RNN (LSTM)"
      ],
      "metadata": {
        "id": "0Kii-zCOeoZD"
      }
    },
    {
      "cell_type": "code",
      "source": [
        "HORIZON = 1\n",
        "WINDOW_SIZE = 7\n",
        "\n",
        "# Make windowe data with appropriate horizon and window sizes\n",
        "full_windows, full_labels = make_windows(prices, window_size = WINDOW_SIZE, horizon = HORIZON)\n",
        "\n",
        "# Make train and testing windows\n",
        "train_windows, test_windows, train_labels, test_labels = make_train_test_splits(windows=full_windows,\n",
        "                                                                               labels=full_labels,\n",
        "                                                                               test_split=0.2)\n",
        "len(full_windows), len(full_labels), len(train_windows), len(test_windows), len(train_labels), len(test_labels)"
      ],
      "metadata": {
        "colab": {
          "base_uri": "https://localhost:8080/"
        },
        "id": "-2JNM2Vk2D6t",
        "outputId": "e45ad8a7-1d08-4331-b258-83b0b89f4c0f"
      },
      "execution_count": 223,
      "outputs": [
        {
          "output_type": "execute_result",
          "data": {
            "text/plain": [
              "(2780, 2780, 2224, 556, 2224, 556)"
            ]
          },
          "metadata": {},
          "execution_count": 223
        }
      ]
    },
    {
      "cell_type": "code",
      "source": [
        "# import tensorflow as tf\n",
        "\n",
        "# # Set random seed for as reproducible results as possible\n",
        "# tf.random.set_seed(42)\n",
        "# input_shape = train_windows.shape[1:]\n",
        "\n",
        "# model_5 = tf.keras.Sequential([\n",
        "#     # Vous pouvez ajuster le nombre d'unités LSTM et le retour de séquences en fonction de votre modèle.\n",
        "#     tf.keras.layers.Lambda(lambda x: tf.expand_dims(x, axis=-1)), # add an extra dimension for `input_dim` in the end of the tensor  with -1 and on position 1 with axis=1\n",
        "#     tf.keras.layers.LSTM(128, return_sequences=True),\n",
        "#     tf.keras.layers.LSTM(128),\n",
        "#     tf.keras.layers.LSTM(32, activation=\"relu\"),\n",
        "#     tf.keras.layers.Dense(HORIZON) # linear activation is the same as having no activation\n",
        "# ], name=\"model_5_LSTM\") # name our model so we can save it \n",
        "\n",
        "# # 2. Compile the model\n",
        "# model_5.compile(loss=\"mae\",\n",
        "#                 optimizer=tf.keras.optimizers.Adam()) \n",
        "# # 3. Fit the model\n",
        "# history_model_5 = model_5.fit(train_windows,\n",
        "#                               train_labels,\n",
        "#                               epochs=100,\n",
        "#                               verbose=1,\n",
        "#                               batch_size=128,\n",
        "#                               validation_data=(test_windows,test_labels),\n",
        "#                               callbacks=[create_model_checkpoint(model_name=model_5.name)]);"
      ],
      "metadata": {
        "id": "H0ND4bZ-3EoZ"
      },
      "execution_count": 224,
      "outputs": []
    },
    {
      "cell_type": "code",
      "source": [
        "# model_5 = tf.keras.models.load_model(\"model_experiments/model_5/\")\n",
        "# model_5.evaluate(test_windows, test_labels)"
      ],
      "metadata": {
        "id": "J8eutz2vnus8"
      },
      "execution_count": 225,
      "outputs": []
    },
    {
      "cell_type": "code",
      "source": [
        "# model_5.evaluate(test_windows, test_labels)"
      ],
      "metadata": {
        "id": "4q65vsMKZXBJ"
      },
      "execution_count": 226,
      "outputs": []
    },
    {
      "cell_type": "code",
      "source": [
        "# model_5_preds = make_preds(model_5, test_windows)"
      ],
      "metadata": {
        "id": "NjPIlfsIcht9"
      },
      "execution_count": 227,
      "outputs": []
    },
    {
      "cell_type": "code",
      "source": [
        "# model_5_result = evaluate_preds(test_windows, model_5_preds)"
      ],
      "metadata": {
        "id": "5ZwrHvmVnIL1"
      },
      "execution_count": 228,
      "outputs": []
    },
    {
      "cell_type": "code",
      "source": [
        "# pd.DataFrame({\"naive\": naive_results[\"mae\"],\n",
        "#               \"horizon_1_window_7\": model_1_results[\"mae\"],\n",
        "#               \"horizon_1_window_30\": model_2_results[\"mae\"],\n",
        "#               \"horizon_7_window_30\": model_3_results[\"mae\"],\n",
        "#               \"horizon_1_window_7_conv1D\": model_4_results[\"mae\"],\n",
        "#               \"horizon_1_window_7_LSTM\":model_5_result[\"mae\"]}, index=[\"mae\"]).plot(figsize=(10,7), kind=\"bar\")"
      ],
      "metadata": {
        "id": "CwB35vt8nPt9"
      },
      "execution_count": 229,
      "outputs": []
    },
    {
      "cell_type": "code",
      "source": [],
      "metadata": {
        "id": "7-mNE1H9nyub"
      },
      "execution_count": 229,
      "outputs": []
    },
    {
      "cell_type": "markdown",
      "source": [
        "## Model 5 : RNN (LSTM)  with using KERAS TUNER"
      ],
      "metadata": {
        "id": "NUXOOsF37Qlo"
      }
    },
    {
      "cell_type": "code",
      "source": [
        "# import tensorflow as tf\n",
        "# from kerastuner import RandomSearch\n",
        "\n",
        "# # Set random seed for as reproducible results as possible\n",
        "# tf.random.set_seed(42)\n",
        "# input_shape = train_windows.shape[1:]\n",
        "# # Define the model building function\n",
        "# def build_model(hp):\n",
        "#     model = tf.keras.Sequential([\n",
        "#         tf.keras.layers.Lambda(lambda x: tf.expand_dims(x, axis=-1), input_shape=input_shape),\n",
        "#         tf.keras.layers.LSTM(hp.Int('units_1', min_value=64, max_value=256, step=32), return_sequences=True),\n",
        "#         tf.keras.layers.LSTM(hp.Int('units_2', min_value=64, max_value=256, step=32)),\n",
        "#         tf.keras.layers.Dense(hp.Int('units_3', min_value=16, max_value=128, step=16), activation=\"relu\"),\n",
        "#         tf.keras.layers.Dense(HORIZON)\n",
        "#     ])\n",
        "\n",
        "#     model.compile(loss=\"mae\",\n",
        "#                   optimizer=tf.keras.optimizers.Adam(\n",
        "#                       hp.Choice('learning_rate', values=[1e-2, 1e-3, 1e-4])\n",
        "#                   ))\n",
        "#     return model\n",
        "\n",
        "# # Configure the tuner\n",
        "# tuner = RandomSearch(\n",
        "#     build_model,\n",
        "#     objective='val_loss',\n",
        "#     max_trials=30,\n",
        "#     executions_per_trial=1,\n",
        "#     directory='my_dir',\n",
        "#     project_name='model_5_LSTM'\n",
        "# )\n"
      ],
      "metadata": {
        "id": "BrvTe67l7R2N"
      },
      "execution_count": 230,
      "outputs": []
    },
    {
      "cell_type": "code",
      "source": [
        "# # Search for the best hyperparameters\n",
        "# tuner.search(train_windows, train_labels,\n",
        "#              epochs=100,\n",
        "#              verbose=1,\n",
        "#              batch_size=128,\n",
        "#              validation_data=(test_windows, test_labels),\n",
        "#              callbacks=[create_model_checkpoint(model_name='model_5_LSTM')])"
      ],
      "metadata": {
        "id": "gFAnJOvd7SX0"
      },
      "execution_count": 231,
      "outputs": []
    },
    {
      "cell_type": "code",
      "source": [
        "\n",
        "# # Get the best hyperparameters\n",
        "# best_hp = tuner.get_best_hyperparameters(num_trials=1)[0]\n",
        "\n",
        "# # Build the best model\n",
        "# best_model = build_model(best_hp)\n",
        "\n",
        "# # Fit the best model\n",
        "# history_best_model = best_model.fit(train_windows,\n",
        "#                                     train_labels,\n",
        "#                                     epochs=100,\n",
        "#                                     verbose=1,\n",
        "#                                     batch_size=128,\n",
        "#                                     validation_data=(test_windows, test_labels),\n",
        "#                                     callbacks=[create_model_checkpoint(model_name='best_model')])"
      ],
      "metadata": {
        "id": "IruWQ7x674g6"
      },
      "execution_count": 232,
      "outputs": []
    }
  ],
  "metadata": {
    "colab": {
      "collapsed_sections": [
        "i1qRxVCZVBc0",
        "yUk6gywlyqic",
        "tX7S39odyr4b",
        "HMfPVrx9rMeu",
        "wd8iOyH2PRmX",
        "YEqrZd7AWddS",
        "QmTrb4jRsWlM",
        "hj1f6fxZCK2y",
        "2okEd5o4Yh8c",
        "sK0r1SoypMt6",
        "_TQRYvxDrvcE",
        "u1okaFekE3cb",
        "QvOtJ4OyGGmT",
        "YjgGbFGaaSCS",
        "6mC_Mkj01zZO",
        "HipxABprlFJN",
        "9gjad_OcZ4MX",
        "0Kii-zCOeoZD",
        "NUXOOsF37Qlo"
      ],
      "provenance": []
    },
    "gpuClass": "standard",
    "kernelspec": {
      "display_name": "Python 3",
      "name": "python3"
    },
    "language_info": {
      "name": "python"
    },
    "accelerator": "GPU"
  },
  "nbformat": 4,
  "nbformat_minor": 0
}