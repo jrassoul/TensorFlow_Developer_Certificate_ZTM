{
 "cells": [
  {
   "cell_type": "markdown",
   "id": "f528b0fa",
   "metadata": {},
   "source": [
    "### Introduction to NLP Fundamentals in TensorFlow\n",
    "\n",
    "    NLP has the goal of deriving information out of natural language (could be sequences text or speech)\n",
    "\n",
    "    Another common term for NLP problems is sequence to sequence problems (seq2seq)"
   ]
  },
  {
   "cell_type": "code",
   "execution_count": 1,
   "id": "cf06b446",
   "metadata": {},
   "outputs": [
    {
     "name": "stdout",
     "output_type": "stream",
     "text": [
      "GPU 0: NVIDIA GeForce GTX 1650 (UUID: GPU-890aadbc-dc9a-cfdd-ce0d-dd3bdfa0ac28)\n"
     ]
    }
   ],
   "source": [
    "# Check for GPU\n",
    "!nvidia-smi -L"
   ]
  },
  {
   "cell_type": "code",
   "execution_count": 2,
   "id": "0e3543e7",
   "metadata": {},
   "outputs": [],
   "source": [
    " ## GET helper functions\n",
    "import sys\n",
    "sys.path.append(r\"C:\\Users/wjub/01workspace/TensorFlow Developer Certificate ZTM\")\n",
    "import winsound\n",
    "import os\n",
    "import tensorflow as tf\n",
    "import matplotlib.pyplot as plt\n",
    "import helper_functions\n",
    "\n",
    "# Import series of helper functions for the notebook\n",
    "from helper_functions import unzip_data, create_tensorboard_callback, plot_loss_curves, compare_historys, calculate_results"
   ]
  },
  {
   "cell_type": "code",
   "execution_count": null,
   "id": "2c8b1fcc",
   "metadata": {},
   "outputs": [],
   "source": []
  },
  {
   "cell_type": "markdown",
   "id": "22cff205",
   "metadata": {},
   "source": [
    "# Get a text dataset\n",
    "\n",
    "    The dataset we're going to be using is Kaggle's introduction to NLP dataset (text samples of Tweets labelled as disaste or not disasterrs)\n",
    "\n",
    "    See the original source here : https://www.kaggle.com/competitions/nlp-getting-started/data"
   ]
  },
  {
   "cell_type": "code",
   "execution_count": 3,
   "id": "ce775631",
   "metadata": {},
   "outputs": [],
   "source": [
    "helper_functions.download_file(\"https://storage.googleapis.com/ztm_tf_course/nlp_getting_started.zip\",\"nlp_getting_started.zip\")\n",
    "helper_functions.unzip_data(\"nlp_getting_started.zip\")"
   ]
  },
  {
   "cell_type": "markdown",
   "id": "4cfe9783",
   "metadata": {},
   "source": [
    "## Visualizing a text data \n",
    "\n",
    "        To visualize our text samples, we first have to read them in, one way to do so would be to use Python :\n",
    "\n",
    "        So another way to do this is to use pandas."
   ]
  },
  {
   "cell_type": "code",
   "execution_count": 4,
   "id": "87cef3f5",
   "metadata": {},
   "outputs": [
    {
     "data": {
      "text/html": [
       "<div>\n",
       "<style scoped>\n",
       "    .dataframe tbody tr th:only-of-type {\n",
       "        vertical-align: middle;\n",
       "    }\n",
       "\n",
       "    .dataframe tbody tr th {\n",
       "        vertical-align: top;\n",
       "    }\n",
       "\n",
       "    .dataframe thead th {\n",
       "        text-align: right;\n",
       "    }\n",
       "</style>\n",
       "<table border=\"1\" class=\"dataframe\">\n",
       "  <thead>\n",
       "    <tr style=\"text-align: right;\">\n",
       "      <th></th>\n",
       "      <th>id</th>\n",
       "      <th>keyword</th>\n",
       "      <th>location</th>\n",
       "      <th>text</th>\n",
       "      <th>target</th>\n",
       "    </tr>\n",
       "  </thead>\n",
       "  <tbody>\n",
       "    <tr>\n",
       "      <th>0</th>\n",
       "      <td>1</td>\n",
       "      <td>NaN</td>\n",
       "      <td>NaN</td>\n",
       "      <td>Our Deeds are the Reason of this #earthquake M...</td>\n",
       "      <td>1</td>\n",
       "    </tr>\n",
       "    <tr>\n",
       "      <th>1</th>\n",
       "      <td>4</td>\n",
       "      <td>NaN</td>\n",
       "      <td>NaN</td>\n",
       "      <td>Forest fire near La Ronge Sask. Canada</td>\n",
       "      <td>1</td>\n",
       "    </tr>\n",
       "    <tr>\n",
       "      <th>2</th>\n",
       "      <td>5</td>\n",
       "      <td>NaN</td>\n",
       "      <td>NaN</td>\n",
       "      <td>All residents asked to 'shelter in place' are ...</td>\n",
       "      <td>1</td>\n",
       "    </tr>\n",
       "    <tr>\n",
       "      <th>3</th>\n",
       "      <td>6</td>\n",
       "      <td>NaN</td>\n",
       "      <td>NaN</td>\n",
       "      <td>13,000 people receive #wildfires evacuation or...</td>\n",
       "      <td>1</td>\n",
       "    </tr>\n",
       "    <tr>\n",
       "      <th>4</th>\n",
       "      <td>7</td>\n",
       "      <td>NaN</td>\n",
       "      <td>NaN</td>\n",
       "      <td>Just got sent this photo from Ruby #Alaska as ...</td>\n",
       "      <td>1</td>\n",
       "    </tr>\n",
       "  </tbody>\n",
       "</table>\n",
       "</div>"
      ],
      "text/plain": [
       "   id keyword location                                               text  \\\n",
       "0   1     NaN      NaN  Our Deeds are the Reason of this #earthquake M...   \n",
       "1   4     NaN      NaN             Forest fire near La Ronge Sask. Canada   \n",
       "2   5     NaN      NaN  All residents asked to 'shelter in place' are ...   \n",
       "3   6     NaN      NaN  13,000 people receive #wildfires evacuation or...   \n",
       "4   7     NaN      NaN  Just got sent this photo from Ruby #Alaska as ...   \n",
       "\n",
       "   target  \n",
       "0       1  \n",
       "1       1  \n",
       "2       1  \n",
       "3       1  \n",
       "4       1  "
      ]
     },
     "execution_count": 4,
     "metadata": {},
     "output_type": "execute_result"
    }
   ],
   "source": [
    "import pandas as pd\n",
    "train_df = pd.read_csv(\"data/train.csv\")\n",
    "test_df = pd.read_csv(\"data/test.csv\")\n",
    "train_df.head()"
   ]
  },
  {
   "cell_type": "code",
   "execution_count": 5,
   "id": "18773cc9",
   "metadata": {},
   "outputs": [
    {
     "data": {
      "text/html": [
       "<div>\n",
       "<style scoped>\n",
       "    .dataframe tbody tr th:only-of-type {\n",
       "        vertical-align: middle;\n",
       "    }\n",
       "\n",
       "    .dataframe tbody tr th {\n",
       "        vertical-align: top;\n",
       "    }\n",
       "\n",
       "    .dataframe thead th {\n",
       "        text-align: right;\n",
       "    }\n",
       "</style>\n",
       "<table border=\"1\" class=\"dataframe\">\n",
       "  <thead>\n",
       "    <tr style=\"text-align: right;\">\n",
       "      <th></th>\n",
       "      <th>id</th>\n",
       "      <th>keyword</th>\n",
       "      <th>location</th>\n",
       "      <th>text</th>\n",
       "      <th>target</th>\n",
       "    </tr>\n",
       "  </thead>\n",
       "  <tbody>\n",
       "    <tr>\n",
       "      <th>2644</th>\n",
       "      <td>3796</td>\n",
       "      <td>destruction</td>\n",
       "      <td>NaN</td>\n",
       "      <td>So you have a new weapon that can cause un-ima...</td>\n",
       "      <td>1</td>\n",
       "    </tr>\n",
       "    <tr>\n",
       "      <th>2227</th>\n",
       "      <td>3185</td>\n",
       "      <td>deluge</td>\n",
       "      <td>NaN</td>\n",
       "      <td>The f$&amp;amp;@ing things I do for #GISHWHES Just...</td>\n",
       "      <td>0</td>\n",
       "    </tr>\n",
       "    <tr>\n",
       "      <th>5448</th>\n",
       "      <td>7769</td>\n",
       "      <td>police</td>\n",
       "      <td>UK</td>\n",
       "      <td>DT @georgegalloway: RT @Galloway4Mayor: ÛÏThe...</td>\n",
       "      <td>1</td>\n",
       "    </tr>\n",
       "    <tr>\n",
       "      <th>132</th>\n",
       "      <td>191</td>\n",
       "      <td>aftershock</td>\n",
       "      <td>NaN</td>\n",
       "      <td>Aftershock back to school kick off was great. ...</td>\n",
       "      <td>0</td>\n",
       "    </tr>\n",
       "    <tr>\n",
       "      <th>6845</th>\n",
       "      <td>9810</td>\n",
       "      <td>trauma</td>\n",
       "      <td>Montgomery County, MD</td>\n",
       "      <td>in response to trauma Children of Addicts deve...</td>\n",
       "      <td>0</td>\n",
       "    </tr>\n",
       "  </tbody>\n",
       "</table>\n",
       "</div>"
      ],
      "text/plain": [
       "        id      keyword               location  \\\n",
       "2644  3796  destruction                    NaN   \n",
       "2227  3185       deluge                    NaN   \n",
       "5448  7769       police                     UK   \n",
       "132    191   aftershock                    NaN   \n",
       "6845  9810       trauma  Montgomery County, MD   \n",
       "\n",
       "                                                   text  target  \n",
       "2644  So you have a new weapon that can cause un-ima...       1  \n",
       "2227  The f$&amp;@ing things I do for #GISHWHES Just...       0  \n",
       "5448  DT @georgegalloway: RT @Galloway4Mayor: ÛÏThe...       1  \n",
       "132   Aftershock back to school kick off was great. ...       0  \n",
       "6845  in response to trauma Children of Addicts deve...       0  "
      ]
     },
     "execution_count": 5,
     "metadata": {},
     "output_type": "execute_result"
    }
   ],
   "source": [
    "# Shuffle training dataframe\n",
    "# frac : nb of % to shuffle 1=100%\n",
    "train_df_shuffled = train_df.sample(frac=1, random_state = 42)\n",
    "train_df_shuffled.head()"
   ]
  },
  {
   "cell_type": "code",
   "execution_count": 6,
   "id": "4215322d",
   "metadata": {},
   "outputs": [
    {
     "data": {
      "text/html": [
       "<div>\n",
       "<style scoped>\n",
       "    .dataframe tbody tr th:only-of-type {\n",
       "        vertical-align: middle;\n",
       "    }\n",
       "\n",
       "    .dataframe tbody tr th {\n",
       "        vertical-align: top;\n",
       "    }\n",
       "\n",
       "    .dataframe thead th {\n",
       "        text-align: right;\n",
       "    }\n",
       "</style>\n",
       "<table border=\"1\" class=\"dataframe\">\n",
       "  <thead>\n",
       "    <tr style=\"text-align: right;\">\n",
       "      <th></th>\n",
       "      <th>id</th>\n",
       "      <th>keyword</th>\n",
       "      <th>location</th>\n",
       "      <th>text</th>\n",
       "    </tr>\n",
       "  </thead>\n",
       "  <tbody>\n",
       "    <tr>\n",
       "      <th>0</th>\n",
       "      <td>0</td>\n",
       "      <td>NaN</td>\n",
       "      <td>NaN</td>\n",
       "      <td>Just happened a terrible car crash</td>\n",
       "    </tr>\n",
       "    <tr>\n",
       "      <th>1</th>\n",
       "      <td>2</td>\n",
       "      <td>NaN</td>\n",
       "      <td>NaN</td>\n",
       "      <td>Heard about #earthquake is different cities, s...</td>\n",
       "    </tr>\n",
       "    <tr>\n",
       "      <th>2</th>\n",
       "      <td>3</td>\n",
       "      <td>NaN</td>\n",
       "      <td>NaN</td>\n",
       "      <td>there is a forest fire at spot pond, geese are...</td>\n",
       "    </tr>\n",
       "    <tr>\n",
       "      <th>3</th>\n",
       "      <td>9</td>\n",
       "      <td>NaN</td>\n",
       "      <td>NaN</td>\n",
       "      <td>Apocalypse lighting. #Spokane #wildfires</td>\n",
       "    </tr>\n",
       "    <tr>\n",
       "      <th>4</th>\n",
       "      <td>11</td>\n",
       "      <td>NaN</td>\n",
       "      <td>NaN</td>\n",
       "      <td>Typhoon Soudelor kills 28 in China and Taiwan</td>\n",
       "    </tr>\n",
       "  </tbody>\n",
       "</table>\n",
       "</div>"
      ],
      "text/plain": [
       "   id keyword location                                               text\n",
       "0   0     NaN      NaN                 Just happened a terrible car crash\n",
       "1   2     NaN      NaN  Heard about #earthquake is different cities, s...\n",
       "2   3     NaN      NaN  there is a forest fire at spot pond, geese are...\n",
       "3   9     NaN      NaN           Apocalypse lighting. #Spokane #wildfires\n",
       "4  11     NaN      NaN      Typhoon Soudelor kills 28 in China and Taiwan"
      ]
     },
     "execution_count": 6,
     "metadata": {},
     "output_type": "execute_result"
    }
   ],
   "source": [
    "# What does the test dataframe look like ?\n",
    "test_df.head()"
   ]
  },
  {
   "cell_type": "code",
   "execution_count": 7,
   "id": "675a347d",
   "metadata": {},
   "outputs": [
    {
     "data": {
      "text/plain": [
       "0    4342\n",
       "1    3271\n",
       "Name: target, dtype: int64"
      ]
     },
     "execution_count": 7,
     "metadata": {},
     "output_type": "execute_result"
    }
   ],
   "source": [
    "# How many examples of each class ?\n",
    "train_df.target.value_counts()"
   ]
  },
  {
   "cell_type": "code",
   "execution_count": 8,
   "id": "786529a5",
   "metadata": {},
   "outputs": [
    {
     "data": {
      "text/plain": [
       "(7613, 3263)"
      ]
     },
     "execution_count": 8,
     "metadata": {},
     "output_type": "execute_result"
    }
   ],
   "source": [
    "# How many total sample ?\n",
    "len(train_df), len(test_df)"
   ]
  },
  {
   "cell_type": "code",
   "execution_count": 9,
   "id": "d8e8a560",
   "metadata": {},
   "outputs": [
    {
     "name": "stdout",
     "output_type": "stream",
     "text": [
      "Target:1 (real diaster)\n",
      "Text:\n",
      "#world Fears over missing migrants in Med: Rescuers search for survivors after a boat carrying as many a... http://t.co/6DS67XAI5e #news\n",
      "\n",
      "---\n",
      "\n",
      "Target:0 (not real diaster)\n",
      "Text:\n",
      "So derailed_benchmark is cool for paths. i wonder if i can run it to find leaks in Jobs given to  resque  too?\n",
      "\n",
      "---\n",
      "\n",
      "Target:0 (not real diaster)\n",
      "Text:\n",
      "New Ladies Shoulder Tote Handbag Women Cross Body Bag Faux Leather Fashion Purse - Full reÛ_ http://t.co/y87Gi3BRlV http://t.co/1zbhVDCXzS\n",
      "\n",
      "---\n",
      "\n",
      "Target:1 (real diaster)\n",
      "Text:\n",
      "@Raishimi33 :) well I think that sounds like a fine plan where little derailment is possible so I applaud you :)\n",
      "\n",
      "---\n",
      "\n",
      "Target:1 (real diaster)\n",
      "Text:\n",
      "'Invading Iraq was a catastrophic mistake'.\n",
      "\n",
      "Diplomacy needs to replace constant threat of war by US and Israel:\n",
      "\n",
      "http://t.co/yqjpn3qUUX\n",
      "\n",
      "---\n",
      "\n"
     ]
    }
   ],
   "source": [
    "#  Let's visualize some random training examples\n",
    "import random\n",
    "random_index = random.randint(0, len(train_df)-5) # create random indexes not higher than the total number of  samples\n",
    "for row in train_df_shuffled[[\"text\", \"target\"]][random_index:random_index+5].itertuples():\n",
    "    _, text, target = row\n",
    "    print(f\"Target:{target}\", \"(real diaster)\" if target > 0 else \"(not real diaster)\")\n",
    "    print(f\"Text:\\n{text}\\n\")\n",
    "    print(\"---\\n\")"
   ]
  },
  {
   "cell_type": "markdown",
   "id": "49c6363a",
   "metadata": {},
   "source": [
    "### Split data into training and validation sets"
   ]
  },
  {
   "cell_type": "code",
   "execution_count": 10,
   "id": "27b99142",
   "metadata": {},
   "outputs": [],
   "source": [
    "from sklearn.model_selection import train_test_split"
   ]
  },
  {
   "cell_type": "code",
   "execution_count": 11,
   "id": "2e25b63c",
   "metadata": {},
   "outputs": [],
   "source": [
    "# turn dataframe values to dataframe columns\n",
    "train_sentences, val_sentences, train_labels, val_labels = train_test_split(train_df_shuffled[\"text\"].to_numpy(),\n",
    "                                                    train_df_shuffled[\"target\"].to_numpy(),\n",
    "                                                    test_size = 0.1, # use 10% of traianing data for validations\n",
    "                                                    random_state = 42)"
   ]
  },
  {
   "cell_type": "code",
   "execution_count": 12,
   "id": "ea2f0e20",
   "metadata": {},
   "outputs": [
    {
     "data": {
      "text/plain": [
       "(6851, 762, 6851, 762)"
      ]
     },
     "execution_count": 12,
     "metadata": {},
     "output_type": "execute_result"
    }
   ],
   "source": [
    "# Check the lengths\n",
    "len(train_sentences), len(val_sentences), len(train_labels), len(val_labels)"
   ]
  },
  {
   "cell_type": "code",
   "execution_count": 13,
   "id": "6d55c52e",
   "metadata": {},
   "outputs": [],
   "source": [
    "# # Reshape data\n",
    "# train_sentences = train_sentences.reshape(-1, 1)\n",
    "# train_labels = train_labels.reshape(-1, 1)\n",
    "# val_labels = val_labels.reshape(-1, 1)\n",
    "# val_sentences = val_sentences.reshape(-1, 1)\n",
    "# train_sentences.shape, train_labels.shape, val_labels.shape, val_sentences.shape"
   ]
  },
  {
   "cell_type": "code",
   "execution_count": 14,
   "id": "79044a33",
   "metadata": {},
   "outputs": [
    {
     "data": {
      "text/plain": [
       "(array(['@mogacola @zamtriossu i screamed after hitting tweet',\n",
       "        'Imagine getting flattened by Kurt Zouma',\n",
       "        '@Gurmeetramrahim #MSGDoing111WelfareWorks Green S welfare force ke appx 65000 members har time disaster victim ki help ke liye tyar hai....',\n",
       "        \"@shakjn @C7 @Magnums im shaking in fear he's gonna hack the planet\",\n",
       "        'Somehow find you and I collide http://t.co/Ee8RpOahPk',\n",
       "        '@EvaHanderek @MarleyKnysh great times until the bus driver held us hostage in the mall parking lot lmfao',\n",
       "        'destroy the free fandom honestly',\n",
       "        'Weapons stolen from National Guard Armory in New Albany still missing #Gunsense http://t.co/lKNU8902JE',\n",
       "        '@wfaaweather Pete when will the heat wave pass? Is it really going to be mid month? Frisco Boy Scouts have a canoe trip in Okla.',\n",
       "        'Patient-reported outcomes in long-term survivors of metastatic colorectal cancer - British Journal of Surgery http://t.co/5Yl4DC1Tqt'],\n",
       "       dtype=object),\n",
       " array([0, 0, 1, 0, 0, 1, 1, 0, 1, 1], dtype=int64))"
      ]
     },
     "execution_count": 14,
     "metadata": {},
     "output_type": "execute_result"
    }
   ],
   "source": [
    "# check the first 10 samples\n",
    "train_sentences[:10], train_labels[:10]"
   ]
  },
  {
   "cell_type": "markdown",
   "id": "34fc60f6",
   "metadata": {},
   "source": [
    "## Converting text into numbers\n",
    "\n",
    "    When dealing with a text problem, on of the first things you'll have to do before you can build a model is to convert your text to numbers.\n",
    "\n",
    "    There are a few ways to do this, namely:\n",
    "     * Tokenization - direct mapping of token (a token could be a word or a caracter) to number\n",
    "     * Embedding - create a matric of feature vector for each token (the size of the feature vector can be defined and this embedding can be learned)"
   ]
  },
  {
   "cell_type": "markdown",
   "id": "a0ecf611",
   "metadata": {},
   "source": [
    "# Text vectorization (tokenization)"
   ]
  },
  {
   "cell_type": "code",
   "execution_count": 15,
   "id": "c63cd922",
   "metadata": {},
   "outputs": [
    {
     "data": {
      "text/plain": [
       "array(['@mogacola @zamtriossu i screamed after hitting tweet',\n",
       "       'Imagine getting flattened by Kurt Zouma',\n",
       "       '@Gurmeetramrahim #MSGDoing111WelfareWorks Green S welfare force ke appx 65000 members har time disaster victim ki help ke liye tyar hai....',\n",
       "       \"@shakjn @C7 @Magnums im shaking in fear he's gonna hack the planet\",\n",
       "       'Somehow find you and I collide http://t.co/Ee8RpOahPk'],\n",
       "      dtype=object)"
      ]
     },
     "execution_count": 15,
     "metadata": {},
     "output_type": "execute_result"
    }
   ],
   "source": [
    "train_sentences[:5]"
   ]
  },
  {
   "cell_type": "code",
   "execution_count": 16,
   "id": "2b395f9e",
   "metadata": {},
   "outputs": [],
   "source": [
    "import tensorflow as tf\n",
    "from tensorflow.keras.layers.experimental.preprocessing import TextVectorization\n",
    "\n",
    "# Use the default TextVectorization parameters\n",
    "text_vectorization = TextVectorization(max_tokens=50000, # how many words in the vocabulary(utomatically add <OOV>)\n",
    "                                       standardize=\"lower_and_strip_punctuation\",\n",
    "                                       split=\"whitespace\",\n",
    "                                       ngrams=None, # Create groups of n-words?\n",
    "                                       output_mode=\"int\", # How to map tokens to numbers\n",
    "                                       output_sequence_length=None, # how longdo you want your sequences to be?\n",
    "                                       pad_to_max_tokens=True)"
   ]
  },
  {
   "cell_type": "code",
   "execution_count": 17,
   "id": "c43fe036",
   "metadata": {},
   "outputs": [
    {
     "data": {
      "text/plain": [
       "['@mogacola', '@zamtriossu', 'i', 'screamed', 'after', 'hitting', 'tweet']"
      ]
     },
     "execution_count": 17,
     "metadata": {},
     "output_type": "execute_result"
    }
   ],
   "source": [
    "train_sentences[0].split()"
   ]
  },
  {
   "cell_type": "code",
   "execution_count": 18,
   "id": "1656007c",
   "metadata": {},
   "outputs": [
    {
     "data": {
      "text/plain": [
       "15"
      ]
     },
     "execution_count": 18,
     "metadata": {},
     "output_type": "execute_result"
    }
   ],
   "source": [
    "# Find the average number of tokens (words) in the training tweets\n",
    "round(sum([len(i.split()) for i in train_sentences])) # nb of words\n",
    "round(sum([len(i.split()) for i in train_sentences])/len(train_sentences)) # average for 1 sentence"
   ]
  },
  {
   "cell_type": "code",
   "execution_count": 19,
   "id": "30b1d086",
   "metadata": {},
   "outputs": [],
   "source": [
    "# Setup text vectorization variables\n",
    "max_vocab_length = 10000 # max number of words to have in our vocabulary\n",
    "max_length = 15 # max length our sequences will be \n",
    "\n",
    "text_vectorizer = TextVectorization(max_tokens = max_vocab_length,\n",
    "                                   output_mode = \"int\",\n",
    "                                   output_sequence_length= max_length)"
   ]
  },
  {
   "cell_type": "code",
   "execution_count": 20,
   "id": "aebb3a2d",
   "metadata": {},
   "outputs": [],
   "source": [
    "# Fit the text vectorizer  to the training text \n",
    "# that convert our words data to numeric format \n",
    "text_vectorizer.adapt(train_sentences)"
   ]
  },
  {
   "cell_type": "code",
   "execution_count": 21,
   "id": "bdb37a5f",
   "metadata": {},
   "outputs": [
    {
     "data": {
      "text/plain": [
       "<tf.Tensor: shape=(1, 15), dtype=int64, numpy=\n",
       "array([[264,   3, 232,   4,  13, 698,   0,   0,   0,   0,   0,   0,   0,\n",
       "          0,   0]], dtype=int64)>"
      ]
     },
     "execution_count": 21,
     "metadata": {},
     "output_type": "execute_result"
    }
   ],
   "source": [
    "# Create a sample sentences and tokenize it \n",
    "sample_sentence = \"There's a flood in my street !\"\n",
    "text_vectorizer([sample_sentence])\n"
   ]
  },
  {
   "cell_type": "code",
   "execution_count": 22,
   "id": "7e2d03de",
   "metadata": {},
   "outputs": [
    {
     "name": "stdout",
     "output_type": "stream",
     "text": [
      "Origina text:\n",
      "Heat wave warning aa? Ayyo dei. Just when I plan to visit friends after a year.\n",
      "\n",
      " Vectorized version:\n"
     ]
    },
    {
     "data": {
      "text/plain": [
       "<tf.Tensor: shape=(1, 15), dtype=int64, numpy=\n",
       "array([[ 288,  472,  338, 6288,    1,    1,   29,   45,    8,  241,    5,\n",
       "        1742,  819,   43,    3]], dtype=int64)>"
      ]
     },
     "execution_count": 22,
     "metadata": {},
     "output_type": "execute_result"
    }
   ],
   "source": [
    "# Choose a random sentence from the training dataset and tokenize it \n",
    "random_sentence = random.choice(train_sentences)\n",
    "print(f\"Origina text:\\n{random_sentence}\\\n",
    "\\n\\n Vectorized version:\")\n",
    "text_vectorizer([random_sentence])"
   ]
  },
  {
   "cell_type": "code",
   "execution_count": 23,
   "id": "492ab2e0",
   "metadata": {},
   "outputs": [
    {
     "name": "stdout",
     "output_type": "stream",
     "text": [
      "Number of words in vocab: 10000\n",
      "5 most common words: ['', '[UNK]', 'the', 'a', 'in']\n",
      "5 least common words: ['pages', 'paeds', 'pads', 'padres', 'paddytomlinson1']\n"
     ]
    }
   ],
   "source": [
    "# Get the unique words in the vocabulary\n",
    "words_in_vocab = text_vectorizer.get_vocabulary() # get all of the unique words in our training data\n",
    "top_5_words = words_in_vocab[:5] # get the most common words\n",
    "bottom_5_words = words_in_vocab[-5:] # get the least common words\n",
    "print(f\"Number of words in vocab: {len(words_in_vocab)}\")\n",
    "print(f\"5 most common words: {top_5_words}\")\n",
    "print(f\"5 least common words: {bottom_5_words}\")"
   ]
  },
  {
   "cell_type": "markdown",
   "id": "238ea47b",
   "metadata": {},
   "source": [
    "## Creating an Embedding using an Embedding Layer\n",
    "\n",
    "    To make our embedding, we re going to use TensorFlow's embedding layer : https://www.tensorflow.org/api_docs/python/tf/keras/layers/Embedding\n",
    "    The parameters we xare most about for our embedding layer:\n",
    "    *`input_dim` = the size of our vocabulary\n",
    "    *`output_dim` = the size of the output embedding vector, for example, a value of 100 could mean each token gets represented by a vector 100 long\n",
    "    * `input_length` = length of the sequences being passed to the embedding layer"
   ]
  },
  {
   "cell_type": "code",
   "execution_count": 24,
   "id": "0e83597e",
   "metadata": {},
   "outputs": [
    {
     "data": {
      "text/plain": [
       "<keras.layers.core.embedding.Embedding at 0x1ab8554b580>"
      ]
     },
     "execution_count": 24,
     "metadata": {},
     "output_type": "execute_result"
    }
   ],
   "source": [
    "from tensorflow.keras import layers\n",
    "\n",
    "embedding = layers.Embedding(input_dim=max_vocab_length, # set input shape\n",
    "                             output_dim=128,\n",
    "                             embeddings_initializer=\"uniform\",\n",
    "                             input_length=max_length)\n",
    "embedding"
   ]
  },
  {
   "cell_type": "code",
   "execution_count": 25,
   "id": "fe840089",
   "metadata": {},
   "outputs": [
    {
     "name": "stdout",
     "output_type": "stream",
     "text": [
      "Original text:\n",
      "On plus side LOOK AT THE SKY LAST NIGHT IT WAS ABLAZE http://t.co/qqsmshaJ3N\n",
      "\n",
      " Embedded version :\n"
     ]
    },
    {
     "data": {
      "text/plain": [
       "<tf.Tensor: shape=(1, 15, 128), dtype=float32, numpy=\n",
       "array([[[-0.01259222, -0.02260396, -0.0282679 , ...,  0.04498501,\n",
       "          0.02527041, -0.01866557],\n",
       "        [-0.01667808, -0.00251348, -0.02155714, ..., -0.01808948,\n",
       "          0.02658334, -0.01193937],\n",
       "        [-0.03097551,  0.00069269,  0.01390311, ...,  0.00333037,\n",
       "         -0.04288533,  0.02857199],\n",
       "        ...,\n",
       "        [ 0.00043489,  0.00190035,  0.03748127, ..., -0.01719388,\n",
       "         -0.01603042,  0.03695795],\n",
       "        [ 0.02399388, -0.02582198,  0.03950289, ..., -0.03432311,\n",
       "          0.04686573, -0.04798753],\n",
       "        [ 0.02399388, -0.02582198,  0.03950289, ..., -0.03432311,\n",
       "          0.04686573, -0.04798753]]], dtype=float32)>"
      ]
     },
     "execution_count": 25,
     "metadata": {},
     "output_type": "execute_result"
    }
   ],
   "source": [
    "# Get a random sentence from the training set\n",
    "random_sentence = random.choice(train_sentences)\n",
    "print(f\"Original text:\\n{random_sentence}\\\n",
    "\\n\\n Embedded version :\")\n",
    "# Embed the random sentence (turn it into danse victors of fixed size)\n",
    "sample_embed = embedding(text_vectorizer([random_sentence]))\n",
    "\n",
    "#sample_embed = tf.reshape(sample_embed, (1, 15, 128))\n",
    "sample_embed"
   ]
  },
  {
   "cell_type": "code",
   "execution_count": 26,
   "id": "af574a37",
   "metadata": {},
   "outputs": [
    {
     "data": {
      "text/plain": [
       "(<tf.Tensor: shape=(128,), dtype=float32, numpy=\n",
       " array([-0.01259222, -0.02260396, -0.0282679 , -0.03223418,  0.04039583,\n",
       "         0.02806241,  0.04105767, -0.03088768, -0.0354462 , -0.02834523,\n",
       "         0.00583463,  0.03161821,  0.03396672, -0.00025386, -0.01558875,\n",
       "         0.02176858,  0.03669307,  0.04534841,  0.04414603, -0.04898053,\n",
       "         0.02281863, -0.00730277,  0.03802624,  0.04732194,  0.00593974,\n",
       "        -0.03590279,  0.0247716 , -0.03921125, -0.02366066,  0.02042564,\n",
       "        -0.00260689,  0.00564516, -0.01286004,  0.03689345, -0.00501659,\n",
       "         0.04730035,  0.0093969 ,  0.04789838, -0.01875985,  0.04328075,\n",
       "        -0.01055817, -0.02215543,  0.03457144, -0.03274769, -0.02053611,\n",
       "         0.0211804 ,  0.00405381,  0.00225909, -0.00845448, -0.01188415,\n",
       "        -0.01069843,  0.03529857, -0.04431583, -0.00214104,  0.01066195,\n",
       "         0.0233484 , -0.01993728, -0.0200797 , -0.03995167,  0.033649  ,\n",
       "         0.03745433,  0.01288137, -0.04712002, -0.04351516,  0.01703963,\n",
       "        -0.04779727,  0.02501675,  0.00895617,  0.01399635, -0.00807035,\n",
       "        -0.01017985,  0.00619977,  0.01198268, -0.03692238, -0.02211435,\n",
       "        -0.0261744 , -0.03204232,  0.01398462,  0.01939068,  0.03965094,\n",
       "         0.01704654, -0.00890989,  0.04359883, -0.00339646, -0.0195339 ,\n",
       "         0.04104425, -0.02416058, -0.03983838,  0.00536443,  0.04775322,\n",
       "         0.03030595,  0.04657232, -0.01574804, -0.0277601 , -0.0069776 ,\n",
       "        -0.04661583, -0.02432579, -0.02953426,  0.04691252, -0.02096751,\n",
       "        -0.04596043,  0.045646  , -0.0191458 ,  0.04085727, -0.025529  ,\n",
       "        -0.02337688,  0.04301329, -0.02896312, -0.04020004, -0.0344291 ,\n",
       "        -0.03473558, -0.00929068,  0.03838989,  0.02195222, -0.04572238,\n",
       "        -0.00591628,  0.03864414, -0.04003914, -0.00461155, -0.02034528,\n",
       "        -0.0198198 , -0.03526241,  0.01060473,  0.03062114,  0.02225551,\n",
       "         0.04498501,  0.02527041, -0.01866557], dtype=float32)>,\n",
       " TensorShape([128]),\n",
       " 'On plus side LOOK AT THE SKY LAST NIGHT IT WAS ABLAZE http://t.co/qqsmshaJ3N')"
      ]
     },
     "execution_count": 26,
     "metadata": {},
     "output_type": "execute_result"
    }
   ],
   "source": [
    "# Check out a single token's embedding\n",
    "sample_embed[0][0], sample_embed[0][0].shape, random_sentence"
   ]
  },
  {
   "cell_type": "markdown",
   "id": "82e78527",
   "metadata": {},
   "source": [
    "## Modelling a text dateset (running a series of experimente)\n",
    "\n",
    "    Now we ve a got way to turn our text sequences into numbers,\n",
    "    it's time to start building a series of modelling experiments.\n",
    "\n",
    "    We'll start with a baseline and moce on from there.\n",
    "\n",
    "* Model 0: Naive Bayes (baseline) with sklearn : https://scikit-learn.org/stable/tutorial/machine_learning_map/index.html\n",
    "* Model 1: Feed-forward neural network (danse model)\n",
    "* Model 2 : LSTM model (RNN)\n",
    "* model 3 : GRU model (RNN)\n",
    "* model 4 : Bidirectional-LSTM model (RNN)\n",
    "* Model 5 : 1D Convolutional Neural Network (CNN)\n",
    "* Model 6 : TensorFlow Hub Pretrained Feature Extractor (using transfer learning for NLP)\n",
    "* Model 7 : Same as model 6 with 10% of training data\n",
    "\n",
    "How are we going to approch all of these ?\n",
    "\n",
    "Use the standard steps in modelling with tensorflow:\n",
    "\n",
    "* Create a model \n",
    "* Build a model\n",
    "* Fit a model\n",
    "* Evaluate model"
   ]
  },
  {
   "cell_type": "markdown",
   "id": "0827f9c1",
   "metadata": {},
   "source": [
    "### Model 0 : Getting a baseline\n",
    "\n",
    "As with all machine learning modelling experiments, it's important to create a baseline model so you're got a benchmark for future experiments to build upon.\n",
    "\n",
    "To create our baseline, we'll use Sklearn's Multinomial Naive Bayers using the TF-IDF formula to convert our words to numbers\n",
    "\n",
    ">** note : ** it's common practice to use non-Deep Learning Algorithms as a baseline because of their speed and then later using Deep Learning to to see if you can imporove upon them."
   ]
  },
  {
   "cell_type": "code",
   "execution_count": 27,
   "id": "eda29d8d",
   "metadata": {},
   "outputs": [
    {
     "data": {
      "text/html": [
       "<style>#sk-container-id-1 {color: black;background-color: white;}#sk-container-id-1 pre{padding: 0;}#sk-container-id-1 div.sk-toggleable {background-color: white;}#sk-container-id-1 label.sk-toggleable__label {cursor: pointer;display: block;width: 100%;margin-bottom: 0;padding: 0.3em;box-sizing: border-box;text-align: center;}#sk-container-id-1 label.sk-toggleable__label-arrow:before {content: \"▸\";float: left;margin-right: 0.25em;color: #696969;}#sk-container-id-1 label.sk-toggleable__label-arrow:hover:before {color: black;}#sk-container-id-1 div.sk-estimator:hover label.sk-toggleable__label-arrow:before {color: black;}#sk-container-id-1 div.sk-toggleable__content {max-height: 0;max-width: 0;overflow: hidden;text-align: left;background-color: #f0f8ff;}#sk-container-id-1 div.sk-toggleable__content pre {margin: 0.2em;color: black;border-radius: 0.25em;background-color: #f0f8ff;}#sk-container-id-1 input.sk-toggleable__control:checked~div.sk-toggleable__content {max-height: 200px;max-width: 100%;overflow: auto;}#sk-container-id-1 input.sk-toggleable__control:checked~label.sk-toggleable__label-arrow:before {content: \"▾\";}#sk-container-id-1 div.sk-estimator input.sk-toggleable__control:checked~label.sk-toggleable__label {background-color: #d4ebff;}#sk-container-id-1 div.sk-label input.sk-toggleable__control:checked~label.sk-toggleable__label {background-color: #d4ebff;}#sk-container-id-1 input.sk-hidden--visually {border: 0;clip: rect(1px 1px 1px 1px);clip: rect(1px, 1px, 1px, 1px);height: 1px;margin: -1px;overflow: hidden;padding: 0;position: absolute;width: 1px;}#sk-container-id-1 div.sk-estimator {font-family: monospace;background-color: #f0f8ff;border: 1px dotted black;border-radius: 0.25em;box-sizing: border-box;margin-bottom: 0.5em;}#sk-container-id-1 div.sk-estimator:hover {background-color: #d4ebff;}#sk-container-id-1 div.sk-parallel-item::after {content: \"\";width: 100%;border-bottom: 1px solid gray;flex-grow: 1;}#sk-container-id-1 div.sk-label:hover label.sk-toggleable__label {background-color: #d4ebff;}#sk-container-id-1 div.sk-serial::before {content: \"\";position: absolute;border-left: 1px solid gray;box-sizing: border-box;top: 0;bottom: 0;left: 50%;z-index: 0;}#sk-container-id-1 div.sk-serial {display: flex;flex-direction: column;align-items: center;background-color: white;padding-right: 0.2em;padding-left: 0.2em;position: relative;}#sk-container-id-1 div.sk-item {position: relative;z-index: 1;}#sk-container-id-1 div.sk-parallel {display: flex;align-items: stretch;justify-content: center;background-color: white;position: relative;}#sk-container-id-1 div.sk-item::before, #sk-container-id-1 div.sk-parallel-item::before {content: \"\";position: absolute;border-left: 1px solid gray;box-sizing: border-box;top: 0;bottom: 0;left: 50%;z-index: -1;}#sk-container-id-1 div.sk-parallel-item {display: flex;flex-direction: column;z-index: 1;position: relative;background-color: white;}#sk-container-id-1 div.sk-parallel-item:first-child::after {align-self: flex-end;width: 50%;}#sk-container-id-1 div.sk-parallel-item:last-child::after {align-self: flex-start;width: 50%;}#sk-container-id-1 div.sk-parallel-item:only-child::after {width: 0;}#sk-container-id-1 div.sk-dashed-wrapped {border: 1px dashed gray;margin: 0 0.4em 0.5em 0.4em;box-sizing: border-box;padding-bottom: 0.4em;background-color: white;}#sk-container-id-1 div.sk-label label {font-family: monospace;font-weight: bold;display: inline-block;line-height: 1.2em;}#sk-container-id-1 div.sk-label-container {text-align: center;}#sk-container-id-1 div.sk-container {/* jupyter's `normalize.less` sets `[hidden] { display: none; }` but bootstrap.min.css set `[hidden] { display: none !important; }` so we also need the `!important` here to be able to override the default hidden behavior on the sphinx rendered scikit-learn.org. See: https://github.com/scikit-learn/scikit-learn/issues/21755 */display: inline-block !important;position: relative;}#sk-container-id-1 div.sk-text-repr-fallback {display: none;}</style><div id=\"sk-container-id-1\" class=\"sk-top-container\"><div class=\"sk-text-repr-fallback\"><pre>Pipeline(steps=[(&#x27;tfidf&#x27;, TfidfVectorizer()), (&#x27;clf&#x27;, MultinomialNB())])</pre><b>In a Jupyter environment, please rerun this cell to show the HTML representation or trust the notebook. <br />On GitHub, the HTML representation is unable to render, please try loading this page with nbviewer.org.</b></div><div class=\"sk-container\" hidden><div class=\"sk-item sk-dashed-wrapped\"><div class=\"sk-label-container\"><div class=\"sk-label sk-toggleable\"><input class=\"sk-toggleable__control sk-hidden--visually\" id=\"sk-estimator-id-1\" type=\"checkbox\" ><label for=\"sk-estimator-id-1\" class=\"sk-toggleable__label sk-toggleable__label-arrow\">Pipeline</label><div class=\"sk-toggleable__content\"><pre>Pipeline(steps=[(&#x27;tfidf&#x27;, TfidfVectorizer()), (&#x27;clf&#x27;, MultinomialNB())])</pre></div></div></div><div class=\"sk-serial\"><div class=\"sk-item\"><div class=\"sk-estimator sk-toggleable\"><input class=\"sk-toggleable__control sk-hidden--visually\" id=\"sk-estimator-id-2\" type=\"checkbox\" ><label for=\"sk-estimator-id-2\" class=\"sk-toggleable__label sk-toggleable__label-arrow\">TfidfVectorizer</label><div class=\"sk-toggleable__content\"><pre>TfidfVectorizer()</pre></div></div></div><div class=\"sk-item\"><div class=\"sk-estimator sk-toggleable\"><input class=\"sk-toggleable__control sk-hidden--visually\" id=\"sk-estimator-id-3\" type=\"checkbox\" ><label for=\"sk-estimator-id-3\" class=\"sk-toggleable__label sk-toggleable__label-arrow\">MultinomialNB</label><div class=\"sk-toggleable__content\"><pre>MultinomialNB()</pre></div></div></div></div></div></div></div>"
      ],
      "text/plain": [
       "Pipeline(steps=[('tfidf', TfidfVectorizer()), ('clf', MultinomialNB())])"
      ]
     },
     "execution_count": 27,
     "metadata": {},
     "output_type": "execute_result"
    }
   ],
   "source": [
    "from sklearn.feature_extraction.text import TfidfVectorizer\n",
    "from sklearn.naive_bayes import MultinomialNB\n",
    "from sklearn.pipeline import Pipeline\n",
    "\n",
    "# Create tokenization and modelling pipeline\n",
    "model_0 = Pipeline ([\n",
    "                    (\"tfidf\", TfidfVectorizer()), # convert words to numbers using tfidf\n",
    "                    (\"clf\", MultinomialNB()) # model the text clf : juste classification\n",
    "])\n",
    "\n",
    "# Fit the pipleine to the training data\n",
    "model_0.fit(train_sentences, train_labels)"
   ]
  },
  {
   "cell_type": "code",
   "execution_count": 28,
   "id": "8affb3f0",
   "metadata": {},
   "outputs": [
    {
     "name": "stdout",
     "output_type": "stream",
     "text": [
      "Our baseline model achives an accuracy of : 0.7926509186351706\n"
     ]
    }
   ],
   "source": [
    "# Evaluate the baseline model\n",
    "baseline_score = model_0.score(val_sentences, val_labels)\n",
    "print(f\"Our baseline model achives an accuracy of : {baseline_score}\")"
   ]
  },
  {
   "cell_type": "code",
   "execution_count": 29,
   "id": "f286a72d",
   "metadata": {},
   "outputs": [
    {
     "data": {
      "text/plain": [
       "array([1, 1, 1, 0, 0, 1, 1, 1, 1, 0], dtype=int64)"
      ]
     },
     "execution_count": 29,
     "metadata": {},
     "output_type": "execute_result"
    }
   ],
   "source": [
    "# Make predictions\n",
    "baseline_preds = model_0.predict(val_sentences)\n",
    "baseline_preds[:10]\n",
    "# for i in range(0,10,1):\n",
    "#     print(f\" {val_sentences[i]} \\n prediction : {baseline_preds[i]}\")\n",
    "    "
   ]
  },
  {
   "cell_type": "markdown",
   "id": "5040405c",
   "metadata": {},
   "source": [
    "### Creating an evaluation function for our model experiments\n",
    "\n",
    "We could evaluate all of our model's predictions with different metrics every time, however this will be cumbersome and could easily be fixed with function\n",
    "\n",
    "Let's create one to compare our model's predictions with the truth labels using the following metrics:\n",
    "* Accuracy.\n",
    "* Precision.\n",
    "* Recall\n",
    "* F1-score\n",
    "\n",
    "For a deep overview of many different evaluation methods, see the sklearn"
   ]
  },
  {
   "cell_type": "markdown",
   "id": "74010e7d",
   "metadata": {},
   "source": [
    "### "
   ]
  },
  {
   "cell_type": "code",
   "execution_count": 30,
   "id": "b59a21b4",
   "metadata": {},
   "outputs": [],
   "source": [
    "# Function to evaluate : accuracy, precision, recall, f1-score\n",
    "from sklearn.metrics import accuracy_score, precision_recall_fscore_support\n",
    "# rajouter\n",
    "def calculate_results(y_true, y_pred):\n",
    "    \"\"\"\n",
    "    Calculates model accuracy, precision, recall and f1 score of a binary classification model.\n",
    "    \"\"\"\n",
    "    # Calculate model accuracy\n",
    "    model_accuracy = accuracy_score(y_true, y_pred) * 100\n",
    "    # Calculate model precision, recall and f1-score using \"weighted\" average\n",
    "    model_precision, model_recall, model_f1, _ = precision_recall_fscore_support(y_true, y_pred, average=\"weighted\")\n",
    "    model_results = {\"accuracy\": model_accuracy,\n",
    "                    \"precision\": model_precision,\n",
    "                    \"recall\": model_recall,\n",
    "                    \"f1\": model_f1}\n",
    "    return model_results"
   ]
  },
  {
   "cell_type": "code",
   "execution_count": 31,
   "id": "a7eaa603",
   "metadata": {},
   "outputs": [
    {
     "data": {
      "text/plain": [
       "{'accuracy': 79.26509186351706,\n",
       " 'precision': 0.8111390004213173,\n",
       " 'recall': 0.7926509186351706,\n",
       " 'f1': 0.7862189758049549}"
      ]
     },
     "execution_count": 31,
     "metadata": {},
     "output_type": "execute_result"
    }
   ],
   "source": [
    "# Get baseline results\n",
    "baseline_results = calculate_results(y_true=val_labels,\n",
    "                                     y_pred=baseline_preds)\n",
    "baseline_results"
   ]
  },
  {
   "cell_type": "markdown",
   "id": "fe9fb514",
   "metadata": {},
   "source": [
    "# Model 1: A simple dense model"
   ]
  },
  {
   "cell_type": "code",
   "execution_count": 32,
   "id": "02459538",
   "metadata": {},
   "outputs": [],
   "source": [
    "# Create a tensorboard callback (need to create a new one for each model)\n",
    "from helper_functions import create_tensorboard_callback\n",
    "\n",
    "# Create a directory to save TensorBoard logs\n",
    "SAVE_DIR = \"model_logs\""
   ]
  },
  {
   "cell_type": "code",
   "execution_count": null,
   "id": "79f468f0",
   "metadata": {},
   "outputs": [],
   "source": []
  },
  {
   "cell_type": "code",
   "execution_count": null,
   "id": "0264dbea",
   "metadata": {},
   "outputs": [],
   "source": []
  },
  {
   "cell_type": "code",
   "execution_count": 33,
   "id": "a96f1e71",
   "metadata": {},
   "outputs": [],
   "source": [
    "# Build model with the Functional API\n",
    "from tensorflow.keras import layers\n",
    "inputs = layers.Input(shape=(1,), dtype=tf.string) # inputs are 1-dimensional string\n",
    "x = text_vectorizer(inputs)# turn the input text into numbers\n",
    "x = embedding(x) # transform the input numbers in embedding\n",
    "x = layers.GlobalAveragePooling1D()(x) # Condense the feature vector for each token to on vector\n",
    "outputs = layers.Dense(1, activation=\"sigmoid\")(x) # Create the output layer, want binary outputs\n",
    "model_1 = tf.keras.Model(inputs,outputs, name=\"Model_1_dense\")"
   ]
  },
  {
   "cell_type": "code",
   "execution_count": 34,
   "id": "623d114e",
   "metadata": {},
   "outputs": [
    {
     "name": "stdout",
     "output_type": "stream",
     "text": [
      "Model: \"Model_1_dense\"\n",
      "_________________________________________________________________\n",
      " Layer (type)                Output Shape              Param #   \n",
      "=================================================================\n",
      " input_1 (InputLayer)        [(None, 1)]               0         \n",
      "                                                                 \n",
      " text_vectorization_1 (TextV  (None, 15)               0         \n",
      " ectorization)                                                   \n",
      "                                                                 \n",
      " embedding (Embedding)       (None, 15, 128)           1280000   \n",
      "                                                                 \n",
      " global_average_pooling1d (G  (None, 128)              0         \n",
      " lobalAveragePooling1D)                                          \n",
      "                                                                 \n",
      " dense (Dense)               (None, 1)                 129       \n",
      "                                                                 \n",
      "=================================================================\n",
      "Total params: 1,280,129\n",
      "Trainable params: 1,280,129\n",
      "Non-trainable params: 0\n",
      "_________________________________________________________________\n"
     ]
    }
   ],
   "source": [
    "model_1.summary()    "
   ]
  },
  {
   "cell_type": "code",
   "execution_count": 35,
   "id": "a42935a8",
   "metadata": {},
   "outputs": [],
   "source": [
    "model_1.compile(loss=\"binary_crossentropy\",\n",
    "               optimizer=tf.keras.optimizers.Adam(),\n",
    "               metrics=[\"accuracy\"])"
   ]
  },
  {
   "cell_type": "code",
   "execution_count": null,
   "id": "cb4ac54d",
   "metadata": {},
   "outputs": [],
   "source": []
  },
  {
   "cell_type": "code",
   "execution_count": 36,
   "id": "96dc79b7",
   "metadata": {},
   "outputs": [
    {
     "name": "stdout",
     "output_type": "stream",
     "text": [
      "Saving TensorBoard log files to: model_logs/model_1_dense/20230116-222018\n",
      "Epoch 1/5\n",
      "215/215 [==============================] - 4s 6ms/step - loss: 0.6115 - accuracy: 0.6989 - val_loss: 0.5357 - val_accuracy: 0.7572\n",
      "Epoch 2/5\n",
      "215/215 [==============================] - 1s 5ms/step - loss: 0.4414 - accuracy: 0.8173 - val_loss: 0.4702 - val_accuracy: 0.7848\n",
      "Epoch 3/5\n",
      "215/215 [==============================] - 1s 6ms/step - loss: 0.3464 - accuracy: 0.8599 - val_loss: 0.4568 - val_accuracy: 0.7887\n",
      "Epoch 4/5\n",
      "215/215 [==============================] - 1s 5ms/step - loss: 0.2837 - accuracy: 0.8936 - val_loss: 0.4651 - val_accuracy: 0.7887\n",
      "Epoch 5/5\n",
      "215/215 [==============================] - 1s 5ms/step - loss: 0.2369 - accuracy: 0.9118 - val_loss: 0.4827 - val_accuracy: 0.7835\n"
     ]
    }
   ],
   "source": [
    "history_model_1 = model_1.fit(x=train_sentences,\n",
    "                              y=train_labels,\n",
    "                              epochs=5,\n",
    "                              validation_data=(val_sentences,val_labels),\n",
    "                              callbacks=[create_tensorboard_callback(dir_name=SAVE_DIR,\n",
    "                                        experiment_name=\"model_1_dense\")])"
   ]
  },
  {
   "cell_type": "code",
   "execution_count": 37,
   "id": "69867b27",
   "metadata": {},
   "outputs": [
    {
     "name": "stdout",
     "output_type": "stream",
     "text": [
      "24/24 [==============================] - 0s 3ms/step - loss: 0.4827 - accuracy: 0.7835\n"
     ]
    },
    {
     "data": {
      "text/plain": [
       "[0.482700377702713, 0.7834645509719849]"
      ]
     },
     "execution_count": 37,
     "metadata": {},
     "output_type": "execute_result"
    }
   ],
   "source": [
    "# Check the results\n",
    "model_1.evaluate(val_sentences, val_labels)"
   ]
  },
  {
   "cell_type": "code",
   "execution_count": 38,
   "id": "dec3e5ff",
   "metadata": {},
   "outputs": [
    {
     "name": "stdout",
     "output_type": "stream",
     "text": [
      "24/24 [==============================] - 0s 2ms/step\n"
     ]
    },
    {
     "data": {
      "text/plain": [
       "((762, 1), array([0.40546677], dtype=float32))"
      ]
     },
     "execution_count": 38,
     "metadata": {},
     "output_type": "execute_result"
    }
   ],
   "source": [
    "# Make some predictions\n",
    "model_1_pred_probs = model_1.predict(val_sentences)\n",
    "model_1_pred_probs.shape, model_1_pred_probs[0]"
   ]
  },
  {
   "cell_type": "code",
   "execution_count": 39,
   "id": "298c0583",
   "metadata": {},
   "outputs": [
    {
     "data": {
      "text/plain": [
       "array([[0.40546677],\n",
       "       [0.8031199 ],\n",
       "       [0.9978848 ],\n",
       "       [0.13206421],\n",
       "       [0.11119317],\n",
       "       [0.9426388 ],\n",
       "       [0.9129343 ],\n",
       "       [0.9939521 ],\n",
       "       [0.9678228 ],\n",
       "       [0.2901585 ]], dtype=float32)"
      ]
     },
     "execution_count": 39,
     "metadata": {},
     "output_type": "execute_result"
    }
   ],
   "source": [
    "# Look at a single prediction\n",
    "model_1_pred_probs[:10]"
   ]
  },
  {
   "cell_type": "code",
   "execution_count": 40,
   "id": "27159324",
   "metadata": {},
   "outputs": [
    {
     "data": {
      "text/plain": [
       "(762, 1)"
      ]
     },
     "execution_count": 40,
     "metadata": {},
     "output_type": "execute_result"
    }
   ],
   "source": [
    "model_1_pred_probs.shape"
   ]
  },
  {
   "cell_type": "code",
   "execution_count": 41,
   "id": "a10ee1c1",
   "metadata": {},
   "outputs": [
    {
     "data": {
      "text/plain": [
       "<tf.Tensor: shape=(20,), dtype=float32, numpy=\n",
       "array([0., 1., 1., 0., 0., 1., 1., 1., 1., 0., 0., 1., 0., 0., 0., 0., 0.,\n",
       "       0., 0., 1.], dtype=float32)>"
      ]
     },
     "execution_count": 41,
     "metadata": {},
     "output_type": "execute_result"
    }
   ],
   "source": [
    "# Convert model prediction probabilities to label format\n",
    "\n",
    "model_1_pred_probs = tf.squeeze(tf.round(model_1_pred_probs))\n",
    "model_1_pred_probs[:20]"
   ]
  },
  {
   "cell_type": "code",
   "execution_count": 42,
   "id": "619cc4ef",
   "metadata": {},
   "outputs": [
    {
     "data": {
      "text/plain": [
       "{'accuracy': 78.34645669291339,\n",
       " 'precision': 0.7880043492637875,\n",
       " 'recall': 0.7834645669291339,\n",
       " 'f1': 0.7804929895574078}"
      ]
     },
     "execution_count": 42,
     "metadata": {},
     "output_type": "execute_result"
    }
   ],
   "source": [
    "# Calculate our model_1 results\n",
    "model_1_results = calculate_results(y_true=val_labels,\n",
    "                                   y_pred=model_1_pred_probs)\n",
    "model_1_results"
   ]
  },
  {
   "cell_type": "code",
   "execution_count": 43,
   "id": "2f69fa1f",
   "metadata": {},
   "outputs": [
    {
     "data": {
      "text/plain": [
       "{'accuracy': 79.26509186351706,\n",
       " 'precision': 0.8111390004213173,\n",
       " 'recall': 0.7926509186351706,\n",
       " 'f1': 0.7862189758049549}"
      ]
     },
     "execution_count": 43,
     "metadata": {},
     "output_type": "execute_result"
    }
   ],
   "source": [
    "baseline_results"
   ]
  },
  {
   "cell_type": "code",
   "execution_count": 44,
   "id": "4ab6ee6e",
   "metadata": {},
   "outputs": [
    {
     "data": {
      "text/plain": [
       "array([False, False, False, False])"
      ]
     },
     "execution_count": 44,
     "metadata": {},
     "output_type": "execute_result"
    }
   ],
   "source": [
    "# compare witch best between our models\n",
    "import numpy as np\n",
    "np.array(list(model_1_results.values())) > np.array(list(baseline_results.values())) "
   ]
  },
  {
   "cell_type": "markdown",
   "id": "581df9fd",
   "metadata": {},
   "source": [
    "## Visualizing learned embeddings\n"
   ]
  },
  {
   "cell_type": "code",
   "execution_count": 45,
   "id": "2365df42",
   "metadata": {},
   "outputs": [
    {
     "data": {
      "text/plain": [
       "(10000, ['', '[UNK]', 'the', 'a', 'in', 'to', 'of', 'and', 'i', 'is'])"
      ]
     },
     "execution_count": 45,
     "metadata": {},
     "output_type": "execute_result"
    }
   ],
   "source": [
    "# Get the vocabulary from the text vectorization layer\n",
    "words_in_vocab = text_vectorizer.get_vocabulary()\n",
    "len(words_in_vocab), words_in_vocab[:10]"
   ]
  },
  {
   "cell_type": "code",
   "execution_count": 46,
   "id": "510d1ff2",
   "metadata": {},
   "outputs": [
    {
     "data": {
      "text/plain": [
       "10000"
      ]
     },
     "execution_count": 46,
     "metadata": {},
     "output_type": "execute_result"
    }
   ],
   "source": [
    "max_vocab_length"
   ]
  },
  {
   "cell_type": "code",
   "execution_count": 47,
   "id": "1be59242",
   "metadata": {},
   "outputs": [
    {
     "name": "stdout",
     "output_type": "stream",
     "text": [
      "Model: \"Model_1_dense\"\n",
      "_________________________________________________________________\n",
      " Layer (type)                Output Shape              Param #   \n",
      "=================================================================\n",
      " input_1 (InputLayer)        [(None, 1)]               0         \n",
      "                                                                 \n",
      " text_vectorization_1 (TextV  (None, 15)               0         \n",
      " ectorization)                                                   \n",
      "                                                                 \n",
      " embedding (Embedding)       (None, 15, 128)           1280000   \n",
      "                                                                 \n",
      " global_average_pooling1d (G  (None, 128)              0         \n",
      " lobalAveragePooling1D)                                          \n",
      "                                                                 \n",
      " dense (Dense)               (None, 1)                 129       \n",
      "                                                                 \n",
      "=================================================================\n",
      "Total params: 1,280,129\n",
      "Trainable params: 1,280,129\n",
      "Non-trainable params: 0\n",
      "_________________________________________________________________\n"
     ]
    }
   ],
   "source": [
    "# Model 1 summary\n",
    "model_1.summary()"
   ]
  },
  {
   "cell_type": "code",
   "execution_count": 51,
   "id": "07871965",
   "metadata": {},
   "outputs": [
    {
     "name": "stdout",
     "output_type": "stream",
     "text": [
      "(10000, 128)\n"
     ]
    }
   ],
   "source": [
    "# Get the weight matrix of embedding layer\n",
    "# (thse are the numerical representations of each token in our training data, which have been learned for -5 epochs)\n",
    "embed_weights = model_1.get_layer(\"embedding\").get_weights()\n",
    "print(embed_weights[0].shape) # same size as vocab size and embedding_dim (output_dim of our embedding layer)"
   ]
  },
  {
   "cell_type": "code",
   "execution_count": 52,
   "id": "ae02c0c6",
   "metadata": {},
   "outputs": [
    {
     "data": {
      "text/plain": [
       "[array([[ 0.03820484, -0.01344948,  0.02937469, ..., -0.04787105,\n",
       "          0.04021944, -0.06293101],\n",
       "        [ 0.00721968,  0.00771107,  0.03239628, ..., -0.02388553,\n",
       "         -0.01896044,  0.02937855],\n",
       "        [ 0.00973042,  0.05472668,  0.00695324, ..., -0.02302973,\n",
       "          0.01827305,  0.01544901],\n",
       "        ...,\n",
       "        [ 0.02152051, -0.03912783,  0.0219495 , ..., -0.03770596,\n",
       "         -0.01462867, -0.02694877],\n",
       "        [-0.00443885,  0.07291612,  0.00105182, ..., -0.00767418,\n",
       "         -0.02795472,  0.00116968],\n",
       "        [ 0.0764626 ,  0.03179592, -0.05615811, ..., -0.06207443,\n",
       "         -0.0646542 , -0.05228703]], dtype=float32)]"
      ]
     },
     "execution_count": 52,
     "metadata": {},
     "output_type": "execute_result"
    }
   ],
   "source": [
    "embed_weights"
   ]
  },
  {
   "cell_type": "markdown",
   "id": "0eb017c9",
   "metadata": {},
   "source": [
    "Now we've got the embedding matric our model has learned to represent our tokens, let's see how we can visualize it.\n",
    "\n",
    "To do so, TensorFlow has a handly tool called projector: https://projector.tensorflow.org/\n",
    "\n",
    "And TensorFlow also has an incredible guide on word embeddings themselves\n",
    "https://www.tensorflow.org/text/guide/word_embeddings"
   ]
  },
  {
   "cell_type": "code",
   "execution_count": 53,
   "id": "1d9af286",
   "metadata": {},
   "outputs": [],
   "source": [
    "# # Create embedding files (we got this from TensorFlow's word embedding documentation)\n",
    "# import io\n",
    "# out_v = io.open('vectors.tsv', 'w', encoding='utf-8')\n",
    "# out_m = io.open('metadata.tsv', 'w', encoding='utf-8')\n",
    "\n",
    "# for index, word in enumerate(words_in_vocab):\n",
    "#   if index == 0:\n",
    "#     continue  # skip 0, it's padding.\n",
    "#   vec = embed_weights[0][index]\n",
    "#   out_v.write('\\t'.join([str(x) for x in vec]) + \"\\n\")\n",
    "#   out_m.write(word + \"\\n\")\n",
    "# out_v.close()\n",
    "# out_m.close()"
   ]
  },
  {
   "cell_type": "code",
   "execution_count": 54,
   "id": "72e77185",
   "metadata": {},
   "outputs": [],
   "source": [
    "# try:\n",
    "#   from google.colab import files\n",
    "#   files.download('vectors.tsv')\n",
    "#   files.download('metadata.tsv')\n",
    "# except Exception:\n",
    "#   pass"
   ]
  },
  {
   "cell_type": "markdown",
   "id": "3d2091a5",
   "metadata": {},
   "source": [
    "Downloading the files above can visualize them usign http://projector.tensorflow.org/ and clicking the \"load\" button on the left hand\n",
    "*Ressources : if you'd like to know more about embedding, I'd encourage you to check out :\n",
    "- Jay Alammer's vusualized word2vec post : https://jalammar.github.io/illustrated-word2vec/\n",
    "- TensorFlow's Word Embeddings guide: https://www.tensorflow.org/tutorials/text/word_embeddings"
   ]
  },
  {
   "cell_type": "markdown",
   "id": "5b722294",
   "metadata": {},
   "source": [
    "## Recurrent Neural Networks (RNN's)\n",
    "\n",
    "RNN's are useful for sequence data.\n",
    "\n",
    "The premise of a recurrent neural network is to use the representation of a previous input to aid the representation of a later\n",
    "* Ressources :> \n",
    "If you want an overview of the internale of a recurrent neural network, see the following : \n",
    "    - MIT's sequence modelling lecture https://www.youtube.com/watch?v=QvkQ1B3FBqA\n",
    "    - Chris Olah's intro to LSTMs : https://colah.github.io/posts/2015-08-Understanding-LSTMs/\n",
    "    - Andrej Karphathy's the unreasonable effectiveness of recurrent neural network : http://karpathy.github.io/2015/05/21/rnn-effectiveness/\n",
    "    - https://www.youtube.com/watch?v=QvkQ1B3FBqA&t=166s"
   ]
  },
  {
   "cell_type": "markdown",
   "id": "dff9cdd7",
   "metadata": {},
   "source": [
    "### Model 2 : LSTM \n",
    "LSTM = long short term memory (one of the most popular LSTM cells)\n",
    "\n",
    "Our structure of an RNN Typically looks like this:\n",
    "\n",
    "```\n",
    "Input (text) -> Tokenize -> Embedding -> Layers (RNNs/dense) -> Output (label probability)\n",
    "```"
   ]
  },
  {
   "cell_type": "code",
   "execution_count": 55,
   "id": "645c0589",
   "metadata": {},
   "outputs": [
    {
     "name": "stdout",
     "output_type": "stream",
     "text": [
      "WARNING:tensorflow:Layer lstm will not use cuDNN kernels since it doesn't meet the criteria. It will use a generic GPU kernel as fallback when running on GPU.\n"
     ]
    }
   ],
   "source": [
    "# Create an LSTM model\n",
    "from tensorflow.keras import layers\n",
    "inputs = layers.Input(shape=(1,), dtype=\"string\")\n",
    "x = text_vectorizer(inputs)\n",
    "x = embedding(x)\n",
    "# print(x.shape)\n",
    "# x = layers.LSTM(units=64, return_sequences=True)(x) # when you're stacking RNN cells together, you need to  returns sequences=True\n",
    "# print(x.shape)\n",
    "x = layers.LSTM(64, activation=\"relu\")(x)\n",
    "# print(x.shape)\n",
    "outputs = layers.Dense(1, activation=\"sigmoid\")(x)\n",
    "# print(x.shape)\n",
    "model_2 = tf.keras.Model(inputs, outputs, name=\"model_2_LSTM\")\n"
   ]
  },
  {
   "cell_type": "code",
   "execution_count": 56,
   "id": "9ba1f09f",
   "metadata": {},
   "outputs": [
    {
     "name": "stdout",
     "output_type": "stream",
     "text": [
      "Model: \"model_2_LSTM\"\n",
      "_________________________________________________________________\n",
      " Layer (type)                Output Shape              Param #   \n",
      "=================================================================\n",
      " input_2 (InputLayer)        [(None, 1)]               0         \n",
      "                                                                 \n",
      " text_vectorization_1 (TextV  (None, 15)               0         \n",
      " ectorization)                                                   \n",
      "                                                                 \n",
      " embedding (Embedding)       (None, 15, 128)           1280000   \n",
      "                                                                 \n",
      " lstm (LSTM)                 (None, 64)                49408     \n",
      "                                                                 \n",
      " dense_1 (Dense)             (None, 1)                 65        \n",
      "                                                                 \n",
      "=================================================================\n",
      "Total params: 1,329,473\n",
      "Trainable params: 1,329,473\n",
      "Non-trainable params: 0\n",
      "_________________________________________________________________\n"
     ]
    }
   ],
   "source": [
    "# Get the summary \n",
    "model_2.summary()"
   ]
  },
  {
   "cell_type": "code",
   "execution_count": 57,
   "id": "73ca3542",
   "metadata": {},
   "outputs": [],
   "source": [
    "# Compile the model\n",
    "model_2.compile(loss=tf.keras.losses.BinaryCrossentropy(),\n",
    "                optimizer=tf.keras.optimizers.Adam(),\n",
    "                metrics=[\"accuracy\"])"
   ]
  },
  {
   "cell_type": "code",
   "execution_count": 58,
   "id": "5407aaff",
   "metadata": {},
   "outputs": [
    {
     "name": "stdout",
     "output_type": "stream",
     "text": [
      "Saving TensorBoard log files to: model_logs/model_2_LSTM/20230116-222130\n",
      "Epoch 1/5\n",
      "215/215 [==============================] - 12s 49ms/step - loss: 0.2545 - accuracy: 0.9053 - val_loss: 0.6648 - val_accuracy: 0.7795\n",
      "Epoch 2/5\n",
      "215/215 [==============================] - 11s 49ms/step - loss: 0.1705 - accuracy: 0.9356 - val_loss: 0.8671 - val_accuracy: 0.7756\n",
      "Epoch 3/5\n",
      "215/215 [==============================] - 10s 48ms/step - loss: 0.1333 - accuracy: 0.9473 - val_loss: 0.9047 - val_accuracy: 0.7743\n",
      "Epoch 4/5\n",
      "215/215 [==============================] - 10s 48ms/step - loss: 0.1083 - accuracy: 0.9575 - val_loss: 0.8564 - val_accuracy: 0.7717\n",
      "Epoch 5/5\n",
      "215/215 [==============================] - 10s 48ms/step - loss: 0.0892 - accuracy: 0.9670 - val_loss: 1.1356 - val_accuracy: 0.7677\n"
     ]
    }
   ],
   "source": [
    "# Fit the model \n",
    "history_model2 = model_2.fit(train_sentences,\n",
    "                            train_labels,\n",
    "                            epochs=5,\n",
    "                            validation_data=(val_sentences,val_labels),\n",
    "                            callbacks=[create_tensorboard_callback(dir_name=SAVE_DIR,\n",
    "                                                                   experiment_name=\"model_2_LSTM\")]) "
   ]
  },
  {
   "cell_type": "code",
   "execution_count": 59,
   "id": "74d422e1",
   "metadata": {},
   "outputs": [
    {
     "name": "stdout",
     "output_type": "stream",
     "text": [
      "24/24 [==============================] - 0s 7ms/step\n"
     ]
    },
    {
     "data": {
      "text/plain": [
       "array([[7.9303145e-02],\n",
       "       [8.9158654e-01],\n",
       "       [1.0000000e+00],\n",
       "       [4.1239511e-02],\n",
       "       [1.1321775e-04],\n",
       "       [1.0000000e+00],\n",
       "       [7.7143604e-01],\n",
       "       [1.0000000e+00],\n",
       "       [1.0000000e+00],\n",
       "       [6.4978713e-01]], dtype=float32)"
      ]
     },
     "execution_count": 59,
     "metadata": {},
     "output_type": "execute_result"
    }
   ],
   "source": [
    "# Make prediction with LSTM model\n",
    "model_2_pred_probs = model_2.predict(val_sentences)\n",
    "model_2_pred_probs[:10]"
   ]
  },
  {
   "cell_type": "code",
   "execution_count": 60,
   "id": "4472f23a",
   "metadata": {},
   "outputs": [
    {
     "data": {
      "text/plain": [
       "<tf.Tensor: shape=(10,), dtype=float32, numpy=array([0., 1., 1., 0., 0., 1., 1., 1., 1., 1.], dtype=float32)>"
      ]
     },
     "execution_count": 60,
     "metadata": {},
     "output_type": "execute_result"
    }
   ],
   "source": [
    "# Convert model 2 pred probs to labels\n",
    "model_2_preds = tf.squeeze(tf.round(model_2_pred_probs)) # enlever les dimension en plus\n",
    "model_2_preds[:10]"
   ]
  },
  {
   "cell_type": "code",
   "execution_count": 61,
   "id": "2549d5c2",
   "metadata": {},
   "outputs": [
    {
     "data": {
      "text/plain": [
       "{'accuracy': 76.77165354330708,\n",
       " 'precision': 0.7679905783589133,\n",
       " 'recall': 0.7677165354330708,\n",
       " 'f1': 0.7663871505080737}"
      ]
     },
     "execution_count": 61,
     "metadata": {},
     "output_type": "execute_result"
    }
   ],
   "source": [
    "# Calculate model 2 results\n",
    "model_2_results = calculate_results(val_labels, model_2_preds)\n",
    "model_2_results"
   ]
  },
  {
   "cell_type": "code",
   "execution_count": 62,
   "id": "210c59df",
   "metadata": {},
   "outputs": [
    {
     "data": {
      "text/plain": [
       "{'accuracy': 79.26509186351706,\n",
       " 'precision': 0.8111390004213173,\n",
       " 'recall': 0.7926509186351706,\n",
       " 'f1': 0.7862189758049549}"
      ]
     },
     "execution_count": 62,
     "metadata": {},
     "output_type": "execute_result"
    }
   ],
   "source": [
    "baseline_results"
   ]
  },
  {
   "cell_type": "code",
   "execution_count": 63,
   "id": "6126e4f3",
   "metadata": {},
   "outputs": [
    {
     "data": {
      "text/plain": [
       "array([ True,  True,  True,  True])"
      ]
     },
     "execution_count": 63,
     "metadata": {},
     "output_type": "execute_result"
    }
   ],
   "source": [
    "np.array(list(model_1_results.values())) > np.array(list(model_2_results.values()))  "
   ]
  },
  {
   "cell_type": "markdown",
   "id": "470c052c",
   "metadata": {},
   "source": [
    "### Model 3 : GRU\n",
    "\n",
    "Another popular and effective RNN component is the GRU or gated recurrent unit.\n",
    "\n",
    "The GRU cell has similar features to an LSTM cell but has less parameters."
   ]
  },
  {
   "cell_type": "code",
   "execution_count": 64,
   "id": "1c849c29",
   "metadata": {},
   "outputs": [],
   "source": [
    "# Build an RNN GRU\n",
    "inputs = tf.keras.layers.Input(shape=(1,), dtype=tf.string)\n",
    "x = text_vectorizer(inputs)\n",
    "x = embedding(x)\n",
    "x = tf.keras.layers.GRU(3)(x)\n",
    "# x = tf.keras.layers.GRU(units=64, return_sequences=True)(x) \n",
    "# x = tf.keras.layers.LSTM(42, return_sequences=True)(x)\n",
    "# x = tf.keras.layers.GRU(units=92, return_sequences=True)(x)\n",
    "\n",
    "# # Apply global average pooling\n",
    "# x = tf.keras.layers.GlobalAveragePooling1D()(x)\n",
    "\n",
    "# x = tf.keras.layers.Dense(64, activation=\"relu\")(x)\n",
    "\n",
    "outputs = tf.keras.layers.Dense(1, activation=\"sigmoid\")(x)\n",
    "model_3 = tf.keras.Model(inputs, outputs, name=\"model_3_GRU\")"
   ]
  },
  {
   "cell_type": "code",
   "execution_count": 65,
   "id": "f14dcfd0",
   "metadata": {},
   "outputs": [],
   "source": [
    "# # Version 2\n",
    "# # Build an RNN GRU\n",
    "# inputs = tf.keras.layers.Input(shape=(1), dtype=tf.string)\n",
    "# x = text_vectorizer(inputs)\n",
    "# x = embedding(x)\n",
    "# # x = tf.keras.layers.GRU(64)(x)\n",
    "# x = tf.keras.layers.GRU(units=64, return_sequences=True)(x) \n",
    "# x = tf.keras.layers.LSTM(42, return_sequences=True)(x)\n",
    "# x = tf.keras.layers.GRU(units=92, return_sequences=True)(x)\n",
    "\n",
    "# # Apply global average pooling\n",
    "# x = tf.keras.layers.GlobalAveragePooling1D()(x)\n",
    "\n",
    "# x = tf.keras.layers.Dense(64, activation=\"relu\")(x)\n",
    "# outputs = tf.keras.layers.Dense(1, activation=\"sigmoid\")(x)\n",
    "# model_3 = tf.keras.Model(inputs, outputs, name=\"model_3_GRU\")"
   ]
  },
  {
   "cell_type": "code",
   "execution_count": null,
   "id": "523aa55f",
   "metadata": {},
   "outputs": [],
   "source": []
  },
  {
   "cell_type": "code",
   "execution_count": 66,
   "id": "378874d9",
   "metadata": {},
   "outputs": [
    {
     "name": "stdout",
     "output_type": "stream",
     "text": [
      "Model: \"model_3_GRU\"\n",
      "_________________________________________________________________\n",
      " Layer (type)                Output Shape              Param #   \n",
      "=================================================================\n",
      " input_3 (InputLayer)        [(None, 1)]               0         \n",
      "                                                                 \n",
      " text_vectorization_1 (TextV  (None, 15)               0         \n",
      " ectorization)                                                   \n",
      "                                                                 \n",
      " embedding (Embedding)       (None, 15, 128)           1280000   \n",
      "                                                                 \n",
      " gru (GRU)                   (None, 3)                 1197      \n",
      "                                                                 \n",
      " dense_2 (Dense)             (None, 1)                 4         \n",
      "                                                                 \n",
      "=================================================================\n",
      "Total params: 1,281,201\n",
      "Trainable params: 1,281,201\n",
      "Non-trainable params: 0\n",
      "_________________________________________________________________\n"
     ]
    }
   ],
   "source": [
    "# Get a summary\n",
    "model_3.summary()"
   ]
  },
  {
   "cell_type": "code",
   "execution_count": 67,
   "id": "401f412b",
   "metadata": {},
   "outputs": [],
   "source": [
    "# compile the model\n",
    "model_3.compile(loss=\"binary_crossentropy\",\n",
    "               optimizer=tf.keras.optimizers.Adam(),\n",
    "               metrics=[\"accuracy\"])"
   ]
  },
  {
   "cell_type": "code",
   "execution_count": 68,
   "id": "b38faef9",
   "metadata": {},
   "outputs": [
    {
     "name": "stdout",
     "output_type": "stream",
     "text": [
      "Saving TensorBoard log files to: model_logs/model_3_GRU/20230116-222224\n",
      "Epoch 1/5\n",
      "215/215 [==============================] - 5s 11ms/step - loss: 0.5226 - accuracy: 0.7714 - val_loss: 0.4991 - val_accuracy: 0.7835\n",
      "Epoch 2/5\n",
      "215/215 [==============================] - 2s 9ms/step - loss: 0.2452 - accuracy: 0.9340 - val_loss: 0.4797 - val_accuracy: 0.7940\n",
      "Epoch 3/5\n",
      "215/215 [==============================] - 2s 8ms/step - loss: 0.1511 - accuracy: 0.9628 - val_loss: 0.5379 - val_accuracy: 0.7795\n",
      "Epoch 4/5\n",
      "215/215 [==============================] - 2s 8ms/step - loss: 0.1146 - accuracy: 0.9718 - val_loss: 0.5647 - val_accuracy: 0.7822\n",
      "Epoch 5/5\n",
      "215/215 [==============================] - 2s 8ms/step - loss: 0.0959 - accuracy: 0.9749 - val_loss: 0.6120 - val_accuracy: 0.7782\n"
     ]
    }
   ],
   "source": [
    "model_3_history = model_3.fit(train_sentences,\n",
    "                              train_labels,\n",
    "                              epochs=5,\n",
    "                              validation_data=(val_sentences,val_labels),\n",
    "                              callbacks=[create_tensorboard_callback(dir_name=SAVE_DIR,\n",
    "                                        experiment_name=\"model_3_GRU\")])"
   ]
  },
  {
   "cell_type": "code",
   "execution_count": 69,
   "id": "0525da1b",
   "metadata": {},
   "outputs": [
    {
     "name": "stdout",
     "output_type": "stream",
     "text": [
      "24/24 [==============================] - 0s 3ms/step\n"
     ]
    }
   ],
   "source": [
    "# Make som prediction with our GRU model\n",
    "model_3_pred_probs = model_3.predict(val_sentences)"
   ]
  },
  {
   "cell_type": "code",
   "execution_count": 70,
   "id": "59c4eec3",
   "metadata": {},
   "outputs": [],
   "source": [
    "model_3_preds = tf.squeeze(tf.round(model_3_pred_probs))"
   ]
  },
  {
   "cell_type": "code",
   "execution_count": 71,
   "id": "dd6ecf73",
   "metadata": {},
   "outputs": [
    {
     "data": {
      "text/plain": [
       "{'accuracy': 77.82152230971128,\n",
       " 'precision': 0.7804499491198106,\n",
       " 'recall': 0.7782152230971129,\n",
       " 'f1': 0.7760126933653841}"
      ]
     },
     "execution_count": 71,
     "metadata": {},
     "output_type": "execute_result"
    }
   ],
   "source": [
    "model_3_results = calculate_results(val_labels, model_3_preds)\n",
    "model_3_results"
   ]
  },
  {
   "cell_type": "code",
   "execution_count": 72,
   "id": "3fe67d09",
   "metadata": {},
   "outputs": [
    {
     "data": {
      "text/plain": [
       "array([ True,  True,  True,  True])"
      ]
     },
     "execution_count": 72,
     "metadata": {},
     "output_type": "execute_result"
    }
   ],
   "source": [
    "# comparing model 1 with model 2\n",
    "np.array(list(model_1_results.values())) > np.array(list(model_3_results.values()))  "
   ]
  },
  {
   "cell_type": "markdown",
   "id": "cec2bf59",
   "metadata": {},
   "source": [
    "# Mode 4 :  Bidirectional RNN\n",
    "\n"
   ]
  },
  {
   "cell_type": "code",
   "execution_count": 73,
   "id": "3445cc8d",
   "metadata": {},
   "outputs": [
    {
     "name": "stdout",
     "output_type": "stream",
     "text": [
      "WARNING:tensorflow:Layer lstm_1 will not use cuDNN kernels since it doesn't meet the criteria. It will use a generic GPU kernel as fallback when running on GPU.\n",
      "WARNING:tensorflow:Layer lstm_1 will not use cuDNN kernels since it doesn't meet the criteria. It will use a generic GPU kernel as fallback when running on GPU.\n",
      "WARNING:tensorflow:Layer lstm_1 will not use cuDNN kernels since it doesn't meet the criteria. It will use a generic GPU kernel as fallback when running on GPU.\n"
     ]
    }
   ],
   "source": [
    "# create the model\n",
    "inputs = tf.keras.layers.Input(shape=(1,), dtype=tf.string)\n",
    "x = text_vectorizer(inputs)\n",
    "x = embedding(x)\n",
    "x = tf.keras.layers.Bidirectional(tf.keras.layers.LSTM(64, activation=\"relu\"))(x)\n",
    "# x = tf.keras.layers.AveragePooling1D()(x)\n",
    "outputs = tf.keras.layers.Dense(1, activation=\"sigmoid\")(x)\n",
    "model_4 = tf.keras.Model(inputs, outputs, name=\"model_4_Bidirectional_layer\")"
   ]
  },
  {
   "cell_type": "code",
   "execution_count": 74,
   "id": "83c6bff1",
   "metadata": {},
   "outputs": [
    {
     "name": "stdout",
     "output_type": "stream",
     "text": [
      "Model: \"model_4_Bidirectional_layer\"\n",
      "_________________________________________________________________\n",
      " Layer (type)                Output Shape              Param #   \n",
      "=================================================================\n",
      " input_4 (InputLayer)        [(None, 1)]               0         \n",
      "                                                                 \n",
      " text_vectorization_1 (TextV  (None, 15)               0         \n",
      " ectorization)                                                   \n",
      "                                                                 \n",
      " embedding (Embedding)       (None, 15, 128)           1280000   \n",
      "                                                                 \n",
      " bidirectional (Bidirectiona  (None, 128)              98816     \n",
      " l)                                                              \n",
      "                                                                 \n",
      " dense_3 (Dense)             (None, 1)                 129       \n",
      "                                                                 \n",
      "=================================================================\n",
      "Total params: 1,378,945\n",
      "Trainable params: 1,378,945\n",
      "Non-trainable params: 0\n",
      "_________________________________________________________________\n"
     ]
    }
   ],
   "source": [
    "model_4.summary()"
   ]
  },
  {
   "cell_type": "code",
   "execution_count": 75,
   "id": "c614561d",
   "metadata": {},
   "outputs": [
    {
     "name": "stdout",
     "output_type": "stream",
     "text": [
      "24/24 [==============================] - 1s 11ms/step\n"
     ]
    }
   ],
   "source": [
    "model_4_predict_prob = tf.squeeze(model_4.predict(val_sentences))\n",
    "model_4_preds = tf.round(model_4_predict_prob)"
   ]
  },
  {
   "cell_type": "code",
   "execution_count": 76,
   "id": "b25eb8db",
   "metadata": {},
   "outputs": [
    {
     "data": {
      "text/plain": [
       "{'accuracy': 28.21522309711286,\n",
       " 'precision': 0.28573041411174227,\n",
       " 'recall': 0.2821522309711286,\n",
       " 'f1': 0.2808821854759865}"
      ]
     },
     "execution_count": 76,
     "metadata": {},
     "output_type": "execute_result"
    }
   ],
   "source": [
    "model_4_results = calculate_results(val_labels, model_4_preds)\n",
    "model_4_results"
   ]
  },
  {
   "cell_type": "markdown",
   "id": "02a0ef3d",
   "metadata": {},
   "source": [
    "# Model 4 : Bidirectional RNN\n",
    "\n",
    "Normal RNN's go from left to right (just like you'd read an English sentence), however, bidirectional RNN goes from right to left as well as left to right.\n",
    "\n"
   ]
  },
  {
   "cell_type": "code",
   "execution_count": 77,
   "id": "36dd2e38",
   "metadata": {},
   "outputs": [
    {
     "name": "stdout",
     "output_type": "stream",
     "text": [
      "(None, 128)\n"
     ]
    }
   ],
   "source": [
    "# Build a bidirectional RNN in TensorFlow \n",
    "# create the model\n",
    "inputs = tf.keras.layers.Input(shape=(1,), dtype=tf.string)\n",
    "x = text_vectorizer(inputs)\n",
    "x = embedding(x)\n",
    "x = tf.keras.layers.Bidirectional(tf.keras.layers.LSTM(64, return_sequences=True))(x)\n",
    "x = tf.keras.layers.Bidirectional(tf.keras.layers.GRU(64))(x)\n",
    "print(x.shape) # nb_units * 2 comme c'est bidirectional\n",
    "\n",
    "outputs = tf.keras.layers.Dense(1, activation=\"sigmoid\")(x)\n",
    "model_4 = tf.keras.Model(inputs, outputs, name=\"model_4_Bidirectional_layer\")"
   ]
  },
  {
   "cell_type": "code",
   "execution_count": 78,
   "id": "d4cf9997",
   "metadata": {},
   "outputs": [
    {
     "name": "stdout",
     "output_type": "stream",
     "text": [
      "Model: \"model_4_Bidirectional_layer\"\n",
      "_________________________________________________________________\n",
      " Layer (type)                Output Shape              Param #   \n",
      "=================================================================\n",
      " input_5 (InputLayer)        [(None, 1)]               0         \n",
      "                                                                 \n",
      " text_vectorization_1 (TextV  (None, 15)               0         \n",
      " ectorization)                                                   \n",
      "                                                                 \n",
      " embedding (Embedding)       (None, 15, 128)           1280000   \n",
      "                                                                 \n",
      " bidirectional_1 (Bidirectio  (None, 15, 128)          98816     \n",
      " nal)                                                            \n",
      "                                                                 \n",
      " bidirectional_2 (Bidirectio  (None, 128)              74496     \n",
      " nal)                                                            \n",
      "                                                                 \n",
      " dense_4 (Dense)             (None, 1)                 129       \n",
      "                                                                 \n",
      "=================================================================\n",
      "Total params: 1,453,441\n",
      "Trainable params: 1,453,441\n",
      "Non-trainable params: 0\n",
      "_________________________________________________________________\n"
     ]
    }
   ],
   "source": [
    " # Get a summary \n",
    "model_4.summary()"
   ]
  },
  {
   "cell_type": "code",
   "execution_count": 79,
   "id": "2b777645",
   "metadata": {},
   "outputs": [],
   "source": [
    "# Compile the model\n",
    "model_4.compile(loss=tf.keras.losses.BinaryCrossentropy(),\n",
    "               optimizer=tf.keras.optimizers.Adam(),\n",
    "               metrics=[\"accuracy\"])"
   ]
  },
  {
   "cell_type": "code",
   "execution_count": 80,
   "id": "84114288",
   "metadata": {},
   "outputs": [
    {
     "name": "stdout",
     "output_type": "stream",
     "text": [
      "Saving TensorBoard log files to: model_logs/Bidirectionalmod/20230116-222239\n",
      "Epoch 1/5\n",
      "215/215 [==============================] - 10s 23ms/step - loss: 0.1210 - accuracy: 0.9612 - val_loss: 0.7434 - val_accuracy: 0.7730\n",
      "Epoch 2/5\n",
      "215/215 [==============================] - 4s 18ms/step - loss: 0.0789 - accuracy: 0.9704 - val_loss: 0.8741 - val_accuracy: 0.7835\n",
      "Epoch 3/5\n",
      "215/215 [==============================] - 4s 17ms/step - loss: 0.0662 - accuracy: 0.9736 - val_loss: 0.9137 - val_accuracy: 0.7717\n",
      "Epoch 4/5\n",
      "215/215 [==============================] - 4s 17ms/step - loss: 0.0594 - accuracy: 0.9750 - val_loss: 0.8923 - val_accuracy: 0.7782\n",
      "Epoch 5/5\n",
      "215/215 [==============================] - 4s 16ms/step - loss: 0.0514 - accuracy: 0.9799 - val_loss: 1.2683 - val_accuracy: 0.7717\n"
     ]
    }
   ],
   "source": [
    "history_model_4 = model_4.fit(train_sentences,\n",
    "                             train_labels,\n",
    "                             epochs=5,\n",
    "                             validation_data=(val_sentences, val_labels),\n",
    "                             callbacks=[create_tensorboard_callback(dir_name=SAVE_DIR,\n",
    "                                                                    experiment_name=\"Bidirectionalmod\")])"
   ]
  },
  {
   "cell_type": "code",
   "execution_count": 81,
   "id": "7808cffe",
   "metadata": {},
   "outputs": [
    {
     "name": "stdout",
     "output_type": "stream",
     "text": [
      "24/24 [==============================] - 1s 6ms/step\n"
     ]
    }
   ],
   "source": [
    "# Make prediction with our bidirectional model\n",
    "model_4_predict_prob = tf.squeeze(model_4.predict(val_sentences))\n",
    "# Convert pred probs to labels \n",
    "model_4_preds = tf.round(model_4_predict_prob)"
   ]
  },
  {
   "cell_type": "code",
   "execution_count": 82,
   "id": "b3239c2a",
   "metadata": {},
   "outputs": [
    {
     "data": {
      "text/plain": [
       "{'accuracy': 77.16535433070865,\n",
       " 'precision': 0.7722289521502119,\n",
       " 'recall': 0.7716535433070866,\n",
       " 'f1': 0.7701831305177762}"
      ]
     },
     "execution_count": 82,
     "metadata": {},
     "output_type": "execute_result"
    }
   ],
   "source": [
    "# Convert pred probs to labels \n",
    "model_4_results = calculate_results(val_labels, model_4_preds)\n",
    "model_4_results"
   ]
  },
  {
   "cell_type": "markdown",
   "id": "b77f2dd4",
   "metadata": {},
   "source": [
    "## Convolution Neural Networks for Text (and other types of sequences)\n",
    "\n",
    "We've used CNNs for images but images are typically 2D (geight x width)... however, our text data is 1D.\n",
    "\n",
    "Previously we've Conv2D for our image data but now we're going to use Conv1D.\n",
    "\n",
    "The typical structure of a Conv1D model for sequences (in our case, text):\n",
    "\n",
    "Inputs (text) -> Tokenization -> Embedding -> Layer(s) (typicallyConv1D + Pooling layer) -> Pooling -> Outputs (class probabilities) "
   ]
  },
  {
   "cell_type": "markdown",
   "id": "2e151725",
   "metadata": {},
   "source": [
    "## Model 5 : Conv1D\n",
    "\n",
    "For different explanations of parameters see:\n",
    "* https://poloclub.github.io/cnn-explainer/\n",
    "* Difference between \"same\" and \"valid\" padding:https://stackoverflow.com/questions/37674306/what-is-the-difference-between-same-and-valid-padding-in-tf-nn-max-pool-of-t#:~:text=To%20sum%20up%2C%20'valid',same'%20padding%20means%20using%20padding."
   ]
  },
  {
   "cell_type": "code",
   "execution_count": 83,
   "id": "af1d6f90",
   "metadata": {},
   "outputs": [],
   "source": [
    "# embedding_test = embedding(text_vectorizer([\"c est test de phrase\"]))\n",
    "# conv_1d = tf.keras.layers.Conv1D(filters=32,\n",
    "#                                  kernel_size=5 , \n",
    "#                                  activation=\"relu\",\n",
    "#                                  padding=\"valid\")\n",
    "# conv_1d_output = conv_1d(embedding_test) # pass test embedding through conv1d layer\n",
    "# max_pool = tf.keras.layers.GlobalAvgPool1D()\n",
    "# max_pool_output = max_pool(conv_1d_output) # equivalent to \"get the most important feature\" or \"get the feature with the highest value\"\n",
    "\n",
    "# embedding_test.shape, conv_1d_output.shape, max_pool_output.shape\n",
    "# # embedding_test\n",
    "# # conv_1d_output\n",
    "# # max_pool_output"
   ]
  },
  {
   "cell_type": "code",
   "execution_count": 84,
   "id": "f5e1afdd",
   "metadata": {},
   "outputs": [],
   "source": [
    "# Test out our embedding layer, Conv1D layer and max pooling\n",
    "inputs = tf.keras.layers.Input(shape=(1), dtype=tf.string)\n",
    "x = text_vectorizer(inputs)\n",
    "x = embedding(x)\n",
    "x = tf.keras.layers.Conv1D(filters=64,\n",
    "                           kernel_size=5 , \n",
    "                           activation=\"relu\",\n",
    "                           strides=1,\n",
    "                           padding=\"valid\")(x)\n",
    "x = tf.keras.layers.GlobalAvgPool1D()(x)\n",
    "\n",
    "outputs = tf.keras.layers.Dense(1, activation=\"sigmoid\")(x)\n",
    "model_5 = tf.keras.Model(inputs, outputs, name=\"model_5_Conv1d\")"
   ]
  },
  {
   "cell_type": "code",
   "execution_count": 85,
   "id": "a29bf3a4",
   "metadata": {},
   "outputs": [
    {
     "name": "stdout",
     "output_type": "stream",
     "text": [
      "Model: \"model_5_Conv1d\"\n",
      "_________________________________________________________________\n",
      " Layer (type)                Output Shape              Param #   \n",
      "=================================================================\n",
      " input_6 (InputLayer)        [(None, 1)]               0         \n",
      "                                                                 \n",
      " text_vectorization_1 (TextV  (None, 15)               0         \n",
      " ectorization)                                                   \n",
      "                                                                 \n",
      " embedding (Embedding)       (None, 15, 128)           1280000   \n",
      "                                                                 \n",
      " conv1d (Conv1D)             (None, 11, 64)            41024     \n",
      "                                                                 \n",
      " global_average_pooling1d_1   (None, 64)               0         \n",
      " (GlobalAveragePooling1D)                                        \n",
      "                                                                 \n",
      " dense_5 (Dense)             (None, 1)                 65        \n",
      "                                                                 \n",
      "=================================================================\n",
      "Total params: 1,321,089\n",
      "Trainable params: 1,321,089\n",
      "Non-trainable params: 0\n",
      "_________________________________________________________________\n"
     ]
    }
   ],
   "source": [
    "model_5.compile(loss=tf.keras.losses.BinaryCrossentropy(),\n",
    "                optimizer=tf.keras.optimizers.Adam(),\n",
    "                metrics=[\"accuracy\"])\n",
    "# Get a summary of our Conv1D model\n",
    "model_5.summary()"
   ]
  },
  {
   "cell_type": "code",
   "execution_count": 86,
   "id": "de9c55d7",
   "metadata": {},
   "outputs": [
    {
     "name": "stdout",
     "output_type": "stream",
     "text": [
      "Saving TensorBoard log files to: model_logs/model_5_Conv1d/20230116-222305\n",
      "Epoch 1/5\n",
      "215/215 [==============================] - 6s 8ms/step - loss: 0.1685 - accuracy: 0.9350 - val_loss: 0.7964 - val_accuracy: 0.7612\n",
      "Epoch 2/5\n",
      "215/215 [==============================] - 1s 7ms/step - loss: 0.1007 - accuracy: 0.9577 - val_loss: 0.8963 - val_accuracy: 0.7585\n",
      "Epoch 3/5\n",
      "215/215 [==============================] - 1s 6ms/step - loss: 0.0807 - accuracy: 0.9680 - val_loss: 1.0285 - val_accuracy: 0.7507\n",
      "Epoch 4/5\n",
      "215/215 [==============================] - 1s 6ms/step - loss: 0.0682 - accuracy: 0.9708 - val_loss: 1.1343 - val_accuracy: 0.7598\n",
      "Epoch 5/5\n",
      "215/215 [==============================] - 1s 6ms/step - loss: 0.0606 - accuracy: 0.9731 - val_loss: 1.2970 - val_accuracy: 0.7612\n"
     ]
    },
    {
     "data": {
      "text/plain": [
       "<keras.callbacks.History at 0x1aca8043dc0>"
      ]
     },
     "execution_count": 86,
     "metadata": {},
     "output_type": "execute_result"
    }
   ],
   "source": [
    "model_5.fit(train_sentences,\n",
    "            train_labels,\n",
    "            epochs=5,\n",
    "            validation_data=(val_sentences, val_labels),\n",
    "            callbacks=[create_tensorboard_callback(dir_name=SAVE_DIR,\n",
    "                                                 experiment_name=\"model_5_Conv1d\")])"
   ]
  },
  {
   "cell_type": "code",
   "execution_count": 87,
   "id": "4aa6f041",
   "metadata": {},
   "outputs": [
    {
     "name": "stdout",
     "output_type": "stream",
     "text": [
      "24/24 [==============================] - 0s 2ms/step\n"
     ]
    }
   ],
   "source": [
    "model_5_pred_probs = model_5.predict(val_sentences)\n",
    "model_5_pred_probs\n",
    "# convert model_5_pred_probs to labels 0 or 1\n",
    "model_5_preds = tf.squeeze(tf.round(model_5_pred_probs))\n",
    "# model_5_preds"
   ]
  },
  {
   "cell_type": "code",
   "execution_count": 88,
   "id": "47be0631",
   "metadata": {},
   "outputs": [
    {
     "data": {
      "text/plain": [
       "{'accuracy': 76.11548556430446,\n",
       " 'precision': 0.7622953452640989,\n",
       " 'recall': 0.7611548556430446,\n",
       " 'f1': 0.7591215732608759}"
      ]
     },
     "execution_count": 88,
     "metadata": {},
     "output_type": "execute_result"
    }
   ],
   "source": [
    "model_5_results = calculate_results(val_labels, model_5_preds)\n",
    "model_5_results"
   ]
  },
  {
   "cell_type": "code",
   "execution_count": 89,
   "id": "0947a399",
   "metadata": {},
   "outputs": [
    {
     "data": {
      "text/plain": [
       "array([False, False, False, False])"
      ]
     },
     "execution_count": 89,
     "metadata": {},
     "output_type": "execute_result"
    }
   ],
   "source": [
    "# Check witch the best \n",
    "np.array(list(model_5_results.values())) > np.array(list(baseline_results.values()))"
   ]
  },
  {
   "cell_type": "markdown",
   "id": "99e27470",
   "metadata": {},
   "source": [
    "# Model 6: TensorFlow Hub Pretrained Sentence Encoder\n",
    "\n",
    "Now we've built a few of our own models, let's try and use transfer learning for NLP, specifically using TensorFlow Hub's Universal Sentence Encoder : https://tfhub.dev/google/universal-sentence-encoder/4\n",
    "\n",
    "https://colab.research.google.com/drive/1tjnmiNUxxR090bVcze1jD_J4svhPPy_W#scrollTo=XC37Wot1Fw74"
   ]
  },
  {
   "cell_type": "code",
   "execution_count": 90,
   "id": "08b1374e",
   "metadata": {},
   "outputs": [
    {
     "data": {
      "text/plain": [
       "{'accuracy': 81.62729658792651,\n",
       " 'precision': 0.8162262387656088,\n",
       " 'recall': 0.8162729658792651,\n",
       " 'f1': 0.8157886543602123}"
      ]
     },
     "execution_count": 90,
     "metadata": {},
     "output_type": "execute_result"
    }
   ],
   "source": [
    "model_6_results = {'accuracy': 81.62729658792651,\n",
    "                   'precision': 0.8162262387656088,\n",
    "                   'recall': 0.8162729658792651,\n",
    "                   'f1': 0.8157886543602123}\n",
    "model_6_results"
   ]
  },
  {
   "cell_type": "code",
   "execution_count": null,
   "id": "e88eeb28",
   "metadata": {},
   "outputs": [],
   "source": []
  },
  {
   "cell_type": "markdown",
   "id": "24ccf076",
   "metadata": {},
   "source": [
    "# Model 7: TF Hub Pretrained USE but with 10% of training data \n",
    "\n",
    "Transfer learning really helps when you don't have a large dataset.\n",
    "\n",
    "To see how our modeel performs on a smaller dataset, let's replicate `model _6` except we'll train it on 10% of data. "
   ]
  },
  {
   "cell_type": "code",
   "execution_count": 91,
   "id": "c1cf6f70",
   "metadata": {},
   "outputs": [
    {
     "data": {
      "text/plain": [
       "{'accuracy': 77.55905511811024,\n",
       " 'precision': 0.7765218346613636,\n",
       " 'recall': 0.7755905511811023,\n",
       " 'f1': 0.7739772681043204}"
      ]
     },
     "execution_count": 91,
     "metadata": {},
     "output_type": "execute_result"
    }
   ],
   "source": [
    "model_7_results = {'accuracy': 77.55905511811024,\n",
    "                   'precision': 0.7765218346613636,\n",
    "                   'recall': 0.7755905511811023,\n",
    "                   'f1': 0.7739772681043204}\n",
    "model_7_results"
   ]
  },
  {
   "cell_type": "markdown",
   "id": "472a7e8e",
   "metadata": {},
   "source": [
    "    **Note : ** Be *very* careful when creating training/val/test split that you d'ont leak data across the datasets, otherwise your model evaluation metrics will be wrong. If something looks too good to be true (a model trained on 10% of data outperforming the same model trained on 100% of data) trust your gut and go back through to find where the error may lie.  "
   ]
  },
  {
   "cell_type": "markdown",
   "id": "8d68f9fd",
   "metadata": {},
   "source": [
    "## Comparing the performance of each of our models"
   ]
  },
  {
   "cell_type": "code",
   "execution_count": 92,
   "id": "ab5ab391",
   "metadata": {
    "scrolled": true
   },
   "outputs": [],
   "source": [
    "# Combine model results into a DataFrame\n",
    "all_model_results = pd.DataFrame({\"baseline\": baseline_results,\n",
    "                                \"1_simple_dense\": model_1_results,\n",
    "                                \"2_lstm\":model_2_results,\n",
    "                                \"3_gru\":model_3_results,\n",
    "                                \"4_bidirectional\": model_4_results,\n",
    "                                \"5_conv1d\": model_5_results,\n",
    "                                \"6_tf_hub_use_encoder\": model_6_results,\n",
    "                                \"7_tf_hub_use_encoder_10_percent\": model_7_results})\n",
    "all_model_results = all_model_results.transpose()\n",
    "# Reduce the accuracy to the same scale as other metrics\n",
    "all_model_results[\"accuracy\"] = all_model_results[\"accuracy\"]/100"
   ]
  },
  {
   "cell_type": "code",
   "execution_count": 93,
   "id": "1f916c63",
   "metadata": {},
   "outputs": [
    {
     "data": {
      "text/html": [
       "<div>\n",
       "<style scoped>\n",
       "    .dataframe tbody tr th:only-of-type {\n",
       "        vertical-align: middle;\n",
       "    }\n",
       "\n",
       "    .dataframe tbody tr th {\n",
       "        vertical-align: top;\n",
       "    }\n",
       "\n",
       "    .dataframe thead th {\n",
       "        text-align: right;\n",
       "    }\n",
       "</style>\n",
       "<table border=\"1\" class=\"dataframe\">\n",
       "  <thead>\n",
       "    <tr style=\"text-align: right;\">\n",
       "      <th></th>\n",
       "      <th>accuracy</th>\n",
       "      <th>precision</th>\n",
       "      <th>recall</th>\n",
       "      <th>f1</th>\n",
       "    </tr>\n",
       "  </thead>\n",
       "  <tbody>\n",
       "    <tr>\n",
       "      <th>baseline</th>\n",
       "      <td>0.792651</td>\n",
       "      <td>0.811139</td>\n",
       "      <td>0.792651</td>\n",
       "      <td>0.786219</td>\n",
       "    </tr>\n",
       "    <tr>\n",
       "      <th>1_simple_dense</th>\n",
       "      <td>0.783465</td>\n",
       "      <td>0.788004</td>\n",
       "      <td>0.783465</td>\n",
       "      <td>0.780493</td>\n",
       "    </tr>\n",
       "    <tr>\n",
       "      <th>2_lstm</th>\n",
       "      <td>0.767717</td>\n",
       "      <td>0.767991</td>\n",
       "      <td>0.767717</td>\n",
       "      <td>0.766387</td>\n",
       "    </tr>\n",
       "    <tr>\n",
       "      <th>3_gru</th>\n",
       "      <td>0.778215</td>\n",
       "      <td>0.780450</td>\n",
       "      <td>0.778215</td>\n",
       "      <td>0.776013</td>\n",
       "    </tr>\n",
       "    <tr>\n",
       "      <th>4_bidirectional</th>\n",
       "      <td>0.771654</td>\n",
       "      <td>0.772229</td>\n",
       "      <td>0.771654</td>\n",
       "      <td>0.770183</td>\n",
       "    </tr>\n",
       "    <tr>\n",
       "      <th>5_conv1d</th>\n",
       "      <td>0.761155</td>\n",
       "      <td>0.762295</td>\n",
       "      <td>0.761155</td>\n",
       "      <td>0.759122</td>\n",
       "    </tr>\n",
       "    <tr>\n",
       "      <th>6_tf_hub_use_encoder</th>\n",
       "      <td>0.816273</td>\n",
       "      <td>0.816226</td>\n",
       "      <td>0.816273</td>\n",
       "      <td>0.815789</td>\n",
       "    </tr>\n",
       "    <tr>\n",
       "      <th>7_tf_hub_use_encoder_10_percent</th>\n",
       "      <td>0.775591</td>\n",
       "      <td>0.776522</td>\n",
       "      <td>0.775591</td>\n",
       "      <td>0.773977</td>\n",
       "    </tr>\n",
       "  </tbody>\n",
       "</table>\n",
       "</div>"
      ],
      "text/plain": [
       "                                 accuracy  precision    recall        f1\n",
       "baseline                         0.792651   0.811139  0.792651  0.786219\n",
       "1_simple_dense                   0.783465   0.788004  0.783465  0.780493\n",
       "2_lstm                           0.767717   0.767991  0.767717  0.766387\n",
       "3_gru                            0.778215   0.780450  0.778215  0.776013\n",
       "4_bidirectional                  0.771654   0.772229  0.771654  0.770183\n",
       "5_conv1d                         0.761155   0.762295  0.761155  0.759122\n",
       "6_tf_hub_use_encoder             0.816273   0.816226  0.816273  0.815789\n",
       "7_tf_hub_use_encoder_10_percent  0.775591   0.776522  0.775591  0.773977"
      ]
     },
     "execution_count": 93,
     "metadata": {},
     "output_type": "execute_result"
    }
   ],
   "source": [
    "all_model_results"
   ]
  },
  {
   "cell_type": "code",
   "execution_count": 94,
   "id": "f99ba25f",
   "metadata": {},
   "outputs": [
    {
     "data": {
      "image/png": "[encoded data removed]",
      "text/plain": [
       "<Figure size 1000x700 with 1 Axes>"
      ]
     },
     "metadata": {},
     "output_type": "display_data"
    }
   ],
   "source": [
    "# Plot and compare all of the model results\n",
    "all_model_results.plot(kind=\"bar\", figsize=(10,7)).legend(bbox_to_anchor=(1.0,1.0));"
   ]
  },
  {
   "cell_type": "code",
   "execution_count": 95,
   "id": "5d8844b7",
   "metadata": {},
   "outputs": [
    {
     "data": {
      "image/png": "[encoded data removed]",
      "text/plain": [
       "<Figure size 1000x700 with 1 Axes>"
      ]
     },
     "metadata": {},
     "output_type": "display_data"
    }
   ],
   "source": [
    "# Sort model results by f1-score\n",
    "all_model_results.sort_values(\"f1\", ascending=False)[\"f1\"].plot(kind=\"bar\", figsize=(10, 7));"
   ]
  },
  {
   "cell_type": "markdown",
   "id": "632f0438",
   "metadata": {},
   "source": [
    "### Uploading our modeel training logs to TensorBoard.dev\n",
    "we can further inspect our model's performance using tensorboard.dev : https://tensorboard.dev/"
   ]
  },
  {
   "cell_type": "code",
   "execution_count": 96,
   "id": "5f860b8d",
   "metadata": {},
   "outputs": [],
   "source": [
    "# !tensorboard dev upload --logdir ./model_logs/"
   ]
  },
  {
   "cell_type": "code",
   "execution_count": 97,
   "id": "99ac32c9",
   "metadata": {},
   "outputs": [],
   "source": [
    "# !pip install tensorboard==2.11\n",
    "#!pip uninstall flatbuffers\n",
    "#!pip uninstall -y tensorboard"
   ]
  },
  {
   "cell_type": "code",
   "execution_count": 99,
   "id": "74342cce",
   "metadata": {},
   "outputs": [],
   "source": [
    "# !tensorboard dev upload --logdir ./model_logs/ \\\n",
    "#  --name \"7 models experiment\" \\\n",
    "#  --description \"Training results from http://localhost:8888/notebooks/01workspace/TensorFlow%20Developer%20Certificate%20ZTM/partie_2/TensorFlow_Developer_Certificate_ZTM/08_introduction_to_nlp_in_tensorflow/08_introduction_to_nlp_in_tf.ipynb\" \\\n",
    "#  --one_shot"
   ]
  },
  {
   "cell_type": "markdown",
   "id": "11b2dfd2",
   "metadata": {},
   "source": [
    "### Load model already saved "
   ]
  },
  {
   "cell_type": "code",
   "execution_count": 101,
   "id": "c28375f1",
   "metadata": {},
   "outputs": [],
   "source": [
    "model_6 = tf.keras.models.load_model(\"save_models/model_6.H5\")"
   ]
  },
  {
   "cell_type": "code",
   "execution_count": 107,
   "id": "3266283b",
   "metadata": {},
   "outputs": [],
   "source": [
    "model_4 = tf.keras.models.load_model(\"save_models/model_4.H5\")"
   ]
  },
  {
   "cell_type": "code",
   "execution_count": 104,
   "id": "797ce995",
   "metadata": {},
   "outputs": [
    {
     "name": "stdout",
     "output_type": "stream",
     "text": [
      "Model: \"model_6_USE\"\n",
      "_________________________________________________________________\n",
      " Layer (type)                Output Shape              Param #   \n",
      "=================================================================\n",
      " USE (KerasLayer)            (None, 512)               256797824 \n",
      "                                                                 \n",
      " dense_6 (Dense)             (None, 64)                32832     \n",
      "                                                                 \n",
      " output_layer (Dense)        (None, 1)                 65        \n",
      "                                                                 \n",
      "=================================================================\n",
      "Total params: 256,830,721\n",
      "Trainable params: 32,897\n",
      "Non-trainable params: 256,797,824\n",
      "_________________________________________________________________\n"
     ]
    }
   ],
   "source": [
    "model_6.summary()"
   ]
  },
  {
   "cell_type": "code",
   "execution_count": 109,
   "id": "7894bb17",
   "metadata": {},
   "outputs": [
    {
     "ename": "UnknownError",
     "evalue": "Graph execution error:\n\nJIT compilation failed.\n\t [[{{node EncoderDNN/EmbeddingLookup/EmbeddingLookupUnique/embedding_lookup/mod}}]] [Op:__inference_test_function_86051]",
     "output_type": "error",
     "traceback": [
      "\u001b[1;31m---------------------------------------------------------------------------\u001b[0m",
      "\u001b[1;31mUnknownError\u001b[0m                              Traceback (most recent call last)",
      "Input \u001b[1;32mIn [109]\u001b[0m, in \u001b[0;36m<cell line: 1>\u001b[1;34m()\u001b[0m\n\u001b[1;32m----> 1\u001b[0m \u001b[43mmodel_6\u001b[49m\u001b[38;5;241;43m.\u001b[39;49m\u001b[43mevaluate\u001b[49m\u001b[43m(\u001b[49m\u001b[43mval_sentences\u001b[49m\u001b[43m,\u001b[49m\u001b[43mval_labels\u001b[49m\u001b[43m)\u001b[49m\n",
      "File \u001b[1;32m~\\anaconda3\\envs\\tensorflow_gpu\\lib\\site-packages\\keras\\utils\\traceback_utils.py:67\u001b[0m, in \u001b[0;36mfilter_traceback.<locals>.error_handler\u001b[1;34m(*args, **kwargs)\u001b[0m\n\u001b[0;32m     65\u001b[0m \u001b[38;5;28;01mexcept\u001b[39;00m \u001b[38;5;167;01mException\u001b[39;00m \u001b[38;5;28;01mas\u001b[39;00m e:  \u001b[38;5;66;03m# pylint: disable=broad-except\u001b[39;00m\n\u001b[0;32m     66\u001b[0m   filtered_tb \u001b[38;5;241m=\u001b[39m _process_traceback_frames(e\u001b[38;5;241m.\u001b[39m__traceback__)\n\u001b[1;32m---> 67\u001b[0m   \u001b[38;5;28;01mraise\u001b[39;00m e\u001b[38;5;241m.\u001b[39mwith_traceback(filtered_tb) \u001b[38;5;28;01mfrom\u001b[39;00m \u001b[38;5;28mNone\u001b[39m\n\u001b[0;32m     68\u001b[0m \u001b[38;5;28;01mfinally\u001b[39;00m:\n\u001b[0;32m     69\u001b[0m   \u001b[38;5;28;01mdel\u001b[39;00m filtered_tb\n",
      "File \u001b[1;32m~\\AppData\\Roaming\\Python\\Python39\\site-packages\\tensorflow\\python\\eager\\execute.py:54\u001b[0m, in \u001b[0;36mquick_execute\u001b[1;34m(op_name, num_outputs, inputs, attrs, ctx, name)\u001b[0m\n\u001b[0;32m     52\u001b[0m \u001b[38;5;28;01mtry\u001b[39;00m:\n\u001b[0;32m     53\u001b[0m   ctx\u001b[38;5;241m.\u001b[39mensure_initialized()\n\u001b[1;32m---> 54\u001b[0m   tensors \u001b[38;5;241m=\u001b[39m pywrap_tfe\u001b[38;5;241m.\u001b[39mTFE_Py_Execute(ctx\u001b[38;5;241m.\u001b[39m_handle, device_name, op_name,\n\u001b[0;32m     55\u001b[0m                                       inputs, attrs, num_outputs)\n\u001b[0;32m     56\u001b[0m \u001b[38;5;28;01mexcept\u001b[39;00m core\u001b[38;5;241m.\u001b[39m_NotOkStatusException \u001b[38;5;28;01mas\u001b[39;00m e:\n\u001b[0;32m     57\u001b[0m   \u001b[38;5;28;01mif\u001b[39;00m name \u001b[38;5;129;01mis\u001b[39;00m \u001b[38;5;129;01mnot\u001b[39;00m \u001b[38;5;28;01mNone\u001b[39;00m:\n",
      "\u001b[1;31mUnknownError\u001b[0m: Graph execution error:\n\nJIT compilation failed.\n\t [[{{node EncoderDNN/EmbeddingLookup/EmbeddingLookupUnique/embedding_lookup/mod}}]] [Op:__inference_test_function_86051]"
     ]
    }
   ],
   "source": [
    "model_4.evaluate(val_sentences,val_labels)"
   ]
  },
  {
   "cell_type": "code",
   "execution_count": null,
   "id": "d52d9138",
   "metadata": {},
   "outputs": [],
   "source": []
  }
 ],
 "metadata": {
  "kernelspec": {
   "display_name": "Python 3 (ipykernel)",
   "language": "python",
   "name": "python3"
  },
  "language_info": {
   "codemirror_mode": {
    "name": "ipython",
    "version": 3
   },
   "file_extension": ".py",
   "mimetype": "text/x-python",
   "name": "python",
   "nbconvert_exporter": "python",
   "pygments_lexer": "ipython3",
   "version": "3.9.12"
  }
 },
 "nbformat": 4,
 "nbformat_minor": 5
}
