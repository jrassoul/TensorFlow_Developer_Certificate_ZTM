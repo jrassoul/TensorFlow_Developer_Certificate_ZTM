{
  "cells": [
    {
      "cell_type": "markdown",
      "metadata": {
        "id": "rUvkCiyW5bnR"
      },
      "source": [
        "# Milestone Poject 2 : skimLit\n",
        "\n",
        "The purpose of this notebook is to build an NLP model to make reading medical abstracts easier.\n",
        "\n",
        "The paper we're replicating (the source of the dataset that we'll be using) is available here : https://arxiv.org/abs/1710.06071\n",
        "        \n",
        "And reading through the paper above, we see that the model architecture that they use to achieve their best results is available : https://arxiv.org/abs/1612.05251\n",
        "        \n",
        "*Resource :* If you want to find the ground truth for this notebook(with lots of diagrams and text annotation) see the Github: https://github.com/mrdbourke/tensorflow-deep-learning/blob/main/09_SkimLit_nlp_milestone_project_2.ipynb\n",
        "\n"
      ]
    },
    {
      "cell_type": "markdown",
      "metadata": {
        "id": "ktnWL-Y96YaR"
      },
      "source": [
        "## Import dependencies"
      ]
    },
    {
      "cell_type": "code",
      "execution_count": 46,
      "metadata": {
        "id": "quyWCgDbdTMD"
      },
      "outputs": [],
      "source": [
        "# from google.colab import drive\n",
        "# drive.mount('/content/drive')"
      ]
    },
    {
      "cell_type": "code",
      "execution_count": 10,
      "metadata": {
        "id": "Huinz6QO5YsF"
      },
      "outputs": [],
      "source": [
        "# Import dependencies\n",
        "import sys\n",
        "import pandas as pd\n",
        "import matplotlib.pyplot as plt\n",
        "import numpy as np\n",
        "import tensorflow as tf\n",
        "# sys.path.append(r\"C:\\Users/wjub/01workspace/TensorFlow Developer Certificate ZTM\")\n",
        "sys.path.append(r\"/content/drive/MyDrive/TensorFlow_Developer_Certificate_ZTM/\")\n",
        "\n",
        "import helper_functions\n",
        "from helper_functions import calculate_results\n",
        "import random"
      ]
    },
    {
      "cell_type": "code",
      "execution_count": 10,
      "metadata": {
        "id": "gJAyIoHr8eaw"
      },
      "outputs": [],
      "source": []
    },
    {
      "cell_type": "code",
      "execution_count": 11,
      "metadata": {
        "colab": {
          "base_uri": "https://localhost:8080/"
        },
        "id": "rR3rMGRe5rS-",
        "outputId": "0511f1a3-ea89-42e1-e38b-478c75041a05"
      },
      "outputs": [
        {
          "output_type": "stream",
          "name": "stdout",
          "text": [
            "Mon Feb 27 21:14:09 2023       \n",
            "+-----------------------------------------------------------------------------+\n",
            "| NVIDIA-SMI 525.85.12    Driver Version: 525.85.12    CUDA Version: 12.0     |\n",
            "|-------------------------------+----------------------+----------------------+\n",
            "| GPU  Name        Persistence-M| Bus-Id        Disp.A | Volatile Uncorr. ECC |\n",
            "| Fan  Temp  Perf  Pwr:Usage/Cap|         Memory-Usage | GPU-Util  Compute M. |\n",
            "|                               |                      |               MIG M. |\n",
            "|===============================+======================+======================|\n",
            "|   0  NVIDIA A100-SXM...  Off  | 00000000:00:04.0 Off |                    0 |\n",
            "| N/A   34C    P0    48W / 400W |   1169MiB / 40960MiB |      0%      Default |\n",
            "|                               |                      |             Disabled |\n",
            "+-------------------------------+----------------------+----------------------+\n",
            "                                                                               \n",
            "+-----------------------------------------------------------------------------+\n",
            "| Processes:                                                                  |\n",
            "|  GPU   GI   CI        PID   Type   Process name                  GPU Memory |\n",
            "|        ID   ID                                                   Usage      |\n",
            "|=============================================================================|\n",
            "+-----------------------------------------------------------------------------+\n"
          ]
        }
      ],
      "source": [
        "# Confirm acces to GPU\n",
        "!nvidia-smi"
      ]
    },
    {
      "cell_type": "markdown",
      "metadata": {
        "id": "iCLEnoWv5uu4"
      },
      "source": [
        "## Get data and process data\n",
        "\n",
        "Since we'll be replicating the paper above (PubMed 200K RCT)? let's download the dataset they used,\n",
        "We can do so from the authors GitHub : "
      ]
    },
    {
      "cell_type": "code",
      "execution_count": 12,
      "metadata": {
        "colab": {
          "base_uri": "https://localhost:8080/"
        },
        "id": "guziDrsI5sst",
        "outputId": "7cb1de1f-e1d4-43f2-e1b0-ef4c6c94fff7"
      },
      "outputs": [
        {
          "output_type": "stream",
          "name": "stdout",
          "text": [
            "fatal: destination path 'pubmed-rct' already exists and is not an empty directory.\n"
          ]
        }
      ],
      "source": [
        "!git clone https://github.com/Franck-Dernoncourt/pubmed-rct\n",
        "# Check what files are in the PubMed_20K dataset\n"
      ]
    },
    {
      "cell_type": "code",
      "execution_count": 13,
      "metadata": {
        "colab": {
          "base_uri": "https://localhost:8080/"
        },
        "id": "vTazp-225wtt",
        "outputId": "267e709b-d37b-4d49-bcff-06fef6060d8c"
      },
      "outputs": [
        {
          "output_type": "stream",
          "name": "stdout",
          "text": [
            "\u001b[0m\u001b[01;34mPubMed_200k_RCT\u001b[0m/\n",
            "\u001b[01;34mPubMed_200k_RCT_numbers_replaced_with_at_sign\u001b[0m/\n",
            "\u001b[01;34mPubMed_20k_RCT\u001b[0m/\n",
            "\u001b[01;34mPubMed_20k_RCT_numbers_replaced_with_at_sign\u001b[0m/\n",
            "README.md\n"
          ]
        }
      ],
      "source": [
        "ls pubmed-rct"
      ]
    },
    {
      "cell_type": "code",
      "execution_count": 14,
      "metadata": {
        "colab": {
          "base_uri": "https://localhost:8080/"
        },
        "id": "eCB3YsJl5xmN",
        "outputId": "e3096043-a59a-449f-c209-4400a79362e7"
      },
      "outputs": [
        {
          "output_type": "stream",
          "name": "stdout",
          "text": [
            "dev.txt  test.txt  train.txt\n"
          ]
        }
      ],
      "source": [
        "ls pubmed-rct/PubMed_20k_RCT"
      ]
    },
    {
      "cell_type": "code",
      "execution_count": 15,
      "metadata": {
        "id": "jyIwh_pR509b"
      },
      "outputs": [],
      "source": [
        "# Start our experiments using the 20k dataset with numbers replaced by \"#\" sign\n",
        "data_dir = \"pubmed-rct/PubMed_20k_RCT_numbers_replaced_with_at_sign/\""
      ]
    },
    {
      "cell_type": "code",
      "execution_count": 16,
      "metadata": {
        "colab": {
          "base_uri": "https://localhost:8080/"
        },
        "id": "WMitT4s0506m",
        "outputId": "fb346cdc-b2b6-452a-ca6e-b0d1440a794f"
      },
      "outputs": [
        {
          "output_type": "execute_result",
          "data": {
            "text/plain": [
              "['pubmed-rct/PubMed_20k_RCT_numbers_replaced_with_at_sign/test.txt',\n",
              " 'pubmed-rct/PubMed_20k_RCT_numbers_replaced_with_at_sign/train.txt',\n",
              " 'pubmed-rct/PubMed_20k_RCT_numbers_replaced_with_at_sign/dev.txt']"
            ]
          },
          "metadata": {},
          "execution_count": 16
        }
      ],
      "source": [
        "# Check all of the filenames in the target directory\n",
        "import os\n",
        "filenames= [data_dir + filename for filename in os.listdir(data_dir)]\n",
        "filenames"
      ]
    },
    {
      "cell_type": "markdown",
      "metadata": {
        "id": "0BJlNq8a6IaL"
      },
      "source": [
        "### Preprocess data \n",
        "\n",
        "Now we've got some text data, it's time to become one with it.\n",
        "\n",
        "And one of the best ways to become one with data is to...\n",
        "\n",
        "> Visualize, visualize, vizualize\n",
        "\n",
        "So with that in mind, let's write a function to read in all of the lines of a target text file."
      ]
    },
    {
      "cell_type": "code",
      "execution_count": 17,
      "metadata": {
        "id": "yvmBmYif504Q"
      },
      "outputs": [],
      "source": [
        "# Create function to read lines of a document\n",
        "def get_lines(filename):\n",
        "    \"\"\"\n",
        "    Reads filename (a text filename) and returns the line of text as list.\n",
        "    \n",
        "    Args:\n",
        "    \tfilename: a string containing the target filepath.\n",
        "    Returns:\n",
        "    \tA list of strings with one string with one string per line from the target filename.  \n",
        "    \"\"\"\n",
        "    with open(filename, \"r\") as f:\n",
        "        return f.readlines()"
      ]
    },
    {
      "cell_type": "code",
      "execution_count": 18,
      "metadata": {
        "colab": {
          "base_uri": "https://localhost:8080/"
        },
        "id": "XR4eXd0g501x",
        "outputId": "e8e190cb-e4e6-4ad7-9a32-f24e71bf952c"
      },
      "outputs": [
        {
          "output_type": "execute_result",
          "data": {
            "text/plain": [
              "['###24293578\\n',\n",
              " 'OBJECTIVE\\tTo investigate the efficacy of @ weeks of daily low-dose oral prednisolone in improving pain , mobility , and systemic low-grade inflammation in the short term and whether the effect would be sustained at @ weeks in older adults with moderate to severe knee osteoarthritis ( OA ) .\\n',\n",
              " 'METHODS\\tA total of @ patients with primary knee OA were randomized @:@ ; @ received @ mg/day of prednisolone and @ received placebo for @ weeks .\\n',\n",
              " 'METHODS\\tOutcome measures included pain reduction and improvement in function scores and systemic inflammation markers .\\n',\n",
              " 'METHODS\\tPain was assessed using the visual analog pain scale ( @-@ mm ) .\\n',\n",
              " 'METHODS\\tSecondary outcome measures included the Western Ontario and McMaster Universities Osteoarthritis Index scores , patient global assessment ( PGA ) of the severity of knee OA , and @-min walk distance ( @MWD ) .\\n',\n",
              " 'METHODS\\tSerum levels of interleukin @ ( IL-@ ) , IL-@ , tumor necrosis factor ( TNF ) - , and high-sensitivity C-reactive protein ( hsCRP ) were measured .\\n',\n",
              " 'RESULTS\\tThere was a clinically relevant reduction in the intervention group compared to the placebo group for knee pain , physical function , PGA , and @MWD at @ weeks .\\n',\n",
              " 'RESULTS\\tThe mean difference between treatment arms ( @ % CI ) was @ ( @-@ @ ) , p < @ ; @ ( @-@ @ ) , p < @ ; @ ( @-@ @ ) , p < @ ; and @ ( @-@ @ ) , p < @ , respectively .\\n',\n",
              " 'RESULTS\\tFurther , there was a clinically relevant reduction in the serum levels of IL-@ , IL-@ , TNF - , and hsCRP at @ weeks in the intervention group when compared to the placebo group .\\n',\n",
              " 'RESULTS\\tThese differences remained significant at @ weeks .\\n',\n",
              " 'RESULTS\\tThe Outcome Measures in Rheumatology Clinical Trials-Osteoarthritis Research Society International responder rate was @ % in the intervention group and @ % in the placebo group ( p < @ ) .\\n',\n",
              " 'CONCLUSIONS\\tLow-dose oral prednisolone had both a short-term and a longer sustained effect resulting in less knee pain , better physical function , and attenuation of systemic inflammation in older patients with knee OA ( ClinicalTrials.gov identifier NCT@ ) .\\n',\n",
              " '\\n',\n",
              " '###24854809\\n',\n",
              " 'BACKGROUND\\tEmotional eating is associated with overeating and the development of obesity .\\n',\n",
              " 'BACKGROUND\\tYet , empirical evidence for individual ( trait ) differences in emotional eating and cognitive mechanisms that contribute to eating during sad mood remain equivocal .\\n',\n",
              " 'OBJECTIVE\\tThe aim of this study was to test if attention bias for food moderates the effect of self-reported emotional eating during sad mood ( vs neutral mood ) on actual food intake .\\n',\n",
              " 'OBJECTIVE\\tIt was expected that emotional eating is predictive of elevated attention for food and higher food intake after an experimentally induced sad mood and that attentional maintenance on food predicts food intake during a sad versus a neutral mood .\\n',\n",
              " 'METHODS\\tParticipants ( N = @ ) were randomly assigned to one of the two experimental mood induction conditions ( sad/neutral ) .\\n',\n",
              " 'METHODS\\tAttentional biases for high caloric foods were measured by eye tracking during a visual probe task with pictorial food and neutral stimuli .\\n',\n",
              " 'METHODS\\tSelf-reported emotional eating was assessed with the Dutch Eating Behavior Questionnaire ( DEBQ ) and ad libitum food intake was tested by a disguised food offer .\\n',\n",
              " 'RESULTS\\tHierarchical multivariate regression modeling showed that self-reported emotional eating did not account for changes in attention allocation for food or food intake in either condition .\\n',\n",
              " 'RESULTS\\tYet , attention maintenance on food cues was significantly related to increased intake specifically in the neutral condition , but not in the sad mood condition .\\n',\n",
              " 'CONCLUSIONS\\tThe current findings show that self-reported emotional eating ( based on the DEBQ ) might not validly predict who overeats when sad , at least not in a laboratory setting with healthy women .\\n',\n",
              " 'CONCLUSIONS\\tResults further suggest that attention maintenance on food relates to eating motivation when in a neutral affective state , and might therefore be a cognitive mechanism contributing to increased food intake in general , but maybe not during sad mood .\\n',\n",
              " '\\n',\n",
              " '###25165090\\n',\n",
              " 'BACKGROUND\\tAlthough working smoke alarms halve deaths in residential fires , many households do not keep alarms operational .\\n',\n",
              " 'BACKGROUND\\tWe tested whether theory-based education increases alarm operability .\\n']"
            ]
          },
          "metadata": {},
          "execution_count": 18
        }
      ],
      "source": [
        "# Let's read in the training lines\n",
        "train_lines = get_lines(data_dir+\"train.txt\")\n",
        "train_lines[:30]"
      ]
    },
    {
      "cell_type": "code",
      "execution_count": 19,
      "metadata": {
        "colab": {
          "base_uri": "https://localhost:8080/"
        },
        "id": "yZ6kb8tq50zO",
        "outputId": "31cf65c0-cc6f-4bd6-b5db-2ceab858ee13"
      },
      "outputs": [
        {
          "output_type": "execute_result",
          "data": {
            "text/plain": [
              "210040"
            ]
          },
          "metadata": {},
          "execution_count": 19
        }
      ],
      "source": [
        "len(train_lines)"
      ]
    },
    {
      "cell_type": "code",
      "execution_count": 20,
      "metadata": {
        "id": "KsQ-vKvr50wv"
      },
      "outputs": [],
      "source": [
        "from helper_functions import preprocess_text_with_line_numbers"
      ]
    },
    {
      "cell_type": "code",
      "execution_count": 20,
      "metadata": {
        "id": "YaXmYMny-_dJ"
      },
      "outputs": [],
      "source": []
    },
    {
      "cell_type": "code",
      "execution_count": 21,
      "metadata": {
        "colab": {
          "base_uri": "https://localhost:8080/"
        },
        "id": "lzOmnM4H50uo",
        "outputId": "3fd8c064-bdb9-4c84-80c4-f3c02f0382bf"
      },
      "outputs": [
        {
          "output_type": "stream",
          "name": "stdout",
          "text": [
            "CPU times: user 2 µs, sys: 1 µs, total: 3 µs\n",
            "Wall time: 6.2 µs\n",
            "180040 30212 30135\n"
          ]
        }
      ],
      "source": [
        "# Get data from file and preprocess it \n",
        "%time\n",
        "train_samples = preprocess_text_with_line_numbers(data_dir+\"train.txt\")\n",
        "val_samples = preprocess_text_with_line_numbers(data_dir+\"dev.txt\") # dev is another name for validation dataset\n",
        "test_samples = preprocess_text_with_line_numbers(data_dir+\"test.txt\")\n",
        "print(len(train_samples), len(val_samples), len(test_samples))"
      ]
    },
    {
      "cell_type": "markdown",
      "metadata": {
        "id": "Pjq2FuPg7lXu"
      },
      "source": [
        "Now that our data is the frormat of a list of ditionaries, how about we turn it into dataframe to futher visualize it?"
      ]
    },
    {
      "cell_type": "code",
      "execution_count": 22,
      "metadata": {
        "colab": {
          "base_uri": "https://localhost:8080/",
          "height": 424
        },
        "id": "DMLtYxZc50ry",
        "outputId": "b5274367-81d7-49f5-e2fa-00488ef16a6c"
      },
      "outputs": [
        {
          "output_type": "execute_result",
          "data": {
            "text/plain": [
              "             target                                               text  \\\n",
              "0         OBJECTIVE  to investigate the efficacy of @ weeks of dail...   \n",
              "1           METHODS  a total of @ patients with primary knee oa wer...   \n",
              "2           METHODS  outcome measures included pain reduction and i...   \n",
              "3           METHODS  pain was assessed using the visual analog pain...   \n",
              "4           METHODS  secondary outcome measures included the wester...   \n",
              "...             ...                                                ...   \n",
              "180035      RESULTS  for the absolute change in percent atheroma vo...   \n",
              "180036      RESULTS  for pav , a significantly greater percentage o...   \n",
              "180037      RESULTS  both strategies had acceptable side effect pro...   \n",
              "180038  CONCLUSIONS  compared with standard statin monotherapy , th...   \n",
              "180039  CONCLUSIONS  ( plaque regression with cholesterol absorptio...   \n",
              "\n",
              "        line_number  total_lines  \n",
              "0                 0           11  \n",
              "1                 1           11  \n",
              "2                 2           11  \n",
              "3                 3           11  \n",
              "4                 4           11  \n",
              "...             ...          ...  \n",
              "180035            7           11  \n",
              "180036            8           11  \n",
              "180037            9           11  \n",
              "180038           10           11  \n",
              "180039           11           11  \n",
              "\n",
              "[180040 rows x 4 columns]"
            ],
            "text/html": [
              "\n",
              "  <div id=\"df-5e641d45-793a-4248-aef4-e00416ae19de\">\n",
              "    <div class=\"colab-df-container\">\n",
              "      <div>\n",
              "<style scoped>\n",
              "    .dataframe tbody tr th:only-of-type {\n",
              "        vertical-align: middle;\n",
              "    }\n",
              "\n",
              "    .dataframe tbody tr th {\n",
              "        vertical-align: top;\n",
              "    }\n",
              "\n",
              "    .dataframe thead th {\n",
              "        text-align: right;\n",
              "    }\n",
              "</style>\n",
              "<table border=\"1\" class=\"dataframe\">\n",
              "  <thead>\n",
              "    <tr style=\"text-align: right;\">\n",
              "      <th></th>\n",
              "      <th>target</th>\n",
              "      <th>text</th>\n",
              "      <th>line_number</th>\n",
              "      <th>total_lines</th>\n",
              "    </tr>\n",
              "  </thead>\n",
              "  <tbody>\n",
              "    <tr>\n",
              "      <th>0</th>\n",
              "      <td>OBJECTIVE</td>\n",
              "      <td>to investigate the efficacy of @ weeks of dail...</td>\n",
              "      <td>0</td>\n",
              "      <td>11</td>\n",
              "    </tr>\n",
              "    <tr>\n",
              "      <th>1</th>\n",
              "      <td>METHODS</td>\n",
              "      <td>a total of @ patients with primary knee oa wer...</td>\n",
              "      <td>1</td>\n",
              "      <td>11</td>\n",
              "    </tr>\n",
              "    <tr>\n",
              "      <th>2</th>\n",
              "      <td>METHODS</td>\n",
              "      <td>outcome measures included pain reduction and i...</td>\n",
              "      <td>2</td>\n",
              "      <td>11</td>\n",
              "    </tr>\n",
              "    <tr>\n",
              "      <th>3</th>\n",
              "      <td>METHODS</td>\n",
              "      <td>pain was assessed using the visual analog pain...</td>\n",
              "      <td>3</td>\n",
              "      <td>11</td>\n",
              "    </tr>\n",
              "    <tr>\n",
              "      <th>4</th>\n",
              "      <td>METHODS</td>\n",
              "      <td>secondary outcome measures included the wester...</td>\n",
              "      <td>4</td>\n",
              "      <td>11</td>\n",
              "    </tr>\n",
              "    <tr>\n",
              "      <th>...</th>\n",
              "      <td>...</td>\n",
              "      <td>...</td>\n",
              "      <td>...</td>\n",
              "      <td>...</td>\n",
              "    </tr>\n",
              "    <tr>\n",
              "      <th>180035</th>\n",
              "      <td>RESULTS</td>\n",
              "      <td>for the absolute change in percent atheroma vo...</td>\n",
              "      <td>7</td>\n",
              "      <td>11</td>\n",
              "    </tr>\n",
              "    <tr>\n",
              "      <th>180036</th>\n",
              "      <td>RESULTS</td>\n",
              "      <td>for pav , a significantly greater percentage o...</td>\n",
              "      <td>8</td>\n",
              "      <td>11</td>\n",
              "    </tr>\n",
              "    <tr>\n",
              "      <th>180037</th>\n",
              "      <td>RESULTS</td>\n",
              "      <td>both strategies had acceptable side effect pro...</td>\n",
              "      <td>9</td>\n",
              "      <td>11</td>\n",
              "    </tr>\n",
              "    <tr>\n",
              "      <th>180038</th>\n",
              "      <td>CONCLUSIONS</td>\n",
              "      <td>compared with standard statin monotherapy , th...</td>\n",
              "      <td>10</td>\n",
              "      <td>11</td>\n",
              "    </tr>\n",
              "    <tr>\n",
              "      <th>180039</th>\n",
              "      <td>CONCLUSIONS</td>\n",
              "      <td>( plaque regression with cholesterol absorptio...</td>\n",
              "      <td>11</td>\n",
              "      <td>11</td>\n",
              "    </tr>\n",
              "  </tbody>\n",
              "</table>\n",
              "<p>180040 rows × 4 columns</p>\n",
              "</div>\n",
              "      <button class=\"colab-df-convert\" onclick=\"convertToInteractive('df-5e641d45-793a-4248-aef4-e00416ae19de')\"\n",
              "              title=\"Convert this dataframe to an interactive table.\"\n",
              "              style=\"display:none;\">\n",
              "        \n",
              "  <svg xmlns=\"http://www.w3.org/2000/svg\" height=\"24px\"viewBox=\"0 0 24 24\"\n",
              "       width=\"24px\">\n",
              "    <path d=\"M0 0h24v24H0V0z\" fill=\"none\"/>\n",
              "    <path d=\"M18.56 5.44l.94 2.06.94-2.06 2.06-.94-2.06-.94-.94-2.06-.94 2.06-2.06.94zm-11 1L8.5 8.5l.94-2.06 2.06-.94-2.06-.94L8.5 2.5l-.94 2.06-2.06.94zm10 10l.94 2.06.94-2.06 2.06-.94-2.06-.94-.94-2.06-.94 2.06-2.06.94z\"/><path d=\"M17.41 7.96l-1.37-1.37c-.4-.4-.92-.59-1.43-.59-.52 0-1.04.2-1.43.59L10.3 9.45l-7.72 7.72c-.78.78-.78 2.05 0 2.83L4 21.41c.39.39.9.59 1.41.59.51 0 1.02-.2 1.41-.59l7.78-7.78 2.81-2.81c.8-.78.8-2.07 0-2.86zM5.41 20L4 18.59l7.72-7.72 1.47 1.35L5.41 20z\"/>\n",
              "  </svg>\n",
              "      </button>\n",
              "      \n",
              "  <style>\n",
              "    .colab-df-container {\n",
              "      display:flex;\n",
              "      flex-wrap:wrap;\n",
              "      gap: 12px;\n",
              "    }\n",
              "\n",
              "    .colab-df-convert {\n",
              "      background-color: #E8F0FE;\n",
              "      border: none;\n",
              "      border-radius: 50%;\n",
              "      cursor: pointer;\n",
              "      display: none;\n",
              "      fill: #1967D2;\n",
              "      height: 32px;\n",
              "      padding: 0 0 0 0;\n",
              "      width: 32px;\n",
              "    }\n",
              "\n",
              "    .colab-df-convert:hover {\n",
              "      background-color: #E2EBFA;\n",
              "      box-shadow: 0px 1px 2px rgba(60, 64, 67, 0.3), 0px 1px 3px 1px rgba(60, 64, 67, 0.15);\n",
              "      fill: #174EA6;\n",
              "    }\n",
              "\n",
              "    [theme=dark] .colab-df-convert {\n",
              "      background-color: #3B4455;\n",
              "      fill: #D2E3FC;\n",
              "    }\n",
              "\n",
              "    [theme=dark] .colab-df-convert:hover {\n",
              "      background-color: #434B5C;\n",
              "      box-shadow: 0px 1px 3px 1px rgba(0, 0, 0, 0.15);\n",
              "      filter: drop-shadow(0px 1px 2px rgba(0, 0, 0, 0.3));\n",
              "      fill: #FFFFFF;\n",
              "    }\n",
              "  </style>\n",
              "\n",
              "      <script>\n",
              "        const buttonEl =\n",
              "          document.querySelector('#df-5e641d45-793a-4248-aef4-e00416ae19de button.colab-df-convert');\n",
              "        buttonEl.style.display =\n",
              "          google.colab.kernel.accessAllowed ? 'block' : 'none';\n",
              "\n",
              "        async function convertToInteractive(key) {\n",
              "          const element = document.querySelector('#df-5e641d45-793a-4248-aef4-e00416ae19de');\n",
              "          const dataTable =\n",
              "            await google.colab.kernel.invokeFunction('convertToInteractive',\n",
              "                                                     [key], {});\n",
              "          if (!dataTable) return;\n",
              "\n",
              "          const docLinkHtml = 'Like what you see? Visit the ' +\n",
              "            '<a target=\"_blank\" href=https://colab.research.google.com/notebooks/data_table.ipynb>data table notebook</a>'\n",
              "            + ' to learn more about interactive tables.';\n",
              "          element.innerHTML = '';\n",
              "          dataTable['output_type'] = 'display_data';\n",
              "          await google.colab.output.renderOutput(dataTable, element);\n",
              "          const docLink = document.createElement('div');\n",
              "          docLink.innerHTML = docLinkHtml;\n",
              "          element.appendChild(docLink);\n",
              "        }\n",
              "      </script>\n",
              "    </div>\n",
              "  </div>\n",
              "  "
            ]
          },
          "metadata": {},
          "execution_count": 22
        }
      ],
      "source": [
        "# check the first abstract_line\n",
        "import pandas as pd\n",
        "train_df = pd.DataFrame(train_samples)\n",
        "val_df = pd.DataFrame(train_samples)\n",
        "test_df = pd.DataFrame(train_samples)\n",
        "#train_df[\"target\"] = numeric_labels\n",
        "train_df"
      ]
    },
    {
      "cell_type": "code",
      "execution_count": 23,
      "metadata": {
        "colab": {
          "base_uri": "https://localhost:8080/"
        },
        "id": "vi6muObV50pO",
        "outputId": "e034a34c-f59c-44de-db9b-315105813994"
      },
      "outputs": [
        {
          "output_type": "execute_result",
          "data": {
            "text/plain": [
              "METHODS        59353\n",
              "RESULTS        57953\n",
              "CONCLUSIONS    27168\n",
              "BACKGROUND     21727\n",
              "OBJECTIVE      13839\n",
              "Name: target, dtype: int64"
            ]
          },
          "metadata": {},
          "execution_count": 23
        }
      ],
      "source": [
        "# Distribution of labels in training data\n",
        "train_df.target.value_counts()"
      ]
    },
    {
      "cell_type": "code",
      "execution_count": 24,
      "metadata": {
        "colab": {
          "base_uri": "https://localhost:8080/",
          "height": 284
        },
        "id": "ScSjxH0e50m5",
        "outputId": "0fa35006-ae94-45e5-e2dc-b5ff38cd10f5"
      },
      "outputs": [
        {
          "output_type": "execute_result",
          "data": {
            "text/plain": [
              "<AxesSubplot:ylabel='Frequency'>"
            ]
          },
          "metadata": {},
          "execution_count": 24
        },
        {
          "output_type": "display_data",
          "data": {
            "text/plain": [
              "<Figure size 432x288 with 1 Axes>"
            ],
            "image/png": "[encoded data removed]"
          },
          "metadata": {
            "needs_background": "light"
          }
        }
      ],
      "source": [
        "# let's check length of different lines\n",
        "train_df.total_lines.plot.hist()"
      ]
    },
    {
      "cell_type": "markdown",
      "metadata": {
        "id": "IlHBzkfQ7sQt"
      },
      "source": [
        "### Get lists of senteces"
      ]
    },
    {
      "cell_type": "code",
      "execution_count": 25,
      "metadata": {
        "colab": {
          "base_uri": "https://localhost:8080/"
        },
        "id": "A7nD5ZKl7ol-",
        "outputId": "44dcb84c-8c02-4cb2-b820-dd9fc35e8143"
      },
      "outputs": [
        {
          "output_type": "execute_result",
          "data": {
            "text/plain": [
              "(180040, 180040, 180040)"
            ]
          },
          "metadata": {},
          "execution_count": 25
        }
      ],
      "source": [
        "# Convert abstract text lines into lists\n",
        "train_sentences = train_df[\"text\"].tolist()\n",
        "val_sentences = val_df[\"text\"].tolist()\n",
        "test_sentences = test_df[\"text\"].tolist()\n",
        "len(train_sentences), len(val_sentences), len(test_sentences)\n"
      ]
    },
    {
      "cell_type": "code",
      "execution_count": 19,
      "metadata": {
        "colab": {
          "base_uri": "https://localhost:8080/"
        },
        "id": "rNW1oG9-50ko",
        "outputId": "58bc3f82-f41e-4dca-fbbf-eccec806138d"
      },
      "outputs": [
        {
          "output_type": "execute_result",
          "data": {
            "text/plain": [
              "['to investigate the efficacy of @ weeks of daily low-dose oral prednisolone in improving pain , mobility , and systemic low-grade inflammation in the short term and whether the effect would be sustained at @ weeks in older adults with moderate to severe knee osteoarthritis ( oa ) .',\n",
              " 'a total of @ patients with primary knee oa were randomized @:@ ; @ received @ mg/day of prednisolone and @ received placebo for @ weeks .',\n",
              " 'outcome measures included pain reduction and improvement in function scores and systemic inflammation markers .',\n",
              " 'pain was assessed using the visual analog pain scale ( @-@ mm ) .',\n",
              " 'secondary outcome measures included the western ontario and mcmaster universities osteoarthritis index scores , patient global assessment ( pga ) of the severity of knee oa , and @-min walk distance ( @mwd ) .',\n",
              " 'serum levels of interleukin @ ( il-@ ) , il-@ , tumor necrosis factor ( tnf ) - , and high-sensitivity c-reactive protein ( hscrp ) were measured .',\n",
              " 'there was a clinically relevant reduction in the intervention group compared to the placebo group for knee pain , physical function , pga , and @mwd at @ weeks .',\n",
              " 'the mean difference between treatment arms ( @ % ci ) was @ ( @-@ @ ) , p < @ ; @ ( @-@ @ ) , p < @ ; @ ( @-@ @ ) , p < @ ; and @ ( @-@ @ ) , p < @ , respectively .',\n",
              " 'further , there was a clinically relevant reduction in the serum levels of il-@ , il-@ , tnf - , and hscrp at @ weeks in the intervention group when compared to the placebo group .',\n",
              " 'these differences remained significant at @ weeks .']"
            ]
          },
          "metadata": {},
          "execution_count": 19
        }
      ],
      "source": [
        "# View the 10 lines o ftraining sentences\n",
        "train_sentences[:10]"
      ]
    },
    {
      "cell_type": "markdown",
      "metadata": {
        "id": "ZE-626A47wIe"
      },
      "source": [
        "### Make numeric labels (ML models require numeric labels)"
      ]
    },
    {
      "cell_type": "code",
      "execution_count": 20,
      "metadata": {
        "colab": {
          "base_uri": "https://localhost:8080/"
        },
        "id": "Toa-UNmW7uVO",
        "outputId": "4cdece66-4fe7-4341-a4ed-6157ac15aebf"
      },
      "outputs": [
        {
          "output_type": "execute_result",
          "data": {
            "text/plain": [
              "array([[0., 0., 0., 1., 0.],\n",
              "       [0., 0., 1., 0., 0.],\n",
              "       [0., 0., 1., 0., 0.],\n",
              "       ...,\n",
              "       [0., 0., 0., 0., 1.],\n",
              "       [0., 1., 0., 0., 0.],\n",
              "       [0., 1., 0., 0., 0.]])"
            ]
          },
          "metadata": {},
          "execution_count": 20
        }
      ],
      "source": [
        "from sklearn.preprocessing import OneHotEncoder\n",
        "one_hot_encoder = OneHotEncoder(sparse=False) # we want non-sparse matrix\n",
        "train_labels_one_hot = one_hot_encoder.fit_transform(train_df[\"target\"].to_numpy().reshape(-1,1))\n",
        "val_labels_one_hot = one_hot_encoder.fit_transform(val_df[\"target\"].to_numpy().reshape(-1,1))\n",
        "test_labels_one_hot = one_hot_encoder.fit_transform(test_df[\"target\"].to_numpy().reshape(-1,1))\n",
        "\n",
        "# check what one hot encoded labels look like\n",
        "train_labels_one_hot"
      ]
    },
    {
      "cell_type": "code",
      "execution_count": 21,
      "metadata": {
        "colab": {
          "base_uri": "https://localhost:8080/"
        },
        "id": "dbacq7LC50hw",
        "outputId": "ef07fad4-302d-4ae1-e1dc-fe69c664bc16"
      },
      "outputs": [
        {
          "output_type": "execute_result",
          "data": {
            "text/plain": [
              "<tf.Tensor: shape=(180040, 5), dtype=float64, numpy=\n",
              "array([[0., 0., 0., 1., 0.],\n",
              "       [0., 0., 1., 0., 0.],\n",
              "       [0., 0., 1., 0., 0.],\n",
              "       ...,\n",
              "       [0., 0., 0., 0., 1.],\n",
              "       [0., 1., 0., 0., 0.],\n",
              "       [0., 1., 0., 0., 0.]])>"
            ]
          },
          "metadata": {},
          "execution_count": 21
        }
      ],
      "source": [
        "import tensorflow as tf\n",
        "tf.constant(train_labels_one_hot)"
      ]
    },
    {
      "cell_type": "markdown",
      "metadata": {
        "id": "mJj5PH_q72h2"
      },
      "source": [
        "###  Label encode labels"
      ]
    },
    {
      "cell_type": "code",
      "execution_count": 22,
      "metadata": {
        "colab": {
          "base_uri": "https://localhost:8080/"
        },
        "id": "4xog0Kwc50e-",
        "outputId": "6a96a611-7364-43c2-d798-42da674ddecf"
      },
      "outputs": [
        {
          "output_type": "execute_result",
          "data": {
            "text/plain": [
              "array([3, 2, 2, ..., 4, 1, 1])"
            ]
          },
          "metadata": {},
          "execution_count": 22
        }
      ],
      "source": [
        "# Extract labels (\"target\" columns) and encode them into integers\n",
        "from sklearn.preprocessing import LabelEncoder\n",
        "label_encoder = LabelEncoder()\n",
        "train_labels_encoded = label_encoder.fit_transform(train_df[\"target\"])\n",
        "val_labels_encoded = label_encoder.fit_transform(val_df[\"target\"])\n",
        "test_labels_encoded = label_encoder.fit_transform(test_df[\"target\"])\n",
        "\n",
        "# Check what training labels look like\n",
        "train_labels_encoded"
      ]
    },
    {
      "cell_type": "code",
      "execution_count": 23,
      "metadata": {
        "colab": {
          "base_uri": "https://localhost:8080/"
        },
        "id": "7GqP7go950cZ",
        "outputId": "b63fb938-411e-4efa-9a5e-30dd94455775"
      },
      "outputs": [
        {
          "output_type": "execute_result",
          "data": {
            "text/plain": [
              "(5, array(['BACKGROUND', 'CONCLUSIONS', 'METHODS', 'OBJECTIVE', 'RESULTS'],\n",
              "       dtype=object))"
            ]
          },
          "metadata": {},
          "execution_count": 23
        }
      ],
      "source": [
        "# Get class names and number of classes from LabelEncoder instance\n",
        "num_classes = len(label_encoder.classes_)\n",
        "class_names = label_encoder.classes_\n",
        "num_classes, class_names"
      ]
    },
    {
      "cell_type": "markdown",
      "metadata": {
        "id": "Jnts8EsS77TR"
      },
      "source": [
        "## Starting a series of modelling experiments...\n",
        "\n",
        "As usual, we're going to be trying out a bunch of different models ans seeing which one works best.\n",
        "\n",
        "And as always, we're going to start with a baseline (TF-IDF Multinomial Naive Bayes classifier)."
      ]
    },
    {
      "cell_type": "markdown",
      "metadata": {
        "id": "uDhOxVJC7_BJ"
      },
      "source": [
        "## Model_0 : Getting a baseline"
      ]
    },
    {
      "cell_type": "code",
      "execution_count": 24,
      "metadata": {
        "colab": {
          "base_uri": "https://localhost:8080/"
        },
        "id": "qBzxQ2ZM7870",
        "outputId": "5074efc0-6fbd-4d93-add1-529b49896657"
      },
      "outputs": [
        {
          "output_type": "execute_result",
          "data": {
            "text/plain": [
              "Pipeline(steps=[('tfidf', TfidfVectorizer()), ('clf', MultinomialNB())])"
            ]
          },
          "metadata": {},
          "execution_count": 24
        }
      ],
      "source": [
        "from sklearn.feature_extraction.text import TfidfVectorizer\n",
        "from sklearn.naive_bayes import MultinomialNB\n",
        "from sklearn.pipeline import Pipeline\n",
        "\n",
        "model_0 = Pipeline ([\n",
        "    (\"tfidf\", TfidfVectorizer()),\n",
        "    (\"clf\", MultinomialNB())\n",
        "])\n",
        "# fit the pipeline to the training data\n",
        "model_0.fit(train_sentences, train_labels_encoded)"
      ]
    },
    {
      "cell_type": "code",
      "execution_count": 25,
      "metadata": {
        "colab": {
          "base_uri": "https://localhost:8080/"
        },
        "id": "OK98m7E_784l",
        "outputId": "a716943b-aa8c-4cd3-b539-a59469a8bc07"
      },
      "outputs": [
        {
          "output_type": "stream",
          "name": "stdout",
          "text": [
            "our baseline model achive an accuracy of : 0.7516829593423684\n"
          ]
        }
      ],
      "source": [
        "# Evaluate the model\n",
        "baseline_score = model_0.score(val_sentences,val_labels_encoded)\n",
        "print(f\"our baseline model achive an accuracy of : {baseline_score}\")"
      ]
    },
    {
      "cell_type": "code",
      "execution_count": 26,
      "metadata": {
        "colab": {
          "base_uri": "https://localhost:8080/"
        },
        "id": "Q6l2nVJ2782n",
        "outputId": "1b8263d5-f88f-4e00-94de-d83fd845e0e7"
      },
      "outputs": [
        {
          "output_type": "execute_result",
          "data": {
            "text/plain": [
              "<tf.Tensor: shape=(10,), dtype=int64, numpy=array([1, 2, 4, 2, 2, 4, 4, 4, 4, 4])>"
            ]
          },
          "metadata": {},
          "execution_count": 26
        }
      ],
      "source": [
        "# make prediction\n",
        "baseline_pred_probs = model_0.predict(val_sentences)\n",
        "baseline_preds = tf.squeeze(tf.round(baseline_pred_probs))\n",
        "baseline_preds[:10]"
      ]
    },
    {
      "cell_type": "code",
      "execution_count": 27,
      "metadata": {
        "colab": {
          "base_uri": "https://localhost:8080/"
        },
        "id": "GQ7onaVg78zv",
        "outputId": "13e078a6-17d0-417a-9525-952514853f96"
      },
      "outputs": [
        {
          "output_type": "execute_result",
          "data": {
            "text/plain": [
              "{'accuracy': 75.16829593423684,\n",
              " 'precision': 0.7556121877731266,\n",
              " 'recall': 0.7516829593423684,\n",
              " 'f1': 0.734085177322999}"
            ]
          },
          "metadata": {},
          "execution_count": 27
        }
      ],
      "source": [
        "model_0_results = helper_functions.calculate_results(val_labels_encoded, baseline_preds)\n",
        "model_0_results"
      ]
    },
    {
      "cell_type": "markdown",
      "metadata": {
        "id": "QZgpcmfU8Tmd"
      },
      "source": [
        "## Prepare our data (the text) for deep sequence models\n",
        "\n",
        "Before we start building deeper models, we've got to create vectorization and embedding layers"
      ]
    },
    {
      "cell_type": "code",
      "execution_count": 28,
      "metadata": {
        "colab": {
          "base_uri": "https://localhost:8080/"
        },
        "id": "ZpESMVG58GWR",
        "outputId": "590e67fc-3b74-42b4-a218-e7adfcde29cd"
      },
      "outputs": [
        {
          "output_type": "execute_result",
          "data": {
            "text/plain": [
              "26.338269273494777"
            ]
          },
          "metadata": {},
          "execution_count": 28
        }
      ],
      "source": [
        "# how long is each sentence on average ? \n",
        "sent_lens = [len(sentence.split()) for sentence in train_sentences] # list of length of words\n",
        "avg_sent_len = np.mean(sent_lens)\n",
        "avg_sent_len\n",
        "#avg_sent_len, nb_word_per_sentence/len(train_sentences)"
      ]
    },
    {
      "cell_type": "code",
      "execution_count": 29,
      "metadata": {
        "colab": {
          "base_uri": "https://localhost:8080/",
          "height": 265
        },
        "id": "engVZkgb78x1",
        "outputId": "05986187-5d9f-486d-818a-0a087e49bb0d"
      },
      "outputs": [
        {
          "output_type": "display_data",
          "data": {
            "text/plain": [
              "<Figure size 432x288 with 1 Axes>"
            ],
            "image/png": "[encoded data removed]"
          },
          "metadata": {
            "needs_background": "light"
          }
        }
      ],
      "source": [
        "plt.hist(sent_lens, bins=20);"
      ]
    },
    {
      "cell_type": "code",
      "execution_count": 30,
      "metadata": {
        "colab": {
          "base_uri": "https://localhost:8080/"
        },
        "id": "xpPsddx-78vL",
        "outputId": "be87085a-9617-41bd-a061-aae1c0ad41ca"
      },
      "outputs": [
        {
          "output_type": "execute_result",
          "data": {
            "text/plain": [
              "55"
            ]
          },
          "metadata": {},
          "execution_count": 30
        }
      ],
      "source": [
        "# How long  of sentence lenght covers 95% of examples\n",
        "output_seq_len = int(np.percentile(sent_lens, 95))\n",
        "output_seq_len "
      ]
    },
    {
      "cell_type": "code",
      "execution_count": 31,
      "metadata": {
        "colab": {
          "base_uri": "https://localhost:8080/"
        },
        "id": "_Tb0yLQR78tN",
        "outputId": "0567210c-ed77-46b6-eee9-051964ae8eaa"
      },
      "outputs": [
        {
          "output_type": "execute_result",
          "data": {
            "text/plain": [
              "296"
            ]
          },
          "metadata": {},
          "execution_count": 31
        }
      ],
      "source": [
        "# Maximum sequence length in the training set\n",
        "max(sent_lens)"
      ]
    },
    {
      "cell_type": "markdown",
      "metadata": {
        "id": "zxU1Ljj38Zlf"
      },
      "source": [
        "## Embedding and tokenization\n",
        "We want to make a layer which maps our texts from words to numbers"
      ]
    },
    {
      "cell_type": "code",
      "execution_count": 32,
      "metadata": {
        "id": "xa8-xkcL78qm"
      },
      "outputs": [],
      "source": [
        "# How many words are in our vocab? (taken from table 2 in : https://arxiv.org/pdf/1710.06071.pdf)\n",
        "max_tokens = 68000"
      ]
    },
    {
      "cell_type": "code",
      "execution_count": 33,
      "metadata": {
        "id": "kwsTmbVB78oY"
      },
      "outputs": [],
      "source": [
        "# lets create a text vectorizer use text vectorisation layers of the last video\n",
        "from helper_functions import tokenization, embedding\n",
        "# init the tokenizer function\n",
        "init_tokenizer = tokenization(train_sentences, output_seq_len, max_vocab_length=68000) \n",
        "\n",
        "# Choose a random sentence from the training dataset and tokenize it \n",
        "random_sentence = random.choice(train_sentences)\n",
        "text_vectorizer = init_tokenizer([random_sentence])\n"
      ]
    },
    {
      "cell_type": "code",
      "execution_count": 34,
      "metadata": {
        "colab": {
          "base_uri": "https://localhost:8080/"
        },
        "id": "SDpW9Dqm78ld",
        "outputId": "7a6e58b1-7630-412d-a90e-c7076f0fb471"
      },
      "outputs": [
        {
          "output_type": "stream",
          "name": "stdout",
          "text": [
            "Number of words i vocab:64841\n",
            "\n",
            "Most common words in the vocab:['', '[UNK]', 'the', 'and', 'of']\n",
            "\n",
            "least common words in the vocab:['aainduced', 'aaigroup', 'aachener', 'aachen', 'aaacp']\n",
            "\n"
          ]
        }
      ],
      "source": [
        "# How many words in our training vocabulary\n",
        "rct_20k_text_vocab = init_tokenizer.get_vocabulary()\n",
        "print(f\"Number of words i vocab:{len(rct_20k_text_vocab)}\\n\")\n",
        "print(f\"Most common words in the vocab:{rct_20k_text_vocab[:5]}\\n\")\n",
        "print(f\"least common words in the vocab:{rct_20k_text_vocab[-5:]}\\n\")"
      ]
    },
    {
      "cell_type": "code",
      "execution_count": 35,
      "metadata": {
        "colab": {
          "base_uri": "https://localhost:8080/"
        },
        "id": "nOT8lo7P50TO",
        "outputId": "11128c7f-0057-4336-901b-63ae3b243809"
      },
      "outputs": [
        {
          "output_type": "execute_result",
          "data": {
            "text/plain": [
              "{'name': 'text_vectorization',\n",
              " 'trainable': True,\n",
              " 'dtype': 'string',\n",
              " 'batch_input_shape': (None,),\n",
              " 'max_tokens': 68000,\n",
              " 'standardize': 'lower_and_strip_punctuation',\n",
              " 'split': 'whitespace',\n",
              " 'ngrams': None,\n",
              " 'output_mode': 'int',\n",
              " 'output_sequence_length': 55,\n",
              " 'pad_to_max_tokens': False,\n",
              " 'sparse': False,\n",
              " 'ragged': False,\n",
              " 'vocabulary': None,\n",
              " 'idf_weights': None,\n",
              " 'encoding': 'utf-8'}"
            ]
          },
          "metadata": {},
          "execution_count": 35
        }
      ],
      "source": [
        "init_tokenizer.get_config()"
      ]
    },
    {
      "cell_type": "markdown",
      "metadata": {
        "id": "FplDLmFq8goH"
      },
      "source": [
        "### Create custom text embedding"
      ]
    },
    {
      "cell_type": "markdown",
      "source": [
        "### Embedding with Glove : make_it_like_function"
      ],
      "metadata": {
        "id": "10zmuXVfhY_z"
      }
    },
    {
      "cell_type": "code",
      "source": [
        "# embedding Glove \n",
        "!wget http://nlp.stanford.edu/data/glove.6B.zip\n",
        "!unzip -q glove.6B.zip"
      ],
      "metadata": {
        "colab": {
          "base_uri": "https://localhost:8080/"
        },
        "id": "S7v8-R5heSm8",
        "outputId": "470a02d4-97e6-4eee-a686-1b2f532082dd"
      },
      "execution_count": 36,
      "outputs": [
        {
          "output_type": "stream",
          "name": "stdout",
          "text": [
            "--2023-02-27 21:05:17--  http://nlp.stanford.edu/data/glove.6B.zip\n",
            "Resolving nlp.stanford.edu (nlp.stanford.edu)... 171.64.67.140\n",
            "Connecting to nlp.stanford.edu (nlp.stanford.edu)|171.64.67.140|:80... connected.\n",
            "HTTP request sent, awaiting response... 302 Found\n",
            "Location: https://nlp.stanford.edu/data/glove.6B.zip [following]\n",
            "--2023-02-27 21:05:17--  https://nlp.stanford.edu/data/glove.6B.zip\n",
            "Connecting to nlp.stanford.edu (nlp.stanford.edu)|171.64.67.140|:443... connected.\n",
            "HTTP request sent, awaiting response... 301 Moved Permanently\n",
            "Location: https://downloads.cs.stanford.edu/nlp/data/glove.6B.zip [following]\n",
            "--2023-02-27 21:05:18--  https://downloads.cs.stanford.edu/nlp/data/glove.6B.zip\n",
            "Resolving downloads.cs.stanford.edu (downloads.cs.stanford.edu)... 171.64.64.22\n",
            "Connecting to downloads.cs.stanford.edu (downloads.cs.stanford.edu)|171.64.64.22|:443... connected.\n",
            "HTTP request sent, awaiting response... 200 OK\n",
            "Length: 862182613 (822M) [application/zip]\n",
            "Saving to: ‘glove.6B.zip.2’\n",
            "\n",
            "glove.6B.zip.2      100%[===================>] 822.24M  5.04MB/s    in 2m 43s  \n",
            "\n",
            "2023-02-27 21:08:02 (5.05 MB/s) - ‘glove.6B.zip.2’ saved [862182613/862182613]\n",
            "\n",
            "replace glove.6B.50d.txt? [y]es, [n]o, [A]ll, [N]one, [r]ename: n\n",
            "replace glove.6B.100d.txt? [y]es, [n]o, [A]ll, [N]one, [r]ename: n\n",
            "replace glove.6B.200d.txt? [y]es, [n]o, [A]ll, [N]one, [r]ename: n\n",
            "replace glove.6B.300d.txt? [y]es, [n]o, [A]ll, [N]one, [r]ename: n\n"
          ]
        }
      ]
    },
    {
      "cell_type": "code",
      "source": [
        "\n",
        "word_index = dict(zip(rct_20k_text_vocab, range(len(rct_20k_text_vocab))))\n",
        "\n",
        "path_to_glove_file = \"glove.6B.100d.txt\"\n",
        "\n",
        "embeddings_index = {}\n",
        "with open(path_to_glove_file) as f:\n",
        "    for line in f:\n",
        "        word, coefs = line.split(maxsplit=1)\n",
        "        coefs = np.fromstring(coefs, \"f\", sep=\" \")\n",
        "        embeddings_index[word] = coefs\n",
        "\n",
        "print(\"Found %s word vectors.\" % len(embeddings_index))\n",
        "\n",
        "num_tokens = len(rct_20k_text_vocab) + 2\n",
        "embedding_dim = 100\n",
        "hits = 0\n",
        "misses = 0\n",
        "\n",
        "# Prepare embedding matrix\n",
        "embedding_matrix = np.zeros((num_tokens, embedding_dim))\n",
        "for word, i in word_index.items():\n",
        "    embedding_vector = embeddings_index.get(word)\n",
        "    if embedding_vector is not None:\n",
        "        # Words not found in embedding index will be all-zeros.\n",
        "        # This includes the representation for \"padding\" and \"OOV\"\n",
        "        embedding_matrix[i] = embedding_vector\n",
        "        hits += 1\n",
        "    else:\n",
        "        misses += 1\n",
        "print(\"Converted %d words (%d misses)\" % (hits, misses))\n",
        "\n",
        "from tensorflow.keras.layers import Embedding\n",
        "\n",
        "init_embedding = Embedding(\n",
        "    num_tokens,\n",
        "    embedding_dim,\n",
        "    embeddings_initializer=tf.keras.initializers.Constant(embedding_matrix),\n",
        "    trainable=False,\n",
        ")\n",
        "\n",
        "# Init embedding with glove embedding layer \n",
        "text_embedding = init_embedding(text_vectorizer)\n",
        "text_embedding \n"
      ],
      "metadata": {
        "colab": {
          "base_uri": "https://localhost:8080/"
        },
        "id": "u7oWC_UPe_E9",
        "outputId": "cd421aa9-0472-4204-e77e-188a400b2fea"
      },
      "execution_count": 37,
      "outputs": [
        {
          "output_type": "stream",
          "name": "stdout",
          "text": [
            "Found 400000 word vectors.\n",
            "Converted 29730 words (35111 misses)\n"
          ]
        },
        {
          "output_type": "execute_result",
          "data": {
            "text/plain": [
              "<tf.Tensor: shape=(1, 55, 100), dtype=float32, numpy=\n",
              "array([[[ 0.39342 ,  1.016   ,  0.47467 , ..., -0.69452 ,  0.064015,\n",
              "          0.016477],\n",
              "        [ 0.44355 ,  0.3374  ,  0.68956 , ..., -0.9571  ,  0.45286 ,\n",
              "          0.16091 ],\n",
              "        [-0.1529  , -0.24279 ,  0.89837 , ..., -0.591   ,  1.0039  ,\n",
              "          0.20664 ],\n",
              "        ...,\n",
              "        [ 0.      ,  0.      ,  0.      , ...,  0.      ,  0.      ,\n",
              "          0.      ],\n",
              "        [ 0.      ,  0.      ,  0.      , ...,  0.      ,  0.      ,\n",
              "          0.      ],\n",
              "        [ 0.      ,  0.      ,  0.      , ...,  0.      ,  0.      ,\n",
              "          0.      ]]], dtype=float32)>"
            ]
          },
          "metadata": {},
          "execution_count": 37
        }
      ]
    },
    {
      "cell_type": "code",
      "execution_count": 38,
      "metadata": {
        "colab": {
          "base_uri": "https://localhost:8080/"
        },
        "id": "GivMfkAF8cap",
        "outputId": "9364974e-4d16-46b7-ac56-3fee151ed509"
      },
      "outputs": [
        {
          "output_type": "execute_result",
          "data": {
            "text/plain": [
              "<tf.Tensor: shape=(1, 55, 128), dtype=float32, numpy=\n",
              "array([[[-0.03583677,  0.00689657,  0.02079371, ..., -0.00930589,\n",
              "          0.01535893, -0.04228828],\n",
              "        [ 0.02387359,  0.04312244, -0.02352003, ...,  0.04942748,\n",
              "         -0.02873398, -0.04079298],\n",
              "        [ 0.04808071,  0.03014959, -0.0234941 , ...,  0.02147343,\n",
              "         -0.00488131,  0.04759185],\n",
              "        ...,\n",
              "        [-0.00386272,  0.01014292,  0.0080789 , ..., -0.0267296 ,\n",
              "         -0.01510002,  0.0357677 ],\n",
              "        [-0.00386272,  0.01014292,  0.0080789 , ..., -0.0267296 ,\n",
              "         -0.01510002,  0.0357677 ],\n",
              "        [-0.00386272,  0.01014292,  0.0080789 , ..., -0.0267296 ,\n",
              "         -0.01510002,  0.0357677 ]]], dtype=float32)>"
            ]
          },
          "metadata": {},
          "execution_count": 38
        }
      ],
      "source": [
        "# Init embedding \n",
        "init_embedding = embedding( output_seq_len,len(rct_20k_text_vocab), output_seq_len)\n",
        "text_embedding = init_embedding(text_vectorizer)\n",
        "text_embedding"
      ]
    },
    {
      "cell_type": "code",
      "execution_count": 39,
      "metadata": {
        "colab": {
          "base_uri": "https://localhost:8080/"
        },
        "id": "h3h_W-Zz8in-",
        "outputId": "35b4e198-2589-4974-faa3-36196d838eb9"
      },
      "outputs": [
        {
          "output_type": "stream",
          "name": "stdout",
          "text": [
            "Sentence before vectorization:\n",
            " grade @-@ aes of special interest with bevacizumab occurred in @ % of bevacizumab-treated patients and @ % of placebo-treated patients , mainly grade @-@ hemorrhage ( bevacizumab @ % , placebo @ % ) .\n",
            "\n",
            "sentence after vectorization: \n",
            " [[  445   903     4  3347  1511     7  1034   344     5     4 19108    12\n",
            "      3     4  3303    12  2080   445  1724  1034    48     0     0     0\n",
            "      0     0     0     0     0     0     0     0     0     0     0     0\n",
            "      0     0     0     0     0     0     0     0     0     0     0     0\n",
            "      0     0     0     0     0     0     0]]\n",
            "sentence after embedding: \n",
            " [[[-0.03583677  0.00689657  0.02079371 ... -0.00930589  0.01535893\n",
            "   -0.04228828]\n",
            "  [ 0.02387359  0.04312244 -0.02352003 ...  0.04942748 -0.02873398\n",
            "   -0.04079298]\n",
            "  [ 0.04808071  0.03014959 -0.0234941  ...  0.02147343 -0.00488131\n",
            "    0.04759185]\n",
            "  ...\n",
            "  [-0.00386272  0.01014292  0.0080789  ... -0.0267296  -0.01510002\n",
            "    0.0357677 ]\n",
            "  [-0.00386272  0.01014292  0.0080789  ... -0.0267296  -0.01510002\n",
            "    0.0357677 ]\n",
            "  [-0.00386272  0.01014292  0.0080789  ... -0.0267296  -0.01510002\n",
            "    0.0357677 ]]]\n",
            "embedding sentence shape:\n",
            " (1, 55, 128)\n"
          ]
        }
      ],
      "source": [
        "# Show example embedding\n",
        "print(f\"Sentence before vectorization:\\n {random_sentence}\\n\")\n",
        "print(f\"sentence after vectorization: \\n {text_vectorizer}\")\n",
        "print(f\"sentence after embedding: \\n {text_embedding}\")\n",
        "print(f\"embedding sentence shape:\\n {text_embedding.shape}\")"
      ]
    },
    {
      "cell_type": "markdown",
      "metadata": {
        "id": "epAf7vAN8lnW"
      },
      "source": [
        "## Creating datasets (making sure our data loads as fast as possible)\n",
        "\n",
        "We're going to setup our data to run as fast a possible with the TensorFlow tf.data API, many of the steps here are discussed at length in these two resources:\n",
        "* https://www.tensorflow.org/guide/data_performance\n",
        "* https://www.tensorflow.org/guide/data"
      ]
    },
    {
      "cell_type": "code",
      "execution_count": 40,
      "metadata": {
        "colab": {
          "base_uri": "https://localhost:8080/"
        },
        "id": "anCWG1SK8ils",
        "outputId": "5fdc2ad4-692e-42d0-f6c0-2afba7d2b779"
      },
      "outputs": [
        {
          "output_type": "execute_result",
          "data": {
            "text/plain": [
              "<TensorSliceDataset element_spec=(TensorSpec(shape=(), dtype=tf.string, name=None), TensorSpec(shape=(5,), dtype=tf.float64, name=None))>"
            ]
          },
          "metadata": {},
          "execution_count": 40
        }
      ],
      "source": [
        "# Turn our data into TensorFlow Datasets\n",
        "train_dataset = tf.data.Dataset.from_tensor_slices((train_sentences, train_labels_one_hot))\n",
        "valid_dataset = tf.data.Dataset.from_tensor_slices((val_sentences, val_labels_one_hot))\n",
        "test_dataset = tf.data.Dataset.from_tensor_slices((test_sentences, test_labels_one_hot))\n",
        "\n",
        "train_dataset"
      ]
    },
    {
      "cell_type": "code",
      "execution_count": 41,
      "metadata": {
        "colab": {
          "base_uri": "https://localhost:8080/"
        },
        "id": "lua2jEge8ii7",
        "outputId": "ecfcaaf8-c64d-4814-e892-72a85b78b89d"
      },
      "outputs": [
        {
          "output_type": "execute_result",
          "data": {
            "text/plain": [
              "((180040, 5), array([0., 0., 0., 1., 0.]))"
            ]
          },
          "metadata": {},
          "execution_count": 41
        }
      ],
      "source": [
        "train_labels_one_hot.shape, train_labels_one_hot[0]"
      ]
    },
    {
      "cell_type": "code",
      "execution_count": 42,
      "metadata": {
        "colab": {
          "base_uri": "https://localhost:8080/"
        },
        "id": "nYBGl2468igl",
        "outputId": "52f15529-5978-4739-93ca-5ba78168f7c7"
      },
      "outputs": [
        {
          "output_type": "execute_result",
          "data": {
            "text/plain": [
              "<PrefetchDataset element_spec=(TensorSpec(shape=(None,), dtype=tf.string, name=None), TensorSpec(shape=(None, 5), dtype=tf.float64, name=None))>"
            ]
          },
          "metadata": {},
          "execution_count": 42
        }
      ],
      "source": [
        "# Take the TensorSliceDataset's and turn them into prefechted data\n",
        "train_dataset = train_dataset.batch(32).prefetch(tf.data.AUTOTUNE)\n",
        "valid_dataset = valid_dataset.batch(32).prefetch(tf.data.AUTOTUNE)\n",
        "test_dataset = test_dataset.batch(32).prefetch(tf.data.AUTOTUNE)\n",
        "\n",
        "train_dataset"
      ]
    },
    {
      "cell_type": "code",
      "execution_count": 43,
      "metadata": {
        "colab": {
          "base_uri": "https://localhost:8080/"
        },
        "id": "wCEVpnzL8ieN",
        "outputId": "b242b9b0-3c84-4d0e-b3fc-39fbaaa3a54e"
      },
      "outputs": [
        {
          "output_type": "execute_result",
          "data": {
            "text/plain": [
              "5627"
            ]
          },
          "metadata": {},
          "execution_count": 43
        }
      ],
      "source": [
        "len(train_dataset)"
      ]
    },
    {
      "cell_type": "markdown",
      "metadata": {
        "id": "x2it5vo58p0N"
      },
      "source": [
        "## Model 1 : Conv1D with token embeddings"
      ]
    },
    {
      "cell_type": "code",
      "execution_count": 44,
      "metadata": {
        "colab": {
          "base_uri": "https://localhost:8080/"
        },
        "id": "Wsjuq7bE8rVH",
        "outputId": "5ccc2ab2-d0dc-474e-97cb-1af807e5f9c5"
      },
      "outputs": [
        {
          "output_type": "execute_result",
          "data": {
            "text/plain": [
              "5"
            ]
          },
          "metadata": {},
          "execution_count": 44
        }
      ],
      "source": [
        "# Create 1D conv model to process sequences\n",
        "num_classes"
      ]
    },
    {
      "cell_type": "code",
      "execution_count": 45,
      "metadata": {
        "colab": {
          "base_uri": "https://localhost:8080/"
        },
        "id": "kvIzS6yq8r6o",
        "outputId": "9feb8f71-7b10-410f-c251-1b423d47bb31"
      },
      "outputs": [
        {
          "output_type": "stream",
          "name": "stdout",
          "text": [
            "Model: \"Conv1D\"\n",
            "_________________________________________________________________\n",
            " Layer (type)                Output Shape              Param #   \n",
            "=================================================================\n",
            " text_vectorization (TextVec  (None, 55)               0         \n",
            " torization)                                                     \n",
            "                                                                 \n",
            " token_embedding (Embedding)  (None, 55, 128)          8299648   \n",
            "                                                                 \n",
            " conv1d (Conv1D)             (None, 55, 64)            41024     \n",
            "                                                                 \n",
            " global_average_pooling1d (G  (None, 64)               0         \n",
            " lobalAveragePooling1D)                                          \n",
            "                                                                 \n",
            " dense (Dense)               (None, 5)                 325       \n",
            "                                                                 \n",
            "=================================================================\n",
            "Total params: 8,340,997\n",
            "Trainable params: 8,340,997\n",
            "Non-trainable params: 0\n",
            "_________________________________________________________________\n"
          ]
        }
      ],
      "source": [
        "from tensorflow.keras.layers import Conv1D, GlobalAveragePooling1D, Dense, Input\n",
        "# create victorization, create embedding layer, create conv1D, pooling, dense layer\n",
        "model_1 = tf.keras.Sequential([\n",
        "    Input(shape=(1), dtype=tf.string, name='input_layer'),\n",
        "    init_tokenizer,\n",
        "    init_embedding,\n",
        "    Conv1D(64, kernel_size=5, padding='same', activation='relu'),\n",
        "    GlobalAveragePooling1D(), # Condense the output of our feature vector from conv layer\n",
        "    Dense(num_classes, activation='softmax')\n",
        "], name='Conv1D')\n",
        "\n",
        "# compile the model\n",
        "model_1.compile(loss= \"categorical_crossentropy\",\n",
        "               optimizer = tf.keras.optimizers.Adam(),\n",
        "               metrics = ['accuracy'])\n",
        "model_1.summary()"
      ]
    },
    {
      "cell_type": "code",
      "execution_count": null,
      "metadata": {
        "colab": {
          "base_uri": "https://localhost:8080/"
        },
        "id": "j3Vte6_98r3w",
        "outputId": "20b05f66-3d29-457a-e29a-137ad68726b1"
      },
      "outputs": [
        {
          "output_type": "stream",
          "name": "stdout",
          "text": [
            "Saving TensorBoard log files to: tensorboard/model_1_conv1D/20230227-211230\n",
            "Epoch 1/3\n",
            " 66/562 [==>...........................] - ETA: 1:04 - loss: 1.4543 - accuracy: 0.3958"
          ]
        }
      ],
      "source": [
        "# fit the model\n",
        "history_model_1 = model_1.fit(train_dataset,\n",
        "                              steps_per_epoch=int(0.1*len(train_dataset)), \n",
        "                              epochs=3,\n",
        "                              validation_data= valid_dataset,\n",
        "                              validation_steps=int(0.1*len(valid_dataset)),\n",
        "                              callbacks=[helper_functions.create_tensorboard_callback(dir_name=\"tensorboard\",\n",
        "                                                                                    experiment_name=\"model_1_conv1D\")])"
      ]
    },
    {
      "cell_type": "code",
      "execution_count": null,
      "metadata": {
        "id": "a5HDIAHf8r1L"
      },
      "outputs": [],
      "source": [
        "# Evaluate on whole validation dataset\n",
        "model_1.evaluate(valid_dataset)"
      ]
    },
    {
      "cell_type": "code",
      "execution_count": null,
      "metadata": {
        "id": "peN6lSHm8ryz"
      },
      "outputs": [],
      "source": [
        "# Make predictions (our model predicts prediction probabilies for each class)\n",
        "model_1_pred_probs = model_1.predict(valid_dataset)\n",
        "model_1_pred_probs, model_1_pred_probs.shape # output = proba of ['BACKGROUND', 'CONCLUSIONS', 'METHODS', 'OBJECTIVE', 'RESULTS']"
      ]
    },
    {
      "cell_type": "code",
      "execution_count": null,
      "metadata": {
        "id": "yy9DXstb8rwN"
      },
      "outputs": [],
      "source": [
        "# Convert pred_probs to classes\n",
        "model_1_preds = tf.argmax(model_1_pred_probs, axis=1)\n",
        "model_1_preds"
      ]
    },
    {
      "cell_type": "code",
      "execution_count": null,
      "metadata": {
        "id": "fYJQfXqv8yL8"
      },
      "outputs": [],
      "source": [
        "# Calculate model_1 results\n",
        "model_1_results = calculate_results(y_true=val_labels_encoded,\n",
        "                                   y_pred=model_1_preds)\n",
        "model_1_results"
      ]
    },
    {
      "cell_type": "markdown",
      "metadata": {
        "id": "fDchPqK1MOCn"
      },
      "source": [
        "## Model_2 : TensorFlow Hub Pretrained Feature Extractor\n",
        "\n",
        "Now lets use pretrained word embedding from TensorFlow Hub, more specifically the universal sentence encoder(universal-sentence-encoder): https://tfhub.dev/google/universal-sentence-encoder/4\n",
        "\n",
        "The paper originally used GloVee embeddings, however, we're going to stick with the later created USE pretrained embedding"
      ]
    },
    {
      "cell_type": "markdown",
      "source": [
        "### Methode 2 use bert embedding "
      ],
      "metadata": {
        "id": "_O-2Q1pCnJi6"
      }
    },
    {
      "cell_type": "code",
      "source": [
        "#!pip3 install --quiet tensorflow-text\n",
        "\n",
        "import numpy as np\n",
        "import tensorflow as tf\n",
        "import tensorflow_hub as hub\n",
        "import tensorflow_text as text  # Imports TF ops for preprocessing.\n",
        "\n",
        "# Define some sentences to feed into the model\n",
        "sentences = [\n",
        "  \"Here We Go Then, You And I is a 1999 album by Norwegian pop artist Morten Abel. It was Abel's second CD as a solo artist.\",\n",
        "  \"The album went straight to number one on the Norwegian album chart, and sold to double platinum.\",\n",
        "  \"Ceylon spinach is a common name for several plants and may refer to: Basella alba Talinum fruticosum\",\n",
        "  \"A solar eclipse occurs when the Moon passes between Earth and the Sun, thereby totally or partly obscuring the image of the Sun for a viewer on Earth.\",\n",
        "  \"A partial solar eclipse occurs in the polar regions of the Earth when the center of the Moon's shadow misses the Earth.\",\n",
        "]\n",
        "\n",
        "# Load the BERT encoder and preprocessing models\n",
        "preprocess = hub.load('https://tfhub.dev/tensorflow/bert_en_uncased_preprocess/3')\n",
        "bert = hub.load('https://tfhub.dev/google/experts/bert/pubmed/2')\n",
        "\n"
      ],
      "metadata": {
        "id": "_t55doB7nIoZ"
      },
      "execution_count": 1,
      "outputs": []
    },
    {
      "cell_type": "code",
      "source": [
        "# Convert the sentences to bert inputs\n",
        "bert_inputs = preprocess(train_sentences[:5])\n",
        "\n",
        "# Feed the inputs to the model to get the pooled and sequence outputs\n",
        "bert_outputs = bert(bert_inputs, training=False)\n",
        "pooled_output = bert_outputs['pooled_output']\n",
        "sequence_output = bert_outputs['sequence_output']\n",
        "\n",
        "print('\\nSentences:')\n",
        "print(sentences)\n",
        "print('\\nPooled output:')\n",
        "print(pooled_output)\n",
        "print('\\nSequence output:')\n",
        "print(sequence_output)"
      ],
      "metadata": {
        "colab": {
          "base_uri": "https://localhost:8080/"
        },
        "id": "khGWPEnOo_ob",
        "outputId": "3a12400c-5ea1-411b-9795-2257fb0d9416"
      },
      "execution_count": 26,
      "outputs": [
        {
          "output_type": "stream",
          "name": "stdout",
          "text": [
            "\n",
            "Sentences:\n",
            "[\"Here We Go Then, You And I is a 1999 album by Norwegian pop artist Morten Abel. It was Abel's second CD as a solo artist.\", 'The album went straight to number one on the Norwegian album chart, and sold to double platinum.', 'Ceylon spinach is a common name for several plants and may refer to: Basella alba Talinum fruticosum', 'A solar eclipse occurs when the Moon passes between Earth and the Sun, thereby totally or partly obscuring the image of the Sun for a viewer on Earth.', \"A partial solar eclipse occurs in the polar regions of the Earth when the center of the Moon's shadow misses the Earth.\"]\n",
            "\n",
            "Pooled output:\n",
            "tf.Tensor(\n",
            "[[-0.6477918  -0.70684963  0.1331164  ... -0.46288487  0.04282047\n",
            "  -0.63427424]\n",
            " [-0.01562373 -0.5545997  -0.14161977 ... -0.2615973  -0.30270973\n",
            "  -0.8866951 ]\n",
            " [ 0.13275665 -0.40689522 -0.827661   ... -0.43283406 -0.44427055\n",
            "  -0.8223595 ]\n",
            " [ 0.02280793 -0.45343328 -0.18827845 ... -0.39480573 -0.52732015\n",
            "  -0.6146176 ]\n",
            " [-0.11924198 -0.60044813 -0.8586245  ... -0.44681436  0.30890632\n",
            "  -0.6725747 ]], shape=(5, 768), dtype=float32)\n",
            "\n",
            "Sequence output:\n",
            "tf.Tensor(\n",
            "[[[-0.7716784  -0.88065314  0.13390288 ... -0.50089616  0.04284783\n",
            "   -0.7487618 ]\n",
            "  [ 0.63088346 -0.9541496   0.6355431  ... -0.48539615  0.52370715\n",
            "   -0.09352356]\n",
            "  [-0.40703884  0.45399764  0.24002059 ... -0.04792587  0.5210517\n",
            "   -0.11329505]\n",
            "  ...\n",
            "  [ 0.04008578 -1.3314335   0.09539402 ... -0.09693122 -0.1067023\n",
            "   -0.31201833]\n",
            "  [-0.35905668 -0.84635615  0.33855146 ... -0.11351943 -0.3054854\n",
            "   -0.6193335 ]\n",
            "  [-0.6482499  -0.38636085  0.21812187 ... -0.3241079  -0.48747635\n",
            "   -0.82878685]]\n",
            "\n",
            " [[-0.01562424 -0.6249355  -0.14260632 ... -0.26773024 -0.31259325\n",
            "   -1.4062669 ]\n",
            "  [ 0.12149504 -1.9218584  -0.4366109  ... -0.02512211  0.66631734\n",
            "    0.0400548 ]\n",
            "  [ 1.0358367  -0.20734757  0.8016483  ... -0.7014303  -1.2594872\n",
            "   -0.5686972 ]\n",
            "  ...\n",
            "  [ 0.56228936 -0.8193388  -0.6713455  ... -0.31465936  0.29070854\n",
            "    0.04669788]\n",
            "  [-0.03755504 -0.15058488 -0.9906714  ... -0.42580953  0.13723889\n",
            "   -0.92790717]\n",
            "  [-0.15216695 -0.4427374  -0.41576958 ... -0.6070648  -0.3499551\n",
            "   -0.7863022 ]]\n",
            "\n",
            " [[ 0.13350965 -0.43197948 -1.1802905  ... -0.46349594 -0.47744244\n",
            "   -1.1640071 ]\n",
            "  [ 0.37387753 -0.44877064 -0.18072838 ... -0.6594386  -0.16600457\n",
            "    2.4174051 ]\n",
            "  [ 0.19207205 -1.2405331   0.30837208 ... -1.0115072  -0.742295\n",
            "    1.2729928 ]\n",
            "  ...\n",
            "  [-0.2362688  -0.4577902   0.07944515 ... -0.07686189 -0.2448656\n",
            "   -1.2538723 ]\n",
            "  [-0.24596258 -0.15794474  0.17546491 ... -0.27400252 -0.20347354\n",
            "   -0.16154358]\n",
            "  [-0.1634435  -0.11392462  0.40478277 ... -0.61473274 -0.35950723\n",
            "   -0.5280452 ]]\n",
            "\n",
            " [[ 0.02281868 -0.48891908 -0.19049573 ... -0.41744417 -0.58645535\n",
            "   -0.7163398 ]\n",
            "  [ 1.2791212  -0.22241563  0.7166344  ... -0.8945738   0.1378986\n",
            "    1.3532282 ]\n",
            "  [ 0.43704233 -2.2849283   0.670449   ... -1.4965191   0.52710557\n",
            "   -2.0175042 ]\n",
            "  ...\n",
            "  [ 0.15363532 -0.16090369 -0.10224596 ...  0.2593692  -0.52696574\n",
            "   -0.20361507]\n",
            "  [ 0.05653766  0.1173446  -0.35602683 ...  0.21092469 -0.03254485\n",
            "   -1.166899  ]\n",
            "  [ 0.03964655 -0.3157155  -0.07303113 ... -0.01694104 -0.62260884\n",
            "    0.29431432]]\n",
            "\n",
            " [[-0.11981338 -0.6938404  -1.2882807  ... -0.48063344  0.319318\n",
            "   -0.8155197 ]\n",
            "  [ 0.2789329  -0.04817551  0.8053063  ... -1.2508193   1.1467307\n",
            "    3.0136251 ]\n",
            "  [-0.02659263 -0.36714834  0.15905707 ... -0.82753646  0.1859523\n",
            "    1.8752431 ]\n",
            "  ...\n",
            "  [ 0.6479037   0.7478907   0.02020377 ...  0.22365174 -0.3214481\n",
            "    0.24184923]\n",
            "  [ 0.18329169  0.32086274  0.4285184  ... -0.418765    0.21754175\n",
            "   -0.88812745]\n",
            "  [ 0.59576553 -0.13342702  1.624028   ... -0.3093754   0.73652226\n",
            "   -1.9709113 ]]], shape=(5, 128, 768), dtype=float32)\n"
          ]
        }
      ]
    },
    {
      "cell_type": "code",
      "execution_count": null,
      "metadata": {
        "colab": {
          "base_uri": "https://localhost:8080/"
        },
        "id": "sLSvGUEMqRre",
        "outputId": "da411c5b-d1b0-41fa-adba-a5b8eff7530c"
      },
      "outputs": [
        {
          "output_type": "stream",
          "name": "stderr",
          "text": [
            "WARNING:tensorflow:Please fix your imports. Module tensorflow.python.training.tracking.data_structures has been moved to tensorflow.python.trackable.data_structures. The old module will be deleted in version 2.11.\n"
          ]
        },
        {
          "output_type": "stream",
          "name": "stdout",
          "text": [
            "tf.Tensor(\n",
            "[[-0.03133018 -0.06338634 -0.01607501 ... -0.0324278  -0.04575739\n",
            "   0.05370454]\n",
            " [ 0.05080859 -0.01652432  0.01573777 ...  0.00976659  0.03170121\n",
            "   0.01788116]], shape=(2, 512), dtype=float32)\n"
          ]
        }
      ],
      "source": [
        "# Download pretrained TensorFlow Hub USE\n",
        "import tensorflow_hub as hub\n",
        "\n",
        "tf_hub_embedding_layer = hub.KerasLayer(\"https://tfhub.dev/google/universal-sentence-encoder/4\",\n",
        "                                  trainable=False,\n",
        "                                  name=\"universal_sentence_encoder\")\n",
        "embeddings = tf_hub_embedding_layer([\n",
        "    \"The quick brown fox jumps over the lazy dog.\",\n",
        "    \"I am a sentence for which I would like to get its embedding\"])\n",
        "\n",
        "print(embeddings)"
      ]
    },
    {
      "cell_type": "code",
      "execution_count": null,
      "metadata": {
        "colab": {
          "base_uri": "https://localhost:8080/"
        },
        "id": "SmxuXp5HqRnT",
        "outputId": "51bb072c-ca6f-4886-dd39-fed7c656800a"
      },
      "outputs": [
        {
          "output_type": "stream",
          "name": "stdout",
          "text": [
            "Random sentence:\n",
            " primary endpoint was the incidence of therapeutical ( clinical and/or virologic ) failure at week @ with follow-up till week @ .\n",
            "sentence after embedding:\n",
            "[-0.01631023 -0.04433727 -0.07154287 -0.08110175 -0.04602405  0.00353554\n",
            "  0.06861764 -0.05391749  0.04383511  0.02889834  0.06854235  0.07598585\n",
            " -0.04027563 -0.0678735   0.04709596  0.00211256 -0.09713444  0.01677616\n",
            "  0.04302616  0.01995236 -0.02140223  0.04835825 -0.06138327  0.04035938\n",
            " -0.04575083 -0.06862703 -0.08881287 -0.07290141 -0.03595865  0.0140894 ]\n",
            "Length of sentence embedding: 512\n"
          ]
        }
      ],
      "source": [
        "# Test out the pretrained embedding on a random sentence\n",
        "random_train_sentence = random.choice(train_sentences)\n",
        "print(f\"Random sentence:\\n {random_train_sentence}\")\n",
        "use_embedded_sentence = tf_hub_embedding_layer([random_train_sentence])\n",
        "print(f\"sentence after embedding:\\n{use_embedded_sentence[0][:30]}\")\n",
        "print(f\"Length of sentence embedding: {len(use_embedded_sentence[0])}\")"
      ]
    },
    {
      "cell_type": "markdown",
      "metadata": {
        "id": "ZMXhVASB-BbK"
      },
      "source": [
        "### Building and fitting an NLP feature extraction model using pretrained embeddings from TensorFlow Hub "
      ]
    },
    {
      "cell_type": "code",
      "execution_count": null,
      "metadata": {
        "id": "yQ7G0kSrqRkf"
      },
      "outputs": [],
      "source": [
        "model_2 = tf.keras.Sequential([\n",
        "    tf_hub_embedding_layer,\n",
        "    tf.keras.layers.Dense(5, activation='sigmoid')\n",
        "])\n",
        "# compile the model\n",
        "model_2.compile(loss=\"categorical_crossentropy\",\n",
        "                optimizer=tf.keras.optimizers.Adam(),\n",
        "                metrics=[\"accuracy\"])"
      ]
    },
    {
      "cell_type": "code",
      "execution_count": null,
      "metadata": {
        "id": "I0jTYs7CqRf5"
      },
      "outputs": [],
      "source": [
        "# fit the model\n",
        "model_2.fit(train_dataset,\n",
        "            steps_per_epoch=int(0.1*len(train_dataset)),\n",
        "            epochs=3,\n",
        "            validation_data=valid_dataset,\n",
        "            validation_steps=int(0.1*len(valid_dataset)),\n",
        "            callbacks=[helper_functions.create_tensorboard_callback(dir_name=\"tensorboard\",\n",
        "                                                                    experiment_name=\"model_2_tf_hub_embed\")])"
      ]
    },
    {
      "cell_type": "code",
      "execution_count": null,
      "metadata": {
        "id": "5Ayf96EM83An"
      },
      "outputs": [],
      "source": []
    },
    {
      "cell_type": "code",
      "execution_count": null,
      "metadata": {
        "id": "qnseJl3agjXA"
      },
      "outputs": [],
      "source": [
        "model_2 = tf.keras.Sequential([\n",
        "    tf.keras.layers.Input(shape=[], dtype=\"string\"),\n",
        "    tf_hub_embedding_layer, # tokenize text and create embedding of each sequence (512 long vector)\n",
        "    tf.keras.layers.Dense(128, activation=\"relu\"),\n",
        "    # Note : you could add more layers here if you wanted to\n",
        "    tf.keras.layers.Dense(num_classes, activation='sigmoid', name=\"output_layer\")\n",
        "], name=\"model_2_tf_hub_embed\")\n",
        "\n",
        "# compile the model\n",
        "model_2.compile(loss=\"categorical_crossentropy\",\n",
        "                optimizer=tf.keras.optimizers.Adam(),\n",
        "                metrics=[\"accuracy\"])"
      ]
    },
    {
      "cell_type": "code",
      "execution_count": null,
      "metadata": {
        "id": "oJ2NWIXG8xSR"
      },
      "outputs": [],
      "source": [
        "# fit the model\n",
        "history_model_2 = model_2.fit(train_dataset,\n",
        "                              steps_per_epoch=int(0.1*len(train_dataset)),\n",
        "                              epochs=3,\n",
        "                              validation_data=valid_dataset,\n",
        "                              validation_steps=int(0.1*len(valid_dataset)),\n",
        "                              callbacks=[helper_functions.create_tensorboard_callback(dir_name=\"tensorboard\",\n",
        "                                                                    experiment_name=\"model_2_tf_hub_embed\")])"
      ]
    },
    {
      "cell_type": "code",
      "execution_count": null,
      "metadata": {
        "id": "wu6lMdX78zHB"
      },
      "outputs": [],
      "source": [
        "# Evaluate on the whole validation dataset\n",
        "model_2.evaluate(valid_dataset)"
      ]
    },
    {
      "cell_type": "code",
      "execution_count": null,
      "metadata": {
        "id": "V9Lwnovi_7dp"
      },
      "outputs": [],
      "source": [
        "\n",
        "# Make some prediction wit feature extraction model\n",
        "model_2_pred_probs = model_2.predict(val_sentences)"
      ]
    },
    {
      "cell_type": "code",
      "execution_count": null,
      "metadata": {
        "id": "y2rfb07TAJT4"
      },
      "outputs": [],
      "source": [
        "# convert the prediction probabilities found with feature extraction model to label\n",
        "model_2_pred = tf.argmax(model_2_pred_probs, axis=1) # les positions des  valeur les plus grandes \n",
        "model_2_pred"
      ]
    },
    {
      "cell_type": "code",
      "execution_count": null,
      "metadata": {
        "id": "89t0WYm9A-oZ"
      },
      "outputs": [],
      "source": [
        "# Calcute results performance from TF Hub pretrained embeddings results on val set\n",
        "model_2_results = calculate_results(y_true =val_labels_encoded,\n",
        "                                    y_pred = model_2_pred)\n",
        "model_2_results"
      ]
    },
    {
      "cell_type": "code",
      "execution_count": null,
      "metadata": {
        "id": "hZTM-62TBSgw"
      },
      "outputs": [],
      "source": [
        "model_0_results"
      ]
    },
    {
      "cell_type": "code",
      "execution_count": null,
      "metadata": {
        "id": "_nkk7jHhC7Bp"
      },
      "outputs": [],
      "source": [
        "model_1_results"
      ]
    },
    {
      "cell_type": "markdown",
      "metadata": {
        "id": "SWWTHTgyDtqk"
      },
      "source": [
        "## Model 3: Conv1D with character embeddngs\n",
        "\n",
        "The paper which we're replicating states they used a combination of token and character-level embeddings.\n",
        ":\n",
        "Previously we've token-level embeddings but we'll need to do similar steps for characters if we want to use char-level embeddings."
      ]
    },
    {
      "cell_type": "markdown",
      "metadata": {
        "id": "5EYXAotxiQcM"
      },
      "source": [
        "### Create a characterlevel tokenizer"
      ]
    },
    {
      "cell_type": "code",
      "execution_count": null,
      "metadata": {
        "colab": {
          "base_uri": "https://localhost:8080/"
        },
        "id": "P_UUJRurC9qY",
        "outputId": "06bbb110-54c9-4092-a2de-d6351c313801"
      },
      "outputs": [
        {
          "output_type": "execute_result",
          "data": {
            "text/plain": [
              "list"
            ]
          },
          "metadata": {},
          "execution_count": 43
        }
      ],
      "source": [
        "# tr = train_sentences.split(\"\")\n",
        "#init_tokenizer\n",
        "type(train_sentences)"
      ]
    },
    {
      "cell_type": "code",
      "execution_count": null,
      "metadata": {
        "id": "DKdX1_g8ihyS"
      },
      "outputs": [],
      "source": []
    },
    {
      "cell_type": "code",
      "execution_count": null,
      "metadata": {
        "colab": {
          "base_uri": "https://localhost:8080/",
          "height": 53
        },
        "id": "6g4xJJb4i9o5",
        "outputId": "18e46e21-6d65-4686-db98-65853ec8a431"
      },
      "outputs": [
        {
          "output_type": "execute_result",
          "data": {
            "text/plain": [
              "'p r i m a r y   e n d p o i n t   w a s   t h e   i n c i d e n c e   o f   t h e r a p e u t i c a l   (   c l i n i c a l   a n d / o r   v i r o l o g i c   )   f a i l u r e   a t   w e e k   @   w i t h   f o l l o w - u p   t i l l   w e e k   @   .'"
            ],
            "application/vnd.google.colaboratory.intrinsic+json": {
              "type": "string"
            }
          },
          "metadata": {},
          "execution_count": 44
        }
      ],
      "source": [
        "def split_chars(text):\n",
        "  return \" \".join(list(text))\n",
        "\n",
        "# Text splitting non-character-level sequence into characters\n",
        "split_chars(random_train_sentence)"
      ]
    },
    {
      "cell_type": "code",
      "execution_count": null,
      "metadata": {
        "colab": {
          "base_uri": "https://localhost:8080/",
          "height": 105
        },
        "id": "bLO6YMzslFfJ",
        "outputId": "23f8177f-950f-4bd4-ae2b-c815270283a7"
      },
      "outputs": [
        {
          "output_type": "execute_result",
          "data": {
            "text/plain": [
              "'t o   i n v e s t i g a t e   t h e   e f f i c a c y   o f   @   w e e k s   o f   d a i l y   l o w - d o s e   o r a l   p r e d n i s o l o n e   i n   i m p r o v i n g   p a i n   ,   m o b i l i t y   ,   a n d   s y s t e m i c   l o w - g r a d e   i n f l a m m a t i o n   i n   t h e   s h o r t   t e r m   a n d   w h e t h e r   t h e   e f f e c t   w o u l d   b e   s u s t a i n e d   a t   @   w e e k s   i n   o l d e r   a d u l t s   w i t h   m o d e r a t e   t o   s e v e r e   k n e e   o s t e o a r t h r i t i s   (   o a   )   .'"
            ],
            "application/vnd.google.colaboratory.intrinsic+json": {
              "type": "string"
            }
          },
          "metadata": {},
          "execution_count": 45
        }
      ],
      "source": [
        "# Split sequence-level data splits into character-level data splits \n",
        "train_chars = [split_chars(sentence) for sentence in train_sentences]\n",
        "test_chars = [split_chars(sentence) for sentence in test_sentences]\n",
        "val_chars = [split_chars(sentence) for sentence in val_sentences]\n",
        "train_chars[0]"
      ]
    },
    {
      "cell_type": "code",
      "execution_count": null,
      "metadata": {
        "colab": {
          "base_uri": "https://localhost:8080/"
        },
        "id": "iaPp-0PhlVEQ",
        "outputId": "392bb4dd-5878-42ed-c6de-d65747a3a0fe"
      },
      "outputs": [
        {
          "output_type": "execute_result",
          "data": {
            "text/plain": [
              "149.3662574983337"
            ]
          },
          "metadata": {},
          "execution_count": 46
        }
      ],
      "source": [
        "# What's the average character length ?\n",
        "char_lens = [len(sentence) for sentence in train_sentences]\n",
        "mean_char_len = np.mean(char_lens)\n",
        "mean_char_len"
      ]
    },
    {
      "cell_type": "code",
      "execution_count": null,
      "metadata": {
        "colab": {
          "base_uri": "https://localhost:8080/",
          "height": 265
        },
        "id": "GOtCO6CKplHR",
        "outputId": "49d4cb3b-44f1-4f31-8fc9-2127b669b9a2"
      },
      "outputs": [
        {
          "output_type": "display_data",
          "data": {
            "text/plain": [
              "<Figure size 432x288 with 1 Axes>"
            ],
            "image/png": "[encoded data removed]"
          },
          "metadata": {
            "needs_background": "light"
          }
        }
      ],
      "source": [
        "# Check the distribution of our sequences at a character-level\n",
        "import matplotlib.pyplot as plt\n",
        "plt.hist(char_lens, bins=7);"
      ]
    },
    {
      "cell_type": "code",
      "execution_count": null,
      "metadata": {
        "colab": {
          "base_uri": "https://localhost:8080/"
        },
        "id": "zyriVeG8q4_-",
        "outputId": "460c80ed-0bfe-4e64-9828-d681525f7807"
      },
      "outputs": [
        {
          "output_type": "execute_result",
          "data": {
            "text/plain": [
              "290"
            ]
          },
          "metadata": {},
          "execution_count": 48
        }
      ],
      "source": [
        "# Find what character length covers 95% of sequences\n",
        "output_seq_char_len = int(np.percentile(char_lens, 95))\n",
        "output_seq_char_len"
      ]
    },
    {
      "cell_type": "code",
      "execution_count": null,
      "metadata": {
        "colab": {
          "base_uri": "https://localhost:8080/",
          "height": 36
        },
        "id": "q7mvXmEQrk_6",
        "outputId": "ea3ab801-35ab-4ce0-d827-9b65b687eaf2"
      },
      "outputs": [
        {
          "output_type": "execute_result",
          "data": {
            "text/plain": [
              "'abcdefghijklmnopqrstuvwxyz0123456789!\"#$%&\\'()*+,-./:;<=>?@[\\\\]^_`{|}~'"
            ],
            "application/vnd.google.colaboratory.intrinsic+json": {
              "type": "string"
            }
          },
          "metadata": {},
          "execution_count": 49
        }
      ],
      "source": [
        "# Get all keyboard characters\n",
        "import string\n",
        "alphabet = string.ascii_lowercase + string.digits + string.punctuation\n",
        "alphabet"
      ]
    },
    {
      "cell_type": "code",
      "execution_count": null,
      "metadata": {
        "id": "MZDBAEhfsHkK"
      },
      "outputs": [],
      "source": [
        "# Create char-level token vectorizer instance\n",
        "NUM_CHAR_TOKENS = len(alphabet) + 2 # add 2 for space and OOV token (OOV = out of vocab, '[UNK]')\n",
        "\n",
        "\n",
        "    # Create a text vectorizer \n",
        "char_vectorizer = tf.keras.layers.experimental.preprocessing.TextVectorization(max_tokens = NUM_CHAR_TOKENS,\n",
        "                                                                               output_sequence_length= output_seq_char_len,\n",
        "                                                                               #standardize=None, # set standardization to \"None\" if you want leave the ponctuation in\n",
        "                                                                               name=\"char_vectorizer\")\n"
      ]
    },
    {
      "cell_type": "code",
      "execution_count": null,
      "metadata": {
        "id": "5V9LCMyCsJ_L"
      },
      "outputs": [],
      "source": [
        "# Adapt character vectorizer to training character\n",
        "char_vectorizer.adapt(train_chars)"
      ]
    },
    {
      "cell_type": "code",
      "execution_count": null,
      "metadata": {
        "colab": {
          "base_uri": "https://localhost:8080/"
        },
        "id": "1503Ul8YFBJa",
        "outputId": "73650920-1338-4499-e4e8-0dc9653c77b9"
      },
      "outputs": [
        {
          "output_type": "stream",
          "name": "stdout",
          "text": [
            "Number of different characters in character vocab: 28\n",
            "5 most common characters: ['', '[UNK]', 'e', 't', 'i']\n",
            "5 least common characters: ['k', 'x', 'z', 'q', 'j']\n"
          ]
        }
      ],
      "source": [
        " # Check character vocab stats\n",
        "char_vocab = char_vectorizer.get_vocabulary()\n",
        "print(f\"Number of different characters in character vocab: {len(char_vocab)}\")\n",
        "print(f\"5 most common characters: {char_vocab[:5]}\")\n",
        "print(f\"5 least common characters: {char_vocab[-5:]}\")"
      ]
    },
    {
      "cell_type": "code",
      "execution_count": null,
      "metadata": {
        "colab": {
          "base_uri": "https://localhost:8080/"
        },
        "id": "8hI75G6sC_jR",
        "outputId": "3621b755-74b7-4825-f270-5e24d61ac698"
      },
      "outputs": [
        {
          "output_type": "stream",
          "name": "stdout",
          "text": [
            "Charified text:\n",
            " c h i l d r e n   w e r e   a b l e   t o   l e a r n   t h e   f o s   t h r o u g h   m p   o r   p p   w i t h   a   s i m i l a r   l e v e l   o f   p e r f o r m a n c e   .\n",
            "Length of random_train_chars: 179\n",
            "\\Vectorized chars:\n",
            " [[11 13  4 12 10  8  2  6 20  2  8  2  5 22 12  2  3  7 12  2  5  8  6  3\n",
            "  13  2 17  7  9  3 13  8  7 16 18 13 15 14  7  8 14 14 20  4  3 13  5  9\n",
            "   4 15  4 12  5  8 12  2 21  2 12  7 17 14  2  8 17  7  8 15  5  6 11  2\n",
            "   0  0  0  0  0  0  0  0  0  0  0  0  0  0  0  0  0  0  0  0  0  0  0  0\n",
            "   0  0  0  0  0  0  0  0  0  0  0  0  0  0  0  0  0  0  0  0  0  0  0  0\n",
            "   0  0  0  0  0  0  0  0  0  0  0  0  0  0  0  0  0  0  0  0  0  0  0  0\n",
            "   0  0  0  0  0  0  0  0  0  0  0  0  0  0  0  0  0  0  0  0  0  0  0  0\n",
            "   0  0  0  0  0  0  0  0  0  0  0  0  0  0  0  0  0  0  0  0  0  0  0  0\n",
            "   0  0  0  0  0  0  0  0  0  0  0  0  0  0  0  0  0  0  0  0  0  0  0  0\n",
            "   0  0  0  0  0  0  0  0  0  0  0  0  0  0  0  0  0  0  0  0  0  0  0  0\n",
            "   0  0  0  0  0  0  0  0  0  0  0  0  0  0  0  0  0  0  0  0  0  0  0  0\n",
            "   0  0  0  0  0  0  0  0  0  0  0  0  0  0  0  0  0  0  0  0  0  0  0  0\n",
            "   0  0]]\n",
            "\n",
            "Length of vectorized chars: 290\n"
          ]
        }
      ],
      "source": [
        "# Test out character vectorizer\n",
        "random_train_chars = random.choice(train_chars)\n",
        "print(f\"Charified text:\\n {random_train_chars}\")\n",
        "print(f\"Length of random_train_chars: {len(random_train_chars)}\")\n",
        "\n",
        "vectorized_chars = char_vectorizer([random_train_chars])\n",
        "print(f\"\\Vectorized chars:\\n {vectorized_chars}\")\n",
        "print(f\"\\nLength of vectorized chars: {len(vectorized_chars[0])}\")"
      ]
    },
    {
      "cell_type": "markdown",
      "metadata": {
        "id": "fpAI-4BpdsRZ"
      },
      "source": [
        "### Creating a character level embedding"
      ]
    },
    {
      "cell_type": "code",
      "execution_count": null,
      "metadata": {
        "id": "_iy5snMeKhWw"
      },
      "outputs": [],
      "source": [
        "# Create char embedding layer\n",
        "char_embed = tf.keras.layers.Embedding(input_dim=len(char_vocab), # this is the number of differente characters\n",
        "                                       output_dim= 25, # is the size of char_embedding in  the paper (figure 1)\n",
        "                                       mask_zero=True,\n",
        "                                       name=\"char_embed\")"
      ]
    },
    {
      "cell_type": "code",
      "execution_count": null,
      "metadata": {
        "colab": {
          "base_uri": "https://localhost:8080/"
        },
        "id": "CCTKoO9SiL2O",
        "outputId": "3b89b1d1-8206-434c-8932-8ec746be46ce"
      },
      "outputs": [
        {
          "output_type": "stream",
          "name": "stdout",
          "text": [
            "Charified text:\n",
            " c h i l d r e n   w e r e   a b l e   t o   l e a r n   t h e   f o s   t h r o u g h   m p   o r   p p   w i t h   a   s i m i l a r   l e v e l   o f   p e r f o r m a n c e   .\n",
            " Embedded chars. (after vectorization and embedding) :\n",
            " [[[ 0.00103297  0.02409265  0.04127543 ...  0.04038123  0.0362894\n",
            "    0.00532508]\n",
            "  [-0.03035563  0.01923693  0.00054065 ... -0.01868808 -0.01045972\n",
            "   -0.01360084]\n",
            "  [ 0.04035938  0.00890691  0.03018607 ...  0.00264982 -0.01284679\n",
            "   -0.00804849]\n",
            "  ...\n",
            "  [ 0.03026551  0.03709862  0.03611063 ...  0.03640194  0.04618958\n",
            "    0.04187285]\n",
            "  [ 0.03026551  0.03709862  0.03611063 ...  0.03640194  0.04618958\n",
            "    0.04187285]\n",
            "  [ 0.03026551  0.03709862  0.03611063 ...  0.03640194  0.04618958\n",
            "    0.04187285]]]\n",
            "Character embedding shape: (1, 290, 25)\n"
          ]
        }
      ],
      "source": [
        "# Test our character embedding layer\n",
        "print(f\"Charified text:\\n {random_train_chars}\")\n",
        "char_embed_example = char_embed(char_vectorizer([random_train_chars]))\n",
        "print(f\" Embedded chars. (after vectorization and embedding) :\\n {char_embed_example}\")\n",
        "print(f\"Character embedding shape: {char_embed_example.shape}\")"
      ]
    },
    {
      "cell_type": "code",
      "execution_count": null,
      "metadata": {
        "colab": {
          "base_uri": "https://localhost:8080/"
        },
        "id": "XCFdmLcxjIc3",
        "outputId": "a55e27cc-864f-4af7-dbe7-b05cd8eaf164"
      },
      "outputs": [
        {
          "output_type": "execute_result",
          "data": {
            "text/plain": [
              "179"
            ]
          },
          "metadata": {},
          "execution_count": 56
        }
      ],
      "source": [
        "len(random_train_chars)"
      ]
    },
    {
      "cell_type": "code",
      "execution_count": null,
      "metadata": {
        "id": "SeLxgph3ja6G"
      },
      "outputs": [],
      "source": [
        "# Check the image in notion and build a model like this"
      ]
    },
    {
      "cell_type": "markdown",
      "metadata": {
        "id": "teEXqDdP4nlB"
      },
      "source": [
        "### Building a Conv1D model to fit on character embeddings"
      ]
    },
    {
      "cell_type": "code",
      "execution_count": null,
      "metadata": {
        "id": "xHVsAen3xFhu"
      },
      "outputs": [],
      "source": [
        "# Create the model\n",
        "model_3 = tf.keras.Sequential([\n",
        "    tf.keras.layers.Input(shape=(1,), dtype=tf.string, name=\"input_layer\"),\n",
        "    char_vectorizer,\n",
        "    char_embed,\n",
        "    tf.keras.layers.Conv1D(64,kernel_size=5, padding=\"same\", activation=\"relu\"),\n",
        "    tf.keras.layers.GlobalMaxPool1D(),\n",
        "    tf.keras.layers.Dense(num_classes,activation=\"softmax\",name=\"output_layer\")\n",
        "], name=\"Conv1D_char_embed\")\n",
        "\n",
        "# Compile the model\n",
        "model_3.compile(loss=\"categorical_crossentropy\",\n",
        "                optimizer=tf.keras.optimizers.Adam(),\n",
        "                metrics=[\"accuracy\"])\n"
      ]
    },
    {
      "cell_type": "code",
      "execution_count": null,
      "metadata": {
        "colab": {
          "base_uri": "https://localhost:8080/"
        },
        "id": "dRk1fyLEe0Zg",
        "outputId": "9f8e52d3-04e2-4d44-bbd1-ba302619cc31"
      },
      "outputs": [
        {
          "output_type": "stream",
          "name": "stdout",
          "text": [
            "Model: \"Conv1D_char_embed\"\n",
            "_________________________________________________________________\n",
            " Layer (type)                Output Shape              Param #   \n",
            "=================================================================\n",
            " char_vectorizer (TextVector  (None, 290)              0         \n",
            " ization)                                                        \n",
            "                                                                 \n",
            " char_embed (Embedding)      (None, 290, 25)           700       \n",
            "                                                                 \n",
            " conv1d_1 (Conv1D)           (None, 290, 64)           8064      \n",
            "                                                                 \n",
            " global_max_pooling1d (Globa  (None, 64)               0         \n",
            " lMaxPooling1D)                                                  \n",
            "                                                                 \n",
            " output_layer (Dense)        (None, 5)                 325       \n",
            "                                                                 \n",
            "=================================================================\n",
            "Total params: 9,089\n",
            "Trainable params: 9,089\n",
            "Non-trainable params: 0\n",
            "_________________________________________________________________\n"
          ]
        }
      ],
      "source": [
        "model_3.summary()"
      ]
    },
    {
      "cell_type": "code",
      "execution_count": null,
      "metadata": {
        "colab": {
          "base_uri": "https://localhost:8080/"
        },
        "id": "3SocLQkqfLE7",
        "outputId": "4b607214-0432-48bf-dfcd-4c289603bf53"
      },
      "outputs": [
        {
          "output_type": "execute_result",
          "data": {
            "text/plain": [
              "<PrefetchDataset element_spec=(TensorSpec(shape=(None,), dtype=tf.string, name=None), TensorSpec(shape=(None, 5), dtype=tf.float64, name=None))>"
            ]
          },
          "metadata": {},
          "execution_count": 59
        }
      ],
      "source": [
        "# Create char level datasets\n",
        "train_char_dataset = tf.data.Dataset.from_tensor_slices((train_chars, train_labels_one_hot)).batch(32).prefetch(tf.data.AUTOTUNE)\n",
        "val_char_dataset = tf.data.Dataset.from_tensor_slices((val_chars, val_labels_one_hot)).batch(32).prefetch(tf.data.AUTOTUNE)\n",
        "test_char_dataset = tf.data.Dataset.from_tensor_slices((test_chars, test_labels_one_hot)).batch(32).prefetch(tf.data.AUTOTUNE)\n",
        "\n",
        "train_char_dataset"
      ]
    },
    {
      "cell_type": "code",
      "execution_count": null,
      "metadata": {
        "id": "-U0zDnuN303C"
      },
      "outputs": [],
      "source": [
        "# Fit the model\n",
        "history_model_3 = model_3.fit(train_char_dataset,\n",
        "                             steps_per_epoch=int(0.1*len(train_char_dataset)),\n",
        "                             epochs=3,\n",
        "                             validation_data=val_char_dataset,\n",
        "                             validation_steps=int(0.1*len(val_char_dataset)),\n",
        "                             callbacks=[helper_functions.create_tensorboard_callback(dir_name=\"tensorboard\",\n",
        "                                                                                     experiment_name=\"model_3_conv1D_embed_char\")])"
      ]
    },
    {
      "cell_type": "code",
      "execution_count": null,
      "metadata": {
        "id": "huc1Td_738iv"
      },
      "outputs": [],
      "source": [
        "# Make prediction with character model only\n",
        "model_3_pred_probs = model_3.predict(val_char_dataset)"
      ]
    },
    {
      "cell_type": "code",
      "execution_count": null,
      "metadata": {
        "id": "LyZMZdVFkeR_"
      },
      "outputs": [],
      "source": [
        "# Convert preddiction probabilies to class labels\n",
        "model_3_preds = tf.argmax(model_3_pred_probs, axis=1)\n",
        "model_3_preds"
      ]
    },
    {
      "cell_type": "code",
      "execution_count": null,
      "metadata": {
        "id": "Svjqst89ki3j"
      },
      "outputs": [],
      "source": [
        "model_3_results = calculate_results(y_true=train_labels_encoded, y_pred=model_3_preds)\n",
        "model_3_results"
      ]
    },
    {
      "cell_type": "markdown",
      "metadata": {
        "id": "Xf1WpNwfMSny"
      },
      "source": [
        "## Model 4: Combining pretrained token embedding + characters embedding (hybrid embedding)\n",
        "\n",
        "1. Create a token-level embedding model (similar `model_1`).\n",
        "2. Create a character-level model (similar to `model_3` with a slight modification)\n",
        "3. Combine 1 & 3 with a concatenate (`layers.Concatenate`).\n",
        "4. Build a series of output layers on top of 3 similar to Figure 1 and section 4.2(Training) of the paper https://arxiv.org/pdf/1612.05251.pdf.\n",
        "5. Construct a model which takes token and character-level sequences as input and produces sequence label probabilities as output."
      ]
    },
    {
      "cell_type": "code",
      "execution_count": null,
      "metadata": {
        "id": "ByZTymWfkCZZ",
        "colab": {
          "base_uri": "https://localhost:8080/"
        },
        "outputId": "00efcc90-3293-4282-a313-b8cff59d3998"
      },
      "outputs": [
        {
          "output_type": "stream",
          "name": "stderr",
          "text": [
            "WARNING:tensorflow:From /usr/local/lib/python3.8/dist-packages/tensorflow/python/autograph/pyct/static_analysis/liveness.py:83: Analyzer.lamba_check (from tensorflow.python.autograph.pyct.static_analysis.liveness) is deprecated and will be removed after 2023-09-23.\n",
            "Instructions for updating:\n",
            "Lambda fuctions will be no more assumed to be used in the statement where they are used, or at least in the same block. https://github.com/tensorflow/tensorflow/issues/56089\n"
          ]
        }
      ],
      "source": [
        "# 1. Setup token inputs/model\n",
        "token_model = tf.keras.Sequential([\n",
        "    tf.keras.layers.Input(shape=[], dtype=tf.string, name=\"token_input\"),\n",
        "    tf_hub_embedding_layer,\n",
        "    tf.keras.layers.Dense(128, activation=\"relu\", name=\"output_layer\")\n",
        "], name=\"token_model\")\n",
        "\n",
        "# 2. Setup char inputs/model\n",
        "char_model = tf.keras.Sequential([\n",
        "    tf.keras.layers.Input(shape=(1,), dtype=tf.string, name=\"char_input\"),\n",
        "    char_vectorizer,\n",
        "    char_embed,\n",
        "    tf.keras.layers.Bidirectional(tf.keras.layers.LSTM(24), name=\"bi_lstm_output_layer\")\n",
        "], name=\"char_model\")\n",
        "\n",
        "# 3. Concatenate token and char inputs (create hybrid token embedding)\n",
        "token_char_concat = tf.keras.layers.Concatenate(name=\"token_char_hybrid\")([token_model.output,\n",
        "                                                                    char_model.output])\n",
        "# 4. Create output layers - adding in Dropout, discussed in section 4.2\n",
        "combined_dropout = tf.keras.layers.Dropout(0.5)(token_char_concat)\n",
        "combined_dense = tf.keras.layers.Dense(128, activation=\"relu\")(combined_dropout)\n",
        "final_dropout = tf.keras.layers.Dropout(0.5)(combined_dense)\n",
        "output_layer = tf.keras.layers.Dense(num_classes, activation=\"sigmoid\")(final_dropout)\n",
        "\n",
        "# output_layer = tf.keras.Sequential([\n",
        "#     tf.keras.layers.Dropout(0.5)(token_char_concat), # combined_dropout\n",
        "#     tf.keras.layers.Dense(128, activation=\"relu\"),   # combined_dense\n",
        "#     tf.keras.layers.Dropout(0.5),                   # final_dropout\n",
        "#     tf.keras.layers.Dense(num_classes, activation=\"sigmoid\")\n",
        "# ])\n",
        "\n",
        "# 5. Construct model with char and token inputs\n",
        "model_4 = tf.keras.Model(inputs=[token_model.input, char_model.input],\n",
        "                         outputs=output_layer,\n",
        "                         name=\"model_4_token_and_char_embeddings\")"
      ]
    },
    {
      "cell_type": "code",
      "execution_count": null,
      "metadata": {
        "colab": {
          "base_uri": "https://localhost:8080/"
        },
        "id": "Cbj3J2yWa6cp",
        "outputId": "3f0e71ee-30d5-4cc6-bec1-c297636e5576"
      },
      "outputs": [
        {
          "output_type": "stream",
          "name": "stdout",
          "text": [
            "Model: \"model_4_token_and_char_embeddings\"\n",
            "__________________________________________________________________________________________________\n",
            " Layer (type)                   Output Shape         Param #     Connected to                     \n",
            "==================================================================================================\n",
            " char_input (InputLayer)        [(None, 1)]          0           []                               \n",
            "                                                                                                  \n",
            " token_input (InputLayer)       [(None,)]            0           []                               \n",
            "                                                                                                  \n",
            " char_vectorizer (TextVectoriza  (None, 290)         0           ['char_input[0][0]']             \n",
            " tion)                                                                                            \n",
            "                                                                                                  \n",
            " universal_sentence_encoder (Ke  (None, 512)         256797824   ['token_input[0][0]']            \n",
            " rasLayer)                                                                                        \n",
            "                                                                                                  \n",
            " char_embed (Embedding)         (None, 290, 25)      700         ['char_vectorizer[1][0]']        \n",
            "                                                                                                  \n",
            " output_layer (Dense)           (None, 128)          65664       ['universal_sentence_encoder[0][0\n",
            "                                                                 ]']                              \n",
            "                                                                                                  \n",
            " bi_lstm_output_layer (Bidirect  (None, 48)          9600        ['char_embed[1][0]']             \n",
            " ional)                                                                                           \n",
            "                                                                                                  \n",
            " token_char_hybrid (Concatenate  (None, 176)         0           ['output_layer[0][0]',           \n",
            " )                                                                'bi_lstm_output_layer[0][0]']   \n",
            "                                                                                                  \n",
            " dropout (Dropout)              (None, 176)          0           ['token_char_hybrid[0][0]']      \n",
            "                                                                                                  \n",
            " dense_2 (Dense)                (None, 128)          22656       ['dropout[0][0]']                \n",
            "                                                                                                  \n",
            " dropout_1 (Dropout)            (None, 128)          0           ['dense_2[0][0]']                \n",
            "                                                                                                  \n",
            " dense_3 (Dense)                (None, 5)            645         ['dropout_1[0][0]']              \n",
            "                                                                                                  \n",
            "==================================================================================================\n",
            "Total params: 256,897,089\n",
            "Trainable params: 99,265\n",
            "Non-trainable params: 256,797,824\n",
            "__________________________________________________________________________________________________\n"
          ]
        }
      ],
      "source": [
        "model_4.summary()"
      ]
    },
    {
      "cell_type": "code",
      "execution_count": null,
      "metadata": {
        "colab": {
          "base_uri": "https://localhost:8080/",
          "height": 976
        },
        "id": "KVxIyt2abG8L",
        "outputId": "205396d2-b411-485b-cd2f-d5fce75b628e"
      },
      "outputs": [
        {
          "output_type": "execute_result",
          "data": {
            "image/png": "[encoded data removed]",
            "text/plain": [
              "<IPython.core.display.Image object>"
            ]
          },
          "metadata": {},
          "execution_count": 62
        }
      ],
      "source": [
        "# Plot hybrid token and charcter model\n",
        "from keras.utils import plot_model\n",
        "plot_model(model_4, show_shapes=True)"
      ]
    },
    {
      "cell_type": "code",
      "execution_count": null,
      "metadata": {
        "id": "iyJa7stZVCkb"
      },
      "outputs": [],
      "source": [
        " # Compile token char model\n",
        " model_4.compile(loss=\"categorical_crossentropy\",\n",
        "                 optimizer=tf.keras.optimizers.Adam(), # section 4.2 of the paper says use SGD\n",
        "                 metrics=[\"accuracy\"])"
      ]
    },
    {
      "cell_type": "markdown",
      "metadata": {
        "id": "98t0AersbyAq"
      },
      "source": [
        "### Combining and characer data into a tf.data Dataset"
      ]
    },
    {
      "cell_type": "code",
      "execution_count": null,
      "metadata": {
        "id": "oj5cvALSWmVa"
      },
      "outputs": [],
      "source": [
        "# Combine chars and tokens into a dataset\n",
        "train_char_token_data = tf.data.Dataset.from_tensor_slices((train_sentences, train_chars)) # make data\n",
        "train_char_token_labels = tf.data.Dataset.from_tensor_slices(train_labels_one_hot) # make labels\n",
        "train_char_token_dataset = tf.data.Dataset.zip((train_char_token_data, train_char_token_labels)) # combine data with labels\n",
        "\n",
        "# Prefetch and batch train data\n",
        "train_char_token_dataset = train_char_token_dataset.batch(32).prefetch(tf.data.AUTOTUNE)\n"
      ]
    },
    {
      "cell_type": "code",
      "execution_count": null,
      "metadata": {
        "id": "j72ggNOMeIcS"
      },
      "outputs": [],
      "source": [
        "# Repeat the above steps for our validation data\n",
        "val_char_token_data = tf.data.Dataset.from_tensor_slices((val_sentences, val_chars)) # make data\n",
        "val_char_token_labels = tf.data.Dataset.from_tensor_slices(val_labels_one_hot) # make labels\n",
        "val_char_token_dataset = tf.data.Dataset.zip((val_char_token_data, val_char_token_labels)) # combine data with labels\n",
        "\n",
        "# Prefetch and batch train data\n",
        "val_char_token_dataset = val_char_token_dataset.batch(32).prefetch(tf.data.AUTOTUNE)\n"
      ]
    },
    {
      "cell_type": "code",
      "execution_count": null,
      "metadata": {
        "colab": {
          "base_uri": "https://localhost:8080/"
        },
        "id": "iWAO9vGPenCo",
        "outputId": "f8e27ce2-99b2-4f88-8a32-051c35a7e11e"
      },
      "outputs": [
        {
          "output_type": "execute_result",
          "data": {
            "text/plain": [
              "<PrefetchDataset element_spec=((TensorSpec(shape=(None,), dtype=tf.string, name=None), TensorSpec(shape=(None,), dtype=tf.string, name=None)), TensorSpec(shape=(None, 5), dtype=tf.float64, name=None))>"
            ]
          },
          "metadata": {},
          "execution_count": 66
        }
      ],
      "source": [
        "train_char_token_dataset"
      ]
    },
    {
      "cell_type": "code",
      "execution_count": null,
      "metadata": {
        "colab": {
          "base_uri": "https://localhost:8080/"
        },
        "id": "U_xkeXVLfReo",
        "outputId": "79dd5a5a-bb1d-4c4c-bcb3-2b1da62bd5e2"
      },
      "outputs": [
        {
          "output_type": "execute_result",
          "data": {
            "text/plain": [
              "<PrefetchDataset element_spec=((TensorSpec(shape=(None,), dtype=tf.string, name=None), TensorSpec(shape=(None,), dtype=tf.string, name=None)), TensorSpec(shape=(None, 5), dtype=tf.float64, name=None))>"
            ]
          },
          "metadata": {},
          "execution_count": 67
        }
      ],
      "source": [
        " val_char_token_dataset"
      ]
    },
    {
      "cell_type": "markdown",
      "metadata": {
        "id": "6m79TMm9gT8E"
      },
      "source": [
        "### Fitting a model on token and character-level sequences"
      ]
    },
    {
      "cell_type": "code",
      "execution_count": null,
      "metadata": {
        "id": "NHvLk9jrfYMj"
      },
      "outputs": [],
      "source": [
        "# Fit the model on tokens and chars\n",
        "history_model_4 = model_4.fit(train_char_token_dataset,\n",
        "                              steps_per_epoch=int(0.1*len(train_char_token_dataset)),\n",
        "                              epochs=3,\n",
        "                              validation_data=val_char_token_dataset,\n",
        "                              validation_steps=int(0.1*len(val_char_token_dataset)),\n",
        "                              callbacks=[helper_functions.create_tensorboard_callback(dir_name=\"tensorboard\",\n",
        "                                                                                      experiment_name=\"model_4\")])"
      ]
    },
    {
      "cell_type": "code",
      "execution_count": null,
      "metadata": {
        "id": "35z-iTA4gLR4"
      },
      "outputs": [],
      "source": [
        "# Evaluate one the whole validation dataset\n",
        "model_4.evaluate(val_char_token_dataset)"
      ]
    },
    {
      "cell_type": "code",
      "execution_count": null,
      "metadata": {
        "id": "D6XCih9Ejk37"
      },
      "outputs": [],
      "source": [
        "# Make predictions using the token-character model hybrid\n",
        "model_4_pred_probs = model_4.predict(val_char_token_dataset)\n",
        "# Format pred probs into pred labels \n",
        "model_4_preds = tf.argmax(model_4_pred_probs, axis=1)\n",
        "model_4_preds[:5]"
      ]
    },
    {
      "cell_type": "code",
      "execution_count": null,
      "metadata": {
        "id": "_ivRx7QGxP-J"
      },
      "outputs": [],
      "source": [
        "# get results of token-char-hybrid model\n",
        "model_4_results = calculate_results(y_true=val_labels_encoded, y_pred=model_4_preds)\n",
        "model_4_results"
      ]
    },
    {
      "cell_type": "code",
      "execution_count": null,
      "metadata": {
        "id": "gMRufxr803rB"
      },
      "outputs": [],
      "source": [
        "# Get results of token-char-hybrid model\n"
      ]
    },
    {
      "cell_type": "markdown",
      "metadata": {
        "id": "AHBp-Y32kNo3"
      },
      "source": [
        "## Model 5 : Transfer learning with pretrained token embeddings + character embeddings + positional embeddings"
      ]
    },
    {
      "cell_type": "code",
      "execution_count": null,
      "metadata": {
        "colab": {
          "base_uri": "https://localhost:8080/",
          "height": 206
        },
        "id": "3rXwfV_mC5lw",
        "outputId": "7d6b6f38-ed08-4dbf-e344-ed147c5a5136"
      },
      "outputs": [
        {
          "output_type": "execute_result",
          "data": {
            "text/plain": [
              "      target                                               text  line_number  \\\n",
              "0  OBJECTIVE  to investigate the efficacy of @ weeks of dail...            0   \n",
              "1    METHODS  a total of @ patients with primary knee oa wer...            1   \n",
              "2    METHODS  outcome measures included pain reduction and i...            2   \n",
              "3    METHODS  pain was assessed using the visual analog pain...            3   \n",
              "4    METHODS  secondary outcome measures included the wester...            4   \n",
              "\n",
              "   total_lines  \n",
              "0           11  \n",
              "1           11  \n",
              "2           11  \n",
              "3           11  \n",
              "4           11  "
            ],
            "text/html": [
              "\n",
              "  <div id=\"df-31aea04e-1dae-475d-a725-f7fe14bc9959\">\n",
              "    <div class=\"colab-df-container\">\n",
              "      <div>\n",
              "<style scoped>\n",
              "    .dataframe tbody tr th:only-of-type {\n",
              "        vertical-align: middle;\n",
              "    }\n",
              "\n",
              "    .dataframe tbody tr th {\n",
              "        vertical-align: top;\n",
              "    }\n",
              "\n",
              "    .dataframe thead th {\n",
              "        text-align: right;\n",
              "    }\n",
              "</style>\n",
              "<table border=\"1\" class=\"dataframe\">\n",
              "  <thead>\n",
              "    <tr style=\"text-align: right;\">\n",
              "      <th></th>\n",
              "      <th>target</th>\n",
              "      <th>text</th>\n",
              "      <th>line_number</th>\n",
              "      <th>total_lines</th>\n",
              "    </tr>\n",
              "  </thead>\n",
              "  <tbody>\n",
              "    <tr>\n",
              "      <th>0</th>\n",
              "      <td>OBJECTIVE</td>\n",
              "      <td>to investigate the efficacy of @ weeks of dail...</td>\n",
              "      <td>0</td>\n",
              "      <td>11</td>\n",
              "    </tr>\n",
              "    <tr>\n",
              "      <th>1</th>\n",
              "      <td>METHODS</td>\n",
              "      <td>a total of @ patients with primary knee oa wer...</td>\n",
              "      <td>1</td>\n",
              "      <td>11</td>\n",
              "    </tr>\n",
              "    <tr>\n",
              "      <th>2</th>\n",
              "      <td>METHODS</td>\n",
              "      <td>outcome measures included pain reduction and i...</td>\n",
              "      <td>2</td>\n",
              "      <td>11</td>\n",
              "    </tr>\n",
              "    <tr>\n",
              "      <th>3</th>\n",
              "      <td>METHODS</td>\n",
              "      <td>pain was assessed using the visual analog pain...</td>\n",
              "      <td>3</td>\n",
              "      <td>11</td>\n",
              "    </tr>\n",
              "    <tr>\n",
              "      <th>4</th>\n",
              "      <td>METHODS</td>\n",
              "      <td>secondary outcome measures included the wester...</td>\n",
              "      <td>4</td>\n",
              "      <td>11</td>\n",
              "    </tr>\n",
              "  </tbody>\n",
              "</table>\n",
              "</div>\n",
              "      <button class=\"colab-df-convert\" onclick=\"convertToInteractive('df-31aea04e-1dae-475d-a725-f7fe14bc9959')\"\n",
              "              title=\"Convert this dataframe to an interactive table.\"\n",
              "              style=\"display:none;\">\n",
              "        \n",
              "  <svg xmlns=\"http://www.w3.org/2000/svg\" height=\"24px\"viewBox=\"0 0 24 24\"\n",
              "       width=\"24px\">\n",
              "    <path d=\"M0 0h24v24H0V0z\" fill=\"none\"/>\n",
              "    <path d=\"M18.56 5.44l.94 2.06.94-2.06 2.06-.94-2.06-.94-.94-2.06-.94 2.06-2.06.94zm-11 1L8.5 8.5l.94-2.06 2.06-.94-2.06-.94L8.5 2.5l-.94 2.06-2.06.94zm10 10l.94 2.06.94-2.06 2.06-.94-2.06-.94-.94-2.06-.94 2.06-2.06.94z\"/><path d=\"M17.41 7.96l-1.37-1.37c-.4-.4-.92-.59-1.43-.59-.52 0-1.04.2-1.43.59L10.3 9.45l-7.72 7.72c-.78.78-.78 2.05 0 2.83L4 21.41c.39.39.9.59 1.41.59.51 0 1.02-.2 1.41-.59l7.78-7.78 2.81-2.81c.8-.78.8-2.07 0-2.86zM5.41 20L4 18.59l7.72-7.72 1.47 1.35L5.41 20z\"/>\n",
              "  </svg>\n",
              "      </button>\n",
              "      \n",
              "  <style>\n",
              "    .colab-df-container {\n",
              "      display:flex;\n",
              "      flex-wrap:wrap;\n",
              "      gap: 12px;\n",
              "    }\n",
              "\n",
              "    .colab-df-convert {\n",
              "      background-color: #E8F0FE;\n",
              "      border: none;\n",
              "      border-radius: 50%;\n",
              "      cursor: pointer;\n",
              "      display: none;\n",
              "      fill: #1967D2;\n",
              "      height: 32px;\n",
              "      padding: 0 0 0 0;\n",
              "      width: 32px;\n",
              "    }\n",
              "\n",
              "    .colab-df-convert:hover {\n",
              "      background-color: #E2EBFA;\n",
              "      box-shadow: 0px 1px 2px rgba(60, 64, 67, 0.3), 0px 1px 3px 1px rgba(60, 64, 67, 0.15);\n",
              "      fill: #174EA6;\n",
              "    }\n",
              "\n",
              "    [theme=dark] .colab-df-convert {\n",
              "      background-color: #3B4455;\n",
              "      fill: #D2E3FC;\n",
              "    }\n",
              "\n",
              "    [theme=dark] .colab-df-convert:hover {\n",
              "      background-color: #434B5C;\n",
              "      box-shadow: 0px 1px 3px 1px rgba(0, 0, 0, 0.15);\n",
              "      filter: drop-shadow(0px 1px 2px rgba(0, 0, 0, 0.3));\n",
              "      fill: #FFFFFF;\n",
              "    }\n",
              "  </style>\n",
              "\n",
              "      <script>\n",
              "        const buttonEl =\n",
              "          document.querySelector('#df-31aea04e-1dae-475d-a725-f7fe14bc9959 button.colab-df-convert');\n",
              "        buttonEl.style.display =\n",
              "          google.colab.kernel.accessAllowed ? 'block' : 'none';\n",
              "\n",
              "        async function convertToInteractive(key) {\n",
              "          const element = document.querySelector('#df-31aea04e-1dae-475d-a725-f7fe14bc9959');\n",
              "          const dataTable =\n",
              "            await google.colab.kernel.invokeFunction('convertToInteractive',\n",
              "                                                     [key], {});\n",
              "          if (!dataTable) return;\n",
              "\n",
              "          const docLinkHtml = 'Like what you see? Visit the ' +\n",
              "            '<a target=\"_blank\" href=https://colab.research.google.com/notebooks/data_table.ipynb>data table notebook</a>'\n",
              "            + ' to learn more about interactive tables.';\n",
              "          element.innerHTML = '';\n",
              "          dataTable['output_type'] = 'display_data';\n",
              "          await google.colab.output.renderOutput(dataTable, element);\n",
              "          const docLink = document.createElement('div');\n",
              "          docLink.innerHTML = docLinkHtml;\n",
              "          element.appendChild(docLink);\n",
              "        }\n",
              "      </script>\n",
              "    </div>\n",
              "  </div>\n",
              "  "
            ]
          },
          "metadata": {},
          "execution_count": 68
        }
      ],
      "source": [
        "train_df.head()"
      ]
    },
    {
      "cell_type": "markdown",
      "metadata": {
        "id": "EdwEG04HiGX7"
      },
      "source": [
        "> **Note:** Any engineered features used to train a model need to be available at test time. In our case, line numbers and total lines are available."
      ]
    },
    {
      "cell_type": "markdown",
      "metadata": {
        "id": "xcPHwkzOqWkS"
      },
      "source": [
        " ### Create positional embeddings\n"
      ]
    },
    {
      "cell_type": "code",
      "execution_count": null,
      "metadata": {
        "colab": {
          "base_uri": "https://localhost:8080/"
        },
        "id": "2PwkeKT0iFxE",
        "outputId": "7774d45f-b309-4baa-bbc1-7cf56a9a5366"
      },
      "outputs": [
        {
          "output_type": "execute_result",
          "data": {
            "text/plain": [
              "0     15000\n",
              "1     15000\n",
              "2     15000\n",
              "3     15000\n",
              "4     14992\n",
              "5     14949\n",
              "6     14758\n",
              "7     14279\n",
              "8     13346\n",
              "9     11981\n",
              "10    10041\n",
              "11     7892\n",
              "12     5853\n",
              "13     4152\n",
              "14     2835\n",
              "15     1861\n",
              "16     1188\n",
              "17      751\n",
              "18      462\n",
              "19      286\n",
              "20      162\n",
              "21      101\n",
              "22       66\n",
              "23       33\n",
              "24       22\n",
              "25       14\n",
              "26        7\n",
              "27        4\n",
              "28        3\n",
              "29        1\n",
              "30        1\n",
              "Name: line_number, dtype: int64"
            ]
          },
          "metadata": {},
          "execution_count": 69
        }
      ],
      "source": [
        "# How many different line numbers are there?\n",
        "train_df[\"line_number\"].value_counts()"
      ]
    },
    {
      "cell_type": "code",
      "execution_count": null,
      "metadata": {
        "colab": {
          "base_uri": "https://localhost:8080/",
          "height": 282
        },
        "id": "US9xnLWJsYYb",
        "outputId": "6d20a374-85ff-4709-a176-c188b0f3cc20"
      },
      "outputs": [
        {
          "output_type": "execute_result",
          "data": {
            "text/plain": [
              "<AxesSubplot:ylabel='Frequency'>"
            ]
          },
          "metadata": {},
          "execution_count": 70
        },
        {
          "output_type": "display_data",
          "data": {
            "text/plain": [
              "<Figure size 432x288 with 1 Axes>"
            ],
            "image/png": "[encoded data removed]"
          },
          "metadata": {
            "needs_background": "light"
          }
        }
      ],
      "source": [
        "# Check the distribution of \"line_number\" column\n",
        "train_df.line_number.plot.hist()"
      ]
    },
    {
      "cell_type": "code",
      "execution_count": null,
      "metadata": {
        "colab": {
          "base_uri": "https://localhost:8080/"
        },
        "id": "_ujLRwYHskSc",
        "outputId": "20015ad4-5d26-4f69-d9a8-fdb4b344fc3c"
      },
      "outputs": [
        {
          "output_type": "execute_result",
          "data": {
            "text/plain": [
              "(<tf.Tensor: shape=(15,), dtype=float32, numpy=\n",
              " array([0., 1., 0., 0., 0., 0., 0., 0., 0., 0., 0., 0., 0., 0., 0.],\n",
              "       dtype=float32)>, TensorShape([180040, 15]))"
            ]
          },
          "metadata": {},
          "execution_count": 71
        }
      ],
      "source": [
        "# Use TensorFlow to create one-hot-encoded tensors of our \"line_number\" column\n",
        "train_line_numbers_one_hot = tf.one_hot(train_df[\"line_number\"].to_numpy(), depth=15)\n",
        "val_line_numbers_one_hot = tf.one_hot(val_df[\"line_number\"].to_numpy(), depth=15)\n",
        "test_line_numbers_one_hot = tf.one_hot(test_df[\"line_number\"].to_numpy(), depth=15)\n",
        "\n",
        "\n",
        "train_line_numbers_one_hot[1], train_line_numbers_one_hot.shape"
      ]
    },
    {
      "cell_type": "markdown",
      "metadata": {
        "id": "hXQvOpUIXpYp"
      },
      "source": [
        "Now w've encoded our line numbers feature, let's do the same for our total lines feature..."
      ]
    },
    {
      "cell_type": "code",
      "execution_count": null,
      "metadata": {
        "colab": {
          "base_uri": "https://localhost:8080/"
        },
        "id": "WCD60TljO-j8",
        "outputId": "8fa21bd2-bb00-4903-cb9e-3509a768fe46"
      },
      "outputs": [
        {
          "output_type": "execute_result",
          "data": {
            "text/plain": [
              "11    24468\n",
              "10    23639\n",
              "12    22113\n",
              "9     19400\n",
              "13    18438\n",
              "14    14610\n",
              "8     12285\n",
              "15    10768\n",
              "7      7464\n",
              "16     7429\n",
              "17     5202\n",
              "6      3353\n",
              "18     3344\n",
              "19     2480\n",
              "20     1281\n",
              "5      1146\n",
              "21      770\n",
              "22      759\n",
              "23      264\n",
              "4       215\n",
              "24      200\n",
              "25      182\n",
              "26       81\n",
              "28       58\n",
              "3        32\n",
              "30       31\n",
              "27       28\n",
              "Name: total_lines, dtype: int64"
            ]
          },
          "metadata": {},
          "execution_count": 72
        }
      ],
      "source": [
        "# How many different numbers of lines are there ?\n",
        "train_df[\"total_lines\"].value_counts()"
      ]
    },
    {
      "cell_type": "markdown",
      "metadata": {
        "id": "j21tppxuYNSz"
      },
      "source": [
        "## Check the distributions of total lines"
      ]
    },
    {
      "cell_type": "code",
      "execution_count": null,
      "metadata": {
        "colab": {
          "base_uri": "https://localhost:8080/",
          "height": 267
        },
        "id": "VPXC_z3yO-fx",
        "outputId": "a1d73c4e-4c1a-43a8-83a5-72a0fc1c1990"
      },
      "outputs": [
        {
          "output_type": "display_data",
          "data": {
            "text/plain": [
              "<Figure size 432x288 with 1 Axes>"
            ],
            "image/png": "[encoded data removed]"
          },
          "metadata": {
            "needs_background": "light"
          }
        }
      ],
      "source": [
        "# Check the distributions of total lines\n",
        "train_df.total_lines.plot.hist();"
      ]
    },
    {
      "cell_type": "code",
      "execution_count": null,
      "metadata": {
        "colab": {
          "base_uri": "https://localhost:8080/"
        },
        "id": "yMYAmYT3Y1FI",
        "outputId": "d73adedf-6f24-4de4-e786-e32e3d67eb63"
      },
      "outputs": [
        {
          "output_type": "execute_result",
          "data": {
            "text/plain": [
              "20.0"
            ]
          },
          "metadata": {},
          "execution_count": 74
        }
      ],
      "source": [
        "# Check the converage of a \"total_lines\" value of 20\n",
        "np.percentile(train_df.total_lines, 98)"
      ]
    },
    {
      "cell_type": "code",
      "execution_count": null,
      "metadata": {
        "colab": {
          "base_uri": "https://localhost:8080/"
        },
        "id": "gFUlg3CzZQG9",
        "outputId": "53df8571-81ae-443a-e252-a15985503b57"
      },
      "outputs": [
        {
          "output_type": "execute_result",
          "data": {
            "text/plain": [
              "(TensorShape([180040, 20]), <tf.Tensor: shape=(10, 20), dtype=float32, numpy=\n",
              " array([[0., 0., 0., 0., 0., 0., 0., 0., 0., 0., 0., 1., 0., 0., 0., 0.,\n",
              "         0., 0., 0., 0.],\n",
              "        [0., 0., 0., 0., 0., 0., 0., 0., 0., 0., 0., 1., 0., 0., 0., 0.,\n",
              "         0., 0., 0., 0.],\n",
              "        [0., 0., 0., 0., 0., 0., 0., 0., 0., 0., 0., 1., 0., 0., 0., 0.,\n",
              "         0., 0., 0., 0.],\n",
              "        [0., 0., 0., 0., 0., 0., 0., 0., 0., 0., 0., 1., 0., 0., 0., 0.,\n",
              "         0., 0., 0., 0.],\n",
              "        [0., 0., 0., 0., 0., 0., 0., 0., 0., 0., 0., 1., 0., 0., 0., 0.,\n",
              "         0., 0., 0., 0.],\n",
              "        [0., 0., 0., 0., 0., 0., 0., 0., 0., 0., 0., 1., 0., 0., 0., 0.,\n",
              "         0., 0., 0., 0.],\n",
              "        [0., 0., 0., 0., 0., 0., 0., 0., 0., 0., 0., 1., 0., 0., 0., 0.,\n",
              "         0., 0., 0., 0.],\n",
              "        [0., 0., 0., 0., 0., 0., 0., 0., 0., 0., 0., 1., 0., 0., 0., 0.,\n",
              "         0., 0., 0., 0.],\n",
              "        [0., 0., 0., 0., 0., 0., 0., 0., 0., 0., 0., 1., 0., 0., 0., 0.,\n",
              "         0., 0., 0., 0.],\n",
              "        [0., 0., 0., 0., 0., 0., 0., 0., 0., 0., 0., 1., 0., 0., 0., 0.,\n",
              "         0., 0., 0., 0.]], dtype=float32)>)"
            ]
          },
          "metadata": {},
          "execution_count": 75
        }
      ],
      "source": [
        "# Use tensorflow to create one hot encoded tensors of our \"total_lines\" features\n",
        "train_total_lines_one_hot = tf.one_hot(train_df[\"total_lines\"].to_numpy(), depth=20)\n",
        "val_total_lines_one_hot = tf.one_hot(val_df[\"total_lines\"].to_numpy(), depth=20)\n",
        "test_total_lines_one_hot = tf.one_hot(test_df[\"total_lines\"].to_numpy(), depth=20)\n",
        "train_total_lines_one_hot.shape, train_total_lines_one_hot[:10]"
      ]
    },
    {
      "cell_type": "markdown",
      "metadata": {
        "id": "BkHSf3fhXxp0"
      },
      "source": [
        "### Building a tribrid embedding model\n",
        "\n",
        "1. Create a token-level model\n",
        "2. Create a character-level model\n",
        "3. Create a model for the \"line_number\" feature\n",
        "4. Create a model for the \"total_lines\" feature\n",
        "5. Combine the outputs of 1 & 2 using tf.keras.layers.Concatenate\n",
        "6. Combine the outputs of 3, 4, 5 using tf.keras.layers.Concatenate\n",
        "7. Create an output layer to accept the tribried embedding and output label probabilities\n",
        "8. Combine the inputs of 1, 2, 3, 4 and outputs of into a tf.keras.Model."
      ]
    },
    {
      "cell_type": "code",
      "execution_count": null,
      "metadata": {
        "id": "6VwUVMJoZoGY"
      },
      "outputs": [],
      "source": [
        "# 1. Token inputs\n",
        "token_model = tf.keras.Sequential([\n",
        "    tf.keras.layers.Input(shape=[], dtype=tf.string, name=\"token_inputs\"),\n",
        "    tf_hub_embedding_layer,\n",
        "    tf.keras.layers.Dense(128, activation=\"relu\"),\n",
        "], name=\"token_model\")\n",
        "\n",
        "# 2. Char inputs\n",
        "char_model = tf.keras.Sequential([\n",
        "    tf.keras.layers.Input(shape=(1, ), dtype=tf.string, name=\"char_inputs\"),\n",
        "    char_vectorizer,\n",
        "    char_embed,\n",
        "    tf.keras.layers.Bidirectional(tf.keras.layers.LSTM(24), name=\"bi_lstm_output\")\n",
        "], name=\"char_model\")\n",
        "    \n",
        "# 3. Line numbers model\n",
        "line_number_model = tf.keras.Sequential([\n",
        "    tf.keras.layers.Input(shape=(15,), dtype=tf.float32, name=\"input_line_numbers\"),\n",
        "    tf.keras.layers.Dense(32, activation=\"relu\")    \n",
        "],name=\"line_number_model\")\n",
        "\n",
        "# 4. Total lines model\n",
        "total_line_model = tf.keras.Sequential([\n",
        "    tf.keras.layers.Input(shape=(20,), dtype=tf.float32, name=\"input_total_line_numbers\"),\n",
        "    tf.keras.layers.Dense(32, activation=\"relu\")    \n",
        "],name=\"total_line_model\")\n",
        "\n",
        "# 5. Combine token and cher embeddings into a hybrid embedding\n",
        "combined_embeddings = tf.keras.layers.Concatenate(name=\"char_token_hybrid_embedding\")([token_model.output,\n",
        "                                                                                       char_model.output])\n",
        "z = tf.keras.layers.Dense(256, activation=\"relu\")(combined_embeddings)\n",
        "z = tf.keras.layers.Dropout(0.5)(z)\n",
        "\n",
        "# 6. Combine positional embedding with combined token and char embeddings \n",
        "tribrid_embeddings = tf.keras.layers.Concatenate(name=\"char_token_positional_embedding\")([line_number_model.output,\n",
        "                                                                                       total_line_model.output,\n",
        "                                                                                       combined_embeddings])\n",
        "# 7. Create output layer\n",
        "output_layer = tf.keras.layers.Dense(5, activation=\"softmax\", name=\"output_layer\")(tribrid_embeddings)\n",
        "\n",
        "# 8. Put together model with all kinds of inputs\n",
        "model_5 = tf.keras.Model(inputs=[line_number_model.input,\n",
        "                                 total_line_model.input,\n",
        "                                 token_model.input,\n",
        "                                 char_model.input], outputs =output_layer, name=\"tribrid_embedding_model\")"
      ]
    },
    {
      "cell_type": "code",
      "execution_count": null,
      "metadata": {
        "colab": {
          "base_uri": "https://localhost:8080/"
        },
        "id": "ywp25jlhJP11",
        "outputId": "b30f6f8d-782b-4db8-dd66-23bf56e5e41b"
      },
      "outputs": [
        {
          "output_type": "stream",
          "name": "stdout",
          "text": [
            "Model: \"tribrid_embedding_model\"\n",
            "__________________________________________________________________________________________________\n",
            " Layer (type)                   Output Shape         Param #     Connected to                     \n",
            "==================================================================================================\n",
            " char_inputs (InputLayer)       [(None, 1)]          0           []                               \n",
            "                                                                                                  \n",
            " token_inputs (InputLayer)      [(None,)]            0           []                               \n",
            "                                                                                                  \n",
            " char_vectorizer (TextVectoriza  (None, 290)         0           ['char_inputs[0][0]']            \n",
            " tion)                                                                                            \n",
            "                                                                                                  \n",
            " universal_sentence_encoder (Ke  (None, 512)         256797824   ['token_inputs[0][0]']           \n",
            " rasLayer)                                                                                        \n",
            "                                                                                                  \n",
            " char_embed (Embedding)         (None, 290, 25)      700         ['char_vectorizer[2][0]']        \n",
            "                                                                                                  \n",
            " input_line_numbers (InputLayer  [(None, 15)]        0           []                               \n",
            " )                                                                                                \n",
            "                                                                                                  \n",
            " input_total_line_numbers (Inpu  [(None, 20)]        0           []                               \n",
            " tLayer)                                                                                          \n",
            "                                                                                                  \n",
            " dense_4 (Dense)                (None, 128)          65664       ['universal_sentence_encoder[1][0\n",
            "                                                                 ]']                              \n",
            "                                                                                                  \n",
            " bi_lstm_output (Bidirectional)  (None, 48)          9600        ['char_embed[2][0]']             \n",
            "                                                                                                  \n",
            " dense_5 (Dense)                (None, 32)           512         ['input_line_numbers[0][0]']     \n",
            "                                                                                                  \n",
            " dense_6 (Dense)                (None, 32)           672         ['input_total_line_numbers[0][0]'\n",
            "                                                                 ]                                \n",
            "                                                                                                  \n",
            " char_token_hybrid_embedding (C  (None, 176)         0           ['dense_4[0][0]',                \n",
            " oncatenate)                                                      'bi_lstm_output[0][0]']         \n",
            "                                                                                                  \n",
            " char_token_positional_embeddin  (None, 240)         0           ['dense_5[0][0]',                \n",
            " g (Concatenate)                                                  'dense_6[0][0]',                \n",
            "                                                                  'char_token_hybrid_embedding[0][\n",
            "                                                                 0]']                             \n",
            "                                                                                                  \n",
            " output_layer (Dense)           (None, 5)            1205        ['char_token_positional_embedding\n",
            "                                                                 [0][0]']                         \n",
            "                                                                                                  \n",
            "==================================================================================================\n",
            "Total params: 256,876,177\n",
            "Trainable params: 78,353\n",
            "Non-trainable params: 256,797,824\n",
            "__________________________________________________________________________________________________\n"
          ]
        }
      ],
      "source": [
        "model_5.summary()"
      ]
    },
    {
      "cell_type": "code",
      "execution_count": null,
      "metadata": {
        "colab": {
          "base_uri": "https://localhost:8080/",
          "height": 527
        },
        "id": "JjCPZCAAJqXq",
        "outputId": "a6100cb9-a10e-459b-fc2a-25405058c38a"
      },
      "outputs": [
        {
          "output_type": "execute_result",
          "data": {
            "image/png": "[encoded data removed]",
            "text/plain": [
              "<IPython.core.display.Image object>"
            ]
          },
          "metadata": {},
          "execution_count": 78
        }
      ],
      "source": [
        "# Plot hybrid token and charcter model\n",
        "from keras.utils import plot_model\n",
        "plot_model(model_5, show_shapes=True)"
      ]
    },
    {
      "cell_type": "markdown",
      "metadata": {
        "id": "qcP_o73oMK79"
      },
      "source": [
        "What is label smoothing?\n",
        "\n",
        "for example if our model gets too confident on a single class (e.g. its prediction probability is realyy high), it may get stuck on that class and not consider other classes...\n",
        "\n",
        "Really confident: `[0.0, 0.0, 1.0, 0.0, 0.0]`\n",
        "\n",
        "hat label smoothings does is it assings some of the value from the highest pred prob to other classes, it turn, hopefully improving generalization : `[0.01, 0.01, 0.96, 0.01, 0.01]`\n",
        "\n",
        "> for more on label smoothing, see this blog post from PyImageSearch : https://pyimagesearch.com/2019/12/30/label-smoothing-with-keras-tensorflow-and-deep-learning/"
      ]
    },
    {
      "cell_type": "code",
      "execution_count": null,
      "metadata": {
        "id": "mX_rS5xPeuDp"
      },
      "outputs": [],
      "source": [
        "# Compile token, char, and positional embedding model\n",
        "model_5.compile(loss=tf.keras.losses.CategoricalCrossentropy(label_smoothing=0.2), # Helps to prevent overfiting\n",
        "                optimizer=tf.keras.optimizers.Adam(),\n",
        "                metrics=[\"accuracy\"])"
      ]
    },
    {
      "cell_type": "markdown",
      "metadata": {
        "id": "kukMf7QyrB74"
      },
      "source": [
        "## Create tribrid embedding using embedding dataset using tf.data\n"
      ]
    },
    {
      "cell_type": "code",
      "execution_count": null,
      "metadata": {
        "id": "eXq6fBfUey9r"
      },
      "outputs": [],
      "source": [
        "# Create training and validation datasets (with all four kinds of input data)\n",
        "train_char_token_pos_data = tf.data.Dataset.from_tensor_slices((train_line_numbers_one_hot,\n",
        "                                                                train_total_lines_one_hot,\n",
        "                                                                train_sentences,\n",
        "                                                                train_chars))\n",
        "train_char_token_pos_labels = tf.data.Dataset.from_tensor_slices(train_labels_one_hot)\n",
        "train_char_token_pos_dataset = tf.data.Dataset.zip((train_char_token_pos_data, train_char_token_pos_labels))\n",
        "train_char_token_pos_dataset = train_char_token_pos_dataset.batch(32).prefetch(tf.data.AUTOTUNE)\n",
        "\n",
        "# DO THE SAME AS ABOVE BUT FOR THE VALIDATION DATASET\n",
        "val_char_token_pos_data = tf.data.Dataset.from_tensor_slices((val_line_numbers_one_hot,\n",
        "                                                                val_total_lines_one_hot,\n",
        "                                                                val_sentences,\n",
        "                                                                val_chars))\n",
        "val_char_token_pos_labels = tf.data.Dataset.from_tensor_slices(val_labels_one_hot)\n",
        "val_char_token_pos_dataset = tf.data.Dataset.zip((val_char_token_pos_data, val_char_token_pos_labels))\n",
        "val_char_token_pos_dataset = val_char_token_pos_dataset.batch(32).prefetch(tf.data.AUTOTUNE)\n"
      ]
    },
    {
      "cell_type": "code",
      "execution_count": null,
      "metadata": {
        "colab": {
          "base_uri": "https://localhost:8080/"
        },
        "id": "HyoDhr4Oi4lQ",
        "outputId": "59157c99-eb3f-47ec-fd7c-e9f6a8436786"
      },
      "outputs": [
        {
          "output_type": "execute_result",
          "data": {
            "text/plain": [
              "(<PrefetchDataset element_spec=((TensorSpec(shape=(None, 15), dtype=tf.float32, name=None), TensorSpec(shape=(None, 20), dtype=tf.float32, name=None), TensorSpec(shape=(None,), dtype=tf.string, name=None), TensorSpec(shape=(None,), dtype=tf.string, name=None)), TensorSpec(shape=(None, 5), dtype=tf.float64, name=None))>,\n",
              " <PrefetchDataset element_spec=((TensorSpec(shape=(None, 15), dtype=tf.float32, name=None), TensorSpec(shape=(None, 20), dtype=tf.float32, name=None), TensorSpec(shape=(None,), dtype=tf.string, name=None), TensorSpec(shape=(None,), dtype=tf.string, name=None)), TensorSpec(shape=(None, 5), dtype=tf.float64, name=None))>)"
            ]
          },
          "metadata": {},
          "execution_count": 81
        }
      ],
      "source": [
        "# Check input shapes\n",
        "train_char_token_pos_dataset, val_char_token_pos_dataset"
      ]
    },
    {
      "cell_type": "markdown",
      "metadata": {
        "id": "nTfLZqHjwgaT"
      },
      "source": [
        "### Fitting, evaluating and making prediction with our tribrid model"
      ]
    },
    {
      "cell_type": "code",
      "execution_count": null,
      "metadata": {
        "colab": {
          "base_uri": "https://localhost:8080/"
        },
        "id": "anS7HgqOvw2w",
        "outputId": "a67c133c-a1ff-4b82-bcf1-af45f1d01a00"
      },
      "outputs": [
        {
          "output_type": "stream",
          "name": "stdout",
          "text": [
            "Saving TensorBoard log files to: tensorboard/model_5_concat_4models/20230226-143905\n",
            "Epoch 1/3\n",
            "562/562 [==============================] - 59s 76ms/step - loss: 1.1006 - accuracy: 0.7242 - val_loss: 0.9844 - val_accuracy: 0.8033\n",
            "Epoch 2/3\n",
            "562/562 [==============================] - 49s 86ms/step - loss: 0.9750 - accuracy: 0.8082 - val_loss: 0.9653 - val_accuracy: 0.8127\n",
            "Epoch 3/3\n",
            "562/562 [==============================] - 38s 67ms/step - loss: 0.9593 - accuracy: 0.8164 - val_loss: 0.9577 - val_accuracy: 0.8211\n"
          ]
        }
      ],
      "source": [
        "history_model_5 = model_5.fit(train_char_token_pos_dataset,\n",
        "                              steps_per_epoch=int(0.1*len(train_char_token_pos_dataset)),\n",
        "                              epochs = 3,\n",
        "                              validation_data = val_char_token_pos_dataset,\n",
        "                              validation_steps = int(0.1*len(val_char_token_pos_dataset)),\n",
        "                              callbacks=[helper_functions.create_tensorboard_callback(dir_name=\"tensorboard\",\n",
        "                                                                                      experiment_name=\"model_5_concat_4models\")])"
      ]
    },
    {
      "cell_type": "code",
      "execution_count": null,
      "metadata": {
        "id": "tRc2RMHsxklL"
      },
      "outputs": [],
      "source": [
        "model_5.summary()"
      ]
    },
    {
      "cell_type": "code",
      "execution_count": null,
      "metadata": {
        "id": "aIB6e1kOxK9q"
      },
      "outputs": [],
      "source": [
        "model_5.evaluate(val_char_token_pos_dataset)"
      ]
    },
    {
      "cell_type": "code",
      "execution_count": null,
      "metadata": {
        "colab": {
          "base_uri": "https://localhost:8080/"
        },
        "id": "xuFPz62BxQCA",
        "outputId": "a9670260-d5f3-444c-f719-2e5f0e76ab47"
      },
      "outputs": [
        {
          "output_type": "stream",
          "name": "stdout",
          "text": [
            "5627/5627 [==============================] - 128s 22ms/step\n"
          ]
        },
        {
          "output_type": "execute_result",
          "data": {
            "text/plain": [
              "<tf.Tensor: shape=(5,), dtype=int64, numpy=array([3, 2, 2, 2, 2])>"
            ]
          },
          "metadata": {},
          "execution_count": 83
        }
      ],
      "source": [
        "model_5_pred_probs = model_5.predict(val_char_token_pos_dataset)\n",
        "model_5_preds = tf.argmax(model_5_pred_probs, axis=1)\n",
        "model_5_preds[:5]"
      ]
    },
    {
      "cell_type": "code",
      "execution_count": null,
      "metadata": {
        "colab": {
          "base_uri": "https://localhost:8080/"
        },
        "id": "l37DoOhOxxK4",
        "outputId": "27479fa1-563f-4b62-c9e4-c57a9beb2d85"
      },
      "outputs": [
        {
          "output_type": "execute_result",
          "data": {
            "text/plain": [
              "{'accuracy': 82.13563652521661,\n",
              " 'precision': 0.8203025589176887,\n",
              " 'recall': 0.8213563652521662,\n",
              " 'f1': 0.8204509831329341}"
            ]
          },
          "metadata": {},
          "execution_count": 84
        }
      ],
      "source": [
        "model_5_results = helper_functions.calculate_results(y_true=val_labels_encoded, y_pred=model_5_preds)\n",
        "model_5_results"
      ]
    },
    {
      "cell_type": "code",
      "execution_count": null,
      "metadata": {
        "id": "VJPFiGOky8QS"
      },
      "outputs": [],
      "source": [
        "model_4_results"
      ]
    },
    {
      "cell_type": "markdown",
      "metadata": {
        "id": "5h5Cq5sa7vy6"
      },
      "source": [
        "## Compare model results"
      ]
    },
    {
      "cell_type": "code",
      "execution_count": null,
      "metadata": {
        "id": "gMR0ySuNybOS"
      },
      "outputs": [],
      "source": [
        "# Combine model results into a dataframe\n",
        "all_model_results = pd.DataFrame({\"model_0_baseline\": model_0_results,\n",
        "                                 \"model_1_custom_token_embedding\": model_1_results,\n",
        "                                 \"model_2_pretrained_token_embedding\": model_2_results,\n",
        "                                 \"model_3_custom_char_embedding\": model_3_results,\n",
        "                                 \"model_4_hybrid_char_token_embedding\": model_4_results,\n",
        "                                 \"model_5_pos_char_token_embedding\": model_5_results})\n",
        "all_model_results = all_model_results.transpose()\n",
        "all_model_results"
      ]
    },
    {
      "cell_type": "code",
      "execution_count": null,
      "metadata": {
        "id": "a-Ng8PD_8sEf"
      },
      "outputs": [],
      "source": [
        "# Reduce the accuracy to same scale as other metrics\n",
        "all_model_results[\"accuracy\"] = all_model_results[\"accuracy\"]/100"
      ]
    },
    {
      "cell_type": "code",
      "execution_count": null,
      "metadata": {
        "id": "nSeUtjIK-2jv"
      },
      "outputs": [],
      "source": [
        "# Plot and compare all model results\n",
        "all_model_results.plot(kind=\"bar\", figsize=(10,7)).legend(bbox_to_anchor=(1.0,1.0))"
      ]
    },
    {
      "cell_type": "code",
      "execution_count": null,
      "metadata": {
        "id": "n7nefr3o_GzP"
      },
      "outputs": [],
      "source": [
        "# Sort model results by f1-score \n",
        "all_model_results.sort_values(\"f1\", ascending=True)[\"f1\"].plot(kind=\"bar\", figsize=(10,7))"
      ]
    },
    {
      "cell_type": "code",
      "execution_count": null,
      "metadata": {
        "colab": {
          "base_uri": "https://localhost:8080/"
        },
        "id": "7hidFxB1_625",
        "outputId": "959160fc-04be-47c8-c5f2-77ecfdb277fc"
      },
      "outputs": [
        {
          "output_type": "stream",
          "name": "stderr",
          "text": [
            "WARNING:absl:Found untraced functions such as lstm_cell_4_layer_call_fn, lstm_cell_4_layer_call_and_return_conditional_losses, lstm_cell_5_layer_call_fn, lstm_cell_5_layer_call_and_return_conditional_losses while saving (showing 4 of 4). These functions will not be directly callable after loading.\n"
          ]
        }
      ],
      "source": [
        "# save the model\n",
        "\n",
        "#model_0.save(\"save_models/model_0.H5\")\n",
        "#model_1.save(\"save_models/model_1.H5\")\n",
        "#model_2.save(\"save_models/model_2.H5\")\n",
        "#model_3.save(\"save_models/model_3.H5\")\n",
        "#model_4.save(\"save_models/model_4.H5\")\n",
        "model_5.save(\"drive/MyDrive/save_models/model_5_skimlit_project\")\n"
      ]
    },
    {
      "cell_type": "code",
      "execution_count": null,
      "metadata": {
        "colab": {
          "base_uri": "https://localhost:8080/"
        },
        "id": "YF8JWS8UAZZT",
        "outputId": "99ed10d2-ae15-42f9-e958-e4dee29e14eb"
      },
      "outputs": [
        {
          "name": "stderr",
          "output_type": "stream",
          "text": [
            "WARNING:tensorflow:Please fix your imports. Module tensorflow.python.training.tracking.data_structures has been moved to tensorflow.python.trackable.data_structures. The old module will be deleted in version 2.11.\n",
            "WARNING:tensorflow:From /usr/local/lib/python3.8/dist-packages/tensorflow/python/autograph/pyct/static_analysis/liveness.py:83: Analyzer.lamba_check (from tensorflow.python.autograph.pyct.static_analysis.liveness) is deprecated and will be removed after 2023-09-23.\n",
            "Instructions for updating:\n",
            "Lambda fuctions will be no more assumed to be used in the statement where they are used, or at least in the same block. https://github.com/tensorflow/tensorflow/issues/56089\n"
          ]
        }
      ],
      "source": [
        "import tensorflow as tf\n",
        "import tensorflow_hub as hub\n",
        "loaded_model_5 = tf.keras.models.load_model(\"drive/MyDrive/save_models/model_5.H5\",\n",
        "                                     custom_objects={\"KerasLayer\": hub.KerasLayer})"
      ]
    },
    {
      "cell_type": "code",
      "execution_count": null,
      "metadata": {
        "colab": {
          "base_uri": "https://localhost:8080/"
        },
        "id": "NvXLiiztK0D-",
        "outputId": "56453fb1-70ef-47cc-e927-d06301e4c207"
      },
      "outputs": [
        {
          "name": "stdout",
          "output_type": "stream",
          "text": [
            "5627/5627 [==============================] - 137s 24ms/step - loss: 0.9533 - accuracy: 0.8236\n"
          ]
        },
        {
          "data": {
            "text/plain": [
              "[0.953260064125061, 0.8236392140388489]"
            ]
          },
          "execution_count": 65,
          "metadata": {},
          "output_type": "execute_result"
        }
      ],
      "source": [
        "# How does our loaded model perform?\n",
        "loaded_model_5.evaluate(val_char_token_pos_dataset)"
      ]
    },
    {
      "cell_type": "code",
      "execution_count": null,
      "metadata": {
        "colab": {
          "base_uri": "https://localhost:8080/"
        },
        "id": "LqAXrsNXMYKh",
        "outputId": "a7de7c66-6a50-4f0b-c4de-82ec7ea55cd0"
      },
      "outputs": [
        {
          "name": "stdout",
          "output_type": "stream",
          "text": [
            "5627/5627 [==============================] - 146s 26ms/step\n"
          ]
        },
        {
          "data": {
            "text/plain": [
              "<tf.Tensor: shape=(5,), dtype=int64, numpy=array([3, 2, 2, 2, 2])>"
            ]
          },
          "execution_count": 50,
          "metadata": {},
          "output_type": "execute_result"
        }
      ],
      "source": [
        "# Make prediction with the loaded model on the validation set\n",
        "model_5_pred_probs = loaded_model_5.predict(val_char_token_pos_dataset)\n",
        "model_5_preds = tf.argmax(model_5_pred_probs, axis=1)\n",
        "model_5_preds[:5]"
      ]
    },
    {
      "cell_type": "code",
      "execution_count": null,
      "metadata": {
        "colab": {
          "base_uri": "https://localhost:8080/"
        },
        "id": "bsO6FDkUZu_a",
        "outputId": "cc0a9986-9428-493d-91c7-b8096943e6b8"
      },
      "outputs": [
        {
          "data": {
            "text/plain": [
              "{'accuracy': 82.36391912908243,\n",
              " 'precision': 0.822609805418878,\n",
              " 'recall': 0.8236391912908243,\n",
              " 'f1': 0.8228014714563803}"
            ]
          },
          "execution_count": 53,
          "metadata": {},
          "output_type": "execute_result"
        }
      ],
      "source": [
        "# calculate the results of our loaded model\n",
        "loaded_model_5_results = helper_functions.calculate_results(y_true=val_labels_encoded, y_pred=model_5_preds)\n",
        "loaded_model_5_results"
      ]
    },
    {
      "cell_type": "code",
      "execution_count": null,
      "metadata": {
        "colab": {
          "base_uri": "https://localhost:8080/"
        },
        "id": "SrtJ57UXbHX9",
        "outputId": "a497fcb8-e0e6-4523-a1b6-9c805934eeae"
      },
      "outputs": [
        {
          "data": {
            "text/plain": [
              "True"
            ]
          },
          "execution_count": 55,
          "metadata": {},
          "output_type": "execute_result"
        }
      ],
      "source": [
        "assert model_5_results == loaded_model_5_results"
      ]
    },
    {
      "cell_type": "code",
      "execution_count": null,
      "metadata": {
        "colab": {
          "base_uri": "https://localhost:8080/"
        },
        "id": "0BpdOqOGbwm8",
        "outputId": "d5ed2216-5874-4c38-c938-76b8b902c7ae"
      },
      "outputs": [
        {
          "name": "stdout",
          "output_type": "stream",
          "text": [
            "Model: \"tribrid_embedding_model\"\n",
            "__________________________________________________________________________________________________\n",
            " Layer (type)                   Output Shape         Param #     Connected to                     \n",
            "==================================================================================================\n",
            " char_inputs (InputLayer)       [(None, 1)]          0           []                               \n",
            "                                                                                                  \n",
            " token_inputs (InputLayer)      [(None,)]            0           []                               \n",
            "                                                                                                  \n",
            " char_vectorizer (TextVectoriza  (None, 290)         0           ['char_inputs[0][0]']            \n",
            " tion)                                                                                            \n",
            "                                                                                                  \n",
            " universal_sentence_encoder (Ke  (None, 512)         256797824   ['token_inputs[0][0]']           \n",
            " rasLayer)                                                                                        \n",
            "                                                                                                  \n",
            " char_embed (Embedding)         (None, 290, 25)      700         ['char_vectorizer[0][0]']        \n",
            "                                                                                                  \n",
            " input_line_numbers (InputLayer  [(None, 15)]        0           []                               \n",
            " )                                                                                                \n",
            "                                                                                                  \n",
            " input_total_line_numbers (Inpu  [(None, 20)]        0           []                               \n",
            " tLayer)                                                                                          \n",
            "                                                                                                  \n",
            " dense_5 (Dense)                (None, 128)          65664       ['universal_sentence_encoder[0][0\n",
            "                                                                 ]']                              \n",
            "                                                                                                  \n",
            " bi_lstm_output (Bidirectional)  (None, 48)          9600        ['char_embed[0][0]']             \n",
            "                                                                                                  \n",
            " dense_6 (Dense)                (None, 32)           512         ['input_line_numbers[0][0]']     \n",
            "                                                                                                  \n",
            " dense_7 (Dense)                (None, 32)           672         ['input_total_line_numbers[0][0]'\n",
            "                                                                 ]                                \n",
            "                                                                                                  \n",
            " char_token_hybrid_embedding (C  (None, 176)         0           ['dense_5[0][0]',                \n",
            " oncatenate)                                                      'bi_lstm_output[0][0]']         \n",
            "                                                                                                  \n",
            " char_token_positional_embeddin  (None, 240)         0           ['dense_6[0][0]',                \n",
            " g (Concatenate)                                                  'dense_7[0][0]',                \n",
            "                                                                  'char_token_hybrid_embedding[0][\n",
            "                                                                 0]']                             \n",
            "                                                                                                  \n",
            " output_layer (Dense)           (None, 5)            1205        ['char_token_positional_embedding\n",
            "                                                                 [0][0]']                         \n",
            "                                                                                                  \n",
            "==================================================================================================\n",
            "Total params: 256,876,177\n",
            "Trainable params: 78,353\n",
            "Non-trainable params: 256,797,824\n",
            "__________________________________________________________________________________________________\n"
          ]
        }
      ],
      "source": [
        "# Check the loaded model summary\n",
        "loaded_model_5.summary()"
      ]
    },
    {
      "cell_type": "markdown",
      "metadata": {
        "id": "-U2GcH6EdCio"
      },
      "source": [
        "## Download and load in a pretained model from Google Storage"
      ]
    },
    {
      "cell_type": "code",
      "execution_count": null,
      "metadata": {
        "colab": {
          "base_uri": "https://localhost:8080/"
        },
        "id": "L0uO-Xjdb61z",
        "outputId": "a5524562-c8a7-4d93-b27c-413eec0be1cf"
      },
      "outputs": [
        {
          "name": "stdout",
          "output_type": "stream",
          "text": [
            "--2023-02-22 14:16:19--  https://storage.googleapis.com/ztm_tf_course/skimlit/skimlit_tribrid_model.zip\n",
            "Resolving storage.googleapis.com (storage.googleapis.com)... 209.85.200.128, 142.250.152.128, 142.250.128.128, ...\n",
            "Connecting to storage.googleapis.com (storage.googleapis.com)|209.85.200.128|:443... connected.\n",
            "HTTP request sent, awaiting response... 200 OK\n",
            "Length: 962561955 (918M) [application/zip]\n",
            "Saving to: ‘skimlit_tribrid_model.zip’\n",
            "\n",
            "skimlit_tribrid_mod 100%[===================>] 917.97M  94.0MB/s    in 8.0s    \n",
            "\n",
            "2023-02-22 14:16:27 (115 MB/s) - ‘skimlit_tribrid_model.zip’ saved [962561955/962561955]\n",
            "\n",
            "mkdir: cannot create directory ‘skimlit_gs_model’: File exists\n",
            "Archive:  skimlit_tribrid_model.zip\n",
            "replace skimlit_gs_model/skimlit_tribrid_model/variables/variables.index? [y]es, [n]o, [A]ll, [N]one, [r]ename: y\n",
            "  inflating: skimlit_gs_model/skimlit_tribrid_model/variables/variables.index  \n",
            "replace skimlit_gs_model/skimlit_tribrid_model/variables/variables.data-00000-of-00001? [y]es, [n]o, [A]ll, [N]one, [r]ename: y\n",
            "  inflating: skimlit_gs_model/skimlit_tribrid_model/variables/variables.data-00000-of-00001  \n",
            "replace skimlit_gs_model/skimlit_tribrid_model/keras_metadata.pb? [y]es, [n]o, [A]ll, [N]one, [r]ename: y\n",
            "  inflating: skimlit_gs_model/skimlit_tribrid_model/keras_metadata.pb  \n",
            "replace skimlit_gs_model/skimlit_tribrid_model/saved_model.pb? [y]es, [n]o, [A]ll, [N]one, [r]ename: y\n",
            "  inflating: skimlit_gs_model/skimlit_tribrid_model/saved_model.pb  \n"
          ]
        }
      ],
      "source": [
        "import tensorflow as tf\n",
        "import tensorflow_hub as hub\n",
        "from tensorflow.keras.layers.experimental.preprocessing import TextVectorization\n",
        "\n",
        "!wget https://storage.googleapis.com/ztm_tf_course/skimlit/skimlit_tribrid_model.zip\n",
        "!mkdir skimlit_gs_model\n",
        "!unzip skimlit_tribrid_model.zip -d skimlit_gs_model"
      ]
    },
    {
      "cell_type": "code",
      "execution_count": null,
      "metadata": {
        "id": "2wSn-ayrhixR"
      },
      "outputs": [],
      "source": []
    },
    {
      "cell_type": "code",
      "execution_count": null,
      "metadata": {
        "id": "eQMdABPfhgv8"
      },
      "outputs": [],
      "source": []
    },
    {
      "cell_type": "code",
      "execution_count": null,
      "metadata": {
        "id": "Ruad9d3ihXA_"
      },
      "outputs": [],
      "source": [
        "# load Google Storage modelyy\n",
        "#loaded_gs_model = tf.keras.models.load_model('skimlit_gs_model/skimlit_tribrid_model/')\n",
        "\n",
        "# Load the model with custom layer\n",
        "#loaded_model = tf.keras.models.load_model('skimlit_gs_model/skimlit_tribrid_model/')\n",
        "#"
      ]
    },
    {
      "cell_type": "code",
      "execution_count": null,
      "metadata": {
        "colab": {
          "base_uri": "https://localhost:8080/"
        },
        "id": "-7QHGShxofdF",
        "outputId": "7fd0d907-9826-448a-e488-409b292d2f26"
      },
      "outputs": [
        {
          "name": "stdout",
          "output_type": "stream",
          "text": [
            "ls: cannot access 'skimlit_tribrid_model': No such file or directory\n"
          ]
        }
      ],
      "source": [
        "!ls skimlit_tribrid_model"
      ]
    },
    {
      "cell_type": "code",
      "execution_count": null,
      "metadata": {
        "colab": {
          "base_uri": "https://localhost:8080/"
        },
        "id": "nmAqTK8PGLd5",
        "outputId": "9270a236-6763-4e30-f59b-d3a8046e6019"
      },
      "outputs": [
        {
          "name": "stdout",
          "output_type": "stream",
          "text": [
            "--2023-02-22 16:52:30--  https://storage.googleapis.com/ztm_tf_course/skimlit/skimlit_tribrid_model.zip\n",
            "Resolving storage.googleapis.com (storage.googleapis.com)... 173.194.79.128, 108.177.127.128, 172.217.218.128, ...\n",
            "Connecting to storage.googleapis.com (storage.googleapis.com)|173.194.79.128|:443... connected.\n",
            "HTTP request sent, awaiting response... 200 OK\n",
            "Length: 962561955 (918M) [application/zip]\n",
            "Saving to: ‘skimlit_tribrid_model.zip’\n",
            "\n",
            "skimlit_tribrid_mod 100%[===================>] 917.97M  40.3MB/s    in 24s     \n",
            "\n",
            "2023-02-22 16:52:54 (38.8 MB/s) - ‘skimlit_tribrid_model.zip’ saved [962561955/962561955]\n",
            "\n",
            "Archive:  skimlit_tribrid_model.zip\n",
            "   creating: skimlit_gs_model/skimlit_tribrid_model/\n",
            "   creating: skimlit_gs_model/skimlit_tribrid_model/variables/\n",
            "  inflating: skimlit_gs_model/skimlit_tribrid_model/variables/variables.index  \n",
            "  inflating: skimlit_gs_model/skimlit_tribrid_model/variables/variables.data-00000-of-00001  \n",
            "  inflating: skimlit_gs_model/skimlit_tribrid_model/keras_metadata.pb  \n",
            "  inflating: skimlit_gs_model/skimlit_tribrid_model/saved_model.pb  \n",
            "   creating: skimlit_gs_model/skimlit_tribrid_model/assets/\n"
          ]
        }
      ],
      "source": [
        "import tensorflow as tf\n",
        "import tensorflow_hub as hub\n",
        "from tensorflow.keras.layers.experimental.preprocessing import TextVectorization\n",
        "\n",
        "!wget https://storage.googleapis.com/ztm_tf_course/skimlit/skimlit_tribrid_model.zip\n",
        "!mkdir skimlit_gs_model\n",
        "!unzip skimlit_tribrid_model.zip -d skimlit_gs_model\n",
        "loaded_model = tf.saved_model.load('skimlit_gs_model/skimlit_tribrid_model/')"
      ]
    },
    {
      "cell_type": "code",
      "execution_count": null,
      "metadata": {
        "id": "HlZPYkvC8tsn"
      },
      "outputs": [],
      "source": [
        "loaded_model = tf.keras.models.load_model('skimlit_gs_model/skimlit_tribrid_model/')"
      ]
    },
    {
      "cell_type": "markdown",
      "metadata": {
        "id": "mxQAQB_DegGd"
      },
      "source": [
        "# Skimlit_exercices"
      ]
    },
    {
      "cell_type": "markdown",
      "metadata": {
        "id": "s_2LZo71emze"
      },
      "source": [
        "## 1. Train model_5 on all of the data in the training dataset for as many epochs until it stops improving. Since this might take a while, you might want to use:\n",
        "- tf.keras.callbacks.ModelCheckpoint to save the model's best weights only.\n",
        "- tf.keras.callbacks.EarlyStopping to stop the model from training once the validation loss has stopped improving for ~3 epochs."
      ]
    },
    {
      "cell_type": "code",
      "execution_count": 2,
      "metadata": {
        "id": "reCPrDnQcgsO"
      },
      "outputs": [],
      "source": [
        "# Import dependencies\n",
        "import sys\n",
        "import pandas as pd\n",
        "import matplotlib.pyplot as plt\n",
        "import numpy as np\n",
        "import tensorflow as tf\n",
        "# sys.path.append(r\"C:\\Users/wjub/01workspace/TensorFlow Developer Certificate ZTM\")\n",
        "sys.path.append(r\"/content/drive/MyDrive/TensorFlow_Developer_Certificate_ZTM/\")\n",
        "\n",
        "import helper_functions\n",
        "from helper_functions import calculate_results\n",
        "import random\n",
        "from helper_functions import preprocess_text_with_line_numbers"
      ]
    },
    {
      "cell_type": "code",
      "execution_count": 3,
      "metadata": {
        "colab": {
          "base_uri": "https://localhost:8080/"
        },
        "id": "Y-vYYjadkS8y",
        "outputId": "54a5e0c1-9381-4563-e411-979b468b2697"
      },
      "outputs": [
        {
          "output_type": "stream",
          "name": "stdout",
          "text": [
            "Cloning into 'pubmed-rct'...\n",
            "remote: Enumerating objects: 33, done.\u001b[K\n",
            "remote: Counting objects: 100% (8/8), done.\u001b[K\n",
            "remote: Compressing objects: 100% (3/3), done.\u001b[K\n",
            "remote: Total 33 (delta 5), reused 5 (delta 5), pack-reused 25\u001b[K\n",
            "Unpacking objects: 100% (33/33), 177.08 MiB | 8.89 MiB/s, done.\n"
          ]
        }
      ],
      "source": [
        "!git clone https://github.com/Franck-Dernoncourt/pubmed-rct\n",
        "# Check what files are in the PubMed_20K dataset"
      ]
    },
    {
      "cell_type": "code",
      "execution_count": 4,
      "metadata": {
        "id": "9ErNVAZvkS5x"
      },
      "outputs": [],
      "source": [
        "# dir of our experiments using the 200k dataset with numbers replaced by \"#\" sign\n",
        "data_dir = \"pubmed-rct/PubMed_200k_RCT_numbers_replaced_with_at_sign/\""
      ]
    },
    {
      "cell_type": "code",
      "execution_count": 5,
      "metadata": {
        "colab": {
          "base_uri": "https://localhost:8080/"
        },
        "id": "78rCImfJkS2a",
        "outputId": "d27741e7-b435-4a17-f21e-1c81b52841df"
      },
      "outputs": [
        {
          "output_type": "execute_result",
          "data": {
            "text/plain": [
              "['pubmed-rct/PubMed_200k_RCT_numbers_replaced_with_at_sign/train.zip',\n",
              " 'pubmed-rct/PubMed_200k_RCT_numbers_replaced_with_at_sign/test.txt',\n",
              " 'pubmed-rct/PubMed_200k_RCT_numbers_replaced_with_at_sign/dev.txt']"
            ]
          },
          "metadata": {},
          "execution_count": 5
        }
      ],
      "source": [
        "# Check all of the filenames in the target directory\n",
        "import os\n",
        "filenames = [data_dir + filename for filename in os.listdir(data_dir)]\n",
        "filenames"
      ]
    },
    {
      "cell_type": "code",
      "execution_count": 6,
      "metadata": {
        "colab": {
          "base_uri": "https://localhost:8080/"
        },
        "id": "u3vYSAzUf1wT",
        "outputId": "d396d6a6-7a3c-4b87-c2e4-898ef23a057f"
      },
      "outputs": [
        {
          "output_type": "stream",
          "name": "stdout",
          "text": [
            "Archive:  pubmed-rct/PubMed_200k_RCT_numbers_replaced_with_at_sign/train.zip\n",
            "  inflating: pubmed-rct/PubMed_200k_RCT_numbers_replaced_with_at_sign/train.txt  \n"
          ]
        }
      ],
      "source": [
        "!unzip pubmed-rct/PubMed_200k_RCT_numbers_replaced_with_at_sign/train.zip -d pubmed-rct/PubMed_200k_RCT_numbers_replaced_with_at_sign/"
      ]
    },
    {
      "cell_type": "code",
      "execution_count": 7,
      "metadata": {
        "id": "tRrc1DWnlh1J",
        "colab": {
          "base_uri": "https://localhost:8080/"
        },
        "outputId": "f30853aa-4647-43e6-a6ce-c33e9d765949"
      },
      "outputs": [
        {
          "output_type": "execute_result",
          "data": {
            "text/plain": [
              "['pubmed-rct/PubMed_200k_RCT_numbers_replaced_with_at_sign/train.zip',\n",
              " 'pubmed-rct/PubMed_200k_RCT_numbers_replaced_with_at_sign/test.txt',\n",
              " 'pubmed-rct/PubMed_200k_RCT_numbers_replaced_with_at_sign/train.txt',\n",
              " 'pubmed-rct/PubMed_200k_RCT_numbers_replaced_with_at_sign/dev.txt']"
            ]
          },
          "metadata": {},
          "execution_count": 7
        }
      ],
      "source": [
        "# Check all of the filenames in the target directory\n",
        "import os\n",
        "filenames= [data_dir + filename for filename in os.listdir(data_dir)]\n",
        "filenames"
      ]
    },
    {
      "cell_type": "code",
      "execution_count": 8,
      "metadata": {
        "id": "YP10AAtulepD",
        "colab": {
          "base_uri": "https://localhost:8080/"
        },
        "outputId": "69345060-0021-455a-e633-bac16c91f32a"
      },
      "outputs": [
        {
          "output_type": "stream",
          "name": "stdout",
          "text": [
            "CPU times: user 2 µs, sys: 1 µs, total: 3 µs\n",
            "Wall time: 5.25 µs\n",
            "2211861 28932 29493\n"
          ]
        }
      ],
      "source": [
        "# Get data from file and preprocess it \n",
        "%time\n",
        "train_samples = preprocess_text_with_line_numbers(data_dir+\"train.txt\")\n",
        "val_samples = preprocess_text_with_line_numbers(data_dir+\"dev.txt\") # dev is another name for validation dataset\n",
        "test_samples = preprocess_text_with_line_numbers(data_dir+\"test.txt\")\n",
        "print(len(train_samples), len(val_samples), len(test_samples))"
      ]
    },
    {
      "cell_type": "code",
      "execution_count": 9,
      "metadata": {
        "id": "-byYAKkPf1tk",
        "colab": {
          "base_uri": "https://localhost:8080/",
          "height": 424
        },
        "outputId": "76ceff09-50a4-445a-b2a6-e9b80744c877"
      },
      "outputs": [
        {
          "output_type": "execute_result",
          "data": {
            "text/plain": [
              "             target                                               text  \\\n",
              "0        BACKGROUND  the emergence of hiv as a chronic condition me...   \n",
              "1        BACKGROUND  this paper describes the design and evaluation...   \n",
              "2           METHODS  this study is designed as a randomised control...   \n",
              "3           METHODS  the intervention group will participate in the...   \n",
              "4           METHODS  the program is based on self-efficacy theory a...   \n",
              "...             ...                                                ...   \n",
              "2211856     METHODS  after crossover , the wait-list group received...   \n",
              "2211857     METHODS  performance was assessed by comparison to amer...   \n",
              "2211858     RESULTS  performance improved significantly after simul...   \n",
              "2211859     RESULTS  no improvement was detected as a function of c...   \n",
              "2211860     RESULTS         the educational program was rated highly .   \n",
              "\n",
              "         line_number  total_lines  \n",
              "0                  0           10  \n",
              "1                  1           10  \n",
              "2                  2           10  \n",
              "3                  3           10  \n",
              "4                  4           10  \n",
              "...              ...          ...  \n",
              "2211856            5            9  \n",
              "2211857            6            9  \n",
              "2211858            7            9  \n",
              "2211859            8            9  \n",
              "2211860            9            9  \n",
              "\n",
              "[2211861 rows x 4 columns]"
            ],
            "text/html": [
              "\n",
              "  <div id=\"df-0684d07a-93ff-4ccc-9e7e-d8f48710f1b6\">\n",
              "    <div class=\"colab-df-container\">\n",
              "      <div>\n",
              "<style scoped>\n",
              "    .dataframe tbody tr th:only-of-type {\n",
              "        vertical-align: middle;\n",
              "    }\n",
              "\n",
              "    .dataframe tbody tr th {\n",
              "        vertical-align: top;\n",
              "    }\n",
              "\n",
              "    .dataframe thead th {\n",
              "        text-align: right;\n",
              "    }\n",
              "</style>\n",
              "<table border=\"1\" class=\"dataframe\">\n",
              "  <thead>\n",
              "    <tr style=\"text-align: right;\">\n",
              "      <th></th>\n",
              "      <th>target</th>\n",
              "      <th>text</th>\n",
              "      <th>line_number</th>\n",
              "      <th>total_lines</th>\n",
              "    </tr>\n",
              "  </thead>\n",
              "  <tbody>\n",
              "    <tr>\n",
              "      <th>0</th>\n",
              "      <td>BACKGROUND</td>\n",
              "      <td>the emergence of hiv as a chronic condition me...</td>\n",
              "      <td>0</td>\n",
              "      <td>10</td>\n",
              "    </tr>\n",
              "    <tr>\n",
              "      <th>1</th>\n",
              "      <td>BACKGROUND</td>\n",
              "      <td>this paper describes the design and evaluation...</td>\n",
              "      <td>1</td>\n",
              "      <td>10</td>\n",
              "    </tr>\n",
              "    <tr>\n",
              "      <th>2</th>\n",
              "      <td>METHODS</td>\n",
              "      <td>this study is designed as a randomised control...</td>\n",
              "      <td>2</td>\n",
              "      <td>10</td>\n",
              "    </tr>\n",
              "    <tr>\n",
              "      <th>3</th>\n",
              "      <td>METHODS</td>\n",
              "      <td>the intervention group will participate in the...</td>\n",
              "      <td>3</td>\n",
              "      <td>10</td>\n",
              "    </tr>\n",
              "    <tr>\n",
              "      <th>4</th>\n",
              "      <td>METHODS</td>\n",
              "      <td>the program is based on self-efficacy theory a...</td>\n",
              "      <td>4</td>\n",
              "      <td>10</td>\n",
              "    </tr>\n",
              "    <tr>\n",
              "      <th>...</th>\n",
              "      <td>...</td>\n",
              "      <td>...</td>\n",
              "      <td>...</td>\n",
              "      <td>...</td>\n",
              "    </tr>\n",
              "    <tr>\n",
              "      <th>2211856</th>\n",
              "      <td>METHODS</td>\n",
              "      <td>after crossover , the wait-list group received...</td>\n",
              "      <td>5</td>\n",
              "      <td>9</td>\n",
              "    </tr>\n",
              "    <tr>\n",
              "      <th>2211857</th>\n",
              "      <td>METHODS</td>\n",
              "      <td>performance was assessed by comparison to amer...</td>\n",
              "      <td>6</td>\n",
              "      <td>9</td>\n",
              "    </tr>\n",
              "    <tr>\n",
              "      <th>2211858</th>\n",
              "      <td>RESULTS</td>\n",
              "      <td>performance improved significantly after simul...</td>\n",
              "      <td>7</td>\n",
              "      <td>9</td>\n",
              "    </tr>\n",
              "    <tr>\n",
              "      <th>2211859</th>\n",
              "      <td>RESULTS</td>\n",
              "      <td>no improvement was detected as a function of c...</td>\n",
              "      <td>8</td>\n",
              "      <td>9</td>\n",
              "    </tr>\n",
              "    <tr>\n",
              "      <th>2211860</th>\n",
              "      <td>RESULTS</td>\n",
              "      <td>the educational program was rated highly .</td>\n",
              "      <td>9</td>\n",
              "      <td>9</td>\n",
              "    </tr>\n",
              "  </tbody>\n",
              "</table>\n",
              "<p>2211861 rows × 4 columns</p>\n",
              "</div>\n",
              "      <button class=\"colab-df-convert\" onclick=\"convertToInteractive('df-0684d07a-93ff-4ccc-9e7e-d8f48710f1b6')\"\n",
              "              title=\"Convert this dataframe to an interactive table.\"\n",
              "              style=\"display:none;\">\n",
              "        \n",
              "  <svg xmlns=\"http://www.w3.org/2000/svg\" height=\"24px\"viewBox=\"0 0 24 24\"\n",
              "       width=\"24px\">\n",
              "    <path d=\"M0 0h24v24H0V0z\" fill=\"none\"/>\n",
              "    <path d=\"M18.56 5.44l.94 2.06.94-2.06 2.06-.94-2.06-.94-.94-2.06-.94 2.06-2.06.94zm-11 1L8.5 8.5l.94-2.06 2.06-.94-2.06-.94L8.5 2.5l-.94 2.06-2.06.94zm10 10l.94 2.06.94-2.06 2.06-.94-2.06-.94-.94-2.06-.94 2.06-2.06.94z\"/><path d=\"M17.41 7.96l-1.37-1.37c-.4-.4-.92-.59-1.43-.59-.52 0-1.04.2-1.43.59L10.3 9.45l-7.72 7.72c-.78.78-.78 2.05 0 2.83L4 21.41c.39.39.9.59 1.41.59.51 0 1.02-.2 1.41-.59l7.78-7.78 2.81-2.81c.8-.78.8-2.07 0-2.86zM5.41 20L4 18.59l7.72-7.72 1.47 1.35L5.41 20z\"/>\n",
              "  </svg>\n",
              "      </button>\n",
              "      \n",
              "  <style>\n",
              "    .colab-df-container {\n",
              "      display:flex;\n",
              "      flex-wrap:wrap;\n",
              "      gap: 12px;\n",
              "    }\n",
              "\n",
              "    .colab-df-convert {\n",
              "      background-color: #E8F0FE;\n",
              "      border: none;\n",
              "      border-radius: 50%;\n",
              "      cursor: pointer;\n",
              "      display: none;\n",
              "      fill: #1967D2;\n",
              "      height: 32px;\n",
              "      padding: 0 0 0 0;\n",
              "      width: 32px;\n",
              "    }\n",
              "\n",
              "    .colab-df-convert:hover {\n",
              "      background-color: #E2EBFA;\n",
              "      box-shadow: 0px 1px 2px rgba(60, 64, 67, 0.3), 0px 1px 3px 1px rgba(60, 64, 67, 0.15);\n",
              "      fill: #174EA6;\n",
              "    }\n",
              "\n",
              "    [theme=dark] .colab-df-convert {\n",
              "      background-color: #3B4455;\n",
              "      fill: #D2E3FC;\n",
              "    }\n",
              "\n",
              "    [theme=dark] .colab-df-convert:hover {\n",
              "      background-color: #434B5C;\n",
              "      box-shadow: 0px 1px 3px 1px rgba(0, 0, 0, 0.15);\n",
              "      filter: drop-shadow(0px 1px 2px rgba(0, 0, 0, 0.3));\n",
              "      fill: #FFFFFF;\n",
              "    }\n",
              "  </style>\n",
              "\n",
              "      <script>\n",
              "        const buttonEl =\n",
              "          document.querySelector('#df-0684d07a-93ff-4ccc-9e7e-d8f48710f1b6 button.colab-df-convert');\n",
              "        buttonEl.style.display =\n",
              "          google.colab.kernel.accessAllowed ? 'block' : 'none';\n",
              "\n",
              "        async function convertToInteractive(key) {\n",
              "          const element = document.querySelector('#df-0684d07a-93ff-4ccc-9e7e-d8f48710f1b6');\n",
              "          const dataTable =\n",
              "            await google.colab.kernel.invokeFunction('convertToInteractive',\n",
              "                                                     [key], {});\n",
              "          if (!dataTable) return;\n",
              "\n",
              "          const docLinkHtml = 'Like what you see? Visit the ' +\n",
              "            '<a target=\"_blank\" href=https://colab.research.google.com/notebooks/data_table.ipynb>data table notebook</a>'\n",
              "            + ' to learn more about interactive tables.';\n",
              "          element.innerHTML = '';\n",
              "          dataTable['output_type'] = 'display_data';\n",
              "          await google.colab.output.renderOutput(dataTable, element);\n",
              "          const docLink = document.createElement('div');\n",
              "          docLink.innerHTML = docLinkHtml;\n",
              "          element.appendChild(docLink);\n",
              "        }\n",
              "      </script>\n",
              "    </div>\n",
              "  </div>\n",
              "  "
            ]
          },
          "metadata": {},
          "execution_count": 9
        }
      ],
      "source": [
        "# check the first abstract_line\n",
        "import pandas as pd\n",
        "train_df = pd.DataFrame(train_samples)\n",
        "val_df = pd.DataFrame(train_samples)\n",
        "test_df = pd.DataFrame(train_samples)\n",
        "#train_df[\"target\"] = numeric_labels\n",
        "train_df"
      ]
    },
    {
      "cell_type": "code",
      "execution_count": 10,
      "metadata": {
        "id": "PNilwfEHgFyw",
        "colab": {
          "base_uri": "https://localhost:8080/"
        },
        "outputId": "287384ab-b121-4f26-d5c3-0a922ba4183e"
      },
      "outputs": [
        {
          "output_type": "execute_result",
          "data": {
            "text/plain": [
              "(2211861, 2211861, 2211861)"
            ]
          },
          "metadata": {},
          "execution_count": 10
        }
      ],
      "source": [
        "# Convert abstract text lines into lists\n",
        "train_sentences = train_df[\"text\"].tolist()\n",
        "val_sentences = val_df[\"text\"].tolist()\n",
        "test_sentences = test_df[\"text\"].tolist()\n",
        "len(train_sentences), len(val_sentences), len(test_sentences)\n",
        "\n"
      ]
    },
    {
      "cell_type": "code",
      "source": [
        "from sklearn.preprocessing import OneHotEncoder\n",
        "one_hot_encoder = OneHotEncoder(sparse=False) # we want non-sparse matrix\n",
        "train_labels_one_hot = one_hot_encoder.fit_transform(train_df[\"target\"].to_numpy().reshape(-1,1))\n",
        "val_labels_one_hot = one_hot_encoder.fit_transform(val_df[\"target\"].to_numpy().reshape(-1,1))\n",
        "test_labels_one_hot = one_hot_encoder.fit_transform(test_df[\"target\"].to_numpy().reshape(-1,1))\n",
        "\n",
        "# check what one hot encoded labels look like\n",
        "train_labels_one_hot"
      ],
      "metadata": {
        "id": "-nNuB1SrncaW",
        "colab": {
          "base_uri": "https://localhost:8080/"
        },
        "outputId": "58b2b158-0b4e-48ce-b119-462d6e0c0481"
      },
      "execution_count": 11,
      "outputs": [
        {
          "output_type": "execute_result",
          "data": {
            "text/plain": [
              "array([[1., 0., 0., 0., 0.],\n",
              "       [1., 0., 0., 0., 0.],\n",
              "       [0., 0., 1., 0., 0.],\n",
              "       ...,\n",
              "       [0., 0., 0., 0., 1.],\n",
              "       [0., 0., 0., 0., 1.],\n",
              "       [0., 0., 0., 0., 1.]])"
            ]
          },
          "metadata": {},
          "execution_count": 11
        }
      ]
    },
    {
      "cell_type": "code",
      "execution_count": 12,
      "metadata": {
        "id": "OpwbA1i0f1q7",
        "colab": {
          "base_uri": "https://localhost:8080/"
        },
        "outputId": "e6e688e6-54e3-4095-93dc-1f5c57aadac0"
      },
      "outputs": [
        {
          "output_type": "execute_result",
          "data": {
            "text/plain": [
              "(<tf.Tensor: shape=(15,), dtype=float32, numpy=\n",
              " array([0., 1., 0., 0., 0., 0., 0., 0., 0., 0., 0., 0., 0., 0., 0.],\n",
              "       dtype=float32)>, TensorShape([2211861, 15]))"
            ]
          },
          "metadata": {},
          "execution_count": 12
        }
      ],
      "source": [
        "# Use TensorFlow to create one-hot-encoded tensors of our \"line_number\" column\n",
        "train_line_numbers_one_hot = tf.one_hot(train_df[\"line_number\"].to_numpy(), depth=15)\n",
        "val_line_numbers_one_hot = tf.one_hot(val_df[\"line_number\"].to_numpy(), depth=15)\n",
        "test_line_numbers_one_hot = tf.one_hot(test_df[\"line_number\"].to_numpy(), depth=15)\n",
        "\n",
        "train_line_numbers_one_hot[1], train_line_numbers_one_hot.shape"
      ]
    },
    {
      "cell_type": "code",
      "execution_count": 13,
      "metadata": {
        "id": "dbm1CW2Ff2QX",
        "colab": {
          "base_uri": "https://localhost:8080/"
        },
        "outputId": "9b898675-6b5a-49eb-c475-ee5a37f0c68f"
      },
      "outputs": [
        {
          "output_type": "execute_result",
          "data": {
            "text/plain": [
              "(TensorShape([2211861, 20]), <tf.Tensor: shape=(10, 20), dtype=float32, numpy=\n",
              " array([[0., 0., 0., 0., 0., 0., 0., 0., 0., 0., 1., 0., 0., 0., 0., 0.,\n",
              "         0., 0., 0., 0.],\n",
              "        [0., 0., 0., 0., 0., 0., 0., 0., 0., 0., 1., 0., 0., 0., 0., 0.,\n",
              "         0., 0., 0., 0.],\n",
              "        [0., 0., 0., 0., 0., 0., 0., 0., 0., 0., 1., 0., 0., 0., 0., 0.,\n",
              "         0., 0., 0., 0.],\n",
              "        [0., 0., 0., 0., 0., 0., 0., 0., 0., 0., 1., 0., 0., 0., 0., 0.,\n",
              "         0., 0., 0., 0.],\n",
              "        [0., 0., 0., 0., 0., 0., 0., 0., 0., 0., 1., 0., 0., 0., 0., 0.,\n",
              "         0., 0., 0., 0.],\n",
              "        [0., 0., 0., 0., 0., 0., 0., 0., 0., 0., 1., 0., 0., 0., 0., 0.,\n",
              "         0., 0., 0., 0.],\n",
              "        [0., 0., 0., 0., 0., 0., 0., 0., 0., 0., 1., 0., 0., 0., 0., 0.,\n",
              "         0., 0., 0., 0.],\n",
              "        [0., 0., 0., 0., 0., 0., 0., 0., 0., 0., 1., 0., 0., 0., 0., 0.,\n",
              "         0., 0., 0., 0.],\n",
              "        [0., 0., 0., 0., 0., 0., 0., 0., 0., 0., 1., 0., 0., 0., 0., 0.,\n",
              "         0., 0., 0., 0.],\n",
              "        [0., 0., 0., 0., 0., 0., 0., 0., 0., 0., 1., 0., 0., 0., 0., 0.,\n",
              "         0., 0., 0., 0.]], dtype=float32)>)"
            ]
          },
          "metadata": {},
          "execution_count": 13
        }
      ],
      "source": [
        "# Use tensorflow to create one hot encoded tensors of our \"total_lines\" features\n",
        "train_total_lines_one_hot = tf.one_hot(train_df[\"total_lines\"].to_numpy(), depth=20)\n",
        "val_total_lines_one_hot = tf.one_hot(val_df[\"total_lines\"].to_numpy(), depth=20)\n",
        "test_total_lines_one_hot = tf.one_hot(test_df[\"total_lines\"].to_numpy(), depth=20)\n",
        "train_total_lines_one_hot.shape, train_total_lines_one_hot[:10]"
      ]
    },
    {
      "cell_type": "code",
      "execution_count": 14,
      "metadata": {
        "id": "2nSvVb3enq6i",
        "colab": {
          "base_uri": "https://localhost:8080/",
          "height": 53
        },
        "outputId": "dad12faf-322c-409f-f44e-b0c1fc09c575"
      },
      "outputs": [
        {
          "output_type": "execute_result",
          "data": {
            "text/plain": [
              "'t h e   e m e r g e n c e   o f   h i v   a s   a   c h r o n i c   c o n d i t i o n   m e a n s   t h a t   p e o p l e   l i v i n g   w i t h   h i v   a r e   r e q u i r e d   t o   t a k e   m o r e   r e s p o n s i b i l i t y   f o r   t h e   s e l f - m a n a g e m e n t   o f   t h e i r   c o n d i t i o n   ,   i n c l u d i n g   m a k i n g   p h y s i c a l   ,   e m o t i o n a l   a n d   s o c i a l   a d j u s t m e n t s   .'"
            ],
            "application/vnd.google.colaboratory.intrinsic+json": {
              "type": "string"
            }
          },
          "metadata": {},
          "execution_count": 14
        }
      ],
      "source": [
        "def split_chars(text):\n",
        "  return \" \".join(list(text))\n",
        "  \n",
        "# Split sequence-level data splits into character-level data splits \n",
        "train_chars = [split_chars(sentence) for sentence in train_sentences]\n",
        "test_chars = [split_chars(sentence) for sentence in test_sentences]\n",
        "val_chars = [split_chars(sentence) for sentence in val_sentences]\n",
        "train_chars[0]"
      ]
    },
    {
      "cell_type": "code",
      "execution_count": 15,
      "metadata": {
        "id": "hWfLZ5TEf1oA"
      },
      "outputs": [],
      "source": [
        "# Create training and validation datasets (with all four kinds of input data)\n",
        "train_char_token_pos_data = tf.data.Dataset.from_tensor_slices((train_line_numbers_one_hot,\n",
        "                                                                train_total_lines_one_hot,\n",
        "                                                                train_sentences,\n",
        "                                                                train_chars))\n",
        "train_char_token_pos_labels = tf.data.Dataset.from_tensor_slices(train_labels_one_hot)\n",
        "train_char_token_pos_dataset = tf.data.Dataset.zip((train_char_token_pos_data, train_char_token_pos_labels))\n",
        "train_char_token_pos_dataset = train_char_token_pos_dataset.batch(32).prefetch(tf.data.AUTOTUNE)\n",
        "\n",
        "# DO THE SAME AS ABOVE BUT FOR THE VALIDATION DATASET\n",
        "val_char_token_pos_data = tf.data.Dataset.from_tensor_slices((val_line_numbers_one_hot,\n",
        "                                                                val_total_lines_one_hot,\n",
        "                                                                val_sentences,\n",
        "                                                                val_chars))\n",
        "val_char_token_pos_labels = tf.data.Dataset.from_tensor_slices(val_labels_one_hot)\n",
        "val_char_token_pos_dataset = tf.data.Dataset.zip((val_char_token_pos_data, val_char_token_pos_labels))\n",
        "val_char_token_pos_dataset = val_char_token_pos_dataset.batch(32).prefetch(tf.data.AUTOTUNE)\n"
      ]
    },
    {
      "cell_type": "code",
      "execution_count": 16,
      "metadata": {
        "id": "sQXvwFJbf1hA"
      },
      "outputs": [],
      "source": [
        "# Define the callbacks\n",
        "checkpoint_callback = tf.keras.callbacks.ModelCheckpoint(filepath='best_weights',\n",
        "                                                         monitor='val_loss',\n",
        "                                                         save_best_only=True,\n",
        "                                                         save_weights_only=True,\n",
        "                                                         verbose=1)\n",
        "\n",
        "early_stopping_callback = tf.keras.callbacks.EarlyStopping(monitor='val_loss',\n",
        "                                                           patience=3,\n",
        "                                                           verbose=1)\n"
      ]
    },
    {
      "cell_type": "code",
      "source": [
        "# # Download pretrained TensorFlow Hub USE\n",
        "# import tensorflow_hub as hub\n",
        "\n",
        "# tf_hub_embedding_layer = hub.KerasLayer(\"https://tfhub.dev/google/universal-sentence-encoder/4\",\n",
        "#                                   trainable=False,\n",
        "#                                   name=\"universal_sentence_encoder\")\n",
        "# embeddings = tf_hub_embedding_layer([\n",
        "#     \"The quick brown fox jumps over the lazy dog.\",\n",
        "#     \"I am a sentence for which I would like to get its embedding\"])\n",
        "\n",
        "# print(embeddings)"
      ],
      "metadata": {
        "id": "12nz0x4gji-9"
      },
      "execution_count": 17,
      "outputs": []
    },
    {
      "cell_type": "code",
      "source": [
        "# # Find what character length covers 95% of sequences\n",
        "# output_seq_char_len = int(np.percentile(char_lens, 95))\n",
        "# output_seq_char_len"
      ],
      "metadata": {
        "id": "dnlYIBZgkim1"
      },
      "execution_count": 18,
      "outputs": []
    },
    {
      "cell_type": "code",
      "source": [],
      "metadata": {
        "id": "VlFMBQoGkSK9"
      },
      "execution_count": 18,
      "outputs": []
    },
    {
      "cell_type": "code",
      "source": [
        "# # Test out the pretrained embedding on a random sentence\n",
        "# random_train_sentence = random.choice(train_sentences)\n",
        "# print(f\"Random sentence:\\n {random_train_sentence}\")\n",
        "# use_embedded_sentence = tf_hub_embedding_layer([random_train_sentence])\n",
        "# print(f\"sentence after embedding:\\n{use_embedded_sentence[0][:30]}\")\n",
        "# print(f\"Length of sentence embedding: {len(use_embedded_sentence[0])}\")\n",
        "\n",
        "# def split_chars(text):\n",
        "#   return \" \".join(list(text))\n",
        "\n",
        "# # Text splitting non-character-level sequence into characters\n",
        "# split_chars(random_train_sentence)\n"
      ],
      "metadata": {
        "id": "1MW_0peikfwp"
      },
      "execution_count": 19,
      "outputs": []
    },
    {
      "cell_type": "code",
      "source": [
        "\n",
        "# # Split sequence-level data splits into character-level data splits \n",
        "# train_chars = [split_chars(sentence) for sentence in train_sentences]\n",
        "# test_chars = [split_chars(sentence) for sentence in test_sentences]\n",
        "# val_chars = [split_chars(sentence) for sentence in val_sentences]\n",
        "# train_chars[0]"
      ],
      "metadata": {
        "id": "oB6d0dnnxVNu"
      },
      "execution_count": 20,
      "outputs": []
    },
    {
      "cell_type": "code",
      "source": [
        "\n",
        "\n",
        "# # What's the average character length ?\n",
        "# char_lens = [len(sentence) for sentence in train_sentences]\n",
        "# mean_char_len = np.mean(char_lens)\n",
        "# mean_char_len\n",
        "\n",
        "# # Get all keyboard characters\n",
        "# import string\n",
        "# alphabet = string.ascii_lowercase + string.digits + string.punctuation\n",
        "# alphabet\n",
        "\n",
        "# # Create char-level token vectorizer instance\n",
        "# NUM_CHAR_TOKENS = len(alphabet) + 2 # add 2 for space and OOV token (OOV = out of vocab, '[UNK]')\n",
        "\n",
        "# # Find what character length covers 95% of sequences\n",
        "# output_seq_char_len = int(np.percentile(char_lens, 95))\n",
        "# output_seq_char_len\n",
        "\n",
        "#     # Create a text vectorizer \n",
        "# char_vectorizer = tf.keras.layers.experimental.preprocessing.TextVectorization(max_tokens = NUM_CHAR_TOKENS,\n",
        "#                                                                                output_sequence_length= output_seq_char_len,\n",
        "#                                                                                #standardize=None, # set standardization to \"None\" if you want leave the ponctuation in\n",
        "#                                                                                name=\"char_vectorizer\")\n"
      ],
      "metadata": {
        "id": "Mgq_nbNQkFDf"
      },
      "execution_count": 21,
      "outputs": []
    },
    {
      "cell_type": "code",
      "source": [
        "# # Adapt character vectorizer to training character\n",
        "# char_vectorizer.adapt(train_chars)\n",
        "\n",
        "#  # Check character vocab stats\n",
        "# char_vocab = char_vectorizer.get_vocabulary()\n",
        "# print(f\"Number of different characters in character vocab: {len(char_vocab)}\")\n",
        "# print(f\"5 most common characters: {char_vocab[:5]}\")\n",
        "# print(f\"5 least common characters: {char_vocab[-5:]}\")\n",
        "\n",
        "# # Create char embedding layer\n",
        "# char_embed = tf.keras.layers.Embedding(input_dim=len(char_vocab), # this is the number of differente characters\n",
        "#                                        output_dim= 25, # is the size of char_embedding in  the paper (figure 1)\n",
        "#                                        mask_zero=True,\n",
        "#                                        name=\"char_embed\")"
      ],
      "metadata": {
        "id": "7qe7SFR6or-d"
      },
      "execution_count": 22,
      "outputs": []
    },
    {
      "cell_type": "code",
      "source": [
        "# # 1. Token inputs\n",
        "# token_model = tf.keras.Sequential([\n",
        "#     tf.keras.layers.Input(shape=[], dtype=tf.string, name=\"token_inputs\"),\n",
        "#     tf_hub_embedding_layer,\n",
        "#     tf.keras.layers.Dense(128, activation=\"relu\"),\n",
        "# ], name=\"token_model\")\n",
        "\n",
        "# # 2. Char inputs\n",
        "# char_model = tf.keras.Sequential([\n",
        "#     tf.keras.layers.Input(shape=(1, ), dtype=tf.string, name=\"char_inputs\"),\n",
        "#     char_vectorizer,\n",
        "#     char_embed,\n",
        "#     tf.keras.layers.Bidirectional(tf.keras.layers.LSTM(24), name=\"bi_lstm_output\")\n",
        "# ], name=\"char_model\")\n",
        "    \n",
        "# # 3. Line numbers model\n",
        "# line_number_model = tf.keras.Sequential([\n",
        "#     tf.keras.layers.Input(shape=(15,), dtype=tf.float32, name=\"input_line_numbers\"),\n",
        "#     tf.keras.layers.Dense(32, activation=\"relu\")    \n",
        "# ],name=\"line_number_model\")\n",
        "\n",
        "# # 4. Total lines model\n",
        "# total_line_model = tf.keras.Sequential([\n",
        "#     tf.keras.layers.Input(shape=(20,), dtype=tf.float32, name=\"input_total_line_numbers\"),\n",
        "#     tf.keras.layers.Dense(32, activation=\"relu\")    \n",
        "# ],name=\"total_line_model\")\n",
        "\n",
        "# # 5. Combine token and cher embeddings into a hybrid embedding\n",
        "# combined_embeddings = tf.keras.layers.Concatenate(name=\"char_token_hybrid_embedding\")([token_model.output,\n",
        "#                                                                                        char_model.output])\n",
        "# z = tf.keras.layers.Dense(256, activation=\"relu\")(combined_embeddings)\n",
        "# z = tf.keras.layers.Dropout(0.5)(z)\n",
        "\n",
        "# # 6. Combine positional embedding with combined token and char embeddings \n",
        "# tribrid_embeddings = tf.keras.layers.Concatenate(name=\"char_token_positional_embedding\")([line_number_model.output,\n",
        "#                                                                                        total_line_model.output,\n",
        "#                                                                                        combined_embeddings])\n",
        "# # 7. Create output layer\n",
        "# output_layer = tf.keras.layers.Dense(5, activation=\"softmax\", name=\"output_layer\")(tribrid_embeddings)\n",
        "\n",
        "# # 8. Put together model with all kinds of inputs\n",
        "# model_5 = tf.keras.Model(inputs=[line_number_model.input,\n",
        "#                                  total_line_model.input,\n",
        "#                                  token_model.input,\n",
        "#                                  char_model.input], outputs =output_layer, name=\"tribrid_embedding_model\")"
      ],
      "metadata": {
        "id": "IrqRUmeWjZSh"
      },
      "execution_count": 23,
      "outputs": []
    },
    {
      "cell_type": "code",
      "source": [
        "# # Compile token, char, and positional embedding model\n",
        "# model_5.compile(loss=tf.keras.losses.CategoricalCrossentropy(label_smoothing=0.2), # Helps to prevent overfiting\n",
        "#                 optimizer=tf.keras.optimizers.Adam(),\n",
        "#                 metrics=[\"accuracy\"])"
      ],
      "metadata": {
        "id": "Sgfp36aJiWjr"
      },
      "execution_count": 24,
      "outputs": []
    },
    {
      "cell_type": "code",
      "source": [],
      "metadata": {
        "id": "xP4ulgi3iWfr"
      },
      "execution_count": 24,
      "outputs": []
    },
    {
      "cell_type": "code",
      "source": [
        "# import tensorflow_hub as hub\n",
        "import tensorflow as tf\n",
        "loaded_model_5 = tf.keras.models.load_model(\"drive/MyDrive/save_models/model_5.H5\")"
      ],
      "metadata": {
        "id": "ZNLIS48yCi_S"
      },
      "execution_count": 25,
      "outputs": []
    },
    {
      "cell_type": "code",
      "source": [
        "loaded_model_5.summary()"
      ],
      "metadata": {
        "colab": {
          "base_uri": "https://localhost:8080/"
        },
        "id": "9tY7yP5MyyxI",
        "outputId": "6caaaf29-e421-40f9-a9e4-d6c3c594cc4d"
      },
      "execution_count": 26,
      "outputs": [
        {
          "output_type": "stream",
          "name": "stdout",
          "text": [
            "Model: \"tribrid_embedding_model\"\n",
            "__________________________________________________________________________________________________\n",
            " Layer (type)                   Output Shape         Param #     Connected to                     \n",
            "==================================================================================================\n",
            " char_inputs (InputLayer)       [(None, 1)]          0           []                               \n",
            "                                                                                                  \n",
            " token_inputs (InputLayer)      [(None,)]            0           []                               \n",
            "                                                                                                  \n",
            " char_vectorizer (TextVectoriza  (None, 290)         0           ['char_inputs[0][0]']            \n",
            " tion)                                                                                            \n",
            "                                                                                                  \n",
            " universal_sentence_encoder (Ke  (None, 512)         256797824   ['token_inputs[0][0]']           \n",
            " rasLayer)                                                                                        \n",
            "                                                                                                  \n",
            " char_embed (Embedding)         (None, 290, 25)      700         ['char_vectorizer[0][0]']        \n",
            "                                                                                                  \n",
            " input_line_numbers (InputLayer  [(None, 15)]        0           []                               \n",
            " )                                                                                                \n",
            "                                                                                                  \n",
            " input_total_line_numbers (Inpu  [(None, 20)]        0           []                               \n",
            " tLayer)                                                                                          \n",
            "                                                                                                  \n",
            " dense_4 (Dense)                (None, 128)          65664       ['universal_sentence_encoder[0][0\n",
            "                                                                 ]']                              \n",
            "                                                                                                  \n",
            " bi_lstm_output (Bidirectional)  (None, 48)          9600        ['char_embed[0][0]']             \n",
            "                                                                                                  \n",
            " dense_5 (Dense)                (None, 32)           512         ['input_line_numbers[0][0]']     \n",
            "                                                                                                  \n",
            " dense_6 (Dense)                (None, 32)           672         ['input_total_line_numbers[0][0]'\n",
            "                                                                 ]                                \n",
            "                                                                                                  \n",
            " char_token_hybrid_embedding (C  (None, 176)         0           ['dense_4[0][0]',                \n",
            " oncatenate)                                                      'bi_lstm_output[0][0]']         \n",
            "                                                                                                  \n",
            " char_token_positional_embeddin  (None, 240)         0           ['dense_5[0][0]',                \n",
            " g (Concatenate)                                                  'dense_6[0][0]',                \n",
            "                                                                  'char_token_hybrid_embedding[0][\n",
            "                                                                 0]']                             \n",
            "                                                                                                  \n",
            " output_layer (Dense)           (None, 5)            1205        ['char_token_positional_embedding\n",
            "                                                                 [0][0]']                         \n",
            "                                                                                                  \n",
            "==================================================================================================\n",
            "Total params: 256,876,177\n",
            "Trainable params: 78,353\n",
            "Non-trainable params: 256,797,824\n",
            "__________________________________________________________________________________________________\n"
          ]
        }
      ]
    },
    {
      "cell_type": "code",
      "execution_count": 27,
      "metadata": {
        "id": "gmAyv6bGf1ec",
        "colab": {
          "base_uri": "https://localhost:8080/"
        },
        "outputId": "78ebb9e3-57cc-47ad-df16-c5fcf2052d8c"
      },
      "outputs": [
        {
          "output_type": "stream",
          "name": "stdout",
          "text": [
            "Epoch 1/10\n",
            "691/691 [==============================] - ETA: 0s - loss: 0.9338 - accuracy: 0.8362\n",
            "Epoch 1: val_loss improved from inf to 0.91594, saving model to best_weights\n",
            "691/691 [==============================] - 52s 48ms/step - loss: 0.9338 - accuracy: 0.8362 - val_loss: 0.9159 - val_accuracy: 0.8497\n",
            "Epoch 2/10\n",
            "689/691 [============================>.] - ETA: 0s - loss: 0.9357 - accuracy: 0.8329\n",
            "Epoch 2: val_loss did not improve from 0.91594\n",
            "691/691 [==============================] - 30s 43ms/step - loss: 0.9355 - accuracy: 0.8330 - val_loss: 0.9162 - val_accuracy: 0.8502\n",
            "Epoch 3/10\n",
            "690/691 [============================>.] - ETA: 0s - loss: 0.9306 - accuracy: 0.8384\n",
            "Epoch 3: val_loss improved from 0.91594 to 0.91526, saving model to best_weights\n",
            "691/691 [==============================] - 32s 46ms/step - loss: 0.9305 - accuracy: 0.8384 - val_loss: 0.9153 - val_accuracy: 0.8495\n",
            "Epoch 4/10\n",
            "690/691 [============================>.] - ETA: 0s - loss: 0.9219 - accuracy: 0.8435\n",
            "Epoch 4: val_loss improved from 0.91526 to 0.91504, saving model to best_weights\n",
            "691/691 [==============================] - 35s 51ms/step - loss: 0.9221 - accuracy: 0.8434 - val_loss: 0.9150 - val_accuracy: 0.8513\n",
            "Epoch 5/10\n",
            "689/691 [============================>.] - ETA: 0s - loss: 0.9216 - accuracy: 0.8451\n",
            "Epoch 5: val_loss improved from 0.91504 to 0.91190, saving model to best_weights\n",
            "691/691 [==============================] - 30s 43ms/step - loss: 0.9214 - accuracy: 0.8452 - val_loss: 0.9119 - val_accuracy: 0.8528\n",
            "Epoch 6/10\n",
            "691/691 [==============================] - ETA: 0s - loss: 0.9172 - accuracy: 0.8480\n",
            "Epoch 6: val_loss improved from 0.91190 to 0.91066, saving model to best_weights\n",
            "691/691 [==============================] - 31s 45ms/step - loss: 0.9172 - accuracy: 0.8480 - val_loss: 0.9107 - val_accuracy: 0.8532\n",
            "Epoch 7/10\n",
            "689/691 [============================>.] - ETA: 0s - loss: 0.9143 - accuracy: 0.8516\n",
            "Epoch 7: val_loss did not improve from 0.91066\n",
            "691/691 [==============================] - 27s 39ms/step - loss: 0.9144 - accuracy: 0.8515 - val_loss: 0.9111 - val_accuracy: 0.8522\n",
            "Epoch 8/10\n",
            "691/691 [==============================] - ETA: 0s - loss: 0.9246 - accuracy: 0.8423\n",
            "Epoch 8: val_loss improved from 0.91066 to 0.90984, saving model to best_weights\n",
            "691/691 [==============================] - 31s 46ms/step - loss: 0.9246 - accuracy: 0.8423 - val_loss: 0.9098 - val_accuracy: 0.8548\n",
            "Epoch 9/10\n",
            "690/691 [============================>.] - ETA: 0s - loss: 0.9131 - accuracy: 0.8505\n",
            "Epoch 9: val_loss improved from 0.90984 to 0.90500, saving model to best_weights\n",
            "691/691 [==============================] - 29s 42ms/step - loss: 0.9131 - accuracy: 0.8504 - val_loss: 0.9050 - val_accuracy: 0.8578\n",
            "Epoch 10/10\n",
            "691/691 [==============================] - ETA: 0s - loss: 0.9087 - accuracy: 0.8576\n",
            "Epoch 10: val_loss improved from 0.90500 to 0.90494, saving model to best_weights\n",
            "691/691 [==============================] - 33s 48ms/step - loss: 0.9087 - accuracy: 0.8576 - val_loss: 0.9049 - val_accuracy: 0.8589\n"
          ]
        }
      ],
      "source": [
        "# Train the model with the callbacks\n",
        "history_loaded_model_5 = loaded_model_5.fit(train_char_token_pos_dataset,\n",
        "                              steps_per_epoch=int(0.01*len(train_char_token_pos_dataset)),\n",
        "                              validation_data=val_char_token_pos_dataset,\n",
        "                              epochs=10,\n",
        "                              validation_steps=int(0.01*len(val_char_token_pos_dataset)),\n",
        "                              callbacks=[checkpoint_callback,\n",
        "                                         early_stopping_callback])"
      ]
    },
    {
      "cell_type": "code",
      "execution_count": null,
      "metadata": {
        "id": "Uvrruabwf1cE"
      },
      "outputs": [],
      "source": []
    },
    {
      "cell_type": "code",
      "execution_count": null,
      "metadata": {
        "id": "Gwe4-r0Bf1ZQ"
      },
      "outputs": [],
      "source": []
    },
    {
      "cell_type": "code",
      "execution_count": null,
      "metadata": {
        "id": "bu64AZcef1Wv"
      },
      "outputs": [],
      "source": []
    },
    {
      "cell_type": "code",
      "execution_count": null,
      "metadata": {
        "id": "vIdPstO1f1Tu"
      },
      "outputs": [],
      "source": []
    },
    {
      "cell_type": "code",
      "execution_count": null,
      "metadata": {
        "id": "3COJ55Ghf1Q0"
      },
      "outputs": [],
      "source": []
    },
    {
      "cell_type": "code",
      "execution_count": null,
      "metadata": {
        "id": "XF0XdMmpf1OQ"
      },
      "outputs": [],
      "source": []
    },
    {
      "cell_type": "code",
      "execution_count": null,
      "metadata": {
        "id": "ImR5uBXMf1Lu"
      },
      "outputs": [],
      "source": []
    },
    {
      "cell_type": "markdown",
      "metadata": {
        "id": "FFni2RdfemnR"
      },
      "source": [
        "## 2. Checkout the Keras guide on using pretrained GloVe embeddings. Can you get this working with one of our models?\n",
        "- Hint: You'll want to incorporate it with a custom token Embedding layer.\n",
        "- It's up to you whether or not you fine-tune the GloVe embeddings or leave them frozen."
      ]
    },
    {
      "cell_type": "markdown",
      "source": [],
      "metadata": {
        "id": "Yytkg9JIjQ7A"
      }
    },
    {
      "cell_type": "code",
      "source": [
        "# SOLUTION : Check embedding with Glove above"
      ],
      "metadata": {
        "id": "czzH-X2yVo43"
      },
      "execution_count": 111,
      "outputs": []
    },
    {
      "cell_type": "markdown",
      "metadata": {
        "id": "AjdDSfajemkG"
      },
      "source": [
        "## Try replacing the TensorFlow Hub Universal Sentence Encoder pretrained embedding for the TensorFlow Hub BERT PubMed expert (a language model pretrained on PubMed texts) pretrained embedding. Does this effect results?\n",
        "- Note: Using the BERT PubMed expert pretrained embedding requires an extra preprocessing step for sequences (as detailed in the TensorFlow Hub guide).\n",
        "- Does the BERT model beat the results mentioned in this paper? https://arxiv.org/pdf/1710.06071.pdf"
      ]
    },
    {
      "cell_type": "code",
      "execution_count": null,
      "metadata": {
        "id": "jJrP8oyvfdXN"
      },
      "outputs": [],
      "source": []
    },
    {
      "cell_type": "markdown",
      "metadata": {
        "id": "QLMRznJvemWN"
      },
      "source": [
        "## 4. What happens if you were to merge our line_number and total_lines features for each sequence? For example, created a X_of_Y feature instead? Does this effect model performance?\n",
        "- Another example: line_number=1 and total_lines=11 turns into line_of_X=1_of_11."
      ]
    },
    {
      "cell_type": "code",
      "execution_count": null,
      "metadata": {
        "id": "dzPtpJzofd8l"
      },
      "outputs": [],
      "source": []
    },
    {
      "cell_type": "markdown",
      "metadata": {
        "id": "piJTvdGWfN1B"
      },
      "source": [
        "## 5. Write a function (or series of functions) to take a sample abstract string, preprocess it (in the same way our model has been trained), make a prediction on each sequence in the abstract and return the abstract in the format:\n",
        "- PREDICTED_LABEL: SEQUENCE\n",
        "- PREDICTED_LABEL: SEQUENCE\n",
        "- PREDICTED_LABEL: SEQUENCE\n",
        "- PREDICTED_LABEL: SEQUENCE\n",
        "- ...\n",
        "  - You can find your own unstructured RCT abstract from PubMed or try this one from: Baclofen promotes alcohol abstinence in alcohol dependent cirrhotic patients with hepatitis C virus (HCV) infection.\n"
      ]
    },
    {
      "cell_type": "code",
      "execution_count": null,
      "metadata": {
        "id": "n6AY0io5ejor"
      },
      "outputs": [],
      "source": []
    }
  ],
  "metadata": {
    "colab": {
      "provenance": [],
      "collapsed_sections": [
        "s_2LZo71emze"
      ],
      "machine_shape": "hm",
      "mount_file_id": "1jy273MxWs9JpRUT6kp--Lj6r41m2765_",
      "authorship_tag": "ABX9TyMvDfqpgF1ySzsGuB2ivsG+"
    },
    "gpuClass": "premium",
    "kernelspec": {
      "display_name": "Python 3",
      "name": "python3"
    },
    "language_info": {
      "name": "python"
    },
    "accelerator": "GPU"
  },
  "nbformat": 4,
  "nbformat_minor": 0
}