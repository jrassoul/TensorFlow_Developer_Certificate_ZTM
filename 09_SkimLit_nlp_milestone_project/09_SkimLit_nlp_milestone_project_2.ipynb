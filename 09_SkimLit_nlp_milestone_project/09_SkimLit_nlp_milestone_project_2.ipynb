{
  "nbformat": 4,
  "nbformat_minor": 0,
  "metadata": {
    "colab": {
      "provenance": [],
      "collapsed_sections": [
        "98t0AersbyAq"
      ],
      "mount_file_id": "1jy273MxWs9JpRUT6kp--Lj6r41m2765_",
      "authorship_tag": "ABX9TyOK78IbByiFhwcgnIWOmAgj"
    },
    "kernelspec": {
      "name": "python3",
      "display_name": "Python 3"
    },
    "language_info": {
      "name": "python"
    },
    "accelerator": "GPU",
    "gpuClass": "standard"
  },
  "cells": [
    {
      "cell_type": "markdown",
      "source": [
        "# Milestone Poject 2 : skimLit\n",
        "\n",
        "The purpose of this notebook is to build an NLP model to make reading medical abstracts easier.\n",
        "\n",
        "The paper we're replicating (the source of the dataset that we'll be using) is available here : https://arxiv.org/abs/1710.06071\n",
        "        \n",
        "And reading through the paper above, we see that the model architecture that they use to achieve their best results is available : https://arxiv.org/abs/1612.05251\n",
        "        \n",
        "*Resource :* If you want to find the ground truth for this notebook(with lots of diagrams and text annotation) see the Github: https://github.com/mrdbourke/tensorflow-deep-learning/blob/main/09_SkimLit_nlp_milestone_project_2.ipynb\n",
        "\n"
      ],
      "metadata": {
        "id": "rUvkCiyW5bnR"
      }
    },
    {
      "cell_type": "markdown",
      "source": [
        "## Import dependencies"
      ],
      "metadata": {
        "id": "ktnWL-Y96YaR"
      }
    },
    {
      "cell_type": "code",
      "source": [
        "# from google.colab import drive\n",
        "# drive.mount('/content/drive')"
      ],
      "metadata": {
        "id": "quyWCgDbdTMD"
      },
      "execution_count": 5,
      "outputs": []
    },
    {
      "cell_type": "code",
      "source": [
        "# Import dependencies\n",
        "import sys\n",
        "import pandas as pd\n",
        "import matplotlib.pyplot as plt\n",
        "import numpy as np\n",
        "import tensorflow as tf\n",
        "# sys.path.append(r\"C:\\Users/wjub/01workspace/TensorFlow Developer Certificate ZTM\")\n",
        "sys.path.append(r\"/content/drive/MyDrive/TensorFlow_Developer_Certificate_ZTM/\")\n",
        "\n",
        "import helper_functions\n",
        "from helper_functions import calculate_results\n",
        "import random"
      ],
      "metadata": {
        "id": "Huinz6QO5YsF"
      },
      "execution_count": 6,
      "outputs": []
    },
    {
      "cell_type": "code",
      "source": [],
      "metadata": {
        "id": "gJAyIoHr8eaw"
      },
      "execution_count": 6,
      "outputs": []
    },
    {
      "cell_type": "code",
      "source": [
        "# Confirm acces to GPU\n",
        "!nvidia-smi"
      ],
      "metadata": {
        "colab": {
          "base_uri": "https://localhost:8080/"
        },
        "id": "rR3rMGRe5rS-",
        "outputId": "c7abddbb-b85c-4630-dc7c-7223e7deaedf"
      },
      "execution_count": 7,
      "outputs": [
        {
          "output_type": "stream",
          "name": "stdout",
          "text": [
            "Tue Feb 21 22:51:47 2023       \n",
            "+-----------------------------------------------------------------------------+\n",
            "| NVIDIA-SMI 510.47.03    Driver Version: 510.47.03    CUDA Version: 11.6     |\n",
            "|-------------------------------+----------------------+----------------------+\n",
            "| GPU  Name        Persistence-M| Bus-Id        Disp.A | Volatile Uncorr. ECC |\n",
            "| Fan  Temp  Perf  Pwr:Usage/Cap|         Memory-Usage | GPU-Util  Compute M. |\n",
            "|                               |                      |               MIG M. |\n",
            "|===============================+======================+======================|\n",
            "|   0  Tesla T4            Off  | 00000000:00:04.0 Off |                    0 |\n",
            "| N/A   48C    P0    28W /  70W |   2376MiB / 15360MiB |      0%      Default |\n",
            "|                               |                      |                  N/A |\n",
            "+-------------------------------+----------------------+----------------------+\n",
            "                                                                               \n",
            "+-----------------------------------------------------------------------------+\n",
            "| Processes:                                                                  |\n",
            "|  GPU   GI   CI        PID   Type   Process name                  GPU Memory |\n",
            "|        ID   ID                                                   Usage      |\n",
            "|=============================================================================|\n",
            "|    0   N/A  N/A      2054      C                                    2373MiB |\n",
            "+-----------------------------------------------------------------------------+\n"
          ]
        }
      ]
    },
    {
      "cell_type": "markdown",
      "source": [
        "## Get data and process data\n",
        "\n",
        "Since we'll be replicating the paper above (PubMed 200K RCT)? let's download the dataset they used,\n",
        "We can do so from the authors GitHub : "
      ],
      "metadata": {
        "id": "iCLEnoWv5uu4"
      }
    },
    {
      "cell_type": "code",
      "source": [
        "!git clone https://github.com/Franck-Dernoncourt/pubmed-rct\n",
        "# Check what files are in the PubMed_20K dataset\n"
      ],
      "metadata": {
        "colab": {
          "base_uri": "https://localhost:8080/"
        },
        "id": "guziDrsI5sst",
        "outputId": "de5a88a8-7202-4802-b512-a8f7310deb8f"
      },
      "execution_count": 8,
      "outputs": [
        {
          "output_type": "stream",
          "name": "stdout",
          "text": [
            "Cloning into 'pubmed-rct'...\n",
            "remote: Enumerating objects: 33, done.\u001b[K\n",
            "remote: Counting objects: 100% (8/8), done.\u001b[K\n",
            "remote: Compressing objects: 100% (3/3), done.\u001b[K\n",
            "remote: Total 33 (delta 5), reused 5 (delta 5), pack-reused 25\u001b[K\n",
            "Unpacking objects: 100% (33/33), 177.08 MiB | 10.10 MiB/s, done.\n"
          ]
        }
      ]
    },
    {
      "cell_type": "code",
      "source": [
        "ls pubmed-rct"
      ],
      "metadata": {
        "colab": {
          "base_uri": "https://localhost:8080/"
        },
        "id": "vTazp-225wtt",
        "outputId": "3cd2403b-9bad-4142-b68b-189f6997ca7a"
      },
      "execution_count": 9,
      "outputs": [
        {
          "output_type": "stream",
          "name": "stdout",
          "text": [
            "\u001b[0m\u001b[01;34mPubMed_200k_RCT\u001b[0m/\n",
            "\u001b[01;34mPubMed_200k_RCT_numbers_replaced_with_at_sign\u001b[0m/\n",
            "\u001b[01;34mPubMed_20k_RCT\u001b[0m/\n",
            "\u001b[01;34mPubMed_20k_RCT_numbers_replaced_with_at_sign\u001b[0m/\n",
            "README.md\n"
          ]
        }
      ]
    },
    {
      "cell_type": "code",
      "source": [
        "ls pubmed-rct/PubMed_20k_RCT"
      ],
      "metadata": {
        "colab": {
          "base_uri": "https://localhost:8080/"
        },
        "id": "eCB3YsJl5xmN",
        "outputId": "259c1ace-c172-43d4-c5b7-3a8fe1f7b3ec"
      },
      "execution_count": 10,
      "outputs": [
        {
          "output_type": "stream",
          "name": "stdout",
          "text": [
            "dev.txt  test.txt  train.txt\n"
          ]
        }
      ]
    },
    {
      "cell_type": "code",
      "source": [
        "# Start our experiments using the 20k dataset with numbers replaced by \"#\" sign\n",
        "data_dir = \"pubmed-rct/PubMed_20k_RCT_numbers_replaced_with_at_sign/\""
      ],
      "metadata": {
        "id": "jyIwh_pR509b"
      },
      "execution_count": 11,
      "outputs": []
    },
    {
      "cell_type": "code",
      "source": [
        "# Check all of the filenames in the target directory\n",
        "import os\n",
        "filenames= [data_dir + filename for filename in os.listdir(data_dir)]\n",
        "filenames"
      ],
      "metadata": {
        "colab": {
          "base_uri": "https://localhost:8080/"
        },
        "id": "WMitT4s0506m",
        "outputId": "23de3f74-56a7-4d53-bc0a-01269574e50b"
      },
      "execution_count": 12,
      "outputs": [
        {
          "output_type": "execute_result",
          "data": {
            "text/plain": [
              "['pubmed-rct/PubMed_20k_RCT_numbers_replaced_with_at_sign/dev.txt',\n",
              " 'pubmed-rct/PubMed_20k_RCT_numbers_replaced_with_at_sign/train.txt',\n",
              " 'pubmed-rct/PubMed_20k_RCT_numbers_replaced_with_at_sign/test.txt']"
            ]
          },
          "metadata": {},
          "execution_count": 12
        }
      ]
    },
    {
      "cell_type": "markdown",
      "source": [
        "### Preprocess data \n",
        "\n",
        "Now we've got some text data, it's time to become one with it.\n",
        "\n",
        "And one of the best ways to become one with data is to...\n",
        "\n",
        "> Visualize, visualize, vizualize\n",
        "\n",
        "So with that in mind, let's write a function to read in all of the lines of a target text file."
      ],
      "metadata": {
        "id": "0BJlNq8a6IaL"
      }
    },
    {
      "cell_type": "code",
      "source": [
        "# Create function to read lines of a document\n",
        "def get_lines(filename):\n",
        "    \"\"\"\n",
        "    Reads filename (a text filename) and returns the line of text as list.\n",
        "    \n",
        "    Args:\n",
        "    \tfilename: a string containing the target filepath.\n",
        "    Returns:\n",
        "    \tA list of strings with one string with one string per line from the target filename.  \n",
        "    \"\"\"\n",
        "    with open(filename, \"r\") as f:\n",
        "        return f.readlines()"
      ],
      "metadata": {
        "id": "yvmBmYif504Q"
      },
      "execution_count": 13,
      "outputs": []
    },
    {
      "cell_type": "code",
      "source": [
        "# Let's read in the training lines\n",
        "train_lines = get_lines(data_dir+\"train.txt\")\n",
        "train_lines[:30]"
      ],
      "metadata": {
        "colab": {
          "base_uri": "https://localhost:8080/"
        },
        "id": "XR4eXd0g501x",
        "outputId": "91bb2808-1655-4893-e5da-4935d90212a1"
      },
      "execution_count": 14,
      "outputs": [
        {
          "output_type": "execute_result",
          "data": {
            "text/plain": [
              "['###24293578\\n',\n",
              " 'OBJECTIVE\\tTo investigate the efficacy of @ weeks of daily low-dose oral prednisolone in improving pain , mobility , and systemic low-grade inflammation in the short term and whether the effect would be sustained at @ weeks in older adults with moderate to severe knee osteoarthritis ( OA ) .\\n',\n",
              " 'METHODS\\tA total of @ patients with primary knee OA were randomized @:@ ; @ received @ mg/day of prednisolone and @ received placebo for @ weeks .\\n',\n",
              " 'METHODS\\tOutcome measures included pain reduction and improvement in function scores and systemic inflammation markers .\\n',\n",
              " 'METHODS\\tPain was assessed using the visual analog pain scale ( @-@ mm ) .\\n',\n",
              " 'METHODS\\tSecondary outcome measures included the Western Ontario and McMaster Universities Osteoarthritis Index scores , patient global assessment ( PGA ) of the severity of knee OA , and @-min walk distance ( @MWD ) .\\n',\n",
              " 'METHODS\\tSerum levels of interleukin @ ( IL-@ ) , IL-@ , tumor necrosis factor ( TNF ) - , and high-sensitivity C-reactive protein ( hsCRP ) were measured .\\n',\n",
              " 'RESULTS\\tThere was a clinically relevant reduction in the intervention group compared to the placebo group for knee pain , physical function , PGA , and @MWD at @ weeks .\\n',\n",
              " 'RESULTS\\tThe mean difference between treatment arms ( @ % CI ) was @ ( @-@ @ ) , p < @ ; @ ( @-@ @ ) , p < @ ; @ ( @-@ @ ) , p < @ ; and @ ( @-@ @ ) , p < @ , respectively .\\n',\n",
              " 'RESULTS\\tFurther , there was a clinically relevant reduction in the serum levels of IL-@ , IL-@ , TNF - , and hsCRP at @ weeks in the intervention group when compared to the placebo group .\\n',\n",
              " 'RESULTS\\tThese differences remained significant at @ weeks .\\n',\n",
              " 'RESULTS\\tThe Outcome Measures in Rheumatology Clinical Trials-Osteoarthritis Research Society International responder rate was @ % in the intervention group and @ % in the placebo group ( p < @ ) .\\n',\n",
              " 'CONCLUSIONS\\tLow-dose oral prednisolone had both a short-term and a longer sustained effect resulting in less knee pain , better physical function , and attenuation of systemic inflammation in older patients with knee OA ( ClinicalTrials.gov identifier NCT@ ) .\\n',\n",
              " '\\n',\n",
              " '###24854809\\n',\n",
              " 'BACKGROUND\\tEmotional eating is associated with overeating and the development of obesity .\\n',\n",
              " 'BACKGROUND\\tYet , empirical evidence for individual ( trait ) differences in emotional eating and cognitive mechanisms that contribute to eating during sad mood remain equivocal .\\n',\n",
              " 'OBJECTIVE\\tThe aim of this study was to test if attention bias for food moderates the effect of self-reported emotional eating during sad mood ( vs neutral mood ) on actual food intake .\\n',\n",
              " 'OBJECTIVE\\tIt was expected that emotional eating is predictive of elevated attention for food and higher food intake after an experimentally induced sad mood and that attentional maintenance on food predicts food intake during a sad versus a neutral mood .\\n',\n",
              " 'METHODS\\tParticipants ( N = @ ) were randomly assigned to one of the two experimental mood induction conditions ( sad/neutral ) .\\n',\n",
              " 'METHODS\\tAttentional biases for high caloric foods were measured by eye tracking during a visual probe task with pictorial food and neutral stimuli .\\n',\n",
              " 'METHODS\\tSelf-reported emotional eating was assessed with the Dutch Eating Behavior Questionnaire ( DEBQ ) and ad libitum food intake was tested by a disguised food offer .\\n',\n",
              " 'RESULTS\\tHierarchical multivariate regression modeling showed that self-reported emotional eating did not account for changes in attention allocation for food or food intake in either condition .\\n',\n",
              " 'RESULTS\\tYet , attention maintenance on food cues was significantly related to increased intake specifically in the neutral condition , but not in the sad mood condition .\\n',\n",
              " 'CONCLUSIONS\\tThe current findings show that self-reported emotional eating ( based on the DEBQ ) might not validly predict who overeats when sad , at least not in a laboratory setting with healthy women .\\n',\n",
              " 'CONCLUSIONS\\tResults further suggest that attention maintenance on food relates to eating motivation when in a neutral affective state , and might therefore be a cognitive mechanism contributing to increased food intake in general , but maybe not during sad mood .\\n',\n",
              " '\\n',\n",
              " '###25165090\\n',\n",
              " 'BACKGROUND\\tAlthough working smoke alarms halve deaths in residential fires , many households do not keep alarms operational .\\n',\n",
              " 'BACKGROUND\\tWe tested whether theory-based education increases alarm operability .\\n']"
            ]
          },
          "metadata": {},
          "execution_count": 14
        }
      ]
    },
    {
      "cell_type": "code",
      "source": [
        "len(train_lines)"
      ],
      "metadata": {
        "colab": {
          "base_uri": "https://localhost:8080/"
        },
        "id": "yZ6kb8tq50zO",
        "outputId": "600818be-66ab-4b69-f49d-95c3e41e2411"
      },
      "execution_count": 15,
      "outputs": [
        {
          "output_type": "execute_result",
          "data": {
            "text/plain": [
              "210040"
            ]
          },
          "metadata": {},
          "execution_count": 15
        }
      ]
    },
    {
      "cell_type": "code",
      "source": [
        "from helper_functions import preprocess_text_with_line_numbers"
      ],
      "metadata": {
        "id": "KsQ-vKvr50wv"
      },
      "execution_count": 16,
      "outputs": []
    },
    {
      "cell_type": "code",
      "source": [],
      "metadata": {
        "id": "YaXmYMny-_dJ"
      },
      "execution_count": 16,
      "outputs": []
    },
    {
      "cell_type": "code",
      "source": [
        "# Get data from file and preprocess it \n",
        "%time\n",
        "train_samples = preprocess_text_with_line_numbers(data_dir+\"train.txt\")\n",
        "val_samples = preprocess_text_with_line_numbers(data_dir+\"dev.txt\") # dev is another name for validation dataset\n",
        "test_samples = preprocess_text_with_line_numbers(data_dir+\"test.txt\")\n",
        "print(len(train_samples), len(val_samples), len(test_samples))"
      ],
      "metadata": {
        "id": "lzOmnM4H50uo",
        "colab": {
          "base_uri": "https://localhost:8080/"
        },
        "outputId": "97504796-36ab-481f-c77e-6bc1509c6e0f"
      },
      "execution_count": 17,
      "outputs": [
        {
          "output_type": "stream",
          "name": "stdout",
          "text": [
            "CPU times: user 3 µs, sys: 1 µs, total: 4 µs\n",
            "Wall time: 7.63 µs\n",
            "180040 30212 30135\n"
          ]
        }
      ]
    },
    {
      "cell_type": "markdown",
      "source": [
        "Now that our data is the frormat of a list of ditionaries, how about we turn it into dataframe to futher visualize it?"
      ],
      "metadata": {
        "id": "Pjq2FuPg7lXu"
      }
    },
    {
      "cell_type": "code",
      "source": [
        "# check the first abstract_line\n",
        "import pandas as pd\n",
        "train_df = pd.DataFrame(train_samples)\n",
        "val_df = pd.DataFrame(train_samples)\n",
        "test_df = pd.DataFrame(train_samples)\n",
        "#train_df[\"target\"] = numeric_labels\n",
        "train_df"
      ],
      "metadata": {
        "id": "DMLtYxZc50ry",
        "colab": {
          "base_uri": "https://localhost:8080/",
          "height": 424
        },
        "outputId": "fd14f725-4834-4983-d517-0d035db16517"
      },
      "execution_count": 18,
      "outputs": [
        {
          "output_type": "execute_result",
          "data": {
            "text/plain": [
              "             target                                               text  \\\n",
              "0         OBJECTIVE  to investigate the efficacy of @ weeks of dail...   \n",
              "1           METHODS  a total of @ patients with primary knee oa wer...   \n",
              "2           METHODS  outcome measures included pain reduction and i...   \n",
              "3           METHODS  pain was assessed using the visual analog pain...   \n",
              "4           METHODS  secondary outcome measures included the wester...   \n",
              "...             ...                                                ...   \n",
              "180035      RESULTS  for the absolute change in percent atheroma vo...   \n",
              "180036      RESULTS  for pav , a significantly greater percentage o...   \n",
              "180037      RESULTS  both strategies had acceptable side effect pro...   \n",
              "180038  CONCLUSIONS  compared with standard statin monotherapy , th...   \n",
              "180039  CONCLUSIONS  ( plaque regression with cholesterol absorptio...   \n",
              "\n",
              "        line_number  total_lines  \n",
              "0                 0           11  \n",
              "1                 1           11  \n",
              "2                 2           11  \n",
              "3                 3           11  \n",
              "4                 4           11  \n",
              "...             ...          ...  \n",
              "180035            7           11  \n",
              "180036            8           11  \n",
              "180037            9           11  \n",
              "180038           10           11  \n",
              "180039           11           11  \n",
              "\n",
              "[180040 rows x 4 columns]"
            ],
            "text/html": [
              "\n",
              "  <div id=\"df-709fd472-2918-47e3-96f2-b2f5404874b2\">\n",
              "    <div class=\"colab-df-container\">\n",
              "      <div>\n",
              "<style scoped>\n",
              "    .dataframe tbody tr th:only-of-type {\n",
              "        vertical-align: middle;\n",
              "    }\n",
              "\n",
              "    .dataframe tbody tr th {\n",
              "        vertical-align: top;\n",
              "    }\n",
              "\n",
              "    .dataframe thead th {\n",
              "        text-align: right;\n",
              "    }\n",
              "</style>\n",
              "<table border=\"1\" class=\"dataframe\">\n",
              "  <thead>\n",
              "    <tr style=\"text-align: right;\">\n",
              "      <th></th>\n",
              "      <th>target</th>\n",
              "      <th>text</th>\n",
              "      <th>line_number</th>\n",
              "      <th>total_lines</th>\n",
              "    </tr>\n",
              "  </thead>\n",
              "  <tbody>\n",
              "    <tr>\n",
              "      <th>0</th>\n",
              "      <td>OBJECTIVE</td>\n",
              "      <td>to investigate the efficacy of @ weeks of dail...</td>\n",
              "      <td>0</td>\n",
              "      <td>11</td>\n",
              "    </tr>\n",
              "    <tr>\n",
              "      <th>1</th>\n",
              "      <td>METHODS</td>\n",
              "      <td>a total of @ patients with primary knee oa wer...</td>\n",
              "      <td>1</td>\n",
              "      <td>11</td>\n",
              "    </tr>\n",
              "    <tr>\n",
              "      <th>2</th>\n",
              "      <td>METHODS</td>\n",
              "      <td>outcome measures included pain reduction and i...</td>\n",
              "      <td>2</td>\n",
              "      <td>11</td>\n",
              "    </tr>\n",
              "    <tr>\n",
              "      <th>3</th>\n",
              "      <td>METHODS</td>\n",
              "      <td>pain was assessed using the visual analog pain...</td>\n",
              "      <td>3</td>\n",
              "      <td>11</td>\n",
              "    </tr>\n",
              "    <tr>\n",
              "      <th>4</th>\n",
              "      <td>METHODS</td>\n",
              "      <td>secondary outcome measures included the wester...</td>\n",
              "      <td>4</td>\n",
              "      <td>11</td>\n",
              "    </tr>\n",
              "    <tr>\n",
              "      <th>...</th>\n",
              "      <td>...</td>\n",
              "      <td>...</td>\n",
              "      <td>...</td>\n",
              "      <td>...</td>\n",
              "    </tr>\n",
              "    <tr>\n",
              "      <th>180035</th>\n",
              "      <td>RESULTS</td>\n",
              "      <td>for the absolute change in percent atheroma vo...</td>\n",
              "      <td>7</td>\n",
              "      <td>11</td>\n",
              "    </tr>\n",
              "    <tr>\n",
              "      <th>180036</th>\n",
              "      <td>RESULTS</td>\n",
              "      <td>for pav , a significantly greater percentage o...</td>\n",
              "      <td>8</td>\n",
              "      <td>11</td>\n",
              "    </tr>\n",
              "    <tr>\n",
              "      <th>180037</th>\n",
              "      <td>RESULTS</td>\n",
              "      <td>both strategies had acceptable side effect pro...</td>\n",
              "      <td>9</td>\n",
              "      <td>11</td>\n",
              "    </tr>\n",
              "    <tr>\n",
              "      <th>180038</th>\n",
              "      <td>CONCLUSIONS</td>\n",
              "      <td>compared with standard statin monotherapy , th...</td>\n",
              "      <td>10</td>\n",
              "      <td>11</td>\n",
              "    </tr>\n",
              "    <tr>\n",
              "      <th>180039</th>\n",
              "      <td>CONCLUSIONS</td>\n",
              "      <td>( plaque regression with cholesterol absorptio...</td>\n",
              "      <td>11</td>\n",
              "      <td>11</td>\n",
              "    </tr>\n",
              "  </tbody>\n",
              "</table>\n",
              "<p>180040 rows × 4 columns</p>\n",
              "</div>\n",
              "      <button class=\"colab-df-convert\" onclick=\"convertToInteractive('df-709fd472-2918-47e3-96f2-b2f5404874b2')\"\n",
              "              title=\"Convert this dataframe to an interactive table.\"\n",
              "              style=\"display:none;\">\n",
              "        \n",
              "  <svg xmlns=\"http://www.w3.org/2000/svg\" height=\"24px\"viewBox=\"0 0 24 24\"\n",
              "       width=\"24px\">\n",
              "    <path d=\"M0 0h24v24H0V0z\" fill=\"none\"/>\n",
              "    <path d=\"M18.56 5.44l.94 2.06.94-2.06 2.06-.94-2.06-.94-.94-2.06-.94 2.06-2.06.94zm-11 1L8.5 8.5l.94-2.06 2.06-.94-2.06-.94L8.5 2.5l-.94 2.06-2.06.94zm10 10l.94 2.06.94-2.06 2.06-.94-2.06-.94-.94-2.06-.94 2.06-2.06.94z\"/><path d=\"M17.41 7.96l-1.37-1.37c-.4-.4-.92-.59-1.43-.59-.52 0-1.04.2-1.43.59L10.3 9.45l-7.72 7.72c-.78.78-.78 2.05 0 2.83L4 21.41c.39.39.9.59 1.41.59.51 0 1.02-.2 1.41-.59l7.78-7.78 2.81-2.81c.8-.78.8-2.07 0-2.86zM5.41 20L4 18.59l7.72-7.72 1.47 1.35L5.41 20z\"/>\n",
              "  </svg>\n",
              "      </button>\n",
              "      \n",
              "  <style>\n",
              "    .colab-df-container {\n",
              "      display:flex;\n",
              "      flex-wrap:wrap;\n",
              "      gap: 12px;\n",
              "    }\n",
              "\n",
              "    .colab-df-convert {\n",
              "      background-color: #E8F0FE;\n",
              "      border: none;\n",
              "      border-radius: 50%;\n",
              "      cursor: pointer;\n",
              "      display: none;\n",
              "      fill: #1967D2;\n",
              "      height: 32px;\n",
              "      padding: 0 0 0 0;\n",
              "      width: 32px;\n",
              "    }\n",
              "\n",
              "    .colab-df-convert:hover {\n",
              "      background-color: #E2EBFA;\n",
              "      box-shadow: 0px 1px 2px rgba(60, 64, 67, 0.3), 0px 1px 3px 1px rgba(60, 64, 67, 0.15);\n",
              "      fill: #174EA6;\n",
              "    }\n",
              "\n",
              "    [theme=dark] .colab-df-convert {\n",
              "      background-color: #3B4455;\n",
              "      fill: #D2E3FC;\n",
              "    }\n",
              "\n",
              "    [theme=dark] .colab-df-convert:hover {\n",
              "      background-color: #434B5C;\n",
              "      box-shadow: 0px 1px 3px 1px rgba(0, 0, 0, 0.15);\n",
              "      filter: drop-shadow(0px 1px 2px rgba(0, 0, 0, 0.3));\n",
              "      fill: #FFFFFF;\n",
              "    }\n",
              "  </style>\n",
              "\n",
              "      <script>\n",
              "        const buttonEl =\n",
              "          document.querySelector('#df-709fd472-2918-47e3-96f2-b2f5404874b2 button.colab-df-convert');\n",
              "        buttonEl.style.display =\n",
              "          google.colab.kernel.accessAllowed ? 'block' : 'none';\n",
              "\n",
              "        async function convertToInteractive(key) {\n",
              "          const element = document.querySelector('#df-709fd472-2918-47e3-96f2-b2f5404874b2');\n",
              "          const dataTable =\n",
              "            await google.colab.kernel.invokeFunction('convertToInteractive',\n",
              "                                                     [key], {});\n",
              "          if (!dataTable) return;\n",
              "\n",
              "          const docLinkHtml = 'Like what you see? Visit the ' +\n",
              "            '<a target=\"_blank\" href=https://colab.research.google.com/notebooks/data_table.ipynb>data table notebook</a>'\n",
              "            + ' to learn more about interactive tables.';\n",
              "          element.innerHTML = '';\n",
              "          dataTable['output_type'] = 'display_data';\n",
              "          await google.colab.output.renderOutput(dataTable, element);\n",
              "          const docLink = document.createElement('div');\n",
              "          docLink.innerHTML = docLinkHtml;\n",
              "          element.appendChild(docLink);\n",
              "        }\n",
              "      </script>\n",
              "    </div>\n",
              "  </div>\n",
              "  "
            ]
          },
          "metadata": {},
          "execution_count": 18
        }
      ]
    },
    {
      "cell_type": "code",
      "source": [
        "# Distribution of labels in training data\n",
        "train_df.target.value_counts()"
      ],
      "metadata": {
        "id": "vi6muObV50pO",
        "colab": {
          "base_uri": "https://localhost:8080/"
        },
        "outputId": "9746528b-4e05-46b2-acea-9fd96ed57dde"
      },
      "execution_count": 19,
      "outputs": [
        {
          "output_type": "execute_result",
          "data": {
            "text/plain": [
              "METHODS        59353\n",
              "RESULTS        57953\n",
              "CONCLUSIONS    27168\n",
              "BACKGROUND     21727\n",
              "OBJECTIVE      13839\n",
              "Name: target, dtype: int64"
            ]
          },
          "metadata": {},
          "execution_count": 19
        }
      ]
    },
    {
      "cell_type": "code",
      "source": [
        "# let's check length of different lines\n",
        "train_df.total_lines.plot.hist()"
      ],
      "metadata": {
        "id": "ScSjxH0e50m5",
        "colab": {
          "base_uri": "https://localhost:8080/",
          "height": 284
        },
        "outputId": "e2776db2-fe3a-43b4-a57e-90f3668d12a9"
      },
      "execution_count": 20,
      "outputs": [
        {
          "output_type": "execute_result",
          "data": {
            "text/plain": [
              "<matplotlib.axes._subplots.AxesSubplot at 0x7f749ee3cdc0>"
            ]
          },
          "metadata": {},
          "execution_count": 20
        },
        {
          "output_type": "display_data",
          "data": {
            "text/plain": [
              "<Figure size 432x288 with 1 Axes>"
            ],
            "image/png": "[encoded data removed]"
          },
          "metadata": {
            "needs_background": "light"
          }
        }
      ]
    },
    {
      "cell_type": "markdown",
      "source": [
        "### Get lists of senteces"
      ],
      "metadata": {
        "id": "IlHBzkfQ7sQt"
      }
    },
    {
      "cell_type": "code",
      "source": [
        "# Convert abstract text lines into lists\n",
        "train_sentences = train_df[\"text\"].tolist()\n",
        "val_sentences = val_df[\"text\"].tolist()\n",
        "test_sentences = test_df[\"text\"].tolist()\n",
        "len(train_sentences), len(val_sentences), len(test_sentences)\n"
      ],
      "metadata": {
        "id": "A7nD5ZKl7ol-",
        "colab": {
          "base_uri": "https://localhost:8080/"
        },
        "outputId": "56d6b6e2-442c-4567-fa33-047e6c250e5b"
      },
      "execution_count": 21,
      "outputs": [
        {
          "output_type": "execute_result",
          "data": {
            "text/plain": [
              "(180040, 180040, 180040)"
            ]
          },
          "metadata": {},
          "execution_count": 21
        }
      ]
    },
    {
      "cell_type": "code",
      "source": [
        "# View the 10 lines o ftraining sentences\n",
        "train_sentences[:10]"
      ],
      "metadata": {
        "id": "rNW1oG9-50ko",
        "colab": {
          "base_uri": "https://localhost:8080/"
        },
        "outputId": "115a5b4d-2beb-4a60-900c-eb1474a002b0"
      },
      "execution_count": 22,
      "outputs": [
        {
          "output_type": "execute_result",
          "data": {
            "text/plain": [
              "['to investigate the efficacy of @ weeks of daily low-dose oral prednisolone in improving pain , mobility , and systemic low-grade inflammation in the short term and whether the effect would be sustained at @ weeks in older adults with moderate to severe knee osteoarthritis ( oa ) .',\n",
              " 'a total of @ patients with primary knee oa were randomized @:@ ; @ received @ mg/day of prednisolone and @ received placebo for @ weeks .',\n",
              " 'outcome measures included pain reduction and improvement in function scores and systemic inflammation markers .',\n",
              " 'pain was assessed using the visual analog pain scale ( @-@ mm ) .',\n",
              " 'secondary outcome measures included the western ontario and mcmaster universities osteoarthritis index scores , patient global assessment ( pga ) of the severity of knee oa , and @-min walk distance ( @mwd ) .',\n",
              " 'serum levels of interleukin @ ( il-@ ) , il-@ , tumor necrosis factor ( tnf ) - , and high-sensitivity c-reactive protein ( hscrp ) were measured .',\n",
              " 'there was a clinically relevant reduction in the intervention group compared to the placebo group for knee pain , physical function , pga , and @mwd at @ weeks .',\n",
              " 'the mean difference between treatment arms ( @ % ci ) was @ ( @-@ @ ) , p < @ ; @ ( @-@ @ ) , p < @ ; @ ( @-@ @ ) , p < @ ; and @ ( @-@ @ ) , p < @ , respectively .',\n",
              " 'further , there was a clinically relevant reduction in the serum levels of il-@ , il-@ , tnf - , and hscrp at @ weeks in the intervention group when compared to the placebo group .',\n",
              " 'these differences remained significant at @ weeks .']"
            ]
          },
          "metadata": {},
          "execution_count": 22
        }
      ]
    },
    {
      "cell_type": "markdown",
      "source": [
        "### Make numeric labels (ML models require numeric labels)"
      ],
      "metadata": {
        "id": "ZE-626A47wIe"
      }
    },
    {
      "cell_type": "code",
      "source": [
        "from sklearn.preprocessing import OneHotEncoder\n",
        "one_hot_encoder = OneHotEncoder(sparse=False) # we want non-sparse matrix\n",
        "train_labels_one_hot = one_hot_encoder.fit_transform(train_df[\"target\"].to_numpy().reshape(-1,1))\n",
        "val_labels_one_hot = one_hot_encoder.fit_transform(val_df[\"target\"].to_numpy().reshape(-1,1))\n",
        "test_labels_one_hot = one_hot_encoder.fit_transform(test_df[\"target\"].to_numpy().reshape(-1,1))\n",
        "\n",
        "# check what one hot encoded labels look like\n",
        "train_labels_one_hot"
      ],
      "metadata": {
        "id": "Toa-UNmW7uVO",
        "colab": {
          "base_uri": "https://localhost:8080/"
        },
        "outputId": "7d54a24a-7105-4387-d46a-a4b3ea0e548c"
      },
      "execution_count": 23,
      "outputs": [
        {
          "output_type": "execute_result",
          "data": {
            "text/plain": [
              "array([[0., 0., 0., 1., 0.],\n",
              "       [0., 0., 1., 0., 0.],\n",
              "       [0., 0., 1., 0., 0.],\n",
              "       ...,\n",
              "       [0., 0., 0., 0., 1.],\n",
              "       [0., 1., 0., 0., 0.],\n",
              "       [0., 1., 0., 0., 0.]])"
            ]
          },
          "metadata": {},
          "execution_count": 23
        }
      ]
    },
    {
      "cell_type": "code",
      "source": [
        "import tensorflow as tf\n",
        "tf.constant(train_labels_one_hot)"
      ],
      "metadata": {
        "id": "dbacq7LC50hw",
        "colab": {
          "base_uri": "https://localhost:8080/"
        },
        "outputId": "c6972fd7-d3cf-4148-b95f-6efcc18f2f16"
      },
      "execution_count": 24,
      "outputs": [
        {
          "output_type": "execute_result",
          "data": {
            "text/plain": [
              "<tf.Tensor: shape=(180040, 5), dtype=float64, numpy=\n",
              "array([[0., 0., 0., 1., 0.],\n",
              "       [0., 0., 1., 0., 0.],\n",
              "       [0., 0., 1., 0., 0.],\n",
              "       ...,\n",
              "       [0., 0., 0., 0., 1.],\n",
              "       [0., 1., 0., 0., 0.],\n",
              "       [0., 1., 0., 0., 0.]])>"
            ]
          },
          "metadata": {},
          "execution_count": 24
        }
      ]
    },
    {
      "cell_type": "markdown",
      "source": [
        "###  Label encode labels"
      ],
      "metadata": {
        "id": "mJj5PH_q72h2"
      }
    },
    {
      "cell_type": "code",
      "source": [
        "# Extract labels (\"target\" columns) and encode them into integers\n",
        "from sklearn.preprocessing import LabelEncoder\n",
        "label_encoder = LabelEncoder()\n",
        "train_labels_encoded = label_encoder.fit_transform(train_df[\"target\"])\n",
        "val_labels_encoded = label_encoder.fit_transform(val_df[\"target\"])\n",
        "test_labels_encoded = label_encoder.fit_transform(test_df[\"target\"])\n",
        "\n",
        "# Check what training labels look like\n",
        "train_labels_encoded"
      ],
      "metadata": {
        "id": "4xog0Kwc50e-",
        "colab": {
          "base_uri": "https://localhost:8080/"
        },
        "outputId": "bf4f2b91-c031-4197-b0a2-30cf08a7f3f5"
      },
      "execution_count": 25,
      "outputs": [
        {
          "output_type": "execute_result",
          "data": {
            "text/plain": [
              "array([3, 2, 2, ..., 4, 1, 1])"
            ]
          },
          "metadata": {},
          "execution_count": 25
        }
      ]
    },
    {
      "cell_type": "code",
      "source": [
        "# Get class names and number of classes from LabelEncoder instance\n",
        "num_classes = len(label_encoder.classes_)\n",
        "class_names = label_encoder.classes_\n",
        "num_classes, class_names"
      ],
      "metadata": {
        "id": "7GqP7go950cZ",
        "colab": {
          "base_uri": "https://localhost:8080/"
        },
        "outputId": "bfeb574e-d21d-4d0d-e615-73fad58969a5"
      },
      "execution_count": 26,
      "outputs": [
        {
          "output_type": "execute_result",
          "data": {
            "text/plain": [
              "(5, array(['BACKGROUND', 'CONCLUSIONS', 'METHODS', 'OBJECTIVE', 'RESULTS'],\n",
              "       dtype=object))"
            ]
          },
          "metadata": {},
          "execution_count": 26
        }
      ]
    },
    {
      "cell_type": "markdown",
      "source": [
        "# Starting a series of modelling experiments...\n",
        "\n",
        "As usual, we're going to be trying out a bunch of different models ans seeing which one works best.\n",
        "\n",
        "And as always, we're going to start with a baseline (TF-IDF Multinomial Naive Bayes classifier)."
      ],
      "metadata": {
        "id": "Jnts8EsS77TR"
      }
    },
    {
      "cell_type": "markdown",
      "source": [
        "## Model_0 : Getting a baseline"
      ],
      "metadata": {
        "id": "uDhOxVJC7_BJ"
      }
    },
    {
      "cell_type": "code",
      "source": [
        "from sklearn.feature_extraction.text import TfidfVectorizer\n",
        "from sklearn.naive_bayes import MultinomialNB\n",
        "from sklearn.pipeline import Pipeline\n",
        "\n",
        "model_0 = Pipeline ([\n",
        "    (\"tfidf\", TfidfVectorizer()),\n",
        "    (\"clf\", MultinomialNB())\n",
        "])\n",
        "# fit the pipeline to the training data\n",
        "model_0.fit(train_sentences, train_labels_encoded)"
      ],
      "metadata": {
        "id": "qBzxQ2ZM7870",
        "colab": {
          "base_uri": "https://localhost:8080/"
        },
        "outputId": "d41c2f70-935e-495d-ca15-e834526b8608"
      },
      "execution_count": 27,
      "outputs": [
        {
          "output_type": "execute_result",
          "data": {
            "text/plain": [
              "Pipeline(steps=[('tfidf', TfidfVectorizer()), ('clf', MultinomialNB())])"
            ]
          },
          "metadata": {},
          "execution_count": 27
        }
      ]
    },
    {
      "cell_type": "code",
      "source": [
        "# Evaluate the model\n",
        "baseline_score = model_0.score(val_sentences,val_labels_encoded)\n",
        "print(f\"our baseline model achive an accuracy of : {baseline_score}\")"
      ],
      "metadata": {
        "id": "OK98m7E_784l",
        "colab": {
          "base_uri": "https://localhost:8080/"
        },
        "outputId": "4dc443a1-ab62-4829-cc51-b1319958faf8"
      },
      "execution_count": 28,
      "outputs": [
        {
          "output_type": "stream",
          "name": "stdout",
          "text": [
            "our baseline model achive an accuracy of : 0.7516829593423684\n"
          ]
        }
      ]
    },
    {
      "cell_type": "code",
      "source": [
        "# make prediction\n",
        "baseline_pred_probs = model_0.predict(val_sentences)\n",
        "baseline_preds = tf.squeeze(tf.round(baseline_pred_probs))\n",
        "baseline_preds[:10]"
      ],
      "metadata": {
        "id": "Q6l2nVJ2782n",
        "colab": {
          "base_uri": "https://localhost:8080/"
        },
        "outputId": "a86ec7ea-f1f7-4e5b-d33e-931db8618386"
      },
      "execution_count": 29,
      "outputs": [
        {
          "output_type": "execute_result",
          "data": {
            "text/plain": [
              "<tf.Tensor: shape=(10,), dtype=int64, numpy=array([1, 2, 4, 2, 2, 4, 4, 4, 4, 4])>"
            ]
          },
          "metadata": {},
          "execution_count": 29
        }
      ]
    },
    {
      "cell_type": "code",
      "source": [
        "model_0_results = helper_functions.calculate_results(val_labels_encoded, baseline_preds)\n",
        "model_0_results"
      ],
      "metadata": {
        "id": "GQ7onaVg78zv",
        "colab": {
          "base_uri": "https://localhost:8080/"
        },
        "outputId": "db176f33-8114-4214-eca8-6f87ff24e24b"
      },
      "execution_count": 26,
      "outputs": [
        {
          "output_type": "execute_result",
          "data": {
            "text/plain": [
              "{'accuracy': 75.16829593423684,\n",
              " 'precision': 0.7556121877731266,\n",
              " 'recall': 0.7516829593423684,\n",
              " 'f1': 0.734085177322999}"
            ]
          },
          "metadata": {},
          "execution_count": 26
        }
      ]
    },
    {
      "cell_type": "markdown",
      "source": [
        "## Prepare our data (the text) for deep sequence models\n",
        "\n",
        "Before we start building deeper models, we've got to create vectorization and embedding layers"
      ],
      "metadata": {
        "id": "QZgpcmfU8Tmd"
      }
    },
    {
      "cell_type": "code",
      "source": [
        "# how long is each sentence on average ? \n",
        "sent_lens = [len(sentence.split()) for sentence in train_sentences] # list of length of words\n",
        "avg_sent_len = np.mean(sent_lens)\n",
        "avg_sent_len\n",
        "#avg_sent_len, nb_word_per_sentence/len(train_sentences)"
      ],
      "metadata": {
        "id": "ZpESMVG58GWR",
        "colab": {
          "base_uri": "https://localhost:8080/"
        },
        "outputId": "83d17306-c357-49f6-c7c3-0577ea18c861"
      },
      "execution_count": 32,
      "outputs": [
        {
          "output_type": "execute_result",
          "data": {
            "text/plain": [
              "26.338269273494777"
            ]
          },
          "metadata": {},
          "execution_count": 32
        }
      ]
    },
    {
      "cell_type": "code",
      "source": [
        "plt.hist(sent_lens, bins=20);"
      ],
      "metadata": {
        "id": "engVZkgb78x1",
        "colab": {
          "base_uri": "https://localhost:8080/",
          "height": 265
        },
        "outputId": "196c5664-fcd2-41b5-8582-0da6d6d99560"
      },
      "execution_count": 33,
      "outputs": [
        {
          "output_type": "display_data",
          "data": {
            "text/plain": [
              "<Figure size 432x288 with 1 Axes>"
            ],
            "image/png": "[encoded data removed]"
          },
          "metadata": {
            "needs_background": "light"
          }
        }
      ]
    },
    {
      "cell_type": "code",
      "source": [
        "# How long  of sentence lenght covers 95% of examples\n",
        "output_seq_len = int(np.percentile(sent_lens, 95))\n",
        "output_seq_len "
      ],
      "metadata": {
        "id": "xpPsddx-78vL",
        "colab": {
          "base_uri": "https://localhost:8080/"
        },
        "outputId": "4f0cda87-2185-4d67-f698-36e540b207f9"
      },
      "execution_count": 34,
      "outputs": [
        {
          "output_type": "execute_result",
          "data": {
            "text/plain": [
              "55"
            ]
          },
          "metadata": {},
          "execution_count": 34
        }
      ]
    },
    {
      "cell_type": "code",
      "source": [
        "# Maximum sequence length in the training set\n",
        "max(sent_lens)"
      ],
      "metadata": {
        "id": "_Tb0yLQR78tN",
        "colab": {
          "base_uri": "https://localhost:8080/"
        },
        "outputId": "bfd51b51-4763-4939-a938-0022bf8a137a"
      },
      "execution_count": 35,
      "outputs": [
        {
          "output_type": "execute_result",
          "data": {
            "text/plain": [
              "296"
            ]
          },
          "metadata": {},
          "execution_count": 35
        }
      ]
    },
    {
      "cell_type": "markdown",
      "source": [
        "## Embedding and tokenization\n",
        "We want to make a layer which maps our texts from words to numbers"
      ],
      "metadata": {
        "id": "zxU1Ljj38Zlf"
      }
    },
    {
      "cell_type": "code",
      "source": [
        "# How many words are in our vocab? (taken from table 2 in : https://arxiv.org/pdf/1710.06071.pdf)\n",
        "max_tokens = 68000"
      ],
      "metadata": {
        "id": "xa8-xkcL78qm"
      },
      "execution_count": 36,
      "outputs": []
    },
    {
      "cell_type": "code",
      "source": [
        "# lets create a text vectorizer use text vectorisation layers of the last video\n",
        "from helper_functions import tokenization, embedding\n",
        "# init the tokenizer function\n",
        "init_tokenizer = tokenization(train_sentences, output_seq_len, max_vocab_length=68000) \n",
        "\n",
        "# Choose a random sentence from the training dataset and tokenize it \n",
        "random_sentence = random.choice(train_sentences)\n",
        "text_vectorizer = init_tokenizer([random_sentence])\n"
      ],
      "metadata": {
        "id": "kwsTmbVB78oY"
      },
      "execution_count": 37,
      "outputs": []
    },
    {
      "cell_type": "code",
      "source": [
        "# How many words in our training vocabulary\n",
        "rct_20k_text_vocab = init_tokenizer.get_vocabulary()\n",
        "print(f\"Number of words i vocab:{len(rct_20k_text_vocab)}\\n\")\n",
        "print(f\"Most common words in the vocab:{rct_20k_text_vocab[:5]}\\n\")\n",
        "print(f\"least common words in the vocab:{rct_20k_text_vocab[-5:]}\\n\")"
      ],
      "metadata": {
        "id": "SDpW9Dqm78ld",
        "colab": {
          "base_uri": "https://localhost:8080/"
        },
        "outputId": "d4f26dd2-e6ea-488a-dc13-13b38296d641"
      },
      "execution_count": 38,
      "outputs": [
        {
          "output_type": "stream",
          "name": "stdout",
          "text": [
            "Number of words i vocab:64841\n",
            "\n",
            "Most common words in the vocab:['', '[UNK]', 'the', 'and', 'of']\n",
            "\n",
            "least common words in the vocab:['aainduced', 'aaigroup', 'aachener', 'aachen', 'aaacp']\n",
            "\n"
          ]
        }
      ]
    },
    {
      "cell_type": "code",
      "source": [
        "init_tokenizer.get_config()"
      ],
      "metadata": {
        "id": "nOT8lo7P50TO",
        "colab": {
          "base_uri": "https://localhost:8080/"
        },
        "outputId": "cf43ecd4-e6f4-4284-e2ca-80b957e12bb4"
      },
      "execution_count": 39,
      "outputs": [
        {
          "output_type": "execute_result",
          "data": {
            "text/plain": [
              "{'name': 'text_vectorization',\n",
              " 'trainable': True,\n",
              " 'dtype': 'string',\n",
              " 'batch_input_shape': (None,),\n",
              " 'max_tokens': 68000,\n",
              " 'standardize': 'lower_and_strip_punctuation',\n",
              " 'split': 'whitespace',\n",
              " 'ngrams': None,\n",
              " 'output_mode': 'int',\n",
              " 'output_sequence_length': 55,\n",
              " 'pad_to_max_tokens': False,\n",
              " 'sparse': False,\n",
              " 'ragged': False,\n",
              " 'vocabulary': None,\n",
              " 'idf_weights': None,\n",
              " 'encoding': 'utf-8'}"
            ]
          },
          "metadata": {},
          "execution_count": 39
        }
      ]
    },
    {
      "cell_type": "markdown",
      "source": [
        "### Create custom text embedding"
      ],
      "metadata": {
        "id": "FplDLmFq8goH"
      }
    },
    {
      "cell_type": "code",
      "source": [
        "# Init embedding \n",
        "init_embedding = embedding( output_seq_len,len(rct_20k_text_vocab), output_seq_len)\n",
        "text_embedding = init_embedding(text_vectorizer)\n",
        "text_embedding"
      ],
      "metadata": {
        "id": "GivMfkAF8cap",
        "colab": {
          "base_uri": "https://localhost:8080/"
        },
        "outputId": "64f2fb51-aa6a-4083-d46a-fd081b8d0bb8"
      },
      "execution_count": 40,
      "outputs": [
        {
          "output_type": "execute_result",
          "data": {
            "text/plain": [
              "<tf.Tensor: shape=(1, 55, 128), dtype=float32, numpy=\n",
              "array([[[ 0.0358165 ,  0.00037496,  0.01812192, ..., -0.01667061,\n",
              "         -0.04366216,  0.04068815],\n",
              "        [ 0.01938081,  0.00298588,  0.01188374, ...,  0.02315151,\n",
              "         -0.04065569, -0.01904501],\n",
              "        [ 0.01729622, -0.00670301,  0.03293725, ...,  0.01436654,\n",
              "          0.02203448,  0.01955407],\n",
              "        ...,\n",
              "        [-0.02889631, -0.02011125, -0.02258154, ..., -0.04824013,\n",
              "          0.00704689, -0.04832637],\n",
              "        [-0.02889631, -0.02011125, -0.02258154, ..., -0.04824013,\n",
              "          0.00704689, -0.04832637],\n",
              "        [-0.02889631, -0.02011125, -0.02258154, ..., -0.04824013,\n",
              "          0.00704689, -0.04832637]]], dtype=float32)>"
            ]
          },
          "metadata": {},
          "execution_count": 40
        }
      ]
    },
    {
      "cell_type": "code",
      "source": [
        "# Show example embedding\n",
        "print(f\"Sentence before vectorization:\\n {random_sentence}\\n\")\n",
        "print(f\"sentence after vectorization: \\n {text_vectorizer}\")\n",
        "print(f\"sentence after embedding: \\n {text_embedding}\")\n",
        "print(f\"embedding sentence shape:\\n {text_embedding.shape}\")"
      ],
      "metadata": {
        "id": "h3h_W-Zz8in-",
        "colab": {
          "base_uri": "https://localhost:8080/"
        },
        "outputId": "141a08a1-3aa7-422a-f9b7-efd30b2d0731"
      },
      "execution_count": 41,
      "outputs": [
        {
          "output_type": "stream",
          "name": "stdout",
          "text": [
            "Sentence before vectorization:\n",
            " the third arm , a nonexercise control group , will receive health information only .\n",
            "\n",
            "sentence after vectorization: \n",
            " [[    2   990   207     8 12508    35    13    95   175    97   380   192\n",
            "      0     0     0     0     0     0     0     0     0     0     0     0\n",
            "      0     0     0     0     0     0     0     0     0     0     0     0\n",
            "      0     0     0     0     0     0     0     0     0     0     0     0\n",
            "      0     0     0     0     0     0     0]]\n",
            "sentence after embedding: \n",
            " [[[ 0.0358165   0.00037496  0.01812192 ... -0.01667061 -0.04366216\n",
            "    0.04068815]\n",
            "  [ 0.01938081  0.00298588  0.01188374 ...  0.02315151 -0.04065569\n",
            "   -0.01904501]\n",
            "  [ 0.01729622 -0.00670301  0.03293725 ...  0.01436654  0.02203448\n",
            "    0.01955407]\n",
            "  ...\n",
            "  [-0.02889631 -0.02011125 -0.02258154 ... -0.04824013  0.00704689\n",
            "   -0.04832637]\n",
            "  [-0.02889631 -0.02011125 -0.02258154 ... -0.04824013  0.00704689\n",
            "   -0.04832637]\n",
            "  [-0.02889631 -0.02011125 -0.02258154 ... -0.04824013  0.00704689\n",
            "   -0.04832637]]]\n",
            "embedding sentence shape:\n",
            " (1, 55, 128)\n"
          ]
        }
      ]
    },
    {
      "cell_type": "markdown",
      "source": [
        "## Creating datasets (making sure our data loads as fast as possible)\n",
        "\n",
        "We're going to setup our data to run as fast a possible with the TensorFlow tf.data API, many of the steps here are discussed at length in these two resources:\n",
        "* https://www.tensorflow.org/guide/data_performance\n",
        "* https://www.tensorflow.org/guide/data"
      ],
      "metadata": {
        "id": "epAf7vAN8lnW"
      }
    },
    {
      "cell_type": "code",
      "source": [
        "# Turn our data into TensorFlow Datasets\n",
        "train_dataset = tf.data.Dataset.from_tensor_slices((train_sentences, train_labels_one_hot))\n",
        "valid_dataset = tf.data.Dataset.from_tensor_slices((val_sentences, val_labels_one_hot))\n",
        "test_dataset = tf.data.Dataset.from_tensor_slices((test_sentences, test_labels_one_hot))\n",
        "\n",
        "train_dataset"
      ],
      "metadata": {
        "id": "anCWG1SK8ils",
        "colab": {
          "base_uri": "https://localhost:8080/"
        },
        "outputId": "fd12701f-db3b-4d56-ea18-0c2f73ee3f62"
      },
      "execution_count": 42,
      "outputs": [
        {
          "output_type": "execute_result",
          "data": {
            "text/plain": [
              "<TensorSliceDataset element_spec=(TensorSpec(shape=(), dtype=tf.string, name=None), TensorSpec(shape=(5,), dtype=tf.float64, name=None))>"
            ]
          },
          "metadata": {},
          "execution_count": 42
        }
      ]
    },
    {
      "cell_type": "code",
      "source": [
        "train_labels_one_hot.shape, train_labels_one_hot[0]"
      ],
      "metadata": {
        "id": "lua2jEge8ii7",
        "colab": {
          "base_uri": "https://localhost:8080/"
        },
        "outputId": "4282b4e0-87b7-45fa-eef0-0b861d463ed0"
      },
      "execution_count": 43,
      "outputs": [
        {
          "output_type": "execute_result",
          "data": {
            "text/plain": [
              "((180040, 5), array([0., 0., 0., 1., 0.]))"
            ]
          },
          "metadata": {},
          "execution_count": 43
        }
      ]
    },
    {
      "cell_type": "code",
      "source": [
        "# Take the TensorSliceDataset's and turn them into prefechted data\n",
        "train_dataset = train_dataset.batch(32).prefetch(tf.data.AUTOTUNE)\n",
        "valid_dataset = valid_dataset.batch(32).prefetch(tf.data.AUTOTUNE)\n",
        "test_dataset = test_dataset.batch(32).prefetch(tf.data.AUTOTUNE)\n",
        "\n",
        "train_dataset"
      ],
      "metadata": {
        "id": "nYBGl2468igl",
        "colab": {
          "base_uri": "https://localhost:8080/"
        },
        "outputId": "4dad4be0-9db1-45bc-976a-07c5112c112b"
      },
      "execution_count": 44,
      "outputs": [
        {
          "output_type": "execute_result",
          "data": {
            "text/plain": [
              "<PrefetchDataset element_spec=(TensorSpec(shape=(None,), dtype=tf.string, name=None), TensorSpec(shape=(None, 5), dtype=tf.float64, name=None))>"
            ]
          },
          "metadata": {},
          "execution_count": 44
        }
      ]
    },
    {
      "cell_type": "code",
      "source": [
        "len(train_dataset)"
      ],
      "metadata": {
        "id": "wCEVpnzL8ieN",
        "colab": {
          "base_uri": "https://localhost:8080/"
        },
        "outputId": "3e205148-934b-4d46-f9c2-0cc3672f937e"
      },
      "execution_count": 45,
      "outputs": [
        {
          "output_type": "execute_result",
          "data": {
            "text/plain": [
              "5627"
            ]
          },
          "metadata": {},
          "execution_count": 45
        }
      ]
    },
    {
      "cell_type": "markdown",
      "source": [
        "## Model 1 : Conv1D with token embeddings"
      ],
      "metadata": {
        "id": "x2it5vo58p0N"
      }
    },
    {
      "cell_type": "code",
      "source": [
        "# Create 1D conv model to process sequences\n",
        "num_classes"
      ],
      "metadata": {
        "id": "Wsjuq7bE8rVH",
        "colab": {
          "base_uri": "https://localhost:8080/"
        },
        "outputId": "7049d172-6182-4169-a720-8ace09dfe16d"
      },
      "execution_count": 46,
      "outputs": [
        {
          "output_type": "execute_result",
          "data": {
            "text/plain": [
              "5"
            ]
          },
          "metadata": {},
          "execution_count": 46
        }
      ]
    },
    {
      "cell_type": "code",
      "source": [
        "from tensorflow.keras.layers import Conv1D, GlobalAveragePooling1D, Dense, Input\n",
        "# create victorization, create embedding layer, create conv1D, pooling, dense layer\n",
        "model_1 = tf.keras.Sequential([\n",
        "    Input(shape=(1), dtype=tf.string, name='input_layer'),\n",
        "    init_tokenizer,\n",
        "    init_embedding,\n",
        "    Conv1D(64, kernel_size=5, padding='same', activation='relu'),\n",
        "    GlobalAveragePooling1D(), # Condense the output of our feature vector from conv layer\n",
        "    Dense(num_classes, activation='softmax')\n",
        "], name='Conv1D')\n",
        "\n",
        "# compile the model\n",
        "model_1.compile(loss= \"categorical_crossentropy\",\n",
        "               optimizer = tf.keras.optimizers.Adam(),\n",
        "               metrics = ['accuracy'])\n",
        "model_1.summary()"
      ],
      "metadata": {
        "id": "kvIzS6yq8r6o",
        "colab": {
          "base_uri": "https://localhost:8080/"
        },
        "outputId": "a520504c-2a93-41d8-be74-0b17af0163fe"
      },
      "execution_count": 47,
      "outputs": [
        {
          "output_type": "stream",
          "name": "stdout",
          "text": [
            "Model: \"Conv1D\"\n",
            "_________________________________________________________________\n",
            " Layer (type)                Output Shape              Param #   \n",
            "=================================================================\n",
            " text_vectorization (TextVec  (None, 55)               0         \n",
            " torization)                                                     \n",
            "                                                                 \n",
            " token_embedding (Embedding)  (None, 55, 128)          8299648   \n",
            "                                                                 \n",
            " conv1d (Conv1D)             (None, 55, 64)            41024     \n",
            "                                                                 \n",
            " global_average_pooling1d (G  (None, 64)               0         \n",
            " lobalAveragePooling1D)                                          \n",
            "                                                                 \n",
            " dense (Dense)               (None, 5)                 325       \n",
            "                                                                 \n",
            "=================================================================\n",
            "Total params: 8,340,997\n",
            "Trainable params: 8,340,997\n",
            "Non-trainable params: 0\n",
            "_________________________________________________________________\n"
          ]
        }
      ]
    },
    {
      "cell_type": "code",
      "source": [
        "# fit the model\n",
        "history_model_1 = model_1.fit(train_dataset,\n",
        "                              steps_per_epoch=int(0.1*len(train_dataset)), \n",
        "                              epochs=3,\n",
        "                              validation_data= valid_dataset,\n",
        "                              validation_steps=int(0.1*len(valid_dataset)),\n",
        "                              callbacks=[helper_functions.create_tensorboard_callback(dir_name=\"tensorboard\",\n",
        "                                                                                    experiment_name=\"model_1_conv1D\")])"
      ],
      "metadata": {
        "id": "j3Vte6_98r3w",
        "colab": {
          "base_uri": "https://localhost:8080/"
        },
        "outputId": "7812c1d4-d8df-4878-d422-6f5869fcf363"
      },
      "execution_count": 43,
      "outputs": [
        {
          "output_type": "stream",
          "name": "stdout",
          "text": [
            "Saving TensorBoard log files to: tensorboard/model_1_conv1D/20230221-212258\n",
            "Epoch 1/3\n",
            "562/562 [==============================] - 38s 52ms/step - loss: 0.9180 - accuracy: 0.6401 - val_loss: 0.5634 - val_accuracy: 0.7952\n",
            "Epoch 2/3\n",
            "562/562 [==============================] - 11s 19ms/step - loss: 0.6578 - accuracy: 0.7564 - val_loss: 0.5382 - val_accuracy: 0.8180\n",
            "Epoch 3/3\n",
            "562/562 [==============================] - 8s 15ms/step - loss: 0.6181 - accuracy: 0.7768 - val_loss: 0.5266 - val_accuracy: 0.8193\n"
          ]
        }
      ]
    },
    {
      "cell_type": "code",
      "source": [
        "# Evaluate on whole validation dataset\n",
        "model_1.evaluate(valid_dataset)"
      ],
      "metadata": {
        "id": "a5HDIAHf8r1L",
        "colab": {
          "base_uri": "https://localhost:8080/"
        },
        "outputId": "008f8b99-c213-4147-d641-8aecec7f9a62"
      },
      "execution_count": 44,
      "outputs": [
        {
          "output_type": "stream",
          "name": "stdout",
          "text": [
            "5627/5627 [==============================] - 19s 3ms/step - loss: 0.5706 - accuracy: 0.7993\n"
          ]
        },
        {
          "output_type": "execute_result",
          "data": {
            "text/plain": [
              "[0.5706478953361511, 0.7993223667144775]"
            ]
          },
          "metadata": {},
          "execution_count": 44
        }
      ]
    },
    {
      "cell_type": "code",
      "source": [
        "# Make predictions (our model predicts prediction probabilies for each class)\n",
        "model_1_pred_probs = model_1.predict(valid_dataset)\n",
        "model_1_pred_probs, model_1_pred_probs.shape # output = proba of ['BACKGROUND', 'CONCLUSIONS', 'METHODS', 'OBJECTIVE', 'RESULTS']"
      ],
      "metadata": {
        "id": "peN6lSHm8ryz",
        "colab": {
          "base_uri": "https://localhost:8080/"
        },
        "outputId": "4be3bb29-c65f-48ab-dd02-d2d364e624f0"
      },
      "execution_count": 45,
      "outputs": [
        {
          "output_type": "stream",
          "name": "stdout",
          "text": [
            "5627/5627 [==============================] - 15s 3ms/step\n"
          ]
        },
        {
          "output_type": "execute_result",
          "data": {
            "text/plain": [
              "(array([[3.7493687e-02, 2.1056714e-02, 1.9837567e-05, 9.4142944e-01,\n",
              "         3.6107761e-07],\n",
              "        [9.4547882e-05, 3.7546997e-04, 9.2679739e-01, 5.8449081e-05,\n",
              "         7.2674245e-02],\n",
              "        [1.8212769e-02, 6.3055798e-02, 5.0818592e-01, 1.1394342e-02,\n",
              "         3.9915115e-01],\n",
              "        ...,\n",
              "        [2.4305711e-02, 3.0510587e-01, 4.3808028e-02, 1.3386051e-02,\n",
              "         6.1339432e-01],\n",
              "        [5.0076760e-02, 7.4939686e-01, 8.9099053e-03, 5.7466850e-02,\n",
              "         1.3414967e-01],\n",
              "        [4.6443123e-01, 8.2602508e-02, 1.7321146e-01, 2.6028815e-01,\n",
              "         1.9466668e-02]], dtype=float32), (180040, 5))"
            ]
          },
          "metadata": {},
          "execution_count": 45
        }
      ]
    },
    {
      "cell_type": "code",
      "source": [
        "# Convert pred_probs to classes\n",
        "model_1_preds = tf.argmax(model_1_pred_probs, axis=1)\n",
        "model_1_preds"
      ],
      "metadata": {
        "id": "yy9DXstb8rwN",
        "colab": {
          "base_uri": "https://localhost:8080/"
        },
        "outputId": "e96dc760-9072-4714-ed40-035bba37666d"
      },
      "execution_count": 46,
      "outputs": [
        {
          "output_type": "execute_result",
          "data": {
            "text/plain": [
              "<tf.Tensor: shape=(180040,), dtype=int64, numpy=array([3, 2, 2, ..., 4, 1, 0])>"
            ]
          },
          "metadata": {},
          "execution_count": 46
        }
      ]
    },
    {
      "cell_type": "code",
      "source": [
        "# Calculate model_1 results\n",
        "model_1_results = calculate_results(y_true=val_labels_encoded,\n",
        "                                   y_pred=model_1_preds)\n",
        "model_1_results"
      ],
      "metadata": {
        "id": "fYJQfXqv8yL8",
        "colab": {
          "base_uri": "https://localhost:8080/"
        },
        "outputId": "64af7715-c72b-412f-b5e9-5b746147f3b3"
      },
      "execution_count": 47,
      "outputs": [
        {
          "output_type": "execute_result",
          "data": {
            "text/plain": [
              "{'accuracy': 79.93223728060431,\n",
              " 'precision': 0.7964993355361438,\n",
              " 'recall': 0.7993223728060431,\n",
              " 'f1': 0.7969426940533193}"
            ]
          },
          "metadata": {},
          "execution_count": 47
        }
      ]
    },
    {
      "cell_type": "markdown",
      "source": [
        "## Model_2 : TensorFlow Hub Pretrained Feature Extractor\n",
        "\n",
        "Now lets use pretrained word embedding from TensorFlow Hub, more specifically the universal sentence encoder(universal-sentence-encoder): https://tfhub.dev/google/universal-sentence-encoder/4\n",
        "\n",
        "The paper originally used GloVee embeddings, however, we're going to stick with the later created USE pretrained embedding"
      ],
      "metadata": {
        "id": "fDchPqK1MOCn"
      }
    },
    {
      "cell_type": "code",
      "source": [
        "# Download pretrained TensorFlow Hub USE\n",
        "import tensorflow_hub as hub\n",
        "\n",
        "tf_hub_embedding_layer = hub.KerasLayer(\"https://tfhub.dev/google/universal-sentence-encoder/4\",\n",
        "                                  trainable=False,\n",
        "                                  name=\"universal_sentence_encoder\")\n",
        "embeddings = tf_hub_embedding_layer([\n",
        "    \"The quick brown fox jumps over the lazy dog.\",\n",
        "    \"I am a sentence for which I would like to get its embedding\"])\n",
        "\n",
        "print(embeddings)"
      ],
      "metadata": {
        "id": "sLSvGUEMqRre",
        "colab": {
          "base_uri": "https://localhost:8080/"
        },
        "outputId": "91ca9be2-fb43-46ce-cc1e-bad168ff75ab"
      },
      "execution_count": 48,
      "outputs": [
        {
          "output_type": "stream",
          "name": "stdout",
          "text": [
            "tf.Tensor(\n",
            "[[-0.03133018 -0.06338634 -0.01607501 ... -0.0324278  -0.04575739\n",
            "   0.05370454]\n",
            " [ 0.05080861 -0.01652433  0.01573777 ...  0.00976658  0.03170121\n",
            "   0.01788117]], shape=(2, 512), dtype=float32)\n"
          ]
        }
      ]
    },
    {
      "cell_type": "code",
      "source": [
        "# Test out the pretrained embedding on a random sentence\n",
        "random_train_sentence = random.choice(train_sentences)\n",
        "print(f\"Random sentence:\\n {random_train_sentence}\")\n",
        "use_embedded_sentence = tf_hub_embedding_layer([random_train_sentence])\n",
        "print(f\"sentence after embedding:\\n{use_embedded_sentence[0][:30]}\")\n",
        "print(f\"Length of sentence embedding: {len(use_embedded_sentence[0])}\")"
      ],
      "metadata": {
        "id": "SmxuXp5HqRnT",
        "colab": {
          "base_uri": "https://localhost:8080/"
        },
        "outputId": "59d874be-251b-4b32-fca8-7277af09c215"
      },
      "execution_count": 49,
      "outputs": [
        {
          "output_type": "stream",
          "name": "stdout",
          "text": [
            "Random sentence:\n",
            " just over half ( @ % ) of the participants identified its key message on mortality after engaging with their summary .\n",
            "sentence after embedding:\n",
            "[-0.01021562  0.00942542 -0.04113351 -0.05623122 -0.01539305 -0.06489055\n",
            "  0.0132528   0.05283446 -0.06443608  0.05640874  0.06026901 -0.02822254\n",
            " -0.04526681 -0.07850017  0.04812271 -0.00020405  0.05191151 -0.03567548\n",
            "  0.03529202 -0.01035358 -0.07955457  0.0605016  -0.07251312  0.01582886\n",
            "  0.00639634  0.03289323 -0.02101757 -0.02172087 -0.01209883 -0.04679132]\n",
            "Length of sentence embedding: 512\n"
          ]
        }
      ]
    },
    {
      "cell_type": "markdown",
      "source": [
        "### Building and fitting an NLP feature extraction model using pretrained embeddings from TensorFlow Hub "
      ],
      "metadata": {
        "id": "ZMXhVASB-BbK"
      }
    },
    {
      "cell_type": "code",
      "source": [
        "model_2 = tf.keras.Sequential([\n",
        "    tf_hub_embedding_layer,\n",
        "    tf.keras.layers.Dense(5, activation='sigmoid')\n",
        "])\n",
        "# compile the model\n",
        "model_2.compile(loss=\"categorical_crossentropy\",\n",
        "                optimizer=tf.keras.optimizers.Adam(),\n",
        "                metrics=[\"accuracy\"])"
      ],
      "metadata": {
        "id": "yQ7G0kSrqRkf"
      },
      "execution_count": 50,
      "outputs": []
    },
    {
      "cell_type": "code",
      "source": [
        "# fit the model\n",
        "model_2.fit(train_dataset,\n",
        "            steps_per_epoch=int(0.1*len(train_dataset)),\n",
        "            epochs=3,\n",
        "            validation_data=valid_dataset,\n",
        "            validation_steps=int(0.1*len(valid_dataset)),\n",
        "            callbacks=[helper_functions.create_tensorboard_callback(dir_name=\"tensorboard\",\n",
        "                                                                    experiment_name=\"model_2_tf_hub_embed\")])"
      ],
      "metadata": {
        "id": "I0jTYs7CqRf5",
        "colab": {
          "base_uri": "https://localhost:8080/"
        },
        "outputId": "ac79c52d-f8aa-427f-a874-98b4b4a1bf11"
      },
      "execution_count": 51,
      "outputs": [
        {
          "output_type": "stream",
          "name": "stdout",
          "text": [
            "Saving TensorBoard log files to: tensorboard/model_2_tf_hub_embed/20230221-212515\n",
            "Epoch 1/3\n"
          ]
        },
        {
          "output_type": "stream",
          "name": "stderr",
          "text": [
            "WARNING:tensorflow:From /usr/local/lib/python3.8/dist-packages/tensorflow/python/autograph/pyct/static_analysis/liveness.py:83: Analyzer.lamba_check (from tensorflow.python.autograph.pyct.static_analysis.liveness) is deprecated and will be removed after 2023-09-23.\n",
            "Instructions for updating:\n",
            "Lambda fuctions will be no more assumed to be used in the statement where they are used, or at least in the same block. https://github.com/tensorflow/tensorflow/issues/56089\n"
          ]
        },
        {
          "output_type": "stream",
          "name": "stdout",
          "text": [
            "562/562 [==============================] - 23s 36ms/step - loss: 1.2646 - accuracy: 0.5443 - val_loss: 1.0896 - val_accuracy: 0.6024\n",
            "Epoch 2/3\n",
            "562/562 [==============================] - 15s 27ms/step - loss: 1.0137 - accuracy: 0.6248 - val_loss: 0.9606 - val_accuracy: 0.6499\n",
            "Epoch 3/3\n",
            "562/562 [==============================] - 13s 23ms/step - loss: 0.9323 - accuracy: 0.6566 - val_loss: 0.9008 - val_accuracy: 0.6724\n"
          ]
        },
        {
          "output_type": "execute_result",
          "data": {
            "text/plain": [
              "<keras.callbacks.History at 0x7fae2ecedd60>"
            ]
          },
          "metadata": {},
          "execution_count": 51
        }
      ]
    },
    {
      "cell_type": "code",
      "source": [],
      "metadata": {
        "id": "5Ayf96EM83An"
      },
      "execution_count": 51,
      "outputs": []
    },
    {
      "cell_type": "code",
      "source": [
        "model_2 = tf.keras.Sequential([\n",
        "    tf.keras.layers.Input(shape=[], dtype=\"string\"),\n",
        "    tf_hub_embedding_layer, # tokenize text and create embedding of each sequence (512 long vector)\n",
        "    tf.keras.layers.Dense(128, activation=\"relu\"),\n",
        "    # Note : you could add more layers here if you wanted to\n",
        "    tf.keras.layers.Dense(num_classes, activation='sigmoid', name=\"output_layer\")\n",
        "], name=\"model_2_tf_hub_embed\")\n",
        "\n",
        "# compile the model\n",
        "model_2.compile(loss=\"categorical_crossentropy\",\n",
        "                optimizer=tf.keras.optimizers.Adam(),\n",
        "                metrics=[\"accuracy\"])"
      ],
      "metadata": {
        "id": "qnseJl3agjXA"
      },
      "execution_count": 52,
      "outputs": []
    },
    {
      "cell_type": "code",
      "source": [
        "# fit the model\n",
        "history_model_2 = model_2.fit(train_dataset,\n",
        "                              steps_per_epoch=int(0.1*len(train_dataset)),\n",
        "                              epochs=3,\n",
        "                              validation_data=valid_dataset,\n",
        "                              validation_steps=int(0.1*len(valid_dataset)),\n",
        "                              callbacks=[helper_functions.create_tensorboard_callback(dir_name=\"tensorboard\",\n",
        "                                                                    experiment_name=\"model_2_tf_hub_embed\")])"
      ],
      "metadata": {
        "id": "oJ2NWIXG8xSR",
        "colab": {
          "base_uri": "https://localhost:8080/"
        },
        "outputId": "d443a774-3526-434d-f27f-6735c467cc1e"
      },
      "execution_count": 53,
      "outputs": [
        {
          "output_type": "stream",
          "name": "stdout",
          "text": [
            "Saving TensorBoard log files to: tensorboard/model_2_tf_hub_embed/20230221-212607\n",
            "Epoch 1/3\n",
            "562/562 [==============================] - 15s 24ms/step - loss: 0.9207 - accuracy: 0.6445 - val_loss: 0.7810 - val_accuracy: 0.7048\n",
            "Epoch 2/3\n",
            "562/562 [==============================] - 17s 31ms/step - loss: 0.7699 - accuracy: 0.7003 - val_loss: 0.7538 - val_accuracy: 0.7150\n",
            "Epoch 3/3\n",
            "562/562 [==============================] - 18s 32ms/step - loss: 0.7523 - accuracy: 0.7119 - val_loss: 0.7425 - val_accuracy: 0.7149\n"
          ]
        }
      ]
    },
    {
      "cell_type": "code",
      "source": [
        "# Evaluate on the whole validation dataset\n",
        "model_2.evaluate(valid_dataset)"
      ],
      "metadata": {
        "id": "wu6lMdX78zHB",
        "colab": {
          "base_uri": "https://localhost:8080/"
        },
        "outputId": "3d600413-df36-4e02-886a-d56bc5cd2ee2"
      },
      "execution_count": 54,
      "outputs": [
        {
          "output_type": "stream",
          "name": "stdout",
          "text": [
            "5627/5627 [==============================] - 66s 12ms/step - loss: 0.7447 - accuracy: 0.7125\n"
          ]
        },
        {
          "output_type": "execute_result",
          "data": {
            "text/plain": [
              "[0.7446649670600891, 0.7124972343444824]"
            ]
          },
          "metadata": {},
          "execution_count": 54
        }
      ]
    },
    {
      "cell_type": "code",
      "source": [
        "\n",
        "# Make some prediction wit feature extraction model\n",
        "model_2_pred_probs = model_2.predict(val_sentences)"
      ],
      "metadata": {
        "id": "V9Lwnovi_7dp",
        "colab": {
          "base_uri": "https://localhost:8080/"
        },
        "outputId": "4d2e64b7-ae2c-4c22-959d-4d8bd0bb4078"
      },
      "execution_count": 55,
      "outputs": [
        {
          "output_type": "stream",
          "name": "stdout",
          "text": [
            "5627/5627 [==============================] - 68s 12ms/step\n"
          ]
        }
      ]
    },
    {
      "cell_type": "code",
      "source": [
        "# convert the prediction probabilities found with feature extraction model to label\n",
        "model_2_pred = tf.argmax(model_2_pred_probs, axis=1) # les positions des  valeur les plus grandes \n",
        "model_2_pred"
      ],
      "metadata": {
        "id": "y2rfb07TAJT4",
        "colab": {
          "base_uri": "https://localhost:8080/"
        },
        "outputId": "0b47b697-50a2-40ed-bf4d-3e83c7dde97a"
      },
      "execution_count": 56,
      "outputs": [
        {
          "output_type": "execute_result",
          "data": {
            "text/plain": [
              "<tf.Tensor: shape=(180040,), dtype=int64, numpy=array([3, 2, 2, ..., 1, 1, 2])>"
            ]
          },
          "metadata": {},
          "execution_count": 56
        }
      ]
    },
    {
      "cell_type": "code",
      "source": [
        "# Calcute results performance from TF Hub pretrained embeddings results on val set\n",
        "model_2_results = calculate_results(y_true =val_labels_encoded,\n",
        "                                    y_pred = model_2_pred)\n",
        "model_2_results"
      ],
      "metadata": {
        "id": "89t0WYm9A-oZ",
        "colab": {
          "base_uri": "https://localhost:8080/"
        },
        "outputId": "17caf585-706d-4bee-a34a-0c192bebce1f"
      },
      "execution_count": 57,
      "outputs": [
        {
          "output_type": "execute_result",
          "data": {
            "text/plain": [
              "{'accuracy': 71.2497222839369,\n",
              " 'precision': 0.7150091305711698,\n",
              " 'recall': 0.712497222839369,\n",
              " 'f1': 0.7099103058196597}"
            ]
          },
          "metadata": {},
          "execution_count": 57
        }
      ]
    },
    {
      "cell_type": "code",
      "source": [
        "model_0_results"
      ],
      "metadata": {
        "id": "hZTM-62TBSgw",
        "colab": {
          "base_uri": "https://localhost:8080/"
        },
        "outputId": "f973f448-454f-4b34-998f-8564efe37b0f"
      },
      "execution_count": 58,
      "outputs": [
        {
          "output_type": "execute_result",
          "data": {
            "text/plain": [
              "{'accuracy': 75.16829593423684,\n",
              " 'precision': 0.7556121877731266,\n",
              " 'recall': 0.7516829593423684,\n",
              " 'f1': 0.734085177322999}"
            ]
          },
          "metadata": {},
          "execution_count": 58
        }
      ]
    },
    {
      "cell_type": "code",
      "source": [
        "model_1_results"
      ],
      "metadata": {
        "id": "_nkk7jHhC7Bp",
        "colab": {
          "base_uri": "https://localhost:8080/"
        },
        "outputId": "3ed1e19f-950c-4fbf-b091-39e54c91c5c6"
      },
      "execution_count": 59,
      "outputs": [
        {
          "output_type": "execute_result",
          "data": {
            "text/plain": [
              "{'accuracy': 79.93223728060431,\n",
              " 'precision': 0.7964993355361438,\n",
              " 'recall': 0.7993223728060431,\n",
              " 'f1': 0.7969426940533193}"
            ]
          },
          "metadata": {},
          "execution_count": 59
        }
      ]
    },
    {
      "cell_type": "markdown",
      "source": [
        "## Model 3: Conv1D with character embeddngs\n",
        "\n",
        "The paper which we're replicating states they used a combination of token and character-level embeddings.\n",
        ":\n",
        "Previously we've token-level embeddings but we'll need to do similar steps for characters if we want to use char-level embeddings."
      ],
      "metadata": {
        "id": "SWWTHTgyDtqk"
      }
    },
    {
      "cell_type": "markdown",
      "source": [
        "### Create a characterlevel tokenizer"
      ],
      "metadata": {
        "id": "5EYXAotxiQcM"
      }
    },
    {
      "cell_type": "code",
      "source": [
        "# tr = train_sentences.split(\"\")\n",
        "#init_tokenizer\n",
        "type(train_sentences)"
      ],
      "metadata": {
        "id": "P_UUJRurC9qY",
        "colab": {
          "base_uri": "https://localhost:8080/"
        },
        "outputId": "ec9b9027-fba1-497d-d35f-730c13476fe3"
      },
      "execution_count": 60,
      "outputs": [
        {
          "output_type": "execute_result",
          "data": {
            "text/plain": [
              "list"
            ]
          },
          "metadata": {},
          "execution_count": 60
        }
      ]
    },
    {
      "cell_type": "code",
      "source": [],
      "metadata": {
        "id": "DKdX1_g8ihyS"
      },
      "execution_count": 60,
      "outputs": []
    },
    {
      "cell_type": "code",
      "source": [
        "def split_chars(text):\n",
        "  return \" \".join(list(text))\n",
        "\n",
        "# Text splitting non-character-level sequence into characters\n",
        "split_chars(random_train_sentence)"
      ],
      "metadata": {
        "id": "6g4xJJb4i9o5",
        "colab": {
          "base_uri": "https://localhost:8080/",
          "height": 36
        },
        "outputId": "ead2e90f-3f29-4a64-d765-ebe342b9eafd"
      },
      "execution_count": 59,
      "outputs": [
        {
          "output_type": "execute_result",
          "data": {
            "text/plain": [
              "'j u s t   o v e r   h a l f   (   @   %   )   o f   t h e   p a r t i c i p a n t s   i d e n t i f i e d   i t s   k e y   m e s s a g e   o n   m o r t a l i t y   a f t e r   e n g a g i n g   w i t h   t h e i r   s u m m a r y   .'"
            ],
            "application/vnd.google.colaboratory.intrinsic+json": {
              "type": "string"
            }
          },
          "metadata": {},
          "execution_count": 59
        }
      ]
    },
    {
      "cell_type": "code",
      "source": [
        "# Split sequence-level data splits into character-level data splits \n",
        "train_chars = [split_chars(sentence) for sentence in train_sentences]\n",
        "test_chars = [split_chars(sentence) for sentence in test_sentences]\n",
        "val_chars = [split_chars(sentence) for sentence in val_sentences]\n",
        "train_chars[0]"
      ],
      "metadata": {
        "id": "bLO6YMzslFfJ",
        "colab": {
          "base_uri": "https://localhost:8080/",
          "height": 71
        },
        "outputId": "feddf4d7-4d5e-43b2-e850-3b89c371717e"
      },
      "execution_count": 60,
      "outputs": [
        {
          "output_type": "execute_result",
          "data": {
            "text/plain": [
              "'t o   i n v e s t i g a t e   t h e   e f f i c a c y   o f   @   w e e k s   o f   d a i l y   l o w - d o s e   o r a l   p r e d n i s o l o n e   i n   i m p r o v i n g   p a i n   ,   m o b i l i t y   ,   a n d   s y s t e m i c   l o w - g r a d e   i n f l a m m a t i o n   i n   t h e   s h o r t   t e r m   a n d   w h e t h e r   t h e   e f f e c t   w o u l d   b e   s u s t a i n e d   a t   @   w e e k s   i n   o l d e r   a d u l t s   w i t h   m o d e r a t e   t o   s e v e r e   k n e e   o s t e o a r t h r i t i s   (   o a   )   .'"
            ],
            "application/vnd.google.colaboratory.intrinsic+json": {
              "type": "string"
            }
          },
          "metadata": {},
          "execution_count": 60
        }
      ]
    },
    {
      "cell_type": "code",
      "source": [
        "# What's the average character length ?\n",
        "char_lens = [len(sentence) for sentence in train_sentences]\n",
        "mean_char_len = np.mean(char_lens)\n",
        "mean_char_len"
      ],
      "metadata": {
        "id": "iaPp-0PhlVEQ",
        "colab": {
          "base_uri": "https://localhost:8080/"
        },
        "outputId": "2603c097-0f71-4abb-eca2-4136fa35144d"
      },
      "execution_count": 63,
      "outputs": [
        {
          "output_type": "execute_result",
          "data": {
            "text/plain": [
              "149.3662574983337"
            ]
          },
          "metadata": {},
          "execution_count": 63
        }
      ]
    },
    {
      "cell_type": "code",
      "source": [
        "# Check the distribution of our sequences at a character-level\n",
        "import matplotlib.pyplot as plt\n",
        "plt.hist(char_lens, bins=7);"
      ],
      "metadata": {
        "id": "GOtCO6CKplHR",
        "colab": {
          "base_uri": "https://localhost:8080/",
          "height": 265
        },
        "outputId": "3a6c65cb-d29d-4880-e6e2-a60d895190d1"
      },
      "execution_count": 64,
      "outputs": [
        {
          "output_type": "display_data",
          "data": {
            "text/plain": [
              "<Figure size 432x288 with 1 Axes>"
            ],
            "image/png": "[encoded data removed]"
          },
          "metadata": {
            "needs_background": "light"
          }
        }
      ]
    },
    {
      "cell_type": "code",
      "source": [
        "# Find what character length covers 95% of sequences\n",
        "output_seq_char_len = int(np.percentile(char_lens, 95))\n",
        "output_seq_char_len"
      ],
      "metadata": {
        "id": "zyriVeG8q4_-",
        "colab": {
          "base_uri": "https://localhost:8080/"
        },
        "outputId": "2d50ee40-131f-49cd-98d7-f2a5a4bf1f07"
      },
      "execution_count": 65,
      "outputs": [
        {
          "output_type": "execute_result",
          "data": {
            "text/plain": [
              "290"
            ]
          },
          "metadata": {},
          "execution_count": 65
        }
      ]
    },
    {
      "cell_type": "code",
      "source": [
        "# Get all keyboard characters\n",
        "import string\n",
        "alphabet = string.ascii_lowercase + string.digits + string.punctuation\n",
        "alphabet"
      ],
      "metadata": {
        "id": "q7mvXmEQrk_6",
        "colab": {
          "base_uri": "https://localhost:8080/",
          "height": 36
        },
        "outputId": "176040c5-03be-4971-b059-54a5734d3697"
      },
      "execution_count": 66,
      "outputs": [
        {
          "output_type": "execute_result",
          "data": {
            "text/plain": [
              "'abcdefghijklmnopqrstuvwxyz0123456789!\"#$%&\\'()*+,-./:;<=>?@[\\\\]^_`{|}~'"
            ],
            "application/vnd.google.colaboratory.intrinsic+json": {
              "type": "string"
            }
          },
          "metadata": {},
          "execution_count": 66
        }
      ]
    },
    {
      "cell_type": "code",
      "source": [
        "# Create char-level token vectorizer instance\n",
        "NUM_CHAR_TOKENS = len(alphabet) + 2 # add 2 for space and OOV token (OOV = out of vocab, '[UNK]')\n",
        "\n",
        "\n",
        "    # Create a text vectorizer \n",
        "char_vectorizer = tf.keras.layers.experimental.preprocessing.TextVectorization(max_tokens = NUM_CHAR_TOKENS,\n",
        "                                                                               output_sequence_length= output_seq_char_len,\n",
        "                                                                               #standardize=None, # set standardization to \"None\" if you want leave the ponctuation in\n",
        "                                                                               name=\"char_vectorizer\")\n"
      ],
      "metadata": {
        "id": "MZDBAEhfsHkK"
      },
      "execution_count": 67,
      "outputs": []
    },
    {
      "cell_type": "code",
      "source": [
        "# Adapt character vectorizer to training character\n",
        "char_vectorizer.adapt(train_chars)"
      ],
      "metadata": {
        "id": "5V9LCMyCsJ_L"
      },
      "execution_count": 68,
      "outputs": []
    },
    {
      "cell_type": "code",
      "source": [
        " # Check character vocab stats\n",
        "char_vocab = char_vectorizer.get_vocabulary()\n",
        "print(f\"Number of different characters in character vocab: {len(char_vocab)}\")\n",
        "print(f\"5 most common characters: {char_vocab[:5]}\")\n",
        "print(f\"5 least common characters: {char_vocab[-5:]}\")"
      ],
      "metadata": {
        "id": "1503Ul8YFBJa",
        "colab": {
          "base_uri": "https://localhost:8080/"
        },
        "outputId": "d4e72352-004d-4777-8665-031ae79b3f97"
      },
      "execution_count": 69,
      "outputs": [
        {
          "output_type": "stream",
          "name": "stdout",
          "text": [
            "Number of different characters in character vocab: 28\n",
            "5 most common characters: ['', '[UNK]', 'e', 't', 'i']\n",
            "5 least common characters: ['k', 'x', 'z', 'q', 'j']\n"
          ]
        }
      ]
    },
    {
      "cell_type": "code",
      "source": [
        "# Test out character vectorizer\n",
        "random_train_chars = random.choice(train_chars)\n",
        "print(f\"Charified text:\\n {random_train_chars}\")\n",
        "print(f\"Length of random_train_chars: {len(random_train_chars)}\")\n",
        "\n",
        "vectorized_chars = char_vectorizer([random_train_chars])\n",
        "print(f\"\\Vectorized chars:\\n {vectorized_chars}\")\n",
        "print(f\"\\nLength of vectorized chars: {len(vectorized_chars[0])}\")"
      ],
      "metadata": {
        "id": "8hI75G6sC_jR",
        "colab": {
          "base_uri": "https://localhost:8080/"
        },
        "outputId": "1dfa9b8e-5e4c-402f-f4b8-cd827c01ba46"
      },
      "execution_count": 70,
      "outputs": [
        {
          "output_type": "stream",
          "name": "stdout",
          "text": [
            "Charified text:\n",
            " f e m a l e s   w e r e   @ - @ - y e a r s - o l d   a n d   h a d   a   m a l e   p a r t n e r   w i t h   s p e r m   c o n c e n t r a t i o n   o f   a t   l e a s t   @   m i l l i o n / m l   w h o   c o n s e n t e d   t o   r e g u l a r   i n t e r c o u r s e   .\n",
            "Length of random_train_chars: 275\n",
            "\\Vectorized chars:\n",
            " [[17  2 15  5 12  2  9 20  2  8  2 19  2  5  8  9  7 12 10  5  6 10 13  5\n",
            "  10  5 15  5 12  2 14  5  8  3  6  2  8 20  4  3 13  9 14  2  8 15 11  7\n",
            "   6 11  2  6  3  8  5  3  4  7  6  7 17  5  3 12  2  5  9  3 15  4 12 12\n",
            "   4  7  6 15 12 20 13  7 11  7  6  9  2  6  3  2 10  3  7  8  2 18 16 12\n",
            "   5  8  4  6  3  2  8 11  7 16  8  9  2  0  0  0  0  0  0  0  0  0  0  0\n",
            "   0  0  0  0  0  0  0  0  0  0  0  0  0  0  0  0  0  0  0  0  0  0  0  0\n",
            "   0  0  0  0  0  0  0  0  0  0  0  0  0  0  0  0  0  0  0  0  0  0  0  0\n",
            "   0  0  0  0  0  0  0  0  0  0  0  0  0  0  0  0  0  0  0  0  0  0  0  0\n",
            "   0  0  0  0  0  0  0  0  0  0  0  0  0  0  0  0  0  0  0  0  0  0  0  0\n",
            "   0  0  0  0  0  0  0  0  0  0  0  0  0  0  0  0  0  0  0  0  0  0  0  0\n",
            "   0  0  0  0  0  0  0  0  0  0  0  0  0  0  0  0  0  0  0  0  0  0  0  0\n",
            "   0  0  0  0  0  0  0  0  0  0  0  0  0  0  0  0  0  0  0  0  0  0  0  0\n",
            "   0  0]]\n",
            "\n",
            "Length of vectorized chars: 290\n"
          ]
        }
      ]
    },
    {
      "cell_type": "markdown",
      "source": [
        "### Creating a character level embedding"
      ],
      "metadata": {
        "id": "fpAI-4BpdsRZ"
      }
    },
    {
      "cell_type": "code",
      "source": [
        "# Create char embedding layer\n",
        "char_embed = tf.keras.layers.Embedding(input_dim=len(char_vocab), # this is the number of differente characters\n",
        "                                       output_dim= 25, # is the size of char_embedding in  the paper (figure 1)\n",
        "                                       mask_zero=True,\n",
        "                                       name=\"char_embed\")"
      ],
      "metadata": {
        "id": "_iy5snMeKhWw"
      },
      "execution_count": 71,
      "outputs": []
    },
    {
      "cell_type": "code",
      "source": [
        "# Test our character embedding layer\n",
        "print(f\"Charified text:\\n {random_train_chars}\")\n",
        "char_embed_example = char_embed(char_vectorizer([random_train_chars]))\n",
        "print(f\" Embedded chars. (after vectorization and embedding) :\\n {char_embed_example}\")\n",
        "print(f\"Character embedding shape: {char_embed_example.shape}\")"
      ],
      "metadata": {
        "colab": {
          "base_uri": "https://localhost:8080/"
        },
        "id": "CCTKoO9SiL2O",
        "outputId": "774d9edb-18af-4cf5-c4dd-bc0f08e37704"
      },
      "execution_count": 72,
      "outputs": [
        {
          "output_type": "stream",
          "name": "stdout",
          "text": [
            "Charified text:\n",
            " f e m a l e s   w e r e   @ - @ - y e a r s - o l d   a n d   h a d   a   m a l e   p a r t n e r   w i t h   s p e r m   c o n c e n t r a t i o n   o f   a t   l e a s t   @   m i l l i o n / m l   w h o   c o n s e n t e d   t o   r e g u l a r   i n t e r c o u r s e   .\n",
            " Embedded chars. (after vectorization and embedding) :\n",
            " [[[ 0.04188602  0.02972411  0.03187562 ...  0.00750785 -0.01279043\n",
            "    0.0200865 ]\n",
            "  [-0.01118403 -0.03237434 -0.02016939 ...  0.04173766  0.03894365\n",
            "   -0.04849194]\n",
            "  [-0.03776179 -0.03160013 -0.02864457 ...  0.01553828 -0.02422942\n",
            "    0.0464274 ]\n",
            "  ...\n",
            "  [-0.0034036   0.00625352  0.04544738 ... -0.02917071 -0.00289147\n",
            "    0.02521265]\n",
            "  [-0.0034036   0.00625352  0.04544738 ... -0.02917071 -0.00289147\n",
            "    0.02521265]\n",
            "  [-0.0034036   0.00625352  0.04544738 ... -0.02917071 -0.00289147\n",
            "    0.02521265]]]\n",
            "Character embedding shape: (1, 290, 25)\n"
          ]
        }
      ]
    },
    {
      "cell_type": "code",
      "source": [
        "len(random_train_chars)"
      ],
      "metadata": {
        "colab": {
          "base_uri": "https://localhost:8080/"
        },
        "id": "XCFdmLcxjIc3",
        "outputId": "d07501bd-2c9c-43e6-89b2-403a2793c327"
      },
      "execution_count": 73,
      "outputs": [
        {
          "output_type": "execute_result",
          "data": {
            "text/plain": [
              "275"
            ]
          },
          "metadata": {},
          "execution_count": 73
        }
      ]
    },
    {
      "cell_type": "code",
      "source": [
        "# Check the image in notion and build a model like this"
      ],
      "metadata": {
        "id": "SeLxgph3ja6G"
      },
      "execution_count": 74,
      "outputs": []
    },
    {
      "cell_type": "markdown",
      "source": [
        "### Building a Conv1D model to fit on character embeddings"
      ],
      "metadata": {
        "id": "teEXqDdP4nlB"
      }
    },
    {
      "cell_type": "code",
      "source": [
        "# Create the model\n",
        "model_3 = tf.keras.Sequential([\n",
        "    tf.keras.layers.Input(shape=(1,), dtype=tf.string, name=\"input_layer\"),\n",
        "    char_vectorizer,\n",
        "    char_embed,\n",
        "    tf.keras.layers.Conv1D(64,kernel_size=5, padding=\"same\", activation=\"relu\"),\n",
        "    tf.keras.layers.GlobalMaxPool1D(),\n",
        "    tf.keras.layers.Dense(num_classes,activation=\"softmax\",name=\"output_layer\")\n",
        "], name=\"Conv1D_char_embed\")\n",
        "\n",
        "# Compile the model\n",
        "model_3.compile(loss=\"categorical_crossentropy\",\n",
        "                optimizer=tf.keras.optimizers.Adam(),\n",
        "                metrics=[\"accuracy\"])\n"
      ],
      "metadata": {
        "id": "xHVsAen3xFhu"
      },
      "execution_count": 75,
      "outputs": []
    },
    {
      "cell_type": "code",
      "source": [
        "model_3.summary()"
      ],
      "metadata": {
        "colab": {
          "base_uri": "https://localhost:8080/"
        },
        "id": "dRk1fyLEe0Zg",
        "outputId": "64919fc4-aaa0-4d41-e047-af8d656e6cfb"
      },
      "execution_count": 76,
      "outputs": [
        {
          "output_type": "stream",
          "name": "stdout",
          "text": [
            "Model: \"Conv1D_char_embed\"\n",
            "_________________________________________________________________\n",
            " Layer (type)                Output Shape              Param #   \n",
            "=================================================================\n",
            " char_vectorizer (TextVector  (None, 290)              0         \n",
            " ization)                                                        \n",
            "                                                                 \n",
            " char_embed (Embedding)      (None, 290, 25)           700       \n",
            "                                                                 \n",
            " conv1d_1 (Conv1D)           (None, 290, 64)           8064      \n",
            "                                                                 \n",
            " global_max_pooling1d (Globa  (None, 64)               0         \n",
            " lMaxPooling1D)                                                  \n",
            "                                                                 \n",
            " output_layer (Dense)        (None, 5)                 325       \n",
            "                                                                 \n",
            "=================================================================\n",
            "Total params: 9,089\n",
            "Trainable params: 9,089\n",
            "Non-trainable params: 0\n",
            "_________________________________________________________________\n"
          ]
        }
      ]
    },
    {
      "cell_type": "code",
      "source": [
        "# Create char level datasets\n",
        "train_char_dataset = tf.data.Dataset.from_tensor_slices((train_chars, train_labels_one_hot)).batch(32).prefetch(tf.data.AUTOTUNE)\n",
        "val_char_dataset = tf.data.Dataset.from_tensor_slices((val_chars, val_labels_one_hot)).batch(32).prefetch(tf.data.AUTOTUNE)\n",
        "test_char_dataset = tf.data.Dataset.from_tensor_slices((test_chars, test_labels_one_hot)).batch(32).prefetch(tf.data.AUTOTUNE)\n",
        "\n",
        "train_char_dataset"
      ],
      "metadata": {
        "colab": {
          "base_uri": "https://localhost:8080/"
        },
        "id": "3SocLQkqfLE7",
        "outputId": "b2b931bf-683c-4c3f-b45c-06bf2cb1b9b6"
      },
      "execution_count": 77,
      "outputs": [
        {
          "output_type": "execute_result",
          "data": {
            "text/plain": [
              "<PrefetchDataset element_spec=(TensorSpec(shape=(None,), dtype=tf.string, name=None), TensorSpec(shape=(None, 5), dtype=tf.float64, name=None))>"
            ]
          },
          "metadata": {},
          "execution_count": 77
        }
      ]
    },
    {
      "cell_type": "code",
      "source": [
        "# Fit the model\n",
        "history_model_3 = model_3.fit(train_char_dataset,\n",
        "                             steps_per_epoch=int(0.1*len(train_char_dataset)),\n",
        "                             epochs=3,\n",
        "                             validation_data=val_char_dataset,\n",
        "                             validation_steps=int(0.1*len(val_char_dataset)),\n",
        "                             callbacks=[helper_functions.create_tensorboard_callback(dir_name=\"tensorboard\",\n",
        "                                                                                     experiment_name=\"model_3_conv1D_embed_char\")])"
      ],
      "metadata": {
        "colab": {
          "base_uri": "https://localhost:8080/"
        },
        "id": "-U0zDnuN303C",
        "outputId": "c24f52d8-a8bc-414d-9451-a7a581a76326"
      },
      "execution_count": 78,
      "outputs": [
        {
          "output_type": "stream",
          "name": "stdout",
          "text": [
            "Saving TensorBoard log files to: tensorboard/model_3_conv1D_embed_char/20230221-212953\n",
            "Epoch 1/3\n",
            "562/562 [==============================] - 7s 11ms/step - loss: 1.2477 - accuracy: 0.5015 - val_loss: 1.0221 - val_accuracy: 0.6060\n",
            "Epoch 2/3\n",
            "562/562 [==============================] - 5s 9ms/step - loss: 0.9895 - accuracy: 0.6059 - val_loss: 0.9474 - val_accuracy: 0.6304\n",
            "Epoch 3/3\n",
            "562/562 [==============================] - 4s 8ms/step - loss: 0.9156 - accuracy: 0.6401 - val_loss: 0.8770 - val_accuracy: 0.6619\n"
          ]
        }
      ]
    },
    {
      "cell_type": "code",
      "source": [
        "# Make prediction with character model only\n",
        "model_3_pred_probs = model_3.predict(val_char_dataset)"
      ],
      "metadata": {
        "colab": {
          "base_uri": "https://localhost:8080/"
        },
        "id": "huc1Td_738iv",
        "outputId": "7f901108-488a-40f2-ace1-ceed6b81a72d"
      },
      "execution_count": 79,
      "outputs": [
        {
          "output_type": "stream",
          "name": "stdout",
          "text": [
            "5627/5627 [==============================] - 15s 3ms/step\n"
          ]
        }
      ]
    },
    {
      "cell_type": "code",
      "source": [
        "# Convert preddiction probabilies to class labels\n",
        "model_3_preds = tf.argmax(model_3_pred_probs, axis=1)\n",
        "model_3_preds"
      ],
      "metadata": {
        "colab": {
          "base_uri": "https://localhost:8080/"
        },
        "id": "LyZMZdVFkeR_",
        "outputId": "9f124312-7fdd-461f-b9ec-a104152f5b15"
      },
      "execution_count": 80,
      "outputs": [
        {
          "output_type": "execute_result",
          "data": {
            "text/plain": [
              "<tf.Tensor: shape=(180040,), dtype=int64, numpy=array([3, 2, 2, ..., 1, 4, 1])>"
            ]
          },
          "metadata": {},
          "execution_count": 80
        }
      ]
    },
    {
      "cell_type": "code",
      "source": [
        "model_3_results = calculate_results(y_true=train_labels_encoded, y_pred=model_3_preds)\n",
        "model_3_results"
      ],
      "metadata": {
        "colab": {
          "base_uri": "https://localhost:8080/"
        },
        "id": "Svjqst89ki3j",
        "outputId": "995ecfcf-2da1-41dc-8076-81812f2a90e4"
      },
      "execution_count": 81,
      "outputs": [
        {
          "output_type": "execute_result",
          "data": {
            "text/plain": [
              "{'accuracy': 65.629304598978,\n",
              " 'precision': 0.6525354694062742,\n",
              " 'recall': 0.65629304598978,\n",
              " 'f1': 0.6447729949673783}"
            ]
          },
          "metadata": {},
          "execution_count": 81
        }
      ]
    },
    {
      "cell_type": "markdown",
      "source": [
        "## Model 4: Combining pretrained token embedding + characters embedding (hybrid embedding)\n",
        "\n",
        "1. Create a token-level embedding model (similar `model_1`).\n",
        "2. Create a character-level model (similar to `model_3` with a slight modification)\n",
        "3. Combine 1 & 3 with a concatenate (`layers.Concatenate`).\n",
        "4. Build a series of output layers on top of 3 similar to Figure 1 and section 4.2(Training) of the paper https://arxiv.org/pdf/1612.05251.pdf.\n",
        "5. Construct a model which takes token and character-level sequences as input and produces sequence label probabilities as output."
      ],
      "metadata": {
        "id": "Xf1WpNwfMSny"
      }
    },
    {
      "cell_type": "code",
      "source": [
        "# 1. Setup token inputs/model\n",
        "token_model = tf.keras.Sequential([\n",
        "    tf.keras.layers.Input(shape=[], dtype=tf.string, name=\"token_input\"),\n",
        "    tf_hub_embedding_layer,\n",
        "    tf.keras.layers.Dense(128, activation=\"relu\", name=\"output_layer\")\n",
        "], name=\"token_model\")\n",
        "\n",
        "# 2. Setup char inputs/model\n",
        "char_model = tf.keras.Sequential([\n",
        "    tf.keras.layers.Input(shape=(1,), dtype=tf.string, name=\"char_input\"),\n",
        "    char_vectorizer,\n",
        "    char_embed,\n",
        "    tf.keras.layers.Bidirectional(tf.keras.layers.LSTM(24), name=\"bi_lstm_output_layer\")\n",
        "], name=\"char_model\")\n",
        "\n",
        "# 3. Concatenate token and char inputs (create hybrid token embedding)\n",
        "token_char_concat = tf.keras.layers.Concatenate(name=\"token_char_hybrid\")([token_model.output,\n",
        "                                                                    char_model.output])\n",
        "# 4. Create output layers - adding in Dropout, discussed in section 4.2\n",
        "combined_dropout = tf.keras.layers.Dropout(0.5)(token_char_concat)\n",
        "combined_dense = tf.keras.layers.Dense(128, activation=\"relu\")(combined_dropout)\n",
        "final_dropout = tf.keras.layers.Dropout(0.5)(combined_dense)\n",
        "output_layer = tf.keras.layers.Dense(num_classes, activation=\"sigmoid\")(final_dropout)\n",
        "\n",
        "# output_layer = tf.keras.Sequential([\n",
        "#     tf.keras.layers.Dropout(0.5)(token_char_concat), # combined_dropout\n",
        "#     tf.keras.layers.Dense(128, activation=\"relu\"),   # combined_dense\n",
        "#     tf.keras.layers.Dropout(0.5),                   # final_dropout\n",
        "#     tf.keras.layers.Dense(num_classes, activation=\"sigmoid\")\n",
        "# ])\n",
        "\n",
        "# 5. Construct model with char and token inputs\n",
        "model_4 = tf.keras.Model(inputs=[token_model.input, char_model.input],\n",
        "                         outputs=output_layer,\n",
        "                         name=\"model_4_token_and_char_embeddings\")"
      ],
      "metadata": {
        "id": "ByZTymWfkCZZ"
      },
      "execution_count": 82,
      "outputs": []
    },
    {
      "cell_type": "code",
      "source": [
        "model_4.summary()"
      ],
      "metadata": {
        "colab": {
          "base_uri": "https://localhost:8080/"
        },
        "outputId": "71775086-92e8-42a7-c030-9640aea1bda7",
        "id": "Cbj3J2yWa6cp"
      },
      "execution_count": 83,
      "outputs": [
        {
          "output_type": "stream",
          "name": "stdout",
          "text": [
            "Model: \"model_4_token_and_char_embeddings\"\n",
            "__________________________________________________________________________________________________\n",
            " Layer (type)                   Output Shape         Param #     Connected to                     \n",
            "==================================================================================================\n",
            " char_input (InputLayer)        [(None, 1)]          0           []                               \n",
            "                                                                                                  \n",
            " token_input (InputLayer)       [(None,)]            0           []                               \n",
            "                                                                                                  \n",
            " char_vectorizer (TextVectoriza  (None, 290)         0           ['char_input[0][0]']             \n",
            " tion)                                                                                            \n",
            "                                                                                                  \n",
            " universal_sentence_encoder (Ke  (None, 512)         256797824   ['token_input[0][0]']            \n",
            " rasLayer)                                                                                        \n",
            "                                                                                                  \n",
            " char_embed (Embedding)         (None, 290, 25)      700         ['char_vectorizer[1][0]']        \n",
            "                                                                                                  \n",
            " output_layer (Dense)           (None, 128)          65664       ['universal_sentence_encoder[2][0\n",
            "                                                                 ]']                              \n",
            "                                                                                                  \n",
            " bi_lstm_output_layer (Bidirect  (None, 48)          9600        ['char_embed[1][0]']             \n",
            " ional)                                                                                           \n",
            "                                                                                                  \n",
            " token_char_hybrid (Concatenate  (None, 176)         0           ['output_layer[0][0]',           \n",
            " )                                                                'bi_lstm_output_layer[0][0]']   \n",
            "                                                                                                  \n",
            " dropout (Dropout)              (None, 176)          0           ['token_char_hybrid[0][0]']      \n",
            "                                                                                                  \n",
            " dense_3 (Dense)                (None, 128)          22656       ['dropout[0][0]']                \n",
            "                                                                                                  \n",
            " dropout_1 (Dropout)            (None, 128)          0           ['dense_3[0][0]']                \n",
            "                                                                                                  \n",
            " dense_4 (Dense)                (None, 5)            645         ['dropout_1[0][0]']              \n",
            "                                                                                                  \n",
            "==================================================================================================\n",
            "Total params: 256,897,089\n",
            "Trainable params: 99,265\n",
            "Non-trainable params: 256,797,824\n",
            "__________________________________________________________________________________________________\n"
          ]
        }
      ]
    },
    {
      "cell_type": "code",
      "source": [
        "# Plot hybrid token and charcter model\n",
        "from keras.utils import plot_model\n",
        "plot_model(model_4, show_shapes=True)"
      ],
      "metadata": {
        "colab": {
          "base_uri": "https://localhost:8080/",
          "height": 976
        },
        "id": "KVxIyt2abG8L",
        "outputId": "cc7a26d5-f6c6-4ca4-9340-0158fa6a3603"
      },
      "execution_count": 84,
      "outputs": [
        {
          "output_type": "execute_result",
          "data": {
            "image/png": "[encoded data removed]",
            "text/plain": [
              "<IPython.core.display.Image object>"
            ]
          },
          "metadata": {},
          "execution_count": 84
        }
      ]
    },
    {
      "cell_type": "code",
      "source": [
        " # Compile token char model\n",
        " model_4.compile(loss=\"categorical_crossentropy\",\n",
        "                 optimizer=tf.keras.optimizers.Adam(), # section 4.2 of the paper says use SGD\n",
        "                 metrics=[\"accuracy\"])"
      ],
      "metadata": {
        "id": "iyJa7stZVCkb"
      },
      "execution_count": 85,
      "outputs": []
    },
    {
      "cell_type": "markdown",
      "source": [
        "### Combining and characer data into a tf.data Dataset"
      ],
      "metadata": {
        "id": "98t0AersbyAq"
      }
    },
    {
      "cell_type": "code",
      "source": [
        "# Combine chars and tokens into a dataset\n",
        "train_char_token_data = tf.data.Dataset.from_tensor_slices((train_sentences, train_chars)) # make data\n",
        "train_char_token_labels = tf.data.Dataset.from_tensor_slices(train_labels_one_hot) # make labels\n",
        "train_char_token_dataset = tf.data.Dataset.zip((train_char_token_data, train_char_token_labels)) # combine data with labels\n",
        "\n",
        "# Prefetch and batch train data\n",
        "train_char_token_dataset = train_char_token_dataset.batch(32).prefetch(tf.data.AUTOTUNE)\n"
      ],
      "metadata": {
        "id": "oj5cvALSWmVa"
      },
      "execution_count": 86,
      "outputs": []
    },
    {
      "cell_type": "code",
      "source": [
        "# Repeat the above steps for our validation data\n",
        "val_char_token_data = tf.data.Dataset.from_tensor_slices((val_sentences, val_chars)) # make data\n",
        "val_char_token_labels = tf.data.Dataset.from_tensor_slices(val_labels_one_hot) # make labels\n",
        "val_char_token_dataset = tf.data.Dataset.zip((val_char_token_data, val_char_token_labels)) # combine data with labels\n",
        "\n",
        "# Prefetch and batch train data\n",
        "val_char_token_dataset = val_char_token_dataset.batch(32).prefetch(tf.data.AUTOTUNE)\n"
      ],
      "metadata": {
        "id": "j72ggNOMeIcS"
      },
      "execution_count": 87,
      "outputs": []
    },
    {
      "cell_type": "code",
      "source": [
        "train_char_token_dataset"
      ],
      "metadata": {
        "colab": {
          "base_uri": "https://localhost:8080/"
        },
        "id": "iWAO9vGPenCo",
        "outputId": "0a937aa9-4d2f-4800-e199-b6f0bdc018b0"
      },
      "execution_count": 88,
      "outputs": [
        {
          "output_type": "execute_result",
          "data": {
            "text/plain": [
              "<PrefetchDataset element_spec=((TensorSpec(shape=(None,), dtype=tf.string, name=None), TensorSpec(shape=(None,), dtype=tf.string, name=None)), TensorSpec(shape=(None, 5), dtype=tf.float64, name=None))>"
            ]
          },
          "metadata": {},
          "execution_count": 88
        }
      ]
    },
    {
      "cell_type": "code",
      "source": [
        " val_char_token_dataset"
      ],
      "metadata": {
        "colab": {
          "base_uri": "https://localhost:8080/"
        },
        "id": "U_xkeXVLfReo",
        "outputId": "01a535fe-6546-413a-b210-f15279756dff"
      },
      "execution_count": 89,
      "outputs": [
        {
          "output_type": "execute_result",
          "data": {
            "text/plain": [
              "<PrefetchDataset element_spec=((TensorSpec(shape=(None,), dtype=tf.string, name=None), TensorSpec(shape=(None,), dtype=tf.string, name=None)), TensorSpec(shape=(None, 5), dtype=tf.float64, name=None))>"
            ]
          },
          "metadata": {},
          "execution_count": 89
        }
      ]
    },
    {
      "cell_type": "markdown",
      "source": [
        "### Fitting a model on token and character-level sequences"
      ],
      "metadata": {
        "id": "6m79TMm9gT8E"
      }
    },
    {
      "cell_type": "code",
      "source": [
        "# Fit the model on tokens and chars\n",
        "history_model_4 = model_4.fit(train_char_token_dataset,\n",
        "                              steps_per_epoch=int(0.1*len(train_char_token_dataset)),\n",
        "                              epochs=3,\n",
        "                              validation_data=val_char_token_dataset,\n",
        "                              validation_steps=int(0.1*len(val_char_token_dataset)),\n",
        "                              callbacks=[helper_functions.create_tensorboard_callback(dir_name=\"tensorboard\",\n",
        "                                                                                      experiment_name=\"model_4\")])"
      ],
      "metadata": {
        "colab": {
          "base_uri": "https://localhost:8080/"
        },
        "id": "NHvLk9jrfYMj",
        "outputId": "26c4e87a-6a52-421d-fb96-1613f963a95b"
      },
      "execution_count": 90,
      "outputs": [
        {
          "output_type": "stream",
          "name": "stdout",
          "text": [
            "Saving TensorBoard log files to: tensorboard/model_4/20230221-213036\n",
            "Epoch 1/3\n",
            "562/562 [==============================] - 60s 88ms/step - loss: 0.9860 - accuracy: 0.6111 - val_loss: 0.7570 - val_accuracy: 0.7174\n",
            "Epoch 2/3\n",
            "562/562 [==============================] - 37s 67ms/step - loss: 0.7947 - accuracy: 0.6951 - val_loss: 0.7083 - val_accuracy: 0.7355\n",
            "Epoch 3/3\n",
            "562/562 [==============================] - 33s 59ms/step - loss: 0.7647 - accuracy: 0.7089 - val_loss: 0.6902 - val_accuracy: 0.7377\n"
          ]
        }
      ]
    },
    {
      "cell_type": "code",
      "source": [
        "# Evaluate one the whole validation dataset\n",
        "model_4.evaluate(val_char_token_dataset)"
      ],
      "metadata": {
        "colab": {
          "base_uri": "https://localhost:8080/"
        },
        "id": "35z-iTA4gLR4",
        "outputId": "bb9bb4aa-76e9-486d-e59f-db04332d1eb7"
      },
      "execution_count": 91,
      "outputs": [
        {
          "output_type": "stream",
          "name": "stdout",
          "text": [
            "5627/5627 [==============================] - 122s 22ms/step - loss: 0.6903 - accuracy: 0.7350\n"
          ]
        },
        {
          "output_type": "execute_result",
          "data": {
            "text/plain": [
              "[0.6902603507041931, 0.7349644303321838]"
            ]
          },
          "metadata": {},
          "execution_count": 91
        }
      ]
    },
    {
      "cell_type": "code",
      "source": [
        "# Make predictions using the token-character model hybrid\n",
        "model_4_pred_probs = model_4.predict(val_char_token_dataset)\n",
        "# Format pred probs into pred labels \n",
        "model_4_preds = tf.argmax(model_4_pred_probs, axis=1)\n",
        "model_4_preds[:5]"
      ],
      "metadata": {
        "colab": {
          "base_uri": "https://localhost:8080/"
        },
        "id": "D6XCih9Ejk37",
        "outputId": "afbc4c92-9432-46b9-b4e7-1e7b081def88"
      },
      "execution_count": 92,
      "outputs": [
        {
          "output_type": "stream",
          "name": "stdout",
          "text": [
            "5627/5627 [==============================] - 122s 21ms/step\n"
          ]
        },
        {
          "output_type": "execute_result",
          "data": {
            "text/plain": [
              "<tf.Tensor: shape=(5,), dtype=int64, numpy=array([3, 2, 2, 2, 2])>"
            ]
          },
          "metadata": {},
          "execution_count": 92
        }
      ]
    },
    {
      "cell_type": "code",
      "source": [
        "# get results of token-char-hybrid model\n",
        "model_4_results = calculate_results(y_true=val_labels_encoded, y_pred=model_4_preds)\n",
        "model_4_results"
      ],
      "metadata": {
        "colab": {
          "base_uri": "https://localhost:8080/"
        },
        "id": "_ivRx7QGxP-J",
        "outputId": "cd56247a-38cb-4bcd-d84c-cfb52b772cac"
      },
      "execution_count": 93,
      "outputs": [
        {
          "output_type": "execute_result",
          "data": {
            "text/plain": [
              "{'accuracy': 73.49644523439235,\n",
              " 'precision': 0.7363666101408224,\n",
              " 'recall': 0.7349644523439236,\n",
              " 'f1': 0.7314422352041032}"
            ]
          },
          "metadata": {},
          "execution_count": 93
        }
      ]
    },
    {
      "cell_type": "code",
      "source": [
        "# Get results of token-char-hybrid model\n"
      ],
      "metadata": {
        "id": "gMRufxr803rB"
      },
      "execution_count": 94,
      "outputs": []
    },
    {
      "cell_type": "markdown",
      "source": [
        "## Model 5 : Transfer learning with pretrained token embeddings + character embeddings + positional embeddings"
      ],
      "metadata": {
        "id": "AHBp-Y32kNo3"
      }
    },
    {
      "cell_type": "code",
      "source": [
        "train_df.head()"
      ],
      "metadata": {
        "colab": {
          "base_uri": "https://localhost:8080/",
          "height": 206
        },
        "id": "3rXwfV_mC5lw",
        "outputId": "5579a830-f3c0-4c7f-ff16-ff04e27660b6"
      },
      "execution_count": 95,
      "outputs": [
        {
          "output_type": "execute_result",
          "data": {
            "text/plain": [
              "      target                                               text  line_number  \\\n",
              "0  OBJECTIVE  to investigate the efficacy of @ weeks of dail...            0   \n",
              "1    METHODS  a total of @ patients with primary knee oa wer...            1   \n",
              "2    METHODS  outcome measures included pain reduction and i...            2   \n",
              "3    METHODS  pain was assessed using the visual analog pain...            3   \n",
              "4    METHODS  secondary outcome measures included the wester...            4   \n",
              "\n",
              "   total_lines  \n",
              "0           11  \n",
              "1           11  \n",
              "2           11  \n",
              "3           11  \n",
              "4           11  "
            ],
            "text/html": [
              "\n",
              "  <div id=\"df-ed8d39a3-e2dd-4473-b228-8401970e09cb\">\n",
              "    <div class=\"colab-df-container\">\n",
              "      <div>\n",
              "<style scoped>\n",
              "    .dataframe tbody tr th:only-of-type {\n",
              "        vertical-align: middle;\n",
              "    }\n",
              "\n",
              "    .dataframe tbody tr th {\n",
              "        vertical-align: top;\n",
              "    }\n",
              "\n",
              "    .dataframe thead th {\n",
              "        text-align: right;\n",
              "    }\n",
              "</style>\n",
              "<table border=\"1\" class=\"dataframe\">\n",
              "  <thead>\n",
              "    <tr style=\"text-align: right;\">\n",
              "      <th></th>\n",
              "      <th>target</th>\n",
              "      <th>text</th>\n",
              "      <th>line_number</th>\n",
              "      <th>total_lines</th>\n",
              "    </tr>\n",
              "  </thead>\n",
              "  <tbody>\n",
              "    <tr>\n",
              "      <th>0</th>\n",
              "      <td>OBJECTIVE</td>\n",
              "      <td>to investigate the efficacy of @ weeks of dail...</td>\n",
              "      <td>0</td>\n",
              "      <td>11</td>\n",
              "    </tr>\n",
              "    <tr>\n",
              "      <th>1</th>\n",
              "      <td>METHODS</td>\n",
              "      <td>a total of @ patients with primary knee oa wer...</td>\n",
              "      <td>1</td>\n",
              "      <td>11</td>\n",
              "    </tr>\n",
              "    <tr>\n",
              "      <th>2</th>\n",
              "      <td>METHODS</td>\n",
              "      <td>outcome measures included pain reduction and i...</td>\n",
              "      <td>2</td>\n",
              "      <td>11</td>\n",
              "    </tr>\n",
              "    <tr>\n",
              "      <th>3</th>\n",
              "      <td>METHODS</td>\n",
              "      <td>pain was assessed using the visual analog pain...</td>\n",
              "      <td>3</td>\n",
              "      <td>11</td>\n",
              "    </tr>\n",
              "    <tr>\n",
              "      <th>4</th>\n",
              "      <td>METHODS</td>\n",
              "      <td>secondary outcome measures included the wester...</td>\n",
              "      <td>4</td>\n",
              "      <td>11</td>\n",
              "    </tr>\n",
              "  </tbody>\n",
              "</table>\n",
              "</div>\n",
              "      <button class=\"colab-df-convert\" onclick=\"convertToInteractive('df-ed8d39a3-e2dd-4473-b228-8401970e09cb')\"\n",
              "              title=\"Convert this dataframe to an interactive table.\"\n",
              "              style=\"display:none;\">\n",
              "        \n",
              "  <svg xmlns=\"http://www.w3.org/2000/svg\" height=\"24px\"viewBox=\"0 0 24 24\"\n",
              "       width=\"24px\">\n",
              "    <path d=\"M0 0h24v24H0V0z\" fill=\"none\"/>\n",
              "    <path d=\"M18.56 5.44l.94 2.06.94-2.06 2.06-.94-2.06-.94-.94-2.06-.94 2.06-2.06.94zm-11 1L8.5 8.5l.94-2.06 2.06-.94-2.06-.94L8.5 2.5l-.94 2.06-2.06.94zm10 10l.94 2.06.94-2.06 2.06-.94-2.06-.94-.94-2.06-.94 2.06-2.06.94z\"/><path d=\"M17.41 7.96l-1.37-1.37c-.4-.4-.92-.59-1.43-.59-.52 0-1.04.2-1.43.59L10.3 9.45l-7.72 7.72c-.78.78-.78 2.05 0 2.83L4 21.41c.39.39.9.59 1.41.59.51 0 1.02-.2 1.41-.59l7.78-7.78 2.81-2.81c.8-.78.8-2.07 0-2.86zM5.41 20L4 18.59l7.72-7.72 1.47 1.35L5.41 20z\"/>\n",
              "  </svg>\n",
              "      </button>\n",
              "      \n",
              "  <style>\n",
              "    .colab-df-container {\n",
              "      display:flex;\n",
              "      flex-wrap:wrap;\n",
              "      gap: 12px;\n",
              "    }\n",
              "\n",
              "    .colab-df-convert {\n",
              "      background-color: #E8F0FE;\n",
              "      border: none;\n",
              "      border-radius: 50%;\n",
              "      cursor: pointer;\n",
              "      display: none;\n",
              "      fill: #1967D2;\n",
              "      height: 32px;\n",
              "      padding: 0 0 0 0;\n",
              "      width: 32px;\n",
              "    }\n",
              "\n",
              "    .colab-df-convert:hover {\n",
              "      background-color: #E2EBFA;\n",
              "      box-shadow: 0px 1px 2px rgba(60, 64, 67, 0.3), 0px 1px 3px 1px rgba(60, 64, 67, 0.15);\n",
              "      fill: #174EA6;\n",
              "    }\n",
              "\n",
              "    [theme=dark] .colab-df-convert {\n",
              "      background-color: #3B4455;\n",
              "      fill: #D2E3FC;\n",
              "    }\n",
              "\n",
              "    [theme=dark] .colab-df-convert:hover {\n",
              "      background-color: #434B5C;\n",
              "      box-shadow: 0px 1px 3px 1px rgba(0, 0, 0, 0.15);\n",
              "      filter: drop-shadow(0px 1px 2px rgba(0, 0, 0, 0.3));\n",
              "      fill: #FFFFFF;\n",
              "    }\n",
              "  </style>\n",
              "\n",
              "      <script>\n",
              "        const buttonEl =\n",
              "          document.querySelector('#df-ed8d39a3-e2dd-4473-b228-8401970e09cb button.colab-df-convert');\n",
              "        buttonEl.style.display =\n",
              "          google.colab.kernel.accessAllowed ? 'block' : 'none';\n",
              "\n",
              "        async function convertToInteractive(key) {\n",
              "          const element = document.querySelector('#df-ed8d39a3-e2dd-4473-b228-8401970e09cb');\n",
              "          const dataTable =\n",
              "            await google.colab.kernel.invokeFunction('convertToInteractive',\n",
              "                                                     [key], {});\n",
              "          if (!dataTable) return;\n",
              "\n",
              "          const docLinkHtml = 'Like what you see? Visit the ' +\n",
              "            '<a target=\"_blank\" href=https://colab.research.google.com/notebooks/data_table.ipynb>data table notebook</a>'\n",
              "            + ' to learn more about interactive tables.';\n",
              "          element.innerHTML = '';\n",
              "          dataTable['output_type'] = 'display_data';\n",
              "          await google.colab.output.renderOutput(dataTable, element);\n",
              "          const docLink = document.createElement('div');\n",
              "          docLink.innerHTML = docLinkHtml;\n",
              "          element.appendChild(docLink);\n",
              "        }\n",
              "      </script>\n",
              "    </div>\n",
              "  </div>\n",
              "  "
            ]
          },
          "metadata": {},
          "execution_count": 95
        }
      ]
    },
    {
      "cell_type": "markdown",
      "source": [
        "> **Note:** Any engineered features used to train a model need to be available at test time. In our case, line numbers and total lines are available."
      ],
      "metadata": {
        "id": "EdwEG04HiGX7"
      }
    },
    {
      "cell_type": "markdown",
      "source": [
        " ### Create positional embeddings\n"
      ],
      "metadata": {
        "id": "xcPHwkzOqWkS"
      }
    },
    {
      "cell_type": "code",
      "source": [
        "# How many different line numbers are there?\n",
        "train_df[\"line_number\"].value_counts()"
      ],
      "metadata": {
        "colab": {
          "base_uri": "https://localhost:8080/"
        },
        "id": "2PwkeKT0iFxE",
        "outputId": "7293491d-a618-417a-b7c7-cdd717449e89"
      },
      "execution_count": 96,
      "outputs": [
        {
          "output_type": "execute_result",
          "data": {
            "text/plain": [
              "0     15000\n",
              "1     15000\n",
              "2     15000\n",
              "3     15000\n",
              "4     14992\n",
              "5     14949\n",
              "6     14758\n",
              "7     14279\n",
              "8     13346\n",
              "9     11981\n",
              "10    10041\n",
              "11     7892\n",
              "12     5853\n",
              "13     4152\n",
              "14     2835\n",
              "15     1861\n",
              "16     1188\n",
              "17      751\n",
              "18      462\n",
              "19      286\n",
              "20      162\n",
              "21      101\n",
              "22       66\n",
              "23       33\n",
              "24       22\n",
              "25       14\n",
              "26        7\n",
              "27        4\n",
              "28        3\n",
              "29        1\n",
              "30        1\n",
              "Name: line_number, dtype: int64"
            ]
          },
          "metadata": {},
          "execution_count": 96
        }
      ]
    },
    {
      "cell_type": "code",
      "source": [
        "# Check the distribution of \"line_number\" column\n",
        "train_df.line_number.plot.hist()"
      ],
      "metadata": {
        "colab": {
          "base_uri": "https://localhost:8080/",
          "height": 282
        },
        "id": "US9xnLWJsYYb",
        "outputId": "9a6d0ca7-bf99-4d62-d443-ad5f7f6e1219"
      },
      "execution_count": 97,
      "outputs": [
        {
          "output_type": "execute_result",
          "data": {
            "text/plain": [
              "<matplotlib.axes._subplots.AxesSubplot at 0x7fae3baf4cd0>"
            ]
          },
          "metadata": {},
          "execution_count": 97
        },
        {
          "output_type": "display_data",
          "data": {
            "text/plain": [
              "<Figure size 432x288 with 1 Axes>"
            ],
            "image/png": "[encoded data removed]"
          },
          "metadata": {
            "needs_background": "light"
          }
        }
      ]
    },
    {
      "cell_type": "code",
      "source": [
        "# Use TensorFlow to create one-hot-encoded tensors of our \"line_number\" column\n",
        "train_line_numbers_one_hot = tf.one_hot(train_df[\"line_number\"].to_numpy(), depth=15)\n",
        "val_line_numbers_one_hot = tf.one_hot(val_df[\"line_number\"].to_numpy(), depth=15)\n",
        "test_line_numbers_one_hot = tf.one_hot(test_df[\"line_number\"].to_numpy(), depth=15)\n",
        "\n",
        "\n",
        "train_line_numbers_one_hot[1], train_line_numbers_one_hot.shape"
      ],
      "metadata": {
        "colab": {
          "base_uri": "https://localhost:8080/"
        },
        "id": "_ujLRwYHskSc",
        "outputId": "f080ede5-e284-4cdd-b84d-b031be7b60a5"
      },
      "execution_count": 52,
      "outputs": [
        {
          "output_type": "execute_result",
          "data": {
            "text/plain": [
              "(<tf.Tensor: shape=(15,), dtype=float32, numpy=\n",
              " array([0., 1., 0., 0., 0., 0., 0., 0., 0., 0., 0., 0., 0., 0., 0.],\n",
              "       dtype=float32)>, TensorShape([180040, 15]))"
            ]
          },
          "metadata": {},
          "execution_count": 52
        }
      ]
    },
    {
      "cell_type": "markdown",
      "source": [
        "Now w've encoded our line numbers feature, let's do the same for our total lines feature..."
      ],
      "metadata": {
        "id": "hXQvOpUIXpYp"
      }
    },
    {
      "cell_type": "code",
      "source": [
        "# How many different numbers of lines are there ?\n",
        "train_df[\"total_lines\"].value_counts()"
      ],
      "metadata": {
        "colab": {
          "base_uri": "https://localhost:8080/"
        },
        "id": "WCD60TljO-j8",
        "outputId": "d2346ca5-59d2-4e4d-dec4-aba8f2c94250"
      },
      "execution_count": 53,
      "outputs": [
        {
          "output_type": "execute_result",
          "data": {
            "text/plain": [
              "11    24468\n",
              "10    23639\n",
              "12    22113\n",
              "9     19400\n",
              "13    18438\n",
              "14    14610\n",
              "8     12285\n",
              "15    10768\n",
              "7      7464\n",
              "16     7429\n",
              "17     5202\n",
              "6      3353\n",
              "18     3344\n",
              "19     2480\n",
              "20     1281\n",
              "5      1146\n",
              "21      770\n",
              "22      759\n",
              "23      264\n",
              "4       215\n",
              "24      200\n",
              "25      182\n",
              "26       81\n",
              "28       58\n",
              "3        32\n",
              "30       31\n",
              "27       28\n",
              "Name: total_lines, dtype: int64"
            ]
          },
          "metadata": {},
          "execution_count": 53
        }
      ]
    },
    {
      "cell_type": "markdown",
      "source": [
        "## Check the distributions of total lines"
      ],
      "metadata": {
        "id": "j21tppxuYNSz"
      }
    },
    {
      "cell_type": "code",
      "source": [
        "# Check the distributions of total lines\n",
        "train_df.total_lines.plot.hist();"
      ],
      "metadata": {
        "colab": {
          "base_uri": "https://localhost:8080/",
          "height": 267
        },
        "id": "VPXC_z3yO-fx",
        "outputId": "d3eca1f4-e5d1-42f9-f2b0-d2fcb28696e6"
      },
      "execution_count": 54,
      "outputs": [
        {
          "output_type": "display_data",
          "data": {
            "text/plain": [
              "<Figure size 432x288 with 1 Axes>"
            ],
            "image/png": "[encoded data removed]"
          },
          "metadata": {
            "needs_background": "light"
          }
        }
      ]
    },
    {
      "cell_type": "code",
      "source": [
        "# Check the converage of a \"total_lines\" value of 20\n",
        "np.percentile(train_df.total_lines, 98)"
      ],
      "metadata": {
        "colab": {
          "base_uri": "https://localhost:8080/"
        },
        "id": "yMYAmYT3Y1FI",
        "outputId": "b5d5e2e9-bbb5-4caf-e06e-6f2ddc45269d"
      },
      "execution_count": 55,
      "outputs": [
        {
          "output_type": "execute_result",
          "data": {
            "text/plain": [
              "20.0"
            ]
          },
          "metadata": {},
          "execution_count": 55
        }
      ]
    },
    {
      "cell_type": "code",
      "source": [
        "# Use tensorflow to create one hot encoded tensors of our \"total_lines\" features\n",
        "train_total_lines_one_hot = tf.one_hot(train_df[\"total_lines\"].to_numpy(), depth=20)\n",
        "val_total_lines_one_hot = tf.one_hot(val_df[\"total_lines\"].to_numpy(), depth=20)\n",
        "test_total_lines_one_hot = tf.one_hot(test_df[\"total_lines\"].to_numpy(), depth=20)\n",
        "train_total_lines_one_hot.shape, train_total_lines_one_hot[:10]"
      ],
      "metadata": {
        "colab": {
          "base_uri": "https://localhost:8080/"
        },
        "id": "gFUlg3CzZQG9",
        "outputId": "1824109e-81dd-41de-b65e-731449f672c8"
      },
      "execution_count": 56,
      "outputs": [
        {
          "output_type": "execute_result",
          "data": {
            "text/plain": [
              "(TensorShape([180040, 20]), <tf.Tensor: shape=(10, 20), dtype=float32, numpy=\n",
              " array([[0., 0., 0., 0., 0., 0., 0., 0., 0., 0., 0., 1., 0., 0., 0., 0.,\n",
              "         0., 0., 0., 0.],\n",
              "        [0., 0., 0., 0., 0., 0., 0., 0., 0., 0., 0., 1., 0., 0., 0., 0.,\n",
              "         0., 0., 0., 0.],\n",
              "        [0., 0., 0., 0., 0., 0., 0., 0., 0., 0., 0., 1., 0., 0., 0., 0.,\n",
              "         0., 0., 0., 0.],\n",
              "        [0., 0., 0., 0., 0., 0., 0., 0., 0., 0., 0., 1., 0., 0., 0., 0.,\n",
              "         0., 0., 0., 0.],\n",
              "        [0., 0., 0., 0., 0., 0., 0., 0., 0., 0., 0., 1., 0., 0., 0., 0.,\n",
              "         0., 0., 0., 0.],\n",
              "        [0., 0., 0., 0., 0., 0., 0., 0., 0., 0., 0., 1., 0., 0., 0., 0.,\n",
              "         0., 0., 0., 0.],\n",
              "        [0., 0., 0., 0., 0., 0., 0., 0., 0., 0., 0., 1., 0., 0., 0., 0.,\n",
              "         0., 0., 0., 0.],\n",
              "        [0., 0., 0., 0., 0., 0., 0., 0., 0., 0., 0., 1., 0., 0., 0., 0.,\n",
              "         0., 0., 0., 0.],\n",
              "        [0., 0., 0., 0., 0., 0., 0., 0., 0., 0., 0., 1., 0., 0., 0., 0.,\n",
              "         0., 0., 0., 0.],\n",
              "        [0., 0., 0., 0., 0., 0., 0., 0., 0., 0., 0., 1., 0., 0., 0., 0.,\n",
              "         0., 0., 0., 0.]], dtype=float32)>)"
            ]
          },
          "metadata": {},
          "execution_count": 56
        }
      ]
    },
    {
      "cell_type": "markdown",
      "source": [
        "### Building a tribrid embedding model\n",
        "\n",
        "1. Create a token-level model\n",
        "2. Create a character-level model\n",
        "3. Create a model for the \"line_number\" feature\n",
        "4. Create a model for the \"total_lines\" feature\n",
        "5. Combine the outputs of 1 & 2 using tf.keras.layers.Concatenate\n",
        "6. Combine the outputs of 3, 4, 5 using tf.keras.layers.Concatenate\n",
        "7. Create an output layer to accept the tribried embedding and output label probabilities\n",
        "8. Combine the inputs of 1, 2, 3, 4 and outputs of into a tf.keras.Model."
      ],
      "metadata": {
        "id": "BkHSf3fhXxp0"
      }
    },
    {
      "cell_type": "code",
      "source": [
        "# 1. Token inputs\n",
        "token_model = tf.keras.Sequential([\n",
        "    tf.keras.layers.Input(shape=[], dtype=tf.string, name=\"token_inputs\"),\n",
        "    tf_hub_embedding_layer,\n",
        "    tf.keras.layers.Dense(128, activation=\"relu\"),\n",
        "], name=\"token_model\")\n",
        "\n",
        "# 2. Char inputs\n",
        "char_model = tf.keras.Sequential([\n",
        "    tf.keras.layers.Input(shape=(1, ), dtype=tf.string, name=\"char_inputs\"),\n",
        "    char_vectorizer,\n",
        "    char_embed,\n",
        "    tf.keras.layers.Bidirectional(tf.keras.layers.LSTM(24), name=\"bi_lstm_output\")\n",
        "], name=\"char_model\")\n",
        "    \n",
        "# 3. Line numbers model\n",
        "line_number_model = tf.keras.Sequential([\n",
        "    tf.keras.layers.Input(shape=(15,), dtype=tf.float32, name=\"input_line_numbers\"),\n",
        "    tf.keras.layers.Dense(32, activation=\"relu\")    \n",
        "],name=\"line_number_model\")\n",
        "\n",
        "# 4. Total lines model\n",
        "total_line_model = tf.keras.Sequential([\n",
        "    tf.keras.layers.Input(shape=(20,), dtype=tf.float32, name=\"input_total_line_numbers\"),\n",
        "    tf.keras.layers.Dense(32, activation=\"relu\")    \n",
        "],name=\"total_line_model\")\n",
        "\n",
        "# 5. Combine token and cher embeddings into a hybrid embedding\n",
        "combined_embeddings = tf.keras.layers.Concatenate(name=\"char_token_hybrid_embedding\")([token_model.output,\n",
        "                                                                                       char_model.output])\n",
        "z = tf.keras.layers.Dense(256, activation=\"relu\")(combined_embeddings)\n",
        "z = tf.keras.layers.Dropout(0.5)(z)\n",
        "\n",
        "# 6. Combine positional embedding with combined token and char embeddings \n",
        "tribrid_embeddings = tf.keras.layers.Concatenate(name=\"char_token_positional_embedding\")([line_number_model.output,\n",
        "                                                                                       total_line_model.output,\n",
        "                                                                                       combined_embeddings])\n",
        "# 7. Create output layer\n",
        "output_layer = tf.keras.layers.Dense(5, activation=\"softmax\", name=\"output_layer\")(tribrid_embeddings)\n",
        "\n",
        "# 8. Put together model with all kinds of inputs\n",
        "model_5 = tf.keras.Model(inputs=[line_number_model.input,\n",
        "                                 total_line_model.input,\n",
        "                                 token_model.input,\n",
        "                                 char_model.input], outputs =output_layer, name=\"tribrid_embedding_model\")"
      ],
      "metadata": {
        "id": "6VwUVMJoZoGY"
      },
      "execution_count": 103,
      "outputs": []
    },
    {
      "cell_type": "code",
      "source": [
        "model_5.summary()"
      ],
      "metadata": {
        "colab": {
          "base_uri": "https://localhost:8080/"
        },
        "id": "ywp25jlhJP11",
        "outputId": "3ae5b10c-b10b-44eb-eb74-e2834fd258a7"
      },
      "execution_count": 104,
      "outputs": [
        {
          "output_type": "stream",
          "name": "stdout",
          "text": [
            "Model: \"tribrid_embedding_model\"\n",
            "__________________________________________________________________________________________________\n",
            " Layer (type)                   Output Shape         Param #     Connected to                     \n",
            "==================================================================================================\n",
            " char_inputs (InputLayer)       [(None, 1)]          0           []                               \n",
            "                                                                                                  \n",
            " token_inputs (InputLayer)      [(None,)]            0           []                               \n",
            "                                                                                                  \n",
            " char_vectorizer (TextVectoriza  (None, 290)         0           ['char_inputs[0][0]']            \n",
            " tion)                                                                                            \n",
            "                                                                                                  \n",
            " universal_sentence_encoder (Ke  (None, 512)         256797824   ['token_inputs[0][0]']           \n",
            " rasLayer)                                                                                        \n",
            "                                                                                                  \n",
            " char_embed (Embedding)         (None, 290, 25)      700         ['char_vectorizer[2][0]']        \n",
            "                                                                                                  \n",
            " input_line_numbers (InputLayer  [(None, 15)]        0           []                               \n",
            " )                                                                                                \n",
            "                                                                                                  \n",
            " input_total_line_numbers (Inpu  [(None, 20)]        0           []                               \n",
            " tLayer)                                                                                          \n",
            "                                                                                                  \n",
            " dense_5 (Dense)                (None, 128)          65664       ['universal_sentence_encoder[3][0\n",
            "                                                                 ]']                              \n",
            "                                                                                                  \n",
            " bi_lstm_output (Bidirectional)  (None, 48)          9600        ['char_embed[2][0]']             \n",
            "                                                                                                  \n",
            " dense_6 (Dense)                (None, 32)           512         ['input_line_numbers[0][0]']     \n",
            "                                                                                                  \n",
            " dense_7 (Dense)                (None, 32)           672         ['input_total_line_numbers[0][0]'\n",
            "                                                                 ]                                \n",
            "                                                                                                  \n",
            " char_token_hybrid_embedding (C  (None, 176)         0           ['dense_5[0][0]',                \n",
            " oncatenate)                                                      'bi_lstm_output[0][0]']         \n",
            "                                                                                                  \n",
            " char_token_positional_embeddin  (None, 240)         0           ['dense_6[0][0]',                \n",
            " g (Concatenate)                                                  'dense_7[0][0]',                \n",
            "                                                                  'char_token_hybrid_embedding[0][\n",
            "                                                                 0]']                             \n",
            "                                                                                                  \n",
            " output_layer (Dense)           (None, 5)            1205        ['char_token_positional_embedding\n",
            "                                                                 [0][0]']                         \n",
            "                                                                                                  \n",
            "==================================================================================================\n",
            "Total params: 256,876,177\n",
            "Trainable params: 78,353\n",
            "Non-trainable params: 256,797,824\n",
            "__________________________________________________________________________________________________\n"
          ]
        }
      ]
    },
    {
      "cell_type": "code",
      "source": [
        "# Plot hybrid token and charcter model\n",
        "from keras.utils import plot_model\n",
        "plot_model(model_5, show_shapes=True)"
      ],
      "metadata": {
        "colab": {
          "base_uri": "https://localhost:8080/",
          "height": 754
        },
        "id": "JjCPZCAAJqXq",
        "outputId": "4d18c7a7-c481-41e5-9b7a-eb432d3459f2"
      },
      "execution_count": 105,
      "outputs": [
        {
          "output_type": "execute_result",
          "data": {
            "image/png": "[encoded data removed]",
            "text/plain": [
              "<IPython.core.display.Image object>"
            ]
          },
          "metadata": {},
          "execution_count": 105
        }
      ]
    },
    {
      "cell_type": "markdown",
      "source": [
        "What is label smoothing?\n",
        "\n",
        "for example if our model gets too confident on a single class (e.g. its prediction probability is realyy high), it may get stuck on that class and not consider other classes...\n",
        "\n",
        "Really confident: `[0.0, 0.0, 1.0, 0.0, 0.0]`\n",
        "\n",
        "hat label smoothings does is it assings some of the value from the highest pred prob to other classes, it turn, hopefully improving generalization : `[0.01, 0.01, 0.96, 0.01, 0.01]`\n",
        "\n",
        "> for more on label smoothing, see this blog post from PyImageSearch : https://pyimagesearch.com/2019/12/30/label-smoothing-with-keras-tensorflow-and-deep-learning/"
      ],
      "metadata": {
        "id": "qcP_o73oMK79"
      }
    },
    {
      "cell_type": "code",
      "source": [
        "# Compile token, char, and positional embedding model\n",
        "model_5.compile(loss=tf.keras.losses.CategoricalCrossentropy(label_smoothing=0.2), # Helps to prevent overfiting\n",
        "                optimizer=tf.keras.optimizers.Adam(),\n",
        "                metrics=[\"accuracy\"])"
      ],
      "metadata": {
        "id": "mX_rS5xPeuDp"
      },
      "execution_count": 106,
      "outputs": []
    },
    {
      "cell_type": "markdown",
      "source": [
        "## Create tribrid embedding using embedding dataset using tf.data\n"
      ],
      "metadata": {
        "id": "kukMf7QyrB74"
      }
    },
    {
      "cell_type": "code",
      "source": [
        "# Create training and validation datasets (with all four kinds of input data)\n",
        "train_char_token_pos_data = tf.data.Dataset.from_tensor_slices((train_line_numbers_one_hot,\n",
        "                                                                train_total_lines_one_hot,\n",
        "                                                                train_sentences,\n",
        "                                                                train_chars))\n",
        "train_char_token_pos_labels = tf.data.Dataset.from_tensor_slices(train_labels_one_hot)\n",
        "train_char_token_pos_dataset = tf.data.Dataset.zip((train_char_token_pos_data, train_char_token_pos_labels))\n",
        "train_char_token_pos_dataset = train_char_token_pos_dataset.batch(32).prefetch(tf.data.AUTOTUNE)\n",
        "\n",
        "# DO THE SAME AS ABOVE BUT FOR THE VALIDATION DATASET\n",
        "val_char_token_pos_data = tf.data.Dataset.from_tensor_slices((val_line_numbers_one_hot,\n",
        "                                                                val_total_lines_one_hot,\n",
        "                                                                val_sentences,\n",
        "                                                                val_chars))\n",
        "val_char_token_pos_labels = tf.data.Dataset.from_tensor_slices(val_labels_one_hot)\n",
        "val_char_token_pos_dataset = tf.data.Dataset.zip((val_char_token_pos_data, val_char_token_pos_labels))\n",
        "val_char_token_pos_dataset = val_char_token_pos_dataset.batch(32).prefetch(tf.data.AUTOTUNE)\n"
      ],
      "metadata": {
        "id": "eXq6fBfUey9r"
      },
      "execution_count": 61,
      "outputs": []
    },
    {
      "cell_type": "code",
      "source": [
        "# Check input shapes\n",
        "train_char_token_pos_dataset, val_char_token_pos_dataset"
      ],
      "metadata": {
        "colab": {
          "base_uri": "https://localhost:8080/"
        },
        "id": "HyoDhr4Oi4lQ",
        "outputId": "8d6be274-255e-4bf6-b04d-4f2af4845e1b"
      },
      "execution_count": 108,
      "outputs": [
        {
          "output_type": "execute_result",
          "data": {
            "text/plain": [
              "(<PrefetchDataset element_spec=((TensorSpec(shape=(None, 15), dtype=tf.float32, name=None), TensorSpec(shape=(None, 20), dtype=tf.float32, name=None), TensorSpec(shape=(None,), dtype=tf.string, name=None), TensorSpec(shape=(None,), dtype=tf.string, name=None)), TensorSpec(shape=(None, 5), dtype=tf.float64, name=None))>,\n",
              " <PrefetchDataset element_spec=((TensorSpec(shape=(None, 15), dtype=tf.float32, name=None), TensorSpec(shape=(None, 20), dtype=tf.float32, name=None), TensorSpec(shape=(None,), dtype=tf.string, name=None), TensorSpec(shape=(None,), dtype=tf.string, name=None)), TensorSpec(shape=(None, 5), dtype=tf.float64, name=None))>)"
            ]
          },
          "metadata": {},
          "execution_count": 108
        }
      ]
    },
    {
      "cell_type": "markdown",
      "source": [
        "### Fitting, evaluating and making prediction with our tribrid model"
      ],
      "metadata": {
        "id": "nTfLZqHjwgaT"
      }
    },
    {
      "cell_type": "code",
      "source": [
        "history_model_5 = model_5.fit(train_char_token_pos_dataset,\n",
        "                              steps_per_epoch=int(0.1*len(train_char_token_pos_dataset)),\n",
        "                              epochs = 3,\n",
        "                              validation_data = val_char_token_pos_dataset,\n",
        "                              validation_steps = int(0.1*len(val_char_token_pos_dataset)),\n",
        "                              callbacks=[helper_functions.create_tensorboard_callback(dir_name=\"tensorboard\",\n",
        "                                                                                      experiment_name=\"model_5_concat_4models\")])"
      ],
      "metadata": {
        "colab": {
          "base_uri": "https://localhost:8080/"
        },
        "id": "anS7HgqOvw2w",
        "outputId": "a4c083e1-5e35-4fb6-b455-a5121afb7eea"
      },
      "execution_count": 109,
      "outputs": [
        {
          "output_type": "stream",
          "name": "stdout",
          "text": [
            "Saving TensorBoard log files to: tensorboard/model_5_concat_4models/20230221-213739\n",
            "Epoch 1/3\n",
            "562/562 [==============================] - 52s 72ms/step - loss: 1.1019 - accuracy: 0.7255 - val_loss: 0.9809 - val_accuracy: 0.8051\n",
            "Epoch 2/3\n",
            "562/562 [==============================] - 37s 65ms/step - loss: 0.9721 - accuracy: 0.8120 - val_loss: 0.9614 - val_accuracy: 0.8164\n",
            "Epoch 3/3\n",
            "562/562 [==============================] - 44s 78ms/step - loss: 0.9559 - accuracy: 0.8200 - val_loss: 0.9553 - val_accuracy: 0.8221\n"
          ]
        }
      ]
    },
    {
      "cell_type": "code",
      "source": [
        "model_5.summary()"
      ],
      "metadata": {
        "colab": {
          "base_uri": "https://localhost:8080/"
        },
        "id": "tRc2RMHsxklL",
        "outputId": "f320ab58-8d59-4657-8615-aac608fc7dac"
      },
      "execution_count": 110,
      "outputs": [
        {
          "output_type": "stream",
          "name": "stdout",
          "text": [
            "Model: \"tribrid_embedding_model\"\n",
            "__________________________________________________________________________________________________\n",
            " Layer (type)                   Output Shape         Param #     Connected to                     \n",
            "==================================================================================================\n",
            " char_inputs (InputLayer)       [(None, 1)]          0           []                               \n",
            "                                                                                                  \n",
            " token_inputs (InputLayer)      [(None,)]            0           []                               \n",
            "                                                                                                  \n",
            " char_vectorizer (TextVectoriza  (None, 290)         0           ['char_inputs[0][0]']            \n",
            " tion)                                                                                            \n",
            "                                                                                                  \n",
            " universal_sentence_encoder (Ke  (None, 512)         256797824   ['token_inputs[0][0]']           \n",
            " rasLayer)                                                                                        \n",
            "                                                                                                  \n",
            " char_embed (Embedding)         (None, 290, 25)      700         ['char_vectorizer[2][0]']        \n",
            "                                                                                                  \n",
            " input_line_numbers (InputLayer  [(None, 15)]        0           []                               \n",
            " )                                                                                                \n",
            "                                                                                                  \n",
            " input_total_line_numbers (Inpu  [(None, 20)]        0           []                               \n",
            " tLayer)                                                                                          \n",
            "                                                                                                  \n",
            " dense_5 (Dense)                (None, 128)          65664       ['universal_sentence_encoder[3][0\n",
            "                                                                 ]']                              \n",
            "                                                                                                  \n",
            " bi_lstm_output (Bidirectional)  (None, 48)          9600        ['char_embed[2][0]']             \n",
            "                                                                                                  \n",
            " dense_6 (Dense)                (None, 32)           512         ['input_line_numbers[0][0]']     \n",
            "                                                                                                  \n",
            " dense_7 (Dense)                (None, 32)           672         ['input_total_line_numbers[0][0]'\n",
            "                                                                 ]                                \n",
            "                                                                                                  \n",
            " char_token_hybrid_embedding (C  (None, 176)         0           ['dense_5[0][0]',                \n",
            " oncatenate)                                                      'bi_lstm_output[0][0]']         \n",
            "                                                                                                  \n",
            " char_token_positional_embeddin  (None, 240)         0           ['dense_6[0][0]',                \n",
            " g (Concatenate)                                                  'dense_7[0][0]',                \n",
            "                                                                  'char_token_hybrid_embedding[0][\n",
            "                                                                 0]']                             \n",
            "                                                                                                  \n",
            " output_layer (Dense)           (None, 5)            1205        ['char_token_positional_embedding\n",
            "                                                                 [0][0]']                         \n",
            "                                                                                                  \n",
            "==================================================================================================\n",
            "Total params: 256,876,177\n",
            "Trainable params: 78,353\n",
            "Non-trainable params: 256,797,824\n",
            "__________________________________________________________________________________________________\n"
          ]
        }
      ]
    },
    {
      "cell_type": "code",
      "source": [
        "model_5.evaluate(val_char_token_pos_dataset)"
      ],
      "metadata": {
        "colab": {
          "base_uri": "https://localhost:8080/"
        },
        "id": "aIB6e1kOxK9q",
        "outputId": "17d716b3-18dd-40e3-b404-af506d2200a0"
      },
      "execution_count": 111,
      "outputs": [
        {
          "output_type": "stream",
          "name": "stdout",
          "text": [
            "5627/5627 [==============================] - 126s 22ms/step - loss: 0.9533 - accuracy: 0.8236\n"
          ]
        },
        {
          "output_type": "execute_result",
          "data": {
            "text/plain": [
              "[0.953260064125061, 0.8236392140388489]"
            ]
          },
          "metadata": {},
          "execution_count": 111
        }
      ]
    },
    {
      "cell_type": "code",
      "source": [
        "model_5_pred_probs = model_5.predict(val_char_token_pos_dataset)\n",
        "model_5_preds = tf.argmax(model_5_pred_probs, axis=1)\n",
        "model_5_preds[:5]"
      ],
      "metadata": {
        "colab": {
          "base_uri": "https://localhost:8080/"
        },
        "id": "xuFPz62BxQCA",
        "outputId": "66a9e3df-f556-4e2e-ecb2-2fcaac02fe6f"
      },
      "execution_count": 112,
      "outputs": [
        {
          "output_type": "stream",
          "name": "stdout",
          "text": [
            "5627/5627 [==============================] - 129s 22ms/step\n"
          ]
        },
        {
          "output_type": "execute_result",
          "data": {
            "text/plain": [
              "<tf.Tensor: shape=(5,), dtype=int64, numpy=array([3, 2, 2, 2, 2])>"
            ]
          },
          "metadata": {},
          "execution_count": 112
        }
      ]
    },
    {
      "cell_type": "code",
      "source": [
        "model_5_results = helper_functions.calculate_results(y_true=val_labels_encoded, y_pred=model_5_preds)\n",
        "model_5_results"
      ],
      "metadata": {
        "colab": {
          "base_uri": "https://localhost:8080/"
        },
        "id": "l37DoOhOxxK4",
        "outputId": "932368dc-b5ca-4804-8fbd-da05fbd0a8f2"
      },
      "execution_count": 118,
      "outputs": [
        {
          "output_type": "execute_result",
          "data": {
            "text/plain": [
              "{'accuracy': 82.36391912908243,\n",
              " 'precision': 0.822609805418878,\n",
              " 'recall': 0.8236391912908243,\n",
              " 'f1': 0.8228014714563803}"
            ]
          },
          "metadata": {},
          "execution_count": 118
        }
      ]
    },
    {
      "cell_type": "code",
      "source": [
        "model_4_results"
      ],
      "metadata": {
        "colab": {
          "base_uri": "https://localhost:8080/"
        },
        "id": "VJPFiGOky8QS",
        "outputId": "1011bf3b-191b-4a2e-cfbe-105bc7d16714"
      },
      "execution_count": 114,
      "outputs": [
        {
          "output_type": "execute_result",
          "data": {
            "text/plain": [
              "{'accuracy': 73.49644523439235,\n",
              " 'precision': 0.7363666101408224,\n",
              " 'recall': 0.7349644523439236,\n",
              " 'f1': 0.7314422352041032}"
            ]
          },
          "metadata": {},
          "execution_count": 114
        }
      ]
    },
    {
      "cell_type": "markdown",
      "source": [
        "## Compare model results"
      ],
      "metadata": {
        "id": "5h5Cq5sa7vy6"
      }
    },
    {
      "cell_type": "code",
      "source": [
        "# Combine model results into a dataframe\n",
        "all_model_results = pd.DataFrame({\"model_0_baseline\": model_0_results,\n",
        "                                 \"model_1_custom_token_embedding\": model_1_results,\n",
        "                                 \"model_2_pretrained_token_embedding\": model_2_results,\n",
        "                                 \"model_3_custom_char_embedding\": model_3_results,\n",
        "                                 \"model_4_hybrid_char_token_embedding\": model_4_results,\n",
        "                                 \"model_5_pos_char_token_embedding\": model_5_results})\n",
        "all_model_results = all_model_results.transpose()\n",
        "all_model_results"
      ],
      "metadata": {
        "colab": {
          "base_uri": "https://localhost:8080/",
          "height": 238
        },
        "id": "gMR0ySuNybOS",
        "outputId": "2dd17531-18af-4577-84ad-1c6fa1d8e2f5"
      },
      "execution_count": 119,
      "outputs": [
        {
          "output_type": "execute_result",
          "data": {
            "text/plain": [
              "                                      accuracy  precision    recall        f1\n",
              "model_0_baseline                     75.168296   0.755612  0.751683  0.734085\n",
              "model_1_custom_token_embedding       79.932237   0.796499  0.799322  0.796943\n",
              "model_2_pretrained_token_embedding   71.249722   0.715009  0.712497  0.709910\n",
              "model_3_custom_char_embedding        65.629305   0.652535  0.656293  0.644773\n",
              "model_4_hybrid_char_token_embedding  73.496445   0.736367  0.734964  0.731442\n",
              "model_5_pos_char_token_embedding     82.363919   0.822610  0.823639  0.822801"
            ],
            "text/html": [
              "\n",
              "  <div id=\"df-1eae1e03-3660-4d91-ad18-5e09b9ae0268\">\n",
              "    <div class=\"colab-df-container\">\n",
              "      <div>\n",
              "<style scoped>\n",
              "    .dataframe tbody tr th:only-of-type {\n",
              "        vertical-align: middle;\n",
              "    }\n",
              "\n",
              "    .dataframe tbody tr th {\n",
              "        vertical-align: top;\n",
              "    }\n",
              "\n",
              "    .dataframe thead th {\n",
              "        text-align: right;\n",
              "    }\n",
              "</style>\n",
              "<table border=\"1\" class=\"dataframe\">\n",
              "  <thead>\n",
              "    <tr style=\"text-align: right;\">\n",
              "      <th></th>\n",
              "      <th>accuracy</th>\n",
              "      <th>precision</th>\n",
              "      <th>recall</th>\n",
              "      <th>f1</th>\n",
              "    </tr>\n",
              "  </thead>\n",
              "  <tbody>\n",
              "    <tr>\n",
              "      <th>model_0_baseline</th>\n",
              "      <td>75.168296</td>\n",
              "      <td>0.755612</td>\n",
              "      <td>0.751683</td>\n",
              "      <td>0.734085</td>\n",
              "    </tr>\n",
              "    <tr>\n",
              "      <th>model_1_custom_token_embedding</th>\n",
              "      <td>79.932237</td>\n",
              "      <td>0.796499</td>\n",
              "      <td>0.799322</td>\n",
              "      <td>0.796943</td>\n",
              "    </tr>\n",
              "    <tr>\n",
              "      <th>model_2_pretrained_token_embedding</th>\n",
              "      <td>71.249722</td>\n",
              "      <td>0.715009</td>\n",
              "      <td>0.712497</td>\n",
              "      <td>0.709910</td>\n",
              "    </tr>\n",
              "    <tr>\n",
              "      <th>model_3_custom_char_embedding</th>\n",
              "      <td>65.629305</td>\n",
              "      <td>0.652535</td>\n",
              "      <td>0.656293</td>\n",
              "      <td>0.644773</td>\n",
              "    </tr>\n",
              "    <tr>\n",
              "      <th>model_4_hybrid_char_token_embedding</th>\n",
              "      <td>73.496445</td>\n",
              "      <td>0.736367</td>\n",
              "      <td>0.734964</td>\n",
              "      <td>0.731442</td>\n",
              "    </tr>\n",
              "    <tr>\n",
              "      <th>model_5_pos_char_token_embedding</th>\n",
              "      <td>82.363919</td>\n",
              "      <td>0.822610</td>\n",
              "      <td>0.823639</td>\n",
              "      <td>0.822801</td>\n",
              "    </tr>\n",
              "  </tbody>\n",
              "</table>\n",
              "</div>\n",
              "      <button class=\"colab-df-convert\" onclick=\"convertToInteractive('df-1eae1e03-3660-4d91-ad18-5e09b9ae0268')\"\n",
              "              title=\"Convert this dataframe to an interactive table.\"\n",
              "              style=\"display:none;\">\n",
              "        \n",
              "  <svg xmlns=\"http://www.w3.org/2000/svg\" height=\"24px\"viewBox=\"0 0 24 24\"\n",
              "       width=\"24px\">\n",
              "    <path d=\"M0 0h24v24H0V0z\" fill=\"none\"/>\n",
              "    <path d=\"M18.56 5.44l.94 2.06.94-2.06 2.06-.94-2.06-.94-.94-2.06-.94 2.06-2.06.94zm-11 1L8.5 8.5l.94-2.06 2.06-.94-2.06-.94L8.5 2.5l-.94 2.06-2.06.94zm10 10l.94 2.06.94-2.06 2.06-.94-2.06-.94-.94-2.06-.94 2.06-2.06.94z\"/><path d=\"M17.41 7.96l-1.37-1.37c-.4-.4-.92-.59-1.43-.59-.52 0-1.04.2-1.43.59L10.3 9.45l-7.72 7.72c-.78.78-.78 2.05 0 2.83L4 21.41c.39.39.9.59 1.41.59.51 0 1.02-.2 1.41-.59l7.78-7.78 2.81-2.81c.8-.78.8-2.07 0-2.86zM5.41 20L4 18.59l7.72-7.72 1.47 1.35L5.41 20z\"/>\n",
              "  </svg>\n",
              "      </button>\n",
              "      \n",
              "  <style>\n",
              "    .colab-df-container {\n",
              "      display:flex;\n",
              "      flex-wrap:wrap;\n",
              "      gap: 12px;\n",
              "    }\n",
              "\n",
              "    .colab-df-convert {\n",
              "      background-color: #E8F0FE;\n",
              "      border: none;\n",
              "      border-radius: 50%;\n",
              "      cursor: pointer;\n",
              "      display: none;\n",
              "      fill: #1967D2;\n",
              "      height: 32px;\n",
              "      padding: 0 0 0 0;\n",
              "      width: 32px;\n",
              "    }\n",
              "\n",
              "    .colab-df-convert:hover {\n",
              "      background-color: #E2EBFA;\n",
              "      box-shadow: 0px 1px 2px rgba(60, 64, 67, 0.3), 0px 1px 3px 1px rgba(60, 64, 67, 0.15);\n",
              "      fill: #174EA6;\n",
              "    }\n",
              "\n",
              "    [theme=dark] .colab-df-convert {\n",
              "      background-color: #3B4455;\n",
              "      fill: #D2E3FC;\n",
              "    }\n",
              "\n",
              "    [theme=dark] .colab-df-convert:hover {\n",
              "      background-color: #434B5C;\n",
              "      box-shadow: 0px 1px 3px 1px rgba(0, 0, 0, 0.15);\n",
              "      filter: drop-shadow(0px 1px 2px rgba(0, 0, 0, 0.3));\n",
              "      fill: #FFFFFF;\n",
              "    }\n",
              "  </style>\n",
              "\n",
              "      <script>\n",
              "        const buttonEl =\n",
              "          document.querySelector('#df-1eae1e03-3660-4d91-ad18-5e09b9ae0268 button.colab-df-convert');\n",
              "        buttonEl.style.display =\n",
              "          google.colab.kernel.accessAllowed ? 'block' : 'none';\n",
              "\n",
              "        async function convertToInteractive(key) {\n",
              "          const element = document.querySelector('#df-1eae1e03-3660-4d91-ad18-5e09b9ae0268');\n",
              "          const dataTable =\n",
              "            await google.colab.kernel.invokeFunction('convertToInteractive',\n",
              "                                                     [key], {});\n",
              "          if (!dataTable) return;\n",
              "\n",
              "          const docLinkHtml = 'Like what you see? Visit the ' +\n",
              "            '<a target=\"_blank\" href=https://colab.research.google.com/notebooks/data_table.ipynb>data table notebook</a>'\n",
              "            + ' to learn more about interactive tables.';\n",
              "          element.innerHTML = '';\n",
              "          dataTable['output_type'] = 'display_data';\n",
              "          await google.colab.output.renderOutput(dataTable, element);\n",
              "          const docLink = document.createElement('div');\n",
              "          docLink.innerHTML = docLinkHtml;\n",
              "          element.appendChild(docLink);\n",
              "        }\n",
              "      </script>\n",
              "    </div>\n",
              "  </div>\n",
              "  "
            ]
          },
          "metadata": {},
          "execution_count": 119
        }
      ]
    },
    {
      "cell_type": "code",
      "source": [
        "# Reduce the accuracy to same scale as other metrics\n",
        "all_model_results[\"accuracy\"] = all_model_results[\"accuracy\"]/100"
      ],
      "metadata": {
        "id": "a-Ng8PD_8sEf"
      },
      "execution_count": 120,
      "outputs": []
    },
    {
      "cell_type": "code",
      "source": [
        "# Plot and compare all model results\n",
        "all_model_results.plot(kind=\"bar\", figsize=(10,7)).legend(bbox_to_anchor=(1.0,1.0))"
      ],
      "metadata": {
        "colab": {
          "base_uri": "https://localhost:8080/",
          "height": 636
        },
        "id": "nSeUtjIK-2jv",
        "outputId": "8ea5d9b6-fb73-4751-9ce6-f778e7496969"
      },
      "execution_count": 121,
      "outputs": [
        {
          "output_type": "execute_result",
          "data": {
            "text/plain": [
              "<matplotlib.legend.Legend at 0x7fae1e20f400>"
            ]
          },
          "metadata": {},
          "execution_count": 121
        },
        {
          "output_type": "display_data",
          "data": {
            "text/plain": [
              "<Figure size 720x504 with 1 Axes>"
            ],
            "image/png": "[encoded data removed]"
          },
          "metadata": {
            "needs_background": "light"
          }
        }
      ]
    },
    {
      "cell_type": "code",
      "source": [
        "# Sort model results by f1-score \n",
        "all_model_results.sort_values(\"f1\", ascending=True)[\"f1\"].plot(kind=\"bar\", figsize=(10,7))"
      ],
      "metadata": {
        "colab": {
          "base_uri": "https://localhost:8080/",
          "height": 183
        },
        "id": "n7nefr3o_GzP",
        "outputId": "b6b4a07c-2691-4b84-c270-07b2d986231a"
      },
      "execution_count": 1,
      "outputs": [
        {
          "output_type": "error",
          "ename": "NameError",
          "evalue": "ignored",
          "traceback": [
            "\u001b[0;31m---------------------------------------------------------------------------\u001b[0m",
            "\u001b[0;31mNameError\u001b[0m                                 Traceback (most recent call last)",
            "\u001b[0;32m<ipython-input-1-5e60429be28e>\u001b[0m in \u001b[0;36m<module>\u001b[0;34m\u001b[0m\n\u001b[1;32m      1\u001b[0m \u001b[0;31m# Sort model results by f1-score\u001b[0m\u001b[0;34m\u001b[0m\u001b[0;34m\u001b[0m\u001b[0;34m\u001b[0m\u001b[0m\n\u001b[0;32m----> 2\u001b[0;31m \u001b[0mall_model_results\u001b[0m\u001b[0;34m.\u001b[0m\u001b[0msort_values\u001b[0m\u001b[0;34m(\u001b[0m\u001b[0;34m\"f1\"\u001b[0m\u001b[0;34m,\u001b[0m \u001b[0mascending\u001b[0m\u001b[0;34m=\u001b[0m\u001b[0;32mTrue\u001b[0m\u001b[0;34m)\u001b[0m\u001b[0;34m[\u001b[0m\u001b[0;34m\"f1\"\u001b[0m\u001b[0;34m]\u001b[0m\u001b[0;34m.\u001b[0m\u001b[0mplot\u001b[0m\u001b[0;34m(\u001b[0m\u001b[0mkind\u001b[0m\u001b[0;34m=\u001b[0m\u001b[0;34m\"bar\"\u001b[0m\u001b[0;34m,\u001b[0m \u001b[0mfigsize\u001b[0m\u001b[0;34m=\u001b[0m\u001b[0;34m(\u001b[0m\u001b[0;36m10\u001b[0m\u001b[0;34m,\u001b[0m\u001b[0;36m7\u001b[0m\u001b[0;34m)\u001b[0m\u001b[0;34m)\u001b[0m\u001b[0;34m\u001b[0m\u001b[0;34m\u001b[0m\u001b[0m\n\u001b[0m",
            "\u001b[0;31mNameError\u001b[0m: name 'all_model_results' is not defined"
          ]
        }
      ]
    },
    {
      "cell_type": "code",
      "source": [
        "# save the model\n",
        "\n",
        "#model_0.save(\"save_models/model_0.H5\")\n",
        "#model_1.save(\"save_models/model_1.H5\")\n",
        "#model_2.save(\"save_models/model_2.H5\")\n",
        "#model_3.save(\"save_models/model_3.H5\")\n",
        "#model_4.save(\"save_models/model_4.H5\")\n",
        "model_5.save(\"drive/MyDrive/save_models/model_5.H5\")\n"
      ],
      "metadata": {
        "colab": {
          "base_uri": "https://localhost:8080/"
        },
        "id": "7hidFxB1_625",
        "outputId": "fb52bfa0-dc0b-4199-ade2-b8f288e608a0"
      },
      "execution_count": 126,
      "outputs": [
        {
          "output_type": "stream",
          "name": "stderr",
          "text": [
            "WARNING:absl:Found untraced functions such as lstm_cell_4_layer_call_fn, lstm_cell_4_layer_call_and_return_conditional_losses, lstm_cell_5_layer_call_fn, lstm_cell_5_layer_call_and_return_conditional_losses while saving (showing 4 of 4). These functions will not be directly callable after loading.\n"
          ]
        }
      ]
    },
    {
      "cell_type": "code",
      "source": [
        "import tensorflow as tf\n",
        "import tensorflow_hub as hub\n",
        "loaded_model_5 = tf.keras.models.load_model(\"drive/MyDrive/save_models/model_5.H5\",\n",
        "                                     custom_objects={\"KerasLayer\": hub.KerasLayer})"
      ],
      "metadata": {
        "id": "YF8JWS8UAZZT"
      },
      "execution_count": 63,
      "outputs": []
    },
    {
      "cell_type": "code",
      "source": [
        "# How does our loaded model perform?\n",
        "loaded_model_5.evaluate(val_char_token_pos_dataset)"
      ],
      "metadata": {
        "colab": {
          "base_uri": "https://localhost:8080/"
        },
        "id": "NvXLiiztK0D-",
        "outputId": "56453fb1-70ef-47cc-e927-d06301e4c207"
      },
      "execution_count": null,
      "outputs": [
        {
          "output_type": "stream",
          "name": "stdout",
          "text": [
            "5626/5627 [============================>.] - ETA: 0s - loss: 0.9533 - accuracy: 0.8236"
          ]
        }
      ]
    },
    {
      "cell_type": "code",
      "source": [],
      "metadata": {
        "id": "LqAXrsNXMYKh"
      },
      "execution_count": null,
      "outputs": []
    }
  ]
}